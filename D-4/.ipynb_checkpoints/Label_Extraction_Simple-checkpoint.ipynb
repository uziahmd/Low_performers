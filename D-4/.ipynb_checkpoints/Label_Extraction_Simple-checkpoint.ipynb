{
 "cells": [
  {
   "cell_type": "code",
   "execution_count": 1,
   "id": "c69f725a",
   "metadata": {},
   "outputs": [],
   "source": [
    "from Funcs.Utility import *\n",
    "import numpy as np\n",
    "import pandas as pd\n",
    "from typing import Dict, Callable, Union, Tuple, List, Optional, Iterable\n",
    "from datetime import timedelta as td\n",
    "from scipy import stats\n",
    "import ray\n",
    "import warnings\n",
    "import time\n",
    "import ray\n",
    "import dask"
   ]
  },
  {
   "cell_type": "code",
   "execution_count": 2,
   "id": "d0e9f7b2",
   "metadata": {},
   "outputs": [
    {
     "name": "stdout",
     "output_type": "stream",
     "text": [
      "1.5.3\n"
     ]
    }
   ],
   "source": [
    "import pandas as pd\n",
    "print(pd.__version__)"
   ]
  },
  {
   "cell_type": "code",
   "execution_count": 3,
   "id": "4c53dfdf",
   "metadata": {},
   "outputs": [
    {
     "name": "stdout",
     "output_type": "stream",
     "text": [
      "/var/nfs_share/D#4/newdata\n"
     ]
    }
   ],
   "source": [
    "print(PATH_SENSOR)"
   ]
  },
  {
   "cell_type": "code",
   "execution_count": 4,
   "id": "7a479c8e",
   "metadata": {},
   "outputs": [],
   "source": [
    "def aggregate_steps_by_hour(path_sensor):\n",
    "    # Create an empty dataframe to store the results\n",
    "    aggregated_data = pd.DataFrame(columns=['pcode', 'timestamp', 'step_count'])\n",
    "    \n",
    "    # Loop through each folder in the directory\n",
    "    for pcode in range(1, 136):\n",
    "        folder_name = f'P{str(pcode).zfill(3)}'\n",
    "        folder_path = os.path.join(path_sensor, folder_name)\n",
    "        \n",
    "        if not os.path.isdir(folder_path):\n",
    "            continue\n",
    "        \n",
    "        # Path to the Fitbit-StepCount.csv file\n",
    "        file_path = os.path.join(folder_path, 'Fitbit-StepCount.csv')\n",
    "        \n",
    "        if not os.path.isfile(file_path):\n",
    "            continue\n",
    "        \n",
    "        # Read the csv file\n",
    "        step_data = pd.read_csv(file_path)\n",
    "        \n",
    "        # Convert timestamp to datetime\n",
    "        step_data['timestamp'] = pd.to_datetime(step_data['timestamp'], unit='ms')\n",
    "        \n",
    "        # Set the timestamp as the index\n",
    "        step_data.set_index('timestamp', inplace=True)\n",
    "        \n",
    "        # Resample the data to 1-hour intervals and sum the step counts\n",
    "        hourly_data = step_data['value'].resample('H').sum().reset_index()\n",
    "        \n",
    "        # Add the pcode to the dataframe\n",
    "        hourly_data['pcode'] = folder_name\n",
    "        \n",
    "        # Rename columns to match the required output\n",
    "        hourly_data.rename(columns={'timestamp': 'timestamp', 'value': 'step_count'}, inplace=True)\n",
    "        \n",
    "        # Append the aggregated data to the final dataframe\n",
    "        aggregated_data = pd.concat([aggregated_data, hourly_data], ignore_index=True)\n",
    "    \n",
    "    return aggregated_data"
   ]
  },
  {
   "cell_type": "code",
   "execution_count": 5,
   "id": "a987b3a1",
   "metadata": {},
   "outputs": [],
   "source": [
    "aggregated_step_count_data = aggregate_steps_by_hour(PATH_SENSOR)"
   ]
  },
  {
   "cell_type": "code",
   "execution_count": 6,
   "id": "3506f946",
   "metadata": {},
   "outputs": [
    {
     "data": {
      "text/html": [
       "<div>\n",
       "<style scoped>\n",
       "    .dataframe tbody tr th:only-of-type {\n",
       "        vertical-align: middle;\n",
       "    }\n",
       "\n",
       "    .dataframe tbody tr th {\n",
       "        vertical-align: top;\n",
       "    }\n",
       "\n",
       "    .dataframe thead th {\n",
       "        text-align: right;\n",
       "    }\n",
       "</style>\n",
       "<table border=\"1\" class=\"dataframe\">\n",
       "  <thead>\n",
       "    <tr style=\"text-align: right;\">\n",
       "      <th></th>\n",
       "      <th>pcode</th>\n",
       "      <th>timestamp</th>\n",
       "      <th>step_count</th>\n",
       "    </tr>\n",
       "  </thead>\n",
       "  <tbody>\n",
       "    <tr>\n",
       "      <th>0</th>\n",
       "      <td>P001</td>\n",
       "      <td>2021-11-24 02:00:00</td>\n",
       "      <td>726</td>\n",
       "    </tr>\n",
       "    <tr>\n",
       "      <th>1</th>\n",
       "      <td>P001</td>\n",
       "      <td>2021-11-24 03:00:00</td>\n",
       "      <td>437</td>\n",
       "    </tr>\n",
       "    <tr>\n",
       "      <th>2</th>\n",
       "      <td>P001</td>\n",
       "      <td>2021-11-24 04:00:00</td>\n",
       "      <td>627</td>\n",
       "    </tr>\n",
       "    <tr>\n",
       "      <th>3</th>\n",
       "      <td>P001</td>\n",
       "      <td>2021-11-24 05:00:00</td>\n",
       "      <td>291</td>\n",
       "    </tr>\n",
       "    <tr>\n",
       "      <th>4</th>\n",
       "      <td>P001</td>\n",
       "      <td>2021-11-24 06:00:00</td>\n",
       "      <td>269</td>\n",
       "    </tr>\n",
       "    <tr>\n",
       "      <th>...</th>\n",
       "      <td>...</td>\n",
       "      <td>...</td>\n",
       "      <td>...</td>\n",
       "    </tr>\n",
       "    <tr>\n",
       "      <th>76371</th>\n",
       "      <td>P135</td>\n",
       "      <td>2022-01-05 03:00:00</td>\n",
       "      <td>148</td>\n",
       "    </tr>\n",
       "    <tr>\n",
       "      <th>76372</th>\n",
       "      <td>P135</td>\n",
       "      <td>2022-01-05 04:00:00</td>\n",
       "      <td>796</td>\n",
       "    </tr>\n",
       "    <tr>\n",
       "      <th>76373</th>\n",
       "      <td>P135</td>\n",
       "      <td>2022-01-05 05:00:00</td>\n",
       "      <td>30</td>\n",
       "    </tr>\n",
       "    <tr>\n",
       "      <th>76374</th>\n",
       "      <td>P135</td>\n",
       "      <td>2022-01-05 06:00:00</td>\n",
       "      <td>7</td>\n",
       "    </tr>\n",
       "    <tr>\n",
       "      <th>76375</th>\n",
       "      <td>P135</td>\n",
       "      <td>2022-01-05 07:00:00</td>\n",
       "      <td>21</td>\n",
       "    </tr>\n",
       "  </tbody>\n",
       "</table>\n",
       "<p>76376 rows × 3 columns</p>\n",
       "</div>"
      ],
      "text/plain": [
       "      pcode           timestamp step_count\n",
       "0      P001 2021-11-24 02:00:00        726\n",
       "1      P001 2021-11-24 03:00:00        437\n",
       "2      P001 2021-11-24 04:00:00        627\n",
       "3      P001 2021-11-24 05:00:00        291\n",
       "4      P001 2021-11-24 06:00:00        269\n",
       "...     ...                 ...        ...\n",
       "76371  P135 2022-01-05 03:00:00        148\n",
       "76372  P135 2022-01-05 04:00:00        796\n",
       "76373  P135 2022-01-05 05:00:00         30\n",
       "76374  P135 2022-01-05 06:00:00          7\n",
       "76375  P135 2022-01-05 07:00:00         21\n",
       "\n",
       "[76376 rows x 3 columns]"
      ]
     },
     "execution_count": 6,
     "metadata": {},
     "output_type": "execute_result"
    }
   ],
   "source": [
    "aggregated_step_count_data"
   ]
  },
  {
   "cell_type": "code",
   "execution_count": 7,
   "id": "cccc0dfb",
   "metadata": {},
   "outputs": [],
   "source": [
    "output_path = os.path.join('Intermediate', 'labels_1h.csv')\n",
    "os.makedirs(os.path.dirname(output_path), exist_ok=True)\n",
    "aggregated_step_count_data.to_csv(output_path)"
   ]
  },
  {
   "cell_type": "markdown",
   "id": "a61f22e4",
   "metadata": {},
   "source": [
    "EDA"
   ]
  },
  {
   "cell_type": "code",
   "execution_count": 8,
   "id": "885adfe6",
   "metadata": {},
   "outputs": [],
   "source": [
    "import pandas as pd\n",
    "import matplotlib.pyplot as plt\n",
    "import seaborn as sns"
   ]
  },
  {
   "cell_type": "code",
   "execution_count": 9,
   "id": "27f9d836",
   "metadata": {},
   "outputs": [],
   "source": [
    "input_path = os.path.join('Intermediate', 'labels_1h.csv')\n",
    "aggregated_step_count_data = pd.read_csv(input_path)"
   ]
  },
  {
   "cell_type": "code",
   "execution_count": null,
   "id": "66ac65cf",
   "metadata": {},
   "outputs": [],
   "source": []
  }
 ],
 "metadata": {
  "kernelspec": {
   "display_name": "Python 3 (ipykernel)",
   "language": "python",
   "name": "python3"
  },
  "language_info": {
   "codemirror_mode": {
    "name": "ipython",
    "version": 3
   },
   "file_extension": ".py",
   "mimetype": "text/x-python",
   "name": "python",
   "nbconvert_exporter": "python",
   "pygments_lexer": "ipython3",
   "version": "3.9.15"
  }
 },
 "nbformat": 4,
 "nbformat_minor": 5
}
