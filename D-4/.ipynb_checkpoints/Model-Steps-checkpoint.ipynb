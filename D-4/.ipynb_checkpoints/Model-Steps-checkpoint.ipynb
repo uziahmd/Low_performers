{
 "cells": [
  {
   "cell_type": "code",
   "execution_count": 1,
   "id": "acf59c96",
   "metadata": {},
   "outputs": [],
   "source": [
    "from Funcs.Utility import *"
   ]
  },
  {
   "cell_type": "code",
   "execution_count": 2,
   "id": "0103d768",
   "metadata": {},
   "outputs": [],
   "source": [
    "p = os.path.join(PATH_INTERMEDIATE, 'calorie_count_binary_personal-15min.pkl')\n",
    "X, y, groups, t, datetimes = load(p)"
   ]
  },
  {
   "cell_type": "code",
   "execution_count": 3,
   "id": "44afc544",
   "metadata": {},
   "outputs": [
    {
     "data": {
      "text/html": [
       "<div>\n",
       "<style scoped>\n",
       "    .dataframe tbody tr th:only-of-type {\n",
       "        vertical-align: middle;\n",
       "    }\n",
       "\n",
       "    .dataframe tbody tr th {\n",
       "        vertical-align: top;\n",
       "    }\n",
       "\n",
       "    .dataframe thead th {\n",
       "        text-align: right;\n",
       "    }\n",
       "</style>\n",
       "<table border=\"1\" class=\"dataframe\">\n",
       "  <thead>\n",
       "    <tr style=\"text-align: right;\">\n",
       "      <th></th>\n",
       "      <th>PIF#participationStartTimestamp</th>\n",
       "      <th>PIF#age</th>\n",
       "      <th>PIF#openness</th>\n",
       "      <th>PIF#conscientiousness</th>\n",
       "      <th>PIF#neuroticism</th>\n",
       "      <th>PIF#extraversion</th>\n",
       "      <th>PIF#agreeableness</th>\n",
       "      <th>PIF#GHQ12</th>\n",
       "      <th>PIF#PSS10</th>\n",
       "      <th>PIF#CESD-R</th>\n",
       "      <th>...</th>\n",
       "      <th>PWR#RLV_SUP_TodayAfternoon</th>\n",
       "      <th>PWR#ETP#_TodayLateAfternoon</th>\n",
       "      <th>PWR#ASC#_TodayLateAfternoon</th>\n",
       "      <th>PWR#RLV_SUP_TodayLateAfternoon</th>\n",
       "      <th>PWR#ETP#_TodayEvening</th>\n",
       "      <th>PWR#ASC#_TodayEvening</th>\n",
       "      <th>PWR#RLV_SUP_TodayEvening</th>\n",
       "      <th>PWR#ETP#_TodayNight</th>\n",
       "      <th>PWR#ASC#_TodayNight</th>\n",
       "      <th>PWR#RLV_SUP_TodayNight</th>\n",
       "    </tr>\n",
       "  </thead>\n",
       "  <tbody>\n",
       "    <tr>\n",
       "      <th>0</th>\n",
       "      <td>1.637712e+12</td>\n",
       "      <td>23.0</td>\n",
       "      <td>11.0</td>\n",
       "      <td>12.0</td>\n",
       "      <td>3.0</td>\n",
       "      <td>10.0</td>\n",
       "      <td>9.0</td>\n",
       "      <td>9.0</td>\n",
       "      <td>11.0</td>\n",
       "      <td>0.0</td>\n",
       "      <td>...</td>\n",
       "      <td>0.0</td>\n",
       "      <td>0.0</td>\n",
       "      <td>0.0</td>\n",
       "      <td>0.0</td>\n",
       "      <td>0.0</td>\n",
       "      <td>0.0</td>\n",
       "      <td>0.0</td>\n",
       "      <td>0.0</td>\n",
       "      <td>0.0</td>\n",
       "      <td>0.0</td>\n",
       "    </tr>\n",
       "    <tr>\n",
       "      <th>1</th>\n",
       "      <td>1.637712e+12</td>\n",
       "      <td>23.0</td>\n",
       "      <td>11.0</td>\n",
       "      <td>12.0</td>\n",
       "      <td>3.0</td>\n",
       "      <td>10.0</td>\n",
       "      <td>9.0</td>\n",
       "      <td>9.0</td>\n",
       "      <td>11.0</td>\n",
       "      <td>0.0</td>\n",
       "      <td>...</td>\n",
       "      <td>0.0</td>\n",
       "      <td>0.0</td>\n",
       "      <td>0.0</td>\n",
       "      <td>0.0</td>\n",
       "      <td>0.0</td>\n",
       "      <td>0.0</td>\n",
       "      <td>0.0</td>\n",
       "      <td>0.0</td>\n",
       "      <td>0.0</td>\n",
       "      <td>0.0</td>\n",
       "    </tr>\n",
       "    <tr>\n",
       "      <th>2</th>\n",
       "      <td>1.637712e+12</td>\n",
       "      <td>23.0</td>\n",
       "      <td>11.0</td>\n",
       "      <td>12.0</td>\n",
       "      <td>3.0</td>\n",
       "      <td>10.0</td>\n",
       "      <td>9.0</td>\n",
       "      <td>9.0</td>\n",
       "      <td>11.0</td>\n",
       "      <td>0.0</td>\n",
       "      <td>...</td>\n",
       "      <td>0.0</td>\n",
       "      <td>0.0</td>\n",
       "      <td>0.0</td>\n",
       "      <td>0.0</td>\n",
       "      <td>0.0</td>\n",
       "      <td>0.0</td>\n",
       "      <td>0.0</td>\n",
       "      <td>0.0</td>\n",
       "      <td>0.0</td>\n",
       "      <td>0.0</td>\n",
       "    </tr>\n",
       "    <tr>\n",
       "      <th>3</th>\n",
       "      <td>1.637712e+12</td>\n",
       "      <td>23.0</td>\n",
       "      <td>11.0</td>\n",
       "      <td>12.0</td>\n",
       "      <td>3.0</td>\n",
       "      <td>10.0</td>\n",
       "      <td>9.0</td>\n",
       "      <td>9.0</td>\n",
       "      <td>11.0</td>\n",
       "      <td>0.0</td>\n",
       "      <td>...</td>\n",
       "      <td>0.0</td>\n",
       "      <td>0.0</td>\n",
       "      <td>0.0</td>\n",
       "      <td>0.0</td>\n",
       "      <td>0.0</td>\n",
       "      <td>0.0</td>\n",
       "      <td>0.0</td>\n",
       "      <td>0.0</td>\n",
       "      <td>0.0</td>\n",
       "      <td>0.0</td>\n",
       "    </tr>\n",
       "    <tr>\n",
       "      <th>4</th>\n",
       "      <td>1.637712e+12</td>\n",
       "      <td>23.0</td>\n",
       "      <td>11.0</td>\n",
       "      <td>12.0</td>\n",
       "      <td>3.0</td>\n",
       "      <td>10.0</td>\n",
       "      <td>9.0</td>\n",
       "      <td>9.0</td>\n",
       "      <td>11.0</td>\n",
       "      <td>0.0</td>\n",
       "      <td>...</td>\n",
       "      <td>0.0</td>\n",
       "      <td>0.0</td>\n",
       "      <td>0.0</td>\n",
       "      <td>0.0</td>\n",
       "      <td>0.0</td>\n",
       "      <td>0.0</td>\n",
       "      <td>0.0</td>\n",
       "      <td>0.0</td>\n",
       "      <td>0.0</td>\n",
       "      <td>0.0</td>\n",
       "    </tr>\n",
       "    <tr>\n",
       "      <th>...</th>\n",
       "      <td>...</td>\n",
       "      <td>...</td>\n",
       "      <td>...</td>\n",
       "      <td>...</td>\n",
       "      <td>...</td>\n",
       "      <td>...</td>\n",
       "      <td>...</td>\n",
       "      <td>...</td>\n",
       "      <td>...</td>\n",
       "      <td>...</td>\n",
       "      <td>...</td>\n",
       "      <td>...</td>\n",
       "      <td>...</td>\n",
       "      <td>...</td>\n",
       "      <td>...</td>\n",
       "      <td>...</td>\n",
       "      <td>...</td>\n",
       "      <td>...</td>\n",
       "      <td>...</td>\n",
       "      <td>...</td>\n",
       "      <td>...</td>\n",
       "    </tr>\n",
       "    <tr>\n",
       "      <th>21614</th>\n",
       "      <td>1.638922e+12</td>\n",
       "      <td>20.0</td>\n",
       "      <td>10.0</td>\n",
       "      <td>8.0</td>\n",
       "      <td>4.0</td>\n",
       "      <td>7.0</td>\n",
       "      <td>14.0</td>\n",
       "      <td>7.0</td>\n",
       "      <td>12.0</td>\n",
       "      <td>4.0</td>\n",
       "      <td>...</td>\n",
       "      <td>0.0</td>\n",
       "      <td>0.0</td>\n",
       "      <td>0.0</td>\n",
       "      <td>0.0</td>\n",
       "      <td>0.0</td>\n",
       "      <td>0.0</td>\n",
       "      <td>0.0</td>\n",
       "      <td>0.0</td>\n",
       "      <td>0.0</td>\n",
       "      <td>0.0</td>\n",
       "    </tr>\n",
       "    <tr>\n",
       "      <th>21615</th>\n",
       "      <td>1.638922e+12</td>\n",
       "      <td>20.0</td>\n",
       "      <td>10.0</td>\n",
       "      <td>8.0</td>\n",
       "      <td>4.0</td>\n",
       "      <td>7.0</td>\n",
       "      <td>14.0</td>\n",
       "      <td>7.0</td>\n",
       "      <td>12.0</td>\n",
       "      <td>4.0</td>\n",
       "      <td>...</td>\n",
       "      <td>0.0</td>\n",
       "      <td>0.0</td>\n",
       "      <td>0.0</td>\n",
       "      <td>0.0</td>\n",
       "      <td>0.0</td>\n",
       "      <td>0.0</td>\n",
       "      <td>0.0</td>\n",
       "      <td>0.0</td>\n",
       "      <td>0.0</td>\n",
       "      <td>0.0</td>\n",
       "    </tr>\n",
       "    <tr>\n",
       "      <th>21616</th>\n",
       "      <td>1.638922e+12</td>\n",
       "      <td>20.0</td>\n",
       "      <td>10.0</td>\n",
       "      <td>8.0</td>\n",
       "      <td>4.0</td>\n",
       "      <td>7.0</td>\n",
       "      <td>14.0</td>\n",
       "      <td>7.0</td>\n",
       "      <td>12.0</td>\n",
       "      <td>4.0</td>\n",
       "      <td>...</td>\n",
       "      <td>0.0</td>\n",
       "      <td>0.0</td>\n",
       "      <td>0.0</td>\n",
       "      <td>0.0</td>\n",
       "      <td>0.0</td>\n",
       "      <td>0.0</td>\n",
       "      <td>0.0</td>\n",
       "      <td>0.0</td>\n",
       "      <td>0.0</td>\n",
       "      <td>0.0</td>\n",
       "    </tr>\n",
       "    <tr>\n",
       "      <th>21617</th>\n",
       "      <td>1.638922e+12</td>\n",
       "      <td>20.0</td>\n",
       "      <td>10.0</td>\n",
       "      <td>8.0</td>\n",
       "      <td>4.0</td>\n",
       "      <td>7.0</td>\n",
       "      <td>14.0</td>\n",
       "      <td>7.0</td>\n",
       "      <td>12.0</td>\n",
       "      <td>4.0</td>\n",
       "      <td>...</td>\n",
       "      <td>0.0</td>\n",
       "      <td>0.0</td>\n",
       "      <td>0.0</td>\n",
       "      <td>0.0</td>\n",
       "      <td>0.0</td>\n",
       "      <td>0.0</td>\n",
       "      <td>0.0</td>\n",
       "      <td>0.0</td>\n",
       "      <td>0.0</td>\n",
       "      <td>0.0</td>\n",
       "    </tr>\n",
       "    <tr>\n",
       "      <th>21618</th>\n",
       "      <td>1.638922e+12</td>\n",
       "      <td>20.0</td>\n",
       "      <td>10.0</td>\n",
       "      <td>8.0</td>\n",
       "      <td>4.0</td>\n",
       "      <td>7.0</td>\n",
       "      <td>14.0</td>\n",
       "      <td>7.0</td>\n",
       "      <td>12.0</td>\n",
       "      <td>4.0</td>\n",
       "      <td>...</td>\n",
       "      <td>0.0</td>\n",
       "      <td>0.0</td>\n",
       "      <td>0.0</td>\n",
       "      <td>0.0</td>\n",
       "      <td>0.0</td>\n",
       "      <td>0.0</td>\n",
       "      <td>0.0</td>\n",
       "      <td>0.0</td>\n",
       "      <td>0.0</td>\n",
       "      <td>0.0</td>\n",
       "    </tr>\n",
       "  </tbody>\n",
       "</table>\n",
       "<p>21619 rows × 2063 columns</p>\n",
       "</div>"
      ],
      "text/plain": [
       "       PIF#participationStartTimestamp  PIF#age  PIF#openness  \\\n",
       "0                         1.637712e+12     23.0          11.0   \n",
       "1                         1.637712e+12     23.0          11.0   \n",
       "2                         1.637712e+12     23.0          11.0   \n",
       "3                         1.637712e+12     23.0          11.0   \n",
       "4                         1.637712e+12     23.0          11.0   \n",
       "...                                ...      ...           ...   \n",
       "21614                     1.638922e+12     20.0          10.0   \n",
       "21615                     1.638922e+12     20.0          10.0   \n",
       "21616                     1.638922e+12     20.0          10.0   \n",
       "21617                     1.638922e+12     20.0          10.0   \n",
       "21618                     1.638922e+12     20.0          10.0   \n",
       "\n",
       "       PIF#conscientiousness  PIF#neuroticism  PIF#extraversion  \\\n",
       "0                       12.0              3.0              10.0   \n",
       "1                       12.0              3.0              10.0   \n",
       "2                       12.0              3.0              10.0   \n",
       "3                       12.0              3.0              10.0   \n",
       "4                       12.0              3.0              10.0   \n",
       "...                      ...              ...               ...   \n",
       "21614                    8.0              4.0               7.0   \n",
       "21615                    8.0              4.0               7.0   \n",
       "21616                    8.0              4.0               7.0   \n",
       "21617                    8.0              4.0               7.0   \n",
       "21618                    8.0              4.0               7.0   \n",
       "\n",
       "       PIF#agreeableness  PIF#GHQ12  PIF#PSS10  PIF#CESD-R  ...  \\\n",
       "0                    9.0        9.0       11.0         0.0  ...   \n",
       "1                    9.0        9.0       11.0         0.0  ...   \n",
       "2                    9.0        9.0       11.0         0.0  ...   \n",
       "3                    9.0        9.0       11.0         0.0  ...   \n",
       "4                    9.0        9.0       11.0         0.0  ...   \n",
       "...                  ...        ...        ...         ...  ...   \n",
       "21614               14.0        7.0       12.0         4.0  ...   \n",
       "21615               14.0        7.0       12.0         4.0  ...   \n",
       "21616               14.0        7.0       12.0         4.0  ...   \n",
       "21617               14.0        7.0       12.0         4.0  ...   \n",
       "21618               14.0        7.0       12.0         4.0  ...   \n",
       "\n",
       "       PWR#RLV_SUP_TodayAfternoon  PWR#ETP#_TodayLateAfternoon  \\\n",
       "0                             0.0                          0.0   \n",
       "1                             0.0                          0.0   \n",
       "2                             0.0                          0.0   \n",
       "3                             0.0                          0.0   \n",
       "4                             0.0                          0.0   \n",
       "...                           ...                          ...   \n",
       "21614                         0.0                          0.0   \n",
       "21615                         0.0                          0.0   \n",
       "21616                         0.0                          0.0   \n",
       "21617                         0.0                          0.0   \n",
       "21618                         0.0                          0.0   \n",
       "\n",
       "       PWR#ASC#_TodayLateAfternoon  PWR#RLV_SUP_TodayLateAfternoon  \\\n",
       "0                              0.0                             0.0   \n",
       "1                              0.0                             0.0   \n",
       "2                              0.0                             0.0   \n",
       "3                              0.0                             0.0   \n",
       "4                              0.0                             0.0   \n",
       "...                            ...                             ...   \n",
       "21614                          0.0                             0.0   \n",
       "21615                          0.0                             0.0   \n",
       "21616                          0.0                             0.0   \n",
       "21617                          0.0                             0.0   \n",
       "21618                          0.0                             0.0   \n",
       "\n",
       "       PWR#ETP#_TodayEvening  PWR#ASC#_TodayEvening  PWR#RLV_SUP_TodayEvening  \\\n",
       "0                        0.0                    0.0                       0.0   \n",
       "1                        0.0                    0.0                       0.0   \n",
       "2                        0.0                    0.0                       0.0   \n",
       "3                        0.0                    0.0                       0.0   \n",
       "4                        0.0                    0.0                       0.0   \n",
       "...                      ...                    ...                       ...   \n",
       "21614                    0.0                    0.0                       0.0   \n",
       "21615                    0.0                    0.0                       0.0   \n",
       "21616                    0.0                    0.0                       0.0   \n",
       "21617                    0.0                    0.0                       0.0   \n",
       "21618                    0.0                    0.0                       0.0   \n",
       "\n",
       "       PWR#ETP#_TodayNight  PWR#ASC#_TodayNight  PWR#RLV_SUP_TodayNight  \n",
       "0                      0.0                  0.0                     0.0  \n",
       "1                      0.0                  0.0                     0.0  \n",
       "2                      0.0                  0.0                     0.0  \n",
       "3                      0.0                  0.0                     0.0  \n",
       "4                      0.0                  0.0                     0.0  \n",
       "...                    ...                  ...                     ...  \n",
       "21614                  0.0                  0.0                     0.0  \n",
       "21615                  0.0                  0.0                     0.0  \n",
       "21616                  0.0                  0.0                     0.0  \n",
       "21617                  0.0                  0.0                     0.0  \n",
       "21618                  0.0                  0.0                     0.0  \n",
       "\n",
       "[21619 rows x 2063 columns]"
      ]
     },
     "execution_count": 3,
     "metadata": {},
     "output_type": "execute_result"
    }
   ],
   "source": [
    "X"
   ]
  },
  {
   "cell_type": "code",
   "execution_count": 4,
   "id": "deb6e277",
   "metadata": {},
   "outputs": [],
   "source": [
    "#Divide the features into different categories\n",
    "feat_current = X.loc[:,[('#VAL' in str(x)) or ('ESM#LastLabel' in str(x)) for x in X.keys()]]  \n",
    "feat_dsc = X.loc[:,[('#DSC' in str(x))  for x in X.keys()]]  \n",
    "feat_yesterday = X.loc[:,[('Yesterday' in str(x))  for x in X.keys()]]  \n",
    "feat_today = X.loc[:,[('Today' in str(x))  for x in X.keys()]]  \n",
    "feat_sleep = X.loc[:,[('Sleep' in str(x))  for x in X.keys()]]  \n",
    "feat_time = X.loc[:,[('Time' in str(x))  for x in X.keys()]]  \n",
    "feat_pif = X.loc[:,[('PIF' in str(x))  for x in X.keys()]]  \n",
    "feat_ImmediatePast = X.loc[:,[('ImmediatePast_15' in str(x))  for x in X.keys()]]\n",
    "#Divide the time window features into sensor/past stress label\n",
    "feat_current_sensor = X.loc[:,[('#VAL' in str(x))  for x in X.keys()]]  \n",
    "feat_current_ESM = X.loc[:,[('ESM#LastLabel' in str(x)) for x in X.keys()]]  \n",
    "feat_ImmediatePast_sensor = feat_ImmediatePast.loc[:,[('ESM' not in str(x)) for x in feat_ImmediatePast.keys()]]  \n",
    "feat_ImmediatePast_ESM = feat_ImmediatePast.loc[:,[('ESM'  in str(x)) for x in feat_ImmediatePast.keys()]]  \n",
    "feat_today_sensor = feat_today.loc[:,[('ESM' not in str(x))  for x in feat_today.keys()]]  \n",
    "feat_today_ESM = feat_today.loc[:,[('ESM'  in str(x)) for x in feat_today.keys()]]  \n",
    "feat_yesterday_sensor = feat_yesterday.loc[:,[('ESM' not in str(x)) for x in feat_yesterday.keys()]]  \n",
    "feat_yesterday_ESM = feat_yesterday.loc[:,[('ESM'  in str(x)) for x in feat_yesterday.keys()]]"
   ]
  },
  {
   "cell_type": "code",
   "execution_count": 5,
   "id": "a3f12f04",
   "metadata": {},
   "outputs": [],
   "source": [
    "feat_baseline = pd.concat([ feat_time,feat_dsc,feat_current_sensor, feat_ImmediatePast_sensor],axis=1)\n",
    "feat_final = pd.concat([feat_baseline  ], axis=1)\n",
    "# # Fill NaN values with zeros\n",
    "feat_final = feat_final.fillna(0)\n",
    "X = feat_final\n",
    "cats = X.columns[X.dtypes == bool]"
   ]
  },
  {
   "cell_type": "code",
   "execution_count": 6,
   "id": "2d503860",
   "metadata": {},
   "outputs": [],
   "source": [
    "X = X.loc[:, ~X.columns.str.startswith('SCR', 'PWR', 'CHG', 'BAT')]"
   ]
  },
  {
   "cell_type": "code",
   "execution_count": 7,
   "id": "3e195e17",
   "metadata": {},
   "outputs": [
    {
     "name": "stdout",
     "output_type": "stream",
     "text": [
      "['PIF#participationStartTimestamp', 'Time#DOW=MON', 'Time#DOW=TUE', 'Time#DOW=WED', 'Time#DOW=THU', 'Time#DOW=FRI', 'Time#DOW=SAT', 'Time#DOW=SUN', 'Time#WKD=Y', 'Time#WKD=N', 'Time#HRN=DAWN', 'Time#HRN=MORNING', 'Time#HRN=AFTERNOON', 'Time#HRN=LATE_AFTERNOON', 'Time#HRN=EVENING', 'Time#HRN=NIGHT', 'Time#HRN=MIDNIGHT', 'APP_CAT#DSC', 'APP_CAT#DSC=UNKNOWNSYSTEMENTERSOCIALHEALTHWORKINFO', 'BAT_STA#DSC', 'BAT_STA#DSC=DISCHARGINGCHARGINGFULLNOT_CHARGING', 'BAT_PLG#DSC', 'BAT_PLG#DSC=UNDEFINEDACUSBWIRELESS', 'CALL_CNT#DSC', 'CALL_CNT#DSC=UNKNOWNMOBILEOTHERWORKHOMEUNDEFINEDMAIN', 'SCR_EVENT#DSC', 'SCR_EVENT#DSC=SCREEN_OFFSCREEN_ONUSER_PRESENT', 'RING#DSC', 'RING#DSC=VIBRATESILENTNORMAL', 'CHG#DSC', 'CHG#DSC=DISCONNECTED', 'CHG#DSC=CONNECTED', 'BT_BondState#DSC', 'BT_BondState#DSC=NONEBONDEDBONDING', 'BT_DeviceType#DSC', 'BT_DeviceType#DSC=LECLASSICUNDEFINEDDUAL', 'BT_classType#DSC', 'BT_classType#DSC=UNDEFINEDPHONE_SMARTWEARABLE_WRIST_WATCHCOMPUTER_LAPTOPAUDIO_VIDEO_SET_TOP_BOXAUDIO_VIDEO_HANDSFREEAUDIO_VIDEO_VIDEO_DISPLAY_AND_LOUDSPEAKERAUDIO_VIDEO_WEARABLE_HEADSETPHONE_CELLULARCOMPUTER_DESKTOPCOMPUTER_HANDHELD_PC_PDAAUDIO_VIDEO_UNCATEGORIZEDAUDIO_VIDEO_LOUDSPEAKERAUDIO_VIDEO_HEADPHONESAUDIO_VIDEO_HIFI_AUDIOAUDIO_VIDEO_CAR_AUDIOHEALTH_PULSE_OXIMETERHEALTH_UNCATEGORIZEDCOMPUTER_UNCATEGORIZEDWEARABLE_JACKETHEALTH_PULSE_RATEAUDIO_VIDEO_PORTABLE_AUDIOPHONE_MODEM_OR_GATEWAYHEALTH_BLOOD_PRESSURECOMPUTER_WEARABLEHEALTH_DATA_DISPLAYTOY_ROBOTCOMPUTER_PALM_SIZE_PC_PDACOMPUTER_SERVER', 'Dozemode#DSC', 'Dozemode#DSC=ACTIVATE', 'Dozemode#DSC=DEACTIVATE', 'Notification_VIS#DSC', 'Notification_VIS#DSC=PRIVATESECRETPUBLIC', 'Notification_CAT#DSC', 'Notification_CAT#DSC=UNDEFINEDSTATUSMESSAGESERVICEPROGRESSSYSTEMREMINDERALARMTRANSPORTEMAILCALLEVENTPROMOERRORRECOMMENDATIONSOCIALNAVIGATION', 'PWR#DSC', 'PWR#DSC=ACTIVATE', 'PWR#DSC=DEACTIVATE', 'APP_DUR_UNKNOWN#VAL', 'APP_CAT#VAL=UNKNOWNSYSTEMENTERSOCIALHEALTHWORKINFO', 'BAT_LEV#VAL', 'BAT_STA#VAL=DISCHARGINGCHARGINGFULLNOT_CHARGING', 'BAT_TMP#VAL', 'BAT_PLG#VAL=UNDEFINEDACUSBWIRELESS', 'CALL_DUR#VAL', 'CALL_CNT#VAL=UNKNOWNMOBILEOTHERWORKHOMEUNDEFINEDMAIN', 'DATA_RCV#VAL', 'DATA_SNT#VAL', 'DATA_MRCV#VAL', 'DATA_MSNT#VAL', 'INST_JAC#VAL', 'MSG_SNT#VAL', 'MSG_RCV#VAL', 'MSG_ALL#VAL', 'SCR_EVENT#VAL=SCREEN_OFFSCREEN_ONUSER_PRESENT', 'SCR_DUR#VAL', 'RING#VAL=VIBRATESILENTNORMAL', 'CHG#VAL=DISCONNECTED', 'CHG#VAL=CONNECTED', 'BT_BondState#VAL=NONEBONDEDBONDING', 'BT_DeviceType#VAL=LECLASSICUNDEFINEDDUAL', 'BT_classType#VAL=UNDEFINEDPHONE_SMARTWEARABLE_WRIST_WATCHCOMPUTER_LAPTOPAUDIO_VIDEO_SET_TOP_BOXAUDIO_VIDEO_HANDSFREEAUDIO_VIDEO_VIDEO_DISPLAY_AND_LOUDSPEAKERAUDIO_VIDEO_WEARABLE_HEADSETPHONE_CELLULARCOMPUTER_DESKTOPCOMPUTER_HANDHELD_PC_PDAAUDIO_VIDEO_UNCATEGORIZEDAUDIO_VIDEO_LOUDSPEAKERAUDIO_VIDEO_HEADPHONESAUDIO_VIDEO_HIFI_AUDIOAUDIO_VIDEO_CAR_AUDIOHEALTH_PULSE_OXIMETERHEALTH_UNCATEGORIZEDCOMPUTER_UNCATEGORIZEDWEARABLE_JACKETHEALTH_PULSE_RATEAUDIO_VIDEO_PORTABLE_AUDIOPHONE_MODEM_OR_GATEWAYHEALTH_BLOOD_PRESSURECOMPUTER_WEARABLEHEALTH_DATA_DISPLAYTOY_ROBOTCOMPUTER_PALM_SIZE_PC_PDACOMPUTER_SERVER', 'Dozemode#VAL=ACTIVATE', 'Dozemode#VAL=DEACTIVATE', 'Notification_VIS#VAL=PRIVATESECRETPUBLIC', 'Notification_CAT#VAL=UNDEFINEDSTATUSMESSAGESERVICEPROGRESSSYSTEMREMINDERALARMTRANSPORTEMAILCALLEVENTPROMOERRORRECOMMENDATIONSOCIALNAVIGATION', 'PWR#VAL=ACTIVATE', 'PWR#VAL=DEACTIVATE', 'APP_DUR_UNKNOWN#AVG#ImmediatePast_15', 'APP_DUR_UNKNOWN#STD#ImmediatePast_15', 'APP_DUR_UNKNOWN#SKW#ImmediatePast_15', 'APP_DUR_UNKNOWN#KUR#ImmediatePast_15', 'APP_DUR_UNKNOWN#ASC#ImmediatePast_15', 'APP_DUR_UNKNOWN#BEP#ImmediatePast_15', 'APP_DUR_UNKNOWN#MED#ImmediatePast_15', 'APP_DUR_UNKNOWN#TSC#ImmediatePast_15', 'APP_CAT#ETP##ImmediatePast_15', 'APP_CAT#ASC##ImmediatePast_15', 'APP_CAT#RLV_SUP=UNKNOWNSYSTEMENTERSOCIALHEALTHWORKINFO#ImmediatePast_15', 'BAT_LEV#AVG#ImmediatePast_15', 'BAT_LEV#STD#ImmediatePast_15', 'BAT_LEV#SKW#ImmediatePast_15', 'BAT_LEV#KUR#ImmediatePast_15', 'BAT_LEV#ASC#ImmediatePast_15', 'BAT_LEV#BEP#ImmediatePast_15', 'BAT_LEV#MED#ImmediatePast_15', 'BAT_LEV#TSC#ImmediatePast_15', 'BAT_STA#ETP##ImmediatePast_15', 'BAT_STA#ASC##ImmediatePast_15', 'BAT_STA#RLV_SUP=DISCHARGINGCHARGINGFULLNOT_CHARGING#ImmediatePast_15', 'BAT_TMP#AVG#ImmediatePast_15', 'BAT_TMP#STD#ImmediatePast_15', 'BAT_TMP#SKW#ImmediatePast_15', 'BAT_TMP#KUR#ImmediatePast_15', 'BAT_TMP#ASC#ImmediatePast_15', 'BAT_TMP#BEP#ImmediatePast_15', 'BAT_TMP#MED#ImmediatePast_15', 'BAT_TMP#TSC#ImmediatePast_15', 'BAT_PLG#ETP##ImmediatePast_15', 'BAT_PLG#ASC##ImmediatePast_15', 'BAT_PLG#RLV_SUP=UNDEFINEDACUSBWIRELESS#ImmediatePast_15', 'CALL_DUR#AVG#ImmediatePast_15', 'CALL_DUR#STD#ImmediatePast_15', 'CALL_DUR#SKW#ImmediatePast_15', 'CALL_DUR#KUR#ImmediatePast_15', 'CALL_DUR#ASC#ImmediatePast_15', 'CALL_DUR#BEP#ImmediatePast_15', 'CALL_DUR#MED#ImmediatePast_15', 'CALL_DUR#TSC#ImmediatePast_15', 'CALL_CNT#ETP##ImmediatePast_15', 'CALL_CNT#ASC##ImmediatePast_15', 'CALL_CNT#RLV_SUP=UNKNOWNMOBILEOTHERWORKHOMEUNDEFINEDMAIN#ImmediatePast_15', 'DATA_RCV#AVG#ImmediatePast_15', 'DATA_RCV#STD#ImmediatePast_15', 'DATA_RCV#SKW#ImmediatePast_15', 'DATA_RCV#KUR#ImmediatePast_15', 'DATA_RCV#ASC#ImmediatePast_15', 'DATA_RCV#BEP#ImmediatePast_15', 'DATA_RCV#MED#ImmediatePast_15', 'DATA_RCV#TSC#ImmediatePast_15', 'DATA_SNT#AVG#ImmediatePast_15', 'DATA_SNT#STD#ImmediatePast_15', 'DATA_SNT#SKW#ImmediatePast_15', 'DATA_SNT#KUR#ImmediatePast_15', 'DATA_SNT#ASC#ImmediatePast_15', 'DATA_SNT#BEP#ImmediatePast_15', 'DATA_SNT#MED#ImmediatePast_15', 'DATA_SNT#TSC#ImmediatePast_15', 'DATA_MRCV#AVG#ImmediatePast_15', 'DATA_MRCV#STD#ImmediatePast_15', 'DATA_MRCV#SKW#ImmediatePast_15', 'DATA_MRCV#KUR#ImmediatePast_15', 'DATA_MRCV#ASC#ImmediatePast_15', 'DATA_MRCV#BEP#ImmediatePast_15', 'DATA_MRCV#MED#ImmediatePast_15', 'DATA_MRCV#TSC#ImmediatePast_15', 'DATA_MSNT#AVG#ImmediatePast_15', 'DATA_MSNT#STD#ImmediatePast_15', 'DATA_MSNT#SKW#ImmediatePast_15', 'DATA_MSNT#KUR#ImmediatePast_15', 'DATA_MSNT#ASC#ImmediatePast_15', 'DATA_MSNT#BEP#ImmediatePast_15', 'DATA_MSNT#MED#ImmediatePast_15', 'DATA_MSNT#TSC#ImmediatePast_15', 'INST_JAC#AVG#ImmediatePast_15', 'INST_JAC#STD#ImmediatePast_15', 'INST_JAC#SKW#ImmediatePast_15', 'INST_JAC#KUR#ImmediatePast_15', 'INST_JAC#ASC#ImmediatePast_15', 'INST_JAC#BEP#ImmediatePast_15', 'INST_JAC#MED#ImmediatePast_15', 'INST_JAC#TSC#ImmediatePast_15', 'MSG_SNT#AVG#ImmediatePast_15', 'MSG_SNT#STD#ImmediatePast_15', 'MSG_SNT#SKW#ImmediatePast_15', 'MSG_SNT#KUR#ImmediatePast_15', 'MSG_SNT#ASC#ImmediatePast_15', 'MSG_SNT#BEP#ImmediatePast_15', 'MSG_SNT#MED#ImmediatePast_15', 'MSG_SNT#TSC#ImmediatePast_15', 'MSG_RCV#AVG#ImmediatePast_15', 'MSG_RCV#STD#ImmediatePast_15', 'MSG_RCV#SKW#ImmediatePast_15', 'MSG_RCV#KUR#ImmediatePast_15', 'MSG_RCV#ASC#ImmediatePast_15', 'MSG_RCV#BEP#ImmediatePast_15', 'MSG_RCV#MED#ImmediatePast_15', 'MSG_RCV#TSC#ImmediatePast_15', 'MSG_ALL#AVG#ImmediatePast_15', 'MSG_ALL#STD#ImmediatePast_15', 'MSG_ALL#SKW#ImmediatePast_15', 'MSG_ALL#KUR#ImmediatePast_15', 'MSG_ALL#ASC#ImmediatePast_15', 'MSG_ALL#BEP#ImmediatePast_15', 'MSG_ALL#MED#ImmediatePast_15', 'MSG_ALL#TSC#ImmediatePast_15', 'Sleep#Duration#ImmediatePast_15', 'Sleep#Onset#ImmediatePast_15', 'Sleep#Midpoint#ImmediatePast_15', 'SCR_DUR#AVG#ImmediatePast_15', 'SCR_DUR#STD#ImmediatePast_15', 'SCR_DUR#SKW#ImmediatePast_15', 'SCR_DUR#KUR#ImmediatePast_15', 'SCR_DUR#ASC#ImmediatePast_15', 'SCR_DUR#BEP#ImmediatePast_15', 'SCR_DUR#MED#ImmediatePast_15', 'SCR_DUR#TSC#ImmediatePast_15', 'RING#ETP##ImmediatePast_15', 'RING#ASC##ImmediatePast_15', 'RING#RLV_SUP=VIBRATESILENTNORMAL#ImmediatePast_15', 'CHG#ETP##ImmediatePast_15', 'CHG#ASC##ImmediatePast_15', 'CHG#RLV_SUP#ImmediatePast_15', 'BT_BondState#ETP##ImmediatePast_15', 'BT_BondState#ASC##ImmediatePast_15', 'BT_BondState#RLV_SUP=NONEBONDEDBONDING#ImmediatePast_15', 'BT_DeviceType#ETP##ImmediatePast_15', 'BT_DeviceType#ASC##ImmediatePast_15', 'BT_DeviceType#RLV_SUP=LECLASSICUNDEFINEDDUAL#ImmediatePast_15', 'BT_classType#ETP##ImmediatePast_15', 'BT_classType#ASC##ImmediatePast_15', 'BT_classType#RLV_SUP=UNDEFINEDPHONE_SMARTWEARABLE_WRIST_WATCHCOMPUTER_LAPTOPAUDIO_VIDEO_SET_TOP_BOXAUDIO_VIDEO_HANDSFREEAUDIO_VIDEO_VIDEO_DISPLAY_AND_LOUDSPEAKERAUDIO_VIDEO_WEARABLE_HEADSETPHONE_CELLULARCOMPUTER_DESKTOPCOMPUTER_HANDHELD_PC_PDAAUDIO_VIDEO_UNCATEGORIZEDAUDIO_VIDEO_LOUDSPEAKERAUDIO_VIDEO_HEADPHONESAUDIO_VIDEO_HIFI_AUDIOAUDIO_VIDEO_CAR_AUDIOHEALTH_PULSE_OXIMETERHEALTH_UNCATEGORIZEDCOMPUTER_UNCATEGORIZEDWEARABLE_JACKETHEALTH_PULSE_RATEAUDIO_VIDEO_PORTABLE_AUDIOPHONE_MODEM_OR_GATEWAYHEALTH_BLOOD_PRESSURECOMPUTER_WEARABLEHEALTH_DATA_DISPLAYTOY_ROBOTCOMPUTER_PALM_SIZE_PC_PDACOMPUTER_SERVER#ImmediatePast_15', 'Dozemode#ETP##ImmediatePast_15', 'Dozemode#ASC##ImmediatePast_15', 'Dozemode#RLV_SUP#ImmediatePast_15', 'Notification_VIS#ETP##ImmediatePast_15', 'Notification_VIS#ASC##ImmediatePast_15', 'Notification_VIS#RLV_SUP=PRIVATESECRETPUBLIC#ImmediatePast_15', 'Notification_CAT#ETP##ImmediatePast_15', 'Notification_CAT#ASC##ImmediatePast_15', 'Notification_CAT#RLV_SUP=UNDEFINEDSTATUSMESSAGESERVICEPROGRESSSYSTEMREMINDERALARMTRANSPORTEMAILCALLEVENTPROMOERRORRECOMMENDATIONSOCIALNAVIGATION#ImmediatePast_15', 'PWR#ETP##ImmediatePast_15', 'PWR#ASC##ImmediatePast_15', 'PWR#RLV_SUP#ImmediatePast_15']\n"
     ]
    }
   ],
   "source": [
    "cn = X.columns.tolist()\n",
    "print(cn)"
   ]
  },
  {
   "cell_type": "code",
   "execution_count": 8,
   "id": "a7440513",
   "metadata": {},
   "outputs": [
    {
     "name": "stdout",
     "output_type": "stream",
     "text": [
      "{'BAT_TMP', 'DATA_MSNT', 'CALL_DUR', 'MSG_ALL', 'RING', 'CHG', 'BT_classType', 'DATA_RCV', 'BAT_PLG', 'SCR_DUR', 'Notification_VIS', 'Dozemode', 'SCR_EVENT', 'APP_CAT', 'BAT_LEV', 'Sleep', 'DATA_MRCV', 'APP_DUR_UNKNOWN', 'BT_BondState', 'PIF', 'BT_DeviceType', 'CALL_CNT', 'BAT_STA', 'PWR', 'Time', 'MSG_SNT', 'MSG_RCV', 'INST_JAC', 'Notification_CAT', 'DATA_SNT'}\n"
     ]
    }
   ],
   "source": [
    "unique_parts = set()\n",
    "for col in cn:\n",
    "    part = col.split('#')[0]  # Get the part before the first '#'\n",
    "    unique_parts.add(part)\n",
    "\n",
    "# Print the unique parts\n",
    "print(unique_parts)"
   ]
  },
  {
   "cell_type": "code",
   "execution_count": 9,
   "id": "3e8347b2",
   "metadata": {},
   "outputs": [],
   "source": [
    "columns_with_loc = [col for col in cn if 'LOC' in col]"
   ]
  },
  {
   "cell_type": "code",
   "execution_count": 10,
   "id": "49c23f98",
   "metadata": {
    "scrolled": true
   },
   "outputs": [
    {
     "data": {
      "text/plain": [
       "[]"
      ]
     },
     "execution_count": 10,
     "metadata": {},
     "output_type": "execute_result"
    }
   ],
   "source": [
    "columns_with_loc"
   ]
  },
  {
   "cell_type": "code",
   "execution_count": 11,
   "id": "52df0dce",
   "metadata": {},
   "outputs": [],
   "source": [
    "from sklearn.feature_selection import SelectFromModel\n",
    "from sklearn.linear_model import LogisticRegression\n",
    "from sklearn.base import clone\n",
    "\n",
    "normalize =True\n",
    "# Feature selection method\n",
    "selector = SelectFromModel(\n",
    "        estimator=LogisticRegression(penalty='l1', solver='liblinear', C=1, random_state=seed, max_iter=4000),\n",
    "        threshold=0.005\n",
    "#         estimator=LinearSVC(\n",
    "#         penalty='l1',\n",
    "#         loss='squared_hinge',\n",
    "#         dual=False,\n",
    "#         tol=1e-3,\n",
    "#         C=1e-2,\n",
    "#         max_iter=5000,\n",
    "#         random_state=RANDOM_STATE\n",
    "#     )  \n",
    "    )\n",
    "select = [clone(selector)]\n",
    "oversample = True"
   ]
  },
  {
   "cell_type": "code",
   "execution_count": 12,
   "id": "fda5c5d0",
   "metadata": {},
   "outputs": [],
   "source": [
    "import os\n",
    "import pandas as pd\n",
    "import numpy as np\n",
    "import ray\n",
    "from sklearn.model_selection import LeaveOneGroupOut\n",
    "from sklearn.feature_selection import SelectFromModel\n",
    "from sklearn.linear_model import LogisticRegression\n",
    "from sklearn.svm import LinearSVC\n",
    "from imblearn.over_sampling import SMOTENC, SMOTE\n",
    "from tqdm import tqdm\n",
    "from sklearn.model_selection import StratifiedGroupKFold, GroupKFold, KFold, TimeSeriesSplit, LeavePGroupsOut, train_test_split, GroupShuffleSplit\n",
    "from sklearn.preprocessing import StandardScaler, OrdinalEncoder, OneHotEncoder\n",
    "\n",
    "\n",
    "\n",
    "def get_cv_splits(cv_strategy, data, labels, groups=None):\n",
    "    \"\"\"\n",
    "    Returns the train-test splits based on the chosen cross-validation strategy.\n",
    "    \"\"\"\n",
    "    if cv_strategy == 'loso':\n",
    "        cv = LeaveOneGroupOut()\n",
    "        return cv.split(data, labels, groups)\n",
    "    elif cv_strategy == 'group_k_fold':\n",
    "        cv = GroupKFold(n_splits=5)  # You can adjust the number of splits\n",
    "        return cv.split(data, labels, groups)\n",
    "    elif cv_strategy == 'k_fold':\n",
    "        cv = KFold(n_splits=5)  # You can adjust the number of splits\n",
    "        return cv.split(data)\n",
    "    elif cv_strategy == 'time_series':\n",
    "        cv = TimeSeriesSplit(n_splits=5)  # You can adjust the number of splits\n",
    "        return cv.split(data)\n",
    "    else:\n",
    "        raise ValueError(f\"Unknown CV strategy: {cv_strategy}\")\n",
    "\n",
    "\n",
    "def get_categorical_features_indices(df):\n",
    "    return [i for i, col in enumerate(df.columns) if df[col].nunique() <= 10]\n",
    "\n",
    "def exclude_low_variance(agg_feature, threshold=.0000001):\n",
    "    agg_feature_non_zero_var = agg_feature.loc[:,agg_feature.var()>threshold]\n",
    "    num_removed = agg_feature.shape[1]-agg_feature_non_zero_var.shape[1]\n",
    "    print(f'{num_removed}/{agg_feature.shape[1]} features with variance < {threshold} removed')\n",
    "    return agg_feature_non_zero_var\n",
    "\n",
    "def remove_pairwise_corr(agg_feature_percent_missing, PAIRWISE_CORR_THRESHOLD=0.8, outcome_variable=None):\n",
    "    if outcome_variable is not None:\n",
    "        outcome_variable = pd.Series(outcome_variable, index=agg_feature_percent_missing.index, name=\"outcome\")\n",
    "        corr_with_outcome = pd.merge(outcome_variable, agg_feature_percent_missing, left_index=True, right_index=True).corr()[outcome_variable.name].abs().sort_values(ascending=False)\n",
    "        importance_order = corr_with_outcome.index[1:].tolist()\n",
    "        agg_feature_percent_missing = agg_feature_percent_missing[importance_order]\n",
    "\n",
    "    Matrix = agg_feature_percent_missing.corr().abs()\n",
    "    \n",
    "    upper_triangle = Matrix.where(np.triu(np.ones(Matrix.shape), k=1).astype(bool))\n",
    "\n",
    "    correlated_features = set()\n",
    "    for feature in upper_triangle.columns:\n",
    "        highly_correlated = upper_triangle[feature][upper_triangle[feature] > PAIRWISE_CORR_THRESHOLD].index\n",
    "        correlated_features.update(highly_correlated)\n",
    "\n",
    "    kept_features = list(set(agg_feature_percent_missing.columns) - correlated_features)\n",
    "    print(f\"Pairwise Corr: kept only {len(kept_features)}/{len(agg_feature_percent_missing.columns)} features\")\n",
    "    return agg_feature_percent_missing[kept_features]\n",
    "\n",
    "\n",
    "\n",
    "# Feature selection method\n",
    "def feature_selector(X_train, y_train):\n",
    "    selector = SelectFromModel(\n",
    "        estimator=LogisticRegression(penalty='l1', solver='liblinear', C=1, random_state=seed, max_iter=4000),\n",
    "        threshold=0.005\n",
    "#         estimator=LinearSVC(\n",
    "#         penalty='l1',\n",
    "#         loss='squared_hinge',\n",
    "#         dual=False,\n",
    "#         tol=1e-3,\n",
    "#         C=1e-2,\n",
    "#         max_iter=5000,\n",
    "#         random_state=RANDOM_STATE\n",
    "#     )\n",
    "    \n",
    "    )\n",
    "    selector.fit(X_train, y_train)\n",
    "    return selector\n",
    "\n",
    "def split_train_test(df, labels, train_idx, test_idx):\n",
    "    X_train = df.iloc[train_idx]\n",
    "    y_train = labels[train_idx]\n",
    "    X_test = df.iloc[test_idx]\n",
    "    y_test = labels[test_idx]\n",
    "    return X_train, y_train, X_test, y_test\n",
    "\n",
    "def process_dataframe(X):\n",
    "    \"\"\"\n",
    "    Process the input DataFrame 'X':\n",
    "    1. Set column names as a range from 0 to the number of columns.\n",
    "    2. Replace boolean values with 1 for True and 0 for False.\n",
    "\n",
    "    Parameters:\n",
    "        X (pandas.DataFrame): The input DataFrame.\n",
    "\n",
    "    Returns:\n",
    "        pandas.DataFrame: The processed DataFrame.\n",
    "    \"\"\"\n",
    "    # Set column names as a range from 0 to the number of columns\n",
    "    X.columns = range(X.shape[1])\n",
    "\n",
    "    # Replace boolean values with 1 for True and 0 for False\n",
    "#     X = X * 1\n",
    "\n",
    "    return X\n",
    "\n",
    "def save_data_to_data_file(X, y, filename):\n",
    "    if not os.path.exists(PATH_SAVE_CALORIES):\n",
    "        os.makedirs(PATH_SAVE_CALORIES)\n",
    "\n",
    "    file_path = os.path.join(PATH_SAVE_CALORIES, filename)\n",
    "\n",
    "    with open(file_path, 'w') as f:\n",
    "        for i in range(len(X)):\n",
    "            # Check if y is a numpy array or dataframe\n",
    "            label = y[i] if isinstance(y, np.ndarray) else y.iloc[i].values[0]\n",
    "            \n",
    "            # Start building the line with the label\n",
    "            line = str(label)\n",
    "            \n",
    "            # Iterate through columns of X\n",
    "            for col_idx, value in enumerate(X[i] if isinstance(X, np.ndarray) else X.iloc[i]):\n",
    "                line += \" {}:{}\".format(col_idx, value)\n",
    "            \n",
    "            f.write(line + '\\n')"
   ]
  },
  {
   "cell_type": "code",
   "execution_count": 13,
   "id": "ee08aea0",
   "metadata": {},
   "outputs": [],
   "source": [
    "import os\n",
    "import pandas as pd\n",
    "import numpy as np\n",
    "import ray\n",
    "from sklearn.model_selection import LeaveOneGroupOut\n",
    "from sklearn.feature_selection import SelectFromModel\n",
    "from sklearn.linear_model import LogisticRegression\n",
    "from sklearn.svm import LinearSVC\n",
    "from imblearn.over_sampling import SMOTENC, SMOTE\n",
    "from tqdm import tqdm\n",
    "from sklearn.model_selection import StratifiedGroupKFold, GroupKFold, KFold, TimeSeriesSplit, LeavePGroupsOut, train_test_split, GroupShuffleSplit\n",
    "from sklearn.preprocessing import StandardScaler, OrdinalEncoder, OneHotEncoder\n",
    "\n",
    "\n",
    "\n",
    "def get_cv_splits(cv_strategy, data, labels, groups=None):\n",
    "    \"\"\"\n",
    "    Returns the train-test splits based on the chosen cross-validation strategy.\n",
    "    \"\"\"\n",
    "    if cv_strategy == 'loso':\n",
    "        cv = LeaveOneGroupOut()\n",
    "        return cv.split(data, labels, groups)\n",
    "    elif cv_strategy == 'group_k_fold':\n",
    "        cv = GroupKFold(n_splits=5)  # You can adjust the number of splits\n",
    "        return cv.split(data, labels, groups)\n",
    "    elif cv_strategy == 'k_fold':\n",
    "        cv = KFold(n_splits=5)  # You can adjust the number of splits\n",
    "        return cv.split(data)\n",
    "    elif cv_strategy == 'time_series':\n",
    "        cv = TimeSeriesSplit(n_splits=5)  # You can adjust the number of splits\n",
    "        return cv.split(data)\n",
    "    else:\n",
    "        raise ValueError(f\"Unknown CV strategy: {cv_strategy}\")\n",
    "\n",
    "\n",
    "def get_categorical_features_indices(df):\n",
    "    return [i for i, col in enumerate(df.columns) if df[col].nunique() <= 10]\n",
    "\n",
    "def exclude_low_variance(agg_feature, threshold=.0000001):\n",
    "    agg_feature_non_zero_var = agg_feature.loc[:,agg_feature.var()>threshold]\n",
    "    num_removed = agg_feature.shape[1]-agg_feature_non_zero_var.shape[1]\n",
    "    print(f'{num_removed}/{agg_feature.shape[1]} features with variance < {threshold} removed')\n",
    "    return agg_feature_non_zero_var\n",
    "\n",
    "def remove_pairwise_corr(agg_feature_percent_missing, PAIRWISE_CORR_THRESHOLD=0.8, outcome_variable=None):\n",
    "    if outcome_variable is not None:\n",
    "        outcome_variable = pd.Series(outcome_variable, index=agg_feature_percent_missing.index, name=\"outcome\")\n",
    "        corr_with_outcome = pd.merge(outcome_variable, agg_feature_percent_missing, left_index=True, right_index=True).corr()[outcome_variable.name].abs().sort_values(ascending=False)\n",
    "        importance_order = corr_with_outcome.index[1:].tolist()\n",
    "        agg_feature_percent_missing = agg_feature_percent_missing[importance_order]\n",
    "\n",
    "    Matrix = agg_feature_percent_missing.corr().abs()\n",
    "    \n",
    "    upper_triangle = Matrix.where(np.triu(np.ones(Matrix.shape), k=1).astype(bool))\n",
    "\n",
    "    correlated_features = set()\n",
    "    for feature in upper_triangle.columns:\n",
    "        highly_correlated = upper_triangle[feature][upper_triangle[feature] > PAIRWISE_CORR_THRESHOLD].index\n",
    "        correlated_features.update(highly_correlated)\n",
    "\n",
    "    kept_features = list(set(agg_feature_percent_missing.columns) - correlated_features)\n",
    "    print(f\"Pairwise Corr: kept only {len(kept_features)}/{len(agg_feature_percent_missing.columns)} features\")\n",
    "    return agg_feature_percent_missing[kept_features]\n",
    "\n",
    "\n",
    "\n",
    "# Feature selection method\n",
    "def feature_selector(X_train, y_train):\n",
    "    selector = SelectFromModel(\n",
    "        estimator=LogisticRegression(penalty='l1', solver='liblinear', C=1, random_state=seed, max_iter=4000),\n",
    "        threshold=0.005\n",
    "#         estimator=LinearSVC(\n",
    "#         penalty='l1',\n",
    "#         loss='squared_hinge',\n",
    "#         dual=False,\n",
    "#         tol=1e-3,\n",
    "#         C=1e-2,\n",
    "#         max_iter=5000,\n",
    "#         random_state=RANDOM_STATE\n",
    "#     )\n",
    "    \n",
    "    )\n",
    "    selector.fit(X_train, y_train)\n",
    "    return selector\n",
    "\n",
    "def split_train_test(df, labels, train_idx, test_idx):\n",
    "    X_train = df.iloc[train_idx]\n",
    "    y_train = labels[train_idx]\n",
    "    X_test = df.iloc[test_idx]\n",
    "    y_test = labels[test_idx]\n",
    "    return X_train, y_train, X_test, y_test\n",
    "\n",
    "\n",
    "\n",
    "# @ray.remote\n",
    "# # def process_and_save_split(train_idx, test_idx, all_data, all_labels, all_groups, process_dataframe, save_data_to_data_file, C_cat, C_num, select):\n",
    "# def process_and_save_split(train_idx, test_idx, all_data, all_labels, all_groups, process_dataframe, save_data_to_data_file):\n",
    "#     X_train, y_train, X_test, y_test = split_train_test(all_data, all_labels, train_idx, test_idx)\n",
    "    \n",
    "# #     # Use LOSO to split the training set further into training and evaluation sets\n",
    "# #     loso = LeaveOneGroupOut()\n",
    "# #     train_indices, eval_indices = next(loso.split(X_train, y_train, groups=all_groups[train_idx]))    \n",
    "# #     X_eval, y_eval = X_train.iloc[eval_indices], y_train[eval_indices]\n",
    "# #     X_train, y_train = X_train.iloc[train_indices], y_train[train_indices]\n",
    "    \n",
    "#     # Split 20% of training set as eval set\n",
    "#     X_train, X_eval, y_train, y_eval = train_test_split(X_train, y_train, test_size=0.2, random_state=RANDOM_STATE)\n",
    "\n",
    "# #     # Split 20% of training set as eval set based on groups\n",
    "# #     gss = GroupShuffleSplit(test_size=0.2, random_state=RANDOM_STATE)\n",
    "# #     train_inds, eval_inds = next(gss.split(X_train, y_train, groups=all_groups[train_idx]))\n",
    "# #     X_eval, y_eval = X_train.iloc[eval_inds], y_train[eval_inds]\n",
    "# #     X_train, y_train = X_train.iloc[train_inds], y_train[train_inds]\n",
    "    \n",
    "#     # Apply SMOTENC\n",
    "#     smote_nc = SMOTENC(categorical_features=get_categorical_features_indices(X_train), random_state=RANDOM_STATE)\n",
    "#     X_train, y_train = smote_nc.fit_resample(X_train, y_train)\n",
    "    \n",
    "# #     #Removing low variance features\n",
    "# #     X_train = exclude_low_variance(X_train)\n",
    "# #     X_test = X_test[X_train.columns]  # Keep only the selected features in the test set\n",
    "\n",
    "# #     #Removing highly correlated features\n",
    "# #     X_train = remove_pairwise_corr(X_train, outcome_variable= y_train)\n",
    "# #     X_test = X_test[X_train.columns]  # Keep only the selected features in the test set\n",
    "    \n",
    "#     # Capture indices \n",
    "#     train_indices = X_train.index\n",
    "#     eval_indices = X_eval.index\n",
    "#     test_indices = X_test.index\n",
    "    \n",
    "#     # Before feature selection, capture the columns\n",
    "#     current_columns = X_train.columns\n",
    "    \n",
    "#     # Feature selection\n",
    "#     selector = feature_selector(X_train, y_train)\n",
    "#     X_train = selector.transform(X_train)\n",
    "#     X_eval = selector.transform(X_eval)\n",
    "#     X_test = selector.transform(X_test)\n",
    "\n",
    "#     # Use the captured columns to get the selected columns\n",
    "#     selected_columns = current_columns[selector.get_support()]\n",
    "    \n",
    "#     X_train = pd.DataFrame(X_train, columns=selected_columns, index=train_indices)\n",
    "#     X_eval = pd.DataFrame(X_eval, columns=selected_columns, index=eval_indices)\n",
    "#     X_test = pd.DataFrame(X_test, columns=selected_columns, index=test_indices)\n",
    "\n",
    "    \n",
    "#     # Process dataframes\n",
    "#     X_train = process_dataframe(X_train)\n",
    "#     X_eval = process_dataframe(X_eval)\n",
    "#     X_test = process_dataframe(X_test)\n",
    "\n",
    "#     subject = all_groups[test_idx[0]]\n",
    "\n",
    "#     save_data_to_data_file(X_train, y_train, f'{subject}_train.data')\n",
    "#     save_data_to_data_file(X_eval, y_eval, f'{subject}_eval.data')\n",
    "#     save_data_to_data_file(X_test, y_test, f'{subject}_val.data')\n",
    "\n",
    "@ray.remote\n",
    "def process_and_save_split(train_idx, test_idx, all_data, all_labels, all_groups, process_dataframe, save_data_to_data_file, C_cat, C_num, select):\n",
    "    X_train, y_train, X_test, y_test = split_train_test(all_data, all_labels, train_idx, test_idx)\n",
    "    \n",
    "\n",
    "#     #Leave n subject out\n",
    "#     n = 4  # Number of groups to leave out\n",
    "#     # Use LNGO to split the training set further into training and evaluation sets\n",
    "#     lngo = LeavePGroupsOut(n_groups=n)\n",
    "#     train_indices, eval_indices = next(lngo.split(X_train, y_train, groups=all_groups[train_idx]))    \n",
    "#     X_eval, y_eval = X_train.iloc[eval_indices].copy(), y_train[eval_indices].copy()\n",
    "#     X_train, y_train = X_train.iloc[train_indices].copy(), y_train[train_indices].copy()\n",
    "\n",
    "    \n",
    "#     # Use LOSO to split the training set further into training and evaluation sets\n",
    "#     loso = LeaveOneGroupOut()\n",
    "#     train_indices, eval_indices = next(loso.split(X_train, y_train, groups=all_groups[train_idx]))    \n",
    "#     X_eval, y_eval = X_train.iloc[eval_indices].copy(), y_train[eval_indices].copy()\n",
    "#     X_train, y_train = X_train.iloc[train_indices].copy(), y_train[train_indices].copy()\n",
    "\n",
    "\n",
    "#     # Initialize the stratified group k-fold splitter\n",
    "#     sgkf = StratifiedGroupKFold(n_splits=5, random_state=RANDOM_STATE, shuffle=True)\n",
    "#     # Get the train and eval indices\n",
    "#     train_inds, eval_inds = next(sgkf.split(X_train, y_train, groups=all_groups[train_idx]))\n",
    "#     X_eval, y_eval = X_train.iloc[eval_inds], y_train[eval_inds]\n",
    "#     X_train, y_train = X_train.iloc[train_inds], y_train[train_inds]\n",
    "\n",
    "    \n",
    "    # Split 20% of training set as eval set\n",
    "    X_train, X_eval, y_train, y_eval = train_test_split(X_train, y_train, test_size=0.2, random_state=RANDOM_STATE,  stratify=y_train)\n",
    "\n",
    "#     # Split 20% of training set as eval set based on groups\n",
    "#     gss = GroupShuffleSplit(test_size=0.2, random_state=RANDOM_STATE)\n",
    "#     train_inds, eval_inds = next(gss.split(X_train, y_train, groups=all_groups[train_idx]))\n",
    "#     X_eval, y_eval = X_train.iloc[eval_inds], y_train[eval_inds]\n",
    "#     X_train, y_train = X_train.iloc[train_inds], y_train[train_inds]\n",
    "\n",
    "    if normalize:\n",
    "        # Normalize numeric features\n",
    "        scaler = StandardScaler().fit(X_train[C_num])\n",
    "        X_train[C_num] = scaler.transform(X_train[C_num].copy())\n",
    "        X_eval[C_num] = scaler.transform(X_eval[C_num].copy())\n",
    "        X_test[C_num] = scaler.transform(X_test[C_num].copy())\n",
    "\n",
    "    if select:\n",
    "        if isinstance(select, SelectFromModel):\n",
    "            select = [select]\n",
    "            \n",
    "        for i, s in enumerate(select):\n",
    "            # Fit feature selector only on training data\n",
    "            s.fit(X_train, y_train)\n",
    "            selected_features = X_train.columns[s.get_support()]\n",
    "            \n",
    "            # Apply feature selection to train, eval, and test\n",
    "            X_train = X_train[selected_features].copy()\n",
    "            X_eval = X_eval[selected_features].copy()\n",
    "            X_test = X_test[selected_features].copy()\n",
    "\n",
    "    if oversample:\n",
    "        # Determine categorical features for SMOTENC\n",
    "        if len(C_cat):\n",
    "            M = np.isin(X_train.columns, C_cat)\n",
    "            sampler = SMOTENC(categorical_features=M, random_state=seed)\n",
    "        else:\n",
    "            sampler = SMOTE(random_state=seed)\n",
    "        # Only oversample training data\n",
    "        X_train, y_train = sampler.fit_resample(X_train, y_train)\n",
    "    \n",
    "    # Apply consistent processing to train, eval, and test dataframes\n",
    "    X_train = process_dataframe(X_train)\n",
    "    X_eval = process_dataframe(X_eval)\n",
    "    X_test = process_dataframe(X_test)\n",
    "\n",
    "    subject = all_groups[test_idx[0]]\n",
    "\n",
    "    # Save processed data to files\n",
    "    save_data_to_data_file(X_train, y_train, f'{subject}_train.data')\n",
    "    save_data_to_data_file(X_eval, y_eval, f'{subject}_eval.data')\n",
    "    save_data_to_data_file(X_test, y_test, f'{subject}_val.data')\n"
   ]
  },
  {
   "cell_type": "code",
   "execution_count": 14,
   "id": "d4e53875",
   "metadata": {},
   "outputs": [],
   "source": [
    "# Create a full dataset and corresponding labels and groups\n",
    "all_data = X\n",
    "all_labels = y\n",
    "all_groups = groups"
   ]
  },
  {
   "cell_type": "code",
   "execution_count": 15,
   "id": "7f376cb9",
   "metadata": {
    "scrolled": true
   },
   "outputs": [
    {
     "name": "stderr",
     "output_type": "stream",
     "text": [
      "2024-08-15 01:26:14,588\tINFO worker.py:1612 -- Started a local Ray instance. View the dashboard at \u001b[1m\u001b[32m127.0.0.1:8265 \u001b[39m\u001b[22m\n",
      "\u001b[2m\u001b[36m(process_and_save_split pid=96074)\u001b[0m /tmp/ipykernel_95835/632661198.py:203: SettingWithCopyWarning: \n",
      "\u001b[2m\u001b[36m(process_and_save_split pid=96074)\u001b[0m A value is trying to be set on a copy of a slice from a DataFrame.\n",
      "\u001b[2m\u001b[36m(process_and_save_split pid=96074)\u001b[0m Try using .loc[row_indexer,col_indexer] = value instead\n",
      "\u001b[2m\u001b[36m(process_and_save_split pid=96074)\u001b[0m \n",
      "\u001b[2m\u001b[36m(process_and_save_split pid=96074)\u001b[0m See the caveats in the documentation: https://pandas.pydata.org/pandas-docs/stable/user_guide/indexing.html#returning-a-view-versus-a-copy\n",
      "\u001b[2m\u001b[36m(process_and_save_split pid=96076)\u001b[0m /tmp/ipykernel_95835/632661198.py:203: SettingWithCopyWarning: \u001b[32m [repeated 16x across cluster] (Ray deduplicates logs by default. Set RAY_DEDUP_LOGS=0 to disable log deduplication, or see https://docs.ray.io/en/master/ray-observability/ray-logging.html#log-deduplication for more options.)\u001b[0m\n",
      "\u001b[2m\u001b[36m(process_and_save_split pid=96076)\u001b[0m A value is trying to be set on a copy of a slice from a DataFrame.\u001b[32m [repeated 16x across cluster]\u001b[0m\n",
      "\u001b[2m\u001b[36m(process_and_save_split pid=96076)\u001b[0m Try using .loc[row_indexer,col_indexer] = value instead\u001b[32m [repeated 16x across cluster]\u001b[0m\n",
      "\u001b[2m\u001b[36m(process_and_save_split pid=96076)\u001b[0m \u001b[32m [repeated 16x across cluster]\u001b[0m\n",
      "\u001b[2m\u001b[36m(process_and_save_split pid=96076)\u001b[0m See the caveats in the documentation: https://pandas.pydata.org/pandas-docs/stable/user_guide/indexing.html#returning-a-view-versus-a-copy\u001b[32m [repeated 16x across cluster]\u001b[0m\n",
      "\u001b[2m\u001b[36m(process_and_save_split pid=96083)\u001b[0m /tmp/ipykernel_95835/632661198.py:203: SettingWithCopyWarning: \u001b[32m [repeated 3x across cluster]\u001b[0m\n",
      "\u001b[2m\u001b[36m(process_and_save_split pid=96083)\u001b[0m A value is trying to be set on a copy of a slice from a DataFrame.\u001b[32m [repeated 3x across cluster]\u001b[0m\n",
      "\u001b[2m\u001b[36m(process_and_save_split pid=96083)\u001b[0m Try using .loc[row_indexer,col_indexer] = value instead\u001b[32m [repeated 3x across cluster]\u001b[0m\n",
      "\u001b[2m\u001b[36m(process_and_save_split pid=96083)\u001b[0m \u001b[32m [repeated 3x across cluster]\u001b[0m\n",
      "\u001b[2m\u001b[36m(process_and_save_split pid=96083)\u001b[0m See the caveats in the documentation: https://pandas.pydata.org/pandas-docs/stable/user_guide/indexing.html#returning-a-view-versus-a-copy\u001b[32m [repeated 3x across cluster]\u001b[0m\n",
      "\u001b[2m\u001b[36m(process_and_save_split pid=96077)\u001b[0m /tmp/ipykernel_95835/632661198.py:203: SettingWithCopyWarning: \u001b[32m [repeated 4x across cluster]\u001b[0m\n",
      "\u001b[2m\u001b[36m(process_and_save_split pid=96077)\u001b[0m A value is trying to be set on a copy of a slice from a DataFrame.\u001b[32m [repeated 4x across cluster]\u001b[0m\n",
      "\u001b[2m\u001b[36m(process_and_save_split pid=96077)\u001b[0m Try using .loc[row_indexer,col_indexer] = value instead\u001b[32m [repeated 4x across cluster]\u001b[0m\n",
      "\u001b[2m\u001b[36m(process_and_save_split pid=96077)\u001b[0m \u001b[32m [repeated 4x across cluster]\u001b[0m\n",
      "\u001b[2m\u001b[36m(process_and_save_split pid=96077)\u001b[0m See the caveats in the documentation: https://pandas.pydata.org/pandas-docs/stable/user_guide/indexing.html#returning-a-view-versus-a-copy\u001b[32m [repeated 4x across cluster]\u001b[0m\n",
      "\u001b[2m\u001b[36m(process_and_save_split pid=96070)\u001b[0m /tmp/ipykernel_95835/632661198.py:203: SettingWithCopyWarning: \u001b[32m [repeated 3x across cluster]\u001b[0m\n",
      "\u001b[2m\u001b[36m(process_and_save_split pid=96070)\u001b[0m A value is trying to be set on a copy of a slice from a DataFrame.\u001b[32m [repeated 3x across cluster]\u001b[0m\n",
      "\u001b[2m\u001b[36m(process_and_save_split pid=96070)\u001b[0m Try using .loc[row_indexer,col_indexer] = value instead\u001b[32m [repeated 3x across cluster]\u001b[0m\n",
      "\u001b[2m\u001b[36m(process_and_save_split pid=96070)\u001b[0m \u001b[32m [repeated 3x across cluster]\u001b[0m\n",
      "\u001b[2m\u001b[36m(process_and_save_split pid=96070)\u001b[0m See the caveats in the documentation: https://pandas.pydata.org/pandas-docs/stable/user_guide/indexing.html#returning-a-view-versus-a-copy\u001b[32m [repeated 3x across cluster]\u001b[0m\n",
      "\u001b[2m\u001b[36m(process_and_save_split pid=96073)\u001b[0m /tmp/ipykernel_95835/632661198.py:203: SettingWithCopyWarning: \u001b[32m [repeated 6x across cluster]\u001b[0m\n",
      "\u001b[2m\u001b[36m(process_and_save_split pid=96073)\u001b[0m A value is trying to be set on a copy of a slice from a DataFrame.\u001b[32m [repeated 6x across cluster]\u001b[0m\n",
      "\u001b[2m\u001b[36m(process_and_save_split pid=96073)\u001b[0m Try using .loc[row_indexer,col_indexer] = value instead\u001b[32m [repeated 6x across cluster]\u001b[0m\n",
      "\u001b[2m\u001b[36m(process_and_save_split pid=96073)\u001b[0m \u001b[32m [repeated 6x across cluster]\u001b[0m\n",
      "\u001b[2m\u001b[36m(process_and_save_split pid=96073)\u001b[0m See the caveats in the documentation: https://pandas.pydata.org/pandas-docs/stable/user_guide/indexing.html#returning-a-view-versus-a-copy\u001b[32m [repeated 6x across cluster]\u001b[0m\n",
      "\u001b[2m\u001b[36m(process_and_save_split pid=96075)\u001b[0m /tmp/ipykernel_95835/632661198.py:203: SettingWithCopyWarning: \n",
      "\u001b[2m\u001b[36m(process_and_save_split pid=96075)\u001b[0m A value is trying to be set on a copy of a slice from a DataFrame.\n",
      "\u001b[2m\u001b[36m(process_and_save_split pid=96075)\u001b[0m Try using .loc[row_indexer,col_indexer] = value instead\n",
      "\u001b[2m\u001b[36m(process_and_save_split pid=96075)\u001b[0m \n",
      "\u001b[2m\u001b[36m(process_and_save_split pid=96075)\u001b[0m See the caveats in the documentation: https://pandas.pydata.org/pandas-docs/stable/user_guide/indexing.html#returning-a-view-versus-a-copy\n",
      "\u001b[2m\u001b[36m(process_and_save_split pid=96076)\u001b[0m /tmp/ipykernel_95835/632661198.py:203: SettingWithCopyWarning: \n",
      "\u001b[2m\u001b[36m(process_and_save_split pid=96076)\u001b[0m A value is trying to be set on a copy of a slice from a DataFrame.\n",
      "\u001b[2m\u001b[36m(process_and_save_split pid=96076)\u001b[0m Try using .loc[row_indexer,col_indexer] = value instead\n",
      "\u001b[2m\u001b[36m(process_and_save_split pid=96076)\u001b[0m \n",
      "\u001b[2m\u001b[36m(process_and_save_split pid=96076)\u001b[0m See the caveats in the documentation: https://pandas.pydata.org/pandas-docs/stable/user_guide/indexing.html#returning-a-view-versus-a-copy\n",
      "\u001b[2m\u001b[36m(process_and_save_split pid=96077)\u001b[0m /tmp/ipykernel_95835/632661198.py:203: SettingWithCopyWarning: \u001b[32m [repeated 2x across cluster]\u001b[0m\n",
      "\u001b[2m\u001b[36m(process_and_save_split pid=96077)\u001b[0m A value is trying to be set on a copy of a slice from a DataFrame.\u001b[32m [repeated 2x across cluster]\u001b[0m\n",
      "\u001b[2m\u001b[36m(process_and_save_split pid=96077)\u001b[0m Try using .loc[row_indexer,col_indexer] = value instead\u001b[32m [repeated 2x across cluster]\u001b[0m\n",
      "\u001b[2m\u001b[36m(process_and_save_split pid=96077)\u001b[0m \u001b[32m [repeated 2x across cluster]\u001b[0m\n",
      "\u001b[2m\u001b[36m(process_and_save_split pid=96077)\u001b[0m See the caveats in the documentation: https://pandas.pydata.org/pandas-docs/stable/user_guide/indexing.html#returning-a-view-versus-a-copy\u001b[32m [repeated 2x across cluster]\u001b[0m\n",
      "\u001b[2m\u001b[36m(process_and_save_split pid=96083)\u001b[0m /tmp/ipykernel_95835/632661198.py:203: SettingWithCopyWarning: \n",
      "\u001b[2m\u001b[36m(process_and_save_split pid=96083)\u001b[0m A value is trying to be set on a copy of a slice from a DataFrame.\n",
      "\u001b[2m\u001b[36m(process_and_save_split pid=96083)\u001b[0m Try using .loc[row_indexer,col_indexer] = value instead\n",
      "\u001b[2m\u001b[36m(process_and_save_split pid=96083)\u001b[0m \n",
      "\u001b[2m\u001b[36m(process_and_save_split pid=96083)\u001b[0m See the caveats in the documentation: https://pandas.pydata.org/pandas-docs/stable/user_guide/indexing.html#returning-a-view-versus-a-copy\n",
      "\u001b[2m\u001b[36m(process_and_save_split pid=96071)\u001b[0m /tmp/ipykernel_95835/632661198.py:203: SettingWithCopyWarning: \n",
      "\u001b[2m\u001b[36m(process_and_save_split pid=96071)\u001b[0m A value is trying to be set on a copy of a slice from a DataFrame.\n",
      "\u001b[2m\u001b[36m(process_and_save_split pid=96071)\u001b[0m Try using .loc[row_indexer,col_indexer] = value instead\n",
      "\u001b[2m\u001b[36m(process_and_save_split pid=96071)\u001b[0m \n",
      "\u001b[2m\u001b[36m(process_and_save_split pid=96071)\u001b[0m See the caveats in the documentation: https://pandas.pydata.org/pandas-docs/stable/user_guide/indexing.html#returning-a-view-versus-a-copy\n",
      "\u001b[2m\u001b[36m(process_and_save_split pid=96078)\u001b[0m /tmp/ipykernel_95835/632661198.py:203: SettingWithCopyWarning: \u001b[32m [repeated 2x across cluster]\u001b[0m\n",
      "\u001b[2m\u001b[36m(process_and_save_split pid=96078)\u001b[0m A value is trying to be set on a copy of a slice from a DataFrame.\u001b[32m [repeated 2x across cluster]\u001b[0m\n",
      "\u001b[2m\u001b[36m(process_and_save_split pid=96078)\u001b[0m Try using .loc[row_indexer,col_indexer] = value instead\u001b[32m [repeated 2x across cluster]\u001b[0m\n",
      "\u001b[2m\u001b[36m(process_and_save_split pid=96078)\u001b[0m \u001b[32m [repeated 2x across cluster]\u001b[0m\n",
      "\u001b[2m\u001b[36m(process_and_save_split pid=96078)\u001b[0m See the caveats in the documentation: https://pandas.pydata.org/pandas-docs/stable/user_guide/indexing.html#returning-a-view-versus-a-copy\u001b[32m [repeated 2x across cluster]\u001b[0m\n"
     ]
    },
    {
     "name": "stderr",
     "output_type": "stream",
     "text": [
      "\u001b[2m\u001b[36m(process_and_save_split pid=96081)\u001b[0m /tmp/ipykernel_95835/632661198.py:203: SettingWithCopyWarning: \n",
      "\u001b[2m\u001b[36m(process_and_save_split pid=96081)\u001b[0m A value is trying to be set on a copy of a slice from a DataFrame.\n",
      "\u001b[2m\u001b[36m(process_and_save_split pid=96081)\u001b[0m Try using .loc[row_indexer,col_indexer] = value instead\n",
      "\u001b[2m\u001b[36m(process_and_save_split pid=96081)\u001b[0m \n",
      "\u001b[2m\u001b[36m(process_and_save_split pid=96081)\u001b[0m See the caveats in the documentation: https://pandas.pydata.org/pandas-docs/stable/user_guide/indexing.html#returning-a-view-versus-a-copy\n",
      "\u001b[2m\u001b[36m(process_and_save_split pid=96069)\u001b[0m /tmp/ipykernel_95835/632661198.py:203: SettingWithCopyWarning: \n",
      "\u001b[2m\u001b[36m(process_and_save_split pid=96069)\u001b[0m A value is trying to be set on a copy of a slice from a DataFrame.\n",
      "\u001b[2m\u001b[36m(process_and_save_split pid=96069)\u001b[0m Try using .loc[row_indexer,col_indexer] = value instead\n",
      "\u001b[2m\u001b[36m(process_and_save_split pid=96069)\u001b[0m \n",
      "\u001b[2m\u001b[36m(process_and_save_split pid=96069)\u001b[0m See the caveats in the documentation: https://pandas.pydata.org/pandas-docs/stable/user_guide/indexing.html#returning-a-view-versus-a-copy\n",
      "\u001b[2m\u001b[36m(process_and_save_split pid=96079)\u001b[0m /tmp/ipykernel_95835/632661198.py:203: SettingWithCopyWarning: \u001b[32m [repeated 3x across cluster]\u001b[0m\n",
      "\u001b[2m\u001b[36m(process_and_save_split pid=96079)\u001b[0m A value is trying to be set on a copy of a slice from a DataFrame.\u001b[32m [repeated 3x across cluster]\u001b[0m\n",
      "\u001b[2m\u001b[36m(process_and_save_split pid=96079)\u001b[0m Try using .loc[row_indexer,col_indexer] = value instead\u001b[32m [repeated 3x across cluster]\u001b[0m\n",
      "\u001b[2m\u001b[36m(process_and_save_split pid=96079)\u001b[0m \u001b[32m [repeated 3x across cluster]\u001b[0m\n",
      "\u001b[2m\u001b[36m(process_and_save_split pid=96079)\u001b[0m See the caveats in the documentation: https://pandas.pydata.org/pandas-docs/stable/user_guide/indexing.html#returning-a-view-versus-a-copy\u001b[32m [repeated 3x across cluster]\u001b[0m\n",
      "\u001b[2m\u001b[36m(process_and_save_split pid=96073)\u001b[0m /tmp/ipykernel_95835/632661198.py:203: SettingWithCopyWarning: \u001b[32m [repeated 3x across cluster]\u001b[0m\n",
      "\u001b[2m\u001b[36m(process_and_save_split pid=96073)\u001b[0m A value is trying to be set on a copy of a slice from a DataFrame.\u001b[32m [repeated 3x across cluster]\u001b[0m\n",
      "\u001b[2m\u001b[36m(process_and_save_split pid=96073)\u001b[0m Try using .loc[row_indexer,col_indexer] = value instead\u001b[32m [repeated 3x across cluster]\u001b[0m\n",
      "\u001b[2m\u001b[36m(process_and_save_split pid=96073)\u001b[0m \u001b[32m [repeated 3x across cluster]\u001b[0m\n",
      "\u001b[2m\u001b[36m(process_and_save_split pid=96073)\u001b[0m See the caveats in the documentation: https://pandas.pydata.org/pandas-docs/stable/user_guide/indexing.html#returning-a-view-versus-a-copy\u001b[32m [repeated 3x across cluster]\u001b[0m\n",
      "\u001b[2m\u001b[36m(process_and_save_split pid=96072)\u001b[0m /tmp/ipykernel_95835/632661198.py:203: SettingWithCopyWarning: \n",
      "\u001b[2m\u001b[36m(process_and_save_split pid=96072)\u001b[0m A value is trying to be set on a copy of a slice from a DataFrame.\n",
      "\u001b[2m\u001b[36m(process_and_save_split pid=96072)\u001b[0m Try using .loc[row_indexer,col_indexer] = value instead\n",
      "\u001b[2m\u001b[36m(process_and_save_split pid=96072)\u001b[0m \n",
      "\u001b[2m\u001b[36m(process_and_save_split pid=96072)\u001b[0m See the caveats in the documentation: https://pandas.pydata.org/pandas-docs/stable/user_guide/indexing.html#returning-a-view-versus-a-copy\n",
      "\u001b[2m\u001b[36m(process_and_save_split pid=96075)\u001b[0m /tmp/ipykernel_95835/632661198.py:203: SettingWithCopyWarning: \n",
      "\u001b[2m\u001b[36m(process_and_save_split pid=96075)\u001b[0m A value is trying to be set on a copy of a slice from a DataFrame.\n",
      "\u001b[2m\u001b[36m(process_and_save_split pid=96075)\u001b[0m Try using .loc[row_indexer,col_indexer] = value instead\n",
      "\u001b[2m\u001b[36m(process_and_save_split pid=96075)\u001b[0m \n",
      "\u001b[2m\u001b[36m(process_and_save_split pid=96075)\u001b[0m See the caveats in the documentation: https://pandas.pydata.org/pandas-docs/stable/user_guide/indexing.html#returning-a-view-versus-a-copy\n",
      "\u001b[2m\u001b[36m(process_and_save_split pid=96071)\u001b[0m /tmp/ipykernel_95835/632661198.py:203: SettingWithCopyWarning: \u001b[32m [repeated 2x across cluster]\u001b[0m\n",
      "\u001b[2m\u001b[36m(process_and_save_split pid=96071)\u001b[0m A value is trying to be set on a copy of a slice from a DataFrame.\u001b[32m [repeated 2x across cluster]\u001b[0m\n",
      "\u001b[2m\u001b[36m(process_and_save_split pid=96071)\u001b[0m Try using .loc[row_indexer,col_indexer] = value instead\u001b[32m [repeated 2x across cluster]\u001b[0m\n",
      "\u001b[2m\u001b[36m(process_and_save_split pid=96071)\u001b[0m \u001b[32m [repeated 2x across cluster]\u001b[0m\n",
      "\u001b[2m\u001b[36m(process_and_save_split pid=96071)\u001b[0m See the caveats in the documentation: https://pandas.pydata.org/pandas-docs/stable/user_guide/indexing.html#returning-a-view-versus-a-copy\u001b[32m [repeated 2x across cluster]\u001b[0m\n",
      "\u001b[2m\u001b[36m(process_and_save_split pid=96073)\u001b[0m /tmp/ipykernel_95835/632661198.py:203: SettingWithCopyWarning: \u001b[32m [repeated 3x across cluster]\u001b[0m\n",
      "\u001b[2m\u001b[36m(process_and_save_split pid=96073)\u001b[0m A value is trying to be set on a copy of a slice from a DataFrame.\u001b[32m [repeated 3x across cluster]\u001b[0m\n",
      "\u001b[2m\u001b[36m(process_and_save_split pid=96073)\u001b[0m Try using .loc[row_indexer,col_indexer] = value instead\u001b[32m [repeated 3x across cluster]\u001b[0m\n",
      "\u001b[2m\u001b[36m(process_and_save_split pid=96073)\u001b[0m \u001b[32m [repeated 3x across cluster]\u001b[0m\n",
      "\u001b[2m\u001b[36m(process_and_save_split pid=96073)\u001b[0m See the caveats in the documentation: https://pandas.pydata.org/pandas-docs/stable/user_guide/indexing.html#returning-a-view-versus-a-copy\u001b[32m [repeated 3x across cluster]\u001b[0m\n",
      "\u001b[2m\u001b[36m(process_and_save_split pid=96072)\u001b[0m /tmp/ipykernel_95835/632661198.py:203: SettingWithCopyWarning: \n",
      "\u001b[2m\u001b[36m(process_and_save_split pid=96072)\u001b[0m A value is trying to be set on a copy of a slice from a DataFrame.\n",
      "\u001b[2m\u001b[36m(process_and_save_split pid=96072)\u001b[0m Try using .loc[row_indexer,col_indexer] = value instead\n",
      "\u001b[2m\u001b[36m(process_and_save_split pid=96072)\u001b[0m \n",
      "\u001b[2m\u001b[36m(process_and_save_split pid=96072)\u001b[0m See the caveats in the documentation: https://pandas.pydata.org/pandas-docs/stable/user_guide/indexing.html#returning-a-view-versus-a-copy\n",
      "\u001b[2m\u001b[36m(process_and_save_split pid=96083)\u001b[0m /tmp/ipykernel_95835/632661198.py:203: SettingWithCopyWarning: \n",
      "\u001b[2m\u001b[36m(process_and_save_split pid=96083)\u001b[0m A value is trying to be set on a copy of a slice from a DataFrame.\n",
      "\u001b[2m\u001b[36m(process_and_save_split pid=96083)\u001b[0m Try using .loc[row_indexer,col_indexer] = value instead\n",
      "\u001b[2m\u001b[36m(process_and_save_split pid=96083)\u001b[0m \n",
      "\u001b[2m\u001b[36m(process_and_save_split pid=96083)\u001b[0m See the caveats in the documentation: https://pandas.pydata.org/pandas-docs/stable/user_guide/indexing.html#returning-a-view-versus-a-copy\n",
      "\u001b[2m\u001b[36m(process_and_save_split pid=96071)\u001b[0m /tmp/ipykernel_95835/632661198.py:203: SettingWithCopyWarning: \u001b[32m [repeated 2x across cluster]\u001b[0m\n",
      "\u001b[2m\u001b[36m(process_and_save_split pid=96071)\u001b[0m A value is trying to be set on a copy of a slice from a DataFrame.\u001b[32m [repeated 2x across cluster]\u001b[0m\n",
      "\u001b[2m\u001b[36m(process_and_save_split pid=96071)\u001b[0m Try using .loc[row_indexer,col_indexer] = value instead\u001b[32m [repeated 2x across cluster]\u001b[0m\n",
      "\u001b[2m\u001b[36m(process_and_save_split pid=96071)\u001b[0m \u001b[32m [repeated 2x across cluster]\u001b[0m\n",
      "\u001b[2m\u001b[36m(process_and_save_split pid=96071)\u001b[0m See the caveats in the documentation: https://pandas.pydata.org/pandas-docs/stable/user_guide/indexing.html#returning-a-view-versus-a-copy\u001b[32m [repeated 2x across cluster]\u001b[0m\n",
      "\u001b[2m\u001b[36m(process_and_save_split pid=96076)\u001b[0m /tmp/ipykernel_95835/632661198.py:203: SettingWithCopyWarning: \u001b[32m [repeated 3x across cluster]\u001b[0m\n",
      "\u001b[2m\u001b[36m(process_and_save_split pid=96076)\u001b[0m A value is trying to be set on a copy of a slice from a DataFrame.\u001b[32m [repeated 3x across cluster]\u001b[0m\n",
      "\u001b[2m\u001b[36m(process_and_save_split pid=96076)\u001b[0m Try using .loc[row_indexer,col_indexer] = value instead\u001b[32m [repeated 3x across cluster]\u001b[0m\n",
      "\u001b[2m\u001b[36m(process_and_save_split pid=96076)\u001b[0m \u001b[32m [repeated 3x across cluster]\u001b[0m\n",
      "\u001b[2m\u001b[36m(process_and_save_split pid=96076)\u001b[0m See the caveats in the documentation: https://pandas.pydata.org/pandas-docs/stable/user_guide/indexing.html#returning-a-view-versus-a-copy\u001b[32m [repeated 3x across cluster]\u001b[0m\n",
      "\u001b[2m\u001b[36m(process_and_save_split pid=96082)\u001b[0m /tmp/ipykernel_95835/632661198.py:203: SettingWithCopyWarning: \n",
      "\u001b[2m\u001b[36m(process_and_save_split pid=96082)\u001b[0m A value is trying to be set on a copy of a slice from a DataFrame.\n",
      "\u001b[2m\u001b[36m(process_and_save_split pid=96082)\u001b[0m Try using .loc[row_indexer,col_indexer] = value instead\n",
      "\u001b[2m\u001b[36m(process_and_save_split pid=96082)\u001b[0m \n",
      "\u001b[2m\u001b[36m(process_and_save_split pid=96082)\u001b[0m See the caveats in the documentation: https://pandas.pydata.org/pandas-docs/stable/user_guide/indexing.html#returning-a-view-versus-a-copy\n"
     ]
    },
    {
     "name": "stderr",
     "output_type": "stream",
     "text": [
      "\u001b[2m\u001b[36m(process_and_save_split pid=96081)\u001b[0m /tmp/ipykernel_95835/632661198.py:203: SettingWithCopyWarning: \n",
      "\u001b[2m\u001b[36m(process_and_save_split pid=96081)\u001b[0m A value is trying to be set on a copy of a slice from a DataFrame.\n",
      "\u001b[2m\u001b[36m(process_and_save_split pid=96081)\u001b[0m Try using .loc[row_indexer,col_indexer] = value instead\n",
      "\u001b[2m\u001b[36m(process_and_save_split pid=96081)\u001b[0m \n",
      "\u001b[2m\u001b[36m(process_and_save_split pid=96081)\u001b[0m See the caveats in the documentation: https://pandas.pydata.org/pandas-docs/stable/user_guide/indexing.html#returning-a-view-versus-a-copy\n",
      "\u001b[2m\u001b[36m(process_and_save_split pid=96074)\u001b[0m /tmp/ipykernel_95835/632661198.py:203: SettingWithCopyWarning: \n",
      "\u001b[2m\u001b[36m(process_and_save_split pid=96074)\u001b[0m A value is trying to be set on a copy of a slice from a DataFrame.\n",
      "\u001b[2m\u001b[36m(process_and_save_split pid=96074)\u001b[0m Try using .loc[row_indexer,col_indexer] = value instead\n",
      "\u001b[2m\u001b[36m(process_and_save_split pid=96074)\u001b[0m \n",
      "\u001b[2m\u001b[36m(process_and_save_split pid=96074)\u001b[0m See the caveats in the documentation: https://pandas.pydata.org/pandas-docs/stable/user_guide/indexing.html#returning-a-view-versus-a-copy\n",
      "\u001b[2m\u001b[36m(process_and_save_split pid=96084)\u001b[0m /tmp/ipykernel_95835/632661198.py:203: SettingWithCopyWarning: \n",
      "\u001b[2m\u001b[36m(process_and_save_split pid=96084)\u001b[0m A value is trying to be set on a copy of a slice from a DataFrame.\n",
      "\u001b[2m\u001b[36m(process_and_save_split pid=96084)\u001b[0m Try using .loc[row_indexer,col_indexer] = value instead\n",
      "\u001b[2m\u001b[36m(process_and_save_split pid=96084)\u001b[0m \n",
      "\u001b[2m\u001b[36m(process_and_save_split pid=96084)\u001b[0m See the caveats in the documentation: https://pandas.pydata.org/pandas-docs/stable/user_guide/indexing.html#returning-a-view-versus-a-copy\n",
      "\u001b[2m\u001b[36m(process_and_save_split pid=96080)\u001b[0m /tmp/ipykernel_95835/632661198.py:203: SettingWithCopyWarning: \u001b[32m [repeated 2x across cluster]\u001b[0m\n",
      "\u001b[2m\u001b[36m(process_and_save_split pid=96080)\u001b[0m A value is trying to be set on a copy of a slice from a DataFrame.\u001b[32m [repeated 2x across cluster]\u001b[0m\n",
      "\u001b[2m\u001b[36m(process_and_save_split pid=96080)\u001b[0m Try using .loc[row_indexer,col_indexer] = value instead\u001b[32m [repeated 2x across cluster]\u001b[0m\n",
      "\u001b[2m\u001b[36m(process_and_save_split pid=96080)\u001b[0m \u001b[32m [repeated 2x across cluster]\u001b[0m\n",
      "\u001b[2m\u001b[36m(process_and_save_split pid=96080)\u001b[0m See the caveats in the documentation: https://pandas.pydata.org/pandas-docs/stable/user_guide/indexing.html#returning-a-view-versus-a-copy\u001b[32m [repeated 2x across cluster]\u001b[0m\n",
      "\u001b[2m\u001b[36m(process_and_save_split pid=96073)\u001b[0m /tmp/ipykernel_95835/632661198.py:203: SettingWithCopyWarning: \u001b[32m [repeated 3x across cluster]\u001b[0m\n",
      "\u001b[2m\u001b[36m(process_and_save_split pid=96073)\u001b[0m A value is trying to be set on a copy of a slice from a DataFrame.\u001b[32m [repeated 3x across cluster]\u001b[0m\n",
      "\u001b[2m\u001b[36m(process_and_save_split pid=96073)\u001b[0m Try using .loc[row_indexer,col_indexer] = value instead\u001b[32m [repeated 3x across cluster]\u001b[0m\n",
      "\u001b[2m\u001b[36m(process_and_save_split pid=96073)\u001b[0m \u001b[32m [repeated 3x across cluster]\u001b[0m\n",
      "\u001b[2m\u001b[36m(process_and_save_split pid=96073)\u001b[0m See the caveats in the documentation: https://pandas.pydata.org/pandas-docs/stable/user_guide/indexing.html#returning-a-view-versus-a-copy\u001b[32m [repeated 3x across cluster]\u001b[0m\n",
      "\u001b[2m\u001b[36m(process_and_save_split pid=96083)\u001b[0m /tmp/ipykernel_95835/632661198.py:203: SettingWithCopyWarning: \n",
      "\u001b[2m\u001b[36m(process_and_save_split pid=96083)\u001b[0m A value is trying to be set on a copy of a slice from a DataFrame.\n",
      "\u001b[2m\u001b[36m(process_and_save_split pid=96083)\u001b[0m Try using .loc[row_indexer,col_indexer] = value instead\n",
      "\u001b[2m\u001b[36m(process_and_save_split pid=96083)\u001b[0m \n",
      "\u001b[2m\u001b[36m(process_and_save_split pid=96083)\u001b[0m See the caveats in the documentation: https://pandas.pydata.org/pandas-docs/stable/user_guide/indexing.html#returning-a-view-versus-a-copy\n",
      "\u001b[2m\u001b[36m(process_and_save_split pid=96077)\u001b[0m /tmp/ipykernel_95835/632661198.py:203: SettingWithCopyWarning: \n",
      "\u001b[2m\u001b[36m(process_and_save_split pid=96077)\u001b[0m A value is trying to be set on a copy of a slice from a DataFrame.\n",
      "\u001b[2m\u001b[36m(process_and_save_split pid=96077)\u001b[0m Try using .loc[row_indexer,col_indexer] = value instead\n",
      "\u001b[2m\u001b[36m(process_and_save_split pid=96077)\u001b[0m \n",
      "\u001b[2m\u001b[36m(process_and_save_split pid=96077)\u001b[0m See the caveats in the documentation: https://pandas.pydata.org/pandas-docs/stable/user_guide/indexing.html#returning-a-view-versus-a-copy\n",
      "\u001b[2m\u001b[36m(process_and_save_split pid=96071)\u001b[0m /tmp/ipykernel_95835/632661198.py:203: SettingWithCopyWarning: \u001b[32m [repeated 2x across cluster]\u001b[0m\n",
      "\u001b[2m\u001b[36m(process_and_save_split pid=96071)\u001b[0m A value is trying to be set on a copy of a slice from a DataFrame.\u001b[32m [repeated 2x across cluster]\u001b[0m\n",
      "\u001b[2m\u001b[36m(process_and_save_split pid=96071)\u001b[0m Try using .loc[row_indexer,col_indexer] = value instead\u001b[32m [repeated 2x across cluster]\u001b[0m\n",
      "\u001b[2m\u001b[36m(process_and_save_split pid=96071)\u001b[0m \u001b[32m [repeated 2x across cluster]\u001b[0m\n",
      "\u001b[2m\u001b[36m(process_and_save_split pid=96071)\u001b[0m See the caveats in the documentation: https://pandas.pydata.org/pandas-docs/stable/user_guide/indexing.html#returning-a-view-versus-a-copy\u001b[32m [repeated 2x across cluster]\u001b[0m\n",
      "\u001b[2m\u001b[36m(process_and_save_split pid=96082)\u001b[0m /tmp/ipykernel_95835/632661198.py:203: SettingWithCopyWarning: \u001b[32m [repeated 4x across cluster]\u001b[0m\n",
      "\u001b[2m\u001b[36m(process_and_save_split pid=96082)\u001b[0m A value is trying to be set on a copy of a slice from a DataFrame.\u001b[32m [repeated 4x across cluster]\u001b[0m\n",
      "\u001b[2m\u001b[36m(process_and_save_split pid=96082)\u001b[0m Try using .loc[row_indexer,col_indexer] = value instead\u001b[32m [repeated 4x across cluster]\u001b[0m\n",
      "\u001b[2m\u001b[36m(process_and_save_split pid=96082)\u001b[0m \u001b[32m [repeated 4x across cluster]\u001b[0m\n",
      "\u001b[2m\u001b[36m(process_and_save_split pid=96082)\u001b[0m See the caveats in the documentation: https://pandas.pydata.org/pandas-docs/stable/user_guide/indexing.html#returning-a-view-versus-a-copy\u001b[32m [repeated 4x across cluster]\u001b[0m\n",
      "\u001b[2m\u001b[36m(process_and_save_split pid=96081)\u001b[0m /tmp/ipykernel_95835/632661198.py:203: SettingWithCopyWarning: \n",
      "\u001b[2m\u001b[36m(process_and_save_split pid=96081)\u001b[0m A value is trying to be set on a copy of a slice from a DataFrame.\n",
      "\u001b[2m\u001b[36m(process_and_save_split pid=96081)\u001b[0m Try using .loc[row_indexer,col_indexer] = value instead\n",
      "\u001b[2m\u001b[36m(process_and_save_split pid=96081)\u001b[0m \n",
      "\u001b[2m\u001b[36m(process_and_save_split pid=96081)\u001b[0m See the caveats in the documentation: https://pandas.pydata.org/pandas-docs/stable/user_guide/indexing.html#returning-a-view-versus-a-copy\n",
      "\u001b[2m\u001b[36m(process_and_save_split pid=96074)\u001b[0m /tmp/ipykernel_95835/632661198.py:203: SettingWithCopyWarning: \n",
      "\u001b[2m\u001b[36m(process_and_save_split pid=96074)\u001b[0m A value is trying to be set on a copy of a slice from a DataFrame.\n",
      "\u001b[2m\u001b[36m(process_and_save_split pid=96074)\u001b[0m Try using .loc[row_indexer,col_indexer] = value instead\n",
      "\u001b[2m\u001b[36m(process_and_save_split pid=96074)\u001b[0m \n",
      "\u001b[2m\u001b[36m(process_and_save_split pid=96074)\u001b[0m See the caveats in the documentation: https://pandas.pydata.org/pandas-docs/stable/user_guide/indexing.html#returning-a-view-versus-a-copy\n"
     ]
    }
   ],
   "source": [
    "cv_strategy = 'loso'  # Choose from: 'loso', 'group_k_fold', 'k_fold', 'time_series'\n",
    "\n",
    "with on_ray():\n",
    "    # Get the relevant train-test splits based on the chosen CV strategy\n",
    "    splits = get_cv_splits(cv_strategy, all_data, all_labels, all_groups)\n",
    "    \n",
    "    C_cat = np.asarray(sorted(cats))\n",
    "    C_num = np.asarray(sorted(X.columns[~X.columns.isin(C_cat)]))\n",
    "#    Iterate over train-test splits\n",
    "    futures = [process_and_save_split.remote(train_idx, test_idx, all_data, all_labels, all_groups, process_dataframe, save_data_to_data_file, C_cat, C_num, select) \n",
    "#    futures = [process_and_save_split.remote(train_idx, test_idx, all_data, all_labels, all_groups, process_dataframe, save_data_to_data_file)\n",
    "                                         for train_idx, test_idx in splits]\n",
    "\n",
    "    ray.get(futures)"
   ]
  },
  {
   "cell_type": "markdown",
   "id": "9719c77f",
   "metadata": {},
   "source": [
    "Training"
   ]
  },
  {
   "cell_type": "code",
   "execution_count": 16,
   "id": "f57a608c",
   "metadata": {},
   "outputs": [],
   "source": [
    "param = {\n",
    "    \"learning_rate\": 0.01,\n",
    "    \"seed\": RANDOM_STATE,\n",
    "    \"objective\": 'binary:logistic',\n",
    "    'eval_metric': 'auc',\n",
    "    'verbosity': 0,\n",
    "}"
   ]
  },
  {
   "cell_type": "code",
   "execution_count": 17,
   "id": "c7a942bc",
   "metadata": {
    "scrolled": true
   },
   "outputs": [
    {
     "name": "stderr",
     "output_type": "stream",
     "text": [
      "2024-08-15 01:35:16,341\tINFO worker.py:1612 -- Started a local Ray instance. View the dashboard at \u001b[1m\u001b[32m127.0.0.1:8265 \u001b[39m\u001b[22m\n"
     ]
    },
    {
     "name": "stdout",
     "output_type": "stream",
     "text": [
      "start training & evaluation for P103\n",
      "[0]\ttrain-auc:0.79196\teval-auc:0.72122\n",
      "[1]\ttrain-auc:0.79787\teval-auc:0.72620\n",
      "[2]\ttrain-auc:0.79768\teval-auc:0.72575\n",
      "[3]\ttrain-auc:0.79851\teval-auc:0.72707\n",
      "[4]\ttrain-auc:0.79885\teval-auc:0.72702\n",
      "[5]\ttrain-auc:0.80043\teval-auc:0.73009\n",
      "[6]\ttrain-auc:0.80050\teval-auc:0.73070\n",
      "[7]\ttrain-auc:0.80201\teval-auc:0.73252\n",
      "[8]\ttrain-auc:0.80273\teval-auc:0.73196\n",
      "[9]\ttrain-auc:0.80404\teval-auc:0.73365\n",
      "finish training & evaluation for P103\n",
      "start training & evaluation for P018\n"
     ]
    },
    {
     "name": "stderr",
     "output_type": "stream",
     "text": [
      "/home/panyu/miniconda3/envs/sci-data/lib/python3.9/site-packages/xgboost/core.py:122: UserWarning: ntree_limit is deprecated, use `iteration_range` or model slicing instead.\n",
      "  warnings.warn(\n",
      "/home/panyu/miniconda3/envs/sci-data/lib/python3.9/site-packages/xgboost/core.py:122: UserWarning: ntree_limit is deprecated, use `iteration_range` or model slicing instead.\n",
      "  warnings.warn(\n"
     ]
    },
    {
     "name": "stdout",
     "output_type": "stream",
     "text": [
      "[0]\ttrain-auc:0.79274\teval-auc:0.74077\n",
      "[1]\ttrain-auc:0.79871\teval-auc:0.74452\n",
      "[2]\ttrain-auc:0.80011\teval-auc:0.74464\n",
      "[3]\ttrain-auc:0.80227\teval-auc:0.74532\n",
      "[4]\ttrain-auc:0.80312\teval-auc:0.74654\n",
      "[5]\ttrain-auc:0.80319\teval-auc:0.74608\n",
      "[6]\ttrain-auc:0.80521\teval-auc:0.74717\n",
      "[7]\ttrain-auc:0.80598\teval-auc:0.74844\n",
      "[8]\ttrain-auc:0.80708\teval-auc:0.74918\n",
      "[9]\ttrain-auc:0.80782\teval-auc:0.74952\n",
      "finish training & evaluation for P018\n",
      "start training & evaluation for P057\n"
     ]
    },
    {
     "name": "stderr",
     "output_type": "stream",
     "text": [
      "/home/panyu/miniconda3/envs/sci-data/lib/python3.9/site-packages/xgboost/core.py:122: UserWarning: ntree_limit is deprecated, use `iteration_range` or model slicing instead.\n",
      "  warnings.warn(\n",
      "/home/panyu/miniconda3/envs/sci-data/lib/python3.9/site-packages/xgboost/core.py:122: UserWarning: ntree_limit is deprecated, use `iteration_range` or model slicing instead.\n",
      "  warnings.warn(\n"
     ]
    },
    {
     "name": "stdout",
     "output_type": "stream",
     "text": [
      "[0]\ttrain-auc:0.79250\teval-auc:0.73087\n",
      "[1]\ttrain-auc:0.79433\teval-auc:0.73399\n",
      "[2]\ttrain-auc:0.79538\teval-auc:0.73482\n",
      "[3]\ttrain-auc:0.79547\teval-auc:0.73452\n",
      "[4]\ttrain-auc:0.79662\teval-auc:0.73682\n",
      "[5]\ttrain-auc:0.79724\teval-auc:0.73637\n",
      "[6]\ttrain-auc:0.79776\teval-auc:0.73742\n",
      "[7]\ttrain-auc:0.80135\teval-auc:0.73943\n",
      "[8]\ttrain-auc:0.80293\teval-auc:0.74067\n",
      "[9]\ttrain-auc:0.80425\teval-auc:0.74061\n",
      "finish training & evaluation for P057\n",
      "start training & evaluation for P026\n"
     ]
    },
    {
     "name": "stderr",
     "output_type": "stream",
     "text": [
      "/home/panyu/miniconda3/envs/sci-data/lib/python3.9/site-packages/xgboost/core.py:122: UserWarning: ntree_limit is deprecated, use `iteration_range` or model slicing instead.\n",
      "  warnings.warn(\n",
      "/home/panyu/miniconda3/envs/sci-data/lib/python3.9/site-packages/xgboost/core.py:122: UserWarning: ntree_limit is deprecated, use `iteration_range` or model slicing instead.\n",
      "  warnings.warn(\n"
     ]
    },
    {
     "name": "stdout",
     "output_type": "stream",
     "text": [
      "[0]\ttrain-auc:0.79548\teval-auc:0.70395\n",
      "[1]\ttrain-auc:0.79640\teval-auc:0.70358\n",
      "[2]\ttrain-auc:0.79754\teval-auc:0.70375\n",
      "[3]\ttrain-auc:0.79900\teval-auc:0.70536\n",
      "[4]\ttrain-auc:0.80179\teval-auc:0.70752\n",
      "[5]\ttrain-auc:0.80176\teval-auc:0.70793\n",
      "[6]\ttrain-auc:0.80278\teval-auc:0.70819\n",
      "[7]\ttrain-auc:0.80650\teval-auc:0.71007\n",
      "[8]\ttrain-auc:0.80829\teval-auc:0.71181\n",
      "[9]\ttrain-auc:0.80896\teval-auc:0.71204\n",
      "finish training & evaluation for P026\n",
      "start training & evaluation for P105\n"
     ]
    },
    {
     "name": "stderr",
     "output_type": "stream",
     "text": [
      "/home/panyu/miniconda3/envs/sci-data/lib/python3.9/site-packages/xgboost/core.py:122: UserWarning: ntree_limit is deprecated, use `iteration_range` or model slicing instead.\n",
      "  warnings.warn(\n",
      "/home/panyu/miniconda3/envs/sci-data/lib/python3.9/site-packages/xgboost/core.py:122: UserWarning: ntree_limit is deprecated, use `iteration_range` or model slicing instead.\n",
      "  warnings.warn(\n"
     ]
    },
    {
     "name": "stdout",
     "output_type": "stream",
     "text": [
      "[0]\ttrain-auc:0.79169\teval-auc:0.72435\n",
      "[1]\ttrain-auc:0.79598\teval-auc:0.72512\n",
      "[2]\ttrain-auc:0.79601\teval-auc:0.72597\n",
      "[3]\ttrain-auc:0.79642\teval-auc:0.72539\n",
      "[4]\ttrain-auc:0.79839\teval-auc:0.72730\n",
      "[5]\ttrain-auc:0.79940\teval-auc:0.72620\n",
      "[6]\ttrain-auc:0.80207\teval-auc:0.72860\n",
      "[7]\ttrain-auc:0.80184\teval-auc:0.72905\n",
      "[8]\ttrain-auc:0.80338\teval-auc:0.73055\n",
      "[9]\ttrain-auc:0.80638\teval-auc:0.73266\n",
      "finish training & evaluation for P105\n",
      "start training & evaluation for P081\n"
     ]
    },
    {
     "name": "stderr",
     "output_type": "stream",
     "text": [
      "/home/panyu/miniconda3/envs/sci-data/lib/python3.9/site-packages/xgboost/core.py:122: UserWarning: ntree_limit is deprecated, use `iteration_range` or model slicing instead.\n",
      "  warnings.warn(\n",
      "/home/panyu/miniconda3/envs/sci-data/lib/python3.9/site-packages/xgboost/core.py:122: UserWarning: ntree_limit is deprecated, use `iteration_range` or model slicing instead.\n",
      "  warnings.warn(\n"
     ]
    },
    {
     "name": "stdout",
     "output_type": "stream",
     "text": [
      "[0]\ttrain-auc:0.79209\teval-auc:0.72952\n",
      "[1]\ttrain-auc:0.79646\teval-auc:0.73141\n",
      "[2]\ttrain-auc:0.79631\teval-auc:0.73162\n",
      "[3]\ttrain-auc:0.79809\teval-auc:0.73379\n",
      "[4]\ttrain-auc:0.79993\teval-auc:0.73439\n",
      "[5]\ttrain-auc:0.80158\teval-auc:0.73702\n",
      "[6]\ttrain-auc:0.80384\teval-auc:0.73742\n",
      "[7]\ttrain-auc:0.80443\teval-auc:0.73773\n",
      "[8]\ttrain-auc:0.80590\teval-auc:0.73891\n",
      "[9]\ttrain-auc:0.80692\teval-auc:0.73996\n",
      "finish training & evaluation for P081\n",
      "start training & evaluation for P095\n"
     ]
    },
    {
     "name": "stderr",
     "output_type": "stream",
     "text": [
      "/home/panyu/miniconda3/envs/sci-data/lib/python3.9/site-packages/xgboost/core.py:122: UserWarning: ntree_limit is deprecated, use `iteration_range` or model slicing instead.\n",
      "  warnings.warn(\n",
      "/home/panyu/miniconda3/envs/sci-data/lib/python3.9/site-packages/xgboost/core.py:122: UserWarning: ntree_limit is deprecated, use `iteration_range` or model slicing instead.\n",
      "  warnings.warn(\n"
     ]
    },
    {
     "name": "stdout",
     "output_type": "stream",
     "text": [
      "[0]\ttrain-auc:0.78903\teval-auc:0.72913\n",
      "[1]\ttrain-auc:0.79112\teval-auc:0.73017\n",
      "[2]\ttrain-auc:0.79131\teval-auc:0.72976\n",
      "[3]\ttrain-auc:0.79405\teval-auc:0.73322\n",
      "[4]\ttrain-auc:0.79690\teval-auc:0.73424\n",
      "[5]\ttrain-auc:0.79712\teval-auc:0.73413\n",
      "[6]\ttrain-auc:0.79745\teval-auc:0.73459\n",
      "[7]\ttrain-auc:0.79777\teval-auc:0.73497\n",
      "[8]\ttrain-auc:0.80011\teval-auc:0.73740\n",
      "[9]\ttrain-auc:0.80345\teval-auc:0.73865\n",
      "finish training & evaluation for P095\n",
      "start training & evaluation for P055\n"
     ]
    },
    {
     "name": "stderr",
     "output_type": "stream",
     "text": [
      "/home/panyu/miniconda3/envs/sci-data/lib/python3.9/site-packages/xgboost/core.py:122: UserWarning: ntree_limit is deprecated, use `iteration_range` or model slicing instead.\n",
      "  warnings.warn(\n",
      "/home/panyu/miniconda3/envs/sci-data/lib/python3.9/site-packages/xgboost/core.py:122: UserWarning: ntree_limit is deprecated, use `iteration_range` or model slicing instead.\n",
      "  warnings.warn(\n"
     ]
    },
    {
     "name": "stdout",
     "output_type": "stream",
     "text": [
      "[0]\ttrain-auc:0.79204\teval-auc:0.71905\n",
      "[1]\ttrain-auc:0.79628\teval-auc:0.72037\n",
      "[2]\ttrain-auc:0.79669\teval-auc:0.72179\n",
      "[3]\ttrain-auc:0.79987\teval-auc:0.72524\n",
      "[4]\ttrain-auc:0.80282\teval-auc:0.72707\n",
      "[5]\ttrain-auc:0.80251\teval-auc:0.72753\n",
      "[6]\ttrain-auc:0.80313\teval-auc:0.72757\n",
      "[7]\ttrain-auc:0.80350\teval-auc:0.72807\n",
      "[8]\ttrain-auc:0.80428\teval-auc:0.72958\n",
      "[9]\ttrain-auc:0.80535\teval-auc:0.73099\n",
      "finish training & evaluation for P055\n",
      "start training & evaluation for P021\n"
     ]
    },
    {
     "name": "stderr",
     "output_type": "stream",
     "text": [
      "/home/panyu/miniconda3/envs/sci-data/lib/python3.9/site-packages/xgboost/core.py:122: UserWarning: ntree_limit is deprecated, use `iteration_range` or model slicing instead.\n",
      "  warnings.warn(\n",
      "/home/panyu/miniconda3/envs/sci-data/lib/python3.9/site-packages/xgboost/core.py:122: UserWarning: ntree_limit is deprecated, use `iteration_range` or model slicing instead.\n",
      "  warnings.warn(\n"
     ]
    },
    {
     "name": "stdout",
     "output_type": "stream",
     "text": [
      "[0]\ttrain-auc:0.79127\teval-auc:0.73574\n",
      "[1]\ttrain-auc:0.79415\teval-auc:0.73958\n",
      "[2]\ttrain-auc:0.79747\teval-auc:0.74290\n",
      "[3]\ttrain-auc:0.79992\teval-auc:0.74671\n",
      "[4]\ttrain-auc:0.79963\teval-auc:0.74699\n",
      "[5]\ttrain-auc:0.80148\teval-auc:0.74905\n",
      "[6]\ttrain-auc:0.80138\teval-auc:0.74905\n",
      "[7]\ttrain-auc:0.80157\teval-auc:0.74927\n",
      "[8]\ttrain-auc:0.80233\teval-auc:0.75045\n",
      "[9]\ttrain-auc:0.80261\teval-auc:0.75036\n",
      "finish training & evaluation for P021\n",
      "start training & evaluation for P077\n"
     ]
    },
    {
     "name": "stderr",
     "output_type": "stream",
     "text": [
      "/home/panyu/miniconda3/envs/sci-data/lib/python3.9/site-packages/xgboost/core.py:122: UserWarning: ntree_limit is deprecated, use `iteration_range` or model slicing instead.\n",
      "  warnings.warn(\n",
      "/home/panyu/miniconda3/envs/sci-data/lib/python3.9/site-packages/xgboost/core.py:122: UserWarning: ntree_limit is deprecated, use `iteration_range` or model slicing instead.\n",
      "  warnings.warn(\n"
     ]
    },
    {
     "name": "stdout",
     "output_type": "stream",
     "text": [
      "[0]\ttrain-auc:0.79017\teval-auc:0.74328\n",
      "[1]\ttrain-auc:0.79264\teval-auc:0.74384\n",
      "[2]\ttrain-auc:0.79302\teval-auc:0.74514\n",
      "[3]\ttrain-auc:0.79371\teval-auc:0.74559\n",
      "[4]\ttrain-auc:0.79568\teval-auc:0.74699\n",
      "[5]\ttrain-auc:0.79745\teval-auc:0.74823\n",
      "[6]\ttrain-auc:0.79820\teval-auc:0.74838\n",
      "[7]\ttrain-auc:0.80266\teval-auc:0.74993\n",
      "[8]\ttrain-auc:0.80269\teval-auc:0.74992\n",
      "[9]\ttrain-auc:0.80498\teval-auc:0.75079\n",
      "finish training & evaluation for P077\n",
      "start training & evaluation for P051\n"
     ]
    },
    {
     "name": "stderr",
     "output_type": "stream",
     "text": [
      "/home/panyu/miniconda3/envs/sci-data/lib/python3.9/site-packages/xgboost/core.py:122: UserWarning: ntree_limit is deprecated, use `iteration_range` or model slicing instead.\n",
      "  warnings.warn(\n",
      "/home/panyu/miniconda3/envs/sci-data/lib/python3.9/site-packages/xgboost/core.py:122: UserWarning: ntree_limit is deprecated, use `iteration_range` or model slicing instead.\n",
      "  warnings.warn(\n"
     ]
    },
    {
     "name": "stdout",
     "output_type": "stream",
     "text": [
      "[0]\ttrain-auc:0.79338\teval-auc:0.73021\n",
      "[1]\ttrain-auc:0.79569\teval-auc:0.73281\n",
      "[2]\ttrain-auc:0.79645\teval-auc:0.73324\n",
      "[3]\ttrain-auc:0.79785\teval-auc:0.73372\n",
      "[4]\ttrain-auc:0.79785\teval-auc:0.73400\n",
      "[5]\ttrain-auc:0.79837\teval-auc:0.73444\n",
      "[6]\ttrain-auc:0.79949\teval-auc:0.73580\n",
      "[7]\ttrain-auc:0.80008\teval-auc:0.73569\n",
      "[8]\ttrain-auc:0.80241\teval-auc:0.73696\n",
      "[9]\ttrain-auc:0.80311\teval-auc:0.73773\n",
      "finish training & evaluation for P051\n",
      "start training & evaluation for P109\n"
     ]
    },
    {
     "name": "stderr",
     "output_type": "stream",
     "text": [
      "/home/panyu/miniconda3/envs/sci-data/lib/python3.9/site-packages/xgboost/core.py:122: UserWarning: ntree_limit is deprecated, use `iteration_range` or model slicing instead.\n",
      "  warnings.warn(\n",
      "/home/panyu/miniconda3/envs/sci-data/lib/python3.9/site-packages/xgboost/core.py:122: UserWarning: ntree_limit is deprecated, use `iteration_range` or model slicing instead.\n",
      "  warnings.warn(\n"
     ]
    },
    {
     "name": "stdout",
     "output_type": "stream",
     "text": [
      "[0]\ttrain-auc:0.79541\teval-auc:0.72374\n",
      "[1]\ttrain-auc:0.79659\teval-auc:0.72505\n",
      "[2]\ttrain-auc:0.80006\teval-auc:0.72707\n",
      "[3]\ttrain-auc:0.80041\teval-auc:0.72799\n",
      "[4]\ttrain-auc:0.80409\teval-auc:0.73130\n",
      "[5]\ttrain-auc:0.80567\teval-auc:0.73166\n",
      "[6]\ttrain-auc:0.80641\teval-auc:0.73321\n",
      "[7]\ttrain-auc:0.80685\teval-auc:0.73416\n",
      "[8]\ttrain-auc:0.80714\teval-auc:0.73432\n",
      "[9]\ttrain-auc:0.80772\teval-auc:0.73420\n",
      "finish training & evaluation for P109\n",
      "start training & evaluation for P002\n"
     ]
    },
    {
     "name": "stderr",
     "output_type": "stream",
     "text": [
      "/home/panyu/miniconda3/envs/sci-data/lib/python3.9/site-packages/xgboost/core.py:122: UserWarning: ntree_limit is deprecated, use `iteration_range` or model slicing instead.\n",
      "  warnings.warn(\n",
      "/home/panyu/miniconda3/envs/sci-data/lib/python3.9/site-packages/xgboost/core.py:122: UserWarning: ntree_limit is deprecated, use `iteration_range` or model slicing instead.\n",
      "  warnings.warn(\n"
     ]
    },
    {
     "name": "stdout",
     "output_type": "stream",
     "text": [
      "[0]\ttrain-auc:0.79499\teval-auc:0.72225\n",
      "[1]\ttrain-auc:0.79514\teval-auc:0.72293\n",
      "[2]\ttrain-auc:0.79841\teval-auc:0.72539\n",
      "[3]\ttrain-auc:0.80215\teval-auc:0.72909\n",
      "[4]\ttrain-auc:0.80244\teval-auc:0.72979\n",
      "[5]\ttrain-auc:0.80284\teval-auc:0.73054\n",
      "[6]\ttrain-auc:0.80316\teval-auc:0.72992\n",
      "[7]\ttrain-auc:0.80459\teval-auc:0.73098\n",
      "[8]\ttrain-auc:0.80464\teval-auc:0.73121\n",
      "[9]\ttrain-auc:0.80594\teval-auc:0.73160\n",
      "finish training & evaluation for P002\n",
      "start training & evaluation for P104\n"
     ]
    },
    {
     "name": "stderr",
     "output_type": "stream",
     "text": [
      "/home/panyu/miniconda3/envs/sci-data/lib/python3.9/site-packages/xgboost/core.py:122: UserWarning: ntree_limit is deprecated, use `iteration_range` or model slicing instead.\n",
      "  warnings.warn(\n",
      "/home/panyu/miniconda3/envs/sci-data/lib/python3.9/site-packages/xgboost/core.py:122: UserWarning: ntree_limit is deprecated, use `iteration_range` or model slicing instead.\n",
      "  warnings.warn(\n"
     ]
    },
    {
     "name": "stdout",
     "output_type": "stream",
     "text": [
      "[0]\ttrain-auc:0.78971\teval-auc:0.74000\n",
      "[1]\ttrain-auc:0.79696\teval-auc:0.74270\n",
      "[2]\ttrain-auc:0.80260\teval-auc:0.74474\n",
      "[3]\ttrain-auc:0.80285\teval-auc:0.74566\n",
      "[4]\ttrain-auc:0.80453\teval-auc:0.74426\n",
      "[5]\ttrain-auc:0.80407\teval-auc:0.74399\n",
      "[6]\ttrain-auc:0.80411\teval-auc:0.74405\n",
      "[7]\ttrain-auc:0.80462\teval-auc:0.74461\n",
      "[8]\ttrain-auc:0.80561\teval-auc:0.74388\n",
      "[9]\ttrain-auc:0.80614\teval-auc:0.74432\n",
      "finish training & evaluation for P104\n",
      "start training & evaluation for P064\n"
     ]
    },
    {
     "name": "stderr",
     "output_type": "stream",
     "text": [
      "/home/panyu/miniconda3/envs/sci-data/lib/python3.9/site-packages/xgboost/core.py:122: UserWarning: ntree_limit is deprecated, use `iteration_range` or model slicing instead.\n",
      "  warnings.warn(\n",
      "/home/panyu/miniconda3/envs/sci-data/lib/python3.9/site-packages/xgboost/core.py:122: UserWarning: ntree_limit is deprecated, use `iteration_range` or model slicing instead.\n",
      "  warnings.warn(\n"
     ]
    },
    {
     "name": "stdout",
     "output_type": "stream",
     "text": [
      "[0]\ttrain-auc:0.79323\teval-auc:0.72088\n",
      "[1]\ttrain-auc:0.79623\teval-auc:0.72486\n",
      "[2]\ttrain-auc:0.79642\teval-auc:0.72507\n",
      "[3]\ttrain-auc:0.79814\teval-auc:0.72891\n",
      "[4]\ttrain-auc:0.80039\teval-auc:0.73237\n",
      "[5]\ttrain-auc:0.80164\teval-auc:0.73427\n",
      "[6]\ttrain-auc:0.80319\teval-auc:0.73559\n",
      "[7]\ttrain-auc:0.80425\teval-auc:0.73595\n",
      "[8]\ttrain-auc:0.80618\teval-auc:0.73711\n",
      "[9]\ttrain-auc:0.80776\teval-auc:0.73870\n",
      "finish training & evaluation for P064\n",
      "start training & evaluation for P027\n"
     ]
    },
    {
     "name": "stderr",
     "output_type": "stream",
     "text": [
      "/home/panyu/miniconda3/envs/sci-data/lib/python3.9/site-packages/xgboost/core.py:122: UserWarning: ntree_limit is deprecated, use `iteration_range` or model slicing instead.\n",
      "  warnings.warn(\n",
      "/home/panyu/miniconda3/envs/sci-data/lib/python3.9/site-packages/xgboost/core.py:122: UserWarning: ntree_limit is deprecated, use `iteration_range` or model slicing instead.\n",
      "  warnings.warn(\n"
     ]
    },
    {
     "name": "stdout",
     "output_type": "stream",
     "text": [
      "[0]\ttrain-auc:0.79359\teval-auc:0.72637\n",
      "[1]\ttrain-auc:0.79718\teval-auc:0.72858\n",
      "[2]\ttrain-auc:0.79874\teval-auc:0.72909\n",
      "[3]\ttrain-auc:0.80218\teval-auc:0.73220\n",
      "[4]\ttrain-auc:0.80245\teval-auc:0.73268\n",
      "[5]\ttrain-auc:0.80402\teval-auc:0.73368\n",
      "[6]\ttrain-auc:0.80423\teval-auc:0.73387\n",
      "[7]\ttrain-auc:0.80496\teval-auc:0.73387\n",
      "[8]\ttrain-auc:0.80546\teval-auc:0.73490\n",
      "[9]\ttrain-auc:0.80753\teval-auc:0.73500\n",
      "finish training & evaluation for P027\n",
      "start training & evaluation for P061\n"
     ]
    },
    {
     "name": "stderr",
     "output_type": "stream",
     "text": [
      "/home/panyu/miniconda3/envs/sci-data/lib/python3.9/site-packages/xgboost/core.py:122: UserWarning: ntree_limit is deprecated, use `iteration_range` or model slicing instead.\n",
      "  warnings.warn(\n",
      "/home/panyu/miniconda3/envs/sci-data/lib/python3.9/site-packages/xgboost/core.py:122: UserWarning: ntree_limit is deprecated, use `iteration_range` or model slicing instead.\n",
      "  warnings.warn(\n"
     ]
    },
    {
     "name": "stdout",
     "output_type": "stream",
     "text": [
      "[0]\ttrain-auc:0.79308\teval-auc:0.72687\n",
      "[1]\ttrain-auc:0.79345\teval-auc:0.72719\n",
      "[2]\ttrain-auc:0.79647\teval-auc:0.72930\n",
      "[3]\ttrain-auc:0.79710\teval-auc:0.72943\n",
      "[4]\ttrain-auc:0.80067\teval-auc:0.73033\n",
      "[5]\ttrain-auc:0.80065\teval-auc:0.73064\n",
      "[6]\ttrain-auc:0.80051\teval-auc:0.73079\n",
      "[7]\ttrain-auc:0.80586\teval-auc:0.73532\n",
      "[8]\ttrain-auc:0.80584\teval-auc:0.73464\n",
      "[9]\ttrain-auc:0.80793\teval-auc:0.73645\n",
      "finish training & evaluation for P061\n",
      "start training & evaluation for P086\n"
     ]
    },
    {
     "name": "stderr",
     "output_type": "stream",
     "text": [
      "/home/panyu/miniconda3/envs/sci-data/lib/python3.9/site-packages/xgboost/core.py:122: UserWarning: ntree_limit is deprecated, use `iteration_range` or model slicing instead.\n",
      "  warnings.warn(\n",
      "/home/panyu/miniconda3/envs/sci-data/lib/python3.9/site-packages/xgboost/core.py:122: UserWarning: ntree_limit is deprecated, use `iteration_range` or model slicing instead.\n",
      "  warnings.warn(\n"
     ]
    },
    {
     "name": "stdout",
     "output_type": "stream",
     "text": [
      "[0]\ttrain-auc:0.78755\teval-auc:0.72738\n",
      "[1]\ttrain-auc:0.78887\teval-auc:0.73009\n",
      "[2]\ttrain-auc:0.79046\teval-auc:0.73061\n",
      "[3]\ttrain-auc:0.79760\teval-auc:0.73400\n",
      "[4]\ttrain-auc:0.80027\teval-auc:0.73603\n",
      "[5]\ttrain-auc:0.79981\teval-auc:0.73575\n",
      "[6]\ttrain-auc:0.80236\teval-auc:0.73605\n",
      "[7]\ttrain-auc:0.80267\teval-auc:0.73665\n",
      "[8]\ttrain-auc:0.80379\teval-auc:0.73808\n",
      "[9]\ttrain-auc:0.80553\teval-auc:0.74003\n",
      "finish training & evaluation for P086\n",
      "start training & evaluation for P102\n"
     ]
    },
    {
     "name": "stderr",
     "output_type": "stream",
     "text": [
      "/home/panyu/miniconda3/envs/sci-data/lib/python3.9/site-packages/xgboost/core.py:122: UserWarning: ntree_limit is deprecated, use `iteration_range` or model slicing instead.\n",
      "  warnings.warn(\n",
      "/home/panyu/miniconda3/envs/sci-data/lib/python3.9/site-packages/xgboost/core.py:122: UserWarning: ntree_limit is deprecated, use `iteration_range` or model slicing instead.\n",
      "  warnings.warn(\n"
     ]
    },
    {
     "name": "stdout",
     "output_type": "stream",
     "text": [
      "[0]\ttrain-auc:0.79564\teval-auc:0.73674\n",
      "[1]\ttrain-auc:0.79752\teval-auc:0.74122\n",
      "[2]\ttrain-auc:0.79730\teval-auc:0.74092\n",
      "[3]\ttrain-auc:0.80463\teval-auc:0.74403\n",
      "[4]\ttrain-auc:0.80481\teval-auc:0.74291\n",
      "[5]\ttrain-auc:0.80781\teval-auc:0.74372\n",
      "[6]\ttrain-auc:0.80874\teval-auc:0.74427\n",
      "[7]\ttrain-auc:0.81047\teval-auc:0.74439\n",
      "[8]\ttrain-auc:0.81112\teval-auc:0.74488\n",
      "[9]\ttrain-auc:0.81187\teval-auc:0.74430\n",
      "finish training & evaluation for P102\n",
      "start training & evaluation for P042\n"
     ]
    },
    {
     "name": "stderr",
     "output_type": "stream",
     "text": [
      "/home/panyu/miniconda3/envs/sci-data/lib/python3.9/site-packages/xgboost/core.py:122: UserWarning: ntree_limit is deprecated, use `iteration_range` or model slicing instead.\n",
      "  warnings.warn(\n",
      "/home/panyu/miniconda3/envs/sci-data/lib/python3.9/site-packages/xgboost/core.py:122: UserWarning: ntree_limit is deprecated, use `iteration_range` or model slicing instead.\n",
      "  warnings.warn(\n"
     ]
    },
    {
     "name": "stdout",
     "output_type": "stream",
     "text": [
      "[0]\ttrain-auc:0.79093\teval-auc:0.73019\n",
      "[1]\ttrain-auc:0.79263\teval-auc:0.73110\n",
      "[2]\ttrain-auc:0.79287\teval-auc:0.73215\n",
      "[3]\ttrain-auc:0.79811\teval-auc:0.73673\n",
      "[4]\ttrain-auc:0.79988\teval-auc:0.73917\n",
      "[5]\ttrain-auc:0.80204\teval-auc:0.74087\n",
      "[6]\ttrain-auc:0.80337\teval-auc:0.74226\n",
      "[7]\ttrain-auc:0.80459\teval-auc:0.74389\n",
      "[8]\ttrain-auc:0.80562\teval-auc:0.74536\n",
      "[9]\ttrain-auc:0.80638\teval-auc:0.74581\n",
      "finish training & evaluation for P042\n",
      "start training & evaluation for P065\n"
     ]
    },
    {
     "name": "stderr",
     "output_type": "stream",
     "text": [
      "/home/panyu/miniconda3/envs/sci-data/lib/python3.9/site-packages/xgboost/core.py:122: UserWarning: ntree_limit is deprecated, use `iteration_range` or model slicing instead.\n",
      "  warnings.warn(\n",
      "/home/panyu/miniconda3/envs/sci-data/lib/python3.9/site-packages/xgboost/core.py:122: UserWarning: ntree_limit is deprecated, use `iteration_range` or model slicing instead.\n",
      "  warnings.warn(\n"
     ]
    },
    {
     "name": "stdout",
     "output_type": "stream",
     "text": [
      "[0]\ttrain-auc:0.79153\teval-auc:0.72947\n",
      "[1]\ttrain-auc:0.79635\teval-auc:0.73122\n",
      "[2]\ttrain-auc:0.79699\teval-auc:0.73199\n",
      "[3]\ttrain-auc:0.79740\teval-auc:0.73237\n",
      "[4]\ttrain-auc:0.79762\teval-auc:0.73122\n",
      "[5]\ttrain-auc:0.79910\teval-auc:0.73304\n",
      "[6]\ttrain-auc:0.80035\teval-auc:0.73258\n",
      "[7]\ttrain-auc:0.80124\teval-auc:0.73350\n",
      "[8]\ttrain-auc:0.80336\teval-auc:0.73632\n",
      "[9]\ttrain-auc:0.80404\teval-auc:0.73791\n",
      "finish training & evaluation for P065\n",
      "start training & evaluation for P020\n"
     ]
    },
    {
     "name": "stderr",
     "output_type": "stream",
     "text": [
      "/home/panyu/miniconda3/envs/sci-data/lib/python3.9/site-packages/xgboost/core.py:122: UserWarning: ntree_limit is deprecated, use `iteration_range` or model slicing instead.\n",
      "  warnings.warn(\n",
      "/home/panyu/miniconda3/envs/sci-data/lib/python3.9/site-packages/xgboost/core.py:122: UserWarning: ntree_limit is deprecated, use `iteration_range` or model slicing instead.\n",
      "  warnings.warn(\n"
     ]
    },
    {
     "name": "stdout",
     "output_type": "stream",
     "text": [
      "[0]\ttrain-auc:0.79373\teval-auc:0.73025\n",
      "[1]\ttrain-auc:0.79917\teval-auc:0.73329\n",
      "[2]\ttrain-auc:0.79909\teval-auc:0.73471\n",
      "[3]\ttrain-auc:0.79976\teval-auc:0.73415\n",
      "[4]\ttrain-auc:0.80380\teval-auc:0.73863\n",
      "[5]\ttrain-auc:0.80461\teval-auc:0.73921\n",
      "[6]\ttrain-auc:0.80702\teval-auc:0.74278\n",
      "[7]\ttrain-auc:0.80714\teval-auc:0.74310\n",
      "[8]\ttrain-auc:0.80839\teval-auc:0.74381\n",
      "[9]\ttrain-auc:0.80882\teval-auc:0.74403\n",
      "finish training & evaluation for P020\n",
      "start training & evaluation for P046\n"
     ]
    },
    {
     "name": "stderr",
     "output_type": "stream",
     "text": [
      "/home/panyu/miniconda3/envs/sci-data/lib/python3.9/site-packages/xgboost/core.py:122: UserWarning: ntree_limit is deprecated, use `iteration_range` or model slicing instead.\n",
      "  warnings.warn(\n",
      "/home/panyu/miniconda3/envs/sci-data/lib/python3.9/site-packages/xgboost/core.py:122: UserWarning: ntree_limit is deprecated, use `iteration_range` or model slicing instead.\n",
      "  warnings.warn(\n"
     ]
    },
    {
     "name": "stdout",
     "output_type": "stream",
     "text": [
      "[0]\ttrain-auc:0.79332\teval-auc:0.72583\n",
      "[1]\ttrain-auc:0.79447\teval-auc:0.72737\n",
      "[2]\ttrain-auc:0.79523\teval-auc:0.72796\n",
      "[3]\ttrain-auc:0.79683\teval-auc:0.72971\n",
      "[4]\ttrain-auc:0.79806\teval-auc:0.73111\n",
      "[5]\ttrain-auc:0.80033\teval-auc:0.73323\n",
      "[6]\ttrain-auc:0.80114\teval-auc:0.73384\n",
      "[7]\ttrain-auc:0.80293\teval-auc:0.73449\n",
      "[8]\ttrain-auc:0.80393\teval-auc:0.73564\n",
      "[9]\ttrain-auc:0.80445\teval-auc:0.73585\n",
      "finish training & evaluation for P046\n",
      "start training & evaluation for P067\n"
     ]
    },
    {
     "name": "stderr",
     "output_type": "stream",
     "text": [
      "/home/panyu/miniconda3/envs/sci-data/lib/python3.9/site-packages/xgboost/core.py:122: UserWarning: ntree_limit is deprecated, use `iteration_range` or model slicing instead.\n",
      "  warnings.warn(\n",
      "/home/panyu/miniconda3/envs/sci-data/lib/python3.9/site-packages/xgboost/core.py:122: UserWarning: ntree_limit is deprecated, use `iteration_range` or model slicing instead.\n",
      "  warnings.warn(\n"
     ]
    },
    {
     "name": "stdout",
     "output_type": "stream",
     "text": [
      "[0]\ttrain-auc:0.79380\teval-auc:0.74068\n",
      "[1]\ttrain-auc:0.79543\teval-auc:0.74149\n",
      "[2]\ttrain-auc:0.79568\teval-auc:0.74098\n",
      "[3]\ttrain-auc:0.79642\teval-auc:0.74183\n",
      "[4]\ttrain-auc:0.79850\teval-auc:0.74384\n",
      "[5]\ttrain-auc:0.79871\teval-auc:0.74377\n",
      "[6]\ttrain-auc:0.79990\teval-auc:0.74482\n",
      "[7]\ttrain-auc:0.80007\teval-auc:0.74529\n",
      "[8]\ttrain-auc:0.80095\teval-auc:0.74603\n",
      "[9]\ttrain-auc:0.80408\teval-auc:0.74769\n",
      "finish training & evaluation for P067\n",
      "start training & evaluation for P033\n"
     ]
    },
    {
     "name": "stderr",
     "output_type": "stream",
     "text": [
      "/home/panyu/miniconda3/envs/sci-data/lib/python3.9/site-packages/xgboost/core.py:122: UserWarning: ntree_limit is deprecated, use `iteration_range` or model slicing instead.\n",
      "  warnings.warn(\n",
      "/home/panyu/miniconda3/envs/sci-data/lib/python3.9/site-packages/xgboost/core.py:122: UserWarning: ntree_limit is deprecated, use `iteration_range` or model slicing instead.\n",
      "  warnings.warn(\n"
     ]
    },
    {
     "name": "stdout",
     "output_type": "stream",
     "text": [
      "[0]\ttrain-auc:0.79550\teval-auc:0.72702\n",
      "[1]\ttrain-auc:0.79709\teval-auc:0.72931\n",
      "[2]\ttrain-auc:0.80005\teval-auc:0.72882\n",
      "[3]\ttrain-auc:0.80079\teval-auc:0.72877\n",
      "[4]\ttrain-auc:0.80190\teval-auc:0.72794\n",
      "[5]\ttrain-auc:0.80711\teval-auc:0.73276\n",
      "[6]\ttrain-auc:0.80714\teval-auc:0.73421\n",
      "[7]\ttrain-auc:0.80890\teval-auc:0.73440\n",
      "[8]\ttrain-auc:0.81089\teval-auc:0.73652\n",
      "[9]\ttrain-auc:0.81204\teval-auc:0.73782\n",
      "finish training & evaluation for P033\n",
      "start training & evaluation for P030\n"
     ]
    },
    {
     "name": "stderr",
     "output_type": "stream",
     "text": [
      "/home/panyu/miniconda3/envs/sci-data/lib/python3.9/site-packages/xgboost/core.py:122: UserWarning: ntree_limit is deprecated, use `iteration_range` or model slicing instead.\n",
      "  warnings.warn(\n",
      "/home/panyu/miniconda3/envs/sci-data/lib/python3.9/site-packages/xgboost/core.py:122: UserWarning: ntree_limit is deprecated, use `iteration_range` or model slicing instead.\n",
      "  warnings.warn(\n"
     ]
    },
    {
     "name": "stdout",
     "output_type": "stream",
     "text": [
      "[0]\ttrain-auc:0.79566\teval-auc:0.71765\n",
      "[1]\ttrain-auc:0.80004\teval-auc:0.72245\n",
      "[2]\ttrain-auc:0.80438\teval-auc:0.72520\n",
      "[3]\ttrain-auc:0.80942\teval-auc:0.72575\n",
      "[4]\ttrain-auc:0.81236\teval-auc:0.72867\n",
      "[5]\ttrain-auc:0.81288\teval-auc:0.72993\n",
      "[6]\ttrain-auc:0.81418\teval-auc:0.73042\n",
      "[7]\ttrain-auc:0.81466\teval-auc:0.73083\n",
      "[8]\ttrain-auc:0.81538\teval-auc:0.73062\n",
      "[9]\ttrain-auc:0.81642\teval-auc:0.73102\n",
      "finish training & evaluation for P030\n",
      "start training & evaluation for P054\n"
     ]
    },
    {
     "name": "stderr",
     "output_type": "stream",
     "text": [
      "/home/panyu/miniconda3/envs/sci-data/lib/python3.9/site-packages/xgboost/core.py:122: UserWarning: ntree_limit is deprecated, use `iteration_range` or model slicing instead.\n",
      "  warnings.warn(\n",
      "/home/panyu/miniconda3/envs/sci-data/lib/python3.9/site-packages/xgboost/core.py:122: UserWarning: ntree_limit is deprecated, use `iteration_range` or model slicing instead.\n",
      "  warnings.warn(\n"
     ]
    },
    {
     "name": "stdout",
     "output_type": "stream",
     "text": [
      "[0]\ttrain-auc:0.79096\teval-auc:0.71943\n",
      "[1]\ttrain-auc:0.79260\teval-auc:0.72156\n",
      "[2]\ttrain-auc:0.79299\teval-auc:0.72212\n",
      "[3]\ttrain-auc:0.79682\teval-auc:0.72619\n",
      "[4]\ttrain-auc:0.79774\teval-auc:0.72624\n",
      "[5]\ttrain-auc:0.79906\teval-auc:0.72860\n",
      "[6]\ttrain-auc:0.79957\teval-auc:0.72765\n",
      "[7]\ttrain-auc:0.80058\teval-auc:0.72953\n",
      "[8]\ttrain-auc:0.80094\teval-auc:0.72976\n",
      "[9]\ttrain-auc:0.80255\teval-auc:0.73232\n",
      "finish training & evaluation for P054\n",
      "start training & evaluation for P050\n"
     ]
    },
    {
     "name": "stderr",
     "output_type": "stream",
     "text": [
      "/home/panyu/miniconda3/envs/sci-data/lib/python3.9/site-packages/xgboost/core.py:122: UserWarning: ntree_limit is deprecated, use `iteration_range` or model slicing instead.\n",
      "  warnings.warn(\n",
      "/home/panyu/miniconda3/envs/sci-data/lib/python3.9/site-packages/xgboost/core.py:122: UserWarning: ntree_limit is deprecated, use `iteration_range` or model slicing instead.\n",
      "  warnings.warn(\n"
     ]
    },
    {
     "name": "stdout",
     "output_type": "stream",
     "text": [
      "[0]\ttrain-auc:0.79429\teval-auc:0.73282\n",
      "[1]\ttrain-auc:0.79577\teval-auc:0.73406\n",
      "[2]\ttrain-auc:0.79692\teval-auc:0.73444\n",
      "[3]\ttrain-auc:0.80271\teval-auc:0.73710\n",
      "[4]\ttrain-auc:0.80505\teval-auc:0.74040\n",
      "[5]\ttrain-auc:0.80545\teval-auc:0.74145\n",
      "[6]\ttrain-auc:0.80656\teval-auc:0.74163\n",
      "[7]\ttrain-auc:0.80727\teval-auc:0.74271\n",
      "[8]\ttrain-auc:0.80780\teval-auc:0.74262\n",
      "[9]\ttrain-auc:0.80989\teval-auc:0.74372\n",
      "finish training & evaluation for P050\n",
      "start training & evaluation for P119\n"
     ]
    },
    {
     "name": "stderr",
     "output_type": "stream",
     "text": [
      "/home/panyu/miniconda3/envs/sci-data/lib/python3.9/site-packages/xgboost/core.py:122: UserWarning: ntree_limit is deprecated, use `iteration_range` or model slicing instead.\n",
      "  warnings.warn(\n",
      "/home/panyu/miniconda3/envs/sci-data/lib/python3.9/site-packages/xgboost/core.py:122: UserWarning: ntree_limit is deprecated, use `iteration_range` or model slicing instead.\n",
      "  warnings.warn(\n"
     ]
    },
    {
     "name": "stdout",
     "output_type": "stream",
     "text": [
      "[0]\ttrain-auc:0.79333\teval-auc:0.73188\n",
      "[1]\ttrain-auc:0.79833\teval-auc:0.73480\n",
      "[2]\ttrain-auc:0.79843\teval-auc:0.73449\n",
      "[3]\ttrain-auc:0.79984\teval-auc:0.73398\n",
      "[4]\ttrain-auc:0.79932\teval-auc:0.73422\n",
      "[5]\ttrain-auc:0.80054\teval-auc:0.73383\n",
      "[6]\ttrain-auc:0.80126\teval-auc:0.73438\n",
      "[7]\ttrain-auc:0.80156\teval-auc:0.73438\n",
      "[8]\ttrain-auc:0.80280\teval-auc:0.73440\n",
      "[9]\ttrain-auc:0.80336\teval-auc:0.73420\n",
      "finish training & evaluation for P119\n",
      "start training & evaluation for P035\n"
     ]
    },
    {
     "name": "stderr",
     "output_type": "stream",
     "text": [
      "/home/panyu/miniconda3/envs/sci-data/lib/python3.9/site-packages/xgboost/core.py:122: UserWarning: ntree_limit is deprecated, use `iteration_range` or model slicing instead.\n",
      "  warnings.warn(\n",
      "/home/panyu/miniconda3/envs/sci-data/lib/python3.9/site-packages/xgboost/core.py:122: UserWarning: ntree_limit is deprecated, use `iteration_range` or model slicing instead.\n",
      "  warnings.warn(\n"
     ]
    },
    {
     "name": "stdout",
     "output_type": "stream",
     "text": [
      "[0]\ttrain-auc:0.78850\teval-auc:0.72973\n",
      "[1]\ttrain-auc:0.79079\teval-auc:0.73191\n",
      "[2]\ttrain-auc:0.79245\teval-auc:0.73433\n",
      "[3]\ttrain-auc:0.79252\teval-auc:0.73456\n",
      "[4]\ttrain-auc:0.79337\teval-auc:0.73564\n",
      "[5]\ttrain-auc:0.79375\teval-auc:0.73567\n",
      "[6]\ttrain-auc:0.79621\teval-auc:0.73947\n",
      "[7]\ttrain-auc:0.79749\teval-auc:0.73968\n",
      "[8]\ttrain-auc:0.79963\teval-auc:0.74154\n",
      "[9]\ttrain-auc:0.79934\teval-auc:0.74126\n",
      "finish training & evaluation for P035\n",
      "start training & evaluation for P016\n"
     ]
    },
    {
     "name": "stderr",
     "output_type": "stream",
     "text": [
      "/home/panyu/miniconda3/envs/sci-data/lib/python3.9/site-packages/xgboost/core.py:122: UserWarning: ntree_limit is deprecated, use `iteration_range` or model slicing instead.\n",
      "  warnings.warn(\n",
      "/home/panyu/miniconda3/envs/sci-data/lib/python3.9/site-packages/xgboost/core.py:122: UserWarning: ntree_limit is deprecated, use `iteration_range` or model slicing instead.\n",
      "  warnings.warn(\n"
     ]
    },
    {
     "name": "stdout",
     "output_type": "stream",
     "text": [
      "[0]\ttrain-auc:0.79758\teval-auc:0.71734\n",
      "[1]\ttrain-auc:0.79843\teval-auc:0.71698\n",
      "[2]\ttrain-auc:0.79946\teval-auc:0.71876\n",
      "[3]\ttrain-auc:0.80187\teval-auc:0.72106\n",
      "[4]\ttrain-auc:0.80201\teval-auc:0.72183\n",
      "[5]\ttrain-auc:0.80512\teval-auc:0.72341\n",
      "[6]\ttrain-auc:0.80523\teval-auc:0.72387\n",
      "[7]\ttrain-auc:0.80655\teval-auc:0.72464\n",
      "[8]\ttrain-auc:0.80743\teval-auc:0.72511\n",
      "[9]\ttrain-auc:0.80793\teval-auc:0.72602\n",
      "finish training & evaluation for P016\n",
      "start training & evaluation for P120\n"
     ]
    },
    {
     "name": "stderr",
     "output_type": "stream",
     "text": [
      "/home/panyu/miniconda3/envs/sci-data/lib/python3.9/site-packages/xgboost/core.py:122: UserWarning: ntree_limit is deprecated, use `iteration_range` or model slicing instead.\n",
      "  warnings.warn(\n",
      "/home/panyu/miniconda3/envs/sci-data/lib/python3.9/site-packages/xgboost/core.py:122: UserWarning: ntree_limit is deprecated, use `iteration_range` or model slicing instead.\n",
      "  warnings.warn(\n"
     ]
    },
    {
     "name": "stdout",
     "output_type": "stream",
     "text": [
      "[0]\ttrain-auc:0.79652\teval-auc:0.72991\n",
      "[1]\ttrain-auc:0.79860\teval-auc:0.73167\n",
      "[2]\ttrain-auc:0.80188\teval-auc:0.73421\n",
      "[3]\ttrain-auc:0.80527\teval-auc:0.73587\n",
      "[4]\ttrain-auc:0.80519\teval-auc:0.73578\n",
      "[5]\ttrain-auc:0.80540\teval-auc:0.73530\n",
      "[6]\ttrain-auc:0.80555\teval-auc:0.73569\n",
      "[7]\ttrain-auc:0.80604\teval-auc:0.73605\n",
      "[8]\ttrain-auc:0.80612\teval-auc:0.73554\n",
      "[9]\ttrain-auc:0.80716\teval-auc:0.73628\n",
      "finish training & evaluation for P120\n",
      "start training & evaluation for P096\n"
     ]
    },
    {
     "name": "stderr",
     "output_type": "stream",
     "text": [
      "/home/panyu/miniconda3/envs/sci-data/lib/python3.9/site-packages/xgboost/core.py:122: UserWarning: ntree_limit is deprecated, use `iteration_range` or model slicing instead.\n",
      "  warnings.warn(\n",
      "/home/panyu/miniconda3/envs/sci-data/lib/python3.9/site-packages/xgboost/core.py:122: UserWarning: ntree_limit is deprecated, use `iteration_range` or model slicing instead.\n",
      "  warnings.warn(\n"
     ]
    },
    {
     "name": "stdout",
     "output_type": "stream",
     "text": [
      "[0]\ttrain-auc:0.79035\teval-auc:0.73639\n",
      "[1]\ttrain-auc:0.79237\teval-auc:0.73744\n",
      "[2]\ttrain-auc:0.79631\teval-auc:0.73907\n",
      "[3]\ttrain-auc:0.79927\teval-auc:0.73882\n",
      "[4]\ttrain-auc:0.80023\teval-auc:0.74192\n",
      "[5]\ttrain-auc:0.80183\teval-auc:0.74144\n",
      "[6]\ttrain-auc:0.80280\teval-auc:0.74210\n",
      "[7]\ttrain-auc:0.80289\teval-auc:0.74312\n",
      "[8]\ttrain-auc:0.80414\teval-auc:0.74227\n",
      "[9]\ttrain-auc:0.80455\teval-auc:0.74274\n",
      "finish training & evaluation for P096\n",
      "start training & evaluation for P072\n"
     ]
    },
    {
     "name": "stderr",
     "output_type": "stream",
     "text": [
      "/home/panyu/miniconda3/envs/sci-data/lib/python3.9/site-packages/xgboost/core.py:122: UserWarning: ntree_limit is deprecated, use `iteration_range` or model slicing instead.\n",
      "  warnings.warn(\n",
      "/home/panyu/miniconda3/envs/sci-data/lib/python3.9/site-packages/xgboost/core.py:122: UserWarning: ntree_limit is deprecated, use `iteration_range` or model slicing instead.\n",
      "  warnings.warn(\n"
     ]
    },
    {
     "name": "stdout",
     "output_type": "stream",
     "text": [
      "[0]\ttrain-auc:0.78823\teval-auc:0.72995\n",
      "[1]\ttrain-auc:0.78968\teval-auc:0.73131\n",
      "[2]\ttrain-auc:0.79254\teval-auc:0.73411\n",
      "[3]\ttrain-auc:0.79400\teval-auc:0.73546\n",
      "[4]\ttrain-auc:0.79439\teval-auc:0.73604\n",
      "[5]\ttrain-auc:0.79563\teval-auc:0.73740\n",
      "[6]\ttrain-auc:0.79829\teval-auc:0.73918\n",
      "[7]\ttrain-auc:0.80366\teval-auc:0.74224\n",
      "[8]\ttrain-auc:0.80590\teval-auc:0.74420\n",
      "[9]\ttrain-auc:0.80695\teval-auc:0.74413\n",
      "finish training & evaluation for P072\n",
      "start training & evaluation for P015\n"
     ]
    },
    {
     "name": "stderr",
     "output_type": "stream",
     "text": [
      "/home/panyu/miniconda3/envs/sci-data/lib/python3.9/site-packages/xgboost/core.py:122: UserWarning: ntree_limit is deprecated, use `iteration_range` or model slicing instead.\n",
      "  warnings.warn(\n",
      "/home/panyu/miniconda3/envs/sci-data/lib/python3.9/site-packages/xgboost/core.py:122: UserWarning: ntree_limit is deprecated, use `iteration_range` or model slicing instead.\n",
      "  warnings.warn(\n"
     ]
    },
    {
     "name": "stdout",
     "output_type": "stream",
     "text": [
      "[0]\ttrain-auc:0.79416\teval-auc:0.73701\n",
      "[1]\ttrain-auc:0.79602\teval-auc:0.73823\n",
      "[2]\ttrain-auc:0.79970\teval-auc:0.74010\n",
      "[3]\ttrain-auc:0.80339\teval-auc:0.74472\n",
      "[4]\ttrain-auc:0.80471\teval-auc:0.74593\n",
      "[5]\ttrain-auc:0.80583\teval-auc:0.74743\n",
      "[6]\ttrain-auc:0.80732\teval-auc:0.74829\n",
      "[7]\ttrain-auc:0.80752\teval-auc:0.74792\n",
      "[8]\ttrain-auc:0.80767\teval-auc:0.74845\n",
      "[9]\ttrain-auc:0.80834\teval-auc:0.74940\n",
      "finish training & evaluation for P015\n",
      "start training & evaluation for P024\n"
     ]
    },
    {
     "name": "stderr",
     "output_type": "stream",
     "text": [
      "/home/panyu/miniconda3/envs/sci-data/lib/python3.9/site-packages/xgboost/core.py:122: UserWarning: ntree_limit is deprecated, use `iteration_range` or model slicing instead.\n",
      "  warnings.warn(\n",
      "/home/panyu/miniconda3/envs/sci-data/lib/python3.9/site-packages/xgboost/core.py:122: UserWarning: ntree_limit is deprecated, use `iteration_range` or model slicing instead.\n",
      "  warnings.warn(\n"
     ]
    },
    {
     "name": "stdout",
     "output_type": "stream",
     "text": [
      "[0]\ttrain-auc:0.79581\teval-auc:0.72439\n",
      "[1]\ttrain-auc:0.79903\teval-auc:0.72690\n",
      "[2]\ttrain-auc:0.79904\teval-auc:0.72706\n",
      "[3]\ttrain-auc:0.80784\teval-auc:0.73423\n",
      "[4]\ttrain-auc:0.80810\teval-auc:0.73427\n",
      "[5]\ttrain-auc:0.81064\teval-auc:0.73673\n",
      "[6]\ttrain-auc:0.81040\teval-auc:0.73617\n",
      "[7]\ttrain-auc:0.81157\teval-auc:0.73743\n",
      "[8]\ttrain-auc:0.81131\teval-auc:0.73704\n",
      "[9]\ttrain-auc:0.81238\teval-auc:0.73875\n",
      "finish training & evaluation for P024\n",
      "start training & evaluation for P126\n"
     ]
    },
    {
     "name": "stderr",
     "output_type": "stream",
     "text": [
      "/home/panyu/miniconda3/envs/sci-data/lib/python3.9/site-packages/xgboost/core.py:122: UserWarning: ntree_limit is deprecated, use `iteration_range` or model slicing instead.\n",
      "  warnings.warn(\n",
      "/home/panyu/miniconda3/envs/sci-data/lib/python3.9/site-packages/xgboost/core.py:122: UserWarning: ntree_limit is deprecated, use `iteration_range` or model slicing instead.\n",
      "  warnings.warn(\n"
     ]
    },
    {
     "name": "stdout",
     "output_type": "stream",
     "text": [
      "[0]\ttrain-auc:0.79116\teval-auc:0.72122\n",
      "[1]\ttrain-auc:0.79653\teval-auc:0.72471\n",
      "[2]\ttrain-auc:0.79580\teval-auc:0.72443\n",
      "[3]\ttrain-auc:0.79863\teval-auc:0.72846\n",
      "[4]\ttrain-auc:0.79881\teval-auc:0.73080\n",
      "[5]\ttrain-auc:0.79967\teval-auc:0.73079\n",
      "[6]\ttrain-auc:0.80205\teval-auc:0.73273\n",
      "[7]\ttrain-auc:0.80349\teval-auc:0.73409\n",
      "[8]\ttrain-auc:0.80496\teval-auc:0.73521\n",
      "[9]\ttrain-auc:0.80554\teval-auc:0.73608\n",
      "finish training & evaluation for P126\n",
      "start training & evaluation for P003\n"
     ]
    },
    {
     "name": "stderr",
     "output_type": "stream",
     "text": [
      "/home/panyu/miniconda3/envs/sci-data/lib/python3.9/site-packages/xgboost/core.py:122: UserWarning: ntree_limit is deprecated, use `iteration_range` or model slicing instead.\n",
      "  warnings.warn(\n",
      "/home/panyu/miniconda3/envs/sci-data/lib/python3.9/site-packages/xgboost/core.py:122: UserWarning: ntree_limit is deprecated, use `iteration_range` or model slicing instead.\n",
      "  warnings.warn(\n"
     ]
    },
    {
     "name": "stdout",
     "output_type": "stream",
     "text": [
      "[0]\ttrain-auc:0.79164\teval-auc:0.71917\n",
      "[1]\ttrain-auc:0.79465\teval-auc:0.72252\n",
      "[2]\ttrain-auc:0.79497\teval-auc:0.72115\n",
      "[3]\ttrain-auc:0.80318\teval-auc:0.72644\n",
      "[4]\ttrain-auc:0.80296\teval-auc:0.72738\n",
      "[5]\ttrain-auc:0.80556\teval-auc:0.72902\n",
      "[6]\ttrain-auc:0.80585\teval-auc:0.73002\n",
      "[7]\ttrain-auc:0.80703\teval-auc:0.73182\n",
      "[8]\ttrain-auc:0.80688\teval-auc:0.73195\n",
      "[9]\ttrain-auc:0.80721\teval-auc:0.73247\n",
      "finish training & evaluation for P003\n",
      "start training & evaluation for P044\n"
     ]
    },
    {
     "name": "stderr",
     "output_type": "stream",
     "text": [
      "/home/panyu/miniconda3/envs/sci-data/lib/python3.9/site-packages/xgboost/core.py:122: UserWarning: ntree_limit is deprecated, use `iteration_range` or model slicing instead.\n",
      "  warnings.warn(\n",
      "/home/panyu/miniconda3/envs/sci-data/lib/python3.9/site-packages/xgboost/core.py:122: UserWarning: ntree_limit is deprecated, use `iteration_range` or model slicing instead.\n",
      "  warnings.warn(\n"
     ]
    },
    {
     "name": "stdout",
     "output_type": "stream",
     "text": [
      "[0]\ttrain-auc:0.79303\teval-auc:0.73592\n",
      "[1]\ttrain-auc:0.79321\teval-auc:0.73626\n",
      "[2]\ttrain-auc:0.79986\teval-auc:0.74061\n",
      "[3]\ttrain-auc:0.80195\teval-auc:0.74278\n",
      "[4]\ttrain-auc:0.80404\teval-auc:0.74582\n",
      "[5]\ttrain-auc:0.80526\teval-auc:0.74604\n",
      "[6]\ttrain-auc:0.80776\teval-auc:0.74836\n",
      "[7]\ttrain-auc:0.80859\teval-auc:0.74856\n",
      "[8]\ttrain-auc:0.80841\teval-auc:0.74869\n",
      "[9]\ttrain-auc:0.81180\teval-auc:0.74970\n",
      "finish training & evaluation for P044\n",
      "start training & evaluation for P101\n"
     ]
    },
    {
     "name": "stderr",
     "output_type": "stream",
     "text": [
      "/home/panyu/miniconda3/envs/sci-data/lib/python3.9/site-packages/xgboost/core.py:122: UserWarning: ntree_limit is deprecated, use `iteration_range` or model slicing instead.\n",
      "  warnings.warn(\n",
      "/home/panyu/miniconda3/envs/sci-data/lib/python3.9/site-packages/xgboost/core.py:122: UserWarning: ntree_limit is deprecated, use `iteration_range` or model slicing instead.\n",
      "  warnings.warn(\n"
     ]
    },
    {
     "name": "stdout",
     "output_type": "stream",
     "text": [
      "[0]\ttrain-auc:0.79348\teval-auc:0.72859\n",
      "[1]\ttrain-auc:0.79679\teval-auc:0.73455\n",
      "[2]\ttrain-auc:0.79923\teval-auc:0.73662\n",
      "[3]\ttrain-auc:0.80027\teval-auc:0.73775\n",
      "[4]\ttrain-auc:0.80370\teval-auc:0.74032\n",
      "[5]\ttrain-auc:0.80526\teval-auc:0.73988\n",
      "[6]\ttrain-auc:0.80575\teval-auc:0.74117\n",
      "[7]\ttrain-auc:0.80611\teval-auc:0.74156\n",
      "[8]\ttrain-auc:0.80770\teval-auc:0.74241\n",
      "[9]\ttrain-auc:0.80777\teval-auc:0.74243\n",
      "finish training & evaluation for P101\n",
      "start training & evaluation for P056\n"
     ]
    },
    {
     "name": "stderr",
     "output_type": "stream",
     "text": [
      "/home/panyu/miniconda3/envs/sci-data/lib/python3.9/site-packages/xgboost/core.py:122: UserWarning: ntree_limit is deprecated, use `iteration_range` or model slicing instead.\n",
      "  warnings.warn(\n",
      "/home/panyu/miniconda3/envs/sci-data/lib/python3.9/site-packages/xgboost/core.py:122: UserWarning: ntree_limit is deprecated, use `iteration_range` or model slicing instead.\n",
      "  warnings.warn(\n"
     ]
    },
    {
     "name": "stdout",
     "output_type": "stream",
     "text": [
      "[0]\ttrain-auc:0.79602\teval-auc:0.72585\n",
      "[1]\ttrain-auc:0.79825\teval-auc:0.72749\n",
      "[2]\ttrain-auc:0.80138\teval-auc:0.72949\n",
      "[3]\ttrain-auc:0.80163\teval-auc:0.72911\n",
      "[4]\ttrain-auc:0.80260\teval-auc:0.73034\n",
      "[5]\ttrain-auc:0.80452\teval-auc:0.73250\n",
      "[6]\ttrain-auc:0.80911\teval-auc:0.73520\n",
      "[7]\ttrain-auc:0.81012\teval-auc:0.73544\n",
      "[8]\ttrain-auc:0.81132\teval-auc:0.73644\n",
      "[9]\ttrain-auc:0.81317\teval-auc:0.73810\n",
      "finish training & evaluation for P056\n",
      "start training & evaluation for P048\n"
     ]
    },
    {
     "name": "stderr",
     "output_type": "stream",
     "text": [
      "/home/panyu/miniconda3/envs/sci-data/lib/python3.9/site-packages/xgboost/core.py:122: UserWarning: ntree_limit is deprecated, use `iteration_range` or model slicing instead.\n",
      "  warnings.warn(\n",
      "/home/panyu/miniconda3/envs/sci-data/lib/python3.9/site-packages/xgboost/core.py:122: UserWarning: ntree_limit is deprecated, use `iteration_range` or model slicing instead.\n",
      "  warnings.warn(\n"
     ]
    },
    {
     "name": "stdout",
     "output_type": "stream",
     "text": [
      "[0]\ttrain-auc:0.79701\teval-auc:0.71951\n",
      "[1]\ttrain-auc:0.80071\teval-auc:0.72155\n",
      "[2]\ttrain-auc:0.80752\teval-auc:0.72733\n",
      "[3]\ttrain-auc:0.81079\teval-auc:0.73051\n",
      "[4]\ttrain-auc:0.80996\teval-auc:0.72988\n",
      "[5]\ttrain-auc:0.81113\teval-auc:0.73101\n",
      "[6]\ttrain-auc:0.81177\teval-auc:0.73132\n",
      "[7]\ttrain-auc:0.81289\teval-auc:0.73281\n",
      "[8]\ttrain-auc:0.81524\teval-auc:0.73532\n",
      "[9]\ttrain-auc:0.81556\teval-auc:0.73443\n",
      "finish training & evaluation for P048\n",
      "start training & evaluation for P070\n"
     ]
    },
    {
     "name": "stderr",
     "output_type": "stream",
     "text": [
      "/home/panyu/miniconda3/envs/sci-data/lib/python3.9/site-packages/xgboost/core.py:122: UserWarning: ntree_limit is deprecated, use `iteration_range` or model slicing instead.\n",
      "  warnings.warn(\n",
      "/home/panyu/miniconda3/envs/sci-data/lib/python3.9/site-packages/xgboost/core.py:122: UserWarning: ntree_limit is deprecated, use `iteration_range` or model slicing instead.\n",
      "  warnings.warn(\n"
     ]
    },
    {
     "name": "stdout",
     "output_type": "stream",
     "text": [
      "[0]\ttrain-auc:0.79472\teval-auc:0.72791\n",
      "[1]\ttrain-auc:0.79602\teval-auc:0.72933\n",
      "[2]\ttrain-auc:0.79676\teval-auc:0.73135\n",
      "[3]\ttrain-auc:0.79877\teval-auc:0.73142\n",
      "[4]\ttrain-auc:0.80470\teval-auc:0.73702\n",
      "[5]\ttrain-auc:0.80477\teval-auc:0.73616\n",
      "[6]\ttrain-auc:0.80838\teval-auc:0.73859\n",
      "[7]\ttrain-auc:0.80853\teval-auc:0.73936\n",
      "[8]\ttrain-auc:0.81107\teval-auc:0.74177\n",
      "[9]\ttrain-auc:0.81172\teval-auc:0.74224\n",
      "finish training & evaluation for P070\n",
      "start training & evaluation for P010\n"
     ]
    },
    {
     "name": "stderr",
     "output_type": "stream",
     "text": [
      "/home/panyu/miniconda3/envs/sci-data/lib/python3.9/site-packages/xgboost/core.py:122: UserWarning: ntree_limit is deprecated, use `iteration_range` or model slicing instead.\n",
      "  warnings.warn(\n",
      "/home/panyu/miniconda3/envs/sci-data/lib/python3.9/site-packages/xgboost/core.py:122: UserWarning: ntree_limit is deprecated, use `iteration_range` or model slicing instead.\n",
      "  warnings.warn(\n"
     ]
    },
    {
     "name": "stdout",
     "output_type": "stream",
     "text": [
      "[0]\ttrain-auc:0.79084\teval-auc:0.72422\n",
      "[1]\ttrain-auc:0.79120\teval-auc:0.72431\n",
      "[2]\ttrain-auc:0.79358\teval-auc:0.72490\n",
      "[3]\ttrain-auc:0.79312\teval-auc:0.72471\n",
      "[4]\ttrain-auc:0.79693\teval-auc:0.72753\n",
      "[5]\ttrain-auc:0.79989\teval-auc:0.72972\n",
      "[6]\ttrain-auc:0.80020\teval-auc:0.73064\n",
      "[7]\ttrain-auc:0.80303\teval-auc:0.73197\n",
      "[8]\ttrain-auc:0.80291\teval-auc:0.73220\n",
      "[9]\ttrain-auc:0.80451\teval-auc:0.73290\n",
      "finish training & evaluation for P010\n",
      "start training & evaluation for P110\n"
     ]
    },
    {
     "name": "stderr",
     "output_type": "stream",
     "text": [
      "/home/panyu/miniconda3/envs/sci-data/lib/python3.9/site-packages/xgboost/core.py:122: UserWarning: ntree_limit is deprecated, use `iteration_range` or model slicing instead.\n",
      "  warnings.warn(\n",
      "/home/panyu/miniconda3/envs/sci-data/lib/python3.9/site-packages/xgboost/core.py:122: UserWarning: ntree_limit is deprecated, use `iteration_range` or model slicing instead.\n",
      "  warnings.warn(\n"
     ]
    },
    {
     "name": "stdout",
     "output_type": "stream",
     "text": [
      "[0]\ttrain-auc:0.79358\teval-auc:0.72690\n",
      "[1]\ttrain-auc:0.79598\teval-auc:0.72692\n",
      "[2]\ttrain-auc:0.79771\teval-auc:0.72739\n",
      "[3]\ttrain-auc:0.79836\teval-auc:0.72721\n",
      "[4]\ttrain-auc:0.79847\teval-auc:0.72789\n",
      "[5]\ttrain-auc:0.79896\teval-auc:0.72708\n",
      "[6]\ttrain-auc:0.80501\teval-auc:0.73213\n",
      "[7]\ttrain-auc:0.80578\teval-auc:0.73231\n",
      "[8]\ttrain-auc:0.80730\teval-auc:0.73386\n",
      "[9]\ttrain-auc:0.80755\teval-auc:0.73334\n",
      "finish training & evaluation for P110\n",
      "start training & evaluation for P009\n"
     ]
    },
    {
     "name": "stderr",
     "output_type": "stream",
     "text": [
      "/home/panyu/miniconda3/envs/sci-data/lib/python3.9/site-packages/xgboost/core.py:122: UserWarning: ntree_limit is deprecated, use `iteration_range` or model slicing instead.\n",
      "  warnings.warn(\n",
      "/home/panyu/miniconda3/envs/sci-data/lib/python3.9/site-packages/xgboost/core.py:122: UserWarning: ntree_limit is deprecated, use `iteration_range` or model slicing instead.\n",
      "  warnings.warn(\n"
     ]
    },
    {
     "name": "stdout",
     "output_type": "stream",
     "text": [
      "[0]\ttrain-auc:0.79715\teval-auc:0.72266\n",
      "[1]\ttrain-auc:0.80553\teval-auc:0.72897\n",
      "[2]\ttrain-auc:0.80581\teval-auc:0.73011\n",
      "[3]\ttrain-auc:0.80816\teval-auc:0.73124\n",
      "[4]\ttrain-auc:0.80861\teval-auc:0.73196\n",
      "[5]\ttrain-auc:0.81072\teval-auc:0.73550\n",
      "[6]\ttrain-auc:0.81114\teval-auc:0.73606\n",
      "[7]\ttrain-auc:0.81185\teval-auc:0.73563\n",
      "[8]\ttrain-auc:0.81295\teval-auc:0.73597\n",
      "[9]\ttrain-auc:0.81409\teval-auc:0.73754\n",
      "finish training & evaluation for P009\n",
      "start training & evaluation for P001\n"
     ]
    },
    {
     "name": "stderr",
     "output_type": "stream",
     "text": [
      "/home/panyu/miniconda3/envs/sci-data/lib/python3.9/site-packages/xgboost/core.py:122: UserWarning: ntree_limit is deprecated, use `iteration_range` or model slicing instead.\n",
      "  warnings.warn(\n",
      "/home/panyu/miniconda3/envs/sci-data/lib/python3.9/site-packages/xgboost/core.py:122: UserWarning: ntree_limit is deprecated, use `iteration_range` or model slicing instead.\n",
      "  warnings.warn(\n"
     ]
    },
    {
     "name": "stdout",
     "output_type": "stream",
     "text": [
      "[0]\ttrain-auc:0.79592\teval-auc:0.72392\n",
      "[1]\ttrain-auc:0.80381\teval-auc:0.73002\n",
      "[2]\ttrain-auc:0.80415\teval-auc:0.73136\n",
      "[3]\ttrain-auc:0.80753\teval-auc:0.73167\n",
      "[4]\ttrain-auc:0.80772\teval-auc:0.73269\n",
      "[5]\ttrain-auc:0.80931\teval-auc:0.73338\n",
      "[6]\ttrain-auc:0.80990\teval-auc:0.73238\n",
      "[7]\ttrain-auc:0.81119\teval-auc:0.73326\n",
      "[8]\ttrain-auc:0.81142\teval-auc:0.73227\n",
      "[9]\ttrain-auc:0.81184\teval-auc:0.73342\n",
      "finish training & evaluation for P001\n",
      "start training & evaluation for P127\n"
     ]
    },
    {
     "name": "stderr",
     "output_type": "stream",
     "text": [
      "/home/panyu/miniconda3/envs/sci-data/lib/python3.9/site-packages/xgboost/core.py:122: UserWarning: ntree_limit is deprecated, use `iteration_range` or model slicing instead.\n",
      "  warnings.warn(\n",
      "/home/panyu/miniconda3/envs/sci-data/lib/python3.9/site-packages/xgboost/core.py:122: UserWarning: ntree_limit is deprecated, use `iteration_range` or model slicing instead.\n",
      "  warnings.warn(\n"
     ]
    },
    {
     "name": "stdout",
     "output_type": "stream",
     "text": [
      "[0]\ttrain-auc:0.79508\teval-auc:0.73373\n",
      "[1]\ttrain-auc:0.79743\teval-auc:0.73620\n",
      "[2]\ttrain-auc:0.79988\teval-auc:0.73837\n",
      "[3]\ttrain-auc:0.80040\teval-auc:0.73809\n",
      "[4]\ttrain-auc:0.80233\teval-auc:0.73731\n",
      "[5]\ttrain-auc:0.80364\teval-auc:0.73837\n",
      "[6]\ttrain-auc:0.80921\teval-auc:0.74217\n",
      "[7]\ttrain-auc:0.81010\teval-auc:0.74328\n",
      "[8]\ttrain-auc:0.81139\teval-auc:0.74403\n",
      "[9]\ttrain-auc:0.81158\teval-auc:0.74380\n",
      "finish training & evaluation for P127\n",
      "start training & evaluation for P029\n"
     ]
    },
    {
     "name": "stderr",
     "output_type": "stream",
     "text": [
      "/home/panyu/miniconda3/envs/sci-data/lib/python3.9/site-packages/xgboost/core.py:122: UserWarning: ntree_limit is deprecated, use `iteration_range` or model slicing instead.\n",
      "  warnings.warn(\n",
      "/home/panyu/miniconda3/envs/sci-data/lib/python3.9/site-packages/xgboost/core.py:122: UserWarning: ntree_limit is deprecated, use `iteration_range` or model slicing instead.\n",
      "  warnings.warn(\n"
     ]
    },
    {
     "name": "stdout",
     "output_type": "stream",
     "text": [
      "[0]\ttrain-auc:0.78993\teval-auc:0.73877\n",
      "[1]\ttrain-auc:0.79105\teval-auc:0.74146\n",
      "[2]\ttrain-auc:0.79367\teval-auc:0.74573\n",
      "[3]\ttrain-auc:0.79495\teval-auc:0.74560\n",
      "[4]\ttrain-auc:0.79607\teval-auc:0.74800\n",
      "[5]\ttrain-auc:0.79780\teval-auc:0.75047\n",
      "[6]\ttrain-auc:0.79896\teval-auc:0.74999\n",
      "[7]\ttrain-auc:0.80041\teval-auc:0.75153\n",
      "[8]\ttrain-auc:0.80328\teval-auc:0.75266\n",
      "[9]\ttrain-auc:0.80388\teval-auc:0.75249\n",
      "finish training & evaluation for P029\n",
      "start training & evaluation for P088\n"
     ]
    },
    {
     "name": "stderr",
     "output_type": "stream",
     "text": [
      "/home/panyu/miniconda3/envs/sci-data/lib/python3.9/site-packages/xgboost/core.py:122: UserWarning: ntree_limit is deprecated, use `iteration_range` or model slicing instead.\n",
      "  warnings.warn(\n",
      "/home/panyu/miniconda3/envs/sci-data/lib/python3.9/site-packages/xgboost/core.py:122: UserWarning: ntree_limit is deprecated, use `iteration_range` or model slicing instead.\n",
      "  warnings.warn(\n"
     ]
    },
    {
     "name": "stdout",
     "output_type": "stream",
     "text": [
      "[0]\ttrain-auc:0.79491\teval-auc:0.73840\n",
      "[1]\ttrain-auc:0.79531\teval-auc:0.73814\n",
      "[2]\ttrain-auc:0.79707\teval-auc:0.73974\n",
      "[3]\ttrain-auc:0.79696\teval-auc:0.73936\n",
      "[4]\ttrain-auc:0.79752\teval-auc:0.73952\n",
      "[5]\ttrain-auc:0.79846\teval-auc:0.74016\n",
      "[6]\ttrain-auc:0.79897\teval-auc:0.74045\n",
      "[7]\ttrain-auc:0.80172\teval-auc:0.74284\n",
      "[8]\ttrain-auc:0.80285\teval-auc:0.74265\n",
      "[9]\ttrain-auc:0.80356\teval-auc:0.74372\n",
      "finish training & evaluation for P088\n",
      "start training & evaluation for P058\n"
     ]
    },
    {
     "name": "stderr",
     "output_type": "stream",
     "text": [
      "/home/panyu/miniconda3/envs/sci-data/lib/python3.9/site-packages/xgboost/core.py:122: UserWarning: ntree_limit is deprecated, use `iteration_range` or model slicing instead.\n",
      "  warnings.warn(\n",
      "/home/panyu/miniconda3/envs/sci-data/lib/python3.9/site-packages/xgboost/core.py:122: UserWarning: ntree_limit is deprecated, use `iteration_range` or model slicing instead.\n",
      "  warnings.warn(\n"
     ]
    },
    {
     "name": "stdout",
     "output_type": "stream",
     "text": [
      "[0]\ttrain-auc:0.79421\teval-auc:0.72611\n",
      "[1]\ttrain-auc:0.79588\teval-auc:0.72658\n",
      "[2]\ttrain-auc:0.79999\teval-auc:0.72975\n",
      "[3]\ttrain-auc:0.80012\teval-auc:0.73014\n",
      "[4]\ttrain-auc:0.80447\teval-auc:0.73596\n",
      "[5]\ttrain-auc:0.80448\teval-auc:0.73566\n",
      "[6]\ttrain-auc:0.80514\teval-auc:0.73530\n",
      "[7]\ttrain-auc:0.80517\teval-auc:0.73561\n",
      "[8]\ttrain-auc:0.80685\teval-auc:0.73722\n",
      "[9]\ttrain-auc:0.80738\teval-auc:0.73824\n",
      "finish training & evaluation for P058\n",
      "start training & evaluation for P099\n"
     ]
    },
    {
     "name": "stderr",
     "output_type": "stream",
     "text": [
      "/home/panyu/miniconda3/envs/sci-data/lib/python3.9/site-packages/xgboost/core.py:122: UserWarning: ntree_limit is deprecated, use `iteration_range` or model slicing instead.\n",
      "  warnings.warn(\n",
      "/home/panyu/miniconda3/envs/sci-data/lib/python3.9/site-packages/xgboost/core.py:122: UserWarning: ntree_limit is deprecated, use `iteration_range` or model slicing instead.\n",
      "  warnings.warn(\n"
     ]
    },
    {
     "name": "stdout",
     "output_type": "stream",
     "text": [
      "[0]\ttrain-auc:0.79329\teval-auc:0.72883\n",
      "[1]\ttrain-auc:0.79489\teval-auc:0.73066\n",
      "[2]\ttrain-auc:0.79535\teval-auc:0.73054\n",
      "[3]\ttrain-auc:0.80014\teval-auc:0.73528\n",
      "[4]\ttrain-auc:0.80075\teval-auc:0.73501\n",
      "[5]\ttrain-auc:0.80194\teval-auc:0.73564\n",
      "[6]\ttrain-auc:0.80361\teval-auc:0.73655\n",
      "[7]\ttrain-auc:0.80510\teval-auc:0.73628\n",
      "[8]\ttrain-auc:0.80639\teval-auc:0.73667\n",
      "[9]\ttrain-auc:0.80633\teval-auc:0.73708\n",
      "finish training & evaluation for P099\n",
      "start training & evaluation for P074\n"
     ]
    },
    {
     "name": "stderr",
     "output_type": "stream",
     "text": [
      "/home/panyu/miniconda3/envs/sci-data/lib/python3.9/site-packages/xgboost/core.py:122: UserWarning: ntree_limit is deprecated, use `iteration_range` or model slicing instead.\n",
      "  warnings.warn(\n",
      "/home/panyu/miniconda3/envs/sci-data/lib/python3.9/site-packages/xgboost/core.py:122: UserWarning: ntree_limit is deprecated, use `iteration_range` or model slicing instead.\n",
      "  warnings.warn(\n"
     ]
    },
    {
     "name": "stdout",
     "output_type": "stream",
     "text": [
      "[0]\ttrain-auc:0.79525\teval-auc:0.72878\n",
      "[1]\ttrain-auc:0.79685\teval-auc:0.73038\n",
      "[2]\ttrain-auc:0.80090\teval-auc:0.73368\n",
      "[3]\ttrain-auc:0.80166\teval-auc:0.73430\n",
      "[4]\ttrain-auc:0.80342\teval-auc:0.73533\n",
      "[5]\ttrain-auc:0.80625\teval-auc:0.73829\n",
      "[6]\ttrain-auc:0.80994\teval-auc:0.74163\n",
      "[7]\ttrain-auc:0.81157\teval-auc:0.74310\n",
      "[8]\ttrain-auc:0.81345\teval-auc:0.74462\n",
      "[9]\ttrain-auc:0.81373\teval-auc:0.74530\n",
      "finish training & evaluation for P074\n",
      "start training & evaluation for P022\n"
     ]
    },
    {
     "name": "stderr",
     "output_type": "stream",
     "text": [
      "/home/panyu/miniconda3/envs/sci-data/lib/python3.9/site-packages/xgboost/core.py:122: UserWarning: ntree_limit is deprecated, use `iteration_range` or model slicing instead.\n",
      "  warnings.warn(\n",
      "/home/panyu/miniconda3/envs/sci-data/lib/python3.9/site-packages/xgboost/core.py:122: UserWarning: ntree_limit is deprecated, use `iteration_range` or model slicing instead.\n",
      "  warnings.warn(\n"
     ]
    },
    {
     "name": "stdout",
     "output_type": "stream",
     "text": [
      "[0]\ttrain-auc:0.79681\teval-auc:0.72089\n",
      "[1]\ttrain-auc:0.80268\teval-auc:0.72421\n",
      "[2]\ttrain-auc:0.80454\teval-auc:0.72357\n",
      "[3]\ttrain-auc:0.81114\teval-auc:0.73036\n",
      "[4]\ttrain-auc:0.81309\teval-auc:0.73173\n",
      "[5]\ttrain-auc:0.81349\teval-auc:0.73049\n",
      "[6]\ttrain-auc:0.81438\teval-auc:0.73112\n",
      "[7]\ttrain-auc:0.81484\teval-auc:0.73230\n",
      "[8]\ttrain-auc:0.81518\teval-auc:0.73274\n",
      "[9]\ttrain-auc:0.81539\teval-auc:0.73305\n",
      "finish training & evaluation for P022\n",
      "start training & evaluation for P084\n"
     ]
    },
    {
     "name": "stderr",
     "output_type": "stream",
     "text": [
      "/home/panyu/miniconda3/envs/sci-data/lib/python3.9/site-packages/xgboost/core.py:122: UserWarning: ntree_limit is deprecated, use `iteration_range` or model slicing instead.\n",
      "  warnings.warn(\n",
      "/home/panyu/miniconda3/envs/sci-data/lib/python3.9/site-packages/xgboost/core.py:122: UserWarning: ntree_limit is deprecated, use `iteration_range` or model slicing instead.\n",
      "  warnings.warn(\n"
     ]
    },
    {
     "name": "stdout",
     "output_type": "stream",
     "text": [
      "[0]\ttrain-auc:0.79077\teval-auc:0.72956\n",
      "[1]\ttrain-auc:0.79205\teval-auc:0.73152\n",
      "[2]\ttrain-auc:0.79315\teval-auc:0.73261\n",
      "[3]\ttrain-auc:0.79340\teval-auc:0.73228\n",
      "[4]\ttrain-auc:0.79427\teval-auc:0.73354\n",
      "[5]\ttrain-auc:0.79744\teval-auc:0.73552\n",
      "[6]\ttrain-auc:0.79761\teval-auc:0.73517\n",
      "[7]\ttrain-auc:0.79887\teval-auc:0.73641\n",
      "[8]\ttrain-auc:0.79908\teval-auc:0.73648\n",
      "[9]\ttrain-auc:0.80173\teval-auc:0.73832\n",
      "finish training & evaluation for P084\n",
      "start training & evaluation for P092\n"
     ]
    },
    {
     "name": "stderr",
     "output_type": "stream",
     "text": [
      "/home/panyu/miniconda3/envs/sci-data/lib/python3.9/site-packages/xgboost/core.py:122: UserWarning: ntree_limit is deprecated, use `iteration_range` or model slicing instead.\n",
      "  warnings.warn(\n",
      "/home/panyu/miniconda3/envs/sci-data/lib/python3.9/site-packages/xgboost/core.py:122: UserWarning: ntree_limit is deprecated, use `iteration_range` or model slicing instead.\n",
      "  warnings.warn(\n"
     ]
    },
    {
     "name": "stdout",
     "output_type": "stream",
     "text": [
      "[0]\ttrain-auc:0.79267\teval-auc:0.72750\n",
      "[1]\ttrain-auc:0.79687\teval-auc:0.73352\n",
      "[2]\ttrain-auc:0.79934\teval-auc:0.73536\n",
      "[3]\ttrain-auc:0.80130\teval-auc:0.73686\n",
      "[4]\ttrain-auc:0.80207\teval-auc:0.73804\n",
      "[5]\ttrain-auc:0.80355\teval-auc:0.73996\n",
      "[6]\ttrain-auc:0.80479\teval-auc:0.74072\n",
      "[7]\ttrain-auc:0.80566\teval-auc:0.74091\n",
      "[8]\ttrain-auc:0.80675\teval-auc:0.74165\n",
      "[9]\ttrain-auc:0.80731\teval-auc:0.74193\n",
      "finish training & evaluation for P092\n",
      "start training & evaluation for P041\n"
     ]
    },
    {
     "name": "stderr",
     "output_type": "stream",
     "text": [
      "/home/panyu/miniconda3/envs/sci-data/lib/python3.9/site-packages/xgboost/core.py:122: UserWarning: ntree_limit is deprecated, use `iteration_range` or model slicing instead.\n",
      "  warnings.warn(\n",
      "/home/panyu/miniconda3/envs/sci-data/lib/python3.9/site-packages/xgboost/core.py:122: UserWarning: ntree_limit is deprecated, use `iteration_range` or model slicing instead.\n",
      "  warnings.warn(\n"
     ]
    },
    {
     "name": "stdout",
     "output_type": "stream",
     "text": [
      "[0]\ttrain-auc:0.79416\teval-auc:0.73173\n",
      "[1]\ttrain-auc:0.79478\teval-auc:0.73335\n",
      "[2]\ttrain-auc:0.79615\teval-auc:0.73192\n",
      "[3]\ttrain-auc:0.79761\teval-auc:0.73499\n",
      "[4]\ttrain-auc:0.79875\teval-auc:0.73583\n",
      "[5]\ttrain-auc:0.80069\teval-auc:0.73688\n",
      "[6]\ttrain-auc:0.80124\teval-auc:0.73687\n",
      "[7]\ttrain-auc:0.80172\teval-auc:0.73725\n",
      "[8]\ttrain-auc:0.80337\teval-auc:0.73778\n",
      "[9]\ttrain-auc:0.80400\teval-auc:0.73903\n",
      "finish training & evaluation for P041\n",
      "start training & evaluation for P133\n"
     ]
    },
    {
     "name": "stderr",
     "output_type": "stream",
     "text": [
      "/home/panyu/miniconda3/envs/sci-data/lib/python3.9/site-packages/xgboost/core.py:122: UserWarning: ntree_limit is deprecated, use `iteration_range` or model slicing instead.\n",
      "  warnings.warn(\n",
      "/home/panyu/miniconda3/envs/sci-data/lib/python3.9/site-packages/xgboost/core.py:122: UserWarning: ntree_limit is deprecated, use `iteration_range` or model slicing instead.\n",
      "  warnings.warn(\n"
     ]
    },
    {
     "name": "stdout",
     "output_type": "stream",
     "text": [
      "[0]\ttrain-auc:0.79332\teval-auc:0.72926\n",
      "[1]\ttrain-auc:0.79470\teval-auc:0.72914\n",
      "[2]\ttrain-auc:0.79614\teval-auc:0.73219\n",
      "[3]\ttrain-auc:0.79983\teval-auc:0.73595\n",
      "[4]\ttrain-auc:0.80057\teval-auc:0.73669\n",
      "[5]\ttrain-auc:0.80427\teval-auc:0.73843\n",
      "[6]\ttrain-auc:0.80654\teval-auc:0.73990\n",
      "[7]\ttrain-auc:0.80853\teval-auc:0.74255\n",
      "[8]\ttrain-auc:0.80953\teval-auc:0.74265\n",
      "[9]\ttrain-auc:0.80961\teval-auc:0.74281\n",
      "finish training & evaluation for P133\n",
      "start training & evaluation for P007\n"
     ]
    },
    {
     "name": "stderr",
     "output_type": "stream",
     "text": [
      "/home/panyu/miniconda3/envs/sci-data/lib/python3.9/site-packages/xgboost/core.py:122: UserWarning: ntree_limit is deprecated, use `iteration_range` or model slicing instead.\n",
      "  warnings.warn(\n",
      "/home/panyu/miniconda3/envs/sci-data/lib/python3.9/site-packages/xgboost/core.py:122: UserWarning: ntree_limit is deprecated, use `iteration_range` or model slicing instead.\n",
      "  warnings.warn(\n"
     ]
    },
    {
     "name": "stdout",
     "output_type": "stream",
     "text": [
      "[0]\ttrain-auc:0.79346\teval-auc:0.72055\n",
      "[1]\ttrain-auc:0.79613\teval-auc:0.72442\n",
      "[2]\ttrain-auc:0.79625\teval-auc:0.72619\n",
      "[3]\ttrain-auc:0.79781\teval-auc:0.72604\n",
      "[4]\ttrain-auc:0.80180\teval-auc:0.72912\n",
      "[5]\ttrain-auc:0.80190\teval-auc:0.72794\n",
      "[6]\ttrain-auc:0.80224\teval-auc:0.72883\n",
      "[7]\ttrain-auc:0.80502\teval-auc:0.73087\n",
      "[8]\ttrain-auc:0.80505\teval-auc:0.73125\n",
      "[9]\ttrain-auc:0.80577\teval-auc:0.73183\n",
      "finish training & evaluation for P007\n",
      "start training & evaluation for P019\n"
     ]
    },
    {
     "name": "stderr",
     "output_type": "stream",
     "text": [
      "/home/panyu/miniconda3/envs/sci-data/lib/python3.9/site-packages/xgboost/core.py:122: UserWarning: ntree_limit is deprecated, use `iteration_range` or model slicing instead.\n",
      "  warnings.warn(\n",
      "/home/panyu/miniconda3/envs/sci-data/lib/python3.9/site-packages/xgboost/core.py:122: UserWarning: ntree_limit is deprecated, use `iteration_range` or model slicing instead.\n",
      "  warnings.warn(\n"
     ]
    },
    {
     "name": "stdout",
     "output_type": "stream",
     "text": [
      "[0]\ttrain-auc:0.79205\teval-auc:0.72136\n",
      "[1]\ttrain-auc:0.79734\teval-auc:0.72741\n",
      "[2]\ttrain-auc:0.80239\teval-auc:0.72893\n",
      "[3]\ttrain-auc:0.80232\teval-auc:0.72912\n",
      "[4]\ttrain-auc:0.80218\teval-auc:0.72896\n",
      "[5]\ttrain-auc:0.80262\teval-auc:0.72828\n",
      "[6]\ttrain-auc:0.80361\teval-auc:0.72967\n",
      "[7]\ttrain-auc:0.80524\teval-auc:0.73151\n",
      "[8]\ttrain-auc:0.80557\teval-auc:0.73056\n",
      "[9]\ttrain-auc:0.80682\teval-auc:0.73227\n",
      "finish training & evaluation for P019\n",
      "start training & evaluation for P049\n"
     ]
    },
    {
     "name": "stderr",
     "output_type": "stream",
     "text": [
      "/home/panyu/miniconda3/envs/sci-data/lib/python3.9/site-packages/xgboost/core.py:122: UserWarning: ntree_limit is deprecated, use `iteration_range` or model slicing instead.\n",
      "  warnings.warn(\n",
      "/home/panyu/miniconda3/envs/sci-data/lib/python3.9/site-packages/xgboost/core.py:122: UserWarning: ntree_limit is deprecated, use `iteration_range` or model slicing instead.\n",
      "  warnings.warn(\n"
     ]
    },
    {
     "name": "stdout",
     "output_type": "stream",
     "text": [
      "[0]\ttrain-auc:0.79358\teval-auc:0.73251\n",
      "[1]\ttrain-auc:0.79384\teval-auc:0.73321\n",
      "[2]\ttrain-auc:0.79646\teval-auc:0.73415\n",
      "[3]\ttrain-auc:0.80284\teval-auc:0.74019\n",
      "[4]\ttrain-auc:0.80542\teval-auc:0.74138\n",
      "[5]\ttrain-auc:0.80726\teval-auc:0.74308\n",
      "[6]\ttrain-auc:0.80791\teval-auc:0.74447\n",
      "[7]\ttrain-auc:0.80931\teval-auc:0.74548\n",
      "[8]\ttrain-auc:0.81023\teval-auc:0.74582\n",
      "[9]\ttrain-auc:0.81201\teval-auc:0.74690\n",
      "finish training & evaluation for P049\n",
      "start training & evaluation for P078\n"
     ]
    },
    {
     "name": "stderr",
     "output_type": "stream",
     "text": [
      "/home/panyu/miniconda3/envs/sci-data/lib/python3.9/site-packages/xgboost/core.py:122: UserWarning: ntree_limit is deprecated, use `iteration_range` or model slicing instead.\n",
      "  warnings.warn(\n",
      "/home/panyu/miniconda3/envs/sci-data/lib/python3.9/site-packages/xgboost/core.py:122: UserWarning: ntree_limit is deprecated, use `iteration_range` or model slicing instead.\n",
      "  warnings.warn(\n"
     ]
    },
    {
     "name": "stdout",
     "output_type": "stream",
     "text": [
      "[0]\ttrain-auc:0.78840\teval-auc:0.73296\n",
      "[1]\ttrain-auc:0.78918\teval-auc:0.73345\n",
      "[2]\ttrain-auc:0.79171\teval-auc:0.73435\n",
      "[3]\ttrain-auc:0.79907\teval-auc:0.73975\n",
      "[4]\ttrain-auc:0.80504\teval-auc:0.74456\n",
      "[5]\ttrain-auc:0.80429\teval-auc:0.74403\n",
      "[6]\ttrain-auc:0.80559\teval-auc:0.74529\n",
      "[7]\ttrain-auc:0.80772\teval-auc:0.74734\n",
      "[8]\ttrain-auc:0.80790\teval-auc:0.74684\n",
      "[9]\ttrain-auc:0.80889\teval-auc:0.74840\n",
      "finish training & evaluation for P078\n",
      "start training & evaluation for P028\n"
     ]
    },
    {
     "name": "stderr",
     "output_type": "stream",
     "text": [
      "/home/panyu/miniconda3/envs/sci-data/lib/python3.9/site-packages/xgboost/core.py:122: UserWarning: ntree_limit is deprecated, use `iteration_range` or model slicing instead.\n",
      "  warnings.warn(\n",
      "/home/panyu/miniconda3/envs/sci-data/lib/python3.9/site-packages/xgboost/core.py:122: UserWarning: ntree_limit is deprecated, use `iteration_range` or model slicing instead.\n",
      "  warnings.warn(\n"
     ]
    },
    {
     "name": "stdout",
     "output_type": "stream",
     "text": [
      "[0]\ttrain-auc:0.79462\teval-auc:0.72376\n",
      "[1]\ttrain-auc:0.79530\teval-auc:0.72440\n",
      "[2]\ttrain-auc:0.80214\teval-auc:0.73001\n",
      "[3]\ttrain-auc:0.80234\teval-auc:0.72991\n",
      "[4]\ttrain-auc:0.80491\teval-auc:0.73239\n",
      "[5]\ttrain-auc:0.80839\teval-auc:0.73507\n",
      "[6]\ttrain-auc:0.81050\teval-auc:0.73734\n",
      "[7]\ttrain-auc:0.81351\teval-auc:0.73919\n",
      "[8]\ttrain-auc:0.81355\teval-auc:0.73844\n",
      "[9]\ttrain-auc:0.81436\teval-auc:0.74034\n",
      "finish training & evaluation for P028\n",
      "start training & evaluation for P034\n"
     ]
    },
    {
     "name": "stderr",
     "output_type": "stream",
     "text": [
      "/home/panyu/miniconda3/envs/sci-data/lib/python3.9/site-packages/xgboost/core.py:122: UserWarning: ntree_limit is deprecated, use `iteration_range` or model slicing instead.\n",
      "  warnings.warn(\n",
      "/home/panyu/miniconda3/envs/sci-data/lib/python3.9/site-packages/xgboost/core.py:122: UserWarning: ntree_limit is deprecated, use `iteration_range` or model slicing instead.\n",
      "  warnings.warn(\n"
     ]
    },
    {
     "name": "stdout",
     "output_type": "stream",
     "text": [
      "[0]\ttrain-auc:0.79168\teval-auc:0.71575\n",
      "[1]\ttrain-auc:0.79524\teval-auc:0.71743\n",
      "[2]\ttrain-auc:0.79680\teval-auc:0.71969\n",
      "[3]\ttrain-auc:0.79852\teval-auc:0.72175\n",
      "[4]\ttrain-auc:0.79988\teval-auc:0.72371\n",
      "[5]\ttrain-auc:0.79976\teval-auc:0.72407\n",
      "[6]\ttrain-auc:0.80361\teval-auc:0.72716\n",
      "[7]\ttrain-auc:0.80322\teval-auc:0.72685\n",
      "[8]\ttrain-auc:0.80510\teval-auc:0.72922\n",
      "[9]\ttrain-auc:0.80508\teval-auc:0.72869\n",
      "finish training & evaluation for P034\n",
      "start training & evaluation for P107\n"
     ]
    },
    {
     "name": "stderr",
     "output_type": "stream",
     "text": [
      "/home/panyu/miniconda3/envs/sci-data/lib/python3.9/site-packages/xgboost/core.py:122: UserWarning: ntree_limit is deprecated, use `iteration_range` or model slicing instead.\n",
      "  warnings.warn(\n",
      "/home/panyu/miniconda3/envs/sci-data/lib/python3.9/site-packages/xgboost/core.py:122: UserWarning: ntree_limit is deprecated, use `iteration_range` or model slicing instead.\n",
      "  warnings.warn(\n"
     ]
    },
    {
     "name": "stdout",
     "output_type": "stream",
     "text": [
      "[0]\ttrain-auc:0.79176\teval-auc:0.73426\n",
      "[1]\ttrain-auc:0.79520\teval-auc:0.73720\n",
      "[2]\ttrain-auc:0.79616\teval-auc:0.73772\n",
      "[3]\ttrain-auc:0.79730\teval-auc:0.73859\n",
      "[4]\ttrain-auc:0.79828\teval-auc:0.73953\n",
      "[5]\ttrain-auc:0.79830\teval-auc:0.73906\n",
      "[6]\ttrain-auc:0.79925\teval-auc:0.73927\n",
      "[7]\ttrain-auc:0.80047\teval-auc:0.74020\n",
      "[8]\ttrain-auc:0.80150\teval-auc:0.74045\n",
      "[9]\ttrain-auc:0.80234\teval-auc:0.74213\n",
      "finish training & evaluation for P107\n",
      "start training & evaluation for P008\n"
     ]
    },
    {
     "name": "stderr",
     "output_type": "stream",
     "text": [
      "/home/panyu/miniconda3/envs/sci-data/lib/python3.9/site-packages/xgboost/core.py:122: UserWarning: ntree_limit is deprecated, use `iteration_range` or model slicing instead.\n",
      "  warnings.warn(\n",
      "/home/panyu/miniconda3/envs/sci-data/lib/python3.9/site-packages/xgboost/core.py:122: UserWarning: ntree_limit is deprecated, use `iteration_range` or model slicing instead.\n",
      "  warnings.warn(\n"
     ]
    },
    {
     "name": "stdout",
     "output_type": "stream",
     "text": [
      "[0]\ttrain-auc:0.79216\teval-auc:0.73075\n",
      "[1]\ttrain-auc:0.79689\teval-auc:0.73280\n",
      "[2]\ttrain-auc:0.80008\teval-auc:0.73631\n",
      "[3]\ttrain-auc:0.80244\teval-auc:0.73686\n",
      "[4]\ttrain-auc:0.80202\teval-auc:0.73676\n",
      "[5]\ttrain-auc:0.80293\teval-auc:0.73727\n",
      "[6]\ttrain-auc:0.80480\teval-auc:0.73823\n",
      "[7]\ttrain-auc:0.80450\teval-auc:0.73880\n",
      "[8]\ttrain-auc:0.80439\teval-auc:0.73860\n",
      "[9]\ttrain-auc:0.80515\teval-auc:0.73928\n",
      "finish training & evaluation for P008\n",
      "start training & evaluation for P038\n"
     ]
    },
    {
     "name": "stderr",
     "output_type": "stream",
     "text": [
      "/home/panyu/miniconda3/envs/sci-data/lib/python3.9/site-packages/xgboost/core.py:122: UserWarning: ntree_limit is deprecated, use `iteration_range` or model slicing instead.\n",
      "  warnings.warn(\n",
      "/home/panyu/miniconda3/envs/sci-data/lib/python3.9/site-packages/xgboost/core.py:122: UserWarning: ntree_limit is deprecated, use `iteration_range` or model slicing instead.\n",
      "  warnings.warn(\n"
     ]
    },
    {
     "name": "stdout",
     "output_type": "stream",
     "text": [
      "[0]\ttrain-auc:0.79118\teval-auc:0.73777\n",
      "[1]\ttrain-auc:0.79274\teval-auc:0.73978\n",
      "[2]\ttrain-auc:0.79475\teval-auc:0.73930\n",
      "[3]\ttrain-auc:0.79490\teval-auc:0.73917\n",
      "[4]\ttrain-auc:0.79654\teval-auc:0.73964\n",
      "[5]\ttrain-auc:0.79964\teval-auc:0.74186\n",
      "[6]\ttrain-auc:0.79937\teval-auc:0.74312\n",
      "[7]\ttrain-auc:0.80114\teval-auc:0.74370\n",
      "[8]\ttrain-auc:0.80262\teval-auc:0.74301\n",
      "[9]\ttrain-auc:0.80319\teval-auc:0.74419\n",
      "finish training & evaluation for P038\n",
      "start training & evaluation for P069\n"
     ]
    },
    {
     "name": "stderr",
     "output_type": "stream",
     "text": [
      "/home/panyu/miniconda3/envs/sci-data/lib/python3.9/site-packages/xgboost/core.py:122: UserWarning: ntree_limit is deprecated, use `iteration_range` or model slicing instead.\n",
      "  warnings.warn(\n",
      "/home/panyu/miniconda3/envs/sci-data/lib/python3.9/site-packages/xgboost/core.py:122: UserWarning: ntree_limit is deprecated, use `iteration_range` or model slicing instead.\n",
      "  warnings.warn(\n"
     ]
    },
    {
     "name": "stdout",
     "output_type": "stream",
     "text": [
      "[0]\ttrain-auc:0.79289\teval-auc:0.72496\n",
      "[1]\ttrain-auc:0.79501\teval-auc:0.72857\n",
      "[2]\ttrain-auc:0.79549\teval-auc:0.73076\n",
      "[3]\ttrain-auc:0.79951\teval-auc:0.73344\n",
      "[4]\ttrain-auc:0.80308\teval-auc:0.73539\n",
      "[5]\ttrain-auc:0.80270\teval-auc:0.73522\n",
      "[6]\ttrain-auc:0.80371\teval-auc:0.73558\n",
      "[7]\ttrain-auc:0.80610\teval-auc:0.73749\n",
      "[8]\ttrain-auc:0.80654\teval-auc:0.73743\n",
      "[9]\ttrain-auc:0.80721\teval-auc:0.73805\n",
      "finish training & evaluation for P069\n",
      "start training & evaluation for P122\n"
     ]
    },
    {
     "name": "stderr",
     "output_type": "stream",
     "text": [
      "/home/panyu/miniconda3/envs/sci-data/lib/python3.9/site-packages/xgboost/core.py:122: UserWarning: ntree_limit is deprecated, use `iteration_range` or model slicing instead.\n",
      "  warnings.warn(\n",
      "/home/panyu/miniconda3/envs/sci-data/lib/python3.9/site-packages/xgboost/core.py:122: UserWarning: ntree_limit is deprecated, use `iteration_range` or model slicing instead.\n",
      "  warnings.warn(\n"
     ]
    },
    {
     "name": "stdout",
     "output_type": "stream",
     "text": [
      "[0]\ttrain-auc:0.79585\teval-auc:0.72365\n",
      "[1]\ttrain-auc:0.79948\teval-auc:0.72709\n",
      "[2]\ttrain-auc:0.80163\teval-auc:0.72987\n",
      "[3]\ttrain-auc:0.80406\teval-auc:0.73332\n",
      "[4]\ttrain-auc:0.80509\teval-auc:0.73465\n",
      "[5]\ttrain-auc:0.80478\teval-auc:0.73530\n",
      "[6]\ttrain-auc:0.80558\teval-auc:0.73606\n",
      "[7]\ttrain-auc:0.80582\teval-auc:0.73676\n",
      "[8]\ttrain-auc:0.80678\teval-auc:0.73706\n",
      "[9]\ttrain-auc:0.80747\teval-auc:0.73846\n",
      "finish training & evaluation for P122\n",
      "start training & evaluation for P108\n"
     ]
    },
    {
     "name": "stderr",
     "output_type": "stream",
     "text": [
      "/home/panyu/miniconda3/envs/sci-data/lib/python3.9/site-packages/xgboost/core.py:122: UserWarning: ntree_limit is deprecated, use `iteration_range` or model slicing instead.\n",
      "  warnings.warn(\n",
      "/home/panyu/miniconda3/envs/sci-data/lib/python3.9/site-packages/xgboost/core.py:122: UserWarning: ntree_limit is deprecated, use `iteration_range` or model slicing instead.\n",
      "  warnings.warn(\n"
     ]
    },
    {
     "name": "stdout",
     "output_type": "stream",
     "text": [
      "[0]\ttrain-auc:0.79645\teval-auc:0.72860\n",
      "[1]\ttrain-auc:0.80082\teval-auc:0.72856\n",
      "[2]\ttrain-auc:0.80318\teval-auc:0.73019\n",
      "[3]\ttrain-auc:0.80457\teval-auc:0.73155\n",
      "[4]\ttrain-auc:0.80664\teval-auc:0.73258\n",
      "[5]\ttrain-auc:0.80858\teval-auc:0.73280\n",
      "[6]\ttrain-auc:0.80913\teval-auc:0.73396\n",
      "[7]\ttrain-auc:0.80976\teval-auc:0.73441\n",
      "[8]\ttrain-auc:0.81053\teval-auc:0.73464\n",
      "[9]\ttrain-auc:0.81063\teval-auc:0.73501\n",
      "finish training & evaluation for P108\n",
      "start training & evaluation for P076\n"
     ]
    },
    {
     "name": "stderr",
     "output_type": "stream",
     "text": [
      "/home/panyu/miniconda3/envs/sci-data/lib/python3.9/site-packages/xgboost/core.py:122: UserWarning: ntree_limit is deprecated, use `iteration_range` or model slicing instead.\n",
      "  warnings.warn(\n",
      "/home/panyu/miniconda3/envs/sci-data/lib/python3.9/site-packages/xgboost/core.py:122: UserWarning: ntree_limit is deprecated, use `iteration_range` or model slicing instead.\n",
      "  warnings.warn(\n"
     ]
    },
    {
     "name": "stdout",
     "output_type": "stream",
     "text": [
      "[0]\ttrain-auc:0.79094\teval-auc:0.73673\n",
      "[1]\ttrain-auc:0.79218\teval-auc:0.73768\n",
      "[2]\ttrain-auc:0.79430\teval-auc:0.73937\n",
      "[3]\ttrain-auc:0.79696\teval-auc:0.74158\n",
      "[4]\ttrain-auc:0.80018\teval-auc:0.74468\n",
      "[5]\ttrain-auc:0.80033\teval-auc:0.74431\n",
      "[6]\ttrain-auc:0.80232\teval-auc:0.74568\n",
      "[7]\ttrain-auc:0.80219\teval-auc:0.74586\n",
      "[8]\ttrain-auc:0.80425\teval-auc:0.74660\n",
      "[9]\ttrain-auc:0.80490\teval-auc:0.74716\n",
      "finish training & evaluation for P076\n",
      "start training & evaluation for P079\n"
     ]
    },
    {
     "name": "stderr",
     "output_type": "stream",
     "text": [
      "/home/panyu/miniconda3/envs/sci-data/lib/python3.9/site-packages/xgboost/core.py:122: UserWarning: ntree_limit is deprecated, use `iteration_range` or model slicing instead.\n",
      "  warnings.warn(\n",
      "/home/panyu/miniconda3/envs/sci-data/lib/python3.9/site-packages/xgboost/core.py:122: UserWarning: ntree_limit is deprecated, use `iteration_range` or model slicing instead.\n",
      "  warnings.warn(\n"
     ]
    },
    {
     "name": "stdout",
     "output_type": "stream",
     "text": [
      "[0]\ttrain-auc:0.79412\teval-auc:0.74178\n",
      "[1]\ttrain-auc:0.79655\teval-auc:0.74591\n",
      "[2]\ttrain-auc:0.79776\teval-auc:0.74655\n",
      "[3]\ttrain-auc:0.79923\teval-auc:0.74879\n",
      "[4]\ttrain-auc:0.80019\teval-auc:0.74884\n",
      "[5]\ttrain-auc:0.80192\teval-auc:0.75024\n",
      "[6]\ttrain-auc:0.80475\teval-auc:0.75402\n",
      "[7]\ttrain-auc:0.80515\teval-auc:0.75449\n",
      "[8]\ttrain-auc:0.80553\teval-auc:0.75507\n",
      "[9]\ttrain-auc:0.80627\teval-auc:0.75570\n",
      "finish training & evaluation for P079\n",
      "start training & evaluation for P131\n"
     ]
    },
    {
     "name": "stderr",
     "output_type": "stream",
     "text": [
      "/home/panyu/miniconda3/envs/sci-data/lib/python3.9/site-packages/xgboost/core.py:122: UserWarning: ntree_limit is deprecated, use `iteration_range` or model slicing instead.\n",
      "  warnings.warn(\n",
      "/home/panyu/miniconda3/envs/sci-data/lib/python3.9/site-packages/xgboost/core.py:122: UserWarning: ntree_limit is deprecated, use `iteration_range` or model slicing instead.\n",
      "  warnings.warn(\n"
     ]
    },
    {
     "name": "stdout",
     "output_type": "stream",
     "text": [
      "[0]\ttrain-auc:0.79243\teval-auc:0.72148\n",
      "[1]\ttrain-auc:0.79303\teval-auc:0.72309\n",
      "[2]\ttrain-auc:0.79380\teval-auc:0.72365\n",
      "[3]\ttrain-auc:0.79990\teval-auc:0.73047\n",
      "[4]\ttrain-auc:0.79986\teval-auc:0.72951\n",
      "[5]\ttrain-auc:0.80354\teval-auc:0.73284\n",
      "[6]\ttrain-auc:0.80461\teval-auc:0.73366\n",
      "[7]\ttrain-auc:0.80563\teval-auc:0.73478\n",
      "[8]\ttrain-auc:0.80715\teval-auc:0.73580\n",
      "[9]\ttrain-auc:0.80758\teval-auc:0.73679\n",
      "finish training & evaluation for P131\n",
      "start training & evaluation for P013\n"
     ]
    },
    {
     "name": "stderr",
     "output_type": "stream",
     "text": [
      "/home/panyu/miniconda3/envs/sci-data/lib/python3.9/site-packages/xgboost/core.py:122: UserWarning: ntree_limit is deprecated, use `iteration_range` or model slicing instead.\n",
      "  warnings.warn(\n",
      "/home/panyu/miniconda3/envs/sci-data/lib/python3.9/site-packages/xgboost/core.py:122: UserWarning: ntree_limit is deprecated, use `iteration_range` or model slicing instead.\n",
      "  warnings.warn(\n"
     ]
    },
    {
     "name": "stdout",
     "output_type": "stream",
     "text": [
      "[0]\ttrain-auc:0.79089\teval-auc:0.72683\n",
      "[1]\ttrain-auc:0.79286\teval-auc:0.73083\n",
      "[2]\ttrain-auc:0.79390\teval-auc:0.73248\n",
      "[3]\ttrain-auc:0.79571\teval-auc:0.73400\n",
      "[4]\ttrain-auc:0.79703\teval-auc:0.73467\n",
      "[5]\ttrain-auc:0.80082\teval-auc:0.73853\n",
      "[6]\ttrain-auc:0.80125\teval-auc:0.73874\n",
      "[7]\ttrain-auc:0.80303\teval-auc:0.74088\n",
      "[8]\ttrain-auc:0.80491\teval-auc:0.74269\n",
      "[9]\ttrain-auc:0.80579\teval-auc:0.74358\n",
      "finish training & evaluation for P013\n",
      "start training & evaluation for P073\n"
     ]
    },
    {
     "name": "stderr",
     "output_type": "stream",
     "text": [
      "/home/panyu/miniconda3/envs/sci-data/lib/python3.9/site-packages/xgboost/core.py:122: UserWarning: ntree_limit is deprecated, use `iteration_range` or model slicing instead.\n",
      "  warnings.warn(\n",
      "/home/panyu/miniconda3/envs/sci-data/lib/python3.9/site-packages/xgboost/core.py:122: UserWarning: ntree_limit is deprecated, use `iteration_range` or model slicing instead.\n",
      "  warnings.warn(\n"
     ]
    },
    {
     "name": "stdout",
     "output_type": "stream",
     "text": [
      "[0]\ttrain-auc:0.79375\teval-auc:0.72640\n",
      "[1]\ttrain-auc:0.79902\teval-auc:0.73137\n",
      "[2]\ttrain-auc:0.80298\teval-auc:0.73668\n",
      "[3]\ttrain-auc:0.80305\teval-auc:0.73624\n",
      "[4]\ttrain-auc:0.80448\teval-auc:0.73817\n",
      "[5]\ttrain-auc:0.80750\teval-auc:0.73963\n",
      "[6]\ttrain-auc:0.80926\teval-auc:0.74062\n",
      "[7]\ttrain-auc:0.81000\teval-auc:0.74141\n",
      "[8]\ttrain-auc:0.81143\teval-auc:0.74293\n",
      "[9]\ttrain-auc:0.81244\teval-auc:0.74309\n",
      "finish training & evaluation for P073\n",
      "start training & evaluation for P118\n"
     ]
    },
    {
     "name": "stderr",
     "output_type": "stream",
     "text": [
      "/home/panyu/miniconda3/envs/sci-data/lib/python3.9/site-packages/xgboost/core.py:122: UserWarning: ntree_limit is deprecated, use `iteration_range` or model slicing instead.\n",
      "  warnings.warn(\n",
      "/home/panyu/miniconda3/envs/sci-data/lib/python3.9/site-packages/xgboost/core.py:122: UserWarning: ntree_limit is deprecated, use `iteration_range` or model slicing instead.\n",
      "  warnings.warn(\n"
     ]
    },
    {
     "name": "stdout",
     "output_type": "stream",
     "text": [
      "[0]\ttrain-auc:0.79349\teval-auc:0.72350\n",
      "[1]\ttrain-auc:0.79469\teval-auc:0.72474\n",
      "[2]\ttrain-auc:0.79550\teval-auc:0.72585\n",
      "[3]\ttrain-auc:0.79568\teval-auc:0.72627\n",
      "[4]\ttrain-auc:0.79574\teval-auc:0.72640\n",
      "[5]\ttrain-auc:0.79689\teval-auc:0.72749\n",
      "[6]\ttrain-auc:0.79808\teval-auc:0.72895\n",
      "[7]\ttrain-auc:0.79817\teval-auc:0.72947\n",
      "[8]\ttrain-auc:0.80104\teval-auc:0.73182\n",
      "[9]\ttrain-auc:0.80138\teval-auc:0.73222\n",
      "finish training & evaluation for P118\n",
      "start training & evaluation for P059\n"
     ]
    },
    {
     "name": "stderr",
     "output_type": "stream",
     "text": [
      "/home/panyu/miniconda3/envs/sci-data/lib/python3.9/site-packages/xgboost/core.py:122: UserWarning: ntree_limit is deprecated, use `iteration_range` or model slicing instead.\n",
      "  warnings.warn(\n",
      "/home/panyu/miniconda3/envs/sci-data/lib/python3.9/site-packages/xgboost/core.py:122: UserWarning: ntree_limit is deprecated, use `iteration_range` or model slicing instead.\n",
      "  warnings.warn(\n"
     ]
    },
    {
     "name": "stdout",
     "output_type": "stream",
     "text": [
      "[0]\ttrain-auc:0.79530\teval-auc:0.73999\n",
      "[1]\ttrain-auc:0.80133\teval-auc:0.74208\n",
      "[2]\ttrain-auc:0.80118\teval-auc:0.74238\n",
      "[3]\ttrain-auc:0.80396\teval-auc:0.74534\n",
      "[4]\ttrain-auc:0.80684\teval-auc:0.74745\n",
      "[5]\ttrain-auc:0.80760\teval-auc:0.74819\n",
      "[6]\ttrain-auc:0.80752\teval-auc:0.74792\n",
      "[7]\ttrain-auc:0.80898\teval-auc:0.74849\n",
      "[8]\ttrain-auc:0.80943\teval-auc:0.74866\n",
      "[9]\ttrain-auc:0.80983\teval-auc:0.74869\n",
      "finish training & evaluation for P059\n",
      "start training & evaluation for P097\n"
     ]
    },
    {
     "name": "stderr",
     "output_type": "stream",
     "text": [
      "/home/panyu/miniconda3/envs/sci-data/lib/python3.9/site-packages/xgboost/core.py:122: UserWarning: ntree_limit is deprecated, use `iteration_range` or model slicing instead.\n",
      "  warnings.warn(\n",
      "/home/panyu/miniconda3/envs/sci-data/lib/python3.9/site-packages/xgboost/core.py:122: UserWarning: ntree_limit is deprecated, use `iteration_range` or model slicing instead.\n",
      "  warnings.warn(\n"
     ]
    },
    {
     "name": "stdout",
     "output_type": "stream",
     "text": [
      "[0]\ttrain-auc:0.79303\teval-auc:0.72985\n",
      "[1]\ttrain-auc:0.79387\teval-auc:0.73131\n",
      "[2]\ttrain-auc:0.79650\teval-auc:0.73335\n",
      "[3]\ttrain-auc:0.79821\teval-auc:0.73327\n",
      "[4]\ttrain-auc:0.80059\teval-auc:0.73419\n",
      "[5]\ttrain-auc:0.80170\teval-auc:0.73614\n",
      "[6]\ttrain-auc:0.80489\teval-auc:0.73836\n",
      "[7]\ttrain-auc:0.80574\teval-auc:0.73873\n",
      "[8]\ttrain-auc:0.80666\teval-auc:0.73987\n",
      "[9]\ttrain-auc:0.80694\teval-auc:0.73983\n",
      "finish training & evaluation for P097\n",
      "start training & evaluation for P011\n"
     ]
    },
    {
     "name": "stderr",
     "output_type": "stream",
     "text": [
      "/home/panyu/miniconda3/envs/sci-data/lib/python3.9/site-packages/xgboost/core.py:122: UserWarning: ntree_limit is deprecated, use `iteration_range` or model slicing instead.\n",
      "  warnings.warn(\n",
      "/home/panyu/miniconda3/envs/sci-data/lib/python3.9/site-packages/xgboost/core.py:122: UserWarning: ntree_limit is deprecated, use `iteration_range` or model slicing instead.\n",
      "  warnings.warn(\n"
     ]
    },
    {
     "name": "stdout",
     "output_type": "stream",
     "text": [
      "[0]\ttrain-auc:0.79466\teval-auc:0.72268\n",
      "[1]\ttrain-auc:0.79516\teval-auc:0.72571\n",
      "[2]\ttrain-auc:0.79556\teval-auc:0.72537\n",
      "[3]\ttrain-auc:0.80242\teval-auc:0.73112\n",
      "[4]\ttrain-auc:0.80454\teval-auc:0.73332\n",
      "[5]\ttrain-auc:0.80521\teval-auc:0.73301\n",
      "[6]\ttrain-auc:0.80800\teval-auc:0.73483\n",
      "[7]\ttrain-auc:0.80775\teval-auc:0.73377\n",
      "[8]\ttrain-auc:0.80966\teval-auc:0.73580\n",
      "[9]\ttrain-auc:0.80988\teval-auc:0.73660\n",
      "finish training & evaluation for P011\n",
      "start training & evaluation for P123\n"
     ]
    },
    {
     "name": "stderr",
     "output_type": "stream",
     "text": [
      "/home/panyu/miniconda3/envs/sci-data/lib/python3.9/site-packages/xgboost/core.py:122: UserWarning: ntree_limit is deprecated, use `iteration_range` or model slicing instead.\n",
      "  warnings.warn(\n",
      "/home/panyu/miniconda3/envs/sci-data/lib/python3.9/site-packages/xgboost/core.py:122: UserWarning: ntree_limit is deprecated, use `iteration_range` or model slicing instead.\n",
      "  warnings.warn(\n"
     ]
    },
    {
     "name": "stdout",
     "output_type": "stream",
     "text": [
      "[0]\ttrain-auc:0.79394\teval-auc:0.72393\n",
      "[1]\ttrain-auc:0.79593\teval-auc:0.72533\n",
      "[2]\ttrain-auc:0.79756\teval-auc:0.72782\n",
      "[3]\ttrain-auc:0.79781\teval-auc:0.72837\n",
      "[4]\ttrain-auc:0.80189\teval-auc:0.73210\n",
      "[5]\ttrain-auc:0.80585\teval-auc:0.73465\n",
      "[6]\ttrain-auc:0.80652\teval-auc:0.73491\n",
      "[7]\ttrain-auc:0.80779\teval-auc:0.73561\n",
      "[8]\ttrain-auc:0.80900\teval-auc:0.73582\n",
      "[9]\ttrain-auc:0.80973\teval-auc:0.73667\n",
      "finish training & evaluation for P123\n",
      "start training & evaluation for P037\n"
     ]
    },
    {
     "name": "stderr",
     "output_type": "stream",
     "text": [
      "/home/panyu/miniconda3/envs/sci-data/lib/python3.9/site-packages/xgboost/core.py:122: UserWarning: ntree_limit is deprecated, use `iteration_range` or model slicing instead.\n",
      "  warnings.warn(\n",
      "/home/panyu/miniconda3/envs/sci-data/lib/python3.9/site-packages/xgboost/core.py:122: UserWarning: ntree_limit is deprecated, use `iteration_range` or model slicing instead.\n",
      "  warnings.warn(\n"
     ]
    },
    {
     "name": "stdout",
     "output_type": "stream",
     "text": [
      "[0]\ttrain-auc:0.79301\teval-auc:0.72470\n",
      "[1]\ttrain-auc:0.79750\teval-auc:0.72838\n",
      "[2]\ttrain-auc:0.79963\teval-auc:0.72886\n",
      "[3]\ttrain-auc:0.80189\teval-auc:0.73093\n",
      "[4]\ttrain-auc:0.80253\teval-auc:0.73197\n",
      "[5]\ttrain-auc:0.80509\teval-auc:0.73383\n",
      "[6]\ttrain-auc:0.80572\teval-auc:0.73343\n",
      "[7]\ttrain-auc:0.80674\teval-auc:0.73394\n",
      "[8]\ttrain-auc:0.80777\teval-auc:0.73385\n",
      "[9]\ttrain-auc:0.80885\teval-auc:0.73486\n",
      "finish training & evaluation for P037\n",
      "start training & evaluation for P066\n"
     ]
    },
    {
     "name": "stderr",
     "output_type": "stream",
     "text": [
      "/home/panyu/miniconda3/envs/sci-data/lib/python3.9/site-packages/xgboost/core.py:122: UserWarning: ntree_limit is deprecated, use `iteration_range` or model slicing instead.\n",
      "  warnings.warn(\n",
      "/home/panyu/miniconda3/envs/sci-data/lib/python3.9/site-packages/xgboost/core.py:122: UserWarning: ntree_limit is deprecated, use `iteration_range` or model slicing instead.\n",
      "  warnings.warn(\n"
     ]
    },
    {
     "name": "stdout",
     "output_type": "stream",
     "text": [
      "[0]\ttrain-auc:0.78980\teval-auc:0.72985\n",
      "[1]\ttrain-auc:0.79582\teval-auc:0.73440\n",
      "[2]\ttrain-auc:0.80164\teval-auc:0.73818\n",
      "[3]\ttrain-auc:0.80232\teval-auc:0.73735\n",
      "[4]\ttrain-auc:0.80562\teval-auc:0.74162\n",
      "[5]\ttrain-auc:0.80571\teval-auc:0.74038\n",
      "[6]\ttrain-auc:0.80672\teval-auc:0.74196\n",
      "[7]\ttrain-auc:0.80739\teval-auc:0.74132\n",
      "[8]\ttrain-auc:0.80722\teval-auc:0.74116\n",
      "[9]\ttrain-auc:0.80787\teval-auc:0.74181\n",
      "finish training & evaluation for P066\n",
      "start training & evaluation for P023\n"
     ]
    },
    {
     "name": "stderr",
     "output_type": "stream",
     "text": [
      "/home/panyu/miniconda3/envs/sci-data/lib/python3.9/site-packages/xgboost/core.py:122: UserWarning: ntree_limit is deprecated, use `iteration_range` or model slicing instead.\n",
      "  warnings.warn(\n",
      "/home/panyu/miniconda3/envs/sci-data/lib/python3.9/site-packages/xgboost/core.py:122: UserWarning: ntree_limit is deprecated, use `iteration_range` or model slicing instead.\n",
      "  warnings.warn(\n"
     ]
    },
    {
     "name": "stdout",
     "output_type": "stream",
     "text": [
      "[0]\ttrain-auc:0.79332\teval-auc:0.71955\n",
      "[1]\ttrain-auc:0.79748\teval-auc:0.72201\n",
      "[2]\ttrain-auc:0.79728\teval-auc:0.72134\n",
      "[3]\ttrain-auc:0.80169\teval-auc:0.72721\n",
      "[4]\ttrain-auc:0.80215\teval-auc:0.72686\n",
      "[5]\ttrain-auc:0.80376\teval-auc:0.72830\n",
      "[6]\ttrain-auc:0.80363\teval-auc:0.72804\n",
      "[7]\ttrain-auc:0.80542\teval-auc:0.72999\n",
      "[8]\ttrain-auc:0.80610\teval-auc:0.73110\n",
      "[9]\ttrain-auc:0.80654\teval-auc:0.73089\n",
      "finish training & evaluation for P023\n",
      "start training & evaluation for P014\n"
     ]
    },
    {
     "name": "stderr",
     "output_type": "stream",
     "text": [
      "/home/panyu/miniconda3/envs/sci-data/lib/python3.9/site-packages/xgboost/core.py:122: UserWarning: ntree_limit is deprecated, use `iteration_range` or model slicing instead.\n",
      "  warnings.warn(\n",
      "/home/panyu/miniconda3/envs/sci-data/lib/python3.9/site-packages/xgboost/core.py:122: UserWarning: ntree_limit is deprecated, use `iteration_range` or model slicing instead.\n",
      "  warnings.warn(\n"
     ]
    },
    {
     "name": "stdout",
     "output_type": "stream",
     "text": [
      "[0]\ttrain-auc:0.79170\teval-auc:0.72660\n",
      "[1]\ttrain-auc:0.79775\teval-auc:0.73024\n",
      "[2]\ttrain-auc:0.80042\teval-auc:0.73369\n",
      "[3]\ttrain-auc:0.80222\teval-auc:0.73655\n",
      "[4]\ttrain-auc:0.80266\teval-auc:0.73801\n",
      "[5]\ttrain-auc:0.80294\teval-auc:0.73820\n",
      "[6]\ttrain-auc:0.80322\teval-auc:0.73881\n",
      "[7]\ttrain-auc:0.80295\teval-auc:0.73955\n",
      "[8]\ttrain-auc:0.80481\teval-auc:0.73930\n",
      "[9]\ttrain-auc:0.80488\teval-auc:0.73938\n",
      "finish training & evaluation for P014\n",
      "start training & evaluation for P087\n"
     ]
    },
    {
     "name": "stderr",
     "output_type": "stream",
     "text": [
      "/home/panyu/miniconda3/envs/sci-data/lib/python3.9/site-packages/xgboost/core.py:122: UserWarning: ntree_limit is deprecated, use `iteration_range` or model slicing instead.\n",
      "  warnings.warn(\n",
      "/home/panyu/miniconda3/envs/sci-data/lib/python3.9/site-packages/xgboost/core.py:122: UserWarning: ntree_limit is deprecated, use `iteration_range` or model slicing instead.\n",
      "  warnings.warn(\n"
     ]
    },
    {
     "name": "stdout",
     "output_type": "stream",
     "text": [
      "[0]\ttrain-auc:0.79554\teval-auc:0.74083\n",
      "[1]\ttrain-auc:0.79810\teval-auc:0.74378\n",
      "[2]\ttrain-auc:0.79878\teval-auc:0.74418\n",
      "[3]\ttrain-auc:0.80065\teval-auc:0.74592\n",
      "[4]\ttrain-auc:0.80291\teval-auc:0.74625\n",
      "[5]\ttrain-auc:0.80536\teval-auc:0.74927\n",
      "[6]\ttrain-auc:0.80708\teval-auc:0.75144\n",
      "[7]\ttrain-auc:0.80740\teval-auc:0.75033\n",
      "[8]\ttrain-auc:0.80806\teval-auc:0.75113\n",
      "[9]\ttrain-auc:0.80990\teval-auc:0.75222\n",
      "finish training & evaluation for P087\n",
      "start training & evaluation for P052\n"
     ]
    },
    {
     "name": "stderr",
     "output_type": "stream",
     "text": [
      "/home/panyu/miniconda3/envs/sci-data/lib/python3.9/site-packages/xgboost/core.py:122: UserWarning: ntree_limit is deprecated, use `iteration_range` or model slicing instead.\n",
      "  warnings.warn(\n",
      "/home/panyu/miniconda3/envs/sci-data/lib/python3.9/site-packages/xgboost/core.py:122: UserWarning: ntree_limit is deprecated, use `iteration_range` or model slicing instead.\n",
      "  warnings.warn(\n"
     ]
    },
    {
     "name": "stdout",
     "output_type": "stream",
     "text": [
      "[0]\ttrain-auc:0.78788\teval-auc:0.72470\n",
      "[1]\ttrain-auc:0.79439\teval-auc:0.73148\n",
      "[2]\ttrain-auc:0.79480\teval-auc:0.73099\n",
      "[3]\ttrain-auc:0.79536\teval-auc:0.73240\n",
      "[4]\ttrain-auc:0.79574\teval-auc:0.73177\n",
      "[5]\ttrain-auc:0.79829\teval-auc:0.73251\n",
      "[6]\ttrain-auc:0.79874\teval-auc:0.73299\n",
      "[7]\ttrain-auc:0.80007\teval-auc:0.73451\n",
      "[8]\ttrain-auc:0.80057\teval-auc:0.73432\n",
      "[9]\ttrain-auc:0.80096\teval-auc:0.73464\n",
      "finish training & evaluation for P052\n",
      "start training & evaluation for P124\n"
     ]
    },
    {
     "name": "stderr",
     "output_type": "stream",
     "text": [
      "/home/panyu/miniconda3/envs/sci-data/lib/python3.9/site-packages/xgboost/core.py:122: UserWarning: ntree_limit is deprecated, use `iteration_range` or model slicing instead.\n",
      "  warnings.warn(\n",
      "/home/panyu/miniconda3/envs/sci-data/lib/python3.9/site-packages/xgboost/core.py:122: UserWarning: ntree_limit is deprecated, use `iteration_range` or model slicing instead.\n",
      "  warnings.warn(\n"
     ]
    },
    {
     "name": "stdout",
     "output_type": "stream",
     "text": [
      "[0]\ttrain-auc:0.79196\teval-auc:0.73073\n",
      "[1]\ttrain-auc:0.79711\teval-auc:0.73380\n",
      "[2]\ttrain-auc:0.79783\teval-auc:0.73430\n",
      "[3]\ttrain-auc:0.80145\teval-auc:0.73683\n",
      "[4]\ttrain-auc:0.80309\teval-auc:0.73740\n",
      "[5]\ttrain-auc:0.80402\teval-auc:0.73771\n",
      "[6]\ttrain-auc:0.80459\teval-auc:0.73827\n",
      "[7]\ttrain-auc:0.80591\teval-auc:0.73914\n",
      "[8]\ttrain-auc:0.80786\teval-auc:0.74107\n",
      "[9]\ttrain-auc:0.81002\teval-auc:0.74233\n",
      "finish training & evaluation for P124\n",
      "start training & evaluation for P116\n"
     ]
    },
    {
     "name": "stderr",
     "output_type": "stream",
     "text": [
      "/home/panyu/miniconda3/envs/sci-data/lib/python3.9/site-packages/xgboost/core.py:122: UserWarning: ntree_limit is deprecated, use `iteration_range` or model slicing instead.\n",
      "  warnings.warn(\n",
      "/home/panyu/miniconda3/envs/sci-data/lib/python3.9/site-packages/xgboost/core.py:122: UserWarning: ntree_limit is deprecated, use `iteration_range` or model slicing instead.\n",
      "  warnings.warn(\n"
     ]
    },
    {
     "name": "stdout",
     "output_type": "stream",
     "text": [
      "[0]\ttrain-auc:0.79313\teval-auc:0.72285\n",
      "[1]\ttrain-auc:0.79607\teval-auc:0.72818\n",
      "[2]\ttrain-auc:0.80531\teval-auc:0.73310\n",
      "[3]\ttrain-auc:0.80552\teval-auc:0.73271\n",
      "[4]\ttrain-auc:0.80698\teval-auc:0.73347\n",
      "[5]\ttrain-auc:0.80726\teval-auc:0.73455\n",
      "[6]\ttrain-auc:0.80836\teval-auc:0.73542\n",
      "[7]\ttrain-auc:0.80910\teval-auc:0.73641\n",
      "[8]\ttrain-auc:0.81153\teval-auc:0.73778\n",
      "[9]\ttrain-auc:0.81192\teval-auc:0.73836\n",
      "finish training & evaluation for P116\n",
      "start training & evaluation for P025\n"
     ]
    },
    {
     "name": "stderr",
     "output_type": "stream",
     "text": [
      "/home/panyu/miniconda3/envs/sci-data/lib/python3.9/site-packages/xgboost/core.py:122: UserWarning: ntree_limit is deprecated, use `iteration_range` or model slicing instead.\n",
      "  warnings.warn(\n",
      "/home/panyu/miniconda3/envs/sci-data/lib/python3.9/site-packages/xgboost/core.py:122: UserWarning: ntree_limit is deprecated, use `iteration_range` or model slicing instead.\n",
      "  warnings.warn(\n"
     ]
    },
    {
     "name": "stdout",
     "output_type": "stream",
     "text": [
      "[0]\ttrain-auc:0.78750\teval-auc:0.72423\n",
      "[1]\ttrain-auc:0.79080\teval-auc:0.72755\n",
      "[2]\ttrain-auc:0.79880\teval-auc:0.73182\n",
      "[3]\ttrain-auc:0.80042\teval-auc:0.73267\n",
      "[4]\ttrain-auc:0.80079\teval-auc:0.73272\n",
      "[5]\ttrain-auc:0.80268\teval-auc:0.73533\n",
      "[6]\ttrain-auc:0.80390\teval-auc:0.73677\n",
      "[7]\ttrain-auc:0.80574\teval-auc:0.73827\n",
      "[8]\ttrain-auc:0.80616\teval-auc:0.73867\n",
      "[9]\ttrain-auc:0.80748\teval-auc:0.73981\n",
      "finish training & evaluation for P025\n",
      "start training & evaluation for P071\n"
     ]
    },
    {
     "name": "stderr",
     "output_type": "stream",
     "text": [
      "/home/panyu/miniconda3/envs/sci-data/lib/python3.9/site-packages/xgboost/core.py:122: UserWarning: ntree_limit is deprecated, use `iteration_range` or model slicing instead.\n",
      "  warnings.warn(\n",
      "/home/panyu/miniconda3/envs/sci-data/lib/python3.9/site-packages/xgboost/core.py:122: UserWarning: ntree_limit is deprecated, use `iteration_range` or model slicing instead.\n",
      "  warnings.warn(\n"
     ]
    },
    {
     "name": "stdout",
     "output_type": "stream",
     "text": [
      "[0]\ttrain-auc:0.79577\teval-auc:0.73436\n",
      "[1]\ttrain-auc:0.79767\teval-auc:0.73440\n",
      "[2]\ttrain-auc:0.80010\teval-auc:0.73604\n",
      "[3]\ttrain-auc:0.80116\teval-auc:0.73579\n",
      "[4]\ttrain-auc:0.80586\teval-auc:0.73923\n",
      "[5]\ttrain-auc:0.80587\teval-auc:0.73951\n",
      "[6]\ttrain-auc:0.80681\teval-auc:0.74040\n",
      "[7]\ttrain-auc:0.80811\teval-auc:0.74127\n",
      "[8]\ttrain-auc:0.80827\teval-auc:0.74046\n",
      "[9]\ttrain-auc:0.80835\teval-auc:0.74081\n",
      "finish training & evaluation for P071\n",
      "start training & evaluation for P040\n"
     ]
    },
    {
     "name": "stderr",
     "output_type": "stream",
     "text": [
      "/home/panyu/miniconda3/envs/sci-data/lib/python3.9/site-packages/xgboost/core.py:122: UserWarning: ntree_limit is deprecated, use `iteration_range` or model slicing instead.\n",
      "  warnings.warn(\n",
      "/home/panyu/miniconda3/envs/sci-data/lib/python3.9/site-packages/xgboost/core.py:122: UserWarning: ntree_limit is deprecated, use `iteration_range` or model slicing instead.\n",
      "  warnings.warn(\n"
     ]
    },
    {
     "name": "stdout",
     "output_type": "stream",
     "text": [
      "[0]\ttrain-auc:0.79067\teval-auc:0.73378\n",
      "[1]\ttrain-auc:0.79178\teval-auc:0.73578\n",
      "[2]\ttrain-auc:0.79203\teval-auc:0.73560\n",
      "[3]\ttrain-auc:0.79255\teval-auc:0.73686\n",
      "[4]\ttrain-auc:0.79273\teval-auc:0.73581\n",
      "[5]\ttrain-auc:0.79355\teval-auc:0.73668\n",
      "[6]\ttrain-auc:0.79431\teval-auc:0.73681\n",
      "[7]\ttrain-auc:0.79747\teval-auc:0.73978\n",
      "[8]\ttrain-auc:0.79765\teval-auc:0.74022\n",
      "[9]\ttrain-auc:0.79913\teval-auc:0.74158\n",
      "finish training & evaluation for P040\n",
      "start training & evaluation for P115\n"
     ]
    },
    {
     "name": "stderr",
     "output_type": "stream",
     "text": [
      "/home/panyu/miniconda3/envs/sci-data/lib/python3.9/site-packages/xgboost/core.py:122: UserWarning: ntree_limit is deprecated, use `iteration_range` or model slicing instead.\n",
      "  warnings.warn(\n",
      "/home/panyu/miniconda3/envs/sci-data/lib/python3.9/site-packages/xgboost/core.py:122: UserWarning: ntree_limit is deprecated, use `iteration_range` or model slicing instead.\n",
      "  warnings.warn(\n"
     ]
    },
    {
     "name": "stdout",
     "output_type": "stream",
     "text": [
      "[0]\ttrain-auc:0.79624\teval-auc:0.72352\n",
      "[1]\ttrain-auc:0.79884\teval-auc:0.72746\n",
      "[2]\ttrain-auc:0.79898\teval-auc:0.72628\n",
      "[3]\ttrain-auc:0.80346\teval-auc:0.72835\n",
      "[4]\ttrain-auc:0.80340\teval-auc:0.72854\n",
      "[5]\ttrain-auc:0.80386\teval-auc:0.73028\n",
      "[6]\ttrain-auc:0.80438\teval-auc:0.73074\n",
      "[7]\ttrain-auc:0.80595\teval-auc:0.73162\n",
      "[8]\ttrain-auc:0.80583\teval-auc:0.73113\n",
      "[9]\ttrain-auc:0.80636\teval-auc:0.73211\n",
      "finish training & evaluation for P115\n",
      "start training & evaluation for P117\n"
     ]
    },
    {
     "name": "stderr",
     "output_type": "stream",
     "text": [
      "/home/panyu/miniconda3/envs/sci-data/lib/python3.9/site-packages/xgboost/core.py:122: UserWarning: ntree_limit is deprecated, use `iteration_range` or model slicing instead.\n",
      "  warnings.warn(\n",
      "/home/panyu/miniconda3/envs/sci-data/lib/python3.9/site-packages/xgboost/core.py:122: UserWarning: ntree_limit is deprecated, use `iteration_range` or model slicing instead.\n",
      "  warnings.warn(\n"
     ]
    },
    {
     "name": "stdout",
     "output_type": "stream",
     "text": [
      "[0]\ttrain-auc:0.79165\teval-auc:0.72021\n",
      "[1]\ttrain-auc:0.79568\teval-auc:0.72222\n",
      "[2]\ttrain-auc:0.79668\teval-auc:0.72547\n",
      "[3]\ttrain-auc:0.79846\teval-auc:0.72789\n",
      "[4]\ttrain-auc:0.79962\teval-auc:0.72848\n",
      "[5]\ttrain-auc:0.80190\teval-auc:0.73086\n",
      "[6]\ttrain-auc:0.80319\teval-auc:0.73125\n",
      "[7]\ttrain-auc:0.80352\teval-auc:0.73039\n",
      "[8]\ttrain-auc:0.80450\teval-auc:0.73184\n",
      "[9]\ttrain-auc:0.80519\teval-auc:0.73262\n",
      "finish training & evaluation for P117\n",
      "start training & evaluation for P114\n"
     ]
    },
    {
     "name": "stderr",
     "output_type": "stream",
     "text": [
      "/home/panyu/miniconda3/envs/sci-data/lib/python3.9/site-packages/xgboost/core.py:122: UserWarning: ntree_limit is deprecated, use `iteration_range` or model slicing instead.\n",
      "  warnings.warn(\n",
      "/home/panyu/miniconda3/envs/sci-data/lib/python3.9/site-packages/xgboost/core.py:122: UserWarning: ntree_limit is deprecated, use `iteration_range` or model slicing instead.\n",
      "  warnings.warn(\n"
     ]
    },
    {
     "name": "stdout",
     "output_type": "stream",
     "text": [
      "[0]\ttrain-auc:0.79376\teval-auc:0.72402\n",
      "[1]\ttrain-auc:0.80088\teval-auc:0.72997\n",
      "[2]\ttrain-auc:0.80773\teval-auc:0.73674\n",
      "[3]\ttrain-auc:0.80922\teval-auc:0.73794\n",
      "[4]\ttrain-auc:0.81041\teval-auc:0.73748\n",
      "[5]\ttrain-auc:0.80989\teval-auc:0.73825\n",
      "[6]\ttrain-auc:0.81158\teval-auc:0.73868\n",
      "[7]\ttrain-auc:0.81126\teval-auc:0.73862\n",
      "[8]\ttrain-auc:0.81157\teval-auc:0.73919\n",
      "[9]\ttrain-auc:0.81135\teval-auc:0.73948\n",
      "finish training & evaluation for P114\n",
      "start training & evaluation for P083\n"
     ]
    },
    {
     "name": "stderr",
     "output_type": "stream",
     "text": [
      "/home/panyu/miniconda3/envs/sci-data/lib/python3.9/site-packages/xgboost/core.py:122: UserWarning: ntree_limit is deprecated, use `iteration_range` or model slicing instead.\n",
      "  warnings.warn(\n",
      "/home/panyu/miniconda3/envs/sci-data/lib/python3.9/site-packages/xgboost/core.py:122: UserWarning: ntree_limit is deprecated, use `iteration_range` or model slicing instead.\n",
      "  warnings.warn(\n"
     ]
    },
    {
     "name": "stdout",
     "output_type": "stream",
     "text": [
      "[0]\ttrain-auc:0.78859\teval-auc:0.72819\n",
      "[1]\ttrain-auc:0.79018\teval-auc:0.73123\n",
      "[2]\ttrain-auc:0.79015\teval-auc:0.73105\n",
      "[3]\ttrain-auc:0.79143\teval-auc:0.73122\n",
      "[4]\ttrain-auc:0.79287\teval-auc:0.73187\n",
      "[5]\ttrain-auc:0.79252\teval-auc:0.73159\n",
      "[6]\ttrain-auc:0.79407\teval-auc:0.73329\n",
      "[7]\ttrain-auc:0.79478\teval-auc:0.73399\n",
      "[8]\ttrain-auc:0.79515\teval-auc:0.73365\n",
      "[9]\ttrain-auc:0.79590\teval-auc:0.73452\n",
      "finish training & evaluation for P083\n",
      "start training & evaluation for P094\n"
     ]
    },
    {
     "name": "stderr",
     "output_type": "stream",
     "text": [
      "/home/panyu/miniconda3/envs/sci-data/lib/python3.9/site-packages/xgboost/core.py:122: UserWarning: ntree_limit is deprecated, use `iteration_range` or model slicing instead.\n",
      "  warnings.warn(\n",
      "/home/panyu/miniconda3/envs/sci-data/lib/python3.9/site-packages/xgboost/core.py:122: UserWarning: ntree_limit is deprecated, use `iteration_range` or model slicing instead.\n",
      "  warnings.warn(\n"
     ]
    },
    {
     "name": "stdout",
     "output_type": "stream",
     "text": [
      "[0]\ttrain-auc:0.79263\teval-auc:0.73669\n",
      "[1]\ttrain-auc:0.79309\teval-auc:0.73700\n",
      "[2]\ttrain-auc:0.80204\teval-auc:0.74408\n",
      "[3]\ttrain-auc:0.80197\teval-auc:0.74363\n",
      "[4]\ttrain-auc:0.80361\teval-auc:0.74332\n",
      "[5]\ttrain-auc:0.80515\teval-auc:0.74449\n",
      "[6]\ttrain-auc:0.80545\teval-auc:0.74523\n",
      "[7]\ttrain-auc:0.80548\teval-auc:0.74409\n",
      "[8]\ttrain-auc:0.80677\teval-auc:0.74522\n",
      "[9]\ttrain-auc:0.80666\teval-auc:0.74563\n",
      "finish training & evaluation for P094\n",
      "start training & evaluation for P090\n"
     ]
    },
    {
     "name": "stderr",
     "output_type": "stream",
     "text": [
      "/home/panyu/miniconda3/envs/sci-data/lib/python3.9/site-packages/xgboost/core.py:122: UserWarning: ntree_limit is deprecated, use `iteration_range` or model slicing instead.\n",
      "  warnings.warn(\n",
      "/home/panyu/miniconda3/envs/sci-data/lib/python3.9/site-packages/xgboost/core.py:122: UserWarning: ntree_limit is deprecated, use `iteration_range` or model slicing instead.\n",
      "  warnings.warn(\n"
     ]
    },
    {
     "name": "stdout",
     "output_type": "stream",
     "text": [
      "[0]\ttrain-auc:0.79082\teval-auc:0.72659\n",
      "[1]\ttrain-auc:0.79232\teval-auc:0.72798\n",
      "[2]\ttrain-auc:0.79776\teval-auc:0.73048\n",
      "[3]\ttrain-auc:0.79779\teval-auc:0.73069\n",
      "[4]\ttrain-auc:0.80360\teval-auc:0.73582\n",
      "[5]\ttrain-auc:0.80435\teval-auc:0.73622\n",
      "[6]\ttrain-auc:0.80471\teval-auc:0.73712\n",
      "[7]\ttrain-auc:0.80692\teval-auc:0.73949\n",
      "[8]\ttrain-auc:0.80760\teval-auc:0.73927\n",
      "[9]\ttrain-auc:0.80799\teval-auc:0.73925\n",
      "finish training & evaluation for P090\n",
      "start training & evaluation for P043\n"
     ]
    },
    {
     "name": "stderr",
     "output_type": "stream",
     "text": [
      "/home/panyu/miniconda3/envs/sci-data/lib/python3.9/site-packages/xgboost/core.py:122: UserWarning: ntree_limit is deprecated, use `iteration_range` or model slicing instead.\n",
      "  warnings.warn(\n",
      "/home/panyu/miniconda3/envs/sci-data/lib/python3.9/site-packages/xgboost/core.py:122: UserWarning: ntree_limit is deprecated, use `iteration_range` or model slicing instead.\n",
      "  warnings.warn(\n"
     ]
    },
    {
     "name": "stdout",
     "output_type": "stream",
     "text": [
      "[0]\ttrain-auc:0.79146\teval-auc:0.72160\n",
      "[1]\ttrain-auc:0.79364\teval-auc:0.72412\n",
      "[2]\ttrain-auc:0.79465\teval-auc:0.72505\n",
      "[3]\ttrain-auc:0.79955\teval-auc:0.72991\n",
      "[4]\ttrain-auc:0.80051\teval-auc:0.73028\n",
      "[5]\ttrain-auc:0.80286\teval-auc:0.73330\n",
      "[6]\ttrain-auc:0.80429\teval-auc:0.73431\n",
      "[7]\ttrain-auc:0.80590\teval-auc:0.73673\n",
      "[8]\ttrain-auc:0.80652\teval-auc:0.73660\n",
      "[9]\ttrain-auc:0.80688\teval-auc:0.73700\n",
      "finish training & evaluation for P043\n",
      "start training & evaluation for P075\n"
     ]
    },
    {
     "name": "stderr",
     "output_type": "stream",
     "text": [
      "/home/panyu/miniconda3/envs/sci-data/lib/python3.9/site-packages/xgboost/core.py:122: UserWarning: ntree_limit is deprecated, use `iteration_range` or model slicing instead.\n",
      "  warnings.warn(\n",
      "/home/panyu/miniconda3/envs/sci-data/lib/python3.9/site-packages/xgboost/core.py:122: UserWarning: ntree_limit is deprecated, use `iteration_range` or model slicing instead.\n",
      "  warnings.warn(\n"
     ]
    },
    {
     "name": "stdout",
     "output_type": "stream",
     "text": [
      "[0]\ttrain-auc:0.78862\teval-auc:0.73497\n",
      "[1]\ttrain-auc:0.79021\teval-auc:0.73751\n",
      "[2]\ttrain-auc:0.79196\teval-auc:0.73980\n",
      "[3]\ttrain-auc:0.79671\teval-auc:0.74499\n",
      "[4]\ttrain-auc:0.79654\teval-auc:0.74430\n",
      "[5]\ttrain-auc:0.79646\teval-auc:0.74472\n",
      "[6]\ttrain-auc:0.79835\teval-auc:0.74609\n",
      "[7]\ttrain-auc:0.79840\teval-auc:0.74608\n",
      "[8]\ttrain-auc:0.79903\teval-auc:0.74590\n",
      "[9]\ttrain-auc:0.80008\teval-auc:0.74719\n",
      "finish training & evaluation for P075\n",
      "start training & evaluation for P121\n"
     ]
    },
    {
     "name": "stderr",
     "output_type": "stream",
     "text": [
      "/home/panyu/miniconda3/envs/sci-data/lib/python3.9/site-packages/xgboost/core.py:122: UserWarning: ntree_limit is deprecated, use `iteration_range` or model slicing instead.\n",
      "  warnings.warn(\n",
      "/home/panyu/miniconda3/envs/sci-data/lib/python3.9/site-packages/xgboost/core.py:122: UserWarning: ntree_limit is deprecated, use `iteration_range` or model slicing instead.\n",
      "  warnings.warn(\n"
     ]
    },
    {
     "name": "stdout",
     "output_type": "stream",
     "text": [
      "[0]\ttrain-auc:0.79264\teval-auc:0.72562\n",
      "[1]\ttrain-auc:0.79927\teval-auc:0.73286\n",
      "[2]\ttrain-auc:0.79961\teval-auc:0.73410\n",
      "[3]\ttrain-auc:0.79980\teval-auc:0.73344\n",
      "[4]\ttrain-auc:0.80046\teval-auc:0.73412\n",
      "[5]\ttrain-auc:0.80378\teval-auc:0.73723\n",
      "[6]\ttrain-auc:0.80494\teval-auc:0.73827\n",
      "[7]\ttrain-auc:0.80595\teval-auc:0.73922\n",
      "[8]\ttrain-auc:0.80597\teval-auc:0.73917\n",
      "[9]\ttrain-auc:0.80681\teval-auc:0.73978\n",
      "finish training & evaluation for P121\n",
      "start training & evaluation for P091\n"
     ]
    },
    {
     "name": "stderr",
     "output_type": "stream",
     "text": [
      "/home/panyu/miniconda3/envs/sci-data/lib/python3.9/site-packages/xgboost/core.py:122: UserWarning: ntree_limit is deprecated, use `iteration_range` or model slicing instead.\n",
      "  warnings.warn(\n",
      "/home/panyu/miniconda3/envs/sci-data/lib/python3.9/site-packages/xgboost/core.py:122: UserWarning: ntree_limit is deprecated, use `iteration_range` or model slicing instead.\n",
      "  warnings.warn(\n"
     ]
    },
    {
     "name": "stdout",
     "output_type": "stream",
     "text": [
      "[0]\ttrain-auc:0.79159\teval-auc:0.73253\n",
      "[1]\ttrain-auc:0.79293\teval-auc:0.73151\n",
      "[2]\ttrain-auc:0.79345\teval-auc:0.73168\n",
      "[3]\ttrain-auc:0.79714\teval-auc:0.73427\n",
      "[4]\ttrain-auc:0.79893\teval-auc:0.73582\n",
      "[5]\ttrain-auc:0.79960\teval-auc:0.73753\n",
      "[6]\ttrain-auc:0.80207\teval-auc:0.73874\n",
      "[7]\ttrain-auc:0.80292\teval-auc:0.73976\n",
      "[8]\ttrain-auc:0.80418\teval-auc:0.74067\n",
      "[9]\ttrain-auc:0.80688\teval-auc:0.74156\n",
      "finish training & evaluation for P091\n",
      "start training & evaluation for P135\n"
     ]
    },
    {
     "name": "stderr",
     "output_type": "stream",
     "text": [
      "/home/panyu/miniconda3/envs/sci-data/lib/python3.9/site-packages/xgboost/core.py:122: UserWarning: ntree_limit is deprecated, use `iteration_range` or model slicing instead.\n",
      "  warnings.warn(\n",
      "/home/panyu/miniconda3/envs/sci-data/lib/python3.9/site-packages/xgboost/core.py:122: UserWarning: ntree_limit is deprecated, use `iteration_range` or model slicing instead.\n",
      "  warnings.warn(\n"
     ]
    },
    {
     "name": "stdout",
     "output_type": "stream",
     "text": [
      "[0]\ttrain-auc:0.79030\teval-auc:0.72526\n",
      "[1]\ttrain-auc:0.79995\teval-auc:0.73497\n",
      "[2]\ttrain-auc:0.80079\teval-auc:0.73439\n",
      "[3]\ttrain-auc:0.80190\teval-auc:0.73569\n",
      "[4]\ttrain-auc:0.80155\teval-auc:0.73540\n",
      "[5]\ttrain-auc:0.80275\teval-auc:0.73610\n",
      "[6]\ttrain-auc:0.80641\teval-auc:0.73889\n",
      "[7]\ttrain-auc:0.80589\teval-auc:0.73801\n",
      "[8]\ttrain-auc:0.80797\teval-auc:0.73908\n",
      "[9]\ttrain-auc:0.80877\teval-auc:0.73993\n",
      "finish training & evaluation for P135\n",
      "start training & evaluation for P045\n"
     ]
    },
    {
     "name": "stderr",
     "output_type": "stream",
     "text": [
      "/home/panyu/miniconda3/envs/sci-data/lib/python3.9/site-packages/xgboost/core.py:122: UserWarning: ntree_limit is deprecated, use `iteration_range` or model slicing instead.\n",
      "  warnings.warn(\n",
      "/home/panyu/miniconda3/envs/sci-data/lib/python3.9/site-packages/xgboost/core.py:122: UserWarning: ntree_limit is deprecated, use `iteration_range` or model slicing instead.\n",
      "  warnings.warn(\n"
     ]
    },
    {
     "name": "stdout",
     "output_type": "stream",
     "text": [
      "[0]\ttrain-auc:0.79216\teval-auc:0.72351\n",
      "[1]\ttrain-auc:0.79778\teval-auc:0.72685\n",
      "[2]\ttrain-auc:0.79852\teval-auc:0.72718\n",
      "[3]\ttrain-auc:0.80140\teval-auc:0.72938\n",
      "[4]\ttrain-auc:0.80499\teval-auc:0.73202\n",
      "[5]\ttrain-auc:0.80641\teval-auc:0.73381\n",
      "[6]\ttrain-auc:0.80769\teval-auc:0.73507\n",
      "[7]\ttrain-auc:0.80953\teval-auc:0.73672\n",
      "[8]\ttrain-auc:0.80943\teval-auc:0.73706\n",
      "[9]\ttrain-auc:0.81016\teval-auc:0.73777\n",
      "finish training & evaluation for P045\n",
      "start training & evaluation for P098\n"
     ]
    },
    {
     "name": "stderr",
     "output_type": "stream",
     "text": [
      "/home/panyu/miniconda3/envs/sci-data/lib/python3.9/site-packages/xgboost/core.py:122: UserWarning: ntree_limit is deprecated, use `iteration_range` or model slicing instead.\n",
      "  warnings.warn(\n",
      "/home/panyu/miniconda3/envs/sci-data/lib/python3.9/site-packages/xgboost/core.py:122: UserWarning: ntree_limit is deprecated, use `iteration_range` or model slicing instead.\n",
      "  warnings.warn(\n"
     ]
    },
    {
     "name": "stdout",
     "output_type": "stream",
     "text": [
      "[0]\ttrain-auc:0.79091\teval-auc:0.72928\n",
      "[1]\ttrain-auc:0.79889\teval-auc:0.73668\n",
      "[2]\ttrain-auc:0.80099\teval-auc:0.73779\n",
      "[3]\ttrain-auc:0.80369\teval-auc:0.73920\n",
      "[4]\ttrain-auc:0.80396\teval-auc:0.74018\n",
      "[5]\ttrain-auc:0.80534\teval-auc:0.74079\n",
      "[6]\ttrain-auc:0.80564\teval-auc:0.74128\n",
      "[7]\ttrain-auc:0.80518\teval-auc:0.74170\n",
      "[8]\ttrain-auc:0.80573\teval-auc:0.74144\n",
      "[9]\ttrain-auc:0.80610\teval-auc:0.74160\n",
      "finish training & evaluation for P098\n",
      "start training & evaluation for P047\n"
     ]
    },
    {
     "name": "stderr",
     "output_type": "stream",
     "text": [
      "/home/panyu/miniconda3/envs/sci-data/lib/python3.9/site-packages/xgboost/core.py:122: UserWarning: ntree_limit is deprecated, use `iteration_range` or model slicing instead.\n",
      "  warnings.warn(\n",
      "/home/panyu/miniconda3/envs/sci-data/lib/python3.9/site-packages/xgboost/core.py:122: UserWarning: ntree_limit is deprecated, use `iteration_range` or model slicing instead.\n",
      "  warnings.warn(\n"
     ]
    },
    {
     "name": "stdout",
     "output_type": "stream",
     "text": [
      "[0]\ttrain-auc:0.78958\teval-auc:0.72508\n",
      "[1]\ttrain-auc:0.79013\teval-auc:0.72508\n",
      "[2]\ttrain-auc:0.79105\teval-auc:0.72550\n",
      "[3]\ttrain-auc:0.79204\teval-auc:0.72645\n",
      "[4]\ttrain-auc:0.79407\teval-auc:0.72819\n",
      "[5]\ttrain-auc:0.79473\teval-auc:0.72800\n",
      "[6]\ttrain-auc:0.79531\teval-auc:0.72980\n",
      "[7]\ttrain-auc:0.79633\teval-auc:0.73044\n",
      "[8]\ttrain-auc:0.79812\teval-auc:0.73182\n",
      "[9]\ttrain-auc:0.79836\teval-auc:0.73225\n",
      "finish training & evaluation for P047\n",
      "start training & evaluation for P125\n"
     ]
    },
    {
     "name": "stderr",
     "output_type": "stream",
     "text": [
      "/home/panyu/miniconda3/envs/sci-data/lib/python3.9/site-packages/xgboost/core.py:122: UserWarning: ntree_limit is deprecated, use `iteration_range` or model slicing instead.\n",
      "  warnings.warn(\n",
      "/home/panyu/miniconda3/envs/sci-data/lib/python3.9/site-packages/xgboost/core.py:122: UserWarning: ntree_limit is deprecated, use `iteration_range` or model slicing instead.\n",
      "  warnings.warn(\n"
     ]
    },
    {
     "name": "stdout",
     "output_type": "stream",
     "text": [
      "[0]\ttrain-auc:0.79166\teval-auc:0.71963\n",
      "[1]\ttrain-auc:0.79895\teval-auc:0.72745\n",
      "[2]\ttrain-auc:0.79931\teval-auc:0.72680\n",
      "[3]\ttrain-auc:0.80151\teval-auc:0.72895\n",
      "[4]\ttrain-auc:0.80537\teval-auc:0.73235\n",
      "[5]\ttrain-auc:0.80589\teval-auc:0.73254\n",
      "[6]\ttrain-auc:0.80618\teval-auc:0.73298\n",
      "[7]\ttrain-auc:0.80824\teval-auc:0.73469\n",
      "[8]\ttrain-auc:0.80808\teval-auc:0.73491\n",
      "[9]\ttrain-auc:0.80891\teval-auc:0.73464\n",
      "finish training & evaluation for P125\n",
      "TOTAL All round, ROCAUC0.7366096863560163, LOGLOSS0.675393475342258, ACCURACY0.687778736323436, PRECISION0.6838059553626745, RECALL0.6714123446365033, F1 MACRO0.6621925565786024, F1 POSITIVE LABEL0.5955922675883111,\n",
      "\n"
     ]
    },
    {
     "name": "stderr",
     "output_type": "stream",
     "text": [
      "/home/panyu/miniconda3/envs/sci-data/lib/python3.9/site-packages/xgboost/core.py:122: UserWarning: ntree_limit is deprecated, use `iteration_range` or model slicing instead.\n",
      "  warnings.warn(\n",
      "/home/panyu/miniconda3/envs/sci-data/lib/python3.9/site-packages/xgboost/core.py:122: UserWarning: ntree_limit is deprecated, use `iteration_range` or model slicing instead.\n",
      "  warnings.warn(\n"
     ]
    }
   ],
   "source": [
    "import xgboost as xgb\n",
    "import random\n",
    "from sklearn.metrics import (roc_auc_score, precision_recall_fscore_support,\n",
    "                             log_loss, accuracy_score, f1_score, precision_score,\n",
    "                             recall_score, roc_curve, auc)\n",
    "import numpy as np\n",
    "import os\n",
    "import pickle\n",
    "import ray\n",
    "import pandas as pd\n",
    "from sklearn.datasets import load_svmlight_file\n",
    "from xgboost import DMatrix\n",
    "\n",
    "\n",
    "def mkdir(path):\n",
    "    path = path.strip()\n",
    "    isExists = os.path.exists(path)\n",
    "    if not isExists:\n",
    "        os.makedirs(path)\n",
    "        return True\n",
    "    else:\n",
    "        return False\n",
    "\n",
    "def find_best_threshold(y_true, y_probs):\n",
    "    best_threshold = 0\n",
    "    best_f1 = 0\n",
    "    thresholds = np.arange(0, 1.01, 0.01)\n",
    "    for threshold in thresholds:\n",
    "        y_pred = (y_probs > threshold).astype(int)\n",
    "        current_f1 = f1_score(y_true, y_pred)\n",
    "        if current_f1 > best_f1:\n",
    "            best_f1 = current_f1\n",
    "            best_threshold = threshold\n",
    "    return best_threshold\n",
    "\n",
    "random.seed(seed)\n",
    "\n",
    "folder = PATH_RESULTS\n",
    "mkdir(folder)\n",
    "data_folder = PATH_SAVE_CALORIES\n",
    "\n",
    "final_total_auc = np.empty(0)\n",
    "final_total_logloss = np.empty(0)\n",
    "final_total_f1_macro = np.empty(0)\n",
    "final_total_f1_pos_label = np.empty(0)\n",
    "final_total_accuracy = np.empty(0)\n",
    "final_total_precision = np.empty(0)\n",
    "final_total_recall = np.empty(0)\n",
    "train_aucs = []\n",
    "test_aucs = []\n",
    "\n",
    "\n",
    "\n",
    "# @ray.remote\n",
    "def train_and_evaluate(subject, param, data_folder):\n",
    "\n",
    "    print(\"start training & evaluation for {}\".format(subject))\n",
    "\n",
    "\n",
    "    # Convert data to DMatrix format for XGBoost\n",
    "    dtrain = xgb.DMatrix(data_folder + '{}_train.data'.format(subject))\n",
    "    dtest = xgb.DMatrix(data_folder + '{}_val.data'.format(subject))\n",
    "    deval = xgb.DMatrix(data_folder + '{}_eval.data'.format(subject))\n",
    "    \n",
    "\n",
    "    evallist = [(dtrain, 'train'), (deval, 'eval')]\n",
    "\n",
    "    # Train the model using standard xgboost\n",
    "    bst = xgb.train(param, dtrain, evals=evallist, early_stopping_rounds=10)\n",
    "    \n",
    "    y_real = dtest.get_label()  # Use the labels directly\n",
    "    y_score = bst.predict(dtest,ntree_limit=bst.best_ntree_limit)\n",
    "#     y_score = bst.predict(dtest)\n",
    "#     best_threshold = find_best_threshold(y_real, y_score)\n",
    "#     y_pred = [1 if score >= best_threshold else 0 for score in y_score]\n",
    "    y_pred = [1 if score >= 0.5 else 0 for score in y_score]\n",
    "\n",
    "    all_roc_auc = roc_auc_score(y_true=y_real, y_score=y_score, average=None)\n",
    "    all_logloss = log_loss(y_real, y_score)\n",
    "    accuracy = accuracy_score(y_real, y_pred)\n",
    "\n",
    "    pre, rec, f1, _ = precision_recall_fscore_support(y_true=y_real, y_pred=y_pred, pos_label=1, average='macro', zero_division=0)\n",
    "    precision = pre\n",
    "    recall = rec\n",
    "    f1_macro = f1\n",
    "\n",
    "    _, _, f1_pos, _ = precision_recall_fscore_support(y_true=y_real, y_pred=y_pred, pos_label=1, average='binary', zero_division=0)\n",
    "    f1_pos_label = f1_pos\n",
    "    print(\"finish training & evaluation for {}\".format(subject))\n",
    "\n",
    "#     return subject, all_roc_auc, all_logloss, accuracy, precision, recall, f1_macro, f1_pos_label\n",
    "\n",
    "    ###############################\n",
    "    # Compute training AUC\n",
    "    y_train_real = dtrain.get_label()\n",
    "    y_train_score = bst.predict(dtrain, ntree_limit=bst.best_ntree_limit)\n",
    "    train_auc = roc_auc_score(y_true=y_train_real, y_score=y_train_score)\n",
    "    \n",
    "    test_auc = all_roc_auc\n",
    "\n",
    "    return subject, train_auc, test_auc, all_logloss, accuracy, precision, recall, f1_macro, f1_pos_label\n",
    " \n",
    "with on_ray():\n",
    "    results = [train_and_evaluate(subject, param, data_folder) for subject in set(all_groups)]\n",
    "#     futures = [train_and_evaluate.remote(subject, param, data_folder) for subject in combined_similarity['pcode'].unique()]\n",
    "#     results = ray.get(futures)\n",
    "\n",
    "    for result in results:\n",
    "         #Retrieving training AUC\n",
    "        subject, train_auc, test_auc, all_logloss, accuracy, precision, recall, f1_macro, f1_pos_label = result\n",
    "        train_aucs.append(train_auc)\n",
    "        test_aucs.append(test_auc)\n",
    "        \n",
    "#         subject, all_roc_auc, all_logloss, accuracy, precision, recall, f1_macro, f1_pos_label = result\n",
    "        # Append to final metric arrays\n",
    "#         final_total_auc = np.append(final_total_auc, all_roc_auc)\n",
    "\n",
    "        final_total_logloss = np.append(final_total_logloss, all_logloss)\n",
    "        final_total_accuracy = np.append(final_total_accuracy, accuracy)\n",
    "        final_total_precision = np.append(final_total_precision, precision)\n",
    "        final_total_recall = np.append(final_total_recall, recall)\n",
    "        final_total_f1_macro = np.append(final_total_f1_macro, f1_macro)\n",
    "        final_total_f1_pos_label = np.append(final_total_f1_pos_label, f1_pos_label)\n",
    "\n",
    "    print(\"TOTAL All round, ROCAUC{}, LOGLOSS{}, ACCURACY{}, PRECISION{}, RECALL{}, F1 MACRO{}, F1 POSITIVE LABEL{},\\n\".format(np.mean(test_aucs), np.mean(final_total_logloss), np.mean(final_total_accuracy), np.mean(final_total_precision), np.mean(final_total_recall), np.mean(final_total_f1_macro), np.mean(final_total_f1_pos_label)))"
   ]
  },
  {
   "cell_type": "code",
   "execution_count": 18,
   "id": "55e1abba",
   "metadata": {},
   "outputs": [
    {
     "data": {
      "image/png": "[encoded data removed]",
      "text/plain": [
       "<Figure size 1000x600 with 1 Axes>"
      ]
     },
     "metadata": {},
     "output_type": "display_data"
    }
   ],
   "source": [
    "import seaborn as sns\n",
    "import matplotlib.pyplot as plt\n",
    "import numpy as np\n",
    "\n",
    "# Assuming 'train_aucs' and 'test_aucs' are lists of AUC scores\n",
    "splits = np.arange(len(train_aucs))  # Assuming splits are sequential and equal to the length of AUC lists\n",
    "\n",
    "# Prepare a DataFrame for Seaborn\n",
    "data = pd.DataFrame({\n",
    "    'Split': np.concatenate([splits, splits]),  # Double the splits for train and test\n",
    "    'AUC': np.concatenate([train_aucs, test_aucs]),  # Combine AUC scores\n",
    "    'Type': ['Train']*len(train_aucs) + ['Test']*len(test_aucs)  # Label types\n",
    "})\n",
    "\n",
    "# Calculate the average values for training and test AUCs\n",
    "avg_train_auc = sum(train_aucs) / len(train_aucs)\n",
    "avg_test_auc = sum(test_aucs) / len(test_aucs)\n",
    "\n",
    "# Set up the matplotlib figure\n",
    "plt.figure(figsize=(10, 6))\n",
    "\n",
    "# Set the color palette to black and white\n",
    "palette = sns.color_palette(\"gray\", n_colors=2)\n",
    "\n",
    "# Draw a line plot with Seaborn\n",
    "sns.lineplot(data=data, x='Split', y='AUC', hue='Type', style='Type', markers=True, dashes=False, palette=palette)\n",
    "\n",
    "# Add average lines for Train and Test AUCs\n",
    "plt.axhline(y=avg_train_auc, color='black', linestyle='--', label=f\"Average Train AUC: {avg_train_auc:.2f}\")\n",
    "plt.axhline(y=avg_test_auc, color='black', linestyle='--', label=f\"Average Test AUC: {avg_test_auc:.2f}\")\n",
    "\n",
    "# Line for random chance performance\n",
    "plt.axhline(y=0.5, color='gray', linestyle='--', label=\"Random\")\n",
    "\n",
    "# Customize the axes and title\n",
    "plt.xlabel('Split')\n",
    "plt.ylabel('AUC')\n",
    "plt.title('Training and Test AUC for All Splits')\n",
    "\n",
    "# Show the legend and customize it to not show the color guide\n",
    "plt.legend(title='Type')\n",
    "\n",
    "# Set the ylim to standardize the AUC view\n",
    "plt.ylim([0, 1])\n",
    "\n",
    "# Display the plot\n",
    "plt.show()\n"
   ]
  },
  {
   "cell_type": "code",
   "execution_count": 19,
   "id": "6a165d24",
   "metadata": {},
   "outputs": [
    {
     "data": {
      "image/png": "[encoded data removed]",
      "text/plain": [
       "<Figure size 1000x600 with 1 Axes>"
      ]
     },
     "metadata": {},
     "output_type": "display_data"
    }
   ],
   "source": [
    "import matplotlib.pyplot as plt\n",
    "\n",
    "# Calculate the average values for training and test AUCs\n",
    "avg_train_auc = sum(train_aucs) / len(train_aucs)\n",
    "avg_test_auc = sum(test_aucs) / len(test_aucs)\n",
    "\n",
    "plt.figure(figsize=(10, 6))\n",
    "plt.plot(train_aucs, label=\"Train AUC\", marker='o')\n",
    "plt.plot(test_aucs, label=\"Test AUC\", marker='x')\n",
    "\n",
    "# Add average lines for Train and Test AUCs\n",
    "plt.axhline(y=avg_train_auc, color='blue', linestyle='--', label=f\"Average Train AUC: {avg_train_auc:.2f}\")\n",
    "plt.axhline(y=avg_test_auc, color='orange', linestyle='--', label=f\"Average Test AUC: {avg_test_auc:.2f}\")\n",
    "\n",
    "# Line for random\n",
    "plt.axhline(y=0.5, color='gray', linestyle='--', label=\"Random\")\n",
    "\n",
    "plt.xlabel('Split')\n",
    "plt.ylabel('AUC')\n",
    "plt.title('Training and Test AUC for All Splits')\n",
    "plt.legend()\n",
    "plt.grid(True)\n",
    "plt.ylim([0, 1])\n",
    "plt.show()\n"
   ]
  },
  {
   "cell_type": "code",
   "execution_count": null,
   "id": "c3352afc",
   "metadata": {},
   "outputs": [],
   "source": []
  },
  {
   "cell_type": "code",
   "execution_count": null,
   "id": "e9824212",
   "metadata": {},
   "outputs": [],
   "source": []
  }
 ],
 "metadata": {
  "kernelspec": {
   "display_name": "Python 3 (ipykernel)",
   "language": "python",
   "name": "python3"
  },
  "language_info": {
   "codemirror_mode": {
    "name": "ipython",
    "version": 3
   },
   "file_extension": ".py",
   "mimetype": "text/x-python",
   "name": "python",
   "nbconvert_exporter": "python",
   "pygments_lexer": "ipython3",
   "version": "3.9.15"
  }
 },
 "nbformat": 4,
 "nbformat_minor": 5
}
