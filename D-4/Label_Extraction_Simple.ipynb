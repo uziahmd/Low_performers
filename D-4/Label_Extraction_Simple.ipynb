{
 "cells": [
  {
   "cell_type": "code",
   "execution_count": 1,
   "id": "c69f725a",
   "metadata": {},
   "outputs": [],
   "source": [
    "from Funcs.Utility import *\n",
    "import numpy as np\n",
    "import pandas as pd\n",
    "from typing import Dict, Callable, Union, Tuple, List, Optional, Iterable\n",
    "from datetime import timedelta as td\n",
    "from scipy import stats\n",
    "import ray\n",
    "import warnings\n",
    "import time\n",
    "import ray\n",
    "import dask"
   ]
  },
  {
   "cell_type": "code",
   "execution_count": 2,
   "id": "d0e9f7b2",
   "metadata": {},
   "outputs": [
    {
     "name": "stdout",
     "output_type": "stream",
     "text": [
      "1.5.3\n"
     ]
    }
   ],
   "source": [
    "import pandas as pd\n",
    "print(pd.__version__)"
   ]
  },
  {
   "cell_type": "code",
   "execution_count": 3,
   "id": "c7d8fc6e",
   "metadata": {},
   "outputs": [
    {
     "name": "stdout",
     "output_type": "stream",
     "text": [
      "/var/nfs_share/D#4/newdata\n"
     ]
    }
   ],
   "source": [
    "print(PATH_SENSOR)"
   ]
  },
  {
   "cell_type": "code",
   "execution_count": 4,
   "id": "29c77421",
   "metadata": {},
   "outputs": [],
   "source": [
    "def aggregate_steps_by_hour(path_sensor):\n",
    "    # Create an empty dataframe to store the results\n",
    "    aggregated_data = pd.DataFrame(columns=['pcode', 'timestamp', 'step_count'])\n",
    "    \n",
    "    # Loop through each folder in the directory\n",
    "    for pcode in range(1, 136):\n",
    "        folder_name = f'P{str(pcode).zfill(3)}'\n",
    "        folder_path = os.path.join(path_sensor, folder_name)\n",
    "        \n",
    "        if not os.path.isdir(folder_path):\n",
    "            continue\n",
    "        \n",
    "        # Path to the Fitbit-StepCount.csv file\n",
    "        file_path = os.path.join(folder_path, 'Fitbit-StepCount.csv')\n",
    "        \n",
    "        if not os.path.isfile(file_path):\n",
    "            continue\n",
    "        \n",
    "        # Read the csv file\n",
    "        step_data = pd.read_csv(file_path)\n",
    "        \n",
    "        # Convert timestamp to datetime\n",
    "        step_data['timestamp'] = pd.to_datetime(step_data['timestamp'], unit='ms')\n",
    "        \n",
    "        # Set the timestamp as the index\n",
    "        step_data.set_index('timestamp', inplace=True)\n",
    "        \n",
    "        # Resample the data to 1-hour intervals and sum the step counts\n",
    "        hourly_data = step_data['value'].resample('H').sum().reset_index()\n",
    "        \n",
    "        # Add the pcode to the dataframe\n",
    "        hourly_data['pcode'] = folder_name\n",
    "        \n",
    "        # Rename columns to match the required output\n",
    "        hourly_data.rename(columns={'timestamp': 'timestamp', 'value': 'step_count'}, inplace=True)\n",
    "        \n",
    "        # Append the aggregated data to the final dataframe\n",
    "        aggregated_data = pd.concat([aggregated_data, hourly_data], ignore_index=True)\n",
    "    \n",
    "    return aggregated_data"
   ]
  },
  {
   "cell_type": "code",
   "execution_count": 5,
   "id": "16eaca23",
   "metadata": {},
   "outputs": [],
   "source": [
    "aggregated_step_count_data = aggregate_steps_by_hour(PATH_SENSOR)"
   ]
  },
  {
   "cell_type": "code",
   "execution_count": 6,
   "id": "cc826e02",
   "metadata": {},
   "outputs": [
    {
     "data": {
      "text/html": [
       "<div>\n",
       "<style scoped>\n",
       "    .dataframe tbody tr th:only-of-type {\n",
       "        vertical-align: middle;\n",
       "    }\n",
       "\n",
       "    .dataframe tbody tr th {\n",
       "        vertical-align: top;\n",
       "    }\n",
       "\n",
       "    .dataframe thead th {\n",
       "        text-align: right;\n",
       "    }\n",
       "</style>\n",
       "<table border=\"1\" class=\"dataframe\">\n",
       "  <thead>\n",
       "    <tr style=\"text-align: right;\">\n",
       "      <th></th>\n",
       "      <th>pcode</th>\n",
       "      <th>timestamp</th>\n",
       "      <th>step_count</th>\n",
       "    </tr>\n",
       "  </thead>\n",
       "  <tbody>\n",
       "    <tr>\n",
       "      <th>0</th>\n",
       "      <td>P001</td>\n",
       "      <td>2021-11-24 02:00:00</td>\n",
       "      <td>726</td>\n",
       "    </tr>\n",
       "    <tr>\n",
       "      <th>1</th>\n",
       "      <td>P001</td>\n",
       "      <td>2021-11-24 03:00:00</td>\n",
       "      <td>437</td>\n",
       "    </tr>\n",
       "    <tr>\n",
       "      <th>2</th>\n",
       "      <td>P001</td>\n",
       "      <td>2021-11-24 04:00:00</td>\n",
       "      <td>627</td>\n",
       "    </tr>\n",
       "    <tr>\n",
       "      <th>3</th>\n",
       "      <td>P001</td>\n",
       "      <td>2021-11-24 05:00:00</td>\n",
       "      <td>291</td>\n",
       "    </tr>\n",
       "    <tr>\n",
       "      <th>4</th>\n",
       "      <td>P001</td>\n",
       "      <td>2021-11-24 06:00:00</td>\n",
       "      <td>269</td>\n",
       "    </tr>\n",
       "    <tr>\n",
       "      <th>...</th>\n",
       "      <td>...</td>\n",
       "      <td>...</td>\n",
       "      <td>...</td>\n",
       "    </tr>\n",
       "    <tr>\n",
       "      <th>76371</th>\n",
       "      <td>P135</td>\n",
       "      <td>2022-01-05 03:00:00</td>\n",
       "      <td>148</td>\n",
       "    </tr>\n",
       "    <tr>\n",
       "      <th>76372</th>\n",
       "      <td>P135</td>\n",
       "      <td>2022-01-05 04:00:00</td>\n",
       "      <td>796</td>\n",
       "    </tr>\n",
       "    <tr>\n",
       "      <th>76373</th>\n",
       "      <td>P135</td>\n",
       "      <td>2022-01-05 05:00:00</td>\n",
       "      <td>30</td>\n",
       "    </tr>\n",
       "    <tr>\n",
       "      <th>76374</th>\n",
       "      <td>P135</td>\n",
       "      <td>2022-01-05 06:00:00</td>\n",
       "      <td>7</td>\n",
       "    </tr>\n",
       "    <tr>\n",
       "      <th>76375</th>\n",
       "      <td>P135</td>\n",
       "      <td>2022-01-05 07:00:00</td>\n",
       "      <td>21</td>\n",
       "    </tr>\n",
       "  </tbody>\n",
       "</table>\n",
       "<p>76376 rows × 3 columns</p>\n",
       "</div>"
      ],
      "text/plain": [
       "      pcode           timestamp step_count\n",
       "0      P001 2021-11-24 02:00:00        726\n",
       "1      P001 2021-11-24 03:00:00        437\n",
       "2      P001 2021-11-24 04:00:00        627\n",
       "3      P001 2021-11-24 05:00:00        291\n",
       "4      P001 2021-11-24 06:00:00        269\n",
       "...     ...                 ...        ...\n",
       "76371  P135 2022-01-05 03:00:00        148\n",
       "76372  P135 2022-01-05 04:00:00        796\n",
       "76373  P135 2022-01-05 05:00:00         30\n",
       "76374  P135 2022-01-05 06:00:00          7\n",
       "76375  P135 2022-01-05 07:00:00         21\n",
       "\n",
       "[76376 rows x 3 columns]"
      ]
     },
     "execution_count": 6,
     "metadata": {},
     "output_type": "execute_result"
    }
   ],
   "source": [
    "aggregated_step_count_data"
   ]
  },
  {
   "cell_type": "code",
   "execution_count": 7,
   "id": "f4ab9b52",
   "metadata": {},
   "outputs": [],
   "source": [
    "output_path = os.path.join('Intermediate', 'labels_1h.csv')\n",
    "os.makedirs(os.path.dirname(output_path), exist_ok=True)\n",
    "aggregated_step_count_data.to_csv(output_path)"
   ]
  },
  {
   "cell_type": "markdown",
   "id": "c69a80f9",
   "metadata": {},
   "source": [
    "EDA"
   ]
  },
  {
   "cell_type": "code",
   "execution_count": 58,
   "id": "087ec5f5",
   "metadata": {},
   "outputs": [],
   "source": [
    "import pandas as pd\n",
    "import matplotlib.pyplot as plt\n",
    "import seaborn as sns"
   ]
  },
  {
   "cell_type": "code",
   "execution_count": 59,
   "id": "4e8fb353",
   "metadata": {},
   "outputs": [],
   "source": [
    "input_path = os.path.join('Intermediate', 'labels_1h.csv')\n",
    "labels_df = pd.read_csv(input_path)"
   ]
  },
  {
   "cell_type": "code",
   "execution_count": 60,
   "id": "f65127fb",
   "metadata": {},
   "outputs": [
    {
     "name": "stdout",
     "output_type": "stream",
     "text": [
      "  pcode            timestamp  step_count\n",
      "0  P001  2021-11-24 02:00:00         726\n",
      "1  P001  2021-11-24 03:00:00         437\n",
      "2  P001  2021-11-24 04:00:00         627\n",
      "3  P001  2021-11-24 05:00:00         291\n",
      "4  P001  2021-11-24 06:00:00         269\n"
     ]
    }
   ],
   "source": [
    "labels_df = labels_df.drop(columns=['Unnamed: 0'])\n",
    "print(labels_df.head())"
   ]
  },
  {
   "cell_type": "code",
   "execution_count": 61,
   "id": "a939db83",
   "metadata": {},
   "outputs": [
    {
     "name": "stdout",
     "output_type": "stream",
     "text": [
      "         step_count\n",
      "count  76376.000000\n",
      "mean     323.528425\n",
      "std      631.672542\n",
      "min        0.000000\n",
      "25%        0.000000\n",
      "50%       33.000000\n",
      "75%      339.000000\n",
      "max     8244.000000\n"
     ]
    }
   ],
   "source": [
    "# Display basic statistics\n",
    "print(labels_df.describe())"
   ]
  },
  {
   "cell_type": "code",
   "execution_count": 62,
   "id": "34f7bb88",
   "metadata": {},
   "outputs": [
    {
     "name": "stdout",
     "output_type": "stream",
     "text": [
      "pcode         0\n",
      "timestamp     0\n",
      "step_count    0\n",
      "dtype: int64\n"
     ]
    }
   ],
   "source": [
    "print(labels_df.isnull().sum())"
   ]
  },
  {
   "cell_type": "code",
   "execution_count": 63,
   "id": "d253dfff",
   "metadata": {},
   "outputs": [],
   "source": [
    "labels_df['step_count'] = pd.to_numeric(labels_df['step_count'], errors='coerce')"
   ]
  },
  {
   "cell_type": "code",
   "execution_count": 64,
   "id": "1793d9f2",
   "metadata": {},
   "outputs": [],
   "source": [
    "finite_mask = np.isfinite(labels_df['step_count'])\n",
    "if not finite_mask.all():\n",
    "    print(\"Non-finite values detected and removed.\")\n",
    "    labels_df = labels_df[finite_mask]"
   ]
  },
  {
   "cell_type": "code",
   "execution_count": 65,
   "id": "a95b0862",
   "metadata": {},
   "outputs": [
    {
     "name": "stdout",
     "output_type": "stream",
     "text": [
      "26260\n"
     ]
    }
   ],
   "source": [
    "zero_count = (labels_df['step_count'] == 0).sum()\n",
    "print(zero_count)"
   ]
  },
  {
   "cell_type": "code",
   "execution_count": 66,
   "id": "85bb9e26",
   "metadata": {},
   "outputs": [
    {
     "data": {
      "image/png": "[encoded data removed]",
      "text/plain": [
       "<Figure size 1000x600 with 1 Axes>"
      ]
     },
     "metadata": {},
     "output_type": "display_data"
    }
   ],
   "source": [
    "plt.figure(figsize=(10, 6))\n",
    "plt.hist(labels_df['step_count'], bins=30, edgecolor='black')\n",
    "plt.title('Distribution of Label Values')\n",
    "plt.xlabel('Label')\n",
    "plt.ylabel('Frequency')\n",
    "plt.grid(True)\n",
    "plt.show()"
   ]
  },
  {
   "cell_type": "code",
   "execution_count": 67,
   "id": "d6f3e145",
   "metadata": {},
   "outputs": [
    {
     "data": {
      "image/png": "[encoded data removed]",
      "text/plain": [
       "<Figure size 1000x600 with 1 Axes>"
      ]
     },
     "metadata": {},
     "output_type": "display_data"
    }
   ],
   "source": [
    "# Boxplot to visualize outliers\n",
    "plt.figure(figsize=(10, 6))\n",
    "plt.boxplot(labels_df['step_count'].dropna(), vert=False)\n",
    "plt.title('Boxplot of Label Values')\n",
    "plt.xlabel('Label')\n",
    "plt.grid(True)\n",
    "plt.show()"
   ]
  },
  {
   "cell_type": "code",
   "execution_count": 68,
   "id": "6ea925ce",
   "metadata": {},
   "outputs": [],
   "source": [
    "def remove_top_5_percent(group):\n",
    "    upper_bound = group['step_count'].quantile(0.90)\n",
    "    return group[group['step_count'] <= upper_bound]"
   ]
  },
  {
   "cell_type": "code",
   "execution_count": 69,
   "id": "d59d0f1c",
   "metadata": {},
   "outputs": [],
   "source": [
    "filtered_df = labels_df.groupby('pcode').apply(remove_top_5_percent).reset_index(drop=True)"
   ]
  },
  {
   "cell_type": "code",
   "execution_count": 70,
   "id": "0b39f933",
   "metadata": {},
   "outputs": [
    {
     "data": {
      "text/html": [
       "<div>\n",
       "<style scoped>\n",
       "    .dataframe tbody tr th:only-of-type {\n",
       "        vertical-align: middle;\n",
       "    }\n",
       "\n",
       "    .dataframe tbody tr th {\n",
       "        vertical-align: top;\n",
       "    }\n",
       "\n",
       "    .dataframe thead th {\n",
       "        text-align: right;\n",
       "    }\n",
       "</style>\n",
       "<table border=\"1\" class=\"dataframe\">\n",
       "  <thead>\n",
       "    <tr style=\"text-align: right;\">\n",
       "      <th></th>\n",
       "      <th>pcode</th>\n",
       "      <th>timestamp</th>\n",
       "      <th>step_count</th>\n",
       "    </tr>\n",
       "  </thead>\n",
       "  <tbody>\n",
       "    <tr>\n",
       "      <th>0</th>\n",
       "      <td>P001</td>\n",
       "      <td>2021-11-24 02:00:00</td>\n",
       "      <td>726</td>\n",
       "    </tr>\n",
       "    <tr>\n",
       "      <th>1</th>\n",
       "      <td>P001</td>\n",
       "      <td>2021-11-24 03:00:00</td>\n",
       "      <td>437</td>\n",
       "    </tr>\n",
       "    <tr>\n",
       "      <th>2</th>\n",
       "      <td>P001</td>\n",
       "      <td>2021-11-24 04:00:00</td>\n",
       "      <td>627</td>\n",
       "    </tr>\n",
       "    <tr>\n",
       "      <th>3</th>\n",
       "      <td>P001</td>\n",
       "      <td>2021-11-24 05:00:00</td>\n",
       "      <td>291</td>\n",
       "    </tr>\n",
       "    <tr>\n",
       "      <th>4</th>\n",
       "      <td>P001</td>\n",
       "      <td>2021-11-24 06:00:00</td>\n",
       "      <td>269</td>\n",
       "    </tr>\n",
       "    <tr>\n",
       "      <th>...</th>\n",
       "      <td>...</td>\n",
       "      <td>...</td>\n",
       "      <td>...</td>\n",
       "    </tr>\n",
       "    <tr>\n",
       "      <th>68702</th>\n",
       "      <td>P135</td>\n",
       "      <td>2022-01-05 02:00:00</td>\n",
       "      <td>0</td>\n",
       "    </tr>\n",
       "    <tr>\n",
       "      <th>68703</th>\n",
       "      <td>P135</td>\n",
       "      <td>2022-01-05 03:00:00</td>\n",
       "      <td>148</td>\n",
       "    </tr>\n",
       "    <tr>\n",
       "      <th>68704</th>\n",
       "      <td>P135</td>\n",
       "      <td>2022-01-05 05:00:00</td>\n",
       "      <td>30</td>\n",
       "    </tr>\n",
       "    <tr>\n",
       "      <th>68705</th>\n",
       "      <td>P135</td>\n",
       "      <td>2022-01-05 06:00:00</td>\n",
       "      <td>7</td>\n",
       "    </tr>\n",
       "    <tr>\n",
       "      <th>68706</th>\n",
       "      <td>P135</td>\n",
       "      <td>2022-01-05 07:00:00</td>\n",
       "      <td>21</td>\n",
       "    </tr>\n",
       "  </tbody>\n",
       "</table>\n",
       "<p>68707 rows × 3 columns</p>\n",
       "</div>"
      ],
      "text/plain": [
       "      pcode            timestamp  step_count\n",
       "0      P001  2021-11-24 02:00:00         726\n",
       "1      P001  2021-11-24 03:00:00         437\n",
       "2      P001  2021-11-24 04:00:00         627\n",
       "3      P001  2021-11-24 05:00:00         291\n",
       "4      P001  2021-11-24 06:00:00         269\n",
       "...     ...                  ...         ...\n",
       "68702  P135  2022-01-05 02:00:00           0\n",
       "68703  P135  2022-01-05 03:00:00         148\n",
       "68704  P135  2022-01-05 05:00:00          30\n",
       "68705  P135  2022-01-05 06:00:00           7\n",
       "68706  P135  2022-01-05 07:00:00          21\n",
       "\n",
       "[68707 rows x 3 columns]"
      ]
     },
     "execution_count": 70,
     "metadata": {},
     "output_type": "execute_result"
    }
   ],
   "source": [
    "filtered_df"
   ]
  },
  {
   "cell_type": "code",
   "execution_count": 71,
   "id": "8f2fc5ee",
   "metadata": {},
   "outputs": [
    {
     "data": {
      "image/png": "[encoded data removed]",
      "text/plain": [
       "<Figure size 1000x600 with 1 Axes>"
      ]
     },
     "metadata": {},
     "output_type": "display_data"
    }
   ],
   "source": [
    "# Boxplot to visualize outliers\n",
    "plt.figure(figsize=(10, 6))\n",
    "plt.boxplot(filtered_df['step_count'].dropna(), vert=False)\n",
    "plt.title('Boxplot of Label Values')\n",
    "plt.xlabel('Label')\n",
    "plt.grid(True)\n",
    "plt.show()"
   ]
  },
  {
   "cell_type": "code",
   "execution_count": 80,
   "id": "2935a7b2",
   "metadata": {},
   "outputs": [
    {
     "data": {
      "image/png": "[encoded data removed]",
      "text/plain": [
       "<Figure size 1000x600 with 1 Axes>"
      ]
     },
     "metadata": {},
     "output_type": "display_data"
    }
   ],
   "source": [
    "plt.figure(figsize=(10, 6))\n",
    "plt.hist(filtered_df['step_count'], bins=30, edgecolor='black')\n",
    "plt.title('Distribution of Label Values')\n",
    "plt.xlabel('Label')\n",
    "plt.ylabel('Frequency')\n",
    "plt.grid(True)\n",
    "plt.show()"
   ]
  },
  {
   "cell_type": "code",
   "execution_count": 81,
   "id": "1a1d470d",
   "metadata": {},
   "outputs": [],
   "source": [
    "# Calculate personal means for each pcode\n",
    "personal_means = filtered_df.groupby('pcode')['step_count'].mean().reset_index()\n",
    "personal_means.columns = ['pcode', 'personal_mean']"
   ]
  },
  {
   "cell_type": "code",
   "execution_count": 82,
   "id": "f9e695ef",
   "metadata": {},
   "outputs": [],
   "source": [
    "merged_df = pd.merge(filtered_df, personal_means, on='pcode')"
   ]
  },
  {
   "cell_type": "code",
   "execution_count": 83,
   "id": "48d21563",
   "metadata": {},
   "outputs": [
    {
     "data": {
      "text/html": [
       "<div>\n",
       "<style scoped>\n",
       "    .dataframe tbody tr th:only-of-type {\n",
       "        vertical-align: middle;\n",
       "    }\n",
       "\n",
       "    .dataframe tbody tr th {\n",
       "        vertical-align: top;\n",
       "    }\n",
       "\n",
       "    .dataframe thead th {\n",
       "        text-align: right;\n",
       "    }\n",
       "</style>\n",
       "<table border=\"1\" class=\"dataframe\">\n",
       "  <thead>\n",
       "    <tr style=\"text-align: right;\">\n",
       "      <th></th>\n",
       "      <th>pcode</th>\n",
       "      <th>timestamp</th>\n",
       "      <th>step_count</th>\n",
       "      <th>personal_mean</th>\n",
       "    </tr>\n",
       "  </thead>\n",
       "  <tbody>\n",
       "    <tr>\n",
       "      <th>0</th>\n",
       "      <td>P001</td>\n",
       "      <td>2021-11-24 02:00:00</td>\n",
       "      <td>726</td>\n",
       "      <td>165.835034</td>\n",
       "    </tr>\n",
       "    <tr>\n",
       "      <th>1</th>\n",
       "      <td>P001</td>\n",
       "      <td>2021-11-24 03:00:00</td>\n",
       "      <td>437</td>\n",
       "      <td>165.835034</td>\n",
       "    </tr>\n",
       "    <tr>\n",
       "      <th>2</th>\n",
       "      <td>P001</td>\n",
       "      <td>2021-11-24 04:00:00</td>\n",
       "      <td>627</td>\n",
       "      <td>165.835034</td>\n",
       "    </tr>\n",
       "    <tr>\n",
       "      <th>3</th>\n",
       "      <td>P001</td>\n",
       "      <td>2021-11-24 05:00:00</td>\n",
       "      <td>291</td>\n",
       "      <td>165.835034</td>\n",
       "    </tr>\n",
       "    <tr>\n",
       "      <th>4</th>\n",
       "      <td>P001</td>\n",
       "      <td>2021-11-24 06:00:00</td>\n",
       "      <td>269</td>\n",
       "      <td>165.835034</td>\n",
       "    </tr>\n",
       "    <tr>\n",
       "      <th>...</th>\n",
       "      <td>...</td>\n",
       "      <td>...</td>\n",
       "      <td>...</td>\n",
       "      <td>...</td>\n",
       "    </tr>\n",
       "    <tr>\n",
       "      <th>68702</th>\n",
       "      <td>P135</td>\n",
       "      <td>2022-01-05 02:00:00</td>\n",
       "      <td>0</td>\n",
       "      <td>58.968051</td>\n",
       "    </tr>\n",
       "    <tr>\n",
       "      <th>68703</th>\n",
       "      <td>P135</td>\n",
       "      <td>2022-01-05 03:00:00</td>\n",
       "      <td>148</td>\n",
       "      <td>58.968051</td>\n",
       "    </tr>\n",
       "    <tr>\n",
       "      <th>68704</th>\n",
       "      <td>P135</td>\n",
       "      <td>2022-01-05 05:00:00</td>\n",
       "      <td>30</td>\n",
       "      <td>58.968051</td>\n",
       "    </tr>\n",
       "    <tr>\n",
       "      <th>68705</th>\n",
       "      <td>P135</td>\n",
       "      <td>2022-01-05 06:00:00</td>\n",
       "      <td>7</td>\n",
       "      <td>58.968051</td>\n",
       "    </tr>\n",
       "    <tr>\n",
       "      <th>68706</th>\n",
       "      <td>P135</td>\n",
       "      <td>2022-01-05 07:00:00</td>\n",
       "      <td>21</td>\n",
       "      <td>58.968051</td>\n",
       "    </tr>\n",
       "  </tbody>\n",
       "</table>\n",
       "<p>68707 rows × 4 columns</p>\n",
       "</div>"
      ],
      "text/plain": [
       "      pcode            timestamp  step_count  personal_mean\n",
       "0      P001  2021-11-24 02:00:00         726     165.835034\n",
       "1      P001  2021-11-24 03:00:00         437     165.835034\n",
       "2      P001  2021-11-24 04:00:00         627     165.835034\n",
       "3      P001  2021-11-24 05:00:00         291     165.835034\n",
       "4      P001  2021-11-24 06:00:00         269     165.835034\n",
       "...     ...                  ...         ...            ...\n",
       "68702  P135  2022-01-05 02:00:00           0      58.968051\n",
       "68703  P135  2022-01-05 03:00:00         148      58.968051\n",
       "68704  P135  2022-01-05 05:00:00          30      58.968051\n",
       "68705  P135  2022-01-05 06:00:00           7      58.968051\n",
       "68706  P135  2022-01-05 07:00:00          21      58.968051\n",
       "\n",
       "[68707 rows x 4 columns]"
      ]
     },
     "execution_count": 83,
     "metadata": {},
     "output_type": "execute_result"
    }
   ],
   "source": [
    "merged_df"
   ]
  },
  {
   "cell_type": "code",
   "execution_count": 84,
   "id": "1fd0a2bc",
   "metadata": {},
   "outputs": [],
   "source": [
    "merged_df['binarized_label'] = (merged_df['step_count'] > merged_df['personal_mean']).astype(int)"
   ]
  },
  {
   "cell_type": "code",
   "execution_count": 85,
   "id": "53942aad",
   "metadata": {},
   "outputs": [
    {
     "data": {
      "text/html": [
       "<div>\n",
       "<style scoped>\n",
       "    .dataframe tbody tr th:only-of-type {\n",
       "        vertical-align: middle;\n",
       "    }\n",
       "\n",
       "    .dataframe tbody tr th {\n",
       "        vertical-align: top;\n",
       "    }\n",
       "\n",
       "    .dataframe thead th {\n",
       "        text-align: right;\n",
       "    }\n",
       "</style>\n",
       "<table border=\"1\" class=\"dataframe\">\n",
       "  <thead>\n",
       "    <tr style=\"text-align: right;\">\n",
       "      <th></th>\n",
       "      <th>pcode</th>\n",
       "      <th>timestamp</th>\n",
       "      <th>step_count</th>\n",
       "      <th>personal_mean</th>\n",
       "      <th>binarized_label</th>\n",
       "    </tr>\n",
       "  </thead>\n",
       "  <tbody>\n",
       "    <tr>\n",
       "      <th>0</th>\n",
       "      <td>P001</td>\n",
       "      <td>2021-11-24 02:00:00</td>\n",
       "      <td>726</td>\n",
       "      <td>165.835034</td>\n",
       "      <td>1</td>\n",
       "    </tr>\n",
       "    <tr>\n",
       "      <th>1</th>\n",
       "      <td>P001</td>\n",
       "      <td>2021-11-24 03:00:00</td>\n",
       "      <td>437</td>\n",
       "      <td>165.835034</td>\n",
       "      <td>1</td>\n",
       "    </tr>\n",
       "    <tr>\n",
       "      <th>2</th>\n",
       "      <td>P001</td>\n",
       "      <td>2021-11-24 04:00:00</td>\n",
       "      <td>627</td>\n",
       "      <td>165.835034</td>\n",
       "      <td>1</td>\n",
       "    </tr>\n",
       "    <tr>\n",
       "      <th>3</th>\n",
       "      <td>P001</td>\n",
       "      <td>2021-11-24 05:00:00</td>\n",
       "      <td>291</td>\n",
       "      <td>165.835034</td>\n",
       "      <td>1</td>\n",
       "    </tr>\n",
       "    <tr>\n",
       "      <th>4</th>\n",
       "      <td>P001</td>\n",
       "      <td>2021-11-24 06:00:00</td>\n",
       "      <td>269</td>\n",
       "      <td>165.835034</td>\n",
       "      <td>1</td>\n",
       "    </tr>\n",
       "    <tr>\n",
       "      <th>...</th>\n",
       "      <td>...</td>\n",
       "      <td>...</td>\n",
       "      <td>...</td>\n",
       "      <td>...</td>\n",
       "      <td>...</td>\n",
       "    </tr>\n",
       "    <tr>\n",
       "      <th>68702</th>\n",
       "      <td>P135</td>\n",
       "      <td>2022-01-05 02:00:00</td>\n",
       "      <td>0</td>\n",
       "      <td>58.968051</td>\n",
       "      <td>0</td>\n",
       "    </tr>\n",
       "    <tr>\n",
       "      <th>68703</th>\n",
       "      <td>P135</td>\n",
       "      <td>2022-01-05 03:00:00</td>\n",
       "      <td>148</td>\n",
       "      <td>58.968051</td>\n",
       "      <td>1</td>\n",
       "    </tr>\n",
       "    <tr>\n",
       "      <th>68704</th>\n",
       "      <td>P135</td>\n",
       "      <td>2022-01-05 05:00:00</td>\n",
       "      <td>30</td>\n",
       "      <td>58.968051</td>\n",
       "      <td>0</td>\n",
       "    </tr>\n",
       "    <tr>\n",
       "      <th>68705</th>\n",
       "      <td>P135</td>\n",
       "      <td>2022-01-05 06:00:00</td>\n",
       "      <td>7</td>\n",
       "      <td>58.968051</td>\n",
       "      <td>0</td>\n",
       "    </tr>\n",
       "    <tr>\n",
       "      <th>68706</th>\n",
       "      <td>P135</td>\n",
       "      <td>2022-01-05 07:00:00</td>\n",
       "      <td>21</td>\n",
       "      <td>58.968051</td>\n",
       "      <td>0</td>\n",
       "    </tr>\n",
       "  </tbody>\n",
       "</table>\n",
       "<p>68707 rows × 5 columns</p>\n",
       "</div>"
      ],
      "text/plain": [
       "      pcode            timestamp  step_count  personal_mean  binarized_label\n",
       "0      P001  2021-11-24 02:00:00         726     165.835034                1\n",
       "1      P001  2021-11-24 03:00:00         437     165.835034                1\n",
       "2      P001  2021-11-24 04:00:00         627     165.835034                1\n",
       "3      P001  2021-11-24 05:00:00         291     165.835034                1\n",
       "4      P001  2021-11-24 06:00:00         269     165.835034                1\n",
       "...     ...                  ...         ...            ...              ...\n",
       "68702  P135  2022-01-05 02:00:00           0      58.968051                0\n",
       "68703  P135  2022-01-05 03:00:00         148      58.968051                1\n",
       "68704  P135  2022-01-05 05:00:00          30      58.968051                0\n",
       "68705  P135  2022-01-05 06:00:00           7      58.968051                0\n",
       "68706  P135  2022-01-05 07:00:00          21      58.968051                0\n",
       "\n",
       "[68707 rows x 5 columns]"
      ]
     },
     "execution_count": 85,
     "metadata": {},
     "output_type": "execute_result"
    }
   ],
   "source": [
    "merged_df"
   ]
  },
  {
   "cell_type": "code",
   "execution_count": 86,
   "id": "7735eba4",
   "metadata": {},
   "outputs": [
    {
     "name": "stdout",
     "output_type": "stream",
     "text": [
      "49162\n"
     ]
    }
   ],
   "source": [
    "zero_count = (merged_df['binarized_label'] == 0).sum()\n",
    "print(zero_count)"
   ]
  },
  {
   "cell_type": "code",
   "execution_count": 87,
   "id": "a3aac69b",
   "metadata": {},
   "outputs": [
    {
     "data": {
      "image/png": "[encoded data removed]",
      "text/plain": [
       "<Figure size 1000x600 with 1 Axes>"
      ]
     },
     "metadata": {},
     "output_type": "display_data"
    }
   ],
   "source": [
    "plt.figure(figsize=(10, 6))\n",
    "plt.hist(merged_df['binarized_label'], bins=2, edgecolor='black')\n",
    "plt.title('Distribution of Binarized Label Values')\n",
    "plt.xlabel('Binarized Label')\n",
    "plt.ylabel('Frequency')\n",
    "plt.xticks([0, 1], ['Below Mean', 'Above Mean'])\n",
    "plt.grid(True)\n",
    "plt.show()"
   ]
  },
  {
   "cell_type": "code",
   "execution_count": null,
   "id": "28805388",
   "metadata": {},
   "outputs": [],
   "source": []
  },
  {
   "cell_type": "code",
   "execution_count": null,
   "id": "7386d88e",
   "metadata": {},
   "outputs": [],
   "source": []
  }
 ],
 "metadata": {
  "kernelspec": {
   "display_name": "Python 3 (ipykernel)",
   "language": "python",
   "name": "python3"
  },
  "language_info": {
   "codemirror_mode": {
    "name": "ipython",
    "version": 3
   },
   "file_extension": ".py",
   "mimetype": "text/x-python",
   "name": "python",
   "nbconvert_exporter": "python",
   "pygments_lexer": "ipython3",
   "version": "3.9.15"
  }
 },
 "nbformat": 4,
 "nbformat_minor": 5
}
