{
 "cells": [
  {
   "cell_type": "code",
   "execution_count": 1,
   "id": "353b27c4",
   "metadata": {},
   "outputs": [],
   "source": [
    "from Funcs.Utility import *"
   ]
  },
  {
   "cell_type": "code",
   "execution_count": 2,
   "id": "aa712150",
   "metadata": {},
   "outputs": [],
   "source": [
    "LABELS_PROC = pd.read_csv(os.path.join(PATH_INTERMEDIATE, 'labels_1h_esmsyn.csv'), index_col=['pcode','timestamp'],parse_dates=True)\n",
    "PARTICIPANTS = pd.read_csv(os.path.join(PATH_INTERMEDIATE, 'UserInfo.csv'),index_col = 'pcode')"
   ]
  },
  {
   "cell_type": "code",
   "execution_count": 3,
   "id": "533a9f5d",
   "metadata": {},
   "outputs": [],
   "source": [
    "p = os.path.join(PATH_INTERMEDIATE, 'stress_binary_personal-15min.pkl')\n",
    "X, y, groups, t, datetimes = load(p)"
   ]
  },
  {
   "cell_type": "code",
   "execution_count": 4,
   "id": "1cece382",
   "metadata": {},
   "outputs": [
    {
     "data": {
      "text/html": [
       "<div>\n",
       "<style scoped>\n",
       "    .dataframe tbody tr th:only-of-type {\n",
       "        vertical-align: middle;\n",
       "    }\n",
       "\n",
       "    .dataframe tbody tr th {\n",
       "        vertical-align: top;\n",
       "    }\n",
       "\n",
       "    .dataframe thead th {\n",
       "        text-align: right;\n",
       "    }\n",
       "</style>\n",
       "<table border=\"1\" class=\"dataframe\">\n",
       "  <thead>\n",
       "    <tr style=\"text-align: right;\">\n",
       "      <th></th>\n",
       "      <th>PIF#participationStartTimestamp</th>\n",
       "      <th>PIF#age</th>\n",
       "      <th>PIF#openness</th>\n",
       "      <th>PIF#conscientiousness</th>\n",
       "      <th>PIF#neuroticism</th>\n",
       "      <th>PIF#extraversion</th>\n",
       "      <th>PIF#agreeableness</th>\n",
       "      <th>PIF#GHQ12</th>\n",
       "      <th>PIF#PSS10</th>\n",
       "      <th>PIF#CESD-R</th>\n",
       "      <th>...</th>\n",
       "      <th>PWR#RLV_SUP_TodayAfternoon</th>\n",
       "      <th>PWR#ETP#_TodayLateAfternoon</th>\n",
       "      <th>PWR#ASC#_TodayLateAfternoon</th>\n",
       "      <th>PWR#RLV_SUP_TodayLateAfternoon</th>\n",
       "      <th>PWR#ETP#_TodayEvening</th>\n",
       "      <th>PWR#ASC#_TodayEvening</th>\n",
       "      <th>PWR#RLV_SUP_TodayEvening</th>\n",
       "      <th>PWR#ETP#_TodayNight</th>\n",
       "      <th>PWR#ASC#_TodayNight</th>\n",
       "      <th>PWR#RLV_SUP_TodayNight</th>\n",
       "    </tr>\n",
       "  </thead>\n",
       "  <tbody>\n",
       "    <tr>\n",
       "      <th>0</th>\n",
       "      <td>1.637712e+12</td>\n",
       "      <td>23.0</td>\n",
       "      <td>11.0</td>\n",
       "      <td>12.0</td>\n",
       "      <td>3.0</td>\n",
       "      <td>10.0</td>\n",
       "      <td>9.0</td>\n",
       "      <td>9.0</td>\n",
       "      <td>11.0</td>\n",
       "      <td>0.0</td>\n",
       "      <td>...</td>\n",
       "      <td>0.0</td>\n",
       "      <td>0.0</td>\n",
       "      <td>0.0</td>\n",
       "      <td>0.0</td>\n",
       "      <td>0.0</td>\n",
       "      <td>0.0</td>\n",
       "      <td>0.0</td>\n",
       "      <td>0.0</td>\n",
       "      <td>0.0</td>\n",
       "      <td>0.0</td>\n",
       "    </tr>\n",
       "    <tr>\n",
       "      <th>1</th>\n",
       "      <td>1.637712e+12</td>\n",
       "      <td>23.0</td>\n",
       "      <td>11.0</td>\n",
       "      <td>12.0</td>\n",
       "      <td>3.0</td>\n",
       "      <td>10.0</td>\n",
       "      <td>9.0</td>\n",
       "      <td>9.0</td>\n",
       "      <td>11.0</td>\n",
       "      <td>0.0</td>\n",
       "      <td>...</td>\n",
       "      <td>0.0</td>\n",
       "      <td>0.0</td>\n",
       "      <td>0.0</td>\n",
       "      <td>0.0</td>\n",
       "      <td>0.0</td>\n",
       "      <td>0.0</td>\n",
       "      <td>0.0</td>\n",
       "      <td>0.0</td>\n",
       "      <td>0.0</td>\n",
       "      <td>0.0</td>\n",
       "    </tr>\n",
       "    <tr>\n",
       "      <th>2</th>\n",
       "      <td>1.637712e+12</td>\n",
       "      <td>23.0</td>\n",
       "      <td>11.0</td>\n",
       "      <td>12.0</td>\n",
       "      <td>3.0</td>\n",
       "      <td>10.0</td>\n",
       "      <td>9.0</td>\n",
       "      <td>9.0</td>\n",
       "      <td>11.0</td>\n",
       "      <td>0.0</td>\n",
       "      <td>...</td>\n",
       "      <td>0.0</td>\n",
       "      <td>0.0</td>\n",
       "      <td>0.0</td>\n",
       "      <td>0.0</td>\n",
       "      <td>0.0</td>\n",
       "      <td>0.0</td>\n",
       "      <td>0.0</td>\n",
       "      <td>0.0</td>\n",
       "      <td>0.0</td>\n",
       "      <td>0.0</td>\n",
       "    </tr>\n",
       "    <tr>\n",
       "      <th>3</th>\n",
       "      <td>1.637712e+12</td>\n",
       "      <td>23.0</td>\n",
       "      <td>11.0</td>\n",
       "      <td>12.0</td>\n",
       "      <td>3.0</td>\n",
       "      <td>10.0</td>\n",
       "      <td>9.0</td>\n",
       "      <td>9.0</td>\n",
       "      <td>11.0</td>\n",
       "      <td>0.0</td>\n",
       "      <td>...</td>\n",
       "      <td>0.0</td>\n",
       "      <td>0.0</td>\n",
       "      <td>0.0</td>\n",
       "      <td>0.0</td>\n",
       "      <td>0.0</td>\n",
       "      <td>0.0</td>\n",
       "      <td>0.0</td>\n",
       "      <td>0.0</td>\n",
       "      <td>0.0</td>\n",
       "      <td>0.0</td>\n",
       "    </tr>\n",
       "    <tr>\n",
       "      <th>4</th>\n",
       "      <td>1.637712e+12</td>\n",
       "      <td>23.0</td>\n",
       "      <td>11.0</td>\n",
       "      <td>12.0</td>\n",
       "      <td>3.0</td>\n",
       "      <td>10.0</td>\n",
       "      <td>9.0</td>\n",
       "      <td>9.0</td>\n",
       "      <td>11.0</td>\n",
       "      <td>0.0</td>\n",
       "      <td>...</td>\n",
       "      <td>0.0</td>\n",
       "      <td>0.0</td>\n",
       "      <td>0.0</td>\n",
       "      <td>0.0</td>\n",
       "      <td>0.0</td>\n",
       "      <td>0.0</td>\n",
       "      <td>0.0</td>\n",
       "      <td>0.0</td>\n",
       "      <td>0.0</td>\n",
       "      <td>0.0</td>\n",
       "    </tr>\n",
       "    <tr>\n",
       "      <th>...</th>\n",
       "      <td>...</td>\n",
       "      <td>...</td>\n",
       "      <td>...</td>\n",
       "      <td>...</td>\n",
       "      <td>...</td>\n",
       "      <td>...</td>\n",
       "      <td>...</td>\n",
       "      <td>...</td>\n",
       "      <td>...</td>\n",
       "      <td>...</td>\n",
       "      <td>...</td>\n",
       "      <td>...</td>\n",
       "      <td>...</td>\n",
       "      <td>...</td>\n",
       "      <td>...</td>\n",
       "      <td>...</td>\n",
       "      <td>...</td>\n",
       "      <td>...</td>\n",
       "      <td>...</td>\n",
       "      <td>...</td>\n",
       "      <td>...</td>\n",
       "    </tr>\n",
       "    <tr>\n",
       "      <th>21614</th>\n",
       "      <td>1.638922e+12</td>\n",
       "      <td>20.0</td>\n",
       "      <td>10.0</td>\n",
       "      <td>8.0</td>\n",
       "      <td>4.0</td>\n",
       "      <td>7.0</td>\n",
       "      <td>14.0</td>\n",
       "      <td>7.0</td>\n",
       "      <td>12.0</td>\n",
       "      <td>4.0</td>\n",
       "      <td>...</td>\n",
       "      <td>0.0</td>\n",
       "      <td>0.0</td>\n",
       "      <td>0.0</td>\n",
       "      <td>0.0</td>\n",
       "      <td>0.0</td>\n",
       "      <td>0.0</td>\n",
       "      <td>0.0</td>\n",
       "      <td>0.0</td>\n",
       "      <td>0.0</td>\n",
       "      <td>0.0</td>\n",
       "    </tr>\n",
       "    <tr>\n",
       "      <th>21615</th>\n",
       "      <td>1.638922e+12</td>\n",
       "      <td>20.0</td>\n",
       "      <td>10.0</td>\n",
       "      <td>8.0</td>\n",
       "      <td>4.0</td>\n",
       "      <td>7.0</td>\n",
       "      <td>14.0</td>\n",
       "      <td>7.0</td>\n",
       "      <td>12.0</td>\n",
       "      <td>4.0</td>\n",
       "      <td>...</td>\n",
       "      <td>0.0</td>\n",
       "      <td>0.0</td>\n",
       "      <td>0.0</td>\n",
       "      <td>0.0</td>\n",
       "      <td>0.0</td>\n",
       "      <td>0.0</td>\n",
       "      <td>0.0</td>\n",
       "      <td>0.0</td>\n",
       "      <td>0.0</td>\n",
       "      <td>0.0</td>\n",
       "    </tr>\n",
       "    <tr>\n",
       "      <th>21616</th>\n",
       "      <td>1.638922e+12</td>\n",
       "      <td>20.0</td>\n",
       "      <td>10.0</td>\n",
       "      <td>8.0</td>\n",
       "      <td>4.0</td>\n",
       "      <td>7.0</td>\n",
       "      <td>14.0</td>\n",
       "      <td>7.0</td>\n",
       "      <td>12.0</td>\n",
       "      <td>4.0</td>\n",
       "      <td>...</td>\n",
       "      <td>0.0</td>\n",
       "      <td>0.0</td>\n",
       "      <td>0.0</td>\n",
       "      <td>0.0</td>\n",
       "      <td>0.0</td>\n",
       "      <td>0.0</td>\n",
       "      <td>0.0</td>\n",
       "      <td>0.0</td>\n",
       "      <td>0.0</td>\n",
       "      <td>0.0</td>\n",
       "    </tr>\n",
       "    <tr>\n",
       "      <th>21617</th>\n",
       "      <td>1.638922e+12</td>\n",
       "      <td>20.0</td>\n",
       "      <td>10.0</td>\n",
       "      <td>8.0</td>\n",
       "      <td>4.0</td>\n",
       "      <td>7.0</td>\n",
       "      <td>14.0</td>\n",
       "      <td>7.0</td>\n",
       "      <td>12.0</td>\n",
       "      <td>4.0</td>\n",
       "      <td>...</td>\n",
       "      <td>0.0</td>\n",
       "      <td>0.0</td>\n",
       "      <td>0.0</td>\n",
       "      <td>0.0</td>\n",
       "      <td>0.0</td>\n",
       "      <td>0.0</td>\n",
       "      <td>0.0</td>\n",
       "      <td>0.0</td>\n",
       "      <td>0.0</td>\n",
       "      <td>0.0</td>\n",
       "    </tr>\n",
       "    <tr>\n",
       "      <th>21618</th>\n",
       "      <td>1.638922e+12</td>\n",
       "      <td>20.0</td>\n",
       "      <td>10.0</td>\n",
       "      <td>8.0</td>\n",
       "      <td>4.0</td>\n",
       "      <td>7.0</td>\n",
       "      <td>14.0</td>\n",
       "      <td>7.0</td>\n",
       "      <td>12.0</td>\n",
       "      <td>4.0</td>\n",
       "      <td>...</td>\n",
       "      <td>0.0</td>\n",
       "      <td>0.0</td>\n",
       "      <td>0.0</td>\n",
       "      <td>0.0</td>\n",
       "      <td>0.0</td>\n",
       "      <td>0.0</td>\n",
       "      <td>0.0</td>\n",
       "      <td>0.0</td>\n",
       "      <td>0.0</td>\n",
       "      <td>0.0</td>\n",
       "    </tr>\n",
       "  </tbody>\n",
       "</table>\n",
       "<p>21619 rows × 2378 columns</p>\n",
       "</div>"
      ],
      "text/plain": [
       "       PIF#participationStartTimestamp  PIF#age  PIF#openness  \\\n",
       "0                         1.637712e+12     23.0          11.0   \n",
       "1                         1.637712e+12     23.0          11.0   \n",
       "2                         1.637712e+12     23.0          11.0   \n",
       "3                         1.637712e+12     23.0          11.0   \n",
       "4                         1.637712e+12     23.0          11.0   \n",
       "...                                ...      ...           ...   \n",
       "21614                     1.638922e+12     20.0          10.0   \n",
       "21615                     1.638922e+12     20.0          10.0   \n",
       "21616                     1.638922e+12     20.0          10.0   \n",
       "21617                     1.638922e+12     20.0          10.0   \n",
       "21618                     1.638922e+12     20.0          10.0   \n",
       "\n",
       "       PIF#conscientiousness  PIF#neuroticism  PIF#extraversion  \\\n",
       "0                       12.0              3.0              10.0   \n",
       "1                       12.0              3.0              10.0   \n",
       "2                       12.0              3.0              10.0   \n",
       "3                       12.0              3.0              10.0   \n",
       "4                       12.0              3.0              10.0   \n",
       "...                      ...              ...               ...   \n",
       "21614                    8.0              4.0               7.0   \n",
       "21615                    8.0              4.0               7.0   \n",
       "21616                    8.0              4.0               7.0   \n",
       "21617                    8.0              4.0               7.0   \n",
       "21618                    8.0              4.0               7.0   \n",
       "\n",
       "       PIF#agreeableness  PIF#GHQ12  PIF#PSS10  PIF#CESD-R  ...  \\\n",
       "0                    9.0        9.0       11.0         0.0  ...   \n",
       "1                    9.0        9.0       11.0         0.0  ...   \n",
       "2                    9.0        9.0       11.0         0.0  ...   \n",
       "3                    9.0        9.0       11.0         0.0  ...   \n",
       "4                    9.0        9.0       11.0         0.0  ...   \n",
       "...                  ...        ...        ...         ...  ...   \n",
       "21614               14.0        7.0       12.0         4.0  ...   \n",
       "21615               14.0        7.0       12.0         4.0  ...   \n",
       "21616               14.0        7.0       12.0         4.0  ...   \n",
       "21617               14.0        7.0       12.0         4.0  ...   \n",
       "21618               14.0        7.0       12.0         4.0  ...   \n",
       "\n",
       "       PWR#RLV_SUP_TodayAfternoon  PWR#ETP#_TodayLateAfternoon  \\\n",
       "0                             0.0                          0.0   \n",
       "1                             0.0                          0.0   \n",
       "2                             0.0                          0.0   \n",
       "3                             0.0                          0.0   \n",
       "4                             0.0                          0.0   \n",
       "...                           ...                          ...   \n",
       "21614                         0.0                          0.0   \n",
       "21615                         0.0                          0.0   \n",
       "21616                         0.0                          0.0   \n",
       "21617                         0.0                          0.0   \n",
       "21618                         0.0                          0.0   \n",
       "\n",
       "       PWR#ASC#_TodayLateAfternoon  PWR#RLV_SUP_TodayLateAfternoon  \\\n",
       "0                              0.0                             0.0   \n",
       "1                              0.0                             0.0   \n",
       "2                              0.0                             0.0   \n",
       "3                              0.0                             0.0   \n",
       "4                              0.0                             0.0   \n",
       "...                            ...                             ...   \n",
       "21614                          0.0                             0.0   \n",
       "21615                          0.0                             0.0   \n",
       "21616                          0.0                             0.0   \n",
       "21617                          0.0                             0.0   \n",
       "21618                          0.0                             0.0   \n",
       "\n",
       "       PWR#ETP#_TodayEvening  PWR#ASC#_TodayEvening  PWR#RLV_SUP_TodayEvening  \\\n",
       "0                        0.0                    0.0                       0.0   \n",
       "1                        0.0                    0.0                       0.0   \n",
       "2                        0.0                    0.0                       0.0   \n",
       "3                        0.0                    0.0                       0.0   \n",
       "4                        0.0                    0.0                       0.0   \n",
       "...                      ...                    ...                       ...   \n",
       "21614                    0.0                    0.0                       0.0   \n",
       "21615                    0.0                    0.0                       0.0   \n",
       "21616                    0.0                    0.0                       0.0   \n",
       "21617                    0.0                    0.0                       0.0   \n",
       "21618                    0.0                    0.0                       0.0   \n",
       "\n",
       "       PWR#ETP#_TodayNight  PWR#ASC#_TodayNight  PWR#RLV_SUP_TodayNight  \n",
       "0                      0.0                  0.0                     0.0  \n",
       "1                      0.0                  0.0                     0.0  \n",
       "2                      0.0                  0.0                     0.0  \n",
       "3                      0.0                  0.0                     0.0  \n",
       "4                      0.0                  0.0                     0.0  \n",
       "...                    ...                  ...                     ...  \n",
       "21614                  0.0                  0.0                     0.0  \n",
       "21615                  0.0                  0.0                     0.0  \n",
       "21616                  0.0                  0.0                     0.0  \n",
       "21617                  0.0                  0.0                     0.0  \n",
       "21618                  0.0                  0.0                     0.0  \n",
       "\n",
       "[21619 rows x 2378 columns]"
      ]
     },
     "execution_count": 4,
     "metadata": {},
     "output_type": "execute_result"
    }
   ],
   "source": [
    "X"
   ]
  },
  {
   "cell_type": "code",
   "execution_count": 5,
   "id": "d2bc7f6e",
   "metadata": {},
   "outputs": [],
   "source": [
    "#Divide the features into different categories\n",
    "feat_current = X.loc[:,[('#VAL' in str(x)) or ('ESM#LastLabel' in str(x)) for x in X.keys()]]  \n",
    "feat_dsc = X.loc[:,[('#DSC' in str(x))  for x in X.keys()]]  \n",
    "feat_yesterday = X.loc[:,[('Yesterday' in str(x))  for x in X.keys()]]  \n",
    "feat_today = X.loc[:,[('Today' in str(x))  for x in X.keys()]]  \n",
    "feat_sleep = X.loc[:,[('Sleep' in str(x))  for x in X.keys()]]  \n",
    "feat_time = X.loc[:,[('Time' in str(x))  for x in X.keys()]]  \n",
    "feat_pif = X.loc[:,[('PIF' in str(x))  for x in X.keys()]]  \n",
    "feat_ImmediatePast = X.loc[:,[('ImmediatePast_15' in str(x))  for x in X.keys()]]\n",
    "#Divide the time window features into sensor/past stress label\n",
    "feat_current_sensor = X.loc[:,[('#VAL' in str(x))  for x in X.keys()]]  \n",
    "feat_current_ESM = X.loc[:,[('ESM#LastLabel' in str(x)) for x in X.keys()]]  \n",
    "feat_ImmediatePast_sensor = feat_ImmediatePast.loc[:,[('ESM' not in str(x)) for x in feat_ImmediatePast.keys()]]  \n",
    "feat_ImmediatePast_ESM = feat_ImmediatePast.loc[:,[('ESM'  in str(x)) for x in feat_ImmediatePast.keys()]]  \n",
    "feat_today_sensor = feat_today.loc[:,[('ESM' not in str(x))  for x in feat_today.keys()]]  \n",
    "feat_today_ESM = feat_today.loc[:,[('ESM'  in str(x)) for x in feat_today.keys()]]  \n",
    "feat_yesterday_sensor = feat_yesterday.loc[:,[('ESM' not in str(x)) for x in feat_yesterday.keys()]]  \n",
    "feat_yesterday_ESM = feat_yesterday.loc[:,[('ESM'  in str(x)) for x in feat_yesterday.keys()]]"
   ]
  },
  {
   "cell_type": "code",
   "execution_count": 6,
   "id": "51e0eca4",
   "metadata": {},
   "outputs": [],
   "source": [
    "feat_baseline = pd.concat([ feat_time,feat_dsc,feat_current_sensor, feat_ImmediatePast_sensor],axis=1)\n",
    "feat_final = pd.concat([feat_baseline  ], axis=1)\n",
    "# # Fill NaN values with zeros\n",
    "feat_final = feat_final.fillna(0)\n",
    "X = feat_final\n",
    "cats = X.columns[X.dtypes == bool]"
   ]
  },
  {
   "cell_type": "code",
   "execution_count": 17,
   "id": "8a0e00e5",
   "metadata": {},
   "outputs": [
    {
     "name": "stdout",
     "output_type": "stream",
     "text": [
      "['PIF#participationStartTimestamp', 'Time#DOW=MON', 'Time#DOW=TUE', 'Time#DOW=WED', 'Time#DOW=THU', 'Time#DOW=FRI', 'Time#DOW=SAT', 'Time#DOW=SUN', 'Time#WKD=Y', 'Time#WKD=N', 'Time#HRN=DAWN', 'Time#HRN=MORNING', 'Time#HRN=AFTERNOON', 'Time#HRN=LATE_AFTERNOON', 'Time#HRN=EVENING', 'Time#HRN=NIGHT', 'Time#HRN=MIDNIGHT', 'APP_CAT#DSC', 'APP_CAT#DSC=UNKNOWNSYSTEMENTERSOCIALHEALTHWORKINFO', 'BAT_STA#DSC', 'BAT_STA#DSC=DISCHARGINGCHARGINGFULLNOT_CHARGING', 'BAT_PLG#DSC', 'BAT_PLG#DSC=UNDEFINEDACUSBWIRELESS', 'CALL_CNT#DSC', 'CALL_CNT#DSC=UNKNOWNMOBILEOTHERWORKHOMEUNDEFINEDMAIN', 'LOC_LABEL#DSC', 'LOC_LABEL#DSC=noneworkhome', 'SCR_EVENT#DSC', 'SCR_EVENT#DSC=SCREEN_OFFSCREEN_ONUSER_PRESENT', 'RING#DSC', 'RING#DSC=VIBRATESILENTNORMAL', 'CHG#DSC', 'CHG#DSC=DISCONNECTED', 'CHG#DSC=CONNECTED', 'BT_BondState#DSC', 'BT_BondState#DSC=NONEBONDEDBONDING', 'BT_DeviceType#DSC', 'BT_DeviceType#DSC=LECLASSICUNDEFINEDDUAL', 'BT_classType#DSC', 'BT_classType#DSC=UNDEFINEDPHONE_SMARTWEARABLE_WRIST_WATCHCOMPUTER_LAPTOPAUDIO_VIDEO_SET_TOP_BOXAUDIO_VIDEO_HANDSFREEAUDIO_VIDEO_VIDEO_DISPLAY_AND_LOUDSPEAKERAUDIO_VIDEO_WEARABLE_HEADSETPHONE_CELLULARCOMPUTER_DESKTOPCOMPUTER_HANDHELD_PC_PDAAUDIO_VIDEO_UNCATEGORIZEDAUDIO_VIDEO_LOUDSPEAKERAUDIO_VIDEO_HEADPHONESAUDIO_VIDEO_HIFI_AUDIOAUDIO_VIDEO_CAR_AUDIOHEALTH_PULSE_OXIMETERHEALTH_UNCATEGORIZEDCOMPUTER_UNCATEGORIZEDWEARABLE_JACKETHEALTH_PULSE_RATEAUDIO_VIDEO_PORTABLE_AUDIOPHONE_MODEM_OR_GATEWAYHEALTH_BLOOD_PRESSURECOMPUTER_WEARABLEHEALTH_DATA_DISPLAYTOY_ROBOTCOMPUTER_PALM_SIZE_PC_PDACOMPUTER_SERVER', 'Dozemode#DSC', 'Dozemode#DSC=ACTIVATE', 'Dozemode#DSC=DEACTIVATE', 'Notification_VIS#DSC', 'Notification_VIS#DSC=PRIVATESECRETPUBLIC', 'Notification_CAT#DSC', 'Notification_CAT#DSC=UNDEFINEDSTATUSMESSAGESERVICEPROGRESSSYSTEMREMINDERALARMTRANSPORTEMAILCALLEVENTPROMOERRORRECOMMENDATIONSOCIALNAVIGATION', 'PWR#DSC', 'PWR#DSC=ACTIVATE', 'PWR#DSC=DEACTIVATE', 'CAL#VAL', 'APP_DUR_UNKNOWN#VAL', 'APP_CAT#VAL=UNKNOWNSYSTEMENTERSOCIALHEALTHWORKINFO', 'BAT_LEV#VAL', 'BAT_STA#VAL=DISCHARGINGCHARGINGFULLNOT_CHARGING', 'BAT_TMP#VAL', 'BAT_PLG#VAL=UNDEFINEDACUSBWIRELESS', 'CALL_DUR#VAL', 'CALL_CNT#VAL=UNKNOWNMOBILEOTHERWORKHOMEUNDEFINEDMAIN', 'DATA_RCV#VAL', 'DATA_SNT#VAL', 'DATA_MRCV#VAL', 'DATA_MSNT#VAL', 'INST_JAC#VAL', 'LOC_LABEL#VAL=noneworkhome', 'LOC_DST#VAL', 'MSG_SNT#VAL', 'MSG_RCV#VAL', 'MSG_ALL#VAL', 'SCR_EVENT#VAL=SCREEN_OFFSCREEN_ONUSER_PRESENT', 'SCR_DUR#VAL', 'RING#VAL=VIBRATESILENTNORMAL', 'CHG#VAL=DISCONNECTED', 'CHG#VAL=CONNECTED', 'BT_BondState#VAL=NONEBONDEDBONDING', 'BT_DeviceType#VAL=LECLASSICUNDEFINEDDUAL', 'BT_classType#VAL=UNDEFINEDPHONE_SMARTWEARABLE_WRIST_WATCHCOMPUTER_LAPTOPAUDIO_VIDEO_SET_TOP_BOXAUDIO_VIDEO_HANDSFREEAUDIO_VIDEO_VIDEO_DISPLAY_AND_LOUDSPEAKERAUDIO_VIDEO_WEARABLE_HEADSETPHONE_CELLULARCOMPUTER_DESKTOPCOMPUTER_HANDHELD_PC_PDAAUDIO_VIDEO_UNCATEGORIZEDAUDIO_VIDEO_LOUDSPEAKERAUDIO_VIDEO_HEADPHONESAUDIO_VIDEO_HIFI_AUDIOAUDIO_VIDEO_CAR_AUDIOHEALTH_PULSE_OXIMETERHEALTH_UNCATEGORIZEDCOMPUTER_UNCATEGORIZEDWEARABLE_JACKETHEALTH_PULSE_RATEAUDIO_VIDEO_PORTABLE_AUDIOPHONE_MODEM_OR_GATEWAYHEALTH_BLOOD_PRESSURECOMPUTER_WEARABLEHEALTH_DATA_DISPLAYTOY_ROBOTCOMPUTER_PALM_SIZE_PC_PDACOMPUTER_SERVER', 'Dozemode#VAL=ACTIVATE', 'Dozemode#VAL=DEACTIVATE', 'Heartrate#VAL', 'Notification_VIS#VAL=PRIVATESECRETPUBLIC', 'Notification_CAT#VAL=UNDEFINEDSTATUSMESSAGESERVICEPROGRESSSYSTEMREMINDERALARMTRANSPORTEMAILCALLEVENTPROMOERRORRECOMMENDATIONSOCIALNAVIGATION', 'PWR#VAL=ACTIVATE', 'PWR#VAL=DEACTIVATE', 'CAL#AVG#ImmediatePast_15', 'CAL#STD#ImmediatePast_15', 'CAL#SKW#ImmediatePast_15', 'CAL#KUR#ImmediatePast_15', 'CAL#ASC#ImmediatePast_15', 'CAL#BEP#ImmediatePast_15', 'CAL#MED#ImmediatePast_15', 'CAL#TSC#ImmediatePast_15', 'APP_DUR_UNKNOWN#AVG#ImmediatePast_15', 'APP_DUR_UNKNOWN#STD#ImmediatePast_15', 'APP_DUR_UNKNOWN#SKW#ImmediatePast_15', 'APP_DUR_UNKNOWN#KUR#ImmediatePast_15', 'APP_DUR_UNKNOWN#ASC#ImmediatePast_15', 'APP_DUR_UNKNOWN#BEP#ImmediatePast_15', 'APP_DUR_UNKNOWN#MED#ImmediatePast_15', 'APP_DUR_UNKNOWN#TSC#ImmediatePast_15', 'APP_CAT#ETP##ImmediatePast_15', 'APP_CAT#ASC##ImmediatePast_15', 'APP_CAT#RLV_SUP=UNKNOWNSYSTEMENTERSOCIALHEALTHWORKINFO#ImmediatePast_15', 'BAT_LEV#AVG#ImmediatePast_15', 'BAT_LEV#STD#ImmediatePast_15', 'BAT_LEV#SKW#ImmediatePast_15', 'BAT_LEV#KUR#ImmediatePast_15', 'BAT_LEV#ASC#ImmediatePast_15', 'BAT_LEV#BEP#ImmediatePast_15', 'BAT_LEV#MED#ImmediatePast_15', 'BAT_LEV#TSC#ImmediatePast_15', 'BAT_STA#ETP##ImmediatePast_15', 'BAT_STA#ASC##ImmediatePast_15', 'BAT_STA#RLV_SUP=DISCHARGINGCHARGINGFULLNOT_CHARGING#ImmediatePast_15', 'BAT_TMP#AVG#ImmediatePast_15', 'BAT_TMP#STD#ImmediatePast_15', 'BAT_TMP#SKW#ImmediatePast_15', 'BAT_TMP#KUR#ImmediatePast_15', 'BAT_TMP#ASC#ImmediatePast_15', 'BAT_TMP#BEP#ImmediatePast_15', 'BAT_TMP#MED#ImmediatePast_15', 'BAT_TMP#TSC#ImmediatePast_15', 'BAT_PLG#ETP##ImmediatePast_15', 'BAT_PLG#ASC##ImmediatePast_15', 'BAT_PLG#RLV_SUP=UNDEFINEDACUSBWIRELESS#ImmediatePast_15', 'CALL_DUR#AVG#ImmediatePast_15', 'CALL_DUR#STD#ImmediatePast_15', 'CALL_DUR#SKW#ImmediatePast_15', 'CALL_DUR#KUR#ImmediatePast_15', 'CALL_DUR#ASC#ImmediatePast_15', 'CALL_DUR#BEP#ImmediatePast_15', 'CALL_DUR#MED#ImmediatePast_15', 'CALL_DUR#TSC#ImmediatePast_15', 'CALL_CNT#ETP##ImmediatePast_15', 'CALL_CNT#ASC##ImmediatePast_15', 'CALL_CNT#RLV_SUP=UNKNOWNMOBILEOTHERWORKHOMEUNDEFINEDMAIN#ImmediatePast_15', 'DATA_RCV#AVG#ImmediatePast_15', 'DATA_RCV#STD#ImmediatePast_15', 'DATA_RCV#SKW#ImmediatePast_15', 'DATA_RCV#KUR#ImmediatePast_15', 'DATA_RCV#ASC#ImmediatePast_15', 'DATA_RCV#BEP#ImmediatePast_15', 'DATA_RCV#MED#ImmediatePast_15', 'DATA_RCV#TSC#ImmediatePast_15', 'DATA_SNT#AVG#ImmediatePast_15', 'DATA_SNT#STD#ImmediatePast_15', 'DATA_SNT#SKW#ImmediatePast_15', 'DATA_SNT#KUR#ImmediatePast_15', 'DATA_SNT#ASC#ImmediatePast_15', 'DATA_SNT#BEP#ImmediatePast_15', 'DATA_SNT#MED#ImmediatePast_15', 'DATA_SNT#TSC#ImmediatePast_15', 'DATA_MRCV#AVG#ImmediatePast_15', 'DATA_MRCV#STD#ImmediatePast_15', 'DATA_MRCV#SKW#ImmediatePast_15', 'DATA_MRCV#KUR#ImmediatePast_15', 'DATA_MRCV#ASC#ImmediatePast_15', 'DATA_MRCV#BEP#ImmediatePast_15', 'DATA_MRCV#MED#ImmediatePast_15', 'DATA_MRCV#TSC#ImmediatePast_15', 'DATA_MSNT#AVG#ImmediatePast_15', 'DATA_MSNT#STD#ImmediatePast_15', 'DATA_MSNT#SKW#ImmediatePast_15', 'DATA_MSNT#KUR#ImmediatePast_15', 'DATA_MSNT#ASC#ImmediatePast_15', 'DATA_MSNT#BEP#ImmediatePast_15', 'DATA_MSNT#MED#ImmediatePast_15', 'DATA_MSNT#TSC#ImmediatePast_15', 'INST_JAC#AVG#ImmediatePast_15', 'INST_JAC#STD#ImmediatePast_15', 'INST_JAC#SKW#ImmediatePast_15', 'INST_JAC#KUR#ImmediatePast_15', 'INST_JAC#ASC#ImmediatePast_15', 'INST_JAC#BEP#ImmediatePast_15', 'INST_JAC#MED#ImmediatePast_15', 'INST_JAC#TSC#ImmediatePast_15', 'LOC_LABEL#ETP##ImmediatePast_15', 'LOC_LABEL#ASC##ImmediatePast_15', 'LOC_LABEL#RLV_SUP=noneworkhome#ImmediatePast_15', 'LOC_DST#AVG#ImmediatePast_15', 'LOC_DST#STD#ImmediatePast_15', 'LOC_DST#SKW#ImmediatePast_15', 'LOC_DST#KUR#ImmediatePast_15', 'LOC_DST#ASC#ImmediatePast_15', 'LOC_DST#BEP#ImmediatePast_15', 'LOC_DST#MED#ImmediatePast_15', 'LOC_DST#TSC#ImmediatePast_15', 'MSG_SNT#AVG#ImmediatePast_15', 'MSG_SNT#STD#ImmediatePast_15', 'MSG_SNT#SKW#ImmediatePast_15', 'MSG_SNT#KUR#ImmediatePast_15', 'MSG_SNT#ASC#ImmediatePast_15', 'MSG_SNT#BEP#ImmediatePast_15', 'MSG_SNT#MED#ImmediatePast_15', 'MSG_SNT#TSC#ImmediatePast_15', 'MSG_RCV#AVG#ImmediatePast_15', 'MSG_RCV#STD#ImmediatePast_15', 'MSG_RCV#SKW#ImmediatePast_15', 'MSG_RCV#KUR#ImmediatePast_15', 'MSG_RCV#ASC#ImmediatePast_15', 'MSG_RCV#BEP#ImmediatePast_15', 'MSG_RCV#MED#ImmediatePast_15', 'MSG_RCV#TSC#ImmediatePast_15', 'MSG_ALL#AVG#ImmediatePast_15', 'MSG_ALL#STD#ImmediatePast_15', 'MSG_ALL#SKW#ImmediatePast_15', 'MSG_ALL#KUR#ImmediatePast_15', 'MSG_ALL#ASC#ImmediatePast_15', 'MSG_ALL#BEP#ImmediatePast_15', 'MSG_ALL#MED#ImmediatePast_15', 'MSG_ALL#TSC#ImmediatePast_15', 'Sleep#Duration#ImmediatePast_15', 'Sleep#Onset#ImmediatePast_15', 'Sleep#Midpoint#ImmediatePast_15', 'SCR_DUR#AVG#ImmediatePast_15', 'SCR_DUR#STD#ImmediatePast_15', 'SCR_DUR#SKW#ImmediatePast_15', 'SCR_DUR#KUR#ImmediatePast_15', 'SCR_DUR#ASC#ImmediatePast_15', 'SCR_DUR#BEP#ImmediatePast_15', 'SCR_DUR#MED#ImmediatePast_15', 'SCR_DUR#TSC#ImmediatePast_15', 'RING#ETP##ImmediatePast_15', 'RING#ASC##ImmediatePast_15', 'RING#RLV_SUP=VIBRATESILENTNORMAL#ImmediatePast_15', 'CHG#ETP##ImmediatePast_15', 'CHG#ASC##ImmediatePast_15', 'CHG#RLV_SUP#ImmediatePast_15', 'BT_BondState#ETP##ImmediatePast_15', 'BT_BondState#ASC##ImmediatePast_15', 'BT_BondState#RLV_SUP=NONEBONDEDBONDING#ImmediatePast_15', 'BT_DeviceType#ETP##ImmediatePast_15', 'BT_DeviceType#ASC##ImmediatePast_15', 'BT_DeviceType#RLV_SUP=LECLASSICUNDEFINEDDUAL#ImmediatePast_15', 'BT_classType#ETP##ImmediatePast_15', 'BT_classType#ASC##ImmediatePast_15', 'BT_classType#RLV_SUP=UNDEFINEDPHONE_SMARTWEARABLE_WRIST_WATCHCOMPUTER_LAPTOPAUDIO_VIDEO_SET_TOP_BOXAUDIO_VIDEO_HANDSFREEAUDIO_VIDEO_VIDEO_DISPLAY_AND_LOUDSPEAKERAUDIO_VIDEO_WEARABLE_HEADSETPHONE_CELLULARCOMPUTER_DESKTOPCOMPUTER_HANDHELD_PC_PDAAUDIO_VIDEO_UNCATEGORIZEDAUDIO_VIDEO_LOUDSPEAKERAUDIO_VIDEO_HEADPHONESAUDIO_VIDEO_HIFI_AUDIOAUDIO_VIDEO_CAR_AUDIOHEALTH_PULSE_OXIMETERHEALTH_UNCATEGORIZEDCOMPUTER_UNCATEGORIZEDWEARABLE_JACKETHEALTH_PULSE_RATEAUDIO_VIDEO_PORTABLE_AUDIOPHONE_MODEM_OR_GATEWAYHEALTH_BLOOD_PRESSURECOMPUTER_WEARABLEHEALTH_DATA_DISPLAYTOY_ROBOTCOMPUTER_PALM_SIZE_PC_PDACOMPUTER_SERVER#ImmediatePast_15', 'Dozemode#ETP##ImmediatePast_15', 'Dozemode#ASC##ImmediatePast_15', 'Dozemode#RLV_SUP#ImmediatePast_15', 'Heartrate#AVG#ImmediatePast_15', 'Heartrate#STD#ImmediatePast_15', 'Heartrate#SKW#ImmediatePast_15', 'Heartrate#KUR#ImmediatePast_15', 'Heartrate#ASC#ImmediatePast_15', 'Heartrate#BEP#ImmediatePast_15', 'Heartrate#MED#ImmediatePast_15', 'Heartrate#TSC#ImmediatePast_15', 'Notification_VIS#ETP##ImmediatePast_15', 'Notification_VIS#ASC##ImmediatePast_15', 'Notification_VIS#RLV_SUP=PRIVATESECRETPUBLIC#ImmediatePast_15', 'Notification_CAT#ETP##ImmediatePast_15', 'Notification_CAT#ASC##ImmediatePast_15', 'Notification_CAT#RLV_SUP=UNDEFINEDSTATUSMESSAGESERVICEPROGRESSSYSTEMREMINDERALARMTRANSPORTEMAILCALLEVENTPROMOERRORRECOMMENDATIONSOCIALNAVIGATION#ImmediatePast_15', 'PWR#ETP##ImmediatePast_15', 'PWR#ASC##ImmediatePast_15', 'PWR#RLV_SUP#ImmediatePast_15']\n"
     ]
    }
   ],
   "source": [
    "cn = X.columns.tolist()\n",
    "print(cn)"
   ]
  },
  {
   "cell_type": "code",
   "execution_count": 7,
   "id": "92b3bd05",
   "metadata": {},
   "outputs": [],
   "source": [
    "from sklearn.feature_selection import SelectFromModel\n",
    "from sklearn.linear_model import LogisticRegression\n",
    "from sklearn.base import clone\n",
    "\n",
    "normalize =True\n",
    "# Feature selection method\n",
    "selector = SelectFromModel(\n",
    "        estimator=LogisticRegression(penalty='l1', solver='liblinear', C=1, random_state=seed, max_iter=4000),\n",
    "        threshold=0.005\n",
    "#         estimator=LinearSVC(\n",
    "#         penalty='l1',\n",
    "#         loss='squared_hinge',\n",
    "#         dual=False,\n",
    "#         tol=1e-3,\n",
    "#         C=1e-2,\n",
    "#         max_iter=5000,\n",
    "#         random_state=RANDOM_STATE\n",
    "#     )  \n",
    "    )\n",
    "select = [clone(selector)]\n",
    "oversample = True"
   ]
  },
  {
   "cell_type": "code",
   "execution_count": 8,
   "id": "1f9a688a",
   "metadata": {},
   "outputs": [],
   "source": [
    "import os\n",
    "import pandas as pd\n",
    "import numpy as np\n",
    "import ray\n",
    "from sklearn.model_selection import LeaveOneGroupOut\n",
    "from sklearn.feature_selection import SelectFromModel\n",
    "from sklearn.linear_model import LogisticRegression\n",
    "from sklearn.svm import LinearSVC\n",
    "from imblearn.over_sampling import SMOTENC, SMOTE\n",
    "from tqdm import tqdm\n",
    "from sklearn.model_selection import StratifiedGroupKFold, GroupKFold, KFold, TimeSeriesSplit, LeavePGroupsOut, train_test_split, GroupShuffleSplit\n",
    "from sklearn.preprocessing import StandardScaler, OrdinalEncoder, OneHotEncoder\n",
    "\n",
    "\n",
    "\n",
    "def get_cv_splits(cv_strategy, data, labels, groups=None):\n",
    "    \"\"\"\n",
    "    Returns the train-test splits based on the chosen cross-validation strategy.\n",
    "    \"\"\"\n",
    "    if cv_strategy == 'loso':\n",
    "        cv = LeaveOneGroupOut()\n",
    "        return cv.split(data, labels, groups)\n",
    "    elif cv_strategy == 'group_k_fold':\n",
    "        cv = GroupKFold(n_splits=5)  # You can adjust the number of splits\n",
    "        return cv.split(data, labels, groups)\n",
    "    elif cv_strategy == 'k_fold':\n",
    "        cv = KFold(n_splits=5)  # You can adjust the number of splits\n",
    "        return cv.split(data)\n",
    "    elif cv_strategy == 'time_series':\n",
    "        cv = TimeSeriesSplit(n_splits=5)  # You can adjust the number of splits\n",
    "        return cv.split(data)\n",
    "    else:\n",
    "        raise ValueError(f\"Unknown CV strategy: {cv_strategy}\")\n",
    "\n",
    "\n",
    "def get_categorical_features_indices(df):\n",
    "    return [i for i, col in enumerate(df.columns) if df[col].nunique() <= 10]\n",
    "\n",
    "def exclude_low_variance(agg_feature, threshold=.0000001):\n",
    "    agg_feature_non_zero_var = agg_feature.loc[:,agg_feature.var()>threshold]\n",
    "    num_removed = agg_feature.shape[1]-agg_feature_non_zero_var.shape[1]\n",
    "    print(f'{num_removed}/{agg_feature.shape[1]} features with variance < {threshold} removed')\n",
    "    return agg_feature_non_zero_var\n",
    "\n",
    "def remove_pairwise_corr(agg_feature_percent_missing, PAIRWISE_CORR_THRESHOLD=0.8, outcome_variable=None):\n",
    "    if outcome_variable is not None:\n",
    "        outcome_variable = pd.Series(outcome_variable, index=agg_feature_percent_missing.index, name=\"outcome\")\n",
    "        corr_with_outcome = pd.merge(outcome_variable, agg_feature_percent_missing, left_index=True, right_index=True).corr()[outcome_variable.name].abs().sort_values(ascending=False)\n",
    "        importance_order = corr_with_outcome.index[1:].tolist()\n",
    "        agg_feature_percent_missing = agg_feature_percent_missing[importance_order]\n",
    "\n",
    "    Matrix = agg_feature_percent_missing.corr().abs()\n",
    "    \n",
    "    upper_triangle = Matrix.where(np.triu(np.ones(Matrix.shape), k=1).astype(bool))\n",
    "\n",
    "    correlated_features = set()\n",
    "    for feature in upper_triangle.columns:\n",
    "        highly_correlated = upper_triangle[feature][upper_triangle[feature] > PAIRWISE_CORR_THRESHOLD].index\n",
    "        correlated_features.update(highly_correlated)\n",
    "\n",
    "    kept_features = list(set(agg_feature_percent_missing.columns) - correlated_features)\n",
    "    print(f\"Pairwise Corr: kept only {len(kept_features)}/{len(agg_feature_percent_missing.columns)} features\")\n",
    "    return agg_feature_percent_missing[kept_features]\n",
    "\n",
    "\n",
    "\n",
    "# Feature selection method\n",
    "def feature_selector(X_train, y_train):\n",
    "    selector = SelectFromModel(\n",
    "        estimator=LogisticRegression(penalty='l1', solver='liblinear', C=1, random_state=seed, max_iter=4000),\n",
    "        threshold=0.005\n",
    "#         estimator=LinearSVC(\n",
    "#         penalty='l1',\n",
    "#         loss='squared_hinge',\n",
    "#         dual=False,\n",
    "#         tol=1e-3,\n",
    "#         C=1e-2,\n",
    "#         max_iter=5000,\n",
    "#         random_state=RANDOM_STATE\n",
    "#     )\n",
    "    \n",
    "    )\n",
    "    selector.fit(X_train, y_train)\n",
    "    return selector\n",
    "\n",
    "def split_train_test(df, labels, train_idx, test_idx):\n",
    "    X_train = df.iloc[train_idx]\n",
    "    y_train = labels[train_idx]\n",
    "    X_test = df.iloc[test_idx]\n",
    "    y_test = labels[test_idx]\n",
    "    return X_train, y_train, X_test, y_test\n",
    "\n",
    "def process_dataframe(X):\n",
    "    \"\"\"\n",
    "    Process the input DataFrame 'X':\n",
    "    1. Set column names as a range from 0 to the number of columns.\n",
    "    2. Replace boolean values with 1 for True and 0 for False.\n",
    "\n",
    "    Parameters:\n",
    "        X (pandas.DataFrame): The input DataFrame.\n",
    "\n",
    "    Returns:\n",
    "        pandas.DataFrame: The processed DataFrame.\n",
    "    \"\"\"\n",
    "    # Set column names as a range from 0 to the number of columns\n",
    "    X.columns = range(X.shape[1])\n",
    "\n",
    "    # Replace boolean values with 1 for True and 0 for False\n",
    "#     X = X * 1\n",
    "\n",
    "    return X\n",
    "\n",
    "def save_data_to_data_file(X, y, filename):\n",
    "    if not os.path.exists(PATH_SAVE):\n",
    "        os.makedirs(PATH_SAVE)\n",
    "\n",
    "    file_path = os.path.join(PATH_SAVE, filename)\n",
    "\n",
    "    with open(file_path, 'w') as f:\n",
    "        for i in range(len(X)):\n",
    "            # Check if y is a numpy array or dataframe\n",
    "            label = y[i] if isinstance(y, np.ndarray) else y.iloc[i].values[0]\n",
    "            \n",
    "            # Start building the line with the label\n",
    "            line = str(label)\n",
    "            \n",
    "            # Iterate through columns of X\n",
    "            for col_idx, value in enumerate(X[i] if isinstance(X, np.ndarray) else X.iloc[i]):\n",
    "                line += \" {}:{}\".format(col_idx, value)\n",
    "            \n",
    "            f.write(line + '\\n')"
   ]
  },
  {
   "cell_type": "code",
   "execution_count": 9,
   "id": "06d18b58",
   "metadata": {},
   "outputs": [],
   "source": [
    "import os\n",
    "import pandas as pd\n",
    "import numpy as np\n",
    "import ray\n",
    "from sklearn.model_selection import LeaveOneGroupOut\n",
    "from sklearn.feature_selection import SelectFromModel\n",
    "from sklearn.linear_model import LogisticRegression\n",
    "from sklearn.svm import LinearSVC\n",
    "from imblearn.over_sampling import SMOTENC, SMOTE\n",
    "from tqdm import tqdm\n",
    "from sklearn.model_selection import StratifiedGroupKFold, GroupKFold, KFold, TimeSeriesSplit, LeavePGroupsOut, train_test_split, GroupShuffleSplit\n",
    "from sklearn.preprocessing import StandardScaler, OrdinalEncoder, OneHotEncoder\n",
    "\n",
    "\n",
    "\n",
    "def get_cv_splits(cv_strategy, data, labels, groups=None):\n",
    "    \"\"\"\n",
    "    Returns the train-test splits based on the chosen cross-validation strategy.\n",
    "    \"\"\"\n",
    "    if cv_strategy == 'loso':\n",
    "        cv = LeaveOneGroupOut()\n",
    "        return cv.split(data, labels, groups)\n",
    "    elif cv_strategy == 'group_k_fold':\n",
    "        cv = GroupKFold(n_splits=5)  # You can adjust the number of splits\n",
    "        return cv.split(data, labels, groups)\n",
    "    elif cv_strategy == 'k_fold':\n",
    "        cv = KFold(n_splits=5)  # You can adjust the number of splits\n",
    "        return cv.split(data)\n",
    "    elif cv_strategy == 'time_series':\n",
    "        cv = TimeSeriesSplit(n_splits=5)  # You can adjust the number of splits\n",
    "        return cv.split(data)\n",
    "    else:\n",
    "        raise ValueError(f\"Unknown CV strategy: {cv_strategy}\")\n",
    "\n",
    "\n",
    "def get_categorical_features_indices(df):\n",
    "    return [i for i, col in enumerate(df.columns) if df[col].nunique() <= 10]\n",
    "\n",
    "def exclude_low_variance(agg_feature, threshold=.0000001):\n",
    "    agg_feature_non_zero_var = agg_feature.loc[:,agg_feature.var()>threshold]\n",
    "    num_removed = agg_feature.shape[1]-agg_feature_non_zero_var.shape[1]\n",
    "    print(f'{num_removed}/{agg_feature.shape[1]} features with variance < {threshold} removed')\n",
    "    return agg_feature_non_zero_var\n",
    "\n",
    "def remove_pairwise_corr(agg_feature_percent_missing, PAIRWISE_CORR_THRESHOLD=0.8, outcome_variable=None):\n",
    "    if outcome_variable is not None:\n",
    "        outcome_variable = pd.Series(outcome_variable, index=agg_feature_percent_missing.index, name=\"outcome\")\n",
    "        corr_with_outcome = pd.merge(outcome_variable, agg_feature_percent_missing, left_index=True, right_index=True).corr()[outcome_variable.name].abs().sort_values(ascending=False)\n",
    "        importance_order = corr_with_outcome.index[1:].tolist()\n",
    "        agg_feature_percent_missing = agg_feature_percent_missing[importance_order]\n",
    "\n",
    "    Matrix = agg_feature_percent_missing.corr().abs()\n",
    "    \n",
    "    upper_triangle = Matrix.where(np.triu(np.ones(Matrix.shape), k=1).astype(bool))\n",
    "\n",
    "    correlated_features = set()\n",
    "    for feature in upper_triangle.columns:\n",
    "        highly_correlated = upper_triangle[feature][upper_triangle[feature] > PAIRWISE_CORR_THRESHOLD].index\n",
    "        correlated_features.update(highly_correlated)\n",
    "\n",
    "    kept_features = list(set(agg_feature_percent_missing.columns) - correlated_features)\n",
    "    print(f\"Pairwise Corr: kept only {len(kept_features)}/{len(agg_feature_percent_missing.columns)} features\")\n",
    "    return agg_feature_percent_missing[kept_features]\n",
    "\n",
    "\n",
    "\n",
    "# Feature selection method\n",
    "def feature_selector(X_train, y_train):\n",
    "    selector = SelectFromModel(\n",
    "        estimator=LogisticRegression(penalty='l1', solver='liblinear', C=1, random_state=seed, max_iter=4000),\n",
    "        threshold=0.005\n",
    "#         estimator=LinearSVC(\n",
    "#         penalty='l1',\n",
    "#         loss='squared_hinge',\n",
    "#         dual=False,\n",
    "#         tol=1e-3,\n",
    "#         C=1e-2,\n",
    "#         max_iter=5000,\n",
    "#         random_state=RANDOM_STATE\n",
    "#     )\n",
    "    \n",
    "    )\n",
    "    selector.fit(X_train, y_train)\n",
    "    return selector\n",
    "\n",
    "def split_train_test(df, labels, train_idx, test_idx):\n",
    "    X_train = df.iloc[train_idx]\n",
    "    y_train = labels[train_idx]\n",
    "    X_test = df.iloc[test_idx]\n",
    "    y_test = labels[test_idx]\n",
    "    return X_train, y_train, X_test, y_test\n",
    "\n",
    "\n",
    "\n",
    "# @ray.remote\n",
    "# # def process_and_save_split(train_idx, test_idx, all_data, all_labels, all_groups, process_dataframe, save_data_to_data_file, C_cat, C_num, select):\n",
    "# def process_and_save_split(train_idx, test_idx, all_data, all_labels, all_groups, process_dataframe, save_data_to_data_file):\n",
    "#     X_train, y_train, X_test, y_test = split_train_test(all_data, all_labels, train_idx, test_idx)\n",
    "    \n",
    "# #     # Use LOSO to split the training set further into training and evaluation sets\n",
    "# #     loso = LeaveOneGroupOut()\n",
    "# #     train_indices, eval_indices = next(loso.split(X_train, y_train, groups=all_groups[train_idx]))    \n",
    "# #     X_eval, y_eval = X_train.iloc[eval_indices], y_train[eval_indices]\n",
    "# #     X_train, y_train = X_train.iloc[train_indices], y_train[train_indices]\n",
    "    \n",
    "#     # Split 20% of training set as eval set\n",
    "#     X_train, X_eval, y_train, y_eval = train_test_split(X_train, y_train, test_size=0.2, random_state=RANDOM_STATE)\n",
    "\n",
    "# #     # Split 20% of training set as eval set based on groups\n",
    "# #     gss = GroupShuffleSplit(test_size=0.2, random_state=RANDOM_STATE)\n",
    "# #     train_inds, eval_inds = next(gss.split(X_train, y_train, groups=all_groups[train_idx]))\n",
    "# #     X_eval, y_eval = X_train.iloc[eval_inds], y_train[eval_inds]\n",
    "# #     X_train, y_train = X_train.iloc[train_inds], y_train[train_inds]\n",
    "    \n",
    "#     # Apply SMOTENC\n",
    "#     smote_nc = SMOTENC(categorical_features=get_categorical_features_indices(X_train), random_state=RANDOM_STATE)\n",
    "#     X_train, y_train = smote_nc.fit_resample(X_train, y_train)\n",
    "    \n",
    "# #     #Removing low variance features\n",
    "# #     X_train = exclude_low_variance(X_train)\n",
    "# #     X_test = X_test[X_train.columns]  # Keep only the selected features in the test set\n",
    "\n",
    "# #     #Removing highly correlated features\n",
    "# #     X_train = remove_pairwise_corr(X_train, outcome_variable= y_train)\n",
    "# #     X_test = X_test[X_train.columns]  # Keep only the selected features in the test set\n",
    "    \n",
    "#     # Capture indices \n",
    "#     train_indices = X_train.index\n",
    "#     eval_indices = X_eval.index\n",
    "#     test_indices = X_test.index\n",
    "    \n",
    "#     # Before feature selection, capture the columns\n",
    "#     current_columns = X_train.columns\n",
    "    \n",
    "#     # Feature selection\n",
    "#     selector = feature_selector(X_train, y_train)\n",
    "#     X_train = selector.transform(X_train)\n",
    "#     X_eval = selector.transform(X_eval)\n",
    "#     X_test = selector.transform(X_test)\n",
    "\n",
    "#     # Use the captured columns to get the selected columns\n",
    "#     selected_columns = current_columns[selector.get_support()]\n",
    "    \n",
    "#     X_train = pd.DataFrame(X_train, columns=selected_columns, index=train_indices)\n",
    "#     X_eval = pd.DataFrame(X_eval, columns=selected_columns, index=eval_indices)\n",
    "#     X_test = pd.DataFrame(X_test, columns=selected_columns, index=test_indices)\n",
    "\n",
    "    \n",
    "#     # Process dataframes\n",
    "#     X_train = process_dataframe(X_train)\n",
    "#     X_eval = process_dataframe(X_eval)\n",
    "#     X_test = process_dataframe(X_test)\n",
    "\n",
    "#     subject = all_groups[test_idx[0]]\n",
    "\n",
    "#     save_data_to_data_file(X_train, y_train, f'{subject}_train.data')\n",
    "#     save_data_to_data_file(X_eval, y_eval, f'{subject}_eval.data')\n",
    "#     save_data_to_data_file(X_test, y_test, f'{subject}_val.data')\n",
    "\n",
    "@ray.remote\n",
    "def process_and_save_split(train_idx, test_idx, all_data, all_labels, all_groups, process_dataframe, save_data_to_data_file, C_cat, C_num, select):\n",
    "    X_train, y_train, X_test, y_test = split_train_test(all_data, all_labels, train_idx, test_idx)\n",
    "    \n",
    "\n",
    "#     #Leave n subject out\n",
    "#     n = 4  # Number of groups to leave out\n",
    "#     # Use LNGO to split the training set further into training and evaluation sets\n",
    "#     lngo = LeavePGroupsOut(n_groups=n)\n",
    "#     train_indices, eval_indices = next(lngo.split(X_train, y_train, groups=all_groups[train_idx]))    \n",
    "#     X_eval, y_eval = X_train.iloc[eval_indices].copy(), y_train[eval_indices].copy()\n",
    "#     X_train, y_train = X_train.iloc[train_indices].copy(), y_train[train_indices].copy()\n",
    "\n",
    "    \n",
    "#     # Use LOSO to split the training set further into training and evaluation sets\n",
    "#     loso = LeaveOneGroupOut()\n",
    "#     train_indices, eval_indices = next(loso.split(X_train, y_train, groups=all_groups[train_idx]))    \n",
    "#     X_eval, y_eval = X_train.iloc[eval_indices].copy(), y_train[eval_indices].copy()\n",
    "#     X_train, y_train = X_train.iloc[train_indices].copy(), y_train[train_indices].copy()\n",
    "\n",
    "\n",
    "#     # Initialize the stratified group k-fold splitter\n",
    "#     sgkf = StratifiedGroupKFold(n_splits=5, random_state=RANDOM_STATE, shuffle=True)\n",
    "#     # Get the train and eval indices\n",
    "#     train_inds, eval_inds = next(sgkf.split(X_train, y_train, groups=all_groups[train_idx]))\n",
    "#     X_eval, y_eval = X_train.iloc[eval_inds], y_train[eval_inds]\n",
    "#     X_train, y_train = X_train.iloc[train_inds], y_train[train_inds]\n",
    "\n",
    "    \n",
    "    # Split 20% of training set as eval set\n",
    "    X_train, X_eval, y_train, y_eval = train_test_split(X_train, y_train, test_size=0.2, random_state=RANDOM_STATE,  stratify=y_train)\n",
    "\n",
    "#     # Split 20% of training set as eval set based on groups\n",
    "#     gss = GroupShuffleSplit(test_size=0.2, random_state=RANDOM_STATE)\n",
    "#     train_inds, eval_inds = next(gss.split(X_train, y_train, groups=all_groups[train_idx]))\n",
    "#     X_eval, y_eval = X_train.iloc[eval_inds], y_train[eval_inds]\n",
    "#     X_train, y_train = X_train.iloc[train_inds], y_train[train_inds]\n",
    "\n",
    "    if normalize:\n",
    "        # Normalize numeric features\n",
    "        scaler = StandardScaler().fit(X_train[C_num])\n",
    "        X_train[C_num] = scaler.transform(X_train[C_num].copy())\n",
    "        X_eval[C_num] = scaler.transform(X_eval[C_num].copy())\n",
    "        X_test[C_num] = scaler.transform(X_test[C_num].copy())\n",
    "\n",
    "    if select:\n",
    "        if isinstance(select, SelectFromModel):\n",
    "            select = [select]\n",
    "            \n",
    "        for i, s in enumerate(select):\n",
    "            # Fit feature selector only on training data\n",
    "            s.fit(X_train, y_train)\n",
    "            selected_features = X_train.columns[s.get_support()]\n",
    "            \n",
    "            # Apply feature selection to train, eval, and test\n",
    "            X_train = X_train[selected_features].copy()\n",
    "            X_eval = X_eval[selected_features].copy()\n",
    "            X_test = X_test[selected_features].copy()\n",
    "\n",
    "    if oversample:\n",
    "        # Determine categorical features for SMOTENC\n",
    "        if len(C_cat):\n",
    "            M = np.isin(X_train.columns, C_cat)\n",
    "            sampler = SMOTENC(categorical_features=M, random_state=seed)\n",
    "        else:\n",
    "            sampler = SMOTE(random_state=seed)\n",
    "        # Only oversample training data\n",
    "        X_train, y_train = sampler.fit_resample(X_train, y_train)\n",
    "    \n",
    "    # Apply consistent processing to train, eval, and test dataframes\n",
    "    X_train = process_dataframe(X_train)\n",
    "    X_eval = process_dataframe(X_eval)\n",
    "    X_test = process_dataframe(X_test)\n",
    "\n",
    "    subject = all_groups[test_idx[0]]\n",
    "\n",
    "    # Save processed data to files\n",
    "    save_data_to_data_file(X_train, y_train, f'{subject}_train.data')\n",
    "    save_data_to_data_file(X_eval, y_eval, f'{subject}_eval.data')\n",
    "    save_data_to_data_file(X_test, y_test, f'{subject}_val.data')\n"
   ]
  },
  {
   "cell_type": "code",
   "execution_count": 10,
   "id": "2fcc8082",
   "metadata": {},
   "outputs": [],
   "source": [
    "# Create a full dataset and corresponding labels and groups\n",
    "all_data = X\n",
    "all_labels = y\n",
    "all_groups = groups"
   ]
  },
  {
   "cell_type": "code",
   "execution_count": 11,
   "id": "7cef85d8",
   "metadata": {
    "scrolled": true
   },
   "outputs": [
    {
     "name": "stderr",
     "output_type": "stream",
     "text": [
      "2024-07-25 17:32:47,919\tINFO worker.py:1612 -- Started a local Ray instance. View the dashboard at \u001b[1m\u001b[32m127.0.0.1:8265 \u001b[39m\u001b[22m\n",
      "\u001b[2m\u001b[36m(process_and_save_split pid=2308628)\u001b[0m /tmp/ipykernel_2308382/632661198.py:203: SettingWithCopyWarning: \n",
      "\u001b[2m\u001b[36m(process_and_save_split pid=2308628)\u001b[0m A value is trying to be set on a copy of a slice from a DataFrame.\n",
      "\u001b[2m\u001b[36m(process_and_save_split pid=2308628)\u001b[0m Try using .loc[row_indexer,col_indexer] = value instead\n",
      "\u001b[2m\u001b[36m(process_and_save_split pid=2308628)\u001b[0m \n",
      "\u001b[2m\u001b[36m(process_and_save_split pid=2308628)\u001b[0m See the caveats in the documentation: https://pandas.pydata.org/pandas-docs/stable/user_guide/indexing.html#returning-a-view-versus-a-copy\n",
      "\u001b[2m\u001b[36m(process_and_save_split pid=2308626)\u001b[0m /tmp/ipykernel_2308382/632661198.py:203: SettingWithCopyWarning: \u001b[32m [repeated 16x across cluster] (Ray deduplicates logs by default. Set RAY_DEDUP_LOGS=0 to disable log deduplication, or see https://docs.ray.io/en/master/ray-observability/ray-logging.html#log-deduplication for more options.)\u001b[0m\n",
      "\u001b[2m\u001b[36m(process_and_save_split pid=2308626)\u001b[0m A value is trying to be set on a copy of a slice from a DataFrame.\u001b[32m [repeated 16x across cluster]\u001b[0m\n",
      "\u001b[2m\u001b[36m(process_and_save_split pid=2308626)\u001b[0m Try using .loc[row_indexer,col_indexer] = value instead\u001b[32m [repeated 16x across cluster]\u001b[0m\n",
      "\u001b[2m\u001b[36m(process_and_save_split pid=2308626)\u001b[0m \u001b[32m [repeated 16x across cluster]\u001b[0m\n",
      "\u001b[2m\u001b[36m(process_and_save_split pid=2308626)\u001b[0m See the caveats in the documentation: https://pandas.pydata.org/pandas-docs/stable/user_guide/indexing.html#returning-a-view-versus-a-copy\u001b[32m [repeated 16x across cluster]\u001b[0m\n",
      "\u001b[2m\u001b[36m(process_and_save_split pid=2308624)\u001b[0m /tmp/ipykernel_2308382/632661198.py:203: SettingWithCopyWarning: \u001b[32m [repeated 3x across cluster]\u001b[0m\n",
      "\u001b[2m\u001b[36m(process_and_save_split pid=2308624)\u001b[0m A value is trying to be set on a copy of a slice from a DataFrame.\u001b[32m [repeated 3x across cluster]\u001b[0m\n",
      "\u001b[2m\u001b[36m(process_and_save_split pid=2308624)\u001b[0m Try using .loc[row_indexer,col_indexer] = value instead\u001b[32m [repeated 3x across cluster]\u001b[0m\n",
      "\u001b[2m\u001b[36m(process_and_save_split pid=2308624)\u001b[0m \u001b[32m [repeated 3x across cluster]\u001b[0m\n",
      "\u001b[2m\u001b[36m(process_and_save_split pid=2308624)\u001b[0m See the caveats in the documentation: https://pandas.pydata.org/pandas-docs/stable/user_guide/indexing.html#returning-a-view-versus-a-copy\u001b[32m [repeated 3x across cluster]\u001b[0m\n",
      "\u001b[2m\u001b[36m(process_and_save_split pid=2308630)\u001b[0m /tmp/ipykernel_2308382/632661198.py:203: SettingWithCopyWarning: \u001b[32m [repeated 2x across cluster]\u001b[0m\n",
      "\u001b[2m\u001b[36m(process_and_save_split pid=2308630)\u001b[0m A value is trying to be set on a copy of a slice from a DataFrame.\u001b[32m [repeated 2x across cluster]\u001b[0m\n",
      "\u001b[2m\u001b[36m(process_and_save_split pid=2308630)\u001b[0m Try using .loc[row_indexer,col_indexer] = value instead\u001b[32m [repeated 2x across cluster]\u001b[0m\n",
      "\u001b[2m\u001b[36m(process_and_save_split pid=2308630)\u001b[0m \u001b[32m [repeated 2x across cluster]\u001b[0m\n",
      "\u001b[2m\u001b[36m(process_and_save_split pid=2308630)\u001b[0m See the caveats in the documentation: https://pandas.pydata.org/pandas-docs/stable/user_guide/indexing.html#returning-a-view-versus-a-copy\u001b[32m [repeated 2x across cluster]\u001b[0m\n",
      "\u001b[2m\u001b[36m(process_and_save_split pid=2308616)\u001b[0m /tmp/ipykernel_2308382/632661198.py:203: SettingWithCopyWarning: \u001b[32m [repeated 3x across cluster]\u001b[0m\n",
      "\u001b[2m\u001b[36m(process_and_save_split pid=2308616)\u001b[0m A value is trying to be set on a copy of a slice from a DataFrame.\u001b[32m [repeated 3x across cluster]\u001b[0m\n",
      "\u001b[2m\u001b[36m(process_and_save_split pid=2308616)\u001b[0m Try using .loc[row_indexer,col_indexer] = value instead\u001b[32m [repeated 3x across cluster]\u001b[0m\n",
      "\u001b[2m\u001b[36m(process_and_save_split pid=2308616)\u001b[0m \u001b[32m [repeated 3x across cluster]\u001b[0m\n",
      "\u001b[2m\u001b[36m(process_and_save_split pid=2308616)\u001b[0m See the caveats in the documentation: https://pandas.pydata.org/pandas-docs/stable/user_guide/indexing.html#returning-a-view-versus-a-copy\u001b[32m [repeated 3x across cluster]\u001b[0m\n",
      "\u001b[2m\u001b[36m(process_and_save_split pid=2308615)\u001b[0m /tmp/ipykernel_2308382/632661198.py:203: SettingWithCopyWarning: \u001b[32m [repeated 3x across cluster]\u001b[0m\n",
      "\u001b[2m\u001b[36m(process_and_save_split pid=2308615)\u001b[0m A value is trying to be set on a copy of a slice from a DataFrame.\u001b[32m [repeated 3x across cluster]\u001b[0m\n",
      "\u001b[2m\u001b[36m(process_and_save_split pid=2308615)\u001b[0m Try using .loc[row_indexer,col_indexer] = value instead\u001b[32m [repeated 3x across cluster]\u001b[0m\n",
      "\u001b[2m\u001b[36m(process_and_save_split pid=2308615)\u001b[0m \u001b[32m [repeated 3x across cluster]\u001b[0m\n",
      "\u001b[2m\u001b[36m(process_and_save_split pid=2308615)\u001b[0m See the caveats in the documentation: https://pandas.pydata.org/pandas-docs/stable/user_guide/indexing.html#returning-a-view-versus-a-copy\u001b[32m [repeated 3x across cluster]\u001b[0m\n",
      "\u001b[2m\u001b[36m(process_and_save_split pid=2308620)\u001b[0m /tmp/ipykernel_2308382/632661198.py:203: SettingWithCopyWarning: \n",
      "\u001b[2m\u001b[36m(process_and_save_split pid=2308620)\u001b[0m A value is trying to be set on a copy of a slice from a DataFrame.\n",
      "\u001b[2m\u001b[36m(process_and_save_split pid=2308620)\u001b[0m Try using .loc[row_indexer,col_indexer] = value instead\n",
      "\u001b[2m\u001b[36m(process_and_save_split pid=2308620)\u001b[0m \n",
      "\u001b[2m\u001b[36m(process_and_save_split pid=2308620)\u001b[0m See the caveats in the documentation: https://pandas.pydata.org/pandas-docs/stable/user_guide/indexing.html#returning-a-view-versus-a-copy\n",
      "\u001b[2m\u001b[36m(process_and_save_split pid=2308623)\u001b[0m /tmp/ipykernel_2308382/632661198.py:203: SettingWithCopyWarning: \n",
      "\u001b[2m\u001b[36m(process_and_save_split pid=2308623)\u001b[0m A value is trying to be set on a copy of a slice from a DataFrame.\n",
      "\u001b[2m\u001b[36m(process_and_save_split pid=2308623)\u001b[0m Try using .loc[row_indexer,col_indexer] = value instead\n",
      "\u001b[2m\u001b[36m(process_and_save_split pid=2308623)\u001b[0m \n",
      "\u001b[2m\u001b[36m(process_and_save_split pid=2308623)\u001b[0m See the caveats in the documentation: https://pandas.pydata.org/pandas-docs/stable/user_guide/indexing.html#returning-a-view-versus-a-copy\n",
      "\u001b[2m\u001b[36m(process_and_save_split pid=2308625)\u001b[0m /tmp/ipykernel_2308382/632661198.py:203: SettingWithCopyWarning: \u001b[32m [repeated 2x across cluster]\u001b[0m\n",
      "\u001b[2m\u001b[36m(process_and_save_split pid=2308625)\u001b[0m A value is trying to be set on a copy of a slice from a DataFrame.\u001b[32m [repeated 2x across cluster]\u001b[0m\n",
      "\u001b[2m\u001b[36m(process_and_save_split pid=2308625)\u001b[0m Try using .loc[row_indexer,col_indexer] = value instead\u001b[32m [repeated 2x across cluster]\u001b[0m\n",
      "\u001b[2m\u001b[36m(process_and_save_split pid=2308625)\u001b[0m \u001b[32m [repeated 2x across cluster]\u001b[0m\n",
      "\u001b[2m\u001b[36m(process_and_save_split pid=2308625)\u001b[0m See the caveats in the documentation: https://pandas.pydata.org/pandas-docs/stable/user_guide/indexing.html#returning-a-view-versus-a-copy\u001b[32m [repeated 2x across cluster]\u001b[0m\n",
      "\u001b[2m\u001b[36m(process_and_save_split pid=2308619)\u001b[0m /tmp/ipykernel_2308382/632661198.py:203: SettingWithCopyWarning: \n",
      "\u001b[2m\u001b[36m(process_and_save_split pid=2308619)\u001b[0m A value is trying to be set on a copy of a slice from a DataFrame.\n",
      "\u001b[2m\u001b[36m(process_and_save_split pid=2308619)\u001b[0m Try using .loc[row_indexer,col_indexer] = value instead\n",
      "\u001b[2m\u001b[36m(process_and_save_split pid=2308619)\u001b[0m \n",
      "\u001b[2m\u001b[36m(process_and_save_split pid=2308619)\u001b[0m See the caveats in the documentation: https://pandas.pydata.org/pandas-docs/stable/user_guide/indexing.html#returning-a-view-versus-a-copy\n",
      "\u001b[2m\u001b[36m(process_and_save_split pid=2308617)\u001b[0m /tmp/ipykernel_2308382/632661198.py:203: SettingWithCopyWarning: \n",
      "\u001b[2m\u001b[36m(process_and_save_split pid=2308617)\u001b[0m A value is trying to be set on a copy of a slice from a DataFrame.\n",
      "\u001b[2m\u001b[36m(process_and_save_split pid=2308617)\u001b[0m Try using .loc[row_indexer,col_indexer] = value instead\n",
      "\u001b[2m\u001b[36m(process_and_save_split pid=2308617)\u001b[0m \n",
      "\u001b[2m\u001b[36m(process_and_save_split pid=2308617)\u001b[0m See the caveats in the documentation: https://pandas.pydata.org/pandas-docs/stable/user_guide/indexing.html#returning-a-view-versus-a-copy\n",
      "\u001b[2m\u001b[36m(process_and_save_split pid=2308622)\u001b[0m /tmp/ipykernel_2308382/632661198.py:203: SettingWithCopyWarning: \n",
      "\u001b[2m\u001b[36m(process_and_save_split pid=2308622)\u001b[0m A value is trying to be set on a copy of a slice from a DataFrame.\n",
      "\u001b[2m\u001b[36m(process_and_save_split pid=2308622)\u001b[0m Try using .loc[row_indexer,col_indexer] = value instead\n",
      "\u001b[2m\u001b[36m(process_and_save_split pid=2308622)\u001b[0m \n",
      "\u001b[2m\u001b[36m(process_and_save_split pid=2308622)\u001b[0m See the caveats in the documentation: https://pandas.pydata.org/pandas-docs/stable/user_guide/indexing.html#returning-a-view-versus-a-copy\n"
     ]
    },
    {
     "name": "stderr",
     "output_type": "stream",
     "text": [
      "\u001b[2m\u001b[36m(process_and_save_split pid=2308621)\u001b[0m /tmp/ipykernel_2308382/632661198.py:203: SettingWithCopyWarning: \n",
      "\u001b[2m\u001b[36m(process_and_save_split pid=2308621)\u001b[0m A value is trying to be set on a copy of a slice from a DataFrame.\n",
      "\u001b[2m\u001b[36m(process_and_save_split pid=2308621)\u001b[0m Try using .loc[row_indexer,col_indexer] = value instead\n",
      "\u001b[2m\u001b[36m(process_and_save_split pid=2308621)\u001b[0m \n",
      "\u001b[2m\u001b[36m(process_and_save_split pid=2308621)\u001b[0m See the caveats in the documentation: https://pandas.pydata.org/pandas-docs/stable/user_guide/indexing.html#returning-a-view-versus-a-copy\n",
      "\u001b[2m\u001b[36m(process_and_save_split pid=2308628)\u001b[0m /tmp/ipykernel_2308382/632661198.py:203: SettingWithCopyWarning: \u001b[32m [repeated 5x across cluster]\u001b[0m\n",
      "\u001b[2m\u001b[36m(process_and_save_split pid=2308628)\u001b[0m A value is trying to be set on a copy of a slice from a DataFrame.\u001b[32m [repeated 5x across cluster]\u001b[0m\n",
      "\u001b[2m\u001b[36m(process_and_save_split pid=2308628)\u001b[0m Try using .loc[row_indexer,col_indexer] = value instead\u001b[32m [repeated 5x across cluster]\u001b[0m\n",
      "\u001b[2m\u001b[36m(process_and_save_split pid=2308628)\u001b[0m \u001b[32m [repeated 5x across cluster]\u001b[0m\n",
      "\u001b[2m\u001b[36m(process_and_save_split pid=2308628)\u001b[0m See the caveats in the documentation: https://pandas.pydata.org/pandas-docs/stable/user_guide/indexing.html#returning-a-view-versus-a-copy\u001b[32m [repeated 5x across cluster]\u001b[0m\n",
      "\u001b[2m\u001b[36m(process_and_save_split pid=2308624)\u001b[0m /tmp/ipykernel_2308382/632661198.py:203: SettingWithCopyWarning: \n",
      "\u001b[2m\u001b[36m(process_and_save_split pid=2308624)\u001b[0m A value is trying to be set on a copy of a slice from a DataFrame.\n",
      "\u001b[2m\u001b[36m(process_and_save_split pid=2308624)\u001b[0m Try using .loc[row_indexer,col_indexer] = value instead\n",
      "\u001b[2m\u001b[36m(process_and_save_split pid=2308624)\u001b[0m \n",
      "\u001b[2m\u001b[36m(process_and_save_split pid=2308624)\u001b[0m See the caveats in the documentation: https://pandas.pydata.org/pandas-docs/stable/user_guide/indexing.html#returning-a-view-versus-a-copy\n",
      "\u001b[2m\u001b[36m(process_and_save_split pid=2308625)\u001b[0m /tmp/ipykernel_2308382/632661198.py:203: SettingWithCopyWarning: \n",
      "\u001b[2m\u001b[36m(process_and_save_split pid=2308625)\u001b[0m A value is trying to be set on a copy of a slice from a DataFrame.\n",
      "\u001b[2m\u001b[36m(process_and_save_split pid=2308625)\u001b[0m Try using .loc[row_indexer,col_indexer] = value instead\n",
      "\u001b[2m\u001b[36m(process_and_save_split pid=2308625)\u001b[0m \n",
      "\u001b[2m\u001b[36m(process_and_save_split pid=2308625)\u001b[0m See the caveats in the documentation: https://pandas.pydata.org/pandas-docs/stable/user_guide/indexing.html#returning-a-view-versus-a-copy\n",
      "\u001b[2m\u001b[36m(process_and_save_split pid=2308623)\u001b[0m /tmp/ipykernel_2308382/632661198.py:203: SettingWithCopyWarning: \u001b[32m [repeated 2x across cluster]\u001b[0m\n",
      "\u001b[2m\u001b[36m(process_and_save_split pid=2308623)\u001b[0m A value is trying to be set on a copy of a slice from a DataFrame.\u001b[32m [repeated 2x across cluster]\u001b[0m\n",
      "\u001b[2m\u001b[36m(process_and_save_split pid=2308623)\u001b[0m Try using .loc[row_indexer,col_indexer] = value instead\u001b[32m [repeated 2x across cluster]\u001b[0m\n",
      "\u001b[2m\u001b[36m(process_and_save_split pid=2308623)\u001b[0m \u001b[32m [repeated 2x across cluster]\u001b[0m\n",
      "\u001b[2m\u001b[36m(process_and_save_split pid=2308623)\u001b[0m See the caveats in the documentation: https://pandas.pydata.org/pandas-docs/stable/user_guide/indexing.html#returning-a-view-versus-a-copy\u001b[32m [repeated 2x across cluster]\u001b[0m\n",
      "\u001b[2m\u001b[36m(process_and_save_split pid=2308620)\u001b[0m /tmp/ipykernel_2308382/632661198.py:203: SettingWithCopyWarning: \n",
      "\u001b[2m\u001b[36m(process_and_save_split pid=2308620)\u001b[0m A value is trying to be set on a copy of a slice from a DataFrame.\n",
      "\u001b[2m\u001b[36m(process_and_save_split pid=2308620)\u001b[0m Try using .loc[row_indexer,col_indexer] = value instead\n",
      "\u001b[2m\u001b[36m(process_and_save_split pid=2308620)\u001b[0m \n",
      "\u001b[2m\u001b[36m(process_and_save_split pid=2308620)\u001b[0m See the caveats in the documentation: https://pandas.pydata.org/pandas-docs/stable/user_guide/indexing.html#returning-a-view-versus-a-copy\n",
      "\u001b[2m\u001b[36m(process_and_save_split pid=2308629)\u001b[0m /tmp/ipykernel_2308382/632661198.py:203: SettingWithCopyWarning: \n",
      "\u001b[2m\u001b[36m(process_and_save_split pid=2308629)\u001b[0m A value is trying to be set on a copy of a slice from a DataFrame.\n",
      "\u001b[2m\u001b[36m(process_and_save_split pid=2308629)\u001b[0m Try using .loc[row_indexer,col_indexer] = value instead\n",
      "\u001b[2m\u001b[36m(process_and_save_split pid=2308629)\u001b[0m \n",
      "\u001b[2m\u001b[36m(process_and_save_split pid=2308629)\u001b[0m See the caveats in the documentation: https://pandas.pydata.org/pandas-docs/stable/user_guide/indexing.html#returning-a-view-versus-a-copy\n",
      "\u001b[2m\u001b[36m(process_and_save_split pid=2308615)\u001b[0m /tmp/ipykernel_2308382/632661198.py:203: SettingWithCopyWarning: \n",
      "\u001b[2m\u001b[36m(process_and_save_split pid=2308615)\u001b[0m A value is trying to be set on a copy of a slice from a DataFrame.\n",
      "\u001b[2m\u001b[36m(process_and_save_split pid=2308615)\u001b[0m Try using .loc[row_indexer,col_indexer] = value instead\n",
      "\u001b[2m\u001b[36m(process_and_save_split pid=2308615)\u001b[0m \n",
      "\u001b[2m\u001b[36m(process_and_save_split pid=2308615)\u001b[0m See the caveats in the documentation: https://pandas.pydata.org/pandas-docs/stable/user_guide/indexing.html#returning-a-view-versus-a-copy\n",
      "\u001b[2m\u001b[36m(process_and_save_split pid=2308619)\u001b[0m /tmp/ipykernel_2308382/632661198.py:203: SettingWithCopyWarning: \n",
      "\u001b[2m\u001b[36m(process_and_save_split pid=2308619)\u001b[0m A value is trying to be set on a copy of a slice from a DataFrame.\n",
      "\u001b[2m\u001b[36m(process_and_save_split pid=2308619)\u001b[0m Try using .loc[row_indexer,col_indexer] = value instead\n",
      "\u001b[2m\u001b[36m(process_and_save_split pid=2308619)\u001b[0m \n",
      "\u001b[2m\u001b[36m(process_and_save_split pid=2308619)\u001b[0m See the caveats in the documentation: https://pandas.pydata.org/pandas-docs/stable/user_guide/indexing.html#returning-a-view-versus-a-copy\n",
      "\u001b[2m\u001b[36m(process_and_save_split pid=2308622)\u001b[0m /tmp/ipykernel_2308382/632661198.py:203: SettingWithCopyWarning: \n",
      "\u001b[2m\u001b[36m(process_and_save_split pid=2308622)\u001b[0m A value is trying to be set on a copy of a slice from a DataFrame.\n",
      "\u001b[2m\u001b[36m(process_and_save_split pid=2308622)\u001b[0m Try using .loc[row_indexer,col_indexer] = value instead\n",
      "\u001b[2m\u001b[36m(process_and_save_split pid=2308622)\u001b[0m \n",
      "\u001b[2m\u001b[36m(process_and_save_split pid=2308622)\u001b[0m See the caveats in the documentation: https://pandas.pydata.org/pandas-docs/stable/user_guide/indexing.html#returning-a-view-versus-a-copy\n",
      "\u001b[2m\u001b[36m(process_and_save_split pid=2308617)\u001b[0m /tmp/ipykernel_2308382/632661198.py:203: SettingWithCopyWarning: \n",
      "\u001b[2m\u001b[36m(process_and_save_split pid=2308617)\u001b[0m A value is trying to be set on a copy of a slice from a DataFrame.\n",
      "\u001b[2m\u001b[36m(process_and_save_split pid=2308617)\u001b[0m Try using .loc[row_indexer,col_indexer] = value instead\n",
      "\u001b[2m\u001b[36m(process_and_save_split pid=2308617)\u001b[0m \n",
      "\u001b[2m\u001b[36m(process_and_save_split pid=2308617)\u001b[0m See the caveats in the documentation: https://pandas.pydata.org/pandas-docs/stable/user_guide/indexing.html#returning-a-view-versus-a-copy\n",
      "\u001b[2m\u001b[36m(process_and_save_split pid=2308627)\u001b[0m /tmp/ipykernel_2308382/632661198.py:203: SettingWithCopyWarning: \n",
      "\u001b[2m\u001b[36m(process_and_save_split pid=2308627)\u001b[0m A value is trying to be set on a copy of a slice from a DataFrame.\n",
      "\u001b[2m\u001b[36m(process_and_save_split pid=2308627)\u001b[0m Try using .loc[row_indexer,col_indexer] = value instead\n",
      "\u001b[2m\u001b[36m(process_and_save_split pid=2308627)\u001b[0m \n",
      "\u001b[2m\u001b[36m(process_and_save_split pid=2308627)\u001b[0m See the caveats in the documentation: https://pandas.pydata.org/pandas-docs/stable/user_guide/indexing.html#returning-a-view-versus-a-copy\n",
      "\u001b[2m\u001b[36m(process_and_save_split pid=2308621)\u001b[0m /tmp/ipykernel_2308382/632661198.py:203: SettingWithCopyWarning: \n",
      "\u001b[2m\u001b[36m(process_and_save_split pid=2308621)\u001b[0m A value is trying to be set on a copy of a slice from a DataFrame.\n",
      "\u001b[2m\u001b[36m(process_and_save_split pid=2308621)\u001b[0m Try using .loc[row_indexer,col_indexer] = value instead\n",
      "\u001b[2m\u001b[36m(process_and_save_split pid=2308621)\u001b[0m \n",
      "\u001b[2m\u001b[36m(process_and_save_split pid=2308621)\u001b[0m See the caveats in the documentation: https://pandas.pydata.org/pandas-docs/stable/user_guide/indexing.html#returning-a-view-versus-a-copy\n",
      "\u001b[2m\u001b[36m(process_and_save_split pid=2308630)\u001b[0m /tmp/ipykernel_2308382/632661198.py:203: SettingWithCopyWarning: \u001b[32m [repeated 2x across cluster]\u001b[0m\n",
      "\u001b[2m\u001b[36m(process_and_save_split pid=2308630)\u001b[0m A value is trying to be set on a copy of a slice from a DataFrame.\u001b[32m [repeated 2x across cluster]\u001b[0m\n",
      "\u001b[2m\u001b[36m(process_and_save_split pid=2308630)\u001b[0m Try using .loc[row_indexer,col_indexer] = value instead\u001b[32m [repeated 2x across cluster]\u001b[0m\n",
      "\u001b[2m\u001b[36m(process_and_save_split pid=2308630)\u001b[0m \u001b[32m [repeated 2x across cluster]\u001b[0m\n",
      "\u001b[2m\u001b[36m(process_and_save_split pid=2308630)\u001b[0m See the caveats in the documentation: https://pandas.pydata.org/pandas-docs/stable/user_guide/indexing.html#returning-a-view-versus-a-copy\u001b[32m [repeated 2x across cluster]\u001b[0m\n"
     ]
    },
    {
     "name": "stderr",
     "output_type": "stream",
     "text": [
      "\u001b[2m\u001b[36m(process_and_save_split pid=2308616)\u001b[0m /tmp/ipykernel_2308382/632661198.py:203: SettingWithCopyWarning: \n",
      "\u001b[2m\u001b[36m(process_and_save_split pid=2308616)\u001b[0m A value is trying to be set on a copy of a slice from a DataFrame.\n",
      "\u001b[2m\u001b[36m(process_and_save_split pid=2308616)\u001b[0m Try using .loc[row_indexer,col_indexer] = value instead\n",
      "\u001b[2m\u001b[36m(process_and_save_split pid=2308616)\u001b[0m \n",
      "\u001b[2m\u001b[36m(process_and_save_split pid=2308616)\u001b[0m See the caveats in the documentation: https://pandas.pydata.org/pandas-docs/stable/user_guide/indexing.html#returning-a-view-versus-a-copy\n",
      "\u001b[2m\u001b[36m(process_and_save_split pid=2308624)\u001b[0m /tmp/ipykernel_2308382/632661198.py:203: SettingWithCopyWarning: \n",
      "\u001b[2m\u001b[36m(process_and_save_split pid=2308624)\u001b[0m A value is trying to be set on a copy of a slice from a DataFrame.\n",
      "\u001b[2m\u001b[36m(process_and_save_split pid=2308624)\u001b[0m Try using .loc[row_indexer,col_indexer] = value instead\n",
      "\u001b[2m\u001b[36m(process_and_save_split pid=2308624)\u001b[0m \n",
      "\u001b[2m\u001b[36m(process_and_save_split pid=2308624)\u001b[0m See the caveats in the documentation: https://pandas.pydata.org/pandas-docs/stable/user_guide/indexing.html#returning-a-view-versus-a-copy\n",
      "\u001b[2m\u001b[36m(process_and_save_split pid=2308625)\u001b[0m /tmp/ipykernel_2308382/632661198.py:203: SettingWithCopyWarning: \n",
      "\u001b[2m\u001b[36m(process_and_save_split pid=2308625)\u001b[0m A value is trying to be set on a copy of a slice from a DataFrame.\n",
      "\u001b[2m\u001b[36m(process_and_save_split pid=2308625)\u001b[0m Try using .loc[row_indexer,col_indexer] = value instead\n",
      "\u001b[2m\u001b[36m(process_and_save_split pid=2308625)\u001b[0m \n",
      "\u001b[2m\u001b[36m(process_and_save_split pid=2308625)\u001b[0m See the caveats in the documentation: https://pandas.pydata.org/pandas-docs/stable/user_guide/indexing.html#returning-a-view-versus-a-copy\n",
      "\u001b[2m\u001b[36m(process_and_save_split pid=2308626)\u001b[0m /tmp/ipykernel_2308382/632661198.py:203: SettingWithCopyWarning: \n",
      "\u001b[2m\u001b[36m(process_and_save_split pid=2308626)\u001b[0m A value is trying to be set on a copy of a slice from a DataFrame.\n",
      "\u001b[2m\u001b[36m(process_and_save_split pid=2308626)\u001b[0m Try using .loc[row_indexer,col_indexer] = value instead\n",
      "\u001b[2m\u001b[36m(process_and_save_split pid=2308626)\u001b[0m \n",
      "\u001b[2m\u001b[36m(process_and_save_split pid=2308626)\u001b[0m See the caveats in the documentation: https://pandas.pydata.org/pandas-docs/stable/user_guide/indexing.html#returning-a-view-versus-a-copy\n",
      "\u001b[2m\u001b[36m(process_and_save_split pid=2308623)\u001b[0m /tmp/ipykernel_2308382/632661198.py:203: SettingWithCopyWarning: \n",
      "\u001b[2m\u001b[36m(process_and_save_split pid=2308623)\u001b[0m A value is trying to be set on a copy of a slice from a DataFrame.\n",
      "\u001b[2m\u001b[36m(process_and_save_split pid=2308623)\u001b[0m Try using .loc[row_indexer,col_indexer] = value instead\n",
      "\u001b[2m\u001b[36m(process_and_save_split pid=2308623)\u001b[0m \n",
      "\u001b[2m\u001b[36m(process_and_save_split pid=2308623)\u001b[0m See the caveats in the documentation: https://pandas.pydata.org/pandas-docs/stable/user_guide/indexing.html#returning-a-view-versus-a-copy\n",
      "\u001b[2m\u001b[36m(process_and_save_split pid=2308628)\u001b[0m /tmp/ipykernel_2308382/632661198.py:203: SettingWithCopyWarning: \n",
      "\u001b[2m\u001b[36m(process_and_save_split pid=2308628)\u001b[0m A value is trying to be set on a copy of a slice from a DataFrame.\n",
      "\u001b[2m\u001b[36m(process_and_save_split pid=2308628)\u001b[0m Try using .loc[row_indexer,col_indexer] = value instead\n",
      "\u001b[2m\u001b[36m(process_and_save_split pid=2308628)\u001b[0m \n",
      "\u001b[2m\u001b[36m(process_and_save_split pid=2308628)\u001b[0m See the caveats in the documentation: https://pandas.pydata.org/pandas-docs/stable/user_guide/indexing.html#returning-a-view-versus-a-copy\n",
      "\u001b[2m\u001b[36m(process_and_save_split pid=2308615)\u001b[0m /tmp/ipykernel_2308382/632661198.py:203: SettingWithCopyWarning: \u001b[32m [repeated 2x across cluster]\u001b[0m\n",
      "\u001b[2m\u001b[36m(process_and_save_split pid=2308615)\u001b[0m A value is trying to be set on a copy of a slice from a DataFrame.\u001b[32m [repeated 2x across cluster]\u001b[0m\n",
      "\u001b[2m\u001b[36m(process_and_save_split pid=2308615)\u001b[0m Try using .loc[row_indexer,col_indexer] = value instead\u001b[32m [repeated 2x across cluster]\u001b[0m\n",
      "\u001b[2m\u001b[36m(process_and_save_split pid=2308615)\u001b[0m \u001b[32m [repeated 2x across cluster]\u001b[0m\n",
      "\u001b[2m\u001b[36m(process_and_save_split pid=2308615)\u001b[0m See the caveats in the documentation: https://pandas.pydata.org/pandas-docs/stable/user_guide/indexing.html#returning-a-view-versus-a-copy\u001b[32m [repeated 2x across cluster]\u001b[0m\n",
      "\u001b[2m\u001b[36m(process_and_save_split pid=2308620)\u001b[0m /tmp/ipykernel_2308382/632661198.py:203: SettingWithCopyWarning: \n",
      "\u001b[2m\u001b[36m(process_and_save_split pid=2308620)\u001b[0m A value is trying to be set on a copy of a slice from a DataFrame.\n",
      "\u001b[2m\u001b[36m(process_and_save_split pid=2308620)\u001b[0m Try using .loc[row_indexer,col_indexer] = value instead\n",
      "\u001b[2m\u001b[36m(process_and_save_split pid=2308620)\u001b[0m \n",
      "\u001b[2m\u001b[36m(process_and_save_split pid=2308620)\u001b[0m See the caveats in the documentation: https://pandas.pydata.org/pandas-docs/stable/user_guide/indexing.html#returning-a-view-versus-a-copy\n",
      "\u001b[2m\u001b[36m(process_and_save_split pid=2308622)\u001b[0m /tmp/ipykernel_2308382/632661198.py:203: SettingWithCopyWarning: \n",
      "\u001b[2m\u001b[36m(process_and_save_split pid=2308622)\u001b[0m A value is trying to be set on a copy of a slice from a DataFrame.\n",
      "\u001b[2m\u001b[36m(process_and_save_split pid=2308622)\u001b[0m Try using .loc[row_indexer,col_indexer] = value instead\n",
      "\u001b[2m\u001b[36m(process_and_save_split pid=2308622)\u001b[0m \n",
      "\u001b[2m\u001b[36m(process_and_save_split pid=2308622)\u001b[0m See the caveats in the documentation: https://pandas.pydata.org/pandas-docs/stable/user_guide/indexing.html#returning-a-view-versus-a-copy\n",
      "\u001b[2m\u001b[36m(process_and_save_split pid=2308618)\u001b[0m /tmp/ipykernel_2308382/632661198.py:203: SettingWithCopyWarning: \n",
      "\u001b[2m\u001b[36m(process_and_save_split pid=2308618)\u001b[0m A value is trying to be set on a copy of a slice from a DataFrame.\n",
      "\u001b[2m\u001b[36m(process_and_save_split pid=2308618)\u001b[0m Try using .loc[row_indexer,col_indexer] = value instead\n",
      "\u001b[2m\u001b[36m(process_and_save_split pid=2308618)\u001b[0m \n",
      "\u001b[2m\u001b[36m(process_and_save_split pid=2308618)\u001b[0m See the caveats in the documentation: https://pandas.pydata.org/pandas-docs/stable/user_guide/indexing.html#returning-a-view-versus-a-copy\n",
      "\u001b[2m\u001b[36m(process_and_save_split pid=2308619)\u001b[0m /tmp/ipykernel_2308382/632661198.py:203: SettingWithCopyWarning: \n",
      "\u001b[2m\u001b[36m(process_and_save_split pid=2308619)\u001b[0m A value is trying to be set on a copy of a slice from a DataFrame.\n",
      "\u001b[2m\u001b[36m(process_and_save_split pid=2308619)\u001b[0m Try using .loc[row_indexer,col_indexer] = value instead\n",
      "\u001b[2m\u001b[36m(process_and_save_split pid=2308619)\u001b[0m \n",
      "\u001b[2m\u001b[36m(process_and_save_split pid=2308619)\u001b[0m See the caveats in the documentation: https://pandas.pydata.org/pandas-docs/stable/user_guide/indexing.html#returning-a-view-versus-a-copy\n",
      "\u001b[2m\u001b[36m(process_and_save_split pid=2308621)\u001b[0m /tmp/ipykernel_2308382/632661198.py:203: SettingWithCopyWarning: \u001b[32m [repeated 2x across cluster]\u001b[0m\n",
      "\u001b[2m\u001b[36m(process_and_save_split pid=2308621)\u001b[0m A value is trying to be set on a copy of a slice from a DataFrame.\u001b[32m [repeated 2x across cluster]\u001b[0m\n",
      "\u001b[2m\u001b[36m(process_and_save_split pid=2308621)\u001b[0m Try using .loc[row_indexer,col_indexer] = value instead\u001b[32m [repeated 2x across cluster]\u001b[0m\n",
      "\u001b[2m\u001b[36m(process_and_save_split pid=2308621)\u001b[0m \u001b[32m [repeated 2x across cluster]\u001b[0m\n",
      "\u001b[2m\u001b[36m(process_and_save_split pid=2308621)\u001b[0m See the caveats in the documentation: https://pandas.pydata.org/pandas-docs/stable/user_guide/indexing.html#returning-a-view-versus-a-copy\u001b[32m [repeated 2x across cluster]\u001b[0m\n",
      "\u001b[2m\u001b[36m(process_and_save_split pid=2308630)\u001b[0m /tmp/ipykernel_2308382/632661198.py:203: SettingWithCopyWarning: \u001b[32m [repeated 2x across cluster]\u001b[0m\n",
      "\u001b[2m\u001b[36m(process_and_save_split pid=2308630)\u001b[0m A value is trying to be set on a copy of a slice from a DataFrame.\u001b[32m [repeated 2x across cluster]\u001b[0m\n",
      "\u001b[2m\u001b[36m(process_and_save_split pid=2308630)\u001b[0m Try using .loc[row_indexer,col_indexer] = value instead\u001b[32m [repeated 2x across cluster]\u001b[0m\n",
      "\u001b[2m\u001b[36m(process_and_save_split pid=2308630)\u001b[0m \u001b[32m [repeated 2x across cluster]\u001b[0m\n",
      "\u001b[2m\u001b[36m(process_and_save_split pid=2308630)\u001b[0m See the caveats in the documentation: https://pandas.pydata.org/pandas-docs/stable/user_guide/indexing.html#returning-a-view-versus-a-copy\u001b[32m [repeated 2x across cluster]\u001b[0m\n",
      "\u001b[2m\u001b[36m(process_and_save_split pid=2308616)\u001b[0m /tmp/ipykernel_2308382/632661198.py:203: SettingWithCopyWarning: \n",
      "\u001b[2m\u001b[36m(process_and_save_split pid=2308616)\u001b[0m A value is trying to be set on a copy of a slice from a DataFrame.\n",
      "\u001b[2m\u001b[36m(process_and_save_split pid=2308616)\u001b[0m Try using .loc[row_indexer,col_indexer] = value instead\n",
      "\u001b[2m\u001b[36m(process_and_save_split pid=2308616)\u001b[0m \n",
      "\u001b[2m\u001b[36m(process_and_save_split pid=2308616)\u001b[0m See the caveats in the documentation: https://pandas.pydata.org/pandas-docs/stable/user_guide/indexing.html#returning-a-view-versus-a-copy\n"
     ]
    },
    {
     "name": "stderr",
     "output_type": "stream",
     "text": [
      "\u001b[2m\u001b[36m(process_and_save_split pid=2308625)\u001b[0m /tmp/ipykernel_2308382/632661198.py:203: SettingWithCopyWarning: \n",
      "\u001b[2m\u001b[36m(process_and_save_split pid=2308625)\u001b[0m A value is trying to be set on a copy of a slice from a DataFrame.\n",
      "\u001b[2m\u001b[36m(process_and_save_split pid=2308625)\u001b[0m Try using .loc[row_indexer,col_indexer] = value instead\n",
      "\u001b[2m\u001b[36m(process_and_save_split pid=2308625)\u001b[0m \n",
      "\u001b[2m\u001b[36m(process_and_save_split pid=2308625)\u001b[0m See the caveats in the documentation: https://pandas.pydata.org/pandas-docs/stable/user_guide/indexing.html#returning-a-view-versus-a-copy\n",
      "\u001b[2m\u001b[36m(process_and_save_split pid=2308626)\u001b[0m /tmp/ipykernel_2308382/632661198.py:203: SettingWithCopyWarning: \n",
      "\u001b[2m\u001b[36m(process_and_save_split pid=2308626)\u001b[0m A value is trying to be set on a copy of a slice from a DataFrame.\n",
      "\u001b[2m\u001b[36m(process_and_save_split pid=2308626)\u001b[0m Try using .loc[row_indexer,col_indexer] = value instead\n",
      "\u001b[2m\u001b[36m(process_and_save_split pid=2308626)\u001b[0m \n",
      "\u001b[2m\u001b[36m(process_and_save_split pid=2308626)\u001b[0m See the caveats in the documentation: https://pandas.pydata.org/pandas-docs/stable/user_guide/indexing.html#returning-a-view-versus-a-copy\n",
      "\u001b[2m\u001b[36m(process_and_save_split pid=2308624)\u001b[0m /tmp/ipykernel_2308382/632661198.py:203: SettingWithCopyWarning: \n",
      "\u001b[2m\u001b[36m(process_and_save_split pid=2308624)\u001b[0m A value is trying to be set on a copy of a slice from a DataFrame.\n",
      "\u001b[2m\u001b[36m(process_and_save_split pid=2308624)\u001b[0m Try using .loc[row_indexer,col_indexer] = value instead\n",
      "\u001b[2m\u001b[36m(process_and_save_split pid=2308624)\u001b[0m \n",
      "\u001b[2m\u001b[36m(process_and_save_split pid=2308624)\u001b[0m See the caveats in the documentation: https://pandas.pydata.org/pandas-docs/stable/user_guide/indexing.html#returning-a-view-versus-a-copy\n",
      "\u001b[2m\u001b[36m(process_and_save_split pid=2308628)\u001b[0m /tmp/ipykernel_2308382/632661198.py:203: SettingWithCopyWarning: \n",
      "\u001b[2m\u001b[36m(process_and_save_split pid=2308628)\u001b[0m A value is trying to be set on a copy of a slice from a DataFrame.\n",
      "\u001b[2m\u001b[36m(process_and_save_split pid=2308628)\u001b[0m Try using .loc[row_indexer,col_indexer] = value instead\n",
      "\u001b[2m\u001b[36m(process_and_save_split pid=2308628)\u001b[0m \n",
      "\u001b[2m\u001b[36m(process_and_save_split pid=2308628)\u001b[0m See the caveats in the documentation: https://pandas.pydata.org/pandas-docs/stable/user_guide/indexing.html#returning-a-view-versus-a-copy\n",
      "\u001b[2m\u001b[36m(process_and_save_split pid=2308629)\u001b[0m /tmp/ipykernel_2308382/632661198.py:203: SettingWithCopyWarning: \n",
      "\u001b[2m\u001b[36m(process_and_save_split pid=2308629)\u001b[0m A value is trying to be set on a copy of a slice from a DataFrame.\n",
      "\u001b[2m\u001b[36m(process_and_save_split pid=2308629)\u001b[0m Try using .loc[row_indexer,col_indexer] = value instead\n",
      "\u001b[2m\u001b[36m(process_and_save_split pid=2308629)\u001b[0m \n",
      "\u001b[2m\u001b[36m(process_and_save_split pid=2308629)\u001b[0m See the caveats in the documentation: https://pandas.pydata.org/pandas-docs/stable/user_guide/indexing.html#returning-a-view-versus-a-copy\n",
      "\u001b[2m\u001b[36m(process_and_save_split pid=2308623)\u001b[0m /tmp/ipykernel_2308382/632661198.py:203: SettingWithCopyWarning: \n",
      "\u001b[2m\u001b[36m(process_and_save_split pid=2308623)\u001b[0m A value is trying to be set on a copy of a slice from a DataFrame.\n",
      "\u001b[2m\u001b[36m(process_and_save_split pid=2308623)\u001b[0m Try using .loc[row_indexer,col_indexer] = value instead\n",
      "\u001b[2m\u001b[36m(process_and_save_split pid=2308623)\u001b[0m \n",
      "\u001b[2m\u001b[36m(process_and_save_split pid=2308623)\u001b[0m See the caveats in the documentation: https://pandas.pydata.org/pandas-docs/stable/user_guide/indexing.html#returning-a-view-versus-a-copy\n",
      "\u001b[2m\u001b[36m(process_and_save_split pid=2308620)\u001b[0m /tmp/ipykernel_2308382/632661198.py:203: SettingWithCopyWarning: \n",
      "\u001b[2m\u001b[36m(process_and_save_split pid=2308620)\u001b[0m A value is trying to be set on a copy of a slice from a DataFrame.\n",
      "\u001b[2m\u001b[36m(process_and_save_split pid=2308620)\u001b[0m Try using .loc[row_indexer,col_indexer] = value instead\n",
      "\u001b[2m\u001b[36m(process_and_save_split pid=2308620)\u001b[0m \n",
      "\u001b[2m\u001b[36m(process_and_save_split pid=2308620)\u001b[0m See the caveats in the documentation: https://pandas.pydata.org/pandas-docs/stable/user_guide/indexing.html#returning-a-view-versus-a-copy\n",
      "\u001b[2m\u001b[36m(process_and_save_split pid=2308627)\u001b[0m /tmp/ipykernel_2308382/632661198.py:203: SettingWithCopyWarning: \u001b[32m [repeated 2x across cluster]\u001b[0m\n",
      "\u001b[2m\u001b[36m(process_and_save_split pid=2308627)\u001b[0m A value is trying to be set on a copy of a slice from a DataFrame.\u001b[32m [repeated 2x across cluster]\u001b[0m\n",
      "\u001b[2m\u001b[36m(process_and_save_split pid=2308627)\u001b[0m Try using .loc[row_indexer,col_indexer] = value instead\u001b[32m [repeated 2x across cluster]\u001b[0m\n",
      "\u001b[2m\u001b[36m(process_and_save_split pid=2308627)\u001b[0m \u001b[32m [repeated 2x across cluster]\u001b[0m\n",
      "\u001b[2m\u001b[36m(process_and_save_split pid=2308627)\u001b[0m See the caveats in the documentation: https://pandas.pydata.org/pandas-docs/stable/user_guide/indexing.html#returning-a-view-versus-a-copy\u001b[32m [repeated 2x across cluster]\u001b[0m\n",
      "\u001b[2m\u001b[36m(process_and_save_split pid=2308618)\u001b[0m /tmp/ipykernel_2308382/632661198.py:203: SettingWithCopyWarning: \u001b[32m [repeated 3x across cluster]\u001b[0m\n",
      "\u001b[2m\u001b[36m(process_and_save_split pid=2308618)\u001b[0m A value is trying to be set on a copy of a slice from a DataFrame.\u001b[32m [repeated 3x across cluster]\u001b[0m\n",
      "\u001b[2m\u001b[36m(process_and_save_split pid=2308618)\u001b[0m Try using .loc[row_indexer,col_indexer] = value instead\u001b[32m [repeated 3x across cluster]\u001b[0m\n",
      "\u001b[2m\u001b[36m(process_and_save_split pid=2308618)\u001b[0m \u001b[32m [repeated 3x across cluster]\u001b[0m\n",
      "\u001b[2m\u001b[36m(process_and_save_split pid=2308618)\u001b[0m See the caveats in the documentation: https://pandas.pydata.org/pandas-docs/stable/user_guide/indexing.html#returning-a-view-versus-a-copy\u001b[32m [repeated 3x across cluster]\u001b[0m\n",
      "\u001b[2m\u001b[36m(process_and_save_split pid=2308621)\u001b[0m /tmp/ipykernel_2308382/632661198.py:203: SettingWithCopyWarning: \n",
      "\u001b[2m\u001b[36m(process_and_save_split pid=2308621)\u001b[0m A value is trying to be set on a copy of a slice from a DataFrame.\n",
      "\u001b[2m\u001b[36m(process_and_save_split pid=2308621)\u001b[0m Try using .loc[row_indexer,col_indexer] = value instead\n",
      "\u001b[2m\u001b[36m(process_and_save_split pid=2308621)\u001b[0m \n",
      "\u001b[2m\u001b[36m(process_and_save_split pid=2308621)\u001b[0m See the caveats in the documentation: https://pandas.pydata.org/pandas-docs/stable/user_guide/indexing.html#returning-a-view-versus-a-copy\n",
      "\u001b[2m\u001b[36m(process_and_save_split pid=2308616)\u001b[0m /tmp/ipykernel_2308382/632661198.py:203: SettingWithCopyWarning: \n",
      "\u001b[2m\u001b[36m(process_and_save_split pid=2308616)\u001b[0m A value is trying to be set on a copy of a slice from a DataFrame.\n",
      "\u001b[2m\u001b[36m(process_and_save_split pid=2308616)\u001b[0m Try using .loc[row_indexer,col_indexer] = value instead\n",
      "\u001b[2m\u001b[36m(process_and_save_split pid=2308616)\u001b[0m \n",
      "\u001b[2m\u001b[36m(process_and_save_split pid=2308616)\u001b[0m See the caveats in the documentation: https://pandas.pydata.org/pandas-docs/stable/user_guide/indexing.html#returning-a-view-versus-a-copy\n",
      "\u001b[2m\u001b[36m(process_and_save_split pid=2308626)\u001b[0m /tmp/ipykernel_2308382/632661198.py:203: SettingWithCopyWarning: \n",
      "\u001b[2m\u001b[36m(process_and_save_split pid=2308626)\u001b[0m A value is trying to be set on a copy of a slice from a DataFrame.\n",
      "\u001b[2m\u001b[36m(process_and_save_split pid=2308626)\u001b[0m Try using .loc[row_indexer,col_indexer] = value instead\n",
      "\u001b[2m\u001b[36m(process_and_save_split pid=2308626)\u001b[0m \n",
      "\u001b[2m\u001b[36m(process_and_save_split pid=2308626)\u001b[0m See the caveats in the documentation: https://pandas.pydata.org/pandas-docs/stable/user_guide/indexing.html#returning-a-view-versus-a-copy\n",
      "\u001b[2m\u001b[36m(process_and_save_split pid=2308630)\u001b[0m /tmp/ipykernel_2308382/632661198.py:203: SettingWithCopyWarning: \n",
      "\u001b[2m\u001b[36m(process_and_save_split pid=2308630)\u001b[0m A value is trying to be set on a copy of a slice from a DataFrame.\n",
      "\u001b[2m\u001b[36m(process_and_save_split pid=2308630)\u001b[0m Try using .loc[row_indexer,col_indexer] = value instead\n",
      "\u001b[2m\u001b[36m(process_and_save_split pid=2308630)\u001b[0m \n",
      "\u001b[2m\u001b[36m(process_and_save_split pid=2308630)\u001b[0m See the caveats in the documentation: https://pandas.pydata.org/pandas-docs/stable/user_guide/indexing.html#returning-a-view-versus-a-copy\n",
      "\u001b[2m\u001b[36m(process_and_save_split pid=2308629)\u001b[0m /tmp/ipykernel_2308382/632661198.py:203: SettingWithCopyWarning: \n",
      "\u001b[2m\u001b[36m(process_and_save_split pid=2308629)\u001b[0m A value is trying to be set on a copy of a slice from a DataFrame.\n",
      "\u001b[2m\u001b[36m(process_and_save_split pid=2308629)\u001b[0m Try using .loc[row_indexer,col_indexer] = value instead\n",
      "\u001b[2m\u001b[36m(process_and_save_split pid=2308629)\u001b[0m \n",
      "\u001b[2m\u001b[36m(process_and_save_split pid=2308629)\u001b[0m See the caveats in the documentation: https://pandas.pydata.org/pandas-docs/stable/user_guide/indexing.html#returning-a-view-versus-a-copy\n"
     ]
    },
    {
     "name": "stderr",
     "output_type": "stream",
     "text": [
      "\u001b[2m\u001b[36m(process_and_save_split pid=2308617)\u001b[0m /tmp/ipykernel_2308382/632661198.py:203: SettingWithCopyWarning: \n",
      "\u001b[2m\u001b[36m(process_and_save_split pid=2308617)\u001b[0m A value is trying to be set on a copy of a slice from a DataFrame.\n",
      "\u001b[2m\u001b[36m(process_and_save_split pid=2308617)\u001b[0m Try using .loc[row_indexer,col_indexer] = value instead\n",
      "\u001b[2m\u001b[36m(process_and_save_split pid=2308617)\u001b[0m \n",
      "\u001b[2m\u001b[36m(process_and_save_split pid=2308617)\u001b[0m See the caveats in the documentation: https://pandas.pydata.org/pandas-docs/stable/user_guide/indexing.html#returning-a-view-versus-a-copy\n",
      "\u001b[2m\u001b[36m(process_and_save_split pid=2308620)\u001b[0m /tmp/ipykernel_2308382/632661198.py:203: SettingWithCopyWarning: \u001b[32m [repeated 2x across cluster]\u001b[0m\n",
      "\u001b[2m\u001b[36m(process_and_save_split pid=2308620)\u001b[0m A value is trying to be set on a copy of a slice from a DataFrame.\u001b[32m [repeated 2x across cluster]\u001b[0m\n",
      "\u001b[2m\u001b[36m(process_and_save_split pid=2308620)\u001b[0m Try using .loc[row_indexer,col_indexer] = value instead\u001b[32m [repeated 2x across cluster]\u001b[0m\n",
      "\u001b[2m\u001b[36m(process_and_save_split pid=2308620)\u001b[0m \u001b[32m [repeated 2x across cluster]\u001b[0m\n",
      "\u001b[2m\u001b[36m(process_and_save_split pid=2308620)\u001b[0m See the caveats in the documentation: https://pandas.pydata.org/pandas-docs/stable/user_guide/indexing.html#returning-a-view-versus-a-copy\u001b[32m [repeated 2x across cluster]\u001b[0m\n",
      "\u001b[2m\u001b[36m(process_and_save_split pid=2308622)\u001b[0m /tmp/ipykernel_2308382/632661198.py:203: SettingWithCopyWarning: \u001b[32m [repeated 3x across cluster]\u001b[0m\n",
      "\u001b[2m\u001b[36m(process_and_save_split pid=2308622)\u001b[0m A value is trying to be set on a copy of a slice from a DataFrame.\u001b[32m [repeated 3x across cluster]\u001b[0m\n",
      "\u001b[2m\u001b[36m(process_and_save_split pid=2308622)\u001b[0m Try using .loc[row_indexer,col_indexer] = value instead\u001b[32m [repeated 3x across cluster]\u001b[0m\n",
      "\u001b[2m\u001b[36m(process_and_save_split pid=2308622)\u001b[0m \u001b[32m [repeated 3x across cluster]\u001b[0m\n",
      "\u001b[2m\u001b[36m(process_and_save_split pid=2308622)\u001b[0m See the caveats in the documentation: https://pandas.pydata.org/pandas-docs/stable/user_guide/indexing.html#returning-a-view-versus-a-copy\u001b[32m [repeated 3x across cluster]\u001b[0m\n",
      "\u001b[2m\u001b[36m(process_and_save_split pid=2308623)\u001b[0m /tmp/ipykernel_2308382/632661198.py:203: SettingWithCopyWarning: \n",
      "\u001b[2m\u001b[36m(process_and_save_split pid=2308623)\u001b[0m A value is trying to be set on a copy of a slice from a DataFrame.\n",
      "\u001b[2m\u001b[36m(process_and_save_split pid=2308623)\u001b[0m Try using .loc[row_indexer,col_indexer] = value instead\n",
      "\u001b[2m\u001b[36m(process_and_save_split pid=2308623)\u001b[0m \n",
      "\u001b[2m\u001b[36m(process_and_save_split pid=2308623)\u001b[0m See the caveats in the documentation: https://pandas.pydata.org/pandas-docs/stable/user_guide/indexing.html#returning-a-view-versus-a-copy\n",
      "\u001b[2m\u001b[36m(process_and_save_split pid=2308619)\u001b[0m /tmp/ipykernel_2308382/632661198.py:203: SettingWithCopyWarning: \n",
      "\u001b[2m\u001b[36m(process_and_save_split pid=2308619)\u001b[0m A value is trying to be set on a copy of a slice from a DataFrame.\n",
      "\u001b[2m\u001b[36m(process_and_save_split pid=2308619)\u001b[0m Try using .loc[row_indexer,col_indexer] = value instead\n",
      "\u001b[2m\u001b[36m(process_and_save_split pid=2308619)\u001b[0m \n",
      "\u001b[2m\u001b[36m(process_and_save_split pid=2308619)\u001b[0m See the caveats in the documentation: https://pandas.pydata.org/pandas-docs/stable/user_guide/indexing.html#returning-a-view-versus-a-copy\n",
      "\u001b[2m\u001b[36m(process_and_save_split pid=2308627)\u001b[0m /tmp/ipykernel_2308382/632661198.py:203: SettingWithCopyWarning: \n",
      "\u001b[2m\u001b[36m(process_and_save_split pid=2308627)\u001b[0m A value is trying to be set on a copy of a slice from a DataFrame.\n",
      "\u001b[2m\u001b[36m(process_and_save_split pid=2308627)\u001b[0m Try using .loc[row_indexer,col_indexer] = value instead\n",
      "\u001b[2m\u001b[36m(process_and_save_split pid=2308627)\u001b[0m \n",
      "\u001b[2m\u001b[36m(process_and_save_split pid=2308627)\u001b[0m See the caveats in the documentation: https://pandas.pydata.org/pandas-docs/stable/user_guide/indexing.html#returning-a-view-versus-a-copy\n",
      "\u001b[2m\u001b[36m(process_and_save_split pid=2308615)\u001b[0m /tmp/ipykernel_2308382/632661198.py:203: SettingWithCopyWarning: \n",
      "\u001b[2m\u001b[36m(process_and_save_split pid=2308615)\u001b[0m A value is trying to be set on a copy of a slice from a DataFrame.\n",
      "\u001b[2m\u001b[36m(process_and_save_split pid=2308615)\u001b[0m Try using .loc[row_indexer,col_indexer] = value instead\n",
      "\u001b[2m\u001b[36m(process_and_save_split pid=2308615)\u001b[0m \n",
      "\u001b[2m\u001b[36m(process_and_save_split pid=2308615)\u001b[0m See the caveats in the documentation: https://pandas.pydata.org/pandas-docs/stable/user_guide/indexing.html#returning-a-view-versus-a-copy\n",
      "\u001b[2m\u001b[36m(process_and_save_split pid=2308618)\u001b[0m /tmp/ipykernel_2308382/632661198.py:203: SettingWithCopyWarning: \n",
      "\u001b[2m\u001b[36m(process_and_save_split pid=2308618)\u001b[0m A value is trying to be set on a copy of a slice from a DataFrame.\n",
      "\u001b[2m\u001b[36m(process_and_save_split pid=2308618)\u001b[0m Try using .loc[row_indexer,col_indexer] = value instead\n",
      "\u001b[2m\u001b[36m(process_and_save_split pid=2308618)\u001b[0m \n",
      "\u001b[2m\u001b[36m(process_and_save_split pid=2308618)\u001b[0m See the caveats in the documentation: https://pandas.pydata.org/pandas-docs/stable/user_guide/indexing.html#returning-a-view-versus-a-copy\n",
      "\u001b[2m\u001b[36m(process_and_save_split pid=2308621)\u001b[0m /tmp/ipykernel_2308382/632661198.py:203: SettingWithCopyWarning: \n",
      "\u001b[2m\u001b[36m(process_and_save_split pid=2308621)\u001b[0m A value is trying to be set on a copy of a slice from a DataFrame.\n",
      "\u001b[2m\u001b[36m(process_and_save_split pid=2308621)\u001b[0m Try using .loc[row_indexer,col_indexer] = value instead\n",
      "\u001b[2m\u001b[36m(process_and_save_split pid=2308621)\u001b[0m \n",
      "\u001b[2m\u001b[36m(process_and_save_split pid=2308621)\u001b[0m See the caveats in the documentation: https://pandas.pydata.org/pandas-docs/stable/user_guide/indexing.html#returning-a-view-versus-a-copy\n",
      "\u001b[2m\u001b[36m(process_and_save_split pid=2308616)\u001b[0m /tmp/ipykernel_2308382/632661198.py:203: SettingWithCopyWarning: \n",
      "\u001b[2m\u001b[36m(process_and_save_split pid=2308616)\u001b[0m A value is trying to be set on a copy of a slice from a DataFrame.\n",
      "\u001b[2m\u001b[36m(process_and_save_split pid=2308616)\u001b[0m Try using .loc[row_indexer,col_indexer] = value instead\n",
      "\u001b[2m\u001b[36m(process_and_save_split pid=2308616)\u001b[0m \n",
      "\u001b[2m\u001b[36m(process_and_save_split pid=2308616)\u001b[0m See the caveats in the documentation: https://pandas.pydata.org/pandas-docs/stable/user_guide/indexing.html#returning-a-view-versus-a-copy\n",
      "\u001b[2m\u001b[36m(process_and_save_split pid=2308626)\u001b[0m /tmp/ipykernel_2308382/632661198.py:203: SettingWithCopyWarning: \n",
      "\u001b[2m\u001b[36m(process_and_save_split pid=2308626)\u001b[0m A value is trying to be set on a copy of a slice from a DataFrame.\n",
      "\u001b[2m\u001b[36m(process_and_save_split pid=2308626)\u001b[0m Try using .loc[row_indexer,col_indexer] = value instead\n",
      "\u001b[2m\u001b[36m(process_and_save_split pid=2308626)\u001b[0m \n",
      "\u001b[2m\u001b[36m(process_and_save_split pid=2308626)\u001b[0m See the caveats in the documentation: https://pandas.pydata.org/pandas-docs/stable/user_guide/indexing.html#returning-a-view-versus-a-copy\n",
      "\u001b[2m\u001b[36m(process_and_save_split pid=2308625)\u001b[0m /tmp/ipykernel_2308382/632661198.py:203: SettingWithCopyWarning: \n",
      "\u001b[2m\u001b[36m(process_and_save_split pid=2308625)\u001b[0m A value is trying to be set on a copy of a slice from a DataFrame.\n",
      "\u001b[2m\u001b[36m(process_and_save_split pid=2308625)\u001b[0m Try using .loc[row_indexer,col_indexer] = value instead\n",
      "\u001b[2m\u001b[36m(process_and_save_split pid=2308625)\u001b[0m \n",
      "\u001b[2m\u001b[36m(process_and_save_split pid=2308625)\u001b[0m See the caveats in the documentation: https://pandas.pydata.org/pandas-docs/stable/user_guide/indexing.html#returning-a-view-versus-a-copy\n",
      "\u001b[2m\u001b[36m(process_and_save_split pid=2308629)\u001b[0m /tmp/ipykernel_2308382/632661198.py:203: SettingWithCopyWarning: \n",
      "\u001b[2m\u001b[36m(process_and_save_split pid=2308629)\u001b[0m A value is trying to be set on a copy of a slice from a DataFrame.\n",
      "\u001b[2m\u001b[36m(process_and_save_split pid=2308629)\u001b[0m Try using .loc[row_indexer,col_indexer] = value instead\n",
      "\u001b[2m\u001b[36m(process_and_save_split pid=2308629)\u001b[0m \n",
      "\u001b[2m\u001b[36m(process_and_save_split pid=2308629)\u001b[0m See the caveats in the documentation: https://pandas.pydata.org/pandas-docs/stable/user_guide/indexing.html#returning-a-view-versus-a-copy\n",
      "\u001b[2m\u001b[36m(process_and_save_split pid=2308630)\u001b[0m /tmp/ipykernel_2308382/632661198.py:203: SettingWithCopyWarning: \n",
      "\u001b[2m\u001b[36m(process_and_save_split pid=2308630)\u001b[0m A value is trying to be set on a copy of a slice from a DataFrame.\n",
      "\u001b[2m\u001b[36m(process_and_save_split pid=2308630)\u001b[0m Try using .loc[row_indexer,col_indexer] = value instead\n",
      "\u001b[2m\u001b[36m(process_and_save_split pid=2308630)\u001b[0m \n",
      "\u001b[2m\u001b[36m(process_and_save_split pid=2308630)\u001b[0m See the caveats in the documentation: https://pandas.pydata.org/pandas-docs/stable/user_guide/indexing.html#returning-a-view-versus-a-copy\n"
     ]
    }
   ],
   "source": [
    "cv_strategy = 'loso'  # Choose from: 'loso', 'group_k_fold', 'k_fold', 'time_series'\n",
    "\n",
    "with on_ray():\n",
    "    # Get the relevant train-test splits based on the chosen CV strategy\n",
    "    splits = get_cv_splits(cv_strategy, all_data, all_labels, all_groups)\n",
    "    \n",
    "    C_cat = np.asarray(sorted(cats))\n",
    "    C_num = np.asarray(sorted(X.columns[~X.columns.isin(C_cat)]))\n",
    "#    Iterate over train-test splits\n",
    "    futures = [process_and_save_split.remote(train_idx, test_idx, all_data, all_labels, all_groups, process_dataframe, save_data_to_data_file, C_cat, C_num, select) \n",
    "#    futures = [process_and_save_split.remote(train_idx, test_idx, all_data, all_labels, all_groups, process_dataframe, save_data_to_data_file)\n",
    "                                         for train_idx, test_idx in splits]\n",
    "\n",
    "    ray.get(futures)"
   ]
  },
  {
   "cell_type": "markdown",
   "id": "587a5710",
   "metadata": {},
   "source": [
    "Training"
   ]
  },
  {
   "cell_type": "code",
   "execution_count": 12,
   "id": "0068231f",
   "metadata": {},
   "outputs": [],
   "source": [
    "param = {\n",
    "    \"learning_rate\": 0.01,\n",
    "    \"seed\": RANDOM_STATE,\n",
    "    \"objective\": 'binary:logistic',\n",
    "    'eval_metric': 'auc',\n",
    "    'verbosity': 0,\n",
    "}"
   ]
  },
  {
   "cell_type": "code",
   "execution_count": 13,
   "id": "ffc00484",
   "metadata": {},
   "outputs": [
    {
     "name": "stderr",
     "output_type": "stream",
     "text": [
      "2024-07-25 17:51:47,193\tINFO worker.py:1612 -- Started a local Ray instance. View the dashboard at \u001b[1m\u001b[32m127.0.0.1:8265 \u001b[39m\u001b[22m\n"
     ]
    },
    {
     "name": "stdout",
     "output_type": "stream",
     "text": [
      "start training & evaluation for P033\n",
      "[0]\ttrain-auc:0.64139\teval-auc:0.54309\n",
      "[1]\ttrain-auc:0.64374\teval-auc:0.54615\n",
      "[2]\ttrain-auc:0.67063\teval-auc:0.55681\n",
      "[3]\ttrain-auc:0.67679\teval-auc:0.56236\n",
      "[4]\ttrain-auc:0.68176\teval-auc:0.56253\n",
      "[5]\ttrain-auc:0.68483\teval-auc:0.56368\n",
      "[6]\ttrain-auc:0.68806\teval-auc:0.56498\n",
      "[7]\ttrain-auc:0.69027\teval-auc:0.56616\n",
      "[8]\ttrain-auc:0.69972\teval-auc:0.56967\n",
      "[9]\ttrain-auc:0.69994\teval-auc:0.56974\n",
      "finish training & evaluation for P033\n",
      "start training & evaluation for P022\n"
     ]
    },
    {
     "name": "stderr",
     "output_type": "stream",
     "text": [
      "/home/panyu/miniconda3/envs/sci-data/lib/python3.9/site-packages/xgboost/core.py:122: UserWarning: ntree_limit is deprecated, use `iteration_range` or model slicing instead.\n",
      "  warnings.warn(\n",
      "/home/panyu/miniconda3/envs/sci-data/lib/python3.9/site-packages/xgboost/core.py:122: UserWarning: ntree_limit is deprecated, use `iteration_range` or model slicing instead.\n",
      "  warnings.warn(\n"
     ]
    },
    {
     "name": "stdout",
     "output_type": "stream",
     "text": [
      "[0]\ttrain-auc:0.63384\teval-auc:0.56687\n",
      "[1]\ttrain-auc:0.64134\teval-auc:0.57517\n",
      "[2]\ttrain-auc:0.64543\teval-auc:0.57316\n",
      "[3]\ttrain-auc:0.64686\teval-auc:0.57619\n",
      "[4]\ttrain-auc:0.64713\teval-auc:0.57713\n",
      "[5]\ttrain-auc:0.64621\teval-auc:0.57769\n",
      "[6]\ttrain-auc:0.65271\teval-auc:0.57663\n",
      "[7]\ttrain-auc:0.65334\teval-auc:0.57751\n",
      "[8]\ttrain-auc:0.65689\teval-auc:0.57881\n",
      "[9]\ttrain-auc:0.66191\teval-auc:0.58072\n",
      "finish training & evaluation for P022\n",
      "start training & evaluation for P001\n"
     ]
    },
    {
     "name": "stderr",
     "output_type": "stream",
     "text": [
      "/home/panyu/miniconda3/envs/sci-data/lib/python3.9/site-packages/xgboost/core.py:122: UserWarning: ntree_limit is deprecated, use `iteration_range` or model slicing instead.\n",
      "  warnings.warn(\n",
      "/home/panyu/miniconda3/envs/sci-data/lib/python3.9/site-packages/xgboost/core.py:122: UserWarning: ntree_limit is deprecated, use `iteration_range` or model slicing instead.\n",
      "  warnings.warn(\n"
     ]
    },
    {
     "name": "stdout",
     "output_type": "stream",
     "text": [
      "[0]\ttrain-auc:0.63293\teval-auc:0.55087\n",
      "[1]\ttrain-auc:0.63295\teval-auc:0.55083\n",
      "[2]\ttrain-auc:0.67128\teval-auc:0.56357\n",
      "[3]\ttrain-auc:0.67271\teval-auc:0.56630\n",
      "[4]\ttrain-auc:0.68207\teval-auc:0.56899\n",
      "[5]\ttrain-auc:0.68568\teval-auc:0.57277\n",
      "[6]\ttrain-auc:0.70177\teval-auc:0.57705\n",
      "[7]\ttrain-auc:0.70439\teval-auc:0.57661\n",
      "[8]\ttrain-auc:0.70426\teval-auc:0.57865\n",
      "[9]\ttrain-auc:0.70516\teval-auc:0.57890\n",
      "finish training & evaluation for P001\n",
      "start training & evaluation for P056\n"
     ]
    },
    {
     "name": "stderr",
     "output_type": "stream",
     "text": [
      "/home/panyu/miniconda3/envs/sci-data/lib/python3.9/site-packages/xgboost/core.py:122: UserWarning: ntree_limit is deprecated, use `iteration_range` or model slicing instead.\n",
      "  warnings.warn(\n",
      "/home/panyu/miniconda3/envs/sci-data/lib/python3.9/site-packages/xgboost/core.py:122: UserWarning: ntree_limit is deprecated, use `iteration_range` or model slicing instead.\n",
      "  warnings.warn(\n"
     ]
    },
    {
     "name": "stdout",
     "output_type": "stream",
     "text": [
      "[0]\ttrain-auc:0.63161\teval-auc:0.55809\n",
      "[1]\ttrain-auc:0.63297\teval-auc:0.55756\n",
      "[2]\ttrain-auc:0.63319\teval-auc:0.55773\n",
      "[3]\ttrain-auc:0.63912\teval-auc:0.55262\n",
      "[4]\ttrain-auc:0.64041\teval-auc:0.54953\n",
      "[5]\ttrain-auc:0.64161\teval-auc:0.55069\n",
      "[6]\ttrain-auc:0.64506\teval-auc:0.54986\n",
      "[7]\ttrain-auc:0.64555\teval-auc:0.55140\n",
      "[8]\ttrain-auc:0.66371\teval-auc:0.56186\n",
      "[9]\ttrain-auc:0.66286\teval-auc:0.56004\n",
      "finish training & evaluation for P056\n",
      "start training & evaluation for P088\n"
     ]
    },
    {
     "name": "stderr",
     "output_type": "stream",
     "text": [
      "/home/panyu/miniconda3/envs/sci-data/lib/python3.9/site-packages/xgboost/core.py:122: UserWarning: ntree_limit is deprecated, use `iteration_range` or model slicing instead.\n",
      "  warnings.warn(\n",
      "/home/panyu/miniconda3/envs/sci-data/lib/python3.9/site-packages/xgboost/core.py:122: UserWarning: ntree_limit is deprecated, use `iteration_range` or model slicing instead.\n",
      "  warnings.warn(\n"
     ]
    },
    {
     "name": "stdout",
     "output_type": "stream",
     "text": [
      "[0]\ttrain-auc:0.64562\teval-auc:0.56267\n",
      "[1]\ttrain-auc:0.64703\teval-auc:0.56423\n",
      "[2]\ttrain-auc:0.64680\teval-auc:0.56335\n",
      "[3]\ttrain-auc:0.64741\teval-auc:0.56476\n",
      "[4]\ttrain-auc:0.65059\teval-auc:0.56636\n",
      "[5]\ttrain-auc:0.65488\teval-auc:0.56682\n",
      "[6]\ttrain-auc:0.65588\teval-auc:0.56798\n",
      "[7]\ttrain-auc:0.66224\teval-auc:0.57048\n",
      "[8]\ttrain-auc:0.66761\teval-auc:0.57305\n",
      "[9]\ttrain-auc:0.67101\teval-auc:0.57422\n",
      "finish training & evaluation for P088\n",
      "start training & evaluation for P135\n"
     ]
    },
    {
     "name": "stderr",
     "output_type": "stream",
     "text": [
      "/home/panyu/miniconda3/envs/sci-data/lib/python3.9/site-packages/xgboost/core.py:122: UserWarning: ntree_limit is deprecated, use `iteration_range` or model slicing instead.\n",
      "  warnings.warn(\n",
      "/home/panyu/miniconda3/envs/sci-data/lib/python3.9/site-packages/xgboost/core.py:122: UserWarning: ntree_limit is deprecated, use `iteration_range` or model slicing instead.\n",
      "  warnings.warn(\n"
     ]
    },
    {
     "name": "stdout",
     "output_type": "stream",
     "text": [
      "[0]\ttrain-auc:0.63911\teval-auc:0.56077\n",
      "[1]\ttrain-auc:0.64117\teval-auc:0.56410\n",
      "[2]\ttrain-auc:0.64153\teval-auc:0.56431\n",
      "[3]\ttrain-auc:0.64228\teval-auc:0.56494\n",
      "[4]\ttrain-auc:0.64505\teval-auc:0.56606\n",
      "[5]\ttrain-auc:0.64617\teval-auc:0.56642\n",
      "[6]\ttrain-auc:0.64786\teval-auc:0.56720\n",
      "[7]\ttrain-auc:0.64804\teval-auc:0.56820\n",
      "[8]\ttrain-auc:0.64791\teval-auc:0.56867\n",
      "[9]\ttrain-auc:0.64944\teval-auc:0.56735\n",
      "finish training & evaluation for P135\n",
      "start training & evaluation for P067\n"
     ]
    },
    {
     "name": "stderr",
     "output_type": "stream",
     "text": [
      "/home/panyu/miniconda3/envs/sci-data/lib/python3.9/site-packages/xgboost/core.py:122: UserWarning: ntree_limit is deprecated, use `iteration_range` or model slicing instead.\n",
      "  warnings.warn(\n",
      "/home/panyu/miniconda3/envs/sci-data/lib/python3.9/site-packages/xgboost/core.py:122: UserWarning: ntree_limit is deprecated, use `iteration_range` or model slicing instead.\n",
      "  warnings.warn(\n"
     ]
    },
    {
     "name": "stdout",
     "output_type": "stream",
     "text": [
      "[0]\ttrain-auc:0.64023\teval-auc:0.56056\n",
      "[1]\ttrain-auc:0.64138\teval-auc:0.56094\n",
      "[2]\ttrain-auc:0.65420\teval-auc:0.56779\n",
      "[3]\ttrain-auc:0.67823\teval-auc:0.57528\n",
      "[4]\ttrain-auc:0.67565\teval-auc:0.57260\n",
      "[5]\ttrain-auc:0.68449\teval-auc:0.57650\n",
      "[6]\ttrain-auc:0.68832\teval-auc:0.57849\n",
      "[7]\ttrain-auc:0.68740\teval-auc:0.57774\n",
      "[8]\ttrain-auc:0.68994\teval-auc:0.57778\n",
      "[9]\ttrain-auc:0.69324\teval-auc:0.57913\n",
      "finish training & evaluation for P067\n",
      "start training & evaluation for P064\n"
     ]
    },
    {
     "name": "stderr",
     "output_type": "stream",
     "text": [
      "/home/panyu/miniconda3/envs/sci-data/lib/python3.9/site-packages/xgboost/core.py:122: UserWarning: ntree_limit is deprecated, use `iteration_range` or model slicing instead.\n",
      "  warnings.warn(\n",
      "/home/panyu/miniconda3/envs/sci-data/lib/python3.9/site-packages/xgboost/core.py:122: UserWarning: ntree_limit is deprecated, use `iteration_range` or model slicing instead.\n",
      "  warnings.warn(\n"
     ]
    },
    {
     "name": "stdout",
     "output_type": "stream",
     "text": [
      "[0]\ttrain-auc:0.63742\teval-auc:0.55777\n",
      "[1]\ttrain-auc:0.63959\teval-auc:0.56237\n",
      "[2]\ttrain-auc:0.67809\teval-auc:0.57552\n",
      "[3]\ttrain-auc:0.67542\teval-auc:0.57508\n",
      "[4]\ttrain-auc:0.68317\teval-auc:0.57929\n",
      "[5]\ttrain-auc:0.69168\teval-auc:0.58050\n",
      "[6]\ttrain-auc:0.69457\teval-auc:0.57992\n",
      "[7]\ttrain-auc:0.69781\teval-auc:0.58269\n",
      "[8]\ttrain-auc:0.70396\teval-auc:0.58456\n",
      "[9]\ttrain-auc:0.70577\teval-auc:0.58275\n",
      "finish training & evaluation for P064\n",
      "start training & evaluation for P075\n"
     ]
    },
    {
     "name": "stderr",
     "output_type": "stream",
     "text": [
      "/home/panyu/miniconda3/envs/sci-data/lib/python3.9/site-packages/xgboost/core.py:122: UserWarning: ntree_limit is deprecated, use `iteration_range` or model slicing instead.\n",
      "  warnings.warn(\n",
      "/home/panyu/miniconda3/envs/sci-data/lib/python3.9/site-packages/xgboost/core.py:122: UserWarning: ntree_limit is deprecated, use `iteration_range` or model slicing instead.\n",
      "  warnings.warn(\n"
     ]
    },
    {
     "name": "stdout",
     "output_type": "stream",
     "text": [
      "[0]\ttrain-auc:0.64997\teval-auc:0.55902\n",
      "[1]\ttrain-auc:0.65314\teval-auc:0.55916\n",
      "[2]\ttrain-auc:0.65916\teval-auc:0.56012\n",
      "[3]\ttrain-auc:0.65843\teval-auc:0.56057\n",
      "[4]\ttrain-auc:0.66315\teval-auc:0.56092\n",
      "[5]\ttrain-auc:0.66870\teval-auc:0.56605\n",
      "[6]\ttrain-auc:0.66927\teval-auc:0.56574\n",
      "[7]\ttrain-auc:0.67050\teval-auc:0.56376\n",
      "[8]\ttrain-auc:0.67364\teval-auc:0.56272\n",
      "[9]\ttrain-auc:0.67723\teval-auc:0.56606\n",
      "finish training & evaluation for P075\n",
      "start training & evaluation for P126\n"
     ]
    },
    {
     "name": "stderr",
     "output_type": "stream",
     "text": [
      "/home/panyu/miniconda3/envs/sci-data/lib/python3.9/site-packages/xgboost/core.py:122: UserWarning: ntree_limit is deprecated, use `iteration_range` or model slicing instead.\n",
      "  warnings.warn(\n",
      "/home/panyu/miniconda3/envs/sci-data/lib/python3.9/site-packages/xgboost/core.py:122: UserWarning: ntree_limit is deprecated, use `iteration_range` or model slicing instead.\n",
      "  warnings.warn(\n"
     ]
    },
    {
     "name": "stdout",
     "output_type": "stream",
     "text": [
      "[0]\ttrain-auc:0.64129\teval-auc:0.56334\n",
      "[1]\ttrain-auc:0.64298\teval-auc:0.56360\n",
      "[2]\ttrain-auc:0.64458\teval-auc:0.56410\n",
      "[3]\ttrain-auc:0.64758\teval-auc:0.56774\n",
      "[4]\ttrain-auc:0.65138\teval-auc:0.57039\n",
      "[5]\ttrain-auc:0.67199\teval-auc:0.57829\n",
      "[6]\ttrain-auc:0.67294\teval-auc:0.57852\n",
      "[7]\ttrain-auc:0.68199\teval-auc:0.58100\n",
      "[8]\ttrain-auc:0.68181\teval-auc:0.58169\n",
      "[9]\ttrain-auc:0.68755\teval-auc:0.58527\n",
      "finish training & evaluation for P126\n",
      "start training & evaluation for P118\n"
     ]
    },
    {
     "name": "stderr",
     "output_type": "stream",
     "text": [
      "/home/panyu/miniconda3/envs/sci-data/lib/python3.9/site-packages/xgboost/core.py:122: UserWarning: ntree_limit is deprecated, use `iteration_range` or model slicing instead.\n",
      "  warnings.warn(\n",
      "/home/panyu/miniconda3/envs/sci-data/lib/python3.9/site-packages/xgboost/core.py:122: UserWarning: ntree_limit is deprecated, use `iteration_range` or model slicing instead.\n",
      "  warnings.warn(\n"
     ]
    },
    {
     "name": "stdout",
     "output_type": "stream",
     "text": [
      "[0]\ttrain-auc:0.64598\teval-auc:0.56344\n",
      "[1]\ttrain-auc:0.64877\teval-auc:0.56097\n",
      "[2]\ttrain-auc:0.65334\teval-auc:0.56515\n",
      "[3]\ttrain-auc:0.65260\teval-auc:0.56447\n",
      "[4]\ttrain-auc:0.66044\teval-auc:0.56547\n",
      "[5]\ttrain-auc:0.66251\teval-auc:0.56543\n",
      "[6]\ttrain-auc:0.66545\teval-auc:0.56680\n",
      "[7]\ttrain-auc:0.66645\teval-auc:0.56778\n",
      "[8]\ttrain-auc:0.66915\teval-auc:0.57035\n",
      "[9]\ttrain-auc:0.68020\teval-auc:0.57472\n",
      "finish training & evaluation for P118\n",
      "start training & evaluation for P038\n"
     ]
    },
    {
     "name": "stderr",
     "output_type": "stream",
     "text": [
      "/home/panyu/miniconda3/envs/sci-data/lib/python3.9/site-packages/xgboost/core.py:122: UserWarning: ntree_limit is deprecated, use `iteration_range` or model slicing instead.\n",
      "  warnings.warn(\n",
      "/home/panyu/miniconda3/envs/sci-data/lib/python3.9/site-packages/xgboost/core.py:122: UserWarning: ntree_limit is deprecated, use `iteration_range` or model slicing instead.\n",
      "  warnings.warn(\n"
     ]
    },
    {
     "name": "stdout",
     "output_type": "stream",
     "text": [
      "[0]\ttrain-auc:0.64031\teval-auc:0.55538\n",
      "[1]\ttrain-auc:0.64389\teval-auc:0.55511\n",
      "[2]\ttrain-auc:0.64706\teval-auc:0.55496\n",
      "[3]\ttrain-auc:0.65701\teval-auc:0.55844\n",
      "[4]\ttrain-auc:0.68260\teval-auc:0.56866\n",
      "[5]\ttrain-auc:0.68116\teval-auc:0.56946\n",
      "[6]\ttrain-auc:0.68283\teval-auc:0.57122\n",
      "[7]\ttrain-auc:0.69255\teval-auc:0.57514\n",
      "[8]\ttrain-auc:0.69120\teval-auc:0.57467\n",
      "[9]\ttrain-auc:0.69554\teval-auc:0.57683\n",
      "finish training & evaluation for P038\n",
      "start training & evaluation for P079\n"
     ]
    },
    {
     "name": "stderr",
     "output_type": "stream",
     "text": [
      "/home/panyu/miniconda3/envs/sci-data/lib/python3.9/site-packages/xgboost/core.py:122: UserWarning: ntree_limit is deprecated, use `iteration_range` or model slicing instead.\n",
      "  warnings.warn(\n",
      "/home/panyu/miniconda3/envs/sci-data/lib/python3.9/site-packages/xgboost/core.py:122: UserWarning: ntree_limit is deprecated, use `iteration_range` or model slicing instead.\n",
      "  warnings.warn(\n"
     ]
    },
    {
     "name": "stdout",
     "output_type": "stream",
     "text": [
      "[0]\ttrain-auc:0.64202\teval-auc:0.56271\n",
      "[1]\ttrain-auc:0.64287\teval-auc:0.56222\n",
      "[2]\ttrain-auc:0.64419\teval-auc:0.56293\n",
      "[3]\ttrain-auc:0.64440\teval-auc:0.56243\n",
      "[4]\ttrain-auc:0.64459\teval-auc:0.56311\n",
      "[5]\ttrain-auc:0.64460\teval-auc:0.56312\n",
      "[6]\ttrain-auc:0.64491\teval-auc:0.56328\n",
      "[7]\ttrain-auc:0.64505\teval-auc:0.56400\n",
      "[8]\ttrain-auc:0.64622\teval-auc:0.56476\n",
      "[9]\ttrain-auc:0.65955\teval-auc:0.56912\n",
      "finish training & evaluation for P079\n",
      "start training & evaluation for P043\n"
     ]
    },
    {
     "name": "stderr",
     "output_type": "stream",
     "text": [
      "/home/panyu/miniconda3/envs/sci-data/lib/python3.9/site-packages/xgboost/core.py:122: UserWarning: ntree_limit is deprecated, use `iteration_range` or model slicing instead.\n",
      "  warnings.warn(\n",
      "/home/panyu/miniconda3/envs/sci-data/lib/python3.9/site-packages/xgboost/core.py:122: UserWarning: ntree_limit is deprecated, use `iteration_range` or model slicing instead.\n",
      "  warnings.warn(\n"
     ]
    },
    {
     "name": "stdout",
     "output_type": "stream",
     "text": [
      "[0]\ttrain-auc:0.64561\teval-auc:0.54718\n",
      "[1]\ttrain-auc:0.64600\teval-auc:0.54743\n",
      "[2]\ttrain-auc:0.65117\teval-auc:0.55111\n",
      "[3]\ttrain-auc:0.66058\teval-auc:0.54885\n",
      "[4]\ttrain-auc:0.66950\teval-auc:0.55029\n",
      "[5]\ttrain-auc:0.67025\teval-auc:0.55136\n",
      "[6]\ttrain-auc:0.67184\teval-auc:0.55218\n",
      "[7]\ttrain-auc:0.67905\teval-auc:0.55262\n",
      "[8]\ttrain-auc:0.67982\teval-auc:0.55381\n",
      "[9]\ttrain-auc:0.68473\teval-auc:0.55432\n",
      "finish training & evaluation for P043\n",
      "start training & evaluation for P083\n"
     ]
    },
    {
     "name": "stderr",
     "output_type": "stream",
     "text": [
      "/home/panyu/miniconda3/envs/sci-data/lib/python3.9/site-packages/xgboost/core.py:122: UserWarning: ntree_limit is deprecated, use `iteration_range` or model slicing instead.\n",
      "  warnings.warn(\n",
      "/home/panyu/miniconda3/envs/sci-data/lib/python3.9/site-packages/xgboost/core.py:122: UserWarning: ntree_limit is deprecated, use `iteration_range` or model slicing instead.\n",
      "  warnings.warn(\n"
     ]
    },
    {
     "name": "stdout",
     "output_type": "stream",
     "text": [
      "[0]\ttrain-auc:0.64982\teval-auc:0.55382\n",
      "[1]\ttrain-auc:0.65254\teval-auc:0.55343\n",
      "[2]\ttrain-auc:0.66076\teval-auc:0.55649\n",
      "[3]\ttrain-auc:0.66148\teval-auc:0.55651\n",
      "[4]\ttrain-auc:0.66955\teval-auc:0.56195\n",
      "[5]\ttrain-auc:0.67055\teval-auc:0.56368\n",
      "[6]\ttrain-auc:0.67221\teval-auc:0.56425\n",
      "[7]\ttrain-auc:0.67334\teval-auc:0.56574\n",
      "[8]\ttrain-auc:0.67579\teval-auc:0.56700\n",
      "[9]\ttrain-auc:0.67712\teval-auc:0.56805\n",
      "finish training & evaluation for P083\n",
      "start training & evaluation for P020\n"
     ]
    },
    {
     "name": "stderr",
     "output_type": "stream",
     "text": [
      "/home/panyu/miniconda3/envs/sci-data/lib/python3.9/site-packages/xgboost/core.py:122: UserWarning: ntree_limit is deprecated, use `iteration_range` or model slicing instead.\n",
      "  warnings.warn(\n",
      "/home/panyu/miniconda3/envs/sci-data/lib/python3.9/site-packages/xgboost/core.py:122: UserWarning: ntree_limit is deprecated, use `iteration_range` or model slicing instead.\n",
      "  warnings.warn(\n"
     ]
    },
    {
     "name": "stdout",
     "output_type": "stream",
     "text": [
      "[0]\ttrain-auc:0.62889\teval-auc:0.54814\n",
      "[1]\ttrain-auc:0.62980\teval-auc:0.54975\n",
      "[2]\ttrain-auc:0.63585\teval-auc:0.55400\n",
      "[3]\ttrain-auc:0.65416\teval-auc:0.55855\n",
      "[4]\ttrain-auc:0.65520\teval-auc:0.55875\n",
      "[5]\ttrain-auc:0.66071\teval-auc:0.56043\n",
      "[6]\ttrain-auc:0.65861\teval-auc:0.56147\n",
      "[7]\ttrain-auc:0.66684\teval-auc:0.56229\n",
      "[8]\ttrain-auc:0.67252\teval-auc:0.56395\n",
      "[9]\ttrain-auc:0.67564\teval-auc:0.56422\n",
      "finish training & evaluation for P020\n",
      "start training & evaluation for P021\n"
     ]
    },
    {
     "name": "stderr",
     "output_type": "stream",
     "text": [
      "/home/panyu/miniconda3/envs/sci-data/lib/python3.9/site-packages/xgboost/core.py:122: UserWarning: ntree_limit is deprecated, use `iteration_range` or model slicing instead.\n",
      "  warnings.warn(\n",
      "/home/panyu/miniconda3/envs/sci-data/lib/python3.9/site-packages/xgboost/core.py:122: UserWarning: ntree_limit is deprecated, use `iteration_range` or model slicing instead.\n",
      "  warnings.warn(\n"
     ]
    },
    {
     "name": "stdout",
     "output_type": "stream",
     "text": [
      "[0]\ttrain-auc:0.64184\teval-auc:0.56655\n",
      "[1]\ttrain-auc:0.64534\teval-auc:0.56570\n",
      "[2]\ttrain-auc:0.65519\teval-auc:0.56826\n",
      "[3]\ttrain-auc:0.65474\teval-auc:0.56758\n",
      "[4]\ttrain-auc:0.65696\teval-auc:0.56865\n",
      "[5]\ttrain-auc:0.65986\teval-auc:0.56927\n",
      "[6]\ttrain-auc:0.66102\teval-auc:0.57122\n",
      "[7]\ttrain-auc:0.66212\teval-auc:0.57058\n",
      "[8]\ttrain-auc:0.66788\teval-auc:0.57249\n",
      "[9]\ttrain-auc:0.67886\teval-auc:0.57707\n",
      "finish training & evaluation for P021\n",
      "start training & evaluation for P011\n"
     ]
    },
    {
     "name": "stderr",
     "output_type": "stream",
     "text": [
      "/home/panyu/miniconda3/envs/sci-data/lib/python3.9/site-packages/xgboost/core.py:122: UserWarning: ntree_limit is deprecated, use `iteration_range` or model slicing instead.\n",
      "  warnings.warn(\n",
      "/home/panyu/miniconda3/envs/sci-data/lib/python3.9/site-packages/xgboost/core.py:122: UserWarning: ntree_limit is deprecated, use `iteration_range` or model slicing instead.\n",
      "  warnings.warn(\n"
     ]
    },
    {
     "name": "stdout",
     "output_type": "stream",
     "text": [
      "[0]\ttrain-auc:0.64153\teval-auc:0.54154\n",
      "[1]\ttrain-auc:0.64445\teval-auc:0.55062\n",
      "[2]\ttrain-auc:0.64199\teval-auc:0.54968\n",
      "[3]\ttrain-auc:0.64166\teval-auc:0.54862\n",
      "[4]\ttrain-auc:0.64567\teval-auc:0.54966\n",
      "[5]\ttrain-auc:0.64491\teval-auc:0.55004\n",
      "[6]\ttrain-auc:0.64790\teval-auc:0.54978\n",
      "[7]\ttrain-auc:0.64933\teval-auc:0.55092\n",
      "[8]\ttrain-auc:0.66309\teval-auc:0.55880\n",
      "[9]\ttrain-auc:0.66966\teval-auc:0.56005\n",
      "finish training & evaluation for P011\n",
      "start training & evaluation for P048\n"
     ]
    },
    {
     "name": "stderr",
     "output_type": "stream",
     "text": [
      "/home/panyu/miniconda3/envs/sci-data/lib/python3.9/site-packages/xgboost/core.py:122: UserWarning: ntree_limit is deprecated, use `iteration_range` or model slicing instead.\n",
      "  warnings.warn(\n",
      "/home/panyu/miniconda3/envs/sci-data/lib/python3.9/site-packages/xgboost/core.py:122: UserWarning: ntree_limit is deprecated, use `iteration_range` or model slicing instead.\n",
      "  warnings.warn(\n"
     ]
    },
    {
     "name": "stdout",
     "output_type": "stream",
     "text": [
      "[0]\ttrain-auc:0.64530\teval-auc:0.56104\n",
      "[1]\ttrain-auc:0.64825\teval-auc:0.56128\n",
      "[2]\ttrain-auc:0.67435\teval-auc:0.57083\n",
      "[3]\ttrain-auc:0.67142\teval-auc:0.57008\n",
      "[4]\ttrain-auc:0.68231\teval-auc:0.57678\n",
      "[5]\ttrain-auc:0.68567\teval-auc:0.57545\n",
      "[6]\ttrain-auc:0.68410\teval-auc:0.57578\n",
      "[7]\ttrain-auc:0.68586\teval-auc:0.57512\n",
      "[8]\ttrain-auc:0.68590\teval-auc:0.57609\n",
      "[9]\ttrain-auc:0.68689\teval-auc:0.57654\n",
      "finish training & evaluation for P048\n",
      "start training & evaluation for P110\n"
     ]
    },
    {
     "name": "stderr",
     "output_type": "stream",
     "text": [
      "/home/panyu/miniconda3/envs/sci-data/lib/python3.9/site-packages/xgboost/core.py:122: UserWarning: ntree_limit is deprecated, use `iteration_range` or model slicing instead.\n",
      "  warnings.warn(\n",
      "/home/panyu/miniconda3/envs/sci-data/lib/python3.9/site-packages/xgboost/core.py:122: UserWarning: ntree_limit is deprecated, use `iteration_range` or model slicing instead.\n",
      "  warnings.warn(\n"
     ]
    },
    {
     "name": "stdout",
     "output_type": "stream",
     "text": [
      "[0]\ttrain-auc:0.65131\teval-auc:0.56983\n",
      "[1]\ttrain-auc:0.65212\teval-auc:0.56936\n",
      "[2]\ttrain-auc:0.65539\teval-auc:0.56763\n",
      "[3]\ttrain-auc:0.65501\teval-auc:0.56879\n",
      "[4]\ttrain-auc:0.67506\teval-auc:0.57515\n",
      "[5]\ttrain-auc:0.67352\teval-auc:0.57399\n",
      "[6]\ttrain-auc:0.67249\teval-auc:0.57499\n",
      "[7]\ttrain-auc:0.67136\teval-auc:0.57366\n",
      "[8]\ttrain-auc:0.67881\teval-auc:0.57556\n",
      "[9]\ttrain-auc:0.68020\teval-auc:0.57623\n",
      "finish training & evaluation for P110\n",
      "start training & evaluation for P127\n"
     ]
    },
    {
     "name": "stderr",
     "output_type": "stream",
     "text": [
      "/home/panyu/miniconda3/envs/sci-data/lib/python3.9/site-packages/xgboost/core.py:122: UserWarning: ntree_limit is deprecated, use `iteration_range` or model slicing instead.\n",
      "  warnings.warn(\n",
      "/home/panyu/miniconda3/envs/sci-data/lib/python3.9/site-packages/xgboost/core.py:122: UserWarning: ntree_limit is deprecated, use `iteration_range` or model slicing instead.\n",
      "  warnings.warn(\n"
     ]
    },
    {
     "name": "stdout",
     "output_type": "stream",
     "text": [
      "[0]\ttrain-auc:0.65302\teval-auc:0.56817\n",
      "[1]\ttrain-auc:0.66126\teval-auc:0.56939\n",
      "[2]\ttrain-auc:0.66503\teval-auc:0.57208\n",
      "[3]\ttrain-auc:0.66510\teval-auc:0.57111\n",
      "[4]\ttrain-auc:0.66812\teval-auc:0.57229\n",
      "[5]\ttrain-auc:0.68749\teval-auc:0.57915\n",
      "[6]\ttrain-auc:0.69611\teval-auc:0.58188\n",
      "[7]\ttrain-auc:0.70226\teval-auc:0.58368\n",
      "[8]\ttrain-auc:0.70627\teval-auc:0.58503\n",
      "[9]\ttrain-auc:0.71042\teval-auc:0.58758\n",
      "finish training & evaluation for P127\n",
      "start training & evaluation for P025\n"
     ]
    },
    {
     "name": "stderr",
     "output_type": "stream",
     "text": [
      "/home/panyu/miniconda3/envs/sci-data/lib/python3.9/site-packages/xgboost/core.py:122: UserWarning: ntree_limit is deprecated, use `iteration_range` or model slicing instead.\n",
      "  warnings.warn(\n",
      "/home/panyu/miniconda3/envs/sci-data/lib/python3.9/site-packages/xgboost/core.py:122: UserWarning: ntree_limit is deprecated, use `iteration_range` or model slicing instead.\n",
      "  warnings.warn(\n"
     ]
    },
    {
     "name": "stdout",
     "output_type": "stream",
     "text": [
      "[0]\ttrain-auc:0.62871\teval-auc:0.55956\n",
      "[1]\ttrain-auc:0.63025\teval-auc:0.56125\n",
      "[2]\ttrain-auc:0.67005\teval-auc:0.57545\n",
      "[3]\ttrain-auc:0.66861\teval-auc:0.57454\n",
      "[4]\ttrain-auc:0.67589\teval-auc:0.57712\n",
      "[5]\ttrain-auc:0.67398\teval-auc:0.57680\n",
      "[6]\ttrain-auc:0.67798\teval-auc:0.57884\n",
      "[7]\ttrain-auc:0.67649\teval-auc:0.57835\n",
      "[8]\ttrain-auc:0.68464\teval-auc:0.58599\n",
      "[9]\ttrain-auc:0.68378\teval-auc:0.58528\n",
      "finish training & evaluation for P025\n",
      "start training & evaluation for P104\n"
     ]
    },
    {
     "name": "stderr",
     "output_type": "stream",
     "text": [
      "/home/panyu/miniconda3/envs/sci-data/lib/python3.9/site-packages/xgboost/core.py:122: UserWarning: ntree_limit is deprecated, use `iteration_range` or model slicing instead.\n",
      "  warnings.warn(\n",
      "/home/panyu/miniconda3/envs/sci-data/lib/python3.9/site-packages/xgboost/core.py:122: UserWarning: ntree_limit is deprecated, use `iteration_range` or model slicing instead.\n",
      "  warnings.warn(\n"
     ]
    },
    {
     "name": "stdout",
     "output_type": "stream",
     "text": [
      "[0]\ttrain-auc:0.63538\teval-auc:0.55435\n",
      "[1]\ttrain-auc:0.64856\teval-auc:0.56198\n",
      "[2]\ttrain-auc:0.65138\teval-auc:0.56042\n",
      "[3]\ttrain-auc:0.65267\teval-auc:0.56186\n",
      "[4]\ttrain-auc:0.65598\teval-auc:0.56562\n",
      "[5]\ttrain-auc:0.66399\teval-auc:0.56399\n",
      "[6]\ttrain-auc:0.68065\teval-auc:0.57208\n",
      "[7]\ttrain-auc:0.68205\teval-auc:0.57405\n",
      "[8]\ttrain-auc:0.69065\teval-auc:0.57716\n",
      "[9]\ttrain-auc:0.69504\teval-auc:0.57947\n",
      "finish training & evaluation for P104\n",
      "start training & evaluation for P095\n"
     ]
    },
    {
     "name": "stderr",
     "output_type": "stream",
     "text": [
      "/home/panyu/miniconda3/envs/sci-data/lib/python3.9/site-packages/xgboost/core.py:122: UserWarning: ntree_limit is deprecated, use `iteration_range` or model slicing instead.\n",
      "  warnings.warn(\n",
      "/home/panyu/miniconda3/envs/sci-data/lib/python3.9/site-packages/xgboost/core.py:122: UserWarning: ntree_limit is deprecated, use `iteration_range` or model slicing instead.\n",
      "  warnings.warn(\n"
     ]
    },
    {
     "name": "stdout",
     "output_type": "stream",
     "text": [
      "[0]\ttrain-auc:0.64929\teval-auc:0.56900\n",
      "[1]\ttrain-auc:0.65015\teval-auc:0.57000\n",
      "[2]\ttrain-auc:0.65207\teval-auc:0.57169\n",
      "[3]\ttrain-auc:0.66221\teval-auc:0.57477\n",
      "[4]\ttrain-auc:0.66351\teval-auc:0.57409\n",
      "[5]\ttrain-auc:0.66696\teval-auc:0.57711\n",
      "[6]\ttrain-auc:0.66723\teval-auc:0.57606\n",
      "[7]\ttrain-auc:0.66934\teval-auc:0.57667\n",
      "[8]\ttrain-auc:0.67058\teval-auc:0.57593\n",
      "[9]\ttrain-auc:0.67446\teval-auc:0.57895\n",
      "finish training & evaluation for P095\n",
      "start training & evaluation for P120\n"
     ]
    },
    {
     "name": "stderr",
     "output_type": "stream",
     "text": [
      "/home/panyu/miniconda3/envs/sci-data/lib/python3.9/site-packages/xgboost/core.py:122: UserWarning: ntree_limit is deprecated, use `iteration_range` or model slicing instead.\n",
      "  warnings.warn(\n",
      "/home/panyu/miniconda3/envs/sci-data/lib/python3.9/site-packages/xgboost/core.py:122: UserWarning: ntree_limit is deprecated, use `iteration_range` or model slicing instead.\n",
      "  warnings.warn(\n"
     ]
    },
    {
     "name": "stdout",
     "output_type": "stream",
     "text": [
      "[0]\ttrain-auc:0.63592\teval-auc:0.56671\n",
      "[1]\ttrain-auc:0.63843\teval-auc:0.56902\n",
      "[2]\ttrain-auc:0.64021\teval-auc:0.56950\n",
      "[3]\ttrain-auc:0.63976\teval-auc:0.56871\n",
      "[4]\ttrain-auc:0.64368\teval-auc:0.56784\n",
      "[5]\ttrain-auc:0.64346\teval-auc:0.56808\n",
      "[6]\ttrain-auc:0.64507\teval-auc:0.56746\n",
      "[7]\ttrain-auc:0.66128\teval-auc:0.57159\n",
      "[8]\ttrain-auc:0.66100\teval-auc:0.57477\n",
      "[9]\ttrain-auc:0.66961\teval-auc:0.57489\n",
      "finish training & evaluation for P120\n",
      "start training & evaluation for P027\n"
     ]
    },
    {
     "name": "stderr",
     "output_type": "stream",
     "text": [
      "/home/panyu/miniconda3/envs/sci-data/lib/python3.9/site-packages/xgboost/core.py:122: UserWarning: ntree_limit is deprecated, use `iteration_range` or model slicing instead.\n",
      "  warnings.warn(\n",
      "/home/panyu/miniconda3/envs/sci-data/lib/python3.9/site-packages/xgboost/core.py:122: UserWarning: ntree_limit is deprecated, use `iteration_range` or model slicing instead.\n",
      "  warnings.warn(\n"
     ]
    },
    {
     "name": "stdout",
     "output_type": "stream",
     "text": [
      "[0]\ttrain-auc:0.64587\teval-auc:0.55765\n",
      "[1]\ttrain-auc:0.65747\teval-auc:0.56077\n",
      "[2]\ttrain-auc:0.65796\teval-auc:0.56146\n",
      "[3]\ttrain-auc:0.65936\teval-auc:0.56298\n",
      "[4]\ttrain-auc:0.65956\teval-auc:0.56152\n",
      "[5]\ttrain-auc:0.66143\teval-auc:0.56417\n",
      "[6]\ttrain-auc:0.66295\teval-auc:0.56613\n",
      "[7]\ttrain-auc:0.66614\teval-auc:0.56865\n",
      "[8]\ttrain-auc:0.66759\teval-auc:0.57018\n",
      "[9]\ttrain-auc:0.66847\teval-auc:0.57092\n",
      "finish training & evaluation for P027\n",
      "start training & evaluation for P065\n"
     ]
    },
    {
     "name": "stderr",
     "output_type": "stream",
     "text": [
      "/home/panyu/miniconda3/envs/sci-data/lib/python3.9/site-packages/xgboost/core.py:122: UserWarning: ntree_limit is deprecated, use `iteration_range` or model slicing instead.\n",
      "  warnings.warn(\n",
      "/home/panyu/miniconda3/envs/sci-data/lib/python3.9/site-packages/xgboost/core.py:122: UserWarning: ntree_limit is deprecated, use `iteration_range` or model slicing instead.\n",
      "  warnings.warn(\n"
     ]
    },
    {
     "name": "stdout",
     "output_type": "stream",
     "text": [
      "[0]\ttrain-auc:0.63997\teval-auc:0.56596\n",
      "[1]\ttrain-auc:0.64179\teval-auc:0.56620\n",
      "[2]\ttrain-auc:0.64323\teval-auc:0.56966\n",
      "[3]\ttrain-auc:0.67119\teval-auc:0.57594\n",
      "[4]\ttrain-auc:0.67821\teval-auc:0.57516\n",
      "[5]\ttrain-auc:0.67918\teval-auc:0.57712\n",
      "[6]\ttrain-auc:0.68183\teval-auc:0.57614\n",
      "[7]\ttrain-auc:0.68277\teval-auc:0.57611\n",
      "[8]\ttrain-auc:0.69479\teval-auc:0.57777\n",
      "[9]\ttrain-auc:0.69350\teval-auc:0.57747\n",
      "finish training & evaluation for P065\n",
      "start training & evaluation for P102\n"
     ]
    },
    {
     "name": "stderr",
     "output_type": "stream",
     "text": [
      "/home/panyu/miniconda3/envs/sci-data/lib/python3.9/site-packages/xgboost/core.py:122: UserWarning: ntree_limit is deprecated, use `iteration_range` or model slicing instead.\n",
      "  warnings.warn(\n",
      "/home/panyu/miniconda3/envs/sci-data/lib/python3.9/site-packages/xgboost/core.py:122: UserWarning: ntree_limit is deprecated, use `iteration_range` or model slicing instead.\n",
      "  warnings.warn(\n"
     ]
    },
    {
     "name": "stdout",
     "output_type": "stream",
     "text": [
      "[0]\ttrain-auc:0.64395\teval-auc:0.55061\n",
      "[1]\ttrain-auc:0.64406\teval-auc:0.55107\n",
      "[2]\ttrain-auc:0.64443\teval-auc:0.55302\n",
      "[3]\ttrain-auc:0.64481\teval-auc:0.55278\n",
      "[4]\ttrain-auc:0.64495\teval-auc:0.55337\n",
      "[5]\ttrain-auc:0.64683\teval-auc:0.55282\n",
      "[6]\ttrain-auc:0.65218\teval-auc:0.55749\n",
      "[7]\ttrain-auc:0.65391\teval-auc:0.55686\n",
      "[8]\ttrain-auc:0.65677\teval-auc:0.55772\n",
      "[9]\ttrain-auc:0.66999\teval-auc:0.56810\n",
      "finish training & evaluation for P102\n",
      "start training & evaluation for P019\n"
     ]
    },
    {
     "name": "stderr",
     "output_type": "stream",
     "text": [
      "/home/panyu/miniconda3/envs/sci-data/lib/python3.9/site-packages/xgboost/core.py:122: UserWarning: ntree_limit is deprecated, use `iteration_range` or model slicing instead.\n",
      "  warnings.warn(\n",
      "/home/panyu/miniconda3/envs/sci-data/lib/python3.9/site-packages/xgboost/core.py:122: UserWarning: ntree_limit is deprecated, use `iteration_range` or model slicing instead.\n",
      "  warnings.warn(\n"
     ]
    },
    {
     "name": "stdout",
     "output_type": "stream",
     "text": [
      "[0]\ttrain-auc:0.64236\teval-auc:0.53750\n",
      "[1]\ttrain-auc:0.64235\teval-auc:0.53804\n",
      "[2]\ttrain-auc:0.64614\teval-auc:0.53746\n",
      "[3]\ttrain-auc:0.64713\teval-auc:0.53992\n",
      "[4]\ttrain-auc:0.64861\teval-auc:0.53980\n",
      "[5]\ttrain-auc:0.64909\teval-auc:0.54298\n",
      "[6]\ttrain-auc:0.65495\teval-auc:0.54559\n",
      "[7]\ttrain-auc:0.66407\teval-auc:0.55292\n",
      "[8]\ttrain-auc:0.66678\teval-auc:0.55471\n",
      "[9]\ttrain-auc:0.67711\teval-auc:0.55564\n",
      "finish training & evaluation for P019\n",
      "start training & evaluation for P117\n"
     ]
    },
    {
     "name": "stderr",
     "output_type": "stream",
     "text": [
      "/home/panyu/miniconda3/envs/sci-data/lib/python3.9/site-packages/xgboost/core.py:122: UserWarning: ntree_limit is deprecated, use `iteration_range` or model slicing instead.\n",
      "  warnings.warn(\n",
      "/home/panyu/miniconda3/envs/sci-data/lib/python3.9/site-packages/xgboost/core.py:122: UserWarning: ntree_limit is deprecated, use `iteration_range` or model slicing instead.\n",
      "  warnings.warn(\n"
     ]
    },
    {
     "name": "stdout",
     "output_type": "stream",
     "text": [
      "[0]\ttrain-auc:0.64621\teval-auc:0.55869\n",
      "[1]\ttrain-auc:0.65026\teval-auc:0.56082\n",
      "[2]\ttrain-auc:0.67164\teval-auc:0.56585\n",
      "[3]\ttrain-auc:0.67337\teval-auc:0.56513\n",
      "[4]\ttrain-auc:0.68096\teval-auc:0.56891\n",
      "[5]\ttrain-auc:0.68371\teval-auc:0.56866\n",
      "[6]\ttrain-auc:0.68580\teval-auc:0.56899\n",
      "[7]\ttrain-auc:0.68652\teval-auc:0.56988\n",
      "[8]\ttrain-auc:0.68944\teval-auc:0.56967\n",
      "[9]\ttrain-auc:0.69133\teval-auc:0.57083\n",
      "finish training & evaluation for P117\n",
      "start training & evaluation for P133\n"
     ]
    },
    {
     "name": "stderr",
     "output_type": "stream",
     "text": [
      "/home/panyu/miniconda3/envs/sci-data/lib/python3.9/site-packages/xgboost/core.py:122: UserWarning: ntree_limit is deprecated, use `iteration_range` or model slicing instead.\n",
      "  warnings.warn(\n",
      "/home/panyu/miniconda3/envs/sci-data/lib/python3.9/site-packages/xgboost/core.py:122: UserWarning: ntree_limit is deprecated, use `iteration_range` or model slicing instead.\n",
      "  warnings.warn(\n"
     ]
    },
    {
     "name": "stdout",
     "output_type": "stream",
     "text": [
      "[0]\ttrain-auc:0.64185\teval-auc:0.56595\n",
      "[1]\ttrain-auc:0.64537\teval-auc:0.56621\n",
      "[2]\ttrain-auc:0.64801\teval-auc:0.56945\n",
      "[3]\ttrain-auc:0.67155\teval-auc:0.57867\n",
      "[4]\ttrain-auc:0.66892\teval-auc:0.57741\n",
      "[5]\ttrain-auc:0.66773\teval-auc:0.57699\n",
      "[6]\ttrain-auc:0.67835\teval-auc:0.58150\n",
      "[7]\ttrain-auc:0.68111\teval-auc:0.58004\n",
      "[8]\ttrain-auc:0.68390\teval-auc:0.57864\n",
      "[9]\ttrain-auc:0.68253\teval-auc:0.57844\n",
      "finish training & evaluation for P133\n",
      "start training & evaluation for P115\n"
     ]
    },
    {
     "name": "stderr",
     "output_type": "stream",
     "text": [
      "/home/panyu/miniconda3/envs/sci-data/lib/python3.9/site-packages/xgboost/core.py:122: UserWarning: ntree_limit is deprecated, use `iteration_range` or model slicing instead.\n",
      "  warnings.warn(\n",
      "/home/panyu/miniconda3/envs/sci-data/lib/python3.9/site-packages/xgboost/core.py:122: UserWarning: ntree_limit is deprecated, use `iteration_range` or model slicing instead.\n",
      "  warnings.warn(\n"
     ]
    },
    {
     "name": "stdout",
     "output_type": "stream",
     "text": [
      "[0]\ttrain-auc:0.64006\teval-auc:0.55988\n",
      "[1]\ttrain-auc:0.64197\teval-auc:0.56093\n",
      "[2]\ttrain-auc:0.64830\teval-auc:0.56431\n",
      "[3]\ttrain-auc:0.64747\teval-auc:0.56352\n",
      "[4]\ttrain-auc:0.65023\teval-auc:0.56689\n",
      "[5]\ttrain-auc:0.65074\teval-auc:0.56584\n",
      "[6]\ttrain-auc:0.65153\teval-auc:0.56674\n",
      "[7]\ttrain-auc:0.65095\teval-auc:0.56717\n",
      "[8]\ttrain-auc:0.65188\teval-auc:0.56827\n",
      "[9]\ttrain-auc:0.65343\teval-auc:0.56895\n",
      "finish training & evaluation for P115\n",
      "start training & evaluation for P028\n"
     ]
    },
    {
     "name": "stderr",
     "output_type": "stream",
     "text": [
      "/home/panyu/miniconda3/envs/sci-data/lib/python3.9/site-packages/xgboost/core.py:122: UserWarning: ntree_limit is deprecated, use `iteration_range` or model slicing instead.\n",
      "  warnings.warn(\n",
      "/home/panyu/miniconda3/envs/sci-data/lib/python3.9/site-packages/xgboost/core.py:122: UserWarning: ntree_limit is deprecated, use `iteration_range` or model slicing instead.\n",
      "  warnings.warn(\n"
     ]
    },
    {
     "name": "stdout",
     "output_type": "stream",
     "text": [
      "[0]\ttrain-auc:0.64094\teval-auc:0.56174\n",
      "[1]\ttrain-auc:0.65552\teval-auc:0.56672\n",
      "[2]\ttrain-auc:0.65552\teval-auc:0.56721\n",
      "[3]\ttrain-auc:0.65607\teval-auc:0.56689\n",
      "[4]\ttrain-auc:0.66510\teval-auc:0.57015\n",
      "[5]\ttrain-auc:0.67387\teval-auc:0.57366\n",
      "[6]\ttrain-auc:0.67652\teval-auc:0.57636\n",
      "[7]\ttrain-auc:0.68228\teval-auc:0.57804\n",
      "[8]\ttrain-auc:0.68515\teval-auc:0.57728\n",
      "[9]\ttrain-auc:0.69456\teval-auc:0.58322\n",
      "finish training & evaluation for P028\n",
      "start training & evaluation for P074\n"
     ]
    },
    {
     "name": "stderr",
     "output_type": "stream",
     "text": [
      "/home/panyu/miniconda3/envs/sci-data/lib/python3.9/site-packages/xgboost/core.py:122: UserWarning: ntree_limit is deprecated, use `iteration_range` or model slicing instead.\n",
      "  warnings.warn(\n",
      "/home/panyu/miniconda3/envs/sci-data/lib/python3.9/site-packages/xgboost/core.py:122: UserWarning: ntree_limit is deprecated, use `iteration_range` or model slicing instead.\n",
      "  warnings.warn(\n"
     ]
    },
    {
     "name": "stdout",
     "output_type": "stream",
     "text": [
      "[0]\ttrain-auc:0.63905\teval-auc:0.55127\n",
      "[1]\ttrain-auc:0.64544\teval-auc:0.55709\n",
      "[2]\ttrain-auc:0.64483\teval-auc:0.55678\n",
      "[3]\ttrain-auc:0.64913\teval-auc:0.55694\n",
      "[4]\ttrain-auc:0.65663\teval-auc:0.55797\n",
      "[5]\ttrain-auc:0.65753\teval-auc:0.55826\n",
      "[6]\ttrain-auc:0.65988\teval-auc:0.55969\n",
      "[7]\ttrain-auc:0.66104\teval-auc:0.55923\n",
      "[8]\ttrain-auc:0.66069\teval-auc:0.55999\n",
      "[9]\ttrain-auc:0.66306\teval-auc:0.56023\n",
      "finish training & evaluation for P074\n",
      "start training & evaluation for P050\n"
     ]
    },
    {
     "name": "stderr",
     "output_type": "stream",
     "text": [
      "/home/panyu/miniconda3/envs/sci-data/lib/python3.9/site-packages/xgboost/core.py:122: UserWarning: ntree_limit is deprecated, use `iteration_range` or model slicing instead.\n",
      "  warnings.warn(\n",
      "/home/panyu/miniconda3/envs/sci-data/lib/python3.9/site-packages/xgboost/core.py:122: UserWarning: ntree_limit is deprecated, use `iteration_range` or model slicing instead.\n",
      "  warnings.warn(\n"
     ]
    },
    {
     "name": "stdout",
     "output_type": "stream",
     "text": [
      "[0]\ttrain-auc:0.63987\teval-auc:0.55616\n",
      "[1]\ttrain-auc:0.65251\teval-auc:0.56736\n",
      "[2]\ttrain-auc:0.65280\teval-auc:0.56772\n",
      "[3]\ttrain-auc:0.65125\teval-auc:0.56645\n",
      "[4]\ttrain-auc:0.65862\teval-auc:0.56673\n",
      "[5]\ttrain-auc:0.65739\teval-auc:0.56521\n",
      "[6]\ttrain-auc:0.66047\teval-auc:0.56461\n",
      "[7]\ttrain-auc:0.66374\teval-auc:0.56535\n",
      "[8]\ttrain-auc:0.66831\teval-auc:0.57102\n",
      "[9]\ttrain-auc:0.66916\teval-auc:0.57088\n",
      "finish training & evaluation for P050\n",
      "start training & evaluation for P041\n"
     ]
    },
    {
     "name": "stderr",
     "output_type": "stream",
     "text": [
      "/home/panyu/miniconda3/envs/sci-data/lib/python3.9/site-packages/xgboost/core.py:122: UserWarning: ntree_limit is deprecated, use `iteration_range` or model slicing instead.\n",
      "  warnings.warn(\n",
      "/home/panyu/miniconda3/envs/sci-data/lib/python3.9/site-packages/xgboost/core.py:122: UserWarning: ntree_limit is deprecated, use `iteration_range` or model slicing instead.\n",
      "  warnings.warn(\n"
     ]
    },
    {
     "name": "stdout",
     "output_type": "stream",
     "text": [
      "[0]\ttrain-auc:0.63670\teval-auc:0.56005\n",
      "[1]\ttrain-auc:0.63689\teval-auc:0.56023\n",
      "[2]\ttrain-auc:0.64229\teval-auc:0.56131\n",
      "[3]\ttrain-auc:0.64498\teval-auc:0.56274\n",
      "[4]\ttrain-auc:0.64501\teval-auc:0.56332\n",
      "[5]\ttrain-auc:0.64629\teval-auc:0.56175\n",
      "[6]\ttrain-auc:0.64952\teval-auc:0.56460\n",
      "[7]\ttrain-auc:0.65089\teval-auc:0.56430\n",
      "[8]\ttrain-auc:0.65290\teval-auc:0.56421\n",
      "[9]\ttrain-auc:0.65289\teval-auc:0.56391\n",
      "finish training & evaluation for P041\n",
      "start training & evaluation for P047\n"
     ]
    },
    {
     "name": "stderr",
     "output_type": "stream",
     "text": [
      "/home/panyu/miniconda3/envs/sci-data/lib/python3.9/site-packages/xgboost/core.py:122: UserWarning: ntree_limit is deprecated, use `iteration_range` or model slicing instead.\n",
      "  warnings.warn(\n",
      "/home/panyu/miniconda3/envs/sci-data/lib/python3.9/site-packages/xgboost/core.py:122: UserWarning: ntree_limit is deprecated, use `iteration_range` or model slicing instead.\n",
      "  warnings.warn(\n"
     ]
    },
    {
     "name": "stdout",
     "output_type": "stream",
     "text": [
      "[0]\ttrain-auc:0.62896\teval-auc:0.56253\n",
      "[1]\ttrain-auc:0.64813\teval-auc:0.57135\n",
      "[2]\ttrain-auc:0.64929\teval-auc:0.57192\n",
      "[3]\ttrain-auc:0.66180\teval-auc:0.57530\n",
      "[4]\ttrain-auc:0.66317\teval-auc:0.57975\n",
      "[5]\ttrain-auc:0.66986\teval-auc:0.58192\n",
      "[6]\ttrain-auc:0.66944\teval-auc:0.58169\n",
      "[7]\ttrain-auc:0.67147\teval-auc:0.58390\n",
      "[8]\ttrain-auc:0.67036\teval-auc:0.58312\n",
      "[9]\ttrain-auc:0.67573\teval-auc:0.58471\n",
      "finish training & evaluation for P047\n",
      "start training & evaluation for P058\n"
     ]
    },
    {
     "name": "stderr",
     "output_type": "stream",
     "text": [
      "/home/panyu/miniconda3/envs/sci-data/lib/python3.9/site-packages/xgboost/core.py:122: UserWarning: ntree_limit is deprecated, use `iteration_range` or model slicing instead.\n",
      "  warnings.warn(\n",
      "/home/panyu/miniconda3/envs/sci-data/lib/python3.9/site-packages/xgboost/core.py:122: UserWarning: ntree_limit is deprecated, use `iteration_range` or model slicing instead.\n",
      "  warnings.warn(\n"
     ]
    },
    {
     "name": "stdout",
     "output_type": "stream",
     "text": [
      "[0]\ttrain-auc:0.63774\teval-auc:0.54572\n",
      "[1]\ttrain-auc:0.64040\teval-auc:0.54541\n",
      "[2]\ttrain-auc:0.64166\teval-auc:0.54496\n",
      "[3]\ttrain-auc:0.64588\teval-auc:0.55283\n",
      "[4]\ttrain-auc:0.67640\teval-auc:0.56365\n",
      "[5]\ttrain-auc:0.67512\teval-auc:0.56361\n",
      "[6]\ttrain-auc:0.68591\teval-auc:0.56782\n",
      "[7]\ttrain-auc:0.69272\teval-auc:0.57418\n",
      "[8]\ttrain-auc:0.69153\teval-auc:0.57363\n",
      "[9]\ttrain-auc:0.69422\teval-auc:0.57555\n",
      "finish training & evaluation for P058\n",
      "start training & evaluation for P061\n"
     ]
    },
    {
     "name": "stderr",
     "output_type": "stream",
     "text": [
      "/home/panyu/miniconda3/envs/sci-data/lib/python3.9/site-packages/xgboost/core.py:122: UserWarning: ntree_limit is deprecated, use `iteration_range` or model slicing instead.\n",
      "  warnings.warn(\n",
      "/home/panyu/miniconda3/envs/sci-data/lib/python3.9/site-packages/xgboost/core.py:122: UserWarning: ntree_limit is deprecated, use `iteration_range` or model slicing instead.\n",
      "  warnings.warn(\n"
     ]
    },
    {
     "name": "stdout",
     "output_type": "stream",
     "text": [
      "[0]\ttrain-auc:0.63547\teval-auc:0.54323\n",
      "[1]\ttrain-auc:0.63608\teval-auc:0.54277\n",
      "[2]\ttrain-auc:0.63873\teval-auc:0.54532\n",
      "[3]\ttrain-auc:0.63907\teval-auc:0.54523\n",
      "[4]\ttrain-auc:0.64104\teval-auc:0.54443\n",
      "[5]\ttrain-auc:0.64150\teval-auc:0.54436\n",
      "[6]\ttrain-auc:0.64211\teval-auc:0.54406\n",
      "[7]\ttrain-auc:0.64523\teval-auc:0.54706\n",
      "[8]\ttrain-auc:0.64808\teval-auc:0.54947\n",
      "[9]\ttrain-auc:0.64865\teval-auc:0.54992\n",
      "finish training & evaluation for P061\n",
      "start training & evaluation for P034\n"
     ]
    },
    {
     "name": "stderr",
     "output_type": "stream",
     "text": [
      "/home/panyu/miniconda3/envs/sci-data/lib/python3.9/site-packages/xgboost/core.py:122: UserWarning: ntree_limit is deprecated, use `iteration_range` or model slicing instead.\n",
      "  warnings.warn(\n",
      "/home/panyu/miniconda3/envs/sci-data/lib/python3.9/site-packages/xgboost/core.py:122: UserWarning: ntree_limit is deprecated, use `iteration_range` or model slicing instead.\n",
      "  warnings.warn(\n"
     ]
    },
    {
     "name": "stdout",
     "output_type": "stream",
     "text": [
      "[0]\ttrain-auc:0.63479\teval-auc:0.56802\n",
      "[1]\ttrain-auc:0.63860\teval-auc:0.56465\n",
      "[2]\ttrain-auc:0.64388\teval-auc:0.56540\n",
      "[3]\ttrain-auc:0.64314\teval-auc:0.56394\n",
      "[4]\ttrain-auc:0.64428\teval-auc:0.56681\n",
      "[5]\ttrain-auc:0.65777\teval-auc:0.57320\n",
      "[6]\ttrain-auc:0.65946\teval-auc:0.57356\n",
      "[7]\ttrain-auc:0.66458\teval-auc:0.57801\n",
      "[8]\ttrain-auc:0.66807\teval-auc:0.57940\n",
      "[9]\ttrain-auc:0.66979\teval-auc:0.58156\n",
      "finish training & evaluation for P034\n",
      "start training & evaluation for P076\n"
     ]
    },
    {
     "name": "stderr",
     "output_type": "stream",
     "text": [
      "/home/panyu/miniconda3/envs/sci-data/lib/python3.9/site-packages/xgboost/core.py:122: UserWarning: ntree_limit is deprecated, use `iteration_range` or model slicing instead.\n",
      "  warnings.warn(\n",
      "/home/panyu/miniconda3/envs/sci-data/lib/python3.9/site-packages/xgboost/core.py:122: UserWarning: ntree_limit is deprecated, use `iteration_range` or model slicing instead.\n",
      "  warnings.warn(\n"
     ]
    },
    {
     "name": "stdout",
     "output_type": "stream",
     "text": [
      "[0]\ttrain-auc:0.64181\teval-auc:0.56156\n",
      "[1]\ttrain-auc:0.64193\teval-auc:0.56153\n",
      "[2]\ttrain-auc:0.65079\teval-auc:0.56422\n",
      "[3]\ttrain-auc:0.65407\teval-auc:0.56790\n",
      "[4]\ttrain-auc:0.65389\teval-auc:0.56833\n",
      "[5]\ttrain-auc:0.65766\teval-auc:0.56982\n",
      "[6]\ttrain-auc:0.66316\teval-auc:0.57263\n",
      "[7]\ttrain-auc:0.66370\teval-auc:0.57217\n",
      "[8]\ttrain-auc:0.66641\teval-auc:0.57199\n",
      "[9]\ttrain-auc:0.66852\teval-auc:0.57061\n",
      "finish training & evaluation for P076\n",
      "start training & evaluation for P101\n"
     ]
    },
    {
     "name": "stderr",
     "output_type": "stream",
     "text": [
      "/home/panyu/miniconda3/envs/sci-data/lib/python3.9/site-packages/xgboost/core.py:122: UserWarning: ntree_limit is deprecated, use `iteration_range` or model slicing instead.\n",
      "  warnings.warn(\n",
      "/home/panyu/miniconda3/envs/sci-data/lib/python3.9/site-packages/xgboost/core.py:122: UserWarning: ntree_limit is deprecated, use `iteration_range` or model slicing instead.\n",
      "  warnings.warn(\n"
     ]
    },
    {
     "name": "stdout",
     "output_type": "stream",
     "text": [
      "[0]\ttrain-auc:0.64084\teval-auc:0.54303\n",
      "[1]\ttrain-auc:0.67728\teval-auc:0.56101\n",
      "[2]\ttrain-auc:0.67281\teval-auc:0.55850\n",
      "[3]\ttrain-auc:0.67716\teval-auc:0.56053\n",
      "[4]\ttrain-auc:0.69036\teval-auc:0.56541\n",
      "[5]\ttrain-auc:0.68979\teval-auc:0.56812\n",
      "[6]\ttrain-auc:0.69378\teval-auc:0.56904\n",
      "[7]\ttrain-auc:0.69795\teval-auc:0.57264\n",
      "[8]\ttrain-auc:0.69979\teval-auc:0.57561\n",
      "[9]\ttrain-auc:0.70150\teval-auc:0.57557\n",
      "finish training & evaluation for P101\n",
      "start training & evaluation for P035\n"
     ]
    },
    {
     "name": "stderr",
     "output_type": "stream",
     "text": [
      "/home/panyu/miniconda3/envs/sci-data/lib/python3.9/site-packages/xgboost/core.py:122: UserWarning: ntree_limit is deprecated, use `iteration_range` or model slicing instead.\n",
      "  warnings.warn(\n",
      "/home/panyu/miniconda3/envs/sci-data/lib/python3.9/site-packages/xgboost/core.py:122: UserWarning: ntree_limit is deprecated, use `iteration_range` or model slicing instead.\n",
      "  warnings.warn(\n"
     ]
    },
    {
     "name": "stdout",
     "output_type": "stream",
     "text": [
      "[0]\ttrain-auc:0.64075\teval-auc:0.55641\n",
      "[1]\ttrain-auc:0.64344\teval-auc:0.55844\n",
      "[2]\ttrain-auc:0.64320\teval-auc:0.55907\n",
      "[3]\ttrain-auc:0.64760\teval-auc:0.56165\n",
      "[4]\ttrain-auc:0.64983\teval-auc:0.56040\n",
      "[5]\ttrain-auc:0.65230\teval-auc:0.56238\n",
      "[6]\ttrain-auc:0.67284\teval-auc:0.56453\n",
      "[7]\ttrain-auc:0.67449\teval-auc:0.56327\n",
      "[8]\ttrain-auc:0.68378\teval-auc:0.56439\n",
      "[9]\ttrain-auc:0.68517\teval-auc:0.56578\n",
      "finish training & evaluation for P035\n",
      "start training & evaluation for P008\n"
     ]
    },
    {
     "name": "stderr",
     "output_type": "stream",
     "text": [
      "/home/panyu/miniconda3/envs/sci-data/lib/python3.9/site-packages/xgboost/core.py:122: UserWarning: ntree_limit is deprecated, use `iteration_range` or model slicing instead.\n",
      "  warnings.warn(\n",
      "/home/panyu/miniconda3/envs/sci-data/lib/python3.9/site-packages/xgboost/core.py:122: UserWarning: ntree_limit is deprecated, use `iteration_range` or model slicing instead.\n",
      "  warnings.warn(\n"
     ]
    },
    {
     "name": "stdout",
     "output_type": "stream",
     "text": [
      "[0]\ttrain-auc:0.65005\teval-auc:0.56338\n",
      "[1]\ttrain-auc:0.65233\teval-auc:0.56361\n",
      "[2]\ttrain-auc:0.65953\teval-auc:0.56843\n",
      "[3]\ttrain-auc:0.66765\teval-auc:0.57260\n",
      "[4]\ttrain-auc:0.66735\teval-auc:0.57314\n",
      "[5]\ttrain-auc:0.67335\teval-auc:0.57462\n",
      "[6]\ttrain-auc:0.67384\teval-auc:0.57418\n",
      "[7]\ttrain-auc:0.67584\teval-auc:0.57531\n",
      "[8]\ttrain-auc:0.67633\teval-auc:0.57234\n",
      "[9]\ttrain-auc:0.67727\teval-auc:0.57378\n",
      "finish training & evaluation for P008\n",
      "start training & evaluation for P049\n"
     ]
    },
    {
     "name": "stderr",
     "output_type": "stream",
     "text": [
      "/home/panyu/miniconda3/envs/sci-data/lib/python3.9/site-packages/xgboost/core.py:122: UserWarning: ntree_limit is deprecated, use `iteration_range` or model slicing instead.\n",
      "  warnings.warn(\n",
      "/home/panyu/miniconda3/envs/sci-data/lib/python3.9/site-packages/xgboost/core.py:122: UserWarning: ntree_limit is deprecated, use `iteration_range` or model slicing instead.\n",
      "  warnings.warn(\n"
     ]
    },
    {
     "name": "stdout",
     "output_type": "stream",
     "text": [
      "[0]\ttrain-auc:0.63816\teval-auc:0.55772\n",
      "[1]\ttrain-auc:0.63931\teval-auc:0.56014\n",
      "[2]\ttrain-auc:0.63896\teval-auc:0.55956\n",
      "[3]\ttrain-auc:0.64443\teval-auc:0.56000\n",
      "[4]\ttrain-auc:0.64445\teval-auc:0.56108\n",
      "[5]\ttrain-auc:0.64783\teval-auc:0.56191\n",
      "[6]\ttrain-auc:0.67003\teval-auc:0.56860\n",
      "[7]\ttrain-auc:0.67005\teval-auc:0.56845\n",
      "[8]\ttrain-auc:0.67056\teval-auc:0.56719\n",
      "[9]\ttrain-auc:0.68156\teval-auc:0.57000\n",
      "finish training & evaluation for P049\n",
      "start training & evaluation for P098\n"
     ]
    },
    {
     "name": "stderr",
     "output_type": "stream",
     "text": [
      "/home/panyu/miniconda3/envs/sci-data/lib/python3.9/site-packages/xgboost/core.py:122: UserWarning: ntree_limit is deprecated, use `iteration_range` or model slicing instead.\n",
      "  warnings.warn(\n",
      "/home/panyu/miniconda3/envs/sci-data/lib/python3.9/site-packages/xgboost/core.py:122: UserWarning: ntree_limit is deprecated, use `iteration_range` or model slicing instead.\n",
      "  warnings.warn(\n"
     ]
    },
    {
     "name": "stdout",
     "output_type": "stream",
     "text": [
      "[0]\ttrain-auc:0.64439\teval-auc:0.55836\n",
      "[1]\ttrain-auc:0.65551\teval-auc:0.56674\n",
      "[2]\ttrain-auc:0.65463\teval-auc:0.56538\n",
      "[3]\ttrain-auc:0.66256\teval-auc:0.56829\n",
      "[4]\ttrain-auc:0.66568\teval-auc:0.57217\n",
      "[5]\ttrain-auc:0.66850\teval-auc:0.57329\n",
      "[6]\ttrain-auc:0.66904\teval-auc:0.57379\n",
      "[7]\ttrain-auc:0.67631\teval-auc:0.57484\n",
      "[8]\ttrain-auc:0.67602\teval-auc:0.57603\n",
      "[9]\ttrain-auc:0.68061\teval-auc:0.57666\n",
      "finish training & evaluation for P098\n",
      "start training & evaluation for P046\n"
     ]
    },
    {
     "name": "stderr",
     "output_type": "stream",
     "text": [
      "/home/panyu/miniconda3/envs/sci-data/lib/python3.9/site-packages/xgboost/core.py:122: UserWarning: ntree_limit is deprecated, use `iteration_range` or model slicing instead.\n",
      "  warnings.warn(\n",
      "/home/panyu/miniconda3/envs/sci-data/lib/python3.9/site-packages/xgboost/core.py:122: UserWarning: ntree_limit is deprecated, use `iteration_range` or model slicing instead.\n",
      "  warnings.warn(\n"
     ]
    },
    {
     "name": "stdout",
     "output_type": "stream",
     "text": [
      "[0]\ttrain-auc:0.63121\teval-auc:0.54420\n",
      "[1]\ttrain-auc:0.63506\teval-auc:0.54837\n",
      "[2]\ttrain-auc:0.63548\teval-auc:0.54898\n",
      "[3]\ttrain-auc:0.64537\teval-auc:0.55515\n",
      "[4]\ttrain-auc:0.67194\teval-auc:0.56518\n",
      "[5]\ttrain-auc:0.67299\teval-auc:0.56549\n",
      "[6]\ttrain-auc:0.68080\teval-auc:0.57050\n",
      "[7]\ttrain-auc:0.67996\teval-auc:0.57077\n",
      "[8]\ttrain-auc:0.68370\teval-auc:0.57280\n",
      "[9]\ttrain-auc:0.68925\teval-auc:0.57546\n",
      "finish training & evaluation for P046\n",
      "start training & evaluation for P045\n"
     ]
    },
    {
     "name": "stderr",
     "output_type": "stream",
     "text": [
      "/home/panyu/miniconda3/envs/sci-data/lib/python3.9/site-packages/xgboost/core.py:122: UserWarning: ntree_limit is deprecated, use `iteration_range` or model slicing instead.\n",
      "  warnings.warn(\n",
      "/home/panyu/miniconda3/envs/sci-data/lib/python3.9/site-packages/xgboost/core.py:122: UserWarning: ntree_limit is deprecated, use `iteration_range` or model slicing instead.\n",
      "  warnings.warn(\n"
     ]
    },
    {
     "name": "stdout",
     "output_type": "stream",
     "text": [
      "[0]\ttrain-auc:0.63577\teval-auc:0.55553\n",
      "[1]\ttrain-auc:0.63637\teval-auc:0.55564\n",
      "[2]\ttrain-auc:0.63622\teval-auc:0.55571\n",
      "[3]\ttrain-auc:0.64144\teval-auc:0.55815\n",
      "[4]\ttrain-auc:0.64336\teval-auc:0.55764\n",
      "[5]\ttrain-auc:0.65241\teval-auc:0.56160\n",
      "[6]\ttrain-auc:0.65268\teval-auc:0.56071\n",
      "[7]\ttrain-auc:0.66965\teval-auc:0.56625\n",
      "[8]\ttrain-auc:0.67084\teval-auc:0.56802\n",
      "[9]\ttrain-auc:0.67971\teval-auc:0.57008\n",
      "finish training & evaluation for P045\n",
      "start training & evaluation for P073\n"
     ]
    },
    {
     "name": "stderr",
     "output_type": "stream",
     "text": [
      "/home/panyu/miniconda3/envs/sci-data/lib/python3.9/site-packages/xgboost/core.py:122: UserWarning: ntree_limit is deprecated, use `iteration_range` or model slicing instead.\n",
      "  warnings.warn(\n",
      "/home/panyu/miniconda3/envs/sci-data/lib/python3.9/site-packages/xgboost/core.py:122: UserWarning: ntree_limit is deprecated, use `iteration_range` or model slicing instead.\n",
      "  warnings.warn(\n"
     ]
    },
    {
     "name": "stdout",
     "output_type": "stream",
     "text": [
      "[0]\ttrain-auc:0.63888\teval-auc:0.55328\n",
      "[1]\ttrain-auc:0.64100\teval-auc:0.55358\n",
      "[2]\ttrain-auc:0.65127\teval-auc:0.55752\n",
      "[3]\ttrain-auc:0.65118\teval-auc:0.55584\n",
      "[4]\ttrain-auc:0.65369\teval-auc:0.55490\n",
      "[5]\ttrain-auc:0.65187\teval-auc:0.55431\n",
      "[6]\ttrain-auc:0.65775\teval-auc:0.55712\n",
      "[7]\ttrain-auc:0.67206\teval-auc:0.56253\n",
      "[8]\ttrain-auc:0.67250\teval-auc:0.56101\n",
      "[9]\ttrain-auc:0.67945\teval-auc:0.56349\n",
      "finish training & evaluation for P073\n",
      "start training & evaluation for P084\n"
     ]
    },
    {
     "name": "stderr",
     "output_type": "stream",
     "text": [
      "/home/panyu/miniconda3/envs/sci-data/lib/python3.9/site-packages/xgboost/core.py:122: UserWarning: ntree_limit is deprecated, use `iteration_range` or model slicing instead.\n",
      "  warnings.warn(\n",
      "/home/panyu/miniconda3/envs/sci-data/lib/python3.9/site-packages/xgboost/core.py:122: UserWarning: ntree_limit is deprecated, use `iteration_range` or model slicing instead.\n",
      "  warnings.warn(\n"
     ]
    },
    {
     "name": "stdout",
     "output_type": "stream",
     "text": [
      "[0]\ttrain-auc:0.63948\teval-auc:0.55239\n",
      "[1]\ttrain-auc:0.64121\teval-auc:0.55265\n",
      "[2]\ttrain-auc:0.64508\teval-auc:0.55390\n",
      "[3]\ttrain-auc:0.65255\teval-auc:0.55807\n",
      "[4]\ttrain-auc:0.65254\teval-auc:0.55730\n",
      "[5]\ttrain-auc:0.65584\teval-auc:0.55852\n",
      "[6]\ttrain-auc:0.65842\teval-auc:0.56135\n",
      "[7]\ttrain-auc:0.65973\teval-auc:0.56103\n",
      "[8]\ttrain-auc:0.66024\teval-auc:0.56069\n",
      "[9]\ttrain-auc:0.66515\teval-auc:0.56443\n",
      "finish training & evaluation for P084\n",
      "start training & evaluation for P002\n"
     ]
    },
    {
     "name": "stderr",
     "output_type": "stream",
     "text": [
      "/home/panyu/miniconda3/envs/sci-data/lib/python3.9/site-packages/xgboost/core.py:122: UserWarning: ntree_limit is deprecated, use `iteration_range` or model slicing instead.\n",
      "  warnings.warn(\n",
      "/home/panyu/miniconda3/envs/sci-data/lib/python3.9/site-packages/xgboost/core.py:122: UserWarning: ntree_limit is deprecated, use `iteration_range` or model slicing instead.\n",
      "  warnings.warn(\n"
     ]
    },
    {
     "name": "stdout",
     "output_type": "stream",
     "text": [
      "[0]\ttrain-auc:0.64923\teval-auc:0.55261\n",
      "[1]\ttrain-auc:0.66024\teval-auc:0.55867\n",
      "[2]\ttrain-auc:0.65998\teval-auc:0.55969\n",
      "[3]\ttrain-auc:0.65986\teval-auc:0.55939\n",
      "[4]\ttrain-auc:0.65857\teval-auc:0.55965\n",
      "[5]\ttrain-auc:0.66034\teval-auc:0.55962\n",
      "[6]\ttrain-auc:0.66237\teval-auc:0.56232\n",
      "[7]\ttrain-auc:0.66413\teval-auc:0.56278\n",
      "[8]\ttrain-auc:0.66431\teval-auc:0.56383\n",
      "[9]\ttrain-auc:0.66644\teval-auc:0.56367\n",
      "finish training & evaluation for P002\n",
      "start training & evaluation for P109\n"
     ]
    },
    {
     "name": "stderr",
     "output_type": "stream",
     "text": [
      "/home/panyu/miniconda3/envs/sci-data/lib/python3.9/site-packages/xgboost/core.py:122: UserWarning: ntree_limit is deprecated, use `iteration_range` or model slicing instead.\n",
      "  warnings.warn(\n",
      "/home/panyu/miniconda3/envs/sci-data/lib/python3.9/site-packages/xgboost/core.py:122: UserWarning: ntree_limit is deprecated, use `iteration_range` or model slicing instead.\n",
      "  warnings.warn(\n"
     ]
    },
    {
     "name": "stdout",
     "output_type": "stream",
     "text": [
      "[0]\ttrain-auc:0.63758\teval-auc:0.56235\n",
      "[1]\ttrain-auc:0.63758\teval-auc:0.56235\n",
      "[2]\ttrain-auc:0.64400\teval-auc:0.56393\n",
      "[3]\ttrain-auc:0.64532\teval-auc:0.56530\n",
      "[4]\ttrain-auc:0.64530\teval-auc:0.56549\n",
      "[5]\ttrain-auc:0.64549\teval-auc:0.56697\n",
      "[6]\ttrain-auc:0.64591\teval-auc:0.56668\n",
      "[7]\ttrain-auc:0.64667\teval-auc:0.56767\n",
      "[8]\ttrain-auc:0.65771\teval-auc:0.57066\n",
      "[9]\ttrain-auc:0.65665\teval-auc:0.56944\n",
      "finish training & evaluation for P109\n",
      "start training & evaluation for P124\n"
     ]
    },
    {
     "name": "stderr",
     "output_type": "stream",
     "text": [
      "/home/panyu/miniconda3/envs/sci-data/lib/python3.9/site-packages/xgboost/core.py:122: UserWarning: ntree_limit is deprecated, use `iteration_range` or model slicing instead.\n",
      "  warnings.warn(\n",
      "/home/panyu/miniconda3/envs/sci-data/lib/python3.9/site-packages/xgboost/core.py:122: UserWarning: ntree_limit is deprecated, use `iteration_range` or model slicing instead.\n",
      "  warnings.warn(\n"
     ]
    },
    {
     "name": "stdout",
     "output_type": "stream",
     "text": [
      "[0]\ttrain-auc:0.63982\teval-auc:0.54990\n",
      "[1]\ttrain-auc:0.64179\teval-auc:0.55117\n",
      "[2]\ttrain-auc:0.64898\teval-auc:0.55076\n",
      "[3]\ttrain-auc:0.65070\teval-auc:0.55217\n",
      "[4]\ttrain-auc:0.65931\teval-auc:0.55927\n",
      "[5]\ttrain-auc:0.66143\teval-auc:0.55684\n",
      "[6]\ttrain-auc:0.66374\teval-auc:0.55824\n",
      "[7]\ttrain-auc:0.66627\teval-auc:0.55944\n",
      "[8]\ttrain-auc:0.66768\teval-auc:0.56109\n",
      "[9]\ttrain-auc:0.66893\teval-auc:0.56006\n",
      "finish training & evaluation for P124\n",
      "start training & evaluation for P094\n"
     ]
    },
    {
     "name": "stderr",
     "output_type": "stream",
     "text": [
      "/home/panyu/miniconda3/envs/sci-data/lib/python3.9/site-packages/xgboost/core.py:122: UserWarning: ntree_limit is deprecated, use `iteration_range` or model slicing instead.\n",
      "  warnings.warn(\n",
      "/home/panyu/miniconda3/envs/sci-data/lib/python3.9/site-packages/xgboost/core.py:122: UserWarning: ntree_limit is deprecated, use `iteration_range` or model slicing instead.\n",
      "  warnings.warn(\n"
     ]
    },
    {
     "name": "stdout",
     "output_type": "stream",
     "text": [
      "[0]\ttrain-auc:0.64433\teval-auc:0.55777\n",
      "[1]\ttrain-auc:0.67235\teval-auc:0.56534\n",
      "[2]\ttrain-auc:0.67397\teval-auc:0.56595\n",
      "[3]\ttrain-auc:0.67522\teval-auc:0.56845\n",
      "[4]\ttrain-auc:0.67262\teval-auc:0.56769\n",
      "[5]\ttrain-auc:0.67315\teval-auc:0.56763\n",
      "[6]\ttrain-auc:0.67183\teval-auc:0.56813\n",
      "[7]\ttrain-auc:0.67204\teval-auc:0.56808\n",
      "[8]\ttrain-auc:0.67205\teval-auc:0.56876\n",
      "[9]\ttrain-auc:0.67266\teval-auc:0.56846\n",
      "finish training & evaluation for P094\n",
      "start training & evaluation for P121\n"
     ]
    },
    {
     "name": "stderr",
     "output_type": "stream",
     "text": [
      "/home/panyu/miniconda3/envs/sci-data/lib/python3.9/site-packages/xgboost/core.py:122: UserWarning: ntree_limit is deprecated, use `iteration_range` or model slicing instead.\n",
      "  warnings.warn(\n",
      "/home/panyu/miniconda3/envs/sci-data/lib/python3.9/site-packages/xgboost/core.py:122: UserWarning: ntree_limit is deprecated, use `iteration_range` or model slicing instead.\n",
      "  warnings.warn(\n"
     ]
    },
    {
     "name": "stdout",
     "output_type": "stream",
     "text": [
      "[0]\ttrain-auc:0.64584\teval-auc:0.55332\n",
      "[1]\ttrain-auc:0.67626\teval-auc:0.57268\n",
      "[2]\ttrain-auc:0.67221\teval-auc:0.57759\n",
      "[3]\ttrain-auc:0.68262\teval-auc:0.57709\n",
      "[4]\ttrain-auc:0.68054\teval-auc:0.57910\n",
      "[5]\ttrain-auc:0.67738\teval-auc:0.57891\n",
      "[6]\ttrain-auc:0.67499\teval-auc:0.57819\n",
      "[7]\ttrain-auc:0.68058\teval-auc:0.57784\n",
      "[8]\ttrain-auc:0.68185\teval-auc:0.57917\n",
      "[9]\ttrain-auc:0.67979\teval-auc:0.57955\n",
      "finish training & evaluation for P121\n",
      "start training & evaluation for P107\n"
     ]
    },
    {
     "name": "stderr",
     "output_type": "stream",
     "text": [
      "/home/panyu/miniconda3/envs/sci-data/lib/python3.9/site-packages/xgboost/core.py:122: UserWarning: ntree_limit is deprecated, use `iteration_range` or model slicing instead.\n",
      "  warnings.warn(\n",
      "/home/panyu/miniconda3/envs/sci-data/lib/python3.9/site-packages/xgboost/core.py:122: UserWarning: ntree_limit is deprecated, use `iteration_range` or model slicing instead.\n",
      "  warnings.warn(\n"
     ]
    },
    {
     "name": "stdout",
     "output_type": "stream",
     "text": [
      "[0]\ttrain-auc:0.64276\teval-auc:0.56420\n",
      "[1]\ttrain-auc:0.64366\teval-auc:0.56394\n",
      "[2]\ttrain-auc:0.66550\teval-auc:0.56763\n",
      "[3]\ttrain-auc:0.66316\teval-auc:0.56725\n",
      "[4]\ttrain-auc:0.66840\teval-auc:0.56991\n",
      "[5]\ttrain-auc:0.67340\teval-auc:0.57092\n",
      "[6]\ttrain-auc:0.67468\teval-auc:0.57049\n",
      "[7]\ttrain-auc:0.67903\teval-auc:0.57282\n",
      "[8]\ttrain-auc:0.68006\teval-auc:0.57261\n",
      "[9]\ttrain-auc:0.68657\teval-auc:0.57632\n",
      "finish training & evaluation for P107\n",
      "start training & evaluation for P078\n"
     ]
    },
    {
     "name": "stderr",
     "output_type": "stream",
     "text": [
      "/home/panyu/miniconda3/envs/sci-data/lib/python3.9/site-packages/xgboost/core.py:122: UserWarning: ntree_limit is deprecated, use `iteration_range` or model slicing instead.\n",
      "  warnings.warn(\n",
      "/home/panyu/miniconda3/envs/sci-data/lib/python3.9/site-packages/xgboost/core.py:122: UserWarning: ntree_limit is deprecated, use `iteration_range` or model slicing instead.\n",
      "  warnings.warn(\n"
     ]
    },
    {
     "name": "stdout",
     "output_type": "stream",
     "text": [
      "[0]\ttrain-auc:0.64191\teval-auc:0.56841\n",
      "[1]\ttrain-auc:0.66250\teval-auc:0.56937\n",
      "[2]\ttrain-auc:0.66023\teval-auc:0.56717\n",
      "[3]\ttrain-auc:0.66519\teval-auc:0.56898\n",
      "[4]\ttrain-auc:0.67100\teval-auc:0.57247\n",
      "[5]\ttrain-auc:0.66664\teval-auc:0.56830\n",
      "[6]\ttrain-auc:0.66799\teval-auc:0.56845\n",
      "[7]\ttrain-auc:0.66624\teval-auc:0.56784\n",
      "[8]\ttrain-auc:0.66697\teval-auc:0.56801\n",
      "[9]\ttrain-auc:0.67135\teval-auc:0.56983\n",
      "finish training & evaluation for P078\n",
      "start training & evaluation for P069\n"
     ]
    },
    {
     "name": "stderr",
     "output_type": "stream",
     "text": [
      "/home/panyu/miniconda3/envs/sci-data/lib/python3.9/site-packages/xgboost/core.py:122: UserWarning: ntree_limit is deprecated, use `iteration_range` or model slicing instead.\n",
      "  warnings.warn(\n",
      "/home/panyu/miniconda3/envs/sci-data/lib/python3.9/site-packages/xgboost/core.py:122: UserWarning: ntree_limit is deprecated, use `iteration_range` or model slicing instead.\n",
      "  warnings.warn(\n"
     ]
    },
    {
     "name": "stdout",
     "output_type": "stream",
     "text": [
      "[0]\ttrain-auc:0.64465\teval-auc:0.54361\n",
      "[1]\ttrain-auc:0.67599\teval-auc:0.55863\n",
      "[2]\ttrain-auc:0.67816\teval-auc:0.56017\n",
      "[3]\ttrain-auc:0.67457\teval-auc:0.55779\n",
      "[4]\ttrain-auc:0.68152\teval-auc:0.56214\n",
      "[5]\ttrain-auc:0.68731\teval-auc:0.56424\n",
      "[6]\ttrain-auc:0.68982\teval-auc:0.56695\n",
      "[7]\ttrain-auc:0.69145\teval-auc:0.56388\n",
      "[8]\ttrain-auc:0.69084\teval-auc:0.56434\n",
      "[9]\ttrain-auc:0.69127\teval-auc:0.56406\n",
      "finish training & evaluation for P069\n",
      "start training & evaluation for P051\n"
     ]
    },
    {
     "name": "stderr",
     "output_type": "stream",
     "text": [
      "/home/panyu/miniconda3/envs/sci-data/lib/python3.9/site-packages/xgboost/core.py:122: UserWarning: ntree_limit is deprecated, use `iteration_range` or model slicing instead.\n",
      "  warnings.warn(\n",
      "/home/panyu/miniconda3/envs/sci-data/lib/python3.9/site-packages/xgboost/core.py:122: UserWarning: ntree_limit is deprecated, use `iteration_range` or model slicing instead.\n",
      "  warnings.warn(\n"
     ]
    },
    {
     "name": "stdout",
     "output_type": "stream",
     "text": [
      "[0]\ttrain-auc:0.64252\teval-auc:0.56662\n",
      "[1]\ttrain-auc:0.67503\teval-auc:0.56882\n",
      "[2]\ttrain-auc:0.67192\teval-auc:0.56876\n",
      "[3]\ttrain-auc:0.69672\teval-auc:0.58042\n",
      "[4]\ttrain-auc:0.69622\teval-auc:0.58118\n",
      "[5]\ttrain-auc:0.69509\teval-auc:0.57958\n",
      "[6]\ttrain-auc:0.69187\teval-auc:0.57849\n",
      "[7]\ttrain-auc:0.69955\teval-auc:0.58269\n",
      "[8]\ttrain-auc:0.70270\teval-auc:0.58473\n",
      "[9]\ttrain-auc:0.70157\teval-auc:0.58414\n",
      "finish training & evaluation for P051\n",
      "start training & evaluation for P057\n"
     ]
    },
    {
     "name": "stderr",
     "output_type": "stream",
     "text": [
      "/home/panyu/miniconda3/envs/sci-data/lib/python3.9/site-packages/xgboost/core.py:122: UserWarning: ntree_limit is deprecated, use `iteration_range` or model slicing instead.\n",
      "  warnings.warn(\n",
      "/home/panyu/miniconda3/envs/sci-data/lib/python3.9/site-packages/xgboost/core.py:122: UserWarning: ntree_limit is deprecated, use `iteration_range` or model slicing instead.\n",
      "  warnings.warn(\n"
     ]
    },
    {
     "name": "stdout",
     "output_type": "stream",
     "text": [
      "[0]\ttrain-auc:0.64049\teval-auc:0.55502\n",
      "[1]\ttrain-auc:0.67630\teval-auc:0.56937\n",
      "[2]\ttrain-auc:0.67285\teval-auc:0.56982\n",
      "[3]\ttrain-auc:0.68162\teval-auc:0.57379\n",
      "[4]\ttrain-auc:0.68234\teval-auc:0.57290\n",
      "[5]\ttrain-auc:0.68847\teval-auc:0.57249\n",
      "[6]\ttrain-auc:0.69176\teval-auc:0.57539\n",
      "[7]\ttrain-auc:0.69390\teval-auc:0.57688\n",
      "[8]\ttrain-auc:0.69425\teval-auc:0.57463\n",
      "[9]\ttrain-auc:0.69840\teval-auc:0.57653\n",
      "finish training & evaluation for P057\n",
      "start training & evaluation for P052\n"
     ]
    },
    {
     "name": "stderr",
     "output_type": "stream",
     "text": [
      "/home/panyu/miniconda3/envs/sci-data/lib/python3.9/site-packages/xgboost/core.py:122: UserWarning: ntree_limit is deprecated, use `iteration_range` or model slicing instead.\n",
      "  warnings.warn(\n",
      "/home/panyu/miniconda3/envs/sci-data/lib/python3.9/site-packages/xgboost/core.py:122: UserWarning: ntree_limit is deprecated, use `iteration_range` or model slicing instead.\n",
      "  warnings.warn(\n"
     ]
    },
    {
     "name": "stdout",
     "output_type": "stream",
     "text": [
      "[0]\ttrain-auc:0.64866\teval-auc:0.56244\n",
      "[1]\ttrain-auc:0.65226\teval-auc:0.56360\n",
      "[2]\ttrain-auc:0.68307\teval-auc:0.57142\n",
      "[3]\ttrain-auc:0.68636\teval-auc:0.56878\n",
      "[4]\ttrain-auc:0.68616\teval-auc:0.57049\n",
      "[5]\ttrain-auc:0.68711\teval-auc:0.56878\n",
      "[6]\ttrain-auc:0.68625\teval-auc:0.56659\n",
      "[7]\ttrain-auc:0.69243\teval-auc:0.56619\n",
      "[8]\ttrain-auc:0.69524\teval-auc:0.56669\n",
      "[9]\ttrain-auc:0.69353\teval-auc:0.56549\n",
      "finish training & evaluation for P052\n",
      "start training & evaluation for P024\n"
     ]
    },
    {
     "name": "stderr",
     "output_type": "stream",
     "text": [
      "/home/panyu/miniconda3/envs/sci-data/lib/python3.9/site-packages/xgboost/core.py:122: UserWarning: ntree_limit is deprecated, use `iteration_range` or model slicing instead.\n",
      "  warnings.warn(\n",
      "/home/panyu/miniconda3/envs/sci-data/lib/python3.9/site-packages/xgboost/core.py:122: UserWarning: ntree_limit is deprecated, use `iteration_range` or model slicing instead.\n",
      "  warnings.warn(\n"
     ]
    },
    {
     "name": "stdout",
     "output_type": "stream",
     "text": [
      "[0]\ttrain-auc:0.64723\teval-auc:0.56365\n",
      "[1]\ttrain-auc:0.64794\teval-auc:0.56301\n",
      "[2]\ttrain-auc:0.64977\teval-auc:0.56404\n",
      "[3]\ttrain-auc:0.65065\teval-auc:0.56520\n",
      "[4]\ttrain-auc:0.65401\teval-auc:0.56813\n",
      "[5]\ttrain-auc:0.65476\teval-auc:0.56910\n",
      "[6]\ttrain-auc:0.65512\teval-auc:0.57006\n",
      "[7]\ttrain-auc:0.65691\teval-auc:0.57181\n",
      "[8]\ttrain-auc:0.65707\teval-auc:0.57064\n",
      "[9]\ttrain-auc:0.66000\teval-auc:0.57199\n",
      "finish training & evaluation for P024\n",
      "start training & evaluation for P044\n"
     ]
    },
    {
     "name": "stderr",
     "output_type": "stream",
     "text": [
      "/home/panyu/miniconda3/envs/sci-data/lib/python3.9/site-packages/xgboost/core.py:122: UserWarning: ntree_limit is deprecated, use `iteration_range` or model slicing instead.\n",
      "  warnings.warn(\n",
      "/home/panyu/miniconda3/envs/sci-data/lib/python3.9/site-packages/xgboost/core.py:122: UserWarning: ntree_limit is deprecated, use `iteration_range` or model slicing instead.\n",
      "  warnings.warn(\n"
     ]
    },
    {
     "name": "stdout",
     "output_type": "stream",
     "text": [
      "[0]\ttrain-auc:0.63887\teval-auc:0.55170\n",
      "[1]\ttrain-auc:0.64054\teval-auc:0.55028\n",
      "[2]\ttrain-auc:0.64509\teval-auc:0.55385\n",
      "[3]\ttrain-auc:0.66994\teval-auc:0.56740\n",
      "[4]\ttrain-auc:0.66692\teval-auc:0.56619\n",
      "[5]\ttrain-auc:0.67520\teval-auc:0.57041\n",
      "[6]\ttrain-auc:0.67421\teval-auc:0.57062\n",
      "[7]\ttrain-auc:0.68103\teval-auc:0.57450\n",
      "[8]\ttrain-auc:0.68085\teval-auc:0.57261\n",
      "[9]\ttrain-auc:0.68392\teval-auc:0.57444\n",
      "finish training & evaluation for P044\n",
      "start training & evaluation for P087\n"
     ]
    },
    {
     "name": "stderr",
     "output_type": "stream",
     "text": [
      "/home/panyu/miniconda3/envs/sci-data/lib/python3.9/site-packages/xgboost/core.py:122: UserWarning: ntree_limit is deprecated, use `iteration_range` or model slicing instead.\n",
      "  warnings.warn(\n",
      "/home/panyu/miniconda3/envs/sci-data/lib/python3.9/site-packages/xgboost/core.py:122: UserWarning: ntree_limit is deprecated, use `iteration_range` or model slicing instead.\n",
      "  warnings.warn(\n"
     ]
    },
    {
     "name": "stdout",
     "output_type": "stream",
     "text": [
      "[0]\ttrain-auc:0.64569\teval-auc:0.56719\n",
      "[1]\ttrain-auc:0.66286\teval-auc:0.57068\n",
      "[2]\ttrain-auc:0.66429\teval-auc:0.57384\n",
      "[3]\ttrain-auc:0.66514\teval-auc:0.57372\n",
      "[4]\ttrain-auc:0.66512\teval-auc:0.57506\n",
      "[5]\ttrain-auc:0.66992\teval-auc:0.57610\n",
      "[6]\ttrain-auc:0.66942\teval-auc:0.57617\n",
      "[7]\ttrain-auc:0.67135\teval-auc:0.57626\n",
      "[8]\ttrain-auc:0.67121\teval-auc:0.57634\n",
      "[9]\ttrain-auc:0.67315\teval-auc:0.57841\n",
      "finish training & evaluation for P087\n",
      "start training & evaluation for P013\n"
     ]
    },
    {
     "name": "stderr",
     "output_type": "stream",
     "text": [
      "/home/panyu/miniconda3/envs/sci-data/lib/python3.9/site-packages/xgboost/core.py:122: UserWarning: ntree_limit is deprecated, use `iteration_range` or model slicing instead.\n",
      "  warnings.warn(\n",
      "/home/panyu/miniconda3/envs/sci-data/lib/python3.9/site-packages/xgboost/core.py:122: UserWarning: ntree_limit is deprecated, use `iteration_range` or model slicing instead.\n",
      "  warnings.warn(\n"
     ]
    },
    {
     "name": "stdout",
     "output_type": "stream",
     "text": [
      "[0]\ttrain-auc:0.63238\teval-auc:0.55433\n",
      "[1]\ttrain-auc:0.63574\teval-auc:0.55769\n",
      "[2]\ttrain-auc:0.65007\teval-auc:0.56088\n",
      "[3]\ttrain-auc:0.64828\teval-auc:0.56261\n",
      "[4]\ttrain-auc:0.66563\teval-auc:0.56836\n",
      "[5]\ttrain-auc:0.66475\teval-auc:0.56595\n",
      "[6]\ttrain-auc:0.66584\teval-auc:0.56941\n",
      "[7]\ttrain-auc:0.66560\teval-auc:0.56815\n",
      "[8]\ttrain-auc:0.66885\teval-auc:0.56932\n",
      "[9]\ttrain-auc:0.66885\teval-auc:0.56843\n",
      "finish training & evaluation for P013\n",
      "start training & evaluation for P072\n"
     ]
    },
    {
     "name": "stderr",
     "output_type": "stream",
     "text": [
      "/home/panyu/miniconda3/envs/sci-data/lib/python3.9/site-packages/xgboost/core.py:122: UserWarning: ntree_limit is deprecated, use `iteration_range` or model slicing instead.\n",
      "  warnings.warn(\n",
      "/home/panyu/miniconda3/envs/sci-data/lib/python3.9/site-packages/xgboost/core.py:122: UserWarning: ntree_limit is deprecated, use `iteration_range` or model slicing instead.\n",
      "  warnings.warn(\n"
     ]
    },
    {
     "name": "stdout",
     "output_type": "stream",
     "text": [
      "[0]\ttrain-auc:0.65053\teval-auc:0.57085\n",
      "[1]\ttrain-auc:0.65921\teval-auc:0.57436\n",
      "[2]\ttrain-auc:0.66126\teval-auc:0.57689\n",
      "[3]\ttrain-auc:0.66301\teval-auc:0.57606\n",
      "[4]\ttrain-auc:0.66544\teval-auc:0.57661\n",
      "[5]\ttrain-auc:0.66945\teval-auc:0.57957\n",
      "[6]\ttrain-auc:0.67322\teval-auc:0.58057\n",
      "[7]\ttrain-auc:0.67688\teval-auc:0.57954\n",
      "[8]\ttrain-auc:0.67823\teval-auc:0.58093\n",
      "[9]\ttrain-auc:0.68024\teval-auc:0.58088\n",
      "finish training & evaluation for P072\n",
      "start training & evaluation for P003\n"
     ]
    },
    {
     "name": "stderr",
     "output_type": "stream",
     "text": [
      "/home/panyu/miniconda3/envs/sci-data/lib/python3.9/site-packages/xgboost/core.py:122: UserWarning: ntree_limit is deprecated, use `iteration_range` or model slicing instead.\n",
      "  warnings.warn(\n",
      "/home/panyu/miniconda3/envs/sci-data/lib/python3.9/site-packages/xgboost/core.py:122: UserWarning: ntree_limit is deprecated, use `iteration_range` or model slicing instead.\n",
      "  warnings.warn(\n"
     ]
    },
    {
     "name": "stdout",
     "output_type": "stream",
     "text": [
      "[0]\ttrain-auc:0.64331\teval-auc:0.55009\n",
      "[1]\ttrain-auc:0.64888\teval-auc:0.55400\n",
      "[2]\ttrain-auc:0.65198\teval-auc:0.56096\n",
      "[3]\ttrain-auc:0.65196\teval-auc:0.56156\n",
      "[4]\ttrain-auc:0.65278\teval-auc:0.56235\n",
      "[5]\ttrain-auc:0.65690\teval-auc:0.56253\n",
      "[6]\ttrain-auc:0.65716\teval-auc:0.56377\n",
      "[7]\ttrain-auc:0.65827\teval-auc:0.56435\n",
      "[8]\ttrain-auc:0.66506\teval-auc:0.56676\n",
      "[9]\ttrain-auc:0.66699\teval-auc:0.56873\n",
      "finish training & evaluation for P003\n",
      "start training & evaluation for P014\n"
     ]
    },
    {
     "name": "stderr",
     "output_type": "stream",
     "text": [
      "/home/panyu/miniconda3/envs/sci-data/lib/python3.9/site-packages/xgboost/core.py:122: UserWarning: ntree_limit is deprecated, use `iteration_range` or model slicing instead.\n",
      "  warnings.warn(\n",
      "/home/panyu/miniconda3/envs/sci-data/lib/python3.9/site-packages/xgboost/core.py:122: UserWarning: ntree_limit is deprecated, use `iteration_range` or model slicing instead.\n",
      "  warnings.warn(\n"
     ]
    },
    {
     "name": "stdout",
     "output_type": "stream",
     "text": [
      "[0]\ttrain-auc:0.64792\teval-auc:0.55852\n",
      "[1]\ttrain-auc:0.65720\teval-auc:0.56066\n",
      "[2]\ttrain-auc:0.65707\teval-auc:0.56018\n",
      "[3]\ttrain-auc:0.65807\teval-auc:0.56064\n",
      "[4]\ttrain-auc:0.66193\teval-auc:0.56204\n",
      "[5]\ttrain-auc:0.66213\teval-auc:0.56186\n",
      "[6]\ttrain-auc:0.66655\teval-auc:0.56321\n",
      "[7]\ttrain-auc:0.67041\teval-auc:0.56406\n",
      "[8]\ttrain-auc:0.68557\teval-auc:0.56888\n",
      "[9]\ttrain-auc:0.68590\teval-auc:0.56798\n",
      "finish training & evaluation for P014\n",
      "start training & evaluation for P054\n"
     ]
    },
    {
     "name": "stderr",
     "output_type": "stream",
     "text": [
      "/home/panyu/miniconda3/envs/sci-data/lib/python3.9/site-packages/xgboost/core.py:122: UserWarning: ntree_limit is deprecated, use `iteration_range` or model slicing instead.\n",
      "  warnings.warn(\n",
      "/home/panyu/miniconda3/envs/sci-data/lib/python3.9/site-packages/xgboost/core.py:122: UserWarning: ntree_limit is deprecated, use `iteration_range` or model slicing instead.\n",
      "  warnings.warn(\n"
     ]
    },
    {
     "name": "stdout",
     "output_type": "stream",
     "text": [
      "[0]\ttrain-auc:0.64357\teval-auc:0.55590\n",
      "[1]\ttrain-auc:0.64680\teval-auc:0.55948\n",
      "[2]\ttrain-auc:0.65063\teval-auc:0.56480\n",
      "[3]\ttrain-auc:0.66860\teval-auc:0.56788\n",
      "[4]\ttrain-auc:0.68254\teval-auc:0.56965\n",
      "[5]\ttrain-auc:0.68675\teval-auc:0.56987\n",
      "[6]\ttrain-auc:0.68824\teval-auc:0.57136\n",
      "[7]\ttrain-auc:0.69014\teval-auc:0.56963\n",
      "[8]\ttrain-auc:0.69130\teval-auc:0.57089\n",
      "[9]\ttrain-auc:0.69153\teval-auc:0.57163\n",
      "finish training & evaluation for P054\n",
      "start training & evaluation for P007\n"
     ]
    },
    {
     "name": "stderr",
     "output_type": "stream",
     "text": [
      "/home/panyu/miniconda3/envs/sci-data/lib/python3.9/site-packages/xgboost/core.py:122: UserWarning: ntree_limit is deprecated, use `iteration_range` or model slicing instead.\n",
      "  warnings.warn(\n",
      "/home/panyu/miniconda3/envs/sci-data/lib/python3.9/site-packages/xgboost/core.py:122: UserWarning: ntree_limit is deprecated, use `iteration_range` or model slicing instead.\n",
      "  warnings.warn(\n"
     ]
    },
    {
     "name": "stdout",
     "output_type": "stream",
     "text": [
      "[0]\ttrain-auc:0.63394\teval-auc:0.54463\n",
      "[1]\ttrain-auc:0.63457\teval-auc:0.54519\n",
      "[2]\ttrain-auc:0.64120\teval-auc:0.55447\n",
      "[3]\ttrain-auc:0.64433\teval-auc:0.55764\n",
      "[4]\ttrain-auc:0.64692\teval-auc:0.56263\n",
      "[5]\ttrain-auc:0.65613\teval-auc:0.56446\n",
      "[6]\ttrain-auc:0.66150\teval-auc:0.56966\n",
      "[7]\ttrain-auc:0.66267\teval-auc:0.56897\n",
      "[8]\ttrain-auc:0.66431\teval-auc:0.57099\n",
      "[9]\ttrain-auc:0.66529\teval-auc:0.57043\n",
      "finish training & evaluation for P007\n",
      "start training & evaluation for P055\n"
     ]
    },
    {
     "name": "stderr",
     "output_type": "stream",
     "text": [
      "/home/panyu/miniconda3/envs/sci-data/lib/python3.9/site-packages/xgboost/core.py:122: UserWarning: ntree_limit is deprecated, use `iteration_range` or model slicing instead.\n",
      "  warnings.warn(\n",
      "/home/panyu/miniconda3/envs/sci-data/lib/python3.9/site-packages/xgboost/core.py:122: UserWarning: ntree_limit is deprecated, use `iteration_range` or model slicing instead.\n",
      "  warnings.warn(\n"
     ]
    },
    {
     "name": "stdout",
     "output_type": "stream",
     "text": [
      "[0]\ttrain-auc:0.64003\teval-auc:0.56668\n",
      "[1]\ttrain-auc:0.64035\teval-auc:0.56729\n",
      "[2]\ttrain-auc:0.64281\teval-auc:0.56675\n",
      "[3]\ttrain-auc:0.64832\teval-auc:0.57102\n",
      "[4]\ttrain-auc:0.65149\teval-auc:0.57205\n",
      "[5]\ttrain-auc:0.65383\teval-auc:0.57344\n",
      "[6]\ttrain-auc:0.65534\teval-auc:0.57543\n",
      "[7]\ttrain-auc:0.65554\teval-auc:0.57484\n",
      "[8]\ttrain-auc:0.65704\teval-auc:0.57537\n",
      "[9]\ttrain-auc:0.66932\teval-auc:0.58157\n",
      "finish training & evaluation for P055\n",
      "start training & evaluation for P123\n"
     ]
    },
    {
     "name": "stderr",
     "output_type": "stream",
     "text": [
      "/home/panyu/miniconda3/envs/sci-data/lib/python3.9/site-packages/xgboost/core.py:122: UserWarning: ntree_limit is deprecated, use `iteration_range` or model slicing instead.\n",
      "  warnings.warn(\n",
      "/home/panyu/miniconda3/envs/sci-data/lib/python3.9/site-packages/xgboost/core.py:122: UserWarning: ntree_limit is deprecated, use `iteration_range` or model slicing instead.\n",
      "  warnings.warn(\n"
     ]
    },
    {
     "name": "stdout",
     "output_type": "stream",
     "text": [
      "[0]\ttrain-auc:0.63942\teval-auc:0.56156\n",
      "[1]\ttrain-auc:0.64160\teval-auc:0.56472\n",
      "[2]\ttrain-auc:0.64515\teval-auc:0.56625\n",
      "[3]\ttrain-auc:0.66964\teval-auc:0.57045\n",
      "[4]\ttrain-auc:0.66588\teval-auc:0.56945\n",
      "[5]\ttrain-auc:0.67770\teval-auc:0.57270\n",
      "[6]\ttrain-auc:0.68481\teval-auc:0.57532\n",
      "[7]\ttrain-auc:0.68770\teval-auc:0.57815\n",
      "[8]\ttrain-auc:0.69003\teval-auc:0.57909\n",
      "[9]\ttrain-auc:0.69076\teval-auc:0.57875\n",
      "finish training & evaluation for P123\n",
      "start training & evaluation for P105\n"
     ]
    },
    {
     "name": "stderr",
     "output_type": "stream",
     "text": [
      "/home/panyu/miniconda3/envs/sci-data/lib/python3.9/site-packages/xgboost/core.py:122: UserWarning: ntree_limit is deprecated, use `iteration_range` or model slicing instead.\n",
      "  warnings.warn(\n",
      "/home/panyu/miniconda3/envs/sci-data/lib/python3.9/site-packages/xgboost/core.py:122: UserWarning: ntree_limit is deprecated, use `iteration_range` or model slicing instead.\n",
      "  warnings.warn(\n"
     ]
    },
    {
     "name": "stdout",
     "output_type": "stream",
     "text": [
      "[0]\ttrain-auc:0.64055\teval-auc:0.55672\n",
      "[1]\ttrain-auc:0.64069\teval-auc:0.55857\n",
      "[2]\ttrain-auc:0.64498\teval-auc:0.55769\n",
      "[3]\ttrain-auc:0.64616\teval-auc:0.55771\n",
      "[4]\ttrain-auc:0.65512\teval-auc:0.55988\n",
      "[5]\ttrain-auc:0.65871\teval-auc:0.56235\n",
      "[6]\ttrain-auc:0.66134\teval-auc:0.56268\n",
      "[7]\ttrain-auc:0.66118\teval-auc:0.56304\n",
      "[8]\ttrain-auc:0.67285\teval-auc:0.56572\n",
      "[9]\ttrain-auc:0.67479\teval-auc:0.56788\n",
      "finish training & evaluation for P105\n",
      "start training & evaluation for P015\n"
     ]
    },
    {
     "name": "stderr",
     "output_type": "stream",
     "text": [
      "/home/panyu/miniconda3/envs/sci-data/lib/python3.9/site-packages/xgboost/core.py:122: UserWarning: ntree_limit is deprecated, use `iteration_range` or model slicing instead.\n",
      "  warnings.warn(\n",
      "/home/panyu/miniconda3/envs/sci-data/lib/python3.9/site-packages/xgboost/core.py:122: UserWarning: ntree_limit is deprecated, use `iteration_range` or model slicing instead.\n",
      "  warnings.warn(\n"
     ]
    },
    {
     "name": "stdout",
     "output_type": "stream",
     "text": [
      "[0]\ttrain-auc:0.65175\teval-auc:0.57163\n",
      "[1]\ttrain-auc:0.65558\teval-auc:0.57220\n",
      "[2]\ttrain-auc:0.66837\teval-auc:0.57915\n",
      "[3]\ttrain-auc:0.68852\teval-auc:0.58562\n",
      "[4]\ttrain-auc:0.68753\teval-auc:0.58617\n",
      "[5]\ttrain-auc:0.69311\teval-auc:0.58674\n",
      "[6]\ttrain-auc:0.69394\teval-auc:0.58658\n",
      "[7]\ttrain-auc:0.69663\teval-auc:0.58814\n",
      "[8]\ttrain-auc:0.69766\teval-auc:0.58970\n",
      "[9]\ttrain-auc:0.69934\teval-auc:0.58864\n",
      "finish training & evaluation for P015\n",
      "start training & evaluation for P086\n"
     ]
    },
    {
     "name": "stderr",
     "output_type": "stream",
     "text": [
      "/home/panyu/miniconda3/envs/sci-data/lib/python3.9/site-packages/xgboost/core.py:122: UserWarning: ntree_limit is deprecated, use `iteration_range` or model slicing instead.\n",
      "  warnings.warn(\n",
      "/home/panyu/miniconda3/envs/sci-data/lib/python3.9/site-packages/xgboost/core.py:122: UserWarning: ntree_limit is deprecated, use `iteration_range` or model slicing instead.\n",
      "  warnings.warn(\n"
     ]
    },
    {
     "name": "stdout",
     "output_type": "stream",
     "text": [
      "[0]\ttrain-auc:0.64202\teval-auc:0.54889\n",
      "[1]\ttrain-auc:0.64313\teval-auc:0.54858\n",
      "[2]\ttrain-auc:0.65061\teval-auc:0.55405\n",
      "[3]\ttrain-auc:0.65013\teval-auc:0.55400\n",
      "[4]\ttrain-auc:0.65252\teval-auc:0.55435\n",
      "[5]\ttrain-auc:0.65367\teval-auc:0.55626\n",
      "[6]\ttrain-auc:0.65446\teval-auc:0.55678\n",
      "[7]\ttrain-auc:0.65809\teval-auc:0.56016\n",
      "[8]\ttrain-auc:0.65927\teval-auc:0.56274\n",
      "[9]\ttrain-auc:0.66141\teval-auc:0.56422\n",
      "finish training & evaluation for P086\n",
      "start training & evaluation for P023\n"
     ]
    },
    {
     "name": "stderr",
     "output_type": "stream",
     "text": [
      "/home/panyu/miniconda3/envs/sci-data/lib/python3.9/site-packages/xgboost/core.py:122: UserWarning: ntree_limit is deprecated, use `iteration_range` or model slicing instead.\n",
      "  warnings.warn(\n",
      "/home/panyu/miniconda3/envs/sci-data/lib/python3.9/site-packages/xgboost/core.py:122: UserWarning: ntree_limit is deprecated, use `iteration_range` or model slicing instead.\n",
      "  warnings.warn(\n"
     ]
    },
    {
     "name": "stdout",
     "output_type": "stream",
     "text": [
      "[0]\ttrain-auc:0.63760\teval-auc:0.56748\n",
      "[1]\ttrain-auc:0.65917\teval-auc:0.57324\n",
      "[2]\ttrain-auc:0.65907\teval-auc:0.57613\n",
      "[3]\ttrain-auc:0.66293\teval-auc:0.57537\n",
      "[4]\ttrain-auc:0.66243\teval-auc:0.57674\n",
      "[5]\ttrain-auc:0.68413\teval-auc:0.58172\n",
      "[6]\ttrain-auc:0.68627\teval-auc:0.58339\n",
      "[7]\ttrain-auc:0.69507\teval-auc:0.58473\n",
      "[8]\ttrain-auc:0.69226\teval-auc:0.58397\n",
      "[9]\ttrain-auc:0.69714\teval-auc:0.58393\n",
      "finish training & evaluation for P023\n",
      "start training & evaluation for P096\n"
     ]
    },
    {
     "name": "stderr",
     "output_type": "stream",
     "text": [
      "/home/panyu/miniconda3/envs/sci-data/lib/python3.9/site-packages/xgboost/core.py:122: UserWarning: ntree_limit is deprecated, use `iteration_range` or model slicing instead.\n",
      "  warnings.warn(\n",
      "/home/panyu/miniconda3/envs/sci-data/lib/python3.9/site-packages/xgboost/core.py:122: UserWarning: ntree_limit is deprecated, use `iteration_range` or model slicing instead.\n",
      "  warnings.warn(\n"
     ]
    },
    {
     "name": "stdout",
     "output_type": "stream",
     "text": [
      "[0]\ttrain-auc:0.64511\teval-auc:0.54181\n",
      "[1]\ttrain-auc:0.64680\teval-auc:0.54315\n",
      "[2]\ttrain-auc:0.64971\teval-auc:0.54538\n",
      "[3]\ttrain-auc:0.65109\teval-auc:0.54676\n",
      "[4]\ttrain-auc:0.65408\teval-auc:0.54632\n",
      "[5]\ttrain-auc:0.65560\teval-auc:0.54666\n",
      "[6]\ttrain-auc:0.65760\teval-auc:0.54709\n",
      "[7]\ttrain-auc:0.65762\teval-auc:0.54784\n",
      "[8]\ttrain-auc:0.65768\teval-auc:0.54741\n",
      "[9]\ttrain-auc:0.65991\teval-auc:0.54763\n",
      "finish training & evaluation for P096\n",
      "start training & evaluation for P099\n"
     ]
    },
    {
     "name": "stderr",
     "output_type": "stream",
     "text": [
      "/home/panyu/miniconda3/envs/sci-data/lib/python3.9/site-packages/xgboost/core.py:122: UserWarning: ntree_limit is deprecated, use `iteration_range` or model slicing instead.\n",
      "  warnings.warn(\n",
      "/home/panyu/miniconda3/envs/sci-data/lib/python3.9/site-packages/xgboost/core.py:122: UserWarning: ntree_limit is deprecated, use `iteration_range` or model slicing instead.\n",
      "  warnings.warn(\n"
     ]
    },
    {
     "name": "stdout",
     "output_type": "stream",
     "text": [
      "[0]\ttrain-auc:0.63593\teval-auc:0.55204\n",
      "[1]\ttrain-auc:0.64204\teval-auc:0.55505\n",
      "[2]\ttrain-auc:0.64240\teval-auc:0.55502\n",
      "[3]\ttrain-auc:0.64485\teval-auc:0.55588\n",
      "[4]\ttrain-auc:0.64598\teval-auc:0.55565\n",
      "[5]\ttrain-auc:0.65246\teval-auc:0.55838\n",
      "[6]\ttrain-auc:0.65280\teval-auc:0.55861\n",
      "[7]\ttrain-auc:0.65759\teval-auc:0.56015\n",
      "[8]\ttrain-auc:0.66301\teval-auc:0.56200\n",
      "[9]\ttrain-auc:0.67150\teval-auc:0.56537\n",
      "finish training & evaluation for P099\n",
      "start training & evaluation for P037\n"
     ]
    },
    {
     "name": "stderr",
     "output_type": "stream",
     "text": [
      "/home/panyu/miniconda3/envs/sci-data/lib/python3.9/site-packages/xgboost/core.py:122: UserWarning: ntree_limit is deprecated, use `iteration_range` or model slicing instead.\n",
      "  warnings.warn(\n",
      "/home/panyu/miniconda3/envs/sci-data/lib/python3.9/site-packages/xgboost/core.py:122: UserWarning: ntree_limit is deprecated, use `iteration_range` or model slicing instead.\n",
      "  warnings.warn(\n"
     ]
    },
    {
     "name": "stdout",
     "output_type": "stream",
     "text": [
      "[0]\ttrain-auc:0.63683\teval-auc:0.55716\n",
      "[1]\ttrain-auc:0.65373\teval-auc:0.55968\n",
      "[2]\ttrain-auc:0.65127\teval-auc:0.55981\n",
      "[3]\ttrain-auc:0.66033\teval-auc:0.56079\n",
      "[4]\ttrain-auc:0.66526\teval-auc:0.56333\n",
      "[5]\ttrain-auc:0.66900\teval-auc:0.56362\n",
      "[6]\ttrain-auc:0.66680\teval-auc:0.56328\n",
      "[7]\ttrain-auc:0.67125\teval-auc:0.56463\n",
      "[8]\ttrain-auc:0.67479\teval-auc:0.56564\n",
      "[9]\ttrain-auc:0.67461\teval-auc:0.56573\n",
      "finish training & evaluation for P037\n",
      "start training & evaluation for P131\n"
     ]
    },
    {
     "name": "stderr",
     "output_type": "stream",
     "text": [
      "/home/panyu/miniconda3/envs/sci-data/lib/python3.9/site-packages/xgboost/core.py:122: UserWarning: ntree_limit is deprecated, use `iteration_range` or model slicing instead.\n",
      "  warnings.warn(\n",
      "/home/panyu/miniconda3/envs/sci-data/lib/python3.9/site-packages/xgboost/core.py:122: UserWarning: ntree_limit is deprecated, use `iteration_range` or model slicing instead.\n",
      "  warnings.warn(\n"
     ]
    },
    {
     "name": "stdout",
     "output_type": "stream",
     "text": [
      "[0]\ttrain-auc:0.64401\teval-auc:0.55462\n",
      "[1]\ttrain-auc:0.65601\teval-auc:0.56237\n",
      "[2]\ttrain-auc:0.65821\teval-auc:0.55938\n",
      "[3]\ttrain-auc:0.65895\teval-auc:0.55935\n",
      "[4]\ttrain-auc:0.66280\teval-auc:0.56142\n",
      "[5]\ttrain-auc:0.66698\teval-auc:0.56328\n",
      "[6]\ttrain-auc:0.67532\teval-auc:0.56872\n",
      "[7]\ttrain-auc:0.67527\teval-auc:0.56829\n",
      "[8]\ttrain-auc:0.67709\teval-auc:0.56860\n",
      "[9]\ttrain-auc:0.67942\teval-auc:0.57003\n",
      "finish training & evaluation for P131\n",
      "start training & evaluation for P009\n"
     ]
    },
    {
     "name": "stderr",
     "output_type": "stream",
     "text": [
      "/home/panyu/miniconda3/envs/sci-data/lib/python3.9/site-packages/xgboost/core.py:122: UserWarning: ntree_limit is deprecated, use `iteration_range` or model slicing instead.\n",
      "  warnings.warn(\n",
      "/home/panyu/miniconda3/envs/sci-data/lib/python3.9/site-packages/xgboost/core.py:122: UserWarning: ntree_limit is deprecated, use `iteration_range` or model slicing instead.\n",
      "  warnings.warn(\n"
     ]
    },
    {
     "name": "stdout",
     "output_type": "stream",
     "text": [
      "[0]\ttrain-auc:0.64917\teval-auc:0.55653\n",
      "[1]\ttrain-auc:0.65082\teval-auc:0.55525\n",
      "[2]\ttrain-auc:0.65713\teval-auc:0.56130\n",
      "[3]\ttrain-auc:0.65922\teval-auc:0.56010\n",
      "[4]\ttrain-auc:0.66544\teval-auc:0.56203\n",
      "[5]\ttrain-auc:0.66885\teval-auc:0.56363\n",
      "[6]\ttrain-auc:0.67324\teval-auc:0.56211\n",
      "[7]\ttrain-auc:0.67256\teval-auc:0.56422\n",
      "[8]\ttrain-auc:0.67880\teval-auc:0.56529\n",
      "[9]\ttrain-auc:0.68107\teval-auc:0.56607\n",
      "finish training & evaluation for P009\n",
      "start training & evaluation for P070\n"
     ]
    },
    {
     "name": "stderr",
     "output_type": "stream",
     "text": [
      "/home/panyu/miniconda3/envs/sci-data/lib/python3.9/site-packages/xgboost/core.py:122: UserWarning: ntree_limit is deprecated, use `iteration_range` or model slicing instead.\n",
      "  warnings.warn(\n",
      "/home/panyu/miniconda3/envs/sci-data/lib/python3.9/site-packages/xgboost/core.py:122: UserWarning: ntree_limit is deprecated, use `iteration_range` or model slicing instead.\n",
      "  warnings.warn(\n"
     ]
    },
    {
     "name": "stdout",
     "output_type": "stream",
     "text": [
      "[0]\ttrain-auc:0.63946\teval-auc:0.55317\n",
      "[1]\ttrain-auc:0.64057\teval-auc:0.55347\n",
      "[2]\ttrain-auc:0.64830\teval-auc:0.55561\n",
      "[3]\ttrain-auc:0.64886\teval-auc:0.55744\n",
      "[4]\ttrain-auc:0.65124\teval-auc:0.55712\n",
      "[5]\ttrain-auc:0.65247\teval-auc:0.55831\n",
      "[6]\ttrain-auc:0.65259\teval-auc:0.55871\n",
      "[7]\ttrain-auc:0.65541\teval-auc:0.56152\n",
      "[8]\ttrain-auc:0.65764\teval-auc:0.56362\n",
      "[9]\ttrain-auc:0.65973\teval-auc:0.56390\n",
      "finish training & evaluation for P070\n",
      "start training & evaluation for P040\n"
     ]
    },
    {
     "name": "stderr",
     "output_type": "stream",
     "text": [
      "/home/panyu/miniconda3/envs/sci-data/lib/python3.9/site-packages/xgboost/core.py:122: UserWarning: ntree_limit is deprecated, use `iteration_range` or model slicing instead.\n",
      "  warnings.warn(\n",
      "/home/panyu/miniconda3/envs/sci-data/lib/python3.9/site-packages/xgboost/core.py:122: UserWarning: ntree_limit is deprecated, use `iteration_range` or model slicing instead.\n",
      "  warnings.warn(\n"
     ]
    },
    {
     "name": "stdout",
     "output_type": "stream",
     "text": [
      "[0]\ttrain-auc:0.63643\teval-auc:0.54680\n",
      "[1]\ttrain-auc:0.64791\teval-auc:0.55002\n",
      "[2]\ttrain-auc:0.65944\teval-auc:0.55752\n",
      "[3]\ttrain-auc:0.66146\teval-auc:0.56026\n",
      "[4]\ttrain-auc:0.66862\teval-auc:0.56454\n",
      "[5]\ttrain-auc:0.66974\teval-auc:0.56511\n",
      "[6]\ttrain-auc:0.67123\teval-auc:0.56604\n",
      "[7]\ttrain-auc:0.67064\teval-auc:0.56666\n",
      "[8]\ttrain-auc:0.67702\teval-auc:0.56799\n",
      "[9]\ttrain-auc:0.67859\teval-auc:0.56895\n",
      "finish training & evaluation for P040\n",
      "start training & evaluation for P077\n"
     ]
    },
    {
     "name": "stderr",
     "output_type": "stream",
     "text": [
      "/home/panyu/miniconda3/envs/sci-data/lib/python3.9/site-packages/xgboost/core.py:122: UserWarning: ntree_limit is deprecated, use `iteration_range` or model slicing instead.\n",
      "  warnings.warn(\n",
      "/home/panyu/miniconda3/envs/sci-data/lib/python3.9/site-packages/xgboost/core.py:122: UserWarning: ntree_limit is deprecated, use `iteration_range` or model slicing instead.\n",
      "  warnings.warn(\n"
     ]
    },
    {
     "name": "stdout",
     "output_type": "stream",
     "text": [
      "[0]\ttrain-auc:0.63704\teval-auc:0.55561\n",
      "[1]\ttrain-auc:0.64000\teval-auc:0.55539\n",
      "[2]\ttrain-auc:0.65045\teval-auc:0.56064\n",
      "[3]\ttrain-auc:0.65246\teval-auc:0.56193\n",
      "[4]\ttrain-auc:0.65513\teval-auc:0.56209\n",
      "[5]\ttrain-auc:0.66699\teval-auc:0.56765\n",
      "[6]\ttrain-auc:0.67141\teval-auc:0.57001\n",
      "[7]\ttrain-auc:0.67436\teval-auc:0.57201\n",
      "[8]\ttrain-auc:0.67491\teval-auc:0.57172\n",
      "[9]\ttrain-auc:0.67645\teval-auc:0.57048\n",
      "finish training & evaluation for P077\n",
      "start training & evaluation for P018\n"
     ]
    },
    {
     "name": "stderr",
     "output_type": "stream",
     "text": [
      "/home/panyu/miniconda3/envs/sci-data/lib/python3.9/site-packages/xgboost/core.py:122: UserWarning: ntree_limit is deprecated, use `iteration_range` or model slicing instead.\n",
      "  warnings.warn(\n",
      "/home/panyu/miniconda3/envs/sci-data/lib/python3.9/site-packages/xgboost/core.py:122: UserWarning: ntree_limit is deprecated, use `iteration_range` or model slicing instead.\n",
      "  warnings.warn(\n"
     ]
    },
    {
     "name": "stdout",
     "output_type": "stream",
     "text": [
      "[0]\ttrain-auc:0.63984\teval-auc:0.56170\n",
      "[1]\ttrain-auc:0.64892\teval-auc:0.57263\n",
      "[2]\ttrain-auc:0.64812\teval-auc:0.57127\n",
      "[3]\ttrain-auc:0.64987\teval-auc:0.57160\n",
      "[4]\ttrain-auc:0.65165\teval-auc:0.57502\n",
      "[5]\ttrain-auc:0.65813\teval-auc:0.57725\n",
      "[6]\ttrain-auc:0.65890\teval-auc:0.57651\n",
      "[7]\ttrain-auc:0.67321\teval-auc:0.58144\n",
      "[8]\ttrain-auc:0.67512\teval-auc:0.58243\n",
      "[9]\ttrain-auc:0.68438\teval-auc:0.58477\n",
      "finish training & evaluation for P018\n",
      "start training & evaluation for P108\n"
     ]
    },
    {
     "name": "stderr",
     "output_type": "stream",
     "text": [
      "/home/panyu/miniconda3/envs/sci-data/lib/python3.9/site-packages/xgboost/core.py:122: UserWarning: ntree_limit is deprecated, use `iteration_range` or model slicing instead.\n",
      "  warnings.warn(\n",
      "/home/panyu/miniconda3/envs/sci-data/lib/python3.9/site-packages/xgboost/core.py:122: UserWarning: ntree_limit is deprecated, use `iteration_range` or model slicing instead.\n",
      "  warnings.warn(\n"
     ]
    },
    {
     "name": "stdout",
     "output_type": "stream",
     "text": [
      "[0]\ttrain-auc:0.63807\teval-auc:0.55507\n",
      "[1]\ttrain-auc:0.64168\teval-auc:0.55785\n",
      "[2]\ttrain-auc:0.64525\teval-auc:0.55518\n",
      "[3]\ttrain-auc:0.66299\teval-auc:0.56181\n",
      "[4]\ttrain-auc:0.66864\teval-auc:0.56354\n",
      "[5]\ttrain-auc:0.67063\teval-auc:0.56601\n",
      "[6]\ttrain-auc:0.67264\teval-auc:0.56684\n",
      "[7]\ttrain-auc:0.67221\teval-auc:0.56724\n",
      "[8]\ttrain-auc:0.67469\teval-auc:0.56855\n",
      "[9]\ttrain-auc:0.68128\teval-auc:0.56903\n",
      "finish training & evaluation for P108\n",
      "start training & evaluation for P030\n"
     ]
    },
    {
     "name": "stderr",
     "output_type": "stream",
     "text": [
      "/home/panyu/miniconda3/envs/sci-data/lib/python3.9/site-packages/xgboost/core.py:122: UserWarning: ntree_limit is deprecated, use `iteration_range` or model slicing instead.\n",
      "  warnings.warn(\n",
      "/home/panyu/miniconda3/envs/sci-data/lib/python3.9/site-packages/xgboost/core.py:122: UserWarning: ntree_limit is deprecated, use `iteration_range` or model slicing instead.\n",
      "  warnings.warn(\n"
     ]
    },
    {
     "name": "stdout",
     "output_type": "stream",
     "text": [
      "[0]\ttrain-auc:0.63552\teval-auc:0.55750\n",
      "[1]\ttrain-auc:0.64307\teval-auc:0.56081\n",
      "[2]\ttrain-auc:0.65680\teval-auc:0.56357\n",
      "[3]\ttrain-auc:0.65544\teval-auc:0.56226\n",
      "[4]\ttrain-auc:0.66058\teval-auc:0.56424\n",
      "[5]\ttrain-auc:0.66053\teval-auc:0.56387\n",
      "[6]\ttrain-auc:0.66192\teval-auc:0.56511\n",
      "[7]\ttrain-auc:0.66394\teval-auc:0.56569\n",
      "[8]\ttrain-auc:0.66409\teval-auc:0.56643\n",
      "[9]\ttrain-auc:0.67177\teval-auc:0.56719\n",
      "finish training & evaluation for P030\n",
      "start training & evaluation for P090\n"
     ]
    },
    {
     "name": "stderr",
     "output_type": "stream",
     "text": [
      "/home/panyu/miniconda3/envs/sci-data/lib/python3.9/site-packages/xgboost/core.py:122: UserWarning: ntree_limit is deprecated, use `iteration_range` or model slicing instead.\n",
      "  warnings.warn(\n",
      "/home/panyu/miniconda3/envs/sci-data/lib/python3.9/site-packages/xgboost/core.py:122: UserWarning: ntree_limit is deprecated, use `iteration_range` or model slicing instead.\n",
      "  warnings.warn(\n"
     ]
    },
    {
     "name": "stdout",
     "output_type": "stream",
     "text": [
      "[0]\ttrain-auc:0.64275\teval-auc:0.54935\n",
      "[1]\ttrain-auc:0.64980\teval-auc:0.55509\n",
      "[2]\ttrain-auc:0.65245\teval-auc:0.55508\n",
      "[3]\ttrain-auc:0.65435\teval-auc:0.55588\n",
      "[4]\ttrain-auc:0.66405\teval-auc:0.55954\n",
      "[5]\ttrain-auc:0.66983\teval-auc:0.56027\n",
      "[6]\ttrain-auc:0.67133\teval-auc:0.56201\n",
      "[7]\ttrain-auc:0.67558\teval-auc:0.56133\n",
      "[8]\ttrain-auc:0.67445\teval-auc:0.56182\n",
      "[9]\ttrain-auc:0.67633\teval-auc:0.56080\n",
      "finish training & evaluation for P090\n",
      "start training & evaluation for P066\n"
     ]
    },
    {
     "name": "stderr",
     "output_type": "stream",
     "text": [
      "/home/panyu/miniconda3/envs/sci-data/lib/python3.9/site-packages/xgboost/core.py:122: UserWarning: ntree_limit is deprecated, use `iteration_range` or model slicing instead.\n",
      "  warnings.warn(\n",
      "/home/panyu/miniconda3/envs/sci-data/lib/python3.9/site-packages/xgboost/core.py:122: UserWarning: ntree_limit is deprecated, use `iteration_range` or model slicing instead.\n",
      "  warnings.warn(\n"
     ]
    },
    {
     "name": "stdout",
     "output_type": "stream",
     "text": [
      "[0]\ttrain-auc:0.64403\teval-auc:0.56757\n",
      "[1]\ttrain-auc:0.65250\teval-auc:0.56896\n",
      "[2]\ttrain-auc:0.65274\teval-auc:0.56800\n",
      "[3]\ttrain-auc:0.65670\teval-auc:0.56678\n",
      "[4]\ttrain-auc:0.66068\teval-auc:0.56712\n",
      "[5]\ttrain-auc:0.66377\teval-auc:0.56953\n",
      "[6]\ttrain-auc:0.66413\teval-auc:0.56846\n",
      "[7]\ttrain-auc:0.66649\teval-auc:0.56896\n",
      "[8]\ttrain-auc:0.66778\teval-auc:0.56931\n",
      "[9]\ttrain-auc:0.66971\teval-auc:0.56885\n",
      "finish training & evaluation for P066\n",
      "start training & evaluation for P116\n"
     ]
    },
    {
     "name": "stderr",
     "output_type": "stream",
     "text": [
      "/home/panyu/miniconda3/envs/sci-data/lib/python3.9/site-packages/xgboost/core.py:122: UserWarning: ntree_limit is deprecated, use `iteration_range` or model slicing instead.\n",
      "  warnings.warn(\n",
      "/home/panyu/miniconda3/envs/sci-data/lib/python3.9/site-packages/xgboost/core.py:122: UserWarning: ntree_limit is deprecated, use `iteration_range` or model slicing instead.\n",
      "  warnings.warn(\n"
     ]
    },
    {
     "name": "stdout",
     "output_type": "stream",
     "text": [
      "[0]\ttrain-auc:0.64382\teval-auc:0.56395\n",
      "[1]\ttrain-auc:0.64811\teval-auc:0.56625\n",
      "[2]\ttrain-auc:0.64882\teval-auc:0.56566\n",
      "[3]\ttrain-auc:0.65165\teval-auc:0.56680\n",
      "[4]\ttrain-auc:0.65190\teval-auc:0.56653\n",
      "[5]\ttrain-auc:0.65340\teval-auc:0.56728\n",
      "[6]\ttrain-auc:0.65705\teval-auc:0.57061\n",
      "[7]\ttrain-auc:0.65686\teval-auc:0.57141\n",
      "[8]\ttrain-auc:0.65698\teval-auc:0.57215\n",
      "[9]\ttrain-auc:0.65830\teval-auc:0.57319\n",
      "finish training & evaluation for P116\n",
      "start training & evaluation for P016\n"
     ]
    },
    {
     "name": "stderr",
     "output_type": "stream",
     "text": [
      "/home/panyu/miniconda3/envs/sci-data/lib/python3.9/site-packages/xgboost/core.py:122: UserWarning: ntree_limit is deprecated, use `iteration_range` or model slicing instead.\n",
      "  warnings.warn(\n",
      "/home/panyu/miniconda3/envs/sci-data/lib/python3.9/site-packages/xgboost/core.py:122: UserWarning: ntree_limit is deprecated, use `iteration_range` or model slicing instead.\n",
      "  warnings.warn(\n"
     ]
    },
    {
     "name": "stdout",
     "output_type": "stream",
     "text": [
      "[0]\ttrain-auc:0.64371\teval-auc:0.56919\n",
      "[1]\ttrain-auc:0.64644\teval-auc:0.56673\n",
      "[2]\ttrain-auc:0.64853\teval-auc:0.56605\n",
      "[3]\ttrain-auc:0.64910\teval-auc:0.56693\n",
      "[4]\ttrain-auc:0.65636\teval-auc:0.57395\n",
      "[5]\ttrain-auc:0.66131\teval-auc:0.57770\n",
      "[6]\ttrain-auc:0.66274\teval-auc:0.57906\n",
      "[7]\ttrain-auc:0.66650\teval-auc:0.58030\n",
      "[8]\ttrain-auc:0.66672\teval-auc:0.58102\n",
      "[9]\ttrain-auc:0.67181\teval-auc:0.58320\n",
      "finish training & evaluation for P016\n",
      "start training & evaluation for P026\n"
     ]
    },
    {
     "name": "stderr",
     "output_type": "stream",
     "text": [
      "/home/panyu/miniconda3/envs/sci-data/lib/python3.9/site-packages/xgboost/core.py:122: UserWarning: ntree_limit is deprecated, use `iteration_range` or model slicing instead.\n",
      "  warnings.warn(\n",
      "/home/panyu/miniconda3/envs/sci-data/lib/python3.9/site-packages/xgboost/core.py:122: UserWarning: ntree_limit is deprecated, use `iteration_range` or model slicing instead.\n",
      "  warnings.warn(\n"
     ]
    },
    {
     "name": "stdout",
     "output_type": "stream",
     "text": [
      "[0]\ttrain-auc:0.63779\teval-auc:0.56498\n",
      "[1]\ttrain-auc:0.63872\teval-auc:0.56499\n",
      "[2]\ttrain-auc:0.65197\teval-auc:0.57348\n",
      "[3]\ttrain-auc:0.66436\teval-auc:0.57583\n",
      "[4]\ttrain-auc:0.66627\teval-auc:0.57586\n",
      "[5]\ttrain-auc:0.66648\teval-auc:0.57442\n",
      "[6]\ttrain-auc:0.66757\teval-auc:0.57634\n",
      "[7]\ttrain-auc:0.67879\teval-auc:0.57711\n",
      "[8]\ttrain-auc:0.68273\teval-auc:0.57786\n",
      "[9]\ttrain-auc:0.68813\teval-auc:0.57857\n",
      "finish training & evaluation for P026\n",
      "start training & evaluation for P097\n"
     ]
    },
    {
     "name": "stderr",
     "output_type": "stream",
     "text": [
      "/home/panyu/miniconda3/envs/sci-data/lib/python3.9/site-packages/xgboost/core.py:122: UserWarning: ntree_limit is deprecated, use `iteration_range` or model slicing instead.\n",
      "  warnings.warn(\n",
      "/home/panyu/miniconda3/envs/sci-data/lib/python3.9/site-packages/xgboost/core.py:122: UserWarning: ntree_limit is deprecated, use `iteration_range` or model slicing instead.\n",
      "  warnings.warn(\n"
     ]
    },
    {
     "name": "stdout",
     "output_type": "stream",
     "text": [
      "[0]\ttrain-auc:0.64578\teval-auc:0.55884\n",
      "[1]\ttrain-auc:0.65069\teval-auc:0.56389\n",
      "[2]\ttrain-auc:0.65032\teval-auc:0.55908\n",
      "[3]\ttrain-auc:0.65082\teval-auc:0.56422\n",
      "[4]\ttrain-auc:0.65256\teval-auc:0.56340\n",
      "[5]\ttrain-auc:0.65328\teval-auc:0.56434\n",
      "[6]\ttrain-auc:0.65271\teval-auc:0.56480\n",
      "[7]\ttrain-auc:0.65666\teval-auc:0.56638\n",
      "[8]\ttrain-auc:0.65940\teval-auc:0.56749\n",
      "[9]\ttrain-auc:0.67642\teval-auc:0.57281\n",
      "finish training & evaluation for P097\n",
      "start training & evaluation for P092\n"
     ]
    },
    {
     "name": "stderr",
     "output_type": "stream",
     "text": [
      "/home/panyu/miniconda3/envs/sci-data/lib/python3.9/site-packages/xgboost/core.py:122: UserWarning: ntree_limit is deprecated, use `iteration_range` or model slicing instead.\n",
      "  warnings.warn(\n",
      "/home/panyu/miniconda3/envs/sci-data/lib/python3.9/site-packages/xgboost/core.py:122: UserWarning: ntree_limit is deprecated, use `iteration_range` or model slicing instead.\n",
      "  warnings.warn(\n"
     ]
    },
    {
     "name": "stdout",
     "output_type": "stream",
     "text": [
      "[0]\ttrain-auc:0.64618\teval-auc:0.55616\n",
      "[1]\ttrain-auc:0.64884\teval-auc:0.55460\n",
      "[2]\ttrain-auc:0.64883\teval-auc:0.55573\n",
      "[3]\ttrain-auc:0.65044\teval-auc:0.55693\n",
      "[4]\ttrain-auc:0.65345\teval-auc:0.55567\n",
      "[5]\ttrain-auc:0.65387\teval-auc:0.55665\n",
      "[6]\ttrain-auc:0.66760\teval-auc:0.56358\n",
      "[7]\ttrain-auc:0.67354\teval-auc:0.56551\n",
      "[8]\ttrain-auc:0.67298\teval-auc:0.56562\n",
      "[9]\ttrain-auc:0.68158\teval-auc:0.56729\n",
      "finish training & evaluation for P092\n",
      "start training & evaluation for P071\n"
     ]
    },
    {
     "name": "stderr",
     "output_type": "stream",
     "text": [
      "/home/panyu/miniconda3/envs/sci-data/lib/python3.9/site-packages/xgboost/core.py:122: UserWarning: ntree_limit is deprecated, use `iteration_range` or model slicing instead.\n",
      "  warnings.warn(\n",
      "/home/panyu/miniconda3/envs/sci-data/lib/python3.9/site-packages/xgboost/core.py:122: UserWarning: ntree_limit is deprecated, use `iteration_range` or model slicing instead.\n",
      "  warnings.warn(\n"
     ]
    },
    {
     "name": "stdout",
     "output_type": "stream",
     "text": [
      "[0]\ttrain-auc:0.64548\teval-auc:0.55479\n",
      "[1]\ttrain-auc:0.64919\teval-auc:0.55713\n",
      "[2]\ttrain-auc:0.65015\teval-auc:0.55882\n",
      "[3]\ttrain-auc:0.65399\teval-auc:0.55849\n",
      "[4]\ttrain-auc:0.65406\teval-auc:0.55956\n",
      "[5]\ttrain-auc:0.65577\teval-auc:0.56001\n",
      "[6]\ttrain-auc:0.65605\teval-auc:0.56033\n",
      "[7]\ttrain-auc:0.65729\teval-auc:0.56031\n",
      "[8]\ttrain-auc:0.66064\teval-auc:0.56193\n",
      "[9]\ttrain-auc:0.66076\teval-auc:0.56204\n",
      "finish training & evaluation for P071\n",
      "start training & evaluation for P029\n"
     ]
    },
    {
     "name": "stderr",
     "output_type": "stream",
     "text": [
      "/home/panyu/miniconda3/envs/sci-data/lib/python3.9/site-packages/xgboost/core.py:122: UserWarning: ntree_limit is deprecated, use `iteration_range` or model slicing instead.\n",
      "  warnings.warn(\n",
      "/home/panyu/miniconda3/envs/sci-data/lib/python3.9/site-packages/xgboost/core.py:122: UserWarning: ntree_limit is deprecated, use `iteration_range` or model slicing instead.\n",
      "  warnings.warn(\n"
     ]
    },
    {
     "name": "stdout",
     "output_type": "stream",
     "text": [
      "[0]\ttrain-auc:0.64464\teval-auc:0.56009\n",
      "[1]\ttrain-auc:0.64573\teval-auc:0.55994\n",
      "[2]\ttrain-auc:0.65302\teval-auc:0.56219\n",
      "[3]\ttrain-auc:0.65263\teval-auc:0.56314\n",
      "[4]\ttrain-auc:0.67267\teval-auc:0.56810\n",
      "[5]\ttrain-auc:0.67158\teval-auc:0.56806\n",
      "[6]\ttrain-auc:0.67815\teval-auc:0.56901\n",
      "[7]\ttrain-auc:0.67771\teval-auc:0.56940\n",
      "[8]\ttrain-auc:0.68695\teval-auc:0.57274\n",
      "[9]\ttrain-auc:0.69155\teval-auc:0.57566\n",
      "finish training & evaluation for P029\n",
      "start training & evaluation for P125\n"
     ]
    },
    {
     "name": "stderr",
     "output_type": "stream",
     "text": [
      "/home/panyu/miniconda3/envs/sci-data/lib/python3.9/site-packages/xgboost/core.py:122: UserWarning: ntree_limit is deprecated, use `iteration_range` or model slicing instead.\n",
      "  warnings.warn(\n",
      "/home/panyu/miniconda3/envs/sci-data/lib/python3.9/site-packages/xgboost/core.py:122: UserWarning: ntree_limit is deprecated, use `iteration_range` or model slicing instead.\n",
      "  warnings.warn(\n"
     ]
    },
    {
     "name": "stdout",
     "output_type": "stream",
     "text": [
      "[0]\ttrain-auc:0.64238\teval-auc:0.56780\n",
      "[1]\ttrain-auc:0.64567\teval-auc:0.57323\n",
      "[2]\ttrain-auc:0.64644\teval-auc:0.57313\n",
      "[3]\ttrain-auc:0.64727\teval-auc:0.57292\n",
      "[4]\ttrain-auc:0.64816\teval-auc:0.57259\n",
      "[5]\ttrain-auc:0.64860\teval-auc:0.57299\n",
      "[6]\ttrain-auc:0.64877\teval-auc:0.57323\n",
      "[7]\ttrain-auc:0.64879\teval-auc:0.57298\n",
      "[8]\ttrain-auc:0.64967\teval-auc:0.57442\n",
      "[9]\ttrain-auc:0.66040\teval-auc:0.57797\n",
      "finish training & evaluation for P125\n",
      "start training & evaluation for P081\n"
     ]
    },
    {
     "name": "stderr",
     "output_type": "stream",
     "text": [
      "/home/panyu/miniconda3/envs/sci-data/lib/python3.9/site-packages/xgboost/core.py:122: UserWarning: ntree_limit is deprecated, use `iteration_range` or model slicing instead.\n",
      "  warnings.warn(\n",
      "/home/panyu/miniconda3/envs/sci-data/lib/python3.9/site-packages/xgboost/core.py:122: UserWarning: ntree_limit is deprecated, use `iteration_range` or model slicing instead.\n",
      "  warnings.warn(\n"
     ]
    },
    {
     "name": "stdout",
     "output_type": "stream",
     "text": [
      "[0]\ttrain-auc:0.64467\teval-auc:0.56088\n",
      "[1]\ttrain-auc:0.65410\teval-auc:0.56186\n",
      "[2]\ttrain-auc:0.65395\teval-auc:0.56227\n",
      "[3]\ttrain-auc:0.65503\teval-auc:0.56156\n",
      "[4]\ttrain-auc:0.66211\teval-auc:0.56476\n",
      "[5]\ttrain-auc:0.67083\teval-auc:0.56895\n",
      "[6]\ttrain-auc:0.67556\teval-auc:0.57007\n",
      "[7]\ttrain-auc:0.68281\teval-auc:0.57464\n",
      "[8]\ttrain-auc:0.68485\teval-auc:0.57491\n",
      "[9]\ttrain-auc:0.69143\teval-auc:0.57920\n",
      "finish training & evaluation for P081\n",
      "start training & evaluation for P091\n"
     ]
    },
    {
     "name": "stderr",
     "output_type": "stream",
     "text": [
      "/home/panyu/miniconda3/envs/sci-data/lib/python3.9/site-packages/xgboost/core.py:122: UserWarning: ntree_limit is deprecated, use `iteration_range` or model slicing instead.\n",
      "  warnings.warn(\n",
      "/home/panyu/miniconda3/envs/sci-data/lib/python3.9/site-packages/xgboost/core.py:122: UserWarning: ntree_limit is deprecated, use `iteration_range` or model slicing instead.\n",
      "  warnings.warn(\n"
     ]
    },
    {
     "name": "stdout",
     "output_type": "stream",
     "text": [
      "[0]\ttrain-auc:0.63603\teval-auc:0.55706\n",
      "[1]\ttrain-auc:0.63743\teval-auc:0.55612\n",
      "[2]\ttrain-auc:0.64376\teval-auc:0.55771\n",
      "[3]\ttrain-auc:0.65895\teval-auc:0.56462\n",
      "[4]\ttrain-auc:0.65901\teval-auc:0.56437\n",
      "[5]\ttrain-auc:0.66456\teval-auc:0.56360\n",
      "[6]\ttrain-auc:0.67077\teval-auc:0.56768\n",
      "[7]\ttrain-auc:0.66986\teval-auc:0.56831\n",
      "[8]\ttrain-auc:0.67200\teval-auc:0.56915\n",
      "[9]\ttrain-auc:0.67344\teval-auc:0.56927\n",
      "finish training & evaluation for P091\n",
      "start training & evaluation for P114\n"
     ]
    },
    {
     "name": "stderr",
     "output_type": "stream",
     "text": [
      "/home/panyu/miniconda3/envs/sci-data/lib/python3.9/site-packages/xgboost/core.py:122: UserWarning: ntree_limit is deprecated, use `iteration_range` or model slicing instead.\n",
      "  warnings.warn(\n",
      "/home/panyu/miniconda3/envs/sci-data/lib/python3.9/site-packages/xgboost/core.py:122: UserWarning: ntree_limit is deprecated, use `iteration_range` or model slicing instead.\n",
      "  warnings.warn(\n"
     ]
    },
    {
     "name": "stdout",
     "output_type": "stream",
     "text": [
      "[0]\ttrain-auc:0.63648\teval-auc:0.55866\n",
      "[1]\ttrain-auc:0.63662\teval-auc:0.55990\n",
      "[2]\ttrain-auc:0.64821\teval-auc:0.56248\n",
      "[3]\ttrain-auc:0.67706\teval-auc:0.57037\n",
      "[4]\ttrain-auc:0.67388\teval-auc:0.57045\n",
      "[5]\ttrain-auc:0.68406\teval-auc:0.57021\n",
      "[6]\ttrain-auc:0.68560\teval-auc:0.57272\n",
      "[7]\ttrain-auc:0.68940\teval-auc:0.57217\n",
      "[8]\ttrain-auc:0.68841\teval-auc:0.57160\n",
      "[9]\ttrain-auc:0.69197\teval-auc:0.57153\n",
      "finish training & evaluation for P114\n",
      "start training & evaluation for P042\n"
     ]
    },
    {
     "name": "stderr",
     "output_type": "stream",
     "text": [
      "/home/panyu/miniconda3/envs/sci-data/lib/python3.9/site-packages/xgboost/core.py:122: UserWarning: ntree_limit is deprecated, use `iteration_range` or model slicing instead.\n",
      "  warnings.warn(\n",
      "/home/panyu/miniconda3/envs/sci-data/lib/python3.9/site-packages/xgboost/core.py:122: UserWarning: ntree_limit is deprecated, use `iteration_range` or model slicing instead.\n",
      "  warnings.warn(\n"
     ]
    },
    {
     "name": "stdout",
     "output_type": "stream",
     "text": [
      "[0]\ttrain-auc:0.62071\teval-auc:0.55420\n",
      "[1]\ttrain-auc:0.62195\teval-auc:0.55166\n",
      "[2]\ttrain-auc:0.62832\teval-auc:0.55196\n",
      "[3]\ttrain-auc:0.64264\teval-auc:0.55785\n",
      "[4]\ttrain-auc:0.64524\teval-auc:0.55684\n",
      "[5]\ttrain-auc:0.64710\teval-auc:0.55846\n",
      "[6]\ttrain-auc:0.65184\teval-auc:0.55961\n",
      "[7]\ttrain-auc:0.65183\teval-auc:0.56008\n",
      "[8]\ttrain-auc:0.65525\teval-auc:0.55986\n",
      "[9]\ttrain-auc:0.66923\teval-auc:0.56343\n",
      "finish training & evaluation for P042\n",
      "start training & evaluation for P103\n"
     ]
    },
    {
     "name": "stderr",
     "output_type": "stream",
     "text": [
      "/home/panyu/miniconda3/envs/sci-data/lib/python3.9/site-packages/xgboost/core.py:122: UserWarning: ntree_limit is deprecated, use `iteration_range` or model slicing instead.\n",
      "  warnings.warn(\n",
      "/home/panyu/miniconda3/envs/sci-data/lib/python3.9/site-packages/xgboost/core.py:122: UserWarning: ntree_limit is deprecated, use `iteration_range` or model slicing instead.\n",
      "  warnings.warn(\n"
     ]
    },
    {
     "name": "stdout",
     "output_type": "stream",
     "text": [
      "[0]\ttrain-auc:0.63951\teval-auc:0.56866\n",
      "[1]\ttrain-auc:0.64238\teval-auc:0.57248\n",
      "[2]\ttrain-auc:0.64723\teval-auc:0.57146\n",
      "[3]\ttrain-auc:0.66425\teval-auc:0.57528\n",
      "[4]\ttrain-auc:0.66666\teval-auc:0.57650\n",
      "[5]\ttrain-auc:0.68634\teval-auc:0.58223\n",
      "[6]\ttrain-auc:0.68323\teval-auc:0.57999\n",
      "[7]\ttrain-auc:0.68989\teval-auc:0.58276\n",
      "[8]\ttrain-auc:0.69414\teval-auc:0.58440\n",
      "[9]\ttrain-auc:0.70032\teval-auc:0.58624\n",
      "finish training & evaluation for P103\n",
      "start training & evaluation for P059\n"
     ]
    },
    {
     "name": "stderr",
     "output_type": "stream",
     "text": [
      "/home/panyu/miniconda3/envs/sci-data/lib/python3.9/site-packages/xgboost/core.py:122: UserWarning: ntree_limit is deprecated, use `iteration_range` or model slicing instead.\n",
      "  warnings.warn(\n",
      "/home/panyu/miniconda3/envs/sci-data/lib/python3.9/site-packages/xgboost/core.py:122: UserWarning: ntree_limit is deprecated, use `iteration_range` or model slicing instead.\n",
      "  warnings.warn(\n"
     ]
    },
    {
     "name": "stdout",
     "output_type": "stream",
     "text": [
      "[0]\ttrain-auc:0.63889\teval-auc:0.56292\n",
      "[1]\ttrain-auc:0.64109\teval-auc:0.56257\n",
      "[2]\ttrain-auc:0.66779\teval-auc:0.57486\n",
      "[3]\ttrain-auc:0.66454\teval-auc:0.57227\n",
      "[4]\ttrain-auc:0.66100\teval-auc:0.57093\n",
      "[5]\ttrain-auc:0.66950\teval-auc:0.57306\n",
      "[6]\ttrain-auc:0.66758\teval-auc:0.57143\n",
      "[7]\ttrain-auc:0.66990\teval-auc:0.57189\n",
      "[8]\ttrain-auc:0.67571\teval-auc:0.57329\n",
      "[9]\ttrain-auc:0.67962\teval-auc:0.57413\n",
      "finish training & evaluation for P059\n",
      "start training & evaluation for P122\n"
     ]
    },
    {
     "name": "stderr",
     "output_type": "stream",
     "text": [
      "/home/panyu/miniconda3/envs/sci-data/lib/python3.9/site-packages/xgboost/core.py:122: UserWarning: ntree_limit is deprecated, use `iteration_range` or model slicing instead.\n",
      "  warnings.warn(\n",
      "/home/panyu/miniconda3/envs/sci-data/lib/python3.9/site-packages/xgboost/core.py:122: UserWarning: ntree_limit is deprecated, use `iteration_range` or model slicing instead.\n",
      "  warnings.warn(\n"
     ]
    },
    {
     "name": "stdout",
     "output_type": "stream",
     "text": [
      "[0]\ttrain-auc:0.63410\teval-auc:0.56259\n",
      "[1]\ttrain-auc:0.63542\teval-auc:0.56134\n",
      "[2]\ttrain-auc:0.68029\teval-auc:0.57490\n",
      "[3]\ttrain-auc:0.67775\teval-auc:0.57323\n",
      "[4]\ttrain-auc:0.68734\teval-auc:0.57673\n",
      "[5]\ttrain-auc:0.68959\teval-auc:0.57366\n",
      "[6]\ttrain-auc:0.69053\teval-auc:0.57570\n",
      "[7]\ttrain-auc:0.69142\teval-auc:0.57468\n",
      "[8]\ttrain-auc:0.69264\teval-auc:0.57357\n",
      "[9]\ttrain-auc:0.69589\teval-auc:0.57722\n",
      "finish training & evaluation for P122\n",
      "start training & evaluation for P119\n"
     ]
    },
    {
     "name": "stderr",
     "output_type": "stream",
     "text": [
      "/home/panyu/miniconda3/envs/sci-data/lib/python3.9/site-packages/xgboost/core.py:122: UserWarning: ntree_limit is deprecated, use `iteration_range` or model slicing instead.\n",
      "  warnings.warn(\n",
      "/home/panyu/miniconda3/envs/sci-data/lib/python3.9/site-packages/xgboost/core.py:122: UserWarning: ntree_limit is deprecated, use `iteration_range` or model slicing instead.\n",
      "  warnings.warn(\n"
     ]
    },
    {
     "name": "stdout",
     "output_type": "stream",
     "text": [
      "[0]\ttrain-auc:0.64512\teval-auc:0.56381\n",
      "[1]\ttrain-auc:0.64974\teval-auc:0.56616\n",
      "[2]\ttrain-auc:0.65220\teval-auc:0.56804\n",
      "[3]\ttrain-auc:0.67610\teval-auc:0.57305\n",
      "[4]\ttrain-auc:0.68325\teval-auc:0.57362\n",
      "[5]\ttrain-auc:0.68583\teval-auc:0.57362\n",
      "[6]\ttrain-auc:0.68903\teval-auc:0.57450\n",
      "[7]\ttrain-auc:0.69065\teval-auc:0.57397\n",
      "[8]\ttrain-auc:0.69317\teval-auc:0.57522\n",
      "[9]\ttrain-auc:0.69289\teval-auc:0.57596\n",
      "finish training & evaluation for P119\n",
      "start training & evaluation for P010\n"
     ]
    },
    {
     "name": "stderr",
     "output_type": "stream",
     "text": [
      "/home/panyu/miniconda3/envs/sci-data/lib/python3.9/site-packages/xgboost/core.py:122: UserWarning: ntree_limit is deprecated, use `iteration_range` or model slicing instead.\n",
      "  warnings.warn(\n",
      "/home/panyu/miniconda3/envs/sci-data/lib/python3.9/site-packages/xgboost/core.py:122: UserWarning: ntree_limit is deprecated, use `iteration_range` or model slicing instead.\n",
      "  warnings.warn(\n"
     ]
    },
    {
     "name": "stdout",
     "output_type": "stream",
     "text": [
      "[0]\ttrain-auc:0.64413\teval-auc:0.54524\n",
      "[1]\ttrain-auc:0.64498\teval-auc:0.54512\n",
      "[2]\ttrain-auc:0.67299\teval-auc:0.55210\n",
      "[3]\ttrain-auc:0.66979\teval-auc:0.55121\n",
      "[4]\ttrain-auc:0.67728\teval-auc:0.55093\n",
      "[5]\ttrain-auc:0.67651\teval-auc:0.55137\n",
      "[6]\ttrain-auc:0.68198\teval-auc:0.55518\n",
      "[7]\ttrain-auc:0.68277\teval-auc:0.55545\n",
      "[8]\ttrain-auc:0.68470\teval-auc:0.55561\n",
      "[9]\ttrain-auc:0.68791\teval-auc:0.55608\n",
      "finish training & evaluation for P010\n",
      "TOTAL All round, ROCAUC0.5259182069436765, LOGLOSS0.6924121044588646, ACCURACY0.5235459268316737, PRECISION0.5195897579572452, RECALL0.5210488856021949, F1 MACRO0.48811705940986444, F1 POSITIVE LABEL0.4385436540804374,\n",
      "\n"
     ]
    },
    {
     "name": "stderr",
     "output_type": "stream",
     "text": [
      "/home/panyu/miniconda3/envs/sci-data/lib/python3.9/site-packages/xgboost/core.py:122: UserWarning: ntree_limit is deprecated, use `iteration_range` or model slicing instead.\n",
      "  warnings.warn(\n",
      "/home/panyu/miniconda3/envs/sci-data/lib/python3.9/site-packages/xgboost/core.py:122: UserWarning: ntree_limit is deprecated, use `iteration_range` or model slicing instead.\n",
      "  warnings.warn(\n"
     ]
    }
   ],
   "source": [
    "import xgboost as xgb\n",
    "import random\n",
    "from sklearn.metrics import (roc_auc_score, precision_recall_fscore_support,\n",
    "                             log_loss, accuracy_score, f1_score, precision_score,\n",
    "                             recall_score, roc_curve, auc)\n",
    "import numpy as np\n",
    "import os\n",
    "import pickle\n",
    "import ray\n",
    "import pandas as pd\n",
    "from sklearn.datasets import load_svmlight_file\n",
    "from xgboost import DMatrix\n",
    "\n",
    "\n",
    "def mkdir(path):\n",
    "    path = path.strip()\n",
    "    isExists = os.path.exists(path)\n",
    "    if not isExists:\n",
    "        os.makedirs(path)\n",
    "        return True\n",
    "    else:\n",
    "        return False\n",
    "\n",
    "def find_best_threshold(y_true, y_probs):\n",
    "    best_threshold = 0\n",
    "    best_f1 = 0\n",
    "    thresholds = np.arange(0, 1.01, 0.01)\n",
    "    for threshold in thresholds:\n",
    "        y_pred = (y_probs > threshold).astype(int)\n",
    "        current_f1 = f1_score(y_true, y_pred)\n",
    "        if current_f1 > best_f1:\n",
    "            best_f1 = current_f1\n",
    "            best_threshold = threshold\n",
    "    return best_threshold\n",
    "\n",
    "random.seed(seed)\n",
    "\n",
    "folder = PATH_RESULTS\n",
    "mkdir(folder)\n",
    "data_folder = PATH_SAVE\n",
    "\n",
    "final_total_auc = np.empty(0)\n",
    "final_total_logloss = np.empty(0)\n",
    "final_total_f1_macro = np.empty(0)\n",
    "final_total_f1_pos_label = np.empty(0)\n",
    "final_total_accuracy = np.empty(0)\n",
    "final_total_precision = np.empty(0)\n",
    "final_total_recall = np.empty(0)\n",
    "train_aucs = []\n",
    "test_aucs = []\n",
    "\n",
    "\n",
    "\n",
    "# @ray.remote\n",
    "def train_and_evaluate(subject, param, data_folder):\n",
    "\n",
    "    print(\"start training & evaluation for {}\".format(subject))\n",
    "\n",
    "\n",
    "    # Convert data to DMatrix format for XGBoost\n",
    "    dtrain = xgb.DMatrix(data_folder + '{}_train.data'.format(subject))\n",
    "    dtest = xgb.DMatrix(data_folder + '{}_val.data'.format(subject))\n",
    "    deval = xgb.DMatrix(data_folder + '{}_eval.data'.format(subject))\n",
    "    \n",
    "\n",
    "    evallist = [(dtrain, 'train'), (deval, 'eval')]\n",
    "\n",
    "    # Train the model using standard xgboost\n",
    "    bst = xgb.train(param, dtrain, evals=evallist, early_stopping_rounds=10)\n",
    "    \n",
    "    y_real = dtest.get_label()  # Use the labels directly\n",
    "    y_score = bst.predict(dtest,ntree_limit=bst.best_ntree_limit)\n",
    "#     y_score = bst.predict(dtest)\n",
    "#     best_threshold = find_best_threshold(y_real, y_score)\n",
    "#     y_pred = [1 if score >= best_threshold else 0 for score in y_score]\n",
    "    y_pred = [1 if score >= 0.5 else 0 for score in y_score]\n",
    "\n",
    "    all_roc_auc = roc_auc_score(y_true=y_real, y_score=y_score, average=None)\n",
    "    all_logloss = log_loss(y_real, y_score)\n",
    "    accuracy = accuracy_score(y_real, y_pred)\n",
    "\n",
    "    pre, rec, f1, _ = precision_recall_fscore_support(y_true=y_real, y_pred=y_pred, pos_label=1, average='macro', zero_division=0)\n",
    "    precision = pre\n",
    "    recall = rec\n",
    "    f1_macro = f1\n",
    "\n",
    "    _, _, f1_pos, _ = precision_recall_fscore_support(y_true=y_real, y_pred=y_pred, pos_label=1, average='binary', zero_division=0)\n",
    "    f1_pos_label = f1_pos\n",
    "    print(\"finish training & evaluation for {}\".format(subject))\n",
    "\n",
    "#     return subject, all_roc_auc, all_logloss, accuracy, precision, recall, f1_macro, f1_pos_label\n",
    "\n",
    "    ###############################\n",
    "    # Compute training AUC\n",
    "    y_train_real = dtrain.get_label()\n",
    "    y_train_score = bst.predict(dtrain, ntree_limit=bst.best_ntree_limit)\n",
    "    train_auc = roc_auc_score(y_true=y_train_real, y_score=y_train_score)\n",
    "    \n",
    "    test_auc = all_roc_auc\n",
    "\n",
    "    return subject, train_auc, test_auc, all_logloss, accuracy, precision, recall, f1_macro, f1_pos_label\n",
    " \n",
    "with on_ray():\n",
    "    results = [train_and_evaluate(subject, param, data_folder) for subject in set(all_groups)]\n",
    "#     futures = [train_and_evaluate.remote(subject, param, data_folder) for subject in combined_similarity['pcode'].unique()]\n",
    "#     results = ray.get(futures)\n",
    "\n",
    "    for result in results:\n",
    "         #Retrieving training AUC\n",
    "        subject, train_auc, test_auc, all_logloss, accuracy, precision, recall, f1_macro, f1_pos_label = result\n",
    "        train_aucs.append(train_auc)\n",
    "        test_aucs.append(test_auc)\n",
    "        \n",
    "#         subject, all_roc_auc, all_logloss, accuracy, precision, recall, f1_macro, f1_pos_label = result\n",
    "        # Append to final metric arrays\n",
    "#         final_total_auc = np.append(final_total_auc, all_roc_auc)\n",
    "\n",
    "        final_total_logloss = np.append(final_total_logloss, all_logloss)\n",
    "        final_total_accuracy = np.append(final_total_accuracy, accuracy)\n",
    "        final_total_precision = np.append(final_total_precision, precision)\n",
    "        final_total_recall = np.append(final_total_recall, recall)\n",
    "        final_total_f1_macro = np.append(final_total_f1_macro, f1_macro)\n",
    "        final_total_f1_pos_label = np.append(final_total_f1_pos_label, f1_pos_label)\n",
    "\n",
    "    print(\"TOTAL All round, ROCAUC{}, LOGLOSS{}, ACCURACY{}, PRECISION{}, RECALL{}, F1 MACRO{}, F1 POSITIVE LABEL{},\\n\".format(np.mean(test_aucs), np.mean(final_total_logloss), np.mean(final_total_accuracy), np.mean(final_total_precision), np.mean(final_total_recall), np.mean(final_total_f1_macro), np.mean(final_total_f1_pos_label)))"
   ]
  },
  {
   "cell_type": "code",
   "execution_count": 14,
   "id": "15f5f26a",
   "metadata": {},
   "outputs": [
    {
     "data": {
      "image/png": "[encoded data removed]",
      "text/plain": [
       "<Figure size 1000x600 with 1 Axes>"
      ]
     },
     "metadata": {},
     "output_type": "display_data"
    }
   ],
   "source": [
    "import seaborn as sns\n",
    "import matplotlib.pyplot as plt\n",
    "import numpy as np\n",
    "\n",
    "# Assuming 'train_aucs' and 'test_aucs' are lists of AUC scores\n",
    "splits = np.arange(len(train_aucs))  # Assuming splits are sequential and equal to the length of AUC lists\n",
    "\n",
    "# Prepare a DataFrame for Seaborn\n",
    "data = pd.DataFrame({\n",
    "    'Split': np.concatenate([splits, splits]),  # Double the splits for train and test\n",
    "    'AUC': np.concatenate([train_aucs, test_aucs]),  # Combine AUC scores\n",
    "    'Type': ['Train']*len(train_aucs) + ['Test']*len(test_aucs)  # Label types\n",
    "})\n",
    "\n",
    "# Calculate the average values for training and test AUCs\n",
    "avg_train_auc = sum(train_aucs) / len(train_aucs)\n",
    "avg_test_auc = sum(test_aucs) / len(test_aucs)\n",
    "\n",
    "# Set up the matplotlib figure\n",
    "plt.figure(figsize=(10, 6))\n",
    "\n",
    "# Set the color palette to black and white\n",
    "palette = sns.color_palette(\"gray\", n_colors=2)\n",
    "\n",
    "# Draw a line plot with Seaborn\n",
    "sns.lineplot(data=data, x='Split', y='AUC', hue='Type', style='Type', markers=True, dashes=False, palette=palette)\n",
    "\n",
    "# Add average lines for Train and Test AUCs\n",
    "plt.axhline(y=avg_train_auc, color='black', linestyle='--', label=f\"Average Train AUC: {avg_train_auc:.2f}\")\n",
    "plt.axhline(y=avg_test_auc, color='black', linestyle='--', label=f\"Average Test AUC: {avg_test_auc:.2f}\")\n",
    "\n",
    "# Line for random chance performance\n",
    "plt.axhline(y=0.5, color='gray', linestyle='--', label=\"Random\")\n",
    "\n",
    "# Customize the axes and title\n",
    "plt.xlabel('Split')\n",
    "plt.ylabel('AUC')\n",
    "plt.title('Training and Test AUC for All Splits')\n",
    "\n",
    "# Show the legend and customize it to not show the color guide\n",
    "plt.legend(title='Type')\n",
    "\n",
    "# Set the ylim to standardize the AUC view\n",
    "plt.ylim([0, 1])\n",
    "\n",
    "# Display the plot\n",
    "plt.show()\n"
   ]
  },
  {
   "cell_type": "code",
   "execution_count": 15,
   "id": "356b9b55",
   "metadata": {},
   "outputs": [
    {
     "data": {
      "image/png": "[encoded data removed]",
      "text/plain": [
       "<Figure size 1000x600 with 1 Axes>"
      ]
     },
     "metadata": {},
     "output_type": "display_data"
    }
   ],
   "source": [
    "import matplotlib.pyplot as plt\n",
    "\n",
    "# Calculate the average values for training and test AUCs\n",
    "avg_train_auc = sum(train_aucs) / len(train_aucs)\n",
    "avg_test_auc = sum(test_aucs) / len(test_aucs)\n",
    "\n",
    "plt.figure(figsize=(10, 6))\n",
    "plt.plot(train_aucs, label=\"Train AUC\", marker='o')\n",
    "plt.plot(test_aucs, label=\"Test AUC\", marker='x')\n",
    "\n",
    "# Add average lines for Train and Test AUCs\n",
    "plt.axhline(y=avg_train_auc, color='blue', linestyle='--', label=f\"Average Train AUC: {avg_train_auc:.2f}\")\n",
    "plt.axhline(y=avg_test_auc, color='orange', linestyle='--', label=f\"Average Test AUC: {avg_test_auc:.2f}\")\n",
    "\n",
    "# Line for random\n",
    "plt.axhline(y=0.5, color='gray', linestyle='--', label=\"Random\")\n",
    "\n",
    "plt.xlabel('Split')\n",
    "plt.ylabel('AUC')\n",
    "plt.title('Training and Test AUC for All Splits')\n",
    "plt.legend()\n",
    "plt.grid(True)\n",
    "plt.ylim([0, 1])\n",
    "plt.show()\n"
   ]
  },
  {
   "cell_type": "code",
   "execution_count": null,
   "id": "e3f7d628",
   "metadata": {},
   "outputs": [],
   "source": []
  },
  {
   "cell_type": "code",
   "execution_count": null,
   "id": "1f51f001",
   "metadata": {},
   "outputs": [],
   "source": []
  }
 ],
 "metadata": {
  "kernelspec": {
   "display_name": "Python 3 (ipykernel)",
   "language": "python",
   "name": "python3"
  },
  "language_info": {
   "codemirror_mode": {
    "name": "ipython",
    "version": 3
   },
   "file_extension": ".py",
   "mimetype": "text/x-python",
   "name": "python",
   "nbconvert_exporter": "python",
   "pygments_lexer": "ipython3",
   "version": "3.9.15"
  }
 },
 "nbformat": 4,
 "nbformat_minor": 5
}
