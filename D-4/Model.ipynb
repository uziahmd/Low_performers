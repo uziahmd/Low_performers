{
 "cells": [
  {
   "cell_type": "code",
   "execution_count": 1,
   "id": "353b27c4",
   "metadata": {},
   "outputs": [],
   "source": [
    "from Funcs.Utility import *"
   ]
  },
  {
   "cell_type": "code",
   "execution_count": 2,
   "id": "aa712150",
   "metadata": {},
   "outputs": [],
   "source": [
    "LABELS_PROC = pd.read_csv(os.path.join(PATH_INTERMEDIATE, 'labels_1h_esmsyn.csv'), index_col=['pcode','timestamp'],parse_dates=True)\n",
    "PARTICIPANTS = pd.read_csv(os.path.join(PATH_INTERMEDIATE, 'UserInfo.csv'),index_col = 'pcode')"
   ]
  },
  {
   "cell_type": "code",
   "execution_count": 3,
   "id": "533a9f5d",
   "metadata": {},
   "outputs": [],
   "source": [
    "p = os.path.join(PATH_INTERMEDIATE, 'stress_binary_personal-15min.pkl')\n",
    "X, y, groups, t, datetimes = load(p)"
   ]
  },
  {
   "cell_type": "code",
   "execution_count": 4,
   "id": "1cece382",
   "metadata": {},
   "outputs": [
    {
     "data": {
      "text/html": [
       "<div>\n",
       "<style scoped>\n",
       "    .dataframe tbody tr th:only-of-type {\n",
       "        vertical-align: middle;\n",
       "    }\n",
       "\n",
       "    .dataframe tbody tr th {\n",
       "        vertical-align: top;\n",
       "    }\n",
       "\n",
       "    .dataframe thead th {\n",
       "        text-align: right;\n",
       "    }\n",
       "</style>\n",
       "<table border=\"1\" class=\"dataframe\">\n",
       "  <thead>\n",
       "    <tr style=\"text-align: right;\">\n",
       "      <th></th>\n",
       "      <th>PIF#participationStartTimestamp</th>\n",
       "      <th>PIF#age</th>\n",
       "      <th>PIF#openness</th>\n",
       "      <th>PIF#conscientiousness</th>\n",
       "      <th>PIF#neuroticism</th>\n",
       "      <th>PIF#extraversion</th>\n",
       "      <th>PIF#agreeableness</th>\n",
       "      <th>PIF#GHQ12</th>\n",
       "      <th>PIF#PSS10</th>\n",
       "      <th>PIF#CESD-R</th>\n",
       "      <th>...</th>\n",
       "      <th>PWR#RLV_SUP_TodayAfternoon</th>\n",
       "      <th>PWR#ETP#_TodayLateAfternoon</th>\n",
       "      <th>PWR#ASC#_TodayLateAfternoon</th>\n",
       "      <th>PWR#RLV_SUP_TodayLateAfternoon</th>\n",
       "      <th>PWR#ETP#_TodayEvening</th>\n",
       "      <th>PWR#ASC#_TodayEvening</th>\n",
       "      <th>PWR#RLV_SUP_TodayEvening</th>\n",
       "      <th>PWR#ETP#_TodayNight</th>\n",
       "      <th>PWR#ASC#_TodayNight</th>\n",
       "      <th>PWR#RLV_SUP_TodayNight</th>\n",
       "    </tr>\n",
       "  </thead>\n",
       "  <tbody>\n",
       "    <tr>\n",
       "      <th>0</th>\n",
       "      <td>1.637712e+12</td>\n",
       "      <td>23.0</td>\n",
       "      <td>11.0</td>\n",
       "      <td>12.0</td>\n",
       "      <td>3.0</td>\n",
       "      <td>10.0</td>\n",
       "      <td>9.0</td>\n",
       "      <td>9.0</td>\n",
       "      <td>11.0</td>\n",
       "      <td>0.0</td>\n",
       "      <td>...</td>\n",
       "      <td>0.0</td>\n",
       "      <td>0.0</td>\n",
       "      <td>0.0</td>\n",
       "      <td>0.0</td>\n",
       "      <td>0.0</td>\n",
       "      <td>0.0</td>\n",
       "      <td>0.0</td>\n",
       "      <td>0.0</td>\n",
       "      <td>0.0</td>\n",
       "      <td>0.0</td>\n",
       "    </tr>\n",
       "    <tr>\n",
       "      <th>1</th>\n",
       "      <td>1.637712e+12</td>\n",
       "      <td>23.0</td>\n",
       "      <td>11.0</td>\n",
       "      <td>12.0</td>\n",
       "      <td>3.0</td>\n",
       "      <td>10.0</td>\n",
       "      <td>9.0</td>\n",
       "      <td>9.0</td>\n",
       "      <td>11.0</td>\n",
       "      <td>0.0</td>\n",
       "      <td>...</td>\n",
       "      <td>0.0</td>\n",
       "      <td>0.0</td>\n",
       "      <td>0.0</td>\n",
       "      <td>0.0</td>\n",
       "      <td>0.0</td>\n",
       "      <td>0.0</td>\n",
       "      <td>0.0</td>\n",
       "      <td>0.0</td>\n",
       "      <td>0.0</td>\n",
       "      <td>0.0</td>\n",
       "    </tr>\n",
       "    <tr>\n",
       "      <th>2</th>\n",
       "      <td>1.637712e+12</td>\n",
       "      <td>23.0</td>\n",
       "      <td>11.0</td>\n",
       "      <td>12.0</td>\n",
       "      <td>3.0</td>\n",
       "      <td>10.0</td>\n",
       "      <td>9.0</td>\n",
       "      <td>9.0</td>\n",
       "      <td>11.0</td>\n",
       "      <td>0.0</td>\n",
       "      <td>...</td>\n",
       "      <td>0.0</td>\n",
       "      <td>0.0</td>\n",
       "      <td>0.0</td>\n",
       "      <td>0.0</td>\n",
       "      <td>0.0</td>\n",
       "      <td>0.0</td>\n",
       "      <td>0.0</td>\n",
       "      <td>0.0</td>\n",
       "      <td>0.0</td>\n",
       "      <td>0.0</td>\n",
       "    </tr>\n",
       "    <tr>\n",
       "      <th>3</th>\n",
       "      <td>1.637712e+12</td>\n",
       "      <td>23.0</td>\n",
       "      <td>11.0</td>\n",
       "      <td>12.0</td>\n",
       "      <td>3.0</td>\n",
       "      <td>10.0</td>\n",
       "      <td>9.0</td>\n",
       "      <td>9.0</td>\n",
       "      <td>11.0</td>\n",
       "      <td>0.0</td>\n",
       "      <td>...</td>\n",
       "      <td>0.0</td>\n",
       "      <td>0.0</td>\n",
       "      <td>0.0</td>\n",
       "      <td>0.0</td>\n",
       "      <td>0.0</td>\n",
       "      <td>0.0</td>\n",
       "      <td>0.0</td>\n",
       "      <td>0.0</td>\n",
       "      <td>0.0</td>\n",
       "      <td>0.0</td>\n",
       "    </tr>\n",
       "    <tr>\n",
       "      <th>4</th>\n",
       "      <td>1.637712e+12</td>\n",
       "      <td>23.0</td>\n",
       "      <td>11.0</td>\n",
       "      <td>12.0</td>\n",
       "      <td>3.0</td>\n",
       "      <td>10.0</td>\n",
       "      <td>9.0</td>\n",
       "      <td>9.0</td>\n",
       "      <td>11.0</td>\n",
       "      <td>0.0</td>\n",
       "      <td>...</td>\n",
       "      <td>0.0</td>\n",
       "      <td>0.0</td>\n",
       "      <td>0.0</td>\n",
       "      <td>0.0</td>\n",
       "      <td>0.0</td>\n",
       "      <td>0.0</td>\n",
       "      <td>0.0</td>\n",
       "      <td>0.0</td>\n",
       "      <td>0.0</td>\n",
       "      <td>0.0</td>\n",
       "    </tr>\n",
       "    <tr>\n",
       "      <th>...</th>\n",
       "      <td>...</td>\n",
       "      <td>...</td>\n",
       "      <td>...</td>\n",
       "      <td>...</td>\n",
       "      <td>...</td>\n",
       "      <td>...</td>\n",
       "      <td>...</td>\n",
       "      <td>...</td>\n",
       "      <td>...</td>\n",
       "      <td>...</td>\n",
       "      <td>...</td>\n",
       "      <td>...</td>\n",
       "      <td>...</td>\n",
       "      <td>...</td>\n",
       "      <td>...</td>\n",
       "      <td>...</td>\n",
       "      <td>...</td>\n",
       "      <td>...</td>\n",
       "      <td>...</td>\n",
       "      <td>...</td>\n",
       "      <td>...</td>\n",
       "    </tr>\n",
       "    <tr>\n",
       "      <th>21614</th>\n",
       "      <td>1.638922e+12</td>\n",
       "      <td>20.0</td>\n",
       "      <td>10.0</td>\n",
       "      <td>8.0</td>\n",
       "      <td>4.0</td>\n",
       "      <td>7.0</td>\n",
       "      <td>14.0</td>\n",
       "      <td>7.0</td>\n",
       "      <td>12.0</td>\n",
       "      <td>4.0</td>\n",
       "      <td>...</td>\n",
       "      <td>0.0</td>\n",
       "      <td>0.0</td>\n",
       "      <td>0.0</td>\n",
       "      <td>0.0</td>\n",
       "      <td>0.0</td>\n",
       "      <td>0.0</td>\n",
       "      <td>0.0</td>\n",
       "      <td>0.0</td>\n",
       "      <td>0.0</td>\n",
       "      <td>0.0</td>\n",
       "    </tr>\n",
       "    <tr>\n",
       "      <th>21615</th>\n",
       "      <td>1.638922e+12</td>\n",
       "      <td>20.0</td>\n",
       "      <td>10.0</td>\n",
       "      <td>8.0</td>\n",
       "      <td>4.0</td>\n",
       "      <td>7.0</td>\n",
       "      <td>14.0</td>\n",
       "      <td>7.0</td>\n",
       "      <td>12.0</td>\n",
       "      <td>4.0</td>\n",
       "      <td>...</td>\n",
       "      <td>0.0</td>\n",
       "      <td>0.0</td>\n",
       "      <td>0.0</td>\n",
       "      <td>0.0</td>\n",
       "      <td>0.0</td>\n",
       "      <td>0.0</td>\n",
       "      <td>0.0</td>\n",
       "      <td>0.0</td>\n",
       "      <td>0.0</td>\n",
       "      <td>0.0</td>\n",
       "    </tr>\n",
       "    <tr>\n",
       "      <th>21616</th>\n",
       "      <td>1.638922e+12</td>\n",
       "      <td>20.0</td>\n",
       "      <td>10.0</td>\n",
       "      <td>8.0</td>\n",
       "      <td>4.0</td>\n",
       "      <td>7.0</td>\n",
       "      <td>14.0</td>\n",
       "      <td>7.0</td>\n",
       "      <td>12.0</td>\n",
       "      <td>4.0</td>\n",
       "      <td>...</td>\n",
       "      <td>0.0</td>\n",
       "      <td>0.0</td>\n",
       "      <td>0.0</td>\n",
       "      <td>0.0</td>\n",
       "      <td>0.0</td>\n",
       "      <td>0.0</td>\n",
       "      <td>0.0</td>\n",
       "      <td>0.0</td>\n",
       "      <td>0.0</td>\n",
       "      <td>0.0</td>\n",
       "    </tr>\n",
       "    <tr>\n",
       "      <th>21617</th>\n",
       "      <td>1.638922e+12</td>\n",
       "      <td>20.0</td>\n",
       "      <td>10.0</td>\n",
       "      <td>8.0</td>\n",
       "      <td>4.0</td>\n",
       "      <td>7.0</td>\n",
       "      <td>14.0</td>\n",
       "      <td>7.0</td>\n",
       "      <td>12.0</td>\n",
       "      <td>4.0</td>\n",
       "      <td>...</td>\n",
       "      <td>0.0</td>\n",
       "      <td>0.0</td>\n",
       "      <td>0.0</td>\n",
       "      <td>0.0</td>\n",
       "      <td>0.0</td>\n",
       "      <td>0.0</td>\n",
       "      <td>0.0</td>\n",
       "      <td>0.0</td>\n",
       "      <td>0.0</td>\n",
       "      <td>0.0</td>\n",
       "    </tr>\n",
       "    <tr>\n",
       "      <th>21618</th>\n",
       "      <td>1.638922e+12</td>\n",
       "      <td>20.0</td>\n",
       "      <td>10.0</td>\n",
       "      <td>8.0</td>\n",
       "      <td>4.0</td>\n",
       "      <td>7.0</td>\n",
       "      <td>14.0</td>\n",
       "      <td>7.0</td>\n",
       "      <td>12.0</td>\n",
       "      <td>4.0</td>\n",
       "      <td>...</td>\n",
       "      <td>0.0</td>\n",
       "      <td>0.0</td>\n",
       "      <td>0.0</td>\n",
       "      <td>0.0</td>\n",
       "      <td>0.0</td>\n",
       "      <td>0.0</td>\n",
       "      <td>0.0</td>\n",
       "      <td>0.0</td>\n",
       "      <td>0.0</td>\n",
       "      <td>0.0</td>\n",
       "    </tr>\n",
       "  </tbody>\n",
       "</table>\n",
       "<p>21619 rows × 2063 columns</p>\n",
       "</div>"
      ],
      "text/plain": [
       "       PIF#participationStartTimestamp  PIF#age  PIF#openness  \\\n",
       "0                         1.637712e+12     23.0          11.0   \n",
       "1                         1.637712e+12     23.0          11.0   \n",
       "2                         1.637712e+12     23.0          11.0   \n",
       "3                         1.637712e+12     23.0          11.0   \n",
       "4                         1.637712e+12     23.0          11.0   \n",
       "...                                ...      ...           ...   \n",
       "21614                     1.638922e+12     20.0          10.0   \n",
       "21615                     1.638922e+12     20.0          10.0   \n",
       "21616                     1.638922e+12     20.0          10.0   \n",
       "21617                     1.638922e+12     20.0          10.0   \n",
       "21618                     1.638922e+12     20.0          10.0   \n",
       "\n",
       "       PIF#conscientiousness  PIF#neuroticism  PIF#extraversion  \\\n",
       "0                       12.0              3.0              10.0   \n",
       "1                       12.0              3.0              10.0   \n",
       "2                       12.0              3.0              10.0   \n",
       "3                       12.0              3.0              10.0   \n",
       "4                       12.0              3.0              10.0   \n",
       "...                      ...              ...               ...   \n",
       "21614                    8.0              4.0               7.0   \n",
       "21615                    8.0              4.0               7.0   \n",
       "21616                    8.0              4.0               7.0   \n",
       "21617                    8.0              4.0               7.0   \n",
       "21618                    8.0              4.0               7.0   \n",
       "\n",
       "       PIF#agreeableness  PIF#GHQ12  PIF#PSS10  PIF#CESD-R  ...  \\\n",
       "0                    9.0        9.0       11.0         0.0  ...   \n",
       "1                    9.0        9.0       11.0         0.0  ...   \n",
       "2                    9.0        9.0       11.0         0.0  ...   \n",
       "3                    9.0        9.0       11.0         0.0  ...   \n",
       "4                    9.0        9.0       11.0         0.0  ...   \n",
       "...                  ...        ...        ...         ...  ...   \n",
       "21614               14.0        7.0       12.0         4.0  ...   \n",
       "21615               14.0        7.0       12.0         4.0  ...   \n",
       "21616               14.0        7.0       12.0         4.0  ...   \n",
       "21617               14.0        7.0       12.0         4.0  ...   \n",
       "21618               14.0        7.0       12.0         4.0  ...   \n",
       "\n",
       "       PWR#RLV_SUP_TodayAfternoon  PWR#ETP#_TodayLateAfternoon  \\\n",
       "0                             0.0                          0.0   \n",
       "1                             0.0                          0.0   \n",
       "2                             0.0                          0.0   \n",
       "3                             0.0                          0.0   \n",
       "4                             0.0                          0.0   \n",
       "...                           ...                          ...   \n",
       "21614                         0.0                          0.0   \n",
       "21615                         0.0                          0.0   \n",
       "21616                         0.0                          0.0   \n",
       "21617                         0.0                          0.0   \n",
       "21618                         0.0                          0.0   \n",
       "\n",
       "       PWR#ASC#_TodayLateAfternoon  PWR#RLV_SUP_TodayLateAfternoon  \\\n",
       "0                              0.0                             0.0   \n",
       "1                              0.0                             0.0   \n",
       "2                              0.0                             0.0   \n",
       "3                              0.0                             0.0   \n",
       "4                              0.0                             0.0   \n",
       "...                            ...                             ...   \n",
       "21614                          0.0                             0.0   \n",
       "21615                          0.0                             0.0   \n",
       "21616                          0.0                             0.0   \n",
       "21617                          0.0                             0.0   \n",
       "21618                          0.0                             0.0   \n",
       "\n",
       "       PWR#ETP#_TodayEvening  PWR#ASC#_TodayEvening  PWR#RLV_SUP_TodayEvening  \\\n",
       "0                        0.0                    0.0                       0.0   \n",
       "1                        0.0                    0.0                       0.0   \n",
       "2                        0.0                    0.0                       0.0   \n",
       "3                        0.0                    0.0                       0.0   \n",
       "4                        0.0                    0.0                       0.0   \n",
       "...                      ...                    ...                       ...   \n",
       "21614                    0.0                    0.0                       0.0   \n",
       "21615                    0.0                    0.0                       0.0   \n",
       "21616                    0.0                    0.0                       0.0   \n",
       "21617                    0.0                    0.0                       0.0   \n",
       "21618                    0.0                    0.0                       0.0   \n",
       "\n",
       "       PWR#ETP#_TodayNight  PWR#ASC#_TodayNight  PWR#RLV_SUP_TodayNight  \n",
       "0                      0.0                  0.0                     0.0  \n",
       "1                      0.0                  0.0                     0.0  \n",
       "2                      0.0                  0.0                     0.0  \n",
       "3                      0.0                  0.0                     0.0  \n",
       "4                      0.0                  0.0                     0.0  \n",
       "...                    ...                  ...                     ...  \n",
       "21614                  0.0                  0.0                     0.0  \n",
       "21615                  0.0                  0.0                     0.0  \n",
       "21616                  0.0                  0.0                     0.0  \n",
       "21617                  0.0                  0.0                     0.0  \n",
       "21618                  0.0                  0.0                     0.0  \n",
       "\n",
       "[21619 rows x 2063 columns]"
      ]
     },
     "execution_count": 4,
     "metadata": {},
     "output_type": "execute_result"
    }
   ],
   "source": [
    "X"
   ]
  },
  {
   "cell_type": "code",
   "execution_count": 5,
   "id": "d2bc7f6e",
   "metadata": {},
   "outputs": [],
   "source": [
    "#Divide the features into different categories\n",
    "feat_current = X.loc[:,[('#VAL' in str(x)) or ('ESM#LastLabel' in str(x)) for x in X.keys()]]  \n",
    "feat_dsc = X.loc[:,[('#DSC' in str(x))  for x in X.keys()]]  \n",
    "feat_yesterday = X.loc[:,[('Yesterday' in str(x))  for x in X.keys()]]  \n",
    "feat_today = X.loc[:,[('Today' in str(x))  for x in X.keys()]]  \n",
    "feat_sleep = X.loc[:,[('Sleep' in str(x))  for x in X.keys()]]  \n",
    "feat_time = X.loc[:,[('Time' in str(x))  for x in X.keys()]]  \n",
    "feat_pif = X.loc[:,[('PIF' in str(x))  for x in X.keys()]]  \n",
    "feat_ImmediatePast = X.loc[:,[('ImmediatePast_15' in str(x))  for x in X.keys()]]\n",
    "#Divide the time window features into sensor/past stress label\n",
    "feat_current_sensor = X.loc[:,[('#VAL' in str(x))  for x in X.keys()]]  \n",
    "feat_current_ESM = X.loc[:,[('ESM#LastLabel' in str(x)) for x in X.keys()]]  \n",
    "feat_ImmediatePast_sensor = feat_ImmediatePast.loc[:,[('ESM' not in str(x)) for x in feat_ImmediatePast.keys()]]  \n",
    "feat_ImmediatePast_ESM = feat_ImmediatePast.loc[:,[('ESM'  in str(x)) for x in feat_ImmediatePast.keys()]]  \n",
    "feat_today_sensor = feat_today.loc[:,[('ESM' not in str(x))  for x in feat_today.keys()]]  \n",
    "feat_today_ESM = feat_today.loc[:,[('ESM'  in str(x)) for x in feat_today.keys()]]  \n",
    "feat_yesterday_sensor = feat_yesterday.loc[:,[('ESM' not in str(x)) for x in feat_yesterday.keys()]]  \n",
    "feat_yesterday_ESM = feat_yesterday.loc[:,[('ESM'  in str(x)) for x in feat_yesterday.keys()]]"
   ]
  },
  {
   "cell_type": "code",
   "execution_count": 6,
   "id": "51e0eca4",
   "metadata": {},
   "outputs": [],
   "source": [
    "feat_baseline = pd.concat([ feat_time,feat_dsc,feat_current_sensor, feat_ImmediatePast_sensor],axis=1)\n",
    "feat_final = pd.concat([feat_baseline  ], axis=1)\n",
    "# # Fill NaN values with zeros\n",
    "feat_final = feat_final.fillna(0)\n",
    "X = feat_final\n",
    "cats = X.columns[X.dtypes == bool]"
   ]
  },
  {
   "cell_type": "code",
   "execution_count": 7,
   "id": "8a0e00e5",
   "metadata": {},
   "outputs": [
    {
     "name": "stdout",
     "output_type": "stream",
     "text": [
      "['PIF#participationStartTimestamp', 'Time#DOW=MON', 'Time#DOW=TUE', 'Time#DOW=WED', 'Time#DOW=THU', 'Time#DOW=FRI', 'Time#DOW=SAT', 'Time#DOW=SUN', 'Time#WKD=Y', 'Time#WKD=N', 'Time#HRN=DAWN', 'Time#HRN=MORNING', 'Time#HRN=AFTERNOON', 'Time#HRN=LATE_AFTERNOON', 'Time#HRN=EVENING', 'Time#HRN=NIGHT', 'Time#HRN=MIDNIGHT', 'APP_CAT#DSC', 'APP_CAT#DSC=UNKNOWNSYSTEMENTERSOCIALHEALTHWORKINFO', 'BAT_STA#DSC', 'BAT_STA#DSC=DISCHARGINGCHARGINGFULLNOT_CHARGING', 'BAT_PLG#DSC', 'BAT_PLG#DSC=UNDEFINEDACUSBWIRELESS', 'CALL_CNT#DSC', 'CALL_CNT#DSC=UNKNOWNMOBILEOTHERWORKHOMEUNDEFINEDMAIN', 'LOC_LABEL#DSC', 'LOC_LABEL#DSC=noneworkhome', 'SCR_EVENT#DSC', 'SCR_EVENT#DSC=SCREEN_OFFSCREEN_ONUSER_PRESENT', 'RING#DSC', 'RING#DSC=VIBRATESILENTNORMAL', 'CHG#DSC', 'CHG#DSC=DISCONNECTED', 'CHG#DSC=CONNECTED', 'BT_BondState#DSC', 'BT_BondState#DSC=NONEBONDEDBONDING', 'BT_DeviceType#DSC', 'BT_DeviceType#DSC=LECLASSICUNDEFINEDDUAL', 'BT_classType#DSC', 'BT_classType#DSC=UNDEFINEDPHONE_SMARTWEARABLE_WRIST_WATCHCOMPUTER_LAPTOPAUDIO_VIDEO_SET_TOP_BOXAUDIO_VIDEO_HANDSFREEAUDIO_VIDEO_VIDEO_DISPLAY_AND_LOUDSPEAKERAUDIO_VIDEO_WEARABLE_HEADSETPHONE_CELLULARCOMPUTER_DESKTOPCOMPUTER_HANDHELD_PC_PDAAUDIO_VIDEO_UNCATEGORIZEDAUDIO_VIDEO_LOUDSPEAKERAUDIO_VIDEO_HEADPHONESAUDIO_VIDEO_HIFI_AUDIOAUDIO_VIDEO_CAR_AUDIOHEALTH_PULSE_OXIMETERHEALTH_UNCATEGORIZEDCOMPUTER_UNCATEGORIZEDWEARABLE_JACKETHEALTH_PULSE_RATEAUDIO_VIDEO_PORTABLE_AUDIOPHONE_MODEM_OR_GATEWAYHEALTH_BLOOD_PRESSURECOMPUTER_WEARABLEHEALTH_DATA_DISPLAYTOY_ROBOTCOMPUTER_PALM_SIZE_PC_PDACOMPUTER_SERVER', 'Dozemode#DSC', 'Dozemode#DSC=ACTIVATE', 'Dozemode#DSC=DEACTIVATE', 'Notification_VIS#DSC', 'Notification_VIS#DSC=PRIVATESECRETPUBLIC', 'Notification_CAT#DSC', 'Notification_CAT#DSC=UNDEFINEDSTATUSMESSAGESERVICEPROGRESSSYSTEMREMINDERALARMTRANSPORTEMAILCALLEVENTPROMOERRORRECOMMENDATIONSOCIALNAVIGATION', 'PWR#DSC', 'PWR#DSC=ACTIVATE', 'PWR#DSC=DEACTIVATE', 'APP_DUR_UNKNOWN#VAL', 'APP_CAT#VAL=UNKNOWNSYSTEMENTERSOCIALHEALTHWORKINFO', 'BAT_LEV#VAL', 'BAT_STA#VAL=DISCHARGINGCHARGINGFULLNOT_CHARGING', 'BAT_TMP#VAL', 'BAT_PLG#VAL=UNDEFINEDACUSBWIRELESS', 'CALL_DUR#VAL', 'CALL_CNT#VAL=UNKNOWNMOBILEOTHERWORKHOMEUNDEFINEDMAIN', 'DATA_RCV#VAL', 'DATA_SNT#VAL', 'DATA_MRCV#VAL', 'DATA_MSNT#VAL', 'INST_JAC#VAL', 'LOC_LABEL#VAL=noneworkhome', 'MSG_SNT#VAL', 'MSG_RCV#VAL', 'MSG_ALL#VAL', 'SCR_EVENT#VAL=SCREEN_OFFSCREEN_ONUSER_PRESENT', 'SCR_DUR#VAL', 'RING#VAL=VIBRATESILENTNORMAL', 'CHG#VAL=DISCONNECTED', 'CHG#VAL=CONNECTED', 'BT_BondState#VAL=NONEBONDEDBONDING', 'BT_DeviceType#VAL=LECLASSICUNDEFINEDDUAL', 'BT_classType#VAL=UNDEFINEDPHONE_SMARTWEARABLE_WRIST_WATCHCOMPUTER_LAPTOPAUDIO_VIDEO_SET_TOP_BOXAUDIO_VIDEO_HANDSFREEAUDIO_VIDEO_VIDEO_DISPLAY_AND_LOUDSPEAKERAUDIO_VIDEO_WEARABLE_HEADSETPHONE_CELLULARCOMPUTER_DESKTOPCOMPUTER_HANDHELD_PC_PDAAUDIO_VIDEO_UNCATEGORIZEDAUDIO_VIDEO_LOUDSPEAKERAUDIO_VIDEO_HEADPHONESAUDIO_VIDEO_HIFI_AUDIOAUDIO_VIDEO_CAR_AUDIOHEALTH_PULSE_OXIMETERHEALTH_UNCATEGORIZEDCOMPUTER_UNCATEGORIZEDWEARABLE_JACKETHEALTH_PULSE_RATEAUDIO_VIDEO_PORTABLE_AUDIOPHONE_MODEM_OR_GATEWAYHEALTH_BLOOD_PRESSURECOMPUTER_WEARABLEHEALTH_DATA_DISPLAYTOY_ROBOTCOMPUTER_PALM_SIZE_PC_PDACOMPUTER_SERVER', 'Dozemode#VAL=ACTIVATE', 'Dozemode#VAL=DEACTIVATE', 'Notification_VIS#VAL=PRIVATESECRETPUBLIC', 'Notification_CAT#VAL=UNDEFINEDSTATUSMESSAGESERVICEPROGRESSSYSTEMREMINDERALARMTRANSPORTEMAILCALLEVENTPROMOERRORRECOMMENDATIONSOCIALNAVIGATION', 'PWR#VAL=ACTIVATE', 'PWR#VAL=DEACTIVATE', 'APP_DUR_UNKNOWN#AVG#ImmediatePast_15', 'APP_DUR_UNKNOWN#STD#ImmediatePast_15', 'APP_DUR_UNKNOWN#SKW#ImmediatePast_15', 'APP_DUR_UNKNOWN#KUR#ImmediatePast_15', 'APP_DUR_UNKNOWN#ASC#ImmediatePast_15', 'APP_DUR_UNKNOWN#BEP#ImmediatePast_15', 'APP_DUR_UNKNOWN#MED#ImmediatePast_15', 'APP_DUR_UNKNOWN#TSC#ImmediatePast_15', 'APP_CAT#ETP##ImmediatePast_15', 'APP_CAT#ASC##ImmediatePast_15', 'APP_CAT#RLV_SUP=UNKNOWNSYSTEMENTERSOCIALHEALTHWORKINFO#ImmediatePast_15', 'BAT_LEV#AVG#ImmediatePast_15', 'BAT_LEV#STD#ImmediatePast_15', 'BAT_LEV#SKW#ImmediatePast_15', 'BAT_LEV#KUR#ImmediatePast_15', 'BAT_LEV#ASC#ImmediatePast_15', 'BAT_LEV#BEP#ImmediatePast_15', 'BAT_LEV#MED#ImmediatePast_15', 'BAT_LEV#TSC#ImmediatePast_15', 'BAT_STA#ETP##ImmediatePast_15', 'BAT_STA#ASC##ImmediatePast_15', 'BAT_STA#RLV_SUP=DISCHARGINGCHARGINGFULLNOT_CHARGING#ImmediatePast_15', 'BAT_TMP#AVG#ImmediatePast_15', 'BAT_TMP#STD#ImmediatePast_15', 'BAT_TMP#SKW#ImmediatePast_15', 'BAT_TMP#KUR#ImmediatePast_15', 'BAT_TMP#ASC#ImmediatePast_15', 'BAT_TMP#BEP#ImmediatePast_15', 'BAT_TMP#MED#ImmediatePast_15', 'BAT_TMP#TSC#ImmediatePast_15', 'BAT_PLG#ETP##ImmediatePast_15', 'BAT_PLG#ASC##ImmediatePast_15', 'BAT_PLG#RLV_SUP=UNDEFINEDACUSBWIRELESS#ImmediatePast_15', 'CALL_DUR#AVG#ImmediatePast_15', 'CALL_DUR#STD#ImmediatePast_15', 'CALL_DUR#SKW#ImmediatePast_15', 'CALL_DUR#KUR#ImmediatePast_15', 'CALL_DUR#ASC#ImmediatePast_15', 'CALL_DUR#BEP#ImmediatePast_15', 'CALL_DUR#MED#ImmediatePast_15', 'CALL_DUR#TSC#ImmediatePast_15', 'CALL_CNT#ETP##ImmediatePast_15', 'CALL_CNT#ASC##ImmediatePast_15', 'CALL_CNT#RLV_SUP=UNKNOWNMOBILEOTHERWORKHOMEUNDEFINEDMAIN#ImmediatePast_15', 'DATA_RCV#AVG#ImmediatePast_15', 'DATA_RCV#STD#ImmediatePast_15', 'DATA_RCV#SKW#ImmediatePast_15', 'DATA_RCV#KUR#ImmediatePast_15', 'DATA_RCV#ASC#ImmediatePast_15', 'DATA_RCV#BEP#ImmediatePast_15', 'DATA_RCV#MED#ImmediatePast_15', 'DATA_RCV#TSC#ImmediatePast_15', 'DATA_SNT#AVG#ImmediatePast_15', 'DATA_SNT#STD#ImmediatePast_15', 'DATA_SNT#SKW#ImmediatePast_15', 'DATA_SNT#KUR#ImmediatePast_15', 'DATA_SNT#ASC#ImmediatePast_15', 'DATA_SNT#BEP#ImmediatePast_15', 'DATA_SNT#MED#ImmediatePast_15', 'DATA_SNT#TSC#ImmediatePast_15', 'DATA_MRCV#AVG#ImmediatePast_15', 'DATA_MRCV#STD#ImmediatePast_15', 'DATA_MRCV#SKW#ImmediatePast_15', 'DATA_MRCV#KUR#ImmediatePast_15', 'DATA_MRCV#ASC#ImmediatePast_15', 'DATA_MRCV#BEP#ImmediatePast_15', 'DATA_MRCV#MED#ImmediatePast_15', 'DATA_MRCV#TSC#ImmediatePast_15', 'DATA_MSNT#AVG#ImmediatePast_15', 'DATA_MSNT#STD#ImmediatePast_15', 'DATA_MSNT#SKW#ImmediatePast_15', 'DATA_MSNT#KUR#ImmediatePast_15', 'DATA_MSNT#ASC#ImmediatePast_15', 'DATA_MSNT#BEP#ImmediatePast_15', 'DATA_MSNT#MED#ImmediatePast_15', 'DATA_MSNT#TSC#ImmediatePast_15', 'INST_JAC#AVG#ImmediatePast_15', 'INST_JAC#STD#ImmediatePast_15', 'INST_JAC#SKW#ImmediatePast_15', 'INST_JAC#KUR#ImmediatePast_15', 'INST_JAC#ASC#ImmediatePast_15', 'INST_JAC#BEP#ImmediatePast_15', 'INST_JAC#MED#ImmediatePast_15', 'INST_JAC#TSC#ImmediatePast_15', 'LOC_LABEL#ETP##ImmediatePast_15', 'LOC_LABEL#ASC##ImmediatePast_15', 'LOC_LABEL#RLV_SUP=noneworkhome#ImmediatePast_15', 'MSG_SNT#AVG#ImmediatePast_15', 'MSG_SNT#STD#ImmediatePast_15', 'MSG_SNT#SKW#ImmediatePast_15', 'MSG_SNT#KUR#ImmediatePast_15', 'MSG_SNT#ASC#ImmediatePast_15', 'MSG_SNT#BEP#ImmediatePast_15', 'MSG_SNT#MED#ImmediatePast_15', 'MSG_SNT#TSC#ImmediatePast_15', 'MSG_RCV#AVG#ImmediatePast_15', 'MSG_RCV#STD#ImmediatePast_15', 'MSG_RCV#SKW#ImmediatePast_15', 'MSG_RCV#KUR#ImmediatePast_15', 'MSG_RCV#ASC#ImmediatePast_15', 'MSG_RCV#BEP#ImmediatePast_15', 'MSG_RCV#MED#ImmediatePast_15', 'MSG_RCV#TSC#ImmediatePast_15', 'MSG_ALL#AVG#ImmediatePast_15', 'MSG_ALL#STD#ImmediatePast_15', 'MSG_ALL#SKW#ImmediatePast_15', 'MSG_ALL#KUR#ImmediatePast_15', 'MSG_ALL#ASC#ImmediatePast_15', 'MSG_ALL#BEP#ImmediatePast_15', 'MSG_ALL#MED#ImmediatePast_15', 'MSG_ALL#TSC#ImmediatePast_15', 'Sleep#Duration#ImmediatePast_15', 'Sleep#Onset#ImmediatePast_15', 'Sleep#Midpoint#ImmediatePast_15', 'SCR_DUR#AVG#ImmediatePast_15', 'SCR_DUR#STD#ImmediatePast_15', 'SCR_DUR#SKW#ImmediatePast_15', 'SCR_DUR#KUR#ImmediatePast_15', 'SCR_DUR#ASC#ImmediatePast_15', 'SCR_DUR#BEP#ImmediatePast_15', 'SCR_DUR#MED#ImmediatePast_15', 'SCR_DUR#TSC#ImmediatePast_15', 'RING#ETP##ImmediatePast_15', 'RING#ASC##ImmediatePast_15', 'RING#RLV_SUP=VIBRATESILENTNORMAL#ImmediatePast_15', 'CHG#ETP##ImmediatePast_15', 'CHG#ASC##ImmediatePast_15', 'CHG#RLV_SUP#ImmediatePast_15', 'BT_BondState#ETP##ImmediatePast_15', 'BT_BondState#ASC##ImmediatePast_15', 'BT_BondState#RLV_SUP=NONEBONDEDBONDING#ImmediatePast_15', 'BT_DeviceType#ETP##ImmediatePast_15', 'BT_DeviceType#ASC##ImmediatePast_15', 'BT_DeviceType#RLV_SUP=LECLASSICUNDEFINEDDUAL#ImmediatePast_15', 'BT_classType#ETP##ImmediatePast_15', 'BT_classType#ASC##ImmediatePast_15', 'BT_classType#RLV_SUP=UNDEFINEDPHONE_SMARTWEARABLE_WRIST_WATCHCOMPUTER_LAPTOPAUDIO_VIDEO_SET_TOP_BOXAUDIO_VIDEO_HANDSFREEAUDIO_VIDEO_VIDEO_DISPLAY_AND_LOUDSPEAKERAUDIO_VIDEO_WEARABLE_HEADSETPHONE_CELLULARCOMPUTER_DESKTOPCOMPUTER_HANDHELD_PC_PDAAUDIO_VIDEO_UNCATEGORIZEDAUDIO_VIDEO_LOUDSPEAKERAUDIO_VIDEO_HEADPHONESAUDIO_VIDEO_HIFI_AUDIOAUDIO_VIDEO_CAR_AUDIOHEALTH_PULSE_OXIMETERHEALTH_UNCATEGORIZEDCOMPUTER_UNCATEGORIZEDWEARABLE_JACKETHEALTH_PULSE_RATEAUDIO_VIDEO_PORTABLE_AUDIOPHONE_MODEM_OR_GATEWAYHEALTH_BLOOD_PRESSURECOMPUTER_WEARABLEHEALTH_DATA_DISPLAYTOY_ROBOTCOMPUTER_PALM_SIZE_PC_PDACOMPUTER_SERVER#ImmediatePast_15', 'Dozemode#ETP##ImmediatePast_15', 'Dozemode#ASC##ImmediatePast_15', 'Dozemode#RLV_SUP#ImmediatePast_15', 'Notification_VIS#ETP##ImmediatePast_15', 'Notification_VIS#ASC##ImmediatePast_15', 'Notification_VIS#RLV_SUP=PRIVATESECRETPUBLIC#ImmediatePast_15', 'Notification_CAT#ETP##ImmediatePast_15', 'Notification_CAT#ASC##ImmediatePast_15', 'Notification_CAT#RLV_SUP=UNDEFINEDSTATUSMESSAGESERVICEPROGRESSSYSTEMREMINDERALARMTRANSPORTEMAILCALLEVENTPROMOERRORRECOMMENDATIONSOCIALNAVIGATION#ImmediatePast_15', 'PWR#ETP##ImmediatePast_15', 'PWR#ASC##ImmediatePast_15', 'PWR#RLV_SUP#ImmediatePast_15']\n"
     ]
    }
   ],
   "source": [
    "cn = X.columns.tolist()\n",
    "print(cn)"
   ]
  },
  {
   "cell_type": "code",
   "execution_count": 8,
   "id": "92b3bd05",
   "metadata": {},
   "outputs": [],
   "source": [
    "from sklearn.feature_selection import SelectFromModel\n",
    "from sklearn.linear_model import LogisticRegression\n",
    "from sklearn.base import clone\n",
    "\n",
    "normalize =True\n",
    "# Feature selection method\n",
    "selector = SelectFromModel(\n",
    "        estimator=LogisticRegression(penalty='l1', solver='liblinear', C=1, random_state=seed, max_iter=4000),\n",
    "        threshold=0.005\n",
    "#         estimator=LinearSVC(\n",
    "#         penalty='l1',\n",
    "#         loss='squared_hinge',\n",
    "#         dual=False,\n",
    "#         tol=1e-3,\n",
    "#         C=1e-2,\n",
    "#         max_iter=5000,\n",
    "#         random_state=RANDOM_STATE\n",
    "#     )  \n",
    "    )\n",
    "select = [clone(selector)]\n",
    "oversample = True"
   ]
  },
  {
   "cell_type": "code",
   "execution_count": 9,
   "id": "1f9a688a",
   "metadata": {},
   "outputs": [],
   "source": [
    "import os\n",
    "import pandas as pd\n",
    "import numpy as np\n",
    "import ray\n",
    "from sklearn.model_selection import LeaveOneGroupOut\n",
    "from sklearn.feature_selection import SelectFromModel\n",
    "from sklearn.linear_model import LogisticRegression\n",
    "from sklearn.svm import LinearSVC\n",
    "from imblearn.over_sampling import SMOTENC, SMOTE\n",
    "from tqdm import tqdm\n",
    "from sklearn.model_selection import StratifiedGroupKFold, GroupKFold, KFold, TimeSeriesSplit, LeavePGroupsOut, train_test_split, GroupShuffleSplit\n",
    "from sklearn.preprocessing import StandardScaler, OrdinalEncoder, OneHotEncoder\n",
    "\n",
    "\n",
    "\n",
    "def get_cv_splits(cv_strategy, data, labels, groups=None):\n",
    "    \"\"\"\n",
    "    Returns the train-test splits based on the chosen cross-validation strategy.\n",
    "    \"\"\"\n",
    "    if cv_strategy == 'loso':\n",
    "        cv = LeaveOneGroupOut()\n",
    "        return cv.split(data, labels, groups)\n",
    "    elif cv_strategy == 'group_k_fold':\n",
    "        cv = GroupKFold(n_splits=5)  # You can adjust the number of splits\n",
    "        return cv.split(data, labels, groups)\n",
    "    elif cv_strategy == 'k_fold':\n",
    "        cv = KFold(n_splits=5)  # You can adjust the number of splits\n",
    "        return cv.split(data)\n",
    "    elif cv_strategy == 'time_series':\n",
    "        cv = TimeSeriesSplit(n_splits=5)  # You can adjust the number of splits\n",
    "        return cv.split(data)\n",
    "    else:\n",
    "        raise ValueError(f\"Unknown CV strategy: {cv_strategy}\")\n",
    "\n",
    "\n",
    "def get_categorical_features_indices(df):\n",
    "    return [i for i, col in enumerate(df.columns) if df[col].nunique() <= 10]\n",
    "\n",
    "def exclude_low_variance(agg_feature, threshold=.0000001):\n",
    "    agg_feature_non_zero_var = agg_feature.loc[:,agg_feature.var()>threshold]\n",
    "    num_removed = agg_feature.shape[1]-agg_feature_non_zero_var.shape[1]\n",
    "    print(f'{num_removed}/{agg_feature.shape[1]} features with variance < {threshold} removed')\n",
    "    return agg_feature_non_zero_var\n",
    "\n",
    "def remove_pairwise_corr(agg_feature_percent_missing, PAIRWISE_CORR_THRESHOLD=0.8, outcome_variable=None):\n",
    "    if outcome_variable is not None:\n",
    "        outcome_variable = pd.Series(outcome_variable, index=agg_feature_percent_missing.index, name=\"outcome\")\n",
    "        corr_with_outcome = pd.merge(outcome_variable, agg_feature_percent_missing, left_index=True, right_index=True).corr()[outcome_variable.name].abs().sort_values(ascending=False)\n",
    "        importance_order = corr_with_outcome.index[1:].tolist()\n",
    "        agg_feature_percent_missing = agg_feature_percent_missing[importance_order]\n",
    "\n",
    "    Matrix = agg_feature_percent_missing.corr().abs()\n",
    "    \n",
    "    upper_triangle = Matrix.where(np.triu(np.ones(Matrix.shape), k=1).astype(bool))\n",
    "\n",
    "    correlated_features = set()\n",
    "    for feature in upper_triangle.columns:\n",
    "        highly_correlated = upper_triangle[feature][upper_triangle[feature] > PAIRWISE_CORR_THRESHOLD].index\n",
    "        correlated_features.update(highly_correlated)\n",
    "\n",
    "    kept_features = list(set(agg_feature_percent_missing.columns) - correlated_features)\n",
    "    print(f\"Pairwise Corr: kept only {len(kept_features)}/{len(agg_feature_percent_missing.columns)} features\")\n",
    "    return agg_feature_percent_missing[kept_features]\n",
    "\n",
    "\n",
    "\n",
    "# Feature selection method\n",
    "def feature_selector(X_train, y_train):\n",
    "    selector = SelectFromModel(\n",
    "        estimator=LogisticRegression(penalty='l1', solver='liblinear', C=1, random_state=seed, max_iter=4000),\n",
    "        threshold=0.005\n",
    "#         estimator=LinearSVC(\n",
    "#         penalty='l1',\n",
    "#         loss='squared_hinge',\n",
    "#         dual=False,\n",
    "#         tol=1e-3,\n",
    "#         C=1e-2,\n",
    "#         max_iter=5000,\n",
    "#         random_state=RANDOM_STATE\n",
    "#     )\n",
    "    \n",
    "    )\n",
    "    selector.fit(X_train, y_train)\n",
    "    return selector\n",
    "\n",
    "def split_train_test(df, labels, train_idx, test_idx):\n",
    "    X_train = df.iloc[train_idx]\n",
    "    y_train = labels[train_idx]\n",
    "    X_test = df.iloc[test_idx]\n",
    "    y_test = labels[test_idx]\n",
    "    return X_train, y_train, X_test, y_test\n",
    "\n",
    "def process_dataframe(X):\n",
    "    \"\"\"\n",
    "    Process the input DataFrame 'X':\n",
    "    1. Set column names as a range from 0 to the number of columns.\n",
    "    2. Replace boolean values with 1 for True and 0 for False.\n",
    "\n",
    "    Parameters:\n",
    "        X (pandas.DataFrame): The input DataFrame.\n",
    "\n",
    "    Returns:\n",
    "        pandas.DataFrame: The processed DataFrame.\n",
    "    \"\"\"\n",
    "    # Set column names as a range from 0 to the number of columns\n",
    "    X.columns = range(X.shape[1])\n",
    "\n",
    "    # Replace boolean values with 1 for True and 0 for False\n",
    "#     X = X * 1\n",
    "\n",
    "    return X\n",
    "\n",
    "def save_data_to_data_file(X, y, filename):\n",
    "    if not os.path.exists(PATH_SAVE):\n",
    "        os.makedirs(PATH_SAVE)\n",
    "\n",
    "    file_path = os.path.join(PATH_SAVE, filename)\n",
    "\n",
    "    with open(file_path, 'w') as f:\n",
    "        for i in range(len(X)):\n",
    "            # Check if y is a numpy array or dataframe\n",
    "            label = y[i] if isinstance(y, np.ndarray) else y.iloc[i].values[0]\n",
    "            \n",
    "            # Start building the line with the label\n",
    "            line = str(label)\n",
    "            \n",
    "            # Iterate through columns of X\n",
    "            for col_idx, value in enumerate(X[i] if isinstance(X, np.ndarray) else X.iloc[i]):\n",
    "                line += \" {}:{}\".format(col_idx, value)\n",
    "            \n",
    "            f.write(line + '\\n')"
   ]
  },
  {
   "cell_type": "code",
   "execution_count": 10,
   "id": "06d18b58",
   "metadata": {},
   "outputs": [],
   "source": [
    "import os\n",
    "import pandas as pd\n",
    "import numpy as np\n",
    "import ray\n",
    "from sklearn.model_selection import LeaveOneGroupOut\n",
    "from sklearn.feature_selection import SelectFromModel\n",
    "from sklearn.linear_model import LogisticRegression\n",
    "from sklearn.svm import LinearSVC\n",
    "from imblearn.over_sampling import SMOTENC, SMOTE\n",
    "from tqdm import tqdm\n",
    "from sklearn.model_selection import StratifiedGroupKFold, GroupKFold, KFold, TimeSeriesSplit, LeavePGroupsOut, train_test_split, GroupShuffleSplit\n",
    "from sklearn.preprocessing import StandardScaler, OrdinalEncoder, OneHotEncoder\n",
    "\n",
    "\n",
    "\n",
    "def get_cv_splits(cv_strategy, data, labels, groups=None):\n",
    "    \"\"\"\n",
    "    Returns the train-test splits based on the chosen cross-validation strategy.\n",
    "    \"\"\"\n",
    "    if cv_strategy == 'loso':\n",
    "        cv = LeaveOneGroupOut()\n",
    "        return cv.split(data, labels, groups)\n",
    "    elif cv_strategy == 'group_k_fold':\n",
    "        cv = GroupKFold(n_splits=5)  # You can adjust the number of splits\n",
    "        return cv.split(data, labels, groups)\n",
    "    elif cv_strategy == 'k_fold':\n",
    "        cv = KFold(n_splits=5)  # You can adjust the number of splits\n",
    "        return cv.split(data)\n",
    "    elif cv_strategy == 'time_series':\n",
    "        cv = TimeSeriesSplit(n_splits=5)  # You can adjust the number of splits\n",
    "        return cv.split(data)\n",
    "    else:\n",
    "        raise ValueError(f\"Unknown CV strategy: {cv_strategy}\")\n",
    "\n",
    "\n",
    "def get_categorical_features_indices(df):\n",
    "    return [i for i, col in enumerate(df.columns) if df[col].nunique() <= 10]\n",
    "\n",
    "def exclude_low_variance(agg_feature, threshold=.0000001):\n",
    "    agg_feature_non_zero_var = agg_feature.loc[:,agg_feature.var()>threshold]\n",
    "    num_removed = agg_feature.shape[1]-agg_feature_non_zero_var.shape[1]\n",
    "    print(f'{num_removed}/{agg_feature.shape[1]} features with variance < {threshold} removed')\n",
    "    return agg_feature_non_zero_var\n",
    "\n",
    "def remove_pairwise_corr(agg_feature_percent_missing, PAIRWISE_CORR_THRESHOLD=0.8, outcome_variable=None):\n",
    "    if outcome_variable is not None:\n",
    "        outcome_variable = pd.Series(outcome_variable, index=agg_feature_percent_missing.index, name=\"outcome\")\n",
    "        corr_with_outcome = pd.merge(outcome_variable, agg_feature_percent_missing, left_index=True, right_index=True).corr()[outcome_variable.name].abs().sort_values(ascending=False)\n",
    "        importance_order = corr_with_outcome.index[1:].tolist()\n",
    "        agg_feature_percent_missing = agg_feature_percent_missing[importance_order]\n",
    "\n",
    "    Matrix = agg_feature_percent_missing.corr().abs()\n",
    "    \n",
    "    upper_triangle = Matrix.where(np.triu(np.ones(Matrix.shape), k=1).astype(bool))\n",
    "\n",
    "    correlated_features = set()\n",
    "    for feature in upper_triangle.columns:\n",
    "        highly_correlated = upper_triangle[feature][upper_triangle[feature] > PAIRWISE_CORR_THRESHOLD].index\n",
    "        correlated_features.update(highly_correlated)\n",
    "\n",
    "    kept_features = list(set(agg_feature_percent_missing.columns) - correlated_features)\n",
    "    print(f\"Pairwise Corr: kept only {len(kept_features)}/{len(agg_feature_percent_missing.columns)} features\")\n",
    "    return agg_feature_percent_missing[kept_features]\n",
    "\n",
    "\n",
    "\n",
    "# Feature selection method\n",
    "def feature_selector(X_train, y_train):\n",
    "    selector = SelectFromModel(\n",
    "        estimator=LogisticRegression(penalty='l1', solver='liblinear', C=1, random_state=seed, max_iter=4000),\n",
    "        threshold=0.005\n",
    "#         estimator=LinearSVC(\n",
    "#         penalty='l1',\n",
    "#         loss='squared_hinge',\n",
    "#         dual=False,\n",
    "#         tol=1e-3,\n",
    "#         C=1e-2,\n",
    "#         max_iter=5000,\n",
    "#         random_state=RANDOM_STATE\n",
    "#     )\n",
    "    \n",
    "    )\n",
    "    selector.fit(X_train, y_train)\n",
    "    return selector\n",
    "\n",
    "def split_train_test(df, labels, train_idx, test_idx):\n",
    "    X_train = df.iloc[train_idx]\n",
    "    y_train = labels[train_idx]\n",
    "    X_test = df.iloc[test_idx]\n",
    "    y_test = labels[test_idx]\n",
    "    return X_train, y_train, X_test, y_test\n",
    "\n",
    "\n",
    "\n",
    "# @ray.remote\n",
    "# # def process_and_save_split(train_idx, test_idx, all_data, all_labels, all_groups, process_dataframe, save_data_to_data_file, C_cat, C_num, select):\n",
    "# def process_and_save_split(train_idx, test_idx, all_data, all_labels, all_groups, process_dataframe, save_data_to_data_file):\n",
    "#     X_train, y_train, X_test, y_test = split_train_test(all_data, all_labels, train_idx, test_idx)\n",
    "    \n",
    "# #     # Use LOSO to split the training set further into training and evaluation sets\n",
    "# #     loso = LeaveOneGroupOut()\n",
    "# #     train_indices, eval_indices = next(loso.split(X_train, y_train, groups=all_groups[train_idx]))    \n",
    "# #     X_eval, y_eval = X_train.iloc[eval_indices], y_train[eval_indices]\n",
    "# #     X_train, y_train = X_train.iloc[train_indices], y_train[train_indices]\n",
    "    \n",
    "#     # Split 20% of training set as eval set\n",
    "#     X_train, X_eval, y_train, y_eval = train_test_split(X_train, y_train, test_size=0.2, random_state=RANDOM_STATE)\n",
    "\n",
    "# #     # Split 20% of training set as eval set based on groups\n",
    "# #     gss = GroupShuffleSplit(test_size=0.2, random_state=RANDOM_STATE)\n",
    "# #     train_inds, eval_inds = next(gss.split(X_train, y_train, groups=all_groups[train_idx]))\n",
    "# #     X_eval, y_eval = X_train.iloc[eval_inds], y_train[eval_inds]\n",
    "# #     X_train, y_train = X_train.iloc[train_inds], y_train[train_inds]\n",
    "    \n",
    "#     # Apply SMOTENC\n",
    "#     smote_nc = SMOTENC(categorical_features=get_categorical_features_indices(X_train), random_state=RANDOM_STATE)\n",
    "#     X_train, y_train = smote_nc.fit_resample(X_train, y_train)\n",
    "    \n",
    "# #     #Removing low variance features\n",
    "# #     X_train = exclude_low_variance(X_train)\n",
    "# #     X_test = X_test[X_train.columns]  # Keep only the selected features in the test set\n",
    "\n",
    "# #     #Removing highly correlated features\n",
    "# #     X_train = remove_pairwise_corr(X_train, outcome_variable= y_train)\n",
    "# #     X_test = X_test[X_train.columns]  # Keep only the selected features in the test set\n",
    "    \n",
    "#     # Capture indices \n",
    "#     train_indices = X_train.index\n",
    "#     eval_indices = X_eval.index\n",
    "#     test_indices = X_test.index\n",
    "    \n",
    "#     # Before feature selection, capture the columns\n",
    "#     current_columns = X_train.columns\n",
    "    \n",
    "#     # Feature selection\n",
    "#     selector = feature_selector(X_train, y_train)\n",
    "#     X_train = selector.transform(X_train)\n",
    "#     X_eval = selector.transform(X_eval)\n",
    "#     X_test = selector.transform(X_test)\n",
    "\n",
    "#     # Use the captured columns to get the selected columns\n",
    "#     selected_columns = current_columns[selector.get_support()]\n",
    "    \n",
    "#     X_train = pd.DataFrame(X_train, columns=selected_columns, index=train_indices)\n",
    "#     X_eval = pd.DataFrame(X_eval, columns=selected_columns, index=eval_indices)\n",
    "#     X_test = pd.DataFrame(X_test, columns=selected_columns, index=test_indices)\n",
    "\n",
    "    \n",
    "#     # Process dataframes\n",
    "#     X_train = process_dataframe(X_train)\n",
    "#     X_eval = process_dataframe(X_eval)\n",
    "#     X_test = process_dataframe(X_test)\n",
    "\n",
    "#     subject = all_groups[test_idx[0]]\n",
    "\n",
    "#     save_data_to_data_file(X_train, y_train, f'{subject}_train.data')\n",
    "#     save_data_to_data_file(X_eval, y_eval, f'{subject}_eval.data')\n",
    "#     save_data_to_data_file(X_test, y_test, f'{subject}_val.data')\n",
    "\n",
    "@ray.remote\n",
    "def process_and_save_split(train_idx, test_idx, all_data, all_labels, all_groups, process_dataframe, save_data_to_data_file, C_cat, C_num, select):\n",
    "    X_train, y_train, X_test, y_test = split_train_test(all_data, all_labels, train_idx, test_idx)\n",
    "    \n",
    "\n",
    "#     #Leave n subject out\n",
    "#     n = 4  # Number of groups to leave out\n",
    "#     # Use LNGO to split the training set further into training and evaluation sets\n",
    "#     lngo = LeavePGroupsOut(n_groups=n)\n",
    "#     train_indices, eval_indices = next(lngo.split(X_train, y_train, groups=all_groups[train_idx]))    \n",
    "#     X_eval, y_eval = X_train.iloc[eval_indices].copy(), y_train[eval_indices].copy()\n",
    "#     X_train, y_train = X_train.iloc[train_indices].copy(), y_train[train_indices].copy()\n",
    "\n",
    "    \n",
    "#     # Use LOSO to split the training set further into training and evaluation sets\n",
    "#     loso = LeaveOneGroupOut()\n",
    "#     train_indices, eval_indices = next(loso.split(X_train, y_train, groups=all_groups[train_idx]))    \n",
    "#     X_eval, y_eval = X_train.iloc[eval_indices].copy(), y_train[eval_indices].copy()\n",
    "#     X_train, y_train = X_train.iloc[train_indices].copy(), y_train[train_indices].copy()\n",
    "\n",
    "\n",
    "#     # Initialize the stratified group k-fold splitter\n",
    "#     sgkf = StratifiedGroupKFold(n_splits=5, random_state=RANDOM_STATE, shuffle=True)\n",
    "#     # Get the train and eval indices\n",
    "#     train_inds, eval_inds = next(sgkf.split(X_train, y_train, groups=all_groups[train_idx]))\n",
    "#     X_eval, y_eval = X_train.iloc[eval_inds], y_train[eval_inds]\n",
    "#     X_train, y_train = X_train.iloc[train_inds], y_train[train_inds]\n",
    "\n",
    "    \n",
    "    # Split 20% of training set as eval set\n",
    "    X_train, X_eval, y_train, y_eval = train_test_split(X_train, y_train, test_size=0.2, random_state=RANDOM_STATE,  stratify=y_train)\n",
    "\n",
    "#     # Split 20% of training set as eval set based on groups\n",
    "#     gss = GroupShuffleSplit(test_size=0.2, random_state=RANDOM_STATE)\n",
    "#     train_inds, eval_inds = next(gss.split(X_train, y_train, groups=all_groups[train_idx]))\n",
    "#     X_eval, y_eval = X_train.iloc[eval_inds], y_train[eval_inds]\n",
    "#     X_train, y_train = X_train.iloc[train_inds], y_train[train_inds]\n",
    "\n",
    "    if normalize:\n",
    "        # Normalize numeric features\n",
    "        scaler = StandardScaler().fit(X_train[C_num])\n",
    "        X_train[C_num] = scaler.transform(X_train[C_num].copy())\n",
    "        X_eval[C_num] = scaler.transform(X_eval[C_num].copy())\n",
    "        X_test[C_num] = scaler.transform(X_test[C_num].copy())\n",
    "\n",
    "    if select:\n",
    "        if isinstance(select, SelectFromModel):\n",
    "            select = [select]\n",
    "            \n",
    "        for i, s in enumerate(select):\n",
    "            # Fit feature selector only on training data\n",
    "            s.fit(X_train, y_train)\n",
    "            selected_features = X_train.columns[s.get_support()]\n",
    "            \n",
    "            # Apply feature selection to train, eval, and test\n",
    "            X_train = X_train[selected_features].copy()\n",
    "            X_eval = X_eval[selected_features].copy()\n",
    "            X_test = X_test[selected_features].copy()\n",
    "\n",
    "    if oversample:\n",
    "        # Determine categorical features for SMOTENC\n",
    "        if len(C_cat):\n",
    "            M = np.isin(X_train.columns, C_cat)\n",
    "            sampler = SMOTENC(categorical_features=M, random_state=seed)\n",
    "        else:\n",
    "            sampler = SMOTE(random_state=seed)\n",
    "        # Only oversample training data\n",
    "        X_train, y_train = sampler.fit_resample(X_train, y_train)\n",
    "    \n",
    "    # Apply consistent processing to train, eval, and test dataframes\n",
    "    X_train = process_dataframe(X_train)\n",
    "    X_eval = process_dataframe(X_eval)\n",
    "    X_test = process_dataframe(X_test)\n",
    "\n",
    "    subject = all_groups[test_idx[0]]\n",
    "\n",
    "    # Save processed data to files\n",
    "    save_data_to_data_file(X_train, y_train, f'{subject}_train.data')\n",
    "    save_data_to_data_file(X_eval, y_eval, f'{subject}_eval.data')\n",
    "    save_data_to_data_file(X_test, y_test, f'{subject}_val.data')\n"
   ]
  },
  {
   "cell_type": "code",
   "execution_count": 11,
   "id": "2fcc8082",
   "metadata": {},
   "outputs": [],
   "source": [
    "# Create a full dataset and corresponding labels and groups\n",
    "all_data = X\n",
    "all_labels = y\n",
    "all_groups = groups"
   ]
  },
  {
   "cell_type": "code",
   "execution_count": 12,
   "id": "7cef85d8",
   "metadata": {
    "scrolled": true
   },
   "outputs": [
    {
     "name": "stderr",
     "output_type": "stream",
     "text": [
      "2024-08-13 13:33:41,147\tINFO worker.py:1612 -- Started a local Ray instance. View the dashboard at \u001b[1m\u001b[32m127.0.0.1:8265 \u001b[39m\u001b[22m\n",
      "\u001b[2m\u001b[36m(process_and_save_split pid=84927)\u001b[0m /tmp/ipykernel_84685/632661198.py:203: SettingWithCopyWarning: \n",
      "\u001b[2m\u001b[36m(process_and_save_split pid=84927)\u001b[0m A value is trying to be set on a copy of a slice from a DataFrame.\n",
      "\u001b[2m\u001b[36m(process_and_save_split pid=84927)\u001b[0m Try using .loc[row_indexer,col_indexer] = value instead\n",
      "\u001b[2m\u001b[36m(process_and_save_split pid=84927)\u001b[0m \n",
      "\u001b[2m\u001b[36m(process_and_save_split pid=84927)\u001b[0m See the caveats in the documentation: https://pandas.pydata.org/pandas-docs/stable/user_guide/indexing.html#returning-a-view-versus-a-copy\n",
      "\u001b[2m\u001b[36m(process_and_save_split pid=84919)\u001b[0m /tmp/ipykernel_84685/632661198.py:203: SettingWithCopyWarning: \u001b[32m [repeated 16x across cluster] (Ray deduplicates logs by default. Set RAY_DEDUP_LOGS=0 to disable log deduplication, or see https://docs.ray.io/en/master/ray-observability/ray-logging.html#log-deduplication for more options.)\u001b[0m\n",
      "\u001b[2m\u001b[36m(process_and_save_split pid=84919)\u001b[0m A value is trying to be set on a copy of a slice from a DataFrame.\u001b[32m [repeated 16x across cluster]\u001b[0m\n",
      "\u001b[2m\u001b[36m(process_and_save_split pid=84919)\u001b[0m Try using .loc[row_indexer,col_indexer] = value instead\u001b[32m [repeated 16x across cluster]\u001b[0m\n",
      "\u001b[2m\u001b[36m(process_and_save_split pid=84919)\u001b[0m \u001b[32m [repeated 16x across cluster]\u001b[0m\n",
      "\u001b[2m\u001b[36m(process_and_save_split pid=84919)\u001b[0m See the caveats in the documentation: https://pandas.pydata.org/pandas-docs/stable/user_guide/indexing.html#returning-a-view-versus-a-copy\u001b[32m [repeated 16x across cluster]\u001b[0m\n",
      "\u001b[2m\u001b[36m(process_and_save_split pid=84933)\u001b[0m /tmp/ipykernel_84685/632661198.py:203: SettingWithCopyWarning: \n",
      "\u001b[2m\u001b[36m(process_and_save_split pid=84933)\u001b[0m A value is trying to be set on a copy of a slice from a DataFrame.\n",
      "\u001b[2m\u001b[36m(process_and_save_split pid=84933)\u001b[0m Try using .loc[row_indexer,col_indexer] = value instead\n",
      "\u001b[2m\u001b[36m(process_and_save_split pid=84933)\u001b[0m \n",
      "\u001b[2m\u001b[36m(process_and_save_split pid=84933)\u001b[0m See the caveats in the documentation: https://pandas.pydata.org/pandas-docs/stable/user_guide/indexing.html#returning-a-view-versus-a-copy\n",
      "\u001b[2m\u001b[36m(process_and_save_split pid=84927)\u001b[0m /tmp/ipykernel_84685/632661198.py:203: SettingWithCopyWarning: \n",
      "\u001b[2m\u001b[36m(process_and_save_split pid=84927)\u001b[0m A value is trying to be set on a copy of a slice from a DataFrame.\n",
      "\u001b[2m\u001b[36m(process_and_save_split pid=84927)\u001b[0m Try using .loc[row_indexer,col_indexer] = value instead\n",
      "\u001b[2m\u001b[36m(process_and_save_split pid=84927)\u001b[0m \n",
      "\u001b[2m\u001b[36m(process_and_save_split pid=84927)\u001b[0m See the caveats in the documentation: https://pandas.pydata.org/pandas-docs/stable/user_guide/indexing.html#returning-a-view-versus-a-copy\n",
      "\u001b[2m\u001b[36m(process_and_save_split pid=84925)\u001b[0m /tmp/ipykernel_84685/632661198.py:203: SettingWithCopyWarning: \u001b[32m [repeated 2x across cluster]\u001b[0m\n",
      "\u001b[2m\u001b[36m(process_and_save_split pid=84925)\u001b[0m A value is trying to be set on a copy of a slice from a DataFrame.\u001b[32m [repeated 2x across cluster]\u001b[0m\n",
      "\u001b[2m\u001b[36m(process_and_save_split pid=84925)\u001b[0m Try using .loc[row_indexer,col_indexer] = value instead\u001b[32m [repeated 2x across cluster]\u001b[0m\n",
      "\u001b[2m\u001b[36m(process_and_save_split pid=84925)\u001b[0m \u001b[32m [repeated 2x across cluster]\u001b[0m\n",
      "\u001b[2m\u001b[36m(process_and_save_split pid=84925)\u001b[0m See the caveats in the documentation: https://pandas.pydata.org/pandas-docs/stable/user_guide/indexing.html#returning-a-view-versus-a-copy\u001b[32m [repeated 2x across cluster]\u001b[0m\n",
      "\u001b[2m\u001b[36m(process_and_save_split pid=84926)\u001b[0m /tmp/ipykernel_84685/632661198.py:203: SettingWithCopyWarning: \u001b[32m [repeated 7x across cluster]\u001b[0m\n",
      "\u001b[2m\u001b[36m(process_and_save_split pid=84926)\u001b[0m A value is trying to be set on a copy of a slice from a DataFrame.\u001b[32m [repeated 7x across cluster]\u001b[0m\n",
      "\u001b[2m\u001b[36m(process_and_save_split pid=84926)\u001b[0m Try using .loc[row_indexer,col_indexer] = value instead\u001b[32m [repeated 7x across cluster]\u001b[0m\n",
      "\u001b[2m\u001b[36m(process_and_save_split pid=84926)\u001b[0m \u001b[32m [repeated 7x across cluster]\u001b[0m\n",
      "\u001b[2m\u001b[36m(process_and_save_split pid=84926)\u001b[0m See the caveats in the documentation: https://pandas.pydata.org/pandas-docs/stable/user_guide/indexing.html#returning-a-view-versus-a-copy\u001b[32m [repeated 7x across cluster]\u001b[0m\n",
      "\u001b[2m\u001b[36m(process_and_save_split pid=84930)\u001b[0m /tmp/ipykernel_84685/632661198.py:203: SettingWithCopyWarning: \u001b[32m [repeated 2x across cluster]\u001b[0m\n",
      "\u001b[2m\u001b[36m(process_and_save_split pid=84930)\u001b[0m A value is trying to be set on a copy of a slice from a DataFrame.\u001b[32m [repeated 2x across cluster]\u001b[0m\n",
      "\u001b[2m\u001b[36m(process_and_save_split pid=84930)\u001b[0m Try using .loc[row_indexer,col_indexer] = value instead\u001b[32m [repeated 2x across cluster]\u001b[0m\n",
      "\u001b[2m\u001b[36m(process_and_save_split pid=84930)\u001b[0m \u001b[32m [repeated 2x across cluster]\u001b[0m\n",
      "\u001b[2m\u001b[36m(process_and_save_split pid=84930)\u001b[0m See the caveats in the documentation: https://pandas.pydata.org/pandas-docs/stable/user_guide/indexing.html#returning-a-view-versus-a-copy\u001b[32m [repeated 2x across cluster]\u001b[0m\n",
      "\u001b[2m\u001b[36m(process_and_save_split pid=84933)\u001b[0m /tmp/ipykernel_84685/632661198.py:203: SettingWithCopyWarning: \u001b[32m [repeated 3x across cluster]\u001b[0m\n",
      "\u001b[2m\u001b[36m(process_and_save_split pid=84933)\u001b[0m A value is trying to be set on a copy of a slice from a DataFrame.\u001b[32m [repeated 3x across cluster]\u001b[0m\n",
      "\u001b[2m\u001b[36m(process_and_save_split pid=84933)\u001b[0m Try using .loc[row_indexer,col_indexer] = value instead\u001b[32m [repeated 3x across cluster]\u001b[0m\n",
      "\u001b[2m\u001b[36m(process_and_save_split pid=84933)\u001b[0m \u001b[32m [repeated 3x across cluster]\u001b[0m\n",
      "\u001b[2m\u001b[36m(process_and_save_split pid=84933)\u001b[0m See the caveats in the documentation: https://pandas.pydata.org/pandas-docs/stable/user_guide/indexing.html#returning-a-view-versus-a-copy\u001b[32m [repeated 3x across cluster]\u001b[0m\n",
      "\u001b[2m\u001b[36m(process_and_save_split pid=84921)\u001b[0m /tmp/ipykernel_84685/632661198.py:203: SettingWithCopyWarning: \n",
      "\u001b[2m\u001b[36m(process_and_save_split pid=84921)\u001b[0m A value is trying to be set on a copy of a slice from a DataFrame.\n",
      "\u001b[2m\u001b[36m(process_and_save_split pid=84921)\u001b[0m Try using .loc[row_indexer,col_indexer] = value instead\n",
      "\u001b[2m\u001b[36m(process_and_save_split pid=84921)\u001b[0m \n",
      "\u001b[2m\u001b[36m(process_and_save_split pid=84921)\u001b[0m See the caveats in the documentation: https://pandas.pydata.org/pandas-docs/stable/user_guide/indexing.html#returning-a-view-versus-a-copy\n",
      "\u001b[2m\u001b[36m(process_and_save_split pid=84923)\u001b[0m /tmp/ipykernel_84685/632661198.py:203: SettingWithCopyWarning: \n",
      "\u001b[2m\u001b[36m(process_and_save_split pid=84923)\u001b[0m A value is trying to be set on a copy of a slice from a DataFrame.\n",
      "\u001b[2m\u001b[36m(process_and_save_split pid=84923)\u001b[0m Try using .loc[row_indexer,col_indexer] = value instead\n",
      "\u001b[2m\u001b[36m(process_and_save_split pid=84923)\u001b[0m \n",
      "\u001b[2m\u001b[36m(process_and_save_split pid=84923)\u001b[0m See the caveats in the documentation: https://pandas.pydata.org/pandas-docs/stable/user_guide/indexing.html#returning-a-view-versus-a-copy\n",
      "\u001b[2m\u001b[36m(process_and_save_split pid=84928)\u001b[0m /tmp/ipykernel_84685/632661198.py:203: SettingWithCopyWarning: \u001b[32m [repeated 2x across cluster]\u001b[0m\n",
      "\u001b[2m\u001b[36m(process_and_save_split pid=84928)\u001b[0m A value is trying to be set on a copy of a slice from a DataFrame.\u001b[32m [repeated 2x across cluster]\u001b[0m\n",
      "\u001b[2m\u001b[36m(process_and_save_split pid=84928)\u001b[0m Try using .loc[row_indexer,col_indexer] = value instead\u001b[32m [repeated 2x across cluster]\u001b[0m\n",
      "\u001b[2m\u001b[36m(process_and_save_split pid=84928)\u001b[0m \u001b[32m [repeated 2x across cluster]\u001b[0m\n",
      "\u001b[2m\u001b[36m(process_and_save_split pid=84928)\u001b[0m See the caveats in the documentation: https://pandas.pydata.org/pandas-docs/stable/user_guide/indexing.html#returning-a-view-versus-a-copy\u001b[32m [repeated 2x across cluster]\u001b[0m\n",
      "\u001b[2m\u001b[36m(process_and_save_split pid=84919)\u001b[0m /tmp/ipykernel_84685/632661198.py:203: SettingWithCopyWarning: \u001b[32m [repeated 3x across cluster]\u001b[0m\n",
      "\u001b[2m\u001b[36m(process_and_save_split pid=84919)\u001b[0m A value is trying to be set on a copy of a slice from a DataFrame.\u001b[32m [repeated 3x across cluster]\u001b[0m\n",
      "\u001b[2m\u001b[36m(process_and_save_split pid=84919)\u001b[0m Try using .loc[row_indexer,col_indexer] = value instead\u001b[32m [repeated 3x across cluster]\u001b[0m\n",
      "\u001b[2m\u001b[36m(process_and_save_split pid=84919)\u001b[0m \u001b[32m [repeated 3x across cluster]\u001b[0m\n",
      "\u001b[2m\u001b[36m(process_and_save_split pid=84919)\u001b[0m See the caveats in the documentation: https://pandas.pydata.org/pandas-docs/stable/user_guide/indexing.html#returning-a-view-versus-a-copy\u001b[32m [repeated 3x across cluster]\u001b[0m\n"
     ]
    },
    {
     "name": "stderr",
     "output_type": "stream",
     "text": [
      "\u001b[2m\u001b[36m(process_and_save_split pid=84930)\u001b[0m /tmp/ipykernel_84685/632661198.py:203: SettingWithCopyWarning: \u001b[32m [repeated 3x across cluster]\u001b[0m\n",
      "\u001b[2m\u001b[36m(process_and_save_split pid=84930)\u001b[0m A value is trying to be set on a copy of a slice from a DataFrame.\u001b[32m [repeated 3x across cluster]\u001b[0m\n",
      "\u001b[2m\u001b[36m(process_and_save_split pid=84930)\u001b[0m Try using .loc[row_indexer,col_indexer] = value instead\u001b[32m [repeated 3x across cluster]\u001b[0m\n",
      "\u001b[2m\u001b[36m(process_and_save_split pid=84930)\u001b[0m \u001b[32m [repeated 3x across cluster]\u001b[0m\n",
      "\u001b[2m\u001b[36m(process_and_save_split pid=84930)\u001b[0m See the caveats in the documentation: https://pandas.pydata.org/pandas-docs/stable/user_guide/indexing.html#returning-a-view-versus-a-copy\u001b[32m [repeated 3x across cluster]\u001b[0m\n",
      "\u001b[2m\u001b[36m(process_and_save_split pid=84932)\u001b[0m /tmp/ipykernel_84685/632661198.py:203: SettingWithCopyWarning: \u001b[32m [repeated 2x across cluster]\u001b[0m\n",
      "\u001b[2m\u001b[36m(process_and_save_split pid=84932)\u001b[0m A value is trying to be set on a copy of a slice from a DataFrame.\u001b[32m [repeated 2x across cluster]\u001b[0m\n",
      "\u001b[2m\u001b[36m(process_and_save_split pid=84932)\u001b[0m Try using .loc[row_indexer,col_indexer] = value instead\u001b[32m [repeated 2x across cluster]\u001b[0m\n",
      "\u001b[2m\u001b[36m(process_and_save_split pid=84932)\u001b[0m \u001b[32m [repeated 2x across cluster]\u001b[0m\n",
      "\u001b[2m\u001b[36m(process_and_save_split pid=84932)\u001b[0m See the caveats in the documentation: https://pandas.pydata.org/pandas-docs/stable/user_guide/indexing.html#returning-a-view-versus-a-copy\u001b[32m [repeated 2x across cluster]\u001b[0m\n",
      "\u001b[2m\u001b[36m(process_and_save_split pid=84931)\u001b[0m /tmp/ipykernel_84685/632661198.py:203: SettingWithCopyWarning: \u001b[32m [repeated 2x across cluster]\u001b[0m\n",
      "\u001b[2m\u001b[36m(process_and_save_split pid=84931)\u001b[0m A value is trying to be set on a copy of a slice from a DataFrame.\u001b[32m [repeated 2x across cluster]\u001b[0m\n",
      "\u001b[2m\u001b[36m(process_and_save_split pid=84931)\u001b[0m Try using .loc[row_indexer,col_indexer] = value instead\u001b[32m [repeated 2x across cluster]\u001b[0m\n",
      "\u001b[2m\u001b[36m(process_and_save_split pid=84931)\u001b[0m \u001b[32m [repeated 2x across cluster]\u001b[0m\n",
      "\u001b[2m\u001b[36m(process_and_save_split pid=84931)\u001b[0m See the caveats in the documentation: https://pandas.pydata.org/pandas-docs/stable/user_guide/indexing.html#returning-a-view-versus-a-copy\u001b[32m [repeated 2x across cluster]\u001b[0m\n",
      "\u001b[2m\u001b[36m(process_and_save_split pid=84934)\u001b[0m /tmp/ipykernel_84685/632661198.py:203: SettingWithCopyWarning: \n",
      "\u001b[2m\u001b[36m(process_and_save_split pid=84934)\u001b[0m A value is trying to be set on a copy of a slice from a DataFrame.\n",
      "\u001b[2m\u001b[36m(process_and_save_split pid=84934)\u001b[0m Try using .loc[row_indexer,col_indexer] = value instead\n",
      "\u001b[2m\u001b[36m(process_and_save_split pid=84934)\u001b[0m \n",
      "\u001b[2m\u001b[36m(process_and_save_split pid=84934)\u001b[0m See the caveats in the documentation: https://pandas.pydata.org/pandas-docs/stable/user_guide/indexing.html#returning-a-view-versus-a-copy\n",
      "\u001b[2m\u001b[36m(process_and_save_split pid=84933)\u001b[0m /tmp/ipykernel_84685/632661198.py:203: SettingWithCopyWarning: \n",
      "\u001b[2m\u001b[36m(process_and_save_split pid=84933)\u001b[0m A value is trying to be set on a copy of a slice from a DataFrame.\n",
      "\u001b[2m\u001b[36m(process_and_save_split pid=84933)\u001b[0m Try using .loc[row_indexer,col_indexer] = value instead\n",
      "\u001b[2m\u001b[36m(process_and_save_split pid=84933)\u001b[0m \n",
      "\u001b[2m\u001b[36m(process_and_save_split pid=84933)\u001b[0m See the caveats in the documentation: https://pandas.pydata.org/pandas-docs/stable/user_guide/indexing.html#returning-a-view-versus-a-copy\n",
      "\u001b[2m\u001b[36m(process_and_save_split pid=84923)\u001b[0m /tmp/ipykernel_84685/632661198.py:203: SettingWithCopyWarning: \n",
      "\u001b[2m\u001b[36m(process_and_save_split pid=84923)\u001b[0m A value is trying to be set on a copy of a slice from a DataFrame.\n",
      "\u001b[2m\u001b[36m(process_and_save_split pid=84923)\u001b[0m Try using .loc[row_indexer,col_indexer] = value instead\n",
      "\u001b[2m\u001b[36m(process_and_save_split pid=84923)\u001b[0m \n",
      "\u001b[2m\u001b[36m(process_and_save_split pid=84923)\u001b[0m See the caveats in the documentation: https://pandas.pydata.org/pandas-docs/stable/user_guide/indexing.html#returning-a-view-versus-a-copy\n",
      "\u001b[2m\u001b[36m(process_and_save_split pid=84925)\u001b[0m /tmp/ipykernel_84685/632661198.py:203: SettingWithCopyWarning: \n",
      "\u001b[2m\u001b[36m(process_and_save_split pid=84925)\u001b[0m A value is trying to be set on a copy of a slice from a DataFrame.\n",
      "\u001b[2m\u001b[36m(process_and_save_split pid=84925)\u001b[0m Try using .loc[row_indexer,col_indexer] = value instead\n",
      "\u001b[2m\u001b[36m(process_and_save_split pid=84925)\u001b[0m \n",
      "\u001b[2m\u001b[36m(process_and_save_split pid=84925)\u001b[0m See the caveats in the documentation: https://pandas.pydata.org/pandas-docs/stable/user_guide/indexing.html#returning-a-view-versus-a-copy\n",
      "\u001b[2m\u001b[36m(process_and_save_split pid=84926)\u001b[0m /tmp/ipykernel_84685/632661198.py:203: SettingWithCopyWarning: \u001b[32m [repeated 2x across cluster]\u001b[0m\n",
      "\u001b[2m\u001b[36m(process_and_save_split pid=84926)\u001b[0m A value is trying to be set on a copy of a slice from a DataFrame.\u001b[32m [repeated 2x across cluster]\u001b[0m\n",
      "\u001b[2m\u001b[36m(process_and_save_split pid=84926)\u001b[0m Try using .loc[row_indexer,col_indexer] = value instead\u001b[32m [repeated 2x across cluster]\u001b[0m\n",
      "\u001b[2m\u001b[36m(process_and_save_split pid=84926)\u001b[0m \u001b[32m [repeated 2x across cluster]\u001b[0m\n",
      "\u001b[2m\u001b[36m(process_and_save_split pid=84926)\u001b[0m See the caveats in the documentation: https://pandas.pydata.org/pandas-docs/stable/user_guide/indexing.html#returning-a-view-versus-a-copy\u001b[32m [repeated 2x across cluster]\u001b[0m\n",
      "\u001b[2m\u001b[36m(process_and_save_split pid=84924)\u001b[0m /tmp/ipykernel_84685/632661198.py:203: SettingWithCopyWarning: \n",
      "\u001b[2m\u001b[36m(process_and_save_split pid=84924)\u001b[0m A value is trying to be set on a copy of a slice from a DataFrame.\n",
      "\u001b[2m\u001b[36m(process_and_save_split pid=84924)\u001b[0m Try using .loc[row_indexer,col_indexer] = value instead\n",
      "\u001b[2m\u001b[36m(process_and_save_split pid=84924)\u001b[0m \n",
      "\u001b[2m\u001b[36m(process_and_save_split pid=84924)\u001b[0m See the caveats in the documentation: https://pandas.pydata.org/pandas-docs/stable/user_guide/indexing.html#returning-a-view-versus-a-copy\n",
      "\u001b[2m\u001b[36m(process_and_save_split pid=84919)\u001b[0m /tmp/ipykernel_84685/632661198.py:203: SettingWithCopyWarning: \n",
      "\u001b[2m\u001b[36m(process_and_save_split pid=84919)\u001b[0m A value is trying to be set on a copy of a slice from a DataFrame.\n",
      "\u001b[2m\u001b[36m(process_and_save_split pid=84919)\u001b[0m Try using .loc[row_indexer,col_indexer] = value instead\n",
      "\u001b[2m\u001b[36m(process_and_save_split pid=84919)\u001b[0m \n",
      "\u001b[2m\u001b[36m(process_and_save_split pid=84919)\u001b[0m See the caveats in the documentation: https://pandas.pydata.org/pandas-docs/stable/user_guide/indexing.html#returning-a-view-versus-a-copy\n",
      "\u001b[2m\u001b[36m(process_and_save_split pid=84932)\u001b[0m /tmp/ipykernel_84685/632661198.py:203: SettingWithCopyWarning: \u001b[32m [repeated 3x across cluster]\u001b[0m\n",
      "\u001b[2m\u001b[36m(process_and_save_split pid=84932)\u001b[0m A value is trying to be set on a copy of a slice from a DataFrame.\u001b[32m [repeated 3x across cluster]\u001b[0m\n",
      "\u001b[2m\u001b[36m(process_and_save_split pid=84932)\u001b[0m Try using .loc[row_indexer,col_indexer] = value instead\u001b[32m [repeated 3x across cluster]\u001b[0m\n",
      "\u001b[2m\u001b[36m(process_and_save_split pid=84932)\u001b[0m \u001b[32m [repeated 3x across cluster]\u001b[0m\n",
      "\u001b[2m\u001b[36m(process_and_save_split pid=84932)\u001b[0m See the caveats in the documentation: https://pandas.pydata.org/pandas-docs/stable/user_guide/indexing.html#returning-a-view-versus-a-copy\u001b[32m [repeated 3x across cluster]\u001b[0m\n",
      "\u001b[2m\u001b[36m(process_and_save_split pid=84929)\u001b[0m /tmp/ipykernel_84685/632661198.py:203: SettingWithCopyWarning: \u001b[32m [repeated 2x across cluster]\u001b[0m\n",
      "\u001b[2m\u001b[36m(process_and_save_split pid=84929)\u001b[0m A value is trying to be set on a copy of a slice from a DataFrame.\u001b[32m [repeated 2x across cluster]\u001b[0m\n",
      "\u001b[2m\u001b[36m(process_and_save_split pid=84929)\u001b[0m Try using .loc[row_indexer,col_indexer] = value instead\u001b[32m [repeated 2x across cluster]\u001b[0m\n",
      "\u001b[2m\u001b[36m(process_and_save_split pid=84929)\u001b[0m \u001b[32m [repeated 2x across cluster]\u001b[0m\n",
      "\u001b[2m\u001b[36m(process_and_save_split pid=84929)\u001b[0m See the caveats in the documentation: https://pandas.pydata.org/pandas-docs/stable/user_guide/indexing.html#returning-a-view-versus-a-copy\u001b[32m [repeated 2x across cluster]\u001b[0m\n",
      "\u001b[2m\u001b[36m(process_and_save_split pid=84931)\u001b[0m /tmp/ipykernel_84685/632661198.py:203: SettingWithCopyWarning: \u001b[32m [repeated 2x across cluster]\u001b[0m\n",
      "\u001b[2m\u001b[36m(process_and_save_split pid=84931)\u001b[0m A value is trying to be set on a copy of a slice from a DataFrame.\u001b[32m [repeated 2x across cluster]\u001b[0m\n",
      "\u001b[2m\u001b[36m(process_and_save_split pid=84931)\u001b[0m Try using .loc[row_indexer,col_indexer] = value instead\u001b[32m [repeated 2x across cluster]\u001b[0m\n",
      "\u001b[2m\u001b[36m(process_and_save_split pid=84931)\u001b[0m \u001b[32m [repeated 2x across cluster]\u001b[0m\n",
      "\u001b[2m\u001b[36m(process_and_save_split pid=84931)\u001b[0m See the caveats in the documentation: https://pandas.pydata.org/pandas-docs/stable/user_guide/indexing.html#returning-a-view-versus-a-copy\u001b[32m [repeated 2x across cluster]\u001b[0m\n"
     ]
    },
    {
     "name": "stderr",
     "output_type": "stream",
     "text": [
      "\u001b[2m\u001b[36m(process_and_save_split pid=84933)\u001b[0m /tmp/ipykernel_84685/632661198.py:203: SettingWithCopyWarning: \u001b[32m [repeated 3x across cluster]\u001b[0m\n",
      "\u001b[2m\u001b[36m(process_and_save_split pid=84933)\u001b[0m A value is trying to be set on a copy of a slice from a DataFrame.\u001b[32m [repeated 3x across cluster]\u001b[0m\n",
      "\u001b[2m\u001b[36m(process_and_save_split pid=84933)\u001b[0m Try using .loc[row_indexer,col_indexer] = value instead\u001b[32m [repeated 3x across cluster]\u001b[0m\n",
      "\u001b[2m\u001b[36m(process_and_save_split pid=84933)\u001b[0m \u001b[32m [repeated 3x across cluster]\u001b[0m\n",
      "\u001b[2m\u001b[36m(process_and_save_split pid=84933)\u001b[0m See the caveats in the documentation: https://pandas.pydata.org/pandas-docs/stable/user_guide/indexing.html#returning-a-view-versus-a-copy\u001b[32m [repeated 3x across cluster]\u001b[0m\n",
      "\u001b[2m\u001b[36m(process_and_save_split pid=84924)\u001b[0m /tmp/ipykernel_84685/632661198.py:203: SettingWithCopyWarning: \u001b[32m [repeated 2x across cluster]\u001b[0m\n",
      "\u001b[2m\u001b[36m(process_and_save_split pid=84924)\u001b[0m A value is trying to be set on a copy of a slice from a DataFrame.\u001b[32m [repeated 2x across cluster]\u001b[0m\n",
      "\u001b[2m\u001b[36m(process_and_save_split pid=84924)\u001b[0m Try using .loc[row_indexer,col_indexer] = value instead\u001b[32m [repeated 2x across cluster]\u001b[0m\n",
      "\u001b[2m\u001b[36m(process_and_save_split pid=84924)\u001b[0m \u001b[32m [repeated 2x across cluster]\u001b[0m\n",
      "\u001b[2m\u001b[36m(process_and_save_split pid=84924)\u001b[0m See the caveats in the documentation: https://pandas.pydata.org/pandas-docs/stable/user_guide/indexing.html#returning-a-view-versus-a-copy\u001b[32m [repeated 2x across cluster]\u001b[0m\n",
      "\u001b[2m\u001b[36m(process_and_save_split pid=84920)\u001b[0m /tmp/ipykernel_84685/632661198.py:203: SettingWithCopyWarning: \n",
      "\u001b[2m\u001b[36m(process_and_save_split pid=84920)\u001b[0m A value is trying to be set on a copy of a slice from a DataFrame.\n",
      "\u001b[2m\u001b[36m(process_and_save_split pid=84920)\u001b[0m Try using .loc[row_indexer,col_indexer] = value instead\n",
      "\u001b[2m\u001b[36m(process_and_save_split pid=84920)\u001b[0m \n",
      "\u001b[2m\u001b[36m(process_and_save_split pid=84920)\u001b[0m See the caveats in the documentation: https://pandas.pydata.org/pandas-docs/stable/user_guide/indexing.html#returning-a-view-versus-a-copy\n",
      "\u001b[2m\u001b[36m(process_and_save_split pid=84926)\u001b[0m /tmp/ipykernel_84685/632661198.py:203: SettingWithCopyWarning: \n",
      "\u001b[2m\u001b[36m(process_and_save_split pid=84926)\u001b[0m A value is trying to be set on a copy of a slice from a DataFrame.\n",
      "\u001b[2m\u001b[36m(process_and_save_split pid=84926)\u001b[0m Try using .loc[row_indexer,col_indexer] = value instead\n",
      "\u001b[2m\u001b[36m(process_and_save_split pid=84926)\u001b[0m \n",
      "\u001b[2m\u001b[36m(process_and_save_split pid=84926)\u001b[0m See the caveats in the documentation: https://pandas.pydata.org/pandas-docs/stable/user_guide/indexing.html#returning-a-view-versus-a-copy\n",
      "\u001b[2m\u001b[36m(process_and_save_split pid=84932)\u001b[0m /tmp/ipykernel_84685/632661198.py:203: SettingWithCopyWarning: \u001b[32m [repeated 2x across cluster]\u001b[0m\n",
      "\u001b[2m\u001b[36m(process_and_save_split pid=84932)\u001b[0m A value is trying to be set on a copy of a slice from a DataFrame.\u001b[32m [repeated 2x across cluster]\u001b[0m\n",
      "\u001b[2m\u001b[36m(process_and_save_split pid=84932)\u001b[0m Try using .loc[row_indexer,col_indexer] = value instead\u001b[32m [repeated 2x across cluster]\u001b[0m\n",
      "\u001b[2m\u001b[36m(process_and_save_split pid=84932)\u001b[0m \u001b[32m [repeated 2x across cluster]\u001b[0m\n",
      "\u001b[2m\u001b[36m(process_and_save_split pid=84932)\u001b[0m See the caveats in the documentation: https://pandas.pydata.org/pandas-docs/stable/user_guide/indexing.html#returning-a-view-versus-a-copy\u001b[32m [repeated 2x across cluster]\u001b[0m\n",
      "\u001b[2m\u001b[36m(process_and_save_split pid=84930)\u001b[0m /tmp/ipykernel_84685/632661198.py:203: SettingWithCopyWarning: \u001b[32m [repeated 3x across cluster]\u001b[0m\n",
      "\u001b[2m\u001b[36m(process_and_save_split pid=84930)\u001b[0m A value is trying to be set on a copy of a slice from a DataFrame.\u001b[32m [repeated 3x across cluster]\u001b[0m\n",
      "\u001b[2m\u001b[36m(process_and_save_split pid=84930)\u001b[0m Try using .loc[row_indexer,col_indexer] = value instead\u001b[32m [repeated 3x across cluster]\u001b[0m\n",
      "\u001b[2m\u001b[36m(process_and_save_split pid=84930)\u001b[0m \u001b[32m [repeated 3x across cluster]\u001b[0m\n",
      "\u001b[2m\u001b[36m(process_and_save_split pid=84930)\u001b[0m See the caveats in the documentation: https://pandas.pydata.org/pandas-docs/stable/user_guide/indexing.html#returning-a-view-versus-a-copy\u001b[32m [repeated 3x across cluster]\u001b[0m\n",
      "\u001b[2m\u001b[36m(process_and_save_split pid=84922)\u001b[0m /tmp/ipykernel_84685/632661198.py:203: SettingWithCopyWarning: \u001b[32m [repeated 2x across cluster]\u001b[0m\n",
      "\u001b[2m\u001b[36m(process_and_save_split pid=84922)\u001b[0m A value is trying to be set on a copy of a slice from a DataFrame.\u001b[32m [repeated 2x across cluster]\u001b[0m\n",
      "\u001b[2m\u001b[36m(process_and_save_split pid=84922)\u001b[0m Try using .loc[row_indexer,col_indexer] = value instead\u001b[32m [repeated 2x across cluster]\u001b[0m\n",
      "\u001b[2m\u001b[36m(process_and_save_split pid=84922)\u001b[0m \u001b[32m [repeated 2x across cluster]\u001b[0m\n",
      "\u001b[2m\u001b[36m(process_and_save_split pid=84922)\u001b[0m See the caveats in the documentation: https://pandas.pydata.org/pandas-docs/stable/user_guide/indexing.html#returning-a-view-versus-a-copy\u001b[32m [repeated 2x across cluster]\u001b[0m\n",
      "\u001b[2m\u001b[36m(process_and_save_split pid=84931)\u001b[0m /tmp/ipykernel_84685/632661198.py:203: SettingWithCopyWarning: \u001b[32m [repeated 3x across cluster]\u001b[0m\n",
      "\u001b[2m\u001b[36m(process_and_save_split pid=84931)\u001b[0m A value is trying to be set on a copy of a slice from a DataFrame.\u001b[32m [repeated 3x across cluster]\u001b[0m\n",
      "\u001b[2m\u001b[36m(process_and_save_split pid=84931)\u001b[0m Try using .loc[row_indexer,col_indexer] = value instead\u001b[32m [repeated 3x across cluster]\u001b[0m\n",
      "\u001b[2m\u001b[36m(process_and_save_split pid=84931)\u001b[0m \u001b[32m [repeated 3x across cluster]\u001b[0m\n",
      "\u001b[2m\u001b[36m(process_and_save_split pid=84931)\u001b[0m See the caveats in the documentation: https://pandas.pydata.org/pandas-docs/stable/user_guide/indexing.html#returning-a-view-versus-a-copy\u001b[32m [repeated 3x across cluster]\u001b[0m\n",
      "\u001b[2m\u001b[36m(process_and_save_split pid=84923)\u001b[0m /tmp/ipykernel_84685/632661198.py:203: SettingWithCopyWarning: \u001b[32m [repeated 2x across cluster]\u001b[0m\n",
      "\u001b[2m\u001b[36m(process_and_save_split pid=84923)\u001b[0m A value is trying to be set on a copy of a slice from a DataFrame.\u001b[32m [repeated 2x across cluster]\u001b[0m\n",
      "\u001b[2m\u001b[36m(process_and_save_split pid=84923)\u001b[0m Try using .loc[row_indexer,col_indexer] = value instead\u001b[32m [repeated 2x across cluster]\u001b[0m\n",
      "\u001b[2m\u001b[36m(process_and_save_split pid=84923)\u001b[0m \u001b[32m [repeated 2x across cluster]\u001b[0m\n",
      "\u001b[2m\u001b[36m(process_and_save_split pid=84923)\u001b[0m See the caveats in the documentation: https://pandas.pydata.org/pandas-docs/stable/user_guide/indexing.html#returning-a-view-versus-a-copy\u001b[32m [repeated 2x across cluster]\u001b[0m\n",
      "\u001b[2m\u001b[36m(process_and_save_split pid=84920)\u001b[0m /tmp/ipykernel_84685/632661198.py:203: SettingWithCopyWarning: \n",
      "\u001b[2m\u001b[36m(process_and_save_split pid=84920)\u001b[0m A value is trying to be set on a copy of a slice from a DataFrame.\n",
      "\u001b[2m\u001b[36m(process_and_save_split pid=84920)\u001b[0m Try using .loc[row_indexer,col_indexer] = value instead\n",
      "\u001b[2m\u001b[36m(process_and_save_split pid=84920)\u001b[0m \n",
      "\u001b[2m\u001b[36m(process_and_save_split pid=84920)\u001b[0m See the caveats in the documentation: https://pandas.pydata.org/pandas-docs/stable/user_guide/indexing.html#returning-a-view-versus-a-copy\n",
      "\u001b[2m\u001b[36m(process_and_save_split pid=84933)\u001b[0m /tmp/ipykernel_84685/632661198.py:203: SettingWithCopyWarning: \n",
      "\u001b[2m\u001b[36m(process_and_save_split pid=84933)\u001b[0m A value is trying to be set on a copy of a slice from a DataFrame.\n",
      "\u001b[2m\u001b[36m(process_and_save_split pid=84933)\u001b[0m Try using .loc[row_indexer,col_indexer] = value instead\n",
      "\u001b[2m\u001b[36m(process_and_save_split pid=84933)\u001b[0m \n",
      "\u001b[2m\u001b[36m(process_and_save_split pid=84933)\u001b[0m See the caveats in the documentation: https://pandas.pydata.org/pandas-docs/stable/user_guide/indexing.html#returning-a-view-versus-a-copy\n",
      "\u001b[2m\u001b[36m(process_and_save_split pid=84924)\u001b[0m /tmp/ipykernel_84685/632661198.py:203: SettingWithCopyWarning: \n",
      "\u001b[2m\u001b[36m(process_and_save_split pid=84924)\u001b[0m A value is trying to be set on a copy of a slice from a DataFrame.\n",
      "\u001b[2m\u001b[36m(process_and_save_split pid=84924)\u001b[0m Try using .loc[row_indexer,col_indexer] = value instead\n",
      "\u001b[2m\u001b[36m(process_and_save_split pid=84924)\u001b[0m \n",
      "\u001b[2m\u001b[36m(process_and_save_split pid=84924)\u001b[0m See the caveats in the documentation: https://pandas.pydata.org/pandas-docs/stable/user_guide/indexing.html#returning-a-view-versus-a-copy\n",
      "\u001b[2m\u001b[36m(process_and_save_split pid=84921)\u001b[0m /tmp/ipykernel_84685/632661198.py:203: SettingWithCopyWarning: \n",
      "\u001b[2m\u001b[36m(process_and_save_split pid=84921)\u001b[0m A value is trying to be set on a copy of a slice from a DataFrame.\n",
      "\u001b[2m\u001b[36m(process_and_save_split pid=84921)\u001b[0m Try using .loc[row_indexer,col_indexer] = value instead\n",
      "\u001b[2m\u001b[36m(process_and_save_split pid=84921)\u001b[0m \n",
      "\u001b[2m\u001b[36m(process_and_save_split pid=84921)\u001b[0m See the caveats in the documentation: https://pandas.pydata.org/pandas-docs/stable/user_guide/indexing.html#returning-a-view-versus-a-copy\n"
     ]
    },
    {
     "name": "stderr",
     "output_type": "stream",
     "text": [
      "\u001b[2m\u001b[36m(process_and_save_split pid=84932)\u001b[0m /tmp/ipykernel_84685/632661198.py:203: SettingWithCopyWarning: \u001b[32m [repeated 2x across cluster]\u001b[0m\n",
      "\u001b[2m\u001b[36m(process_and_save_split pid=84932)\u001b[0m A value is trying to be set on a copy of a slice from a DataFrame.\u001b[32m [repeated 2x across cluster]\u001b[0m\n",
      "\u001b[2m\u001b[36m(process_and_save_split pid=84932)\u001b[0m Try using .loc[row_indexer,col_indexer] = value instead\u001b[32m [repeated 2x across cluster]\u001b[0m\n",
      "\u001b[2m\u001b[36m(process_and_save_split pid=84932)\u001b[0m \u001b[32m [repeated 2x across cluster]\u001b[0m\n",
      "\u001b[2m\u001b[36m(process_and_save_split pid=84932)\u001b[0m See the caveats in the documentation: https://pandas.pydata.org/pandas-docs/stable/user_guide/indexing.html#returning-a-view-versus-a-copy\u001b[32m [repeated 2x across cluster]\u001b[0m\n",
      "\u001b[2m\u001b[36m(process_and_save_split pid=84930)\u001b[0m /tmp/ipykernel_84685/632661198.py:203: SettingWithCopyWarning: \u001b[32m [repeated 2x across cluster]\u001b[0m\n",
      "\u001b[2m\u001b[36m(process_and_save_split pid=84930)\u001b[0m A value is trying to be set on a copy of a slice from a DataFrame.\u001b[32m [repeated 2x across cluster]\u001b[0m\n",
      "\u001b[2m\u001b[36m(process_and_save_split pid=84930)\u001b[0m Try using .loc[row_indexer,col_indexer] = value instead\u001b[32m [repeated 2x across cluster]\u001b[0m\n",
      "\u001b[2m\u001b[36m(process_and_save_split pid=84930)\u001b[0m \u001b[32m [repeated 2x across cluster]\u001b[0m\n",
      "\u001b[2m\u001b[36m(process_and_save_split pid=84930)\u001b[0m See the caveats in the documentation: https://pandas.pydata.org/pandas-docs/stable/user_guide/indexing.html#returning-a-view-versus-a-copy\u001b[32m [repeated 2x across cluster]\u001b[0m\n",
      "\u001b[2m\u001b[36m(process_and_save_split pid=84919)\u001b[0m /tmp/ipykernel_84685/632661198.py:203: SettingWithCopyWarning: \n",
      "\u001b[2m\u001b[36m(process_and_save_split pid=84919)\u001b[0m A value is trying to be set on a copy of a slice from a DataFrame.\n",
      "\u001b[2m\u001b[36m(process_and_save_split pid=84919)\u001b[0m Try using .loc[row_indexer,col_indexer] = value instead\n",
      "\u001b[2m\u001b[36m(process_and_save_split pid=84919)\u001b[0m \n",
      "\u001b[2m\u001b[36m(process_and_save_split pid=84919)\u001b[0m See the caveats in the documentation: https://pandas.pydata.org/pandas-docs/stable/user_guide/indexing.html#returning-a-view-versus-a-copy\n",
      "\u001b[2m\u001b[36m(process_and_save_split pid=84934)\u001b[0m /tmp/ipykernel_84685/632661198.py:203: SettingWithCopyWarning: \n",
      "\u001b[2m\u001b[36m(process_and_save_split pid=84934)\u001b[0m A value is trying to be set on a copy of a slice from a DataFrame.\n",
      "\u001b[2m\u001b[36m(process_and_save_split pid=84934)\u001b[0m Try using .loc[row_indexer,col_indexer] = value instead\n",
      "\u001b[2m\u001b[36m(process_and_save_split pid=84934)\u001b[0m \n",
      "\u001b[2m\u001b[36m(process_and_save_split pid=84934)\u001b[0m See the caveats in the documentation: https://pandas.pydata.org/pandas-docs/stable/user_guide/indexing.html#returning-a-view-versus-a-copy\n",
      "\u001b[2m\u001b[36m(process_and_save_split pid=84922)\u001b[0m /tmp/ipykernel_84685/632661198.py:203: SettingWithCopyWarning: \u001b[32m [repeated 2x across cluster]\u001b[0m\n",
      "\u001b[2m\u001b[36m(process_and_save_split pid=84922)\u001b[0m A value is trying to be set on a copy of a slice from a DataFrame.\u001b[32m [repeated 2x across cluster]\u001b[0m\n",
      "\u001b[2m\u001b[36m(process_and_save_split pid=84922)\u001b[0m Try using .loc[row_indexer,col_indexer] = value instead\u001b[32m [repeated 2x across cluster]\u001b[0m\n",
      "\u001b[2m\u001b[36m(process_and_save_split pid=84922)\u001b[0m \u001b[32m [repeated 2x across cluster]\u001b[0m\n",
      "\u001b[2m\u001b[36m(process_and_save_split pid=84922)\u001b[0m See the caveats in the documentation: https://pandas.pydata.org/pandas-docs/stable/user_guide/indexing.html#returning-a-view-versus-a-copy\u001b[32m [repeated 2x across cluster]\u001b[0m\n",
      "\u001b[2m\u001b[36m(process_and_save_split pid=84927)\u001b[0m /tmp/ipykernel_84685/632661198.py:203: SettingWithCopyWarning: \n",
      "\u001b[2m\u001b[36m(process_and_save_split pid=84927)\u001b[0m A value is trying to be set on a copy of a slice from a DataFrame.\n",
      "\u001b[2m\u001b[36m(process_and_save_split pid=84927)\u001b[0m Try using .loc[row_indexer,col_indexer] = value instead\n",
      "\u001b[2m\u001b[36m(process_and_save_split pid=84927)\u001b[0m \n",
      "\u001b[2m\u001b[36m(process_and_save_split pid=84927)\u001b[0m See the caveats in the documentation: https://pandas.pydata.org/pandas-docs/stable/user_guide/indexing.html#returning-a-view-versus-a-copy\n",
      "\u001b[2m\u001b[36m(process_and_save_split pid=84931)\u001b[0m /tmp/ipykernel_84685/632661198.py:203: SettingWithCopyWarning: \n",
      "\u001b[2m\u001b[36m(process_and_save_split pid=84931)\u001b[0m A value is trying to be set on a copy of a slice from a DataFrame.\n",
      "\u001b[2m\u001b[36m(process_and_save_split pid=84931)\u001b[0m Try using .loc[row_indexer,col_indexer] = value instead\n",
      "\u001b[2m\u001b[36m(process_and_save_split pid=84931)\u001b[0m \n",
      "\u001b[2m\u001b[36m(process_and_save_split pid=84931)\u001b[0m See the caveats in the documentation: https://pandas.pydata.org/pandas-docs/stable/user_guide/indexing.html#returning-a-view-versus-a-copy\n",
      "\u001b[2m\u001b[36m(process_and_save_split pid=84923)\u001b[0m /tmp/ipykernel_84685/632661198.py:203: SettingWithCopyWarning: \u001b[32m [repeated 2x across cluster]\u001b[0m\n",
      "\u001b[2m\u001b[36m(process_and_save_split pid=84923)\u001b[0m A value is trying to be set on a copy of a slice from a DataFrame.\u001b[32m [repeated 2x across cluster]\u001b[0m\n",
      "\u001b[2m\u001b[36m(process_and_save_split pid=84923)\u001b[0m Try using .loc[row_indexer,col_indexer] = value instead\u001b[32m [repeated 2x across cluster]\u001b[0m\n",
      "\u001b[2m\u001b[36m(process_and_save_split pid=84923)\u001b[0m \u001b[32m [repeated 2x across cluster]\u001b[0m\n",
      "\u001b[2m\u001b[36m(process_and_save_split pid=84923)\u001b[0m See the caveats in the documentation: https://pandas.pydata.org/pandas-docs/stable/user_guide/indexing.html#returning-a-view-versus-a-copy\u001b[32m [repeated 2x across cluster]\u001b[0m\n",
      "\u001b[2m\u001b[36m(process_and_save_split pid=84933)\u001b[0m /tmp/ipykernel_84685/632661198.py:203: SettingWithCopyWarning: \n",
      "\u001b[2m\u001b[36m(process_and_save_split pid=84933)\u001b[0m A value is trying to be set on a copy of a slice from a DataFrame.\n",
      "\u001b[2m\u001b[36m(process_and_save_split pid=84933)\u001b[0m Try using .loc[row_indexer,col_indexer] = value instead\n",
      "\u001b[2m\u001b[36m(process_and_save_split pid=84933)\u001b[0m \n",
      "\u001b[2m\u001b[36m(process_and_save_split pid=84933)\u001b[0m See the caveats in the documentation: https://pandas.pydata.org/pandas-docs/stable/user_guide/indexing.html#returning-a-view-versus-a-copy\n",
      "\u001b[2m\u001b[36m(process_and_save_split pid=84920)\u001b[0m /tmp/ipykernel_84685/632661198.py:203: SettingWithCopyWarning: \n",
      "\u001b[2m\u001b[36m(process_and_save_split pid=84920)\u001b[0m A value is trying to be set on a copy of a slice from a DataFrame.\n",
      "\u001b[2m\u001b[36m(process_and_save_split pid=84920)\u001b[0m Try using .loc[row_indexer,col_indexer] = value instead\n",
      "\u001b[2m\u001b[36m(process_and_save_split pid=84920)\u001b[0m \n",
      "\u001b[2m\u001b[36m(process_and_save_split pid=84920)\u001b[0m See the caveats in the documentation: https://pandas.pydata.org/pandas-docs/stable/user_guide/indexing.html#returning-a-view-versus-a-copy\n",
      "\u001b[2m\u001b[36m(process_and_save_split pid=84926)\u001b[0m /tmp/ipykernel_84685/632661198.py:203: SettingWithCopyWarning: \n",
      "\u001b[2m\u001b[36m(process_and_save_split pid=84926)\u001b[0m A value is trying to be set on a copy of a slice from a DataFrame.\n",
      "\u001b[2m\u001b[36m(process_and_save_split pid=84926)\u001b[0m Try using .loc[row_indexer,col_indexer] = value instead\n",
      "\u001b[2m\u001b[36m(process_and_save_split pid=84926)\u001b[0m \n",
      "\u001b[2m\u001b[36m(process_and_save_split pid=84926)\u001b[0m See the caveats in the documentation: https://pandas.pydata.org/pandas-docs/stable/user_guide/indexing.html#returning-a-view-versus-a-copy\n",
      "\u001b[2m\u001b[36m(process_and_save_split pid=84921)\u001b[0m /tmp/ipykernel_84685/632661198.py:203: SettingWithCopyWarning: \n",
      "\u001b[2m\u001b[36m(process_and_save_split pid=84921)\u001b[0m A value is trying to be set on a copy of a slice from a DataFrame.\n",
      "\u001b[2m\u001b[36m(process_and_save_split pid=84921)\u001b[0m Try using .loc[row_indexer,col_indexer] = value instead\n",
      "\u001b[2m\u001b[36m(process_and_save_split pid=84921)\u001b[0m \n",
      "\u001b[2m\u001b[36m(process_and_save_split pid=84921)\u001b[0m See the caveats in the documentation: https://pandas.pydata.org/pandas-docs/stable/user_guide/indexing.html#returning-a-view-versus-a-copy\n",
      "\u001b[2m\u001b[36m(process_and_save_split pid=84924)\u001b[0m /tmp/ipykernel_84685/632661198.py:203: SettingWithCopyWarning: \u001b[32m [repeated 2x across cluster]\u001b[0m\n",
      "\u001b[2m\u001b[36m(process_and_save_split pid=84924)\u001b[0m A value is trying to be set on a copy of a slice from a DataFrame.\u001b[32m [repeated 2x across cluster]\u001b[0m\n",
      "\u001b[2m\u001b[36m(process_and_save_split pid=84924)\u001b[0m Try using .loc[row_indexer,col_indexer] = value instead\u001b[32m [repeated 2x across cluster]\u001b[0m\n",
      "\u001b[2m\u001b[36m(process_and_save_split pid=84924)\u001b[0m \u001b[32m [repeated 2x across cluster]\u001b[0m\n",
      "\u001b[2m\u001b[36m(process_and_save_split pid=84924)\u001b[0m See the caveats in the documentation: https://pandas.pydata.org/pandas-docs/stable/user_guide/indexing.html#returning-a-view-versus-a-copy\u001b[32m [repeated 2x across cluster]\u001b[0m\n"
     ]
    },
    {
     "name": "stderr",
     "output_type": "stream",
     "text": [
      "\u001b[2m\u001b[36m(process_and_save_split pid=84930)\u001b[0m /tmp/ipykernel_84685/632661198.py:203: SettingWithCopyWarning: \n",
      "\u001b[2m\u001b[36m(process_and_save_split pid=84930)\u001b[0m A value is trying to be set on a copy of a slice from a DataFrame.\n",
      "\u001b[2m\u001b[36m(process_and_save_split pid=84930)\u001b[0m Try using .loc[row_indexer,col_indexer] = value instead\n",
      "\u001b[2m\u001b[36m(process_and_save_split pid=84930)\u001b[0m \n",
      "\u001b[2m\u001b[36m(process_and_save_split pid=84930)\u001b[0m See the caveats in the documentation: https://pandas.pydata.org/pandas-docs/stable/user_guide/indexing.html#returning-a-view-versus-a-copy\n",
      "\u001b[2m\u001b[36m(process_and_save_split pid=84928)\u001b[0m /tmp/ipykernel_84685/632661198.py:203: SettingWithCopyWarning: \n",
      "\u001b[2m\u001b[36m(process_and_save_split pid=84928)\u001b[0m A value is trying to be set on a copy of a slice from a DataFrame.\n",
      "\u001b[2m\u001b[36m(process_and_save_split pid=84928)\u001b[0m Try using .loc[row_indexer,col_indexer] = value instead\n",
      "\u001b[2m\u001b[36m(process_and_save_split pid=84928)\u001b[0m \n",
      "\u001b[2m\u001b[36m(process_and_save_split pid=84928)\u001b[0m See the caveats in the documentation: https://pandas.pydata.org/pandas-docs/stable/user_guide/indexing.html#returning-a-view-versus-a-copy\n",
      "\u001b[2m\u001b[36m(process_and_save_split pid=84919)\u001b[0m /tmp/ipykernel_84685/632661198.py:203: SettingWithCopyWarning: \n",
      "\u001b[2m\u001b[36m(process_and_save_split pid=84919)\u001b[0m A value is trying to be set on a copy of a slice from a DataFrame.\n",
      "\u001b[2m\u001b[36m(process_and_save_split pid=84919)\u001b[0m Try using .loc[row_indexer,col_indexer] = value instead\n",
      "\u001b[2m\u001b[36m(process_and_save_split pid=84919)\u001b[0m \n",
      "\u001b[2m\u001b[36m(process_and_save_split pid=84919)\u001b[0m See the caveats in the documentation: https://pandas.pydata.org/pandas-docs/stable/user_guide/indexing.html#returning-a-view-versus-a-copy\n"
     ]
    }
   ],
   "source": [
    "cv_strategy = 'loso'  # Choose from: 'loso', 'group_k_fold', 'k_fold', 'time_series'\n",
    "\n",
    "with on_ray():\n",
    "    # Get the relevant train-test splits based on the chosen CV strategy\n",
    "    splits = get_cv_splits(cv_strategy, all_data, all_labels, all_groups)\n",
    "    \n",
    "    C_cat = np.asarray(sorted(cats))\n",
    "    C_num = np.asarray(sorted(X.columns[~X.columns.isin(C_cat)]))\n",
    "#    Iterate over train-test splits\n",
    "    futures = [process_and_save_split.remote(train_idx, test_idx, all_data, all_labels, all_groups, process_dataframe, save_data_to_data_file, C_cat, C_num, select) \n",
    "#    futures = [process_and_save_split.remote(train_idx, test_idx, all_data, all_labels, all_groups, process_dataframe, save_data_to_data_file)\n",
    "                                         for train_idx, test_idx in splits]\n",
    "\n",
    "    ray.get(futures)"
   ]
  },
  {
   "cell_type": "markdown",
   "id": "587a5710",
   "metadata": {},
   "source": [
    "Training"
   ]
  },
  {
   "cell_type": "code",
   "execution_count": 13,
   "id": "0068231f",
   "metadata": {},
   "outputs": [],
   "source": [
    "param = {\n",
    "    \"learning_rate\": 0.01,\n",
    "    \"seed\": RANDOM_STATE,\n",
    "    \"objective\": 'binary:logistic',\n",
    "    'eval_metric': 'auc',\n",
    "    'verbosity': 0,\n",
    "}"
   ]
  },
  {
   "cell_type": "code",
   "execution_count": 14,
   "id": "ffc00484",
   "metadata": {},
   "outputs": [
    {
     "name": "stderr",
     "output_type": "stream",
     "text": [
      "2024-08-13 13:46:09,172\tINFO worker.py:1612 -- Started a local Ray instance. View the dashboard at \u001b[1m\u001b[32m127.0.0.1:8265 \u001b[39m\u001b[22m\n"
     ]
    },
    {
     "name": "stdout",
     "output_type": "stream",
     "text": [
      "start training & evaluation for P117\n",
      "[0]\ttrain-auc:0.61900\teval-auc:0.54957\n",
      "[1]\ttrain-auc:0.63723\teval-auc:0.55850\n",
      "[2]\ttrain-auc:0.64178\teval-auc:0.55847\n",
      "[3]\ttrain-auc:0.64441\teval-auc:0.56012\n",
      "[4]\ttrain-auc:0.64414\teval-auc:0.56004\n",
      "[5]\ttrain-auc:0.64715\teval-auc:0.56324\n",
      "[6]\ttrain-auc:0.64739\teval-auc:0.56361\n",
      "[7]\ttrain-auc:0.65413\teval-auc:0.56897\n",
      "[8]\ttrain-auc:0.65375\teval-auc:0.56930\n",
      "[9]\ttrain-auc:0.66755\teval-auc:0.57455\n",
      "finish training & evaluation for P117\n",
      "start training & evaluation for P073\n"
     ]
    },
    {
     "name": "stderr",
     "output_type": "stream",
     "text": [
      "/home/panyu/miniconda3/envs/sci-data/lib/python3.9/site-packages/xgboost/core.py:122: UserWarning: ntree_limit is deprecated, use `iteration_range` or model slicing instead.\n",
      "  warnings.warn(\n",
      "/home/panyu/miniconda3/envs/sci-data/lib/python3.9/site-packages/xgboost/core.py:122: UserWarning: ntree_limit is deprecated, use `iteration_range` or model slicing instead.\n",
      "  warnings.warn(\n"
     ]
    },
    {
     "name": "stdout",
     "output_type": "stream",
     "text": [
      "[0]\ttrain-auc:0.63009\teval-auc:0.54189\n",
      "[1]\ttrain-auc:0.63521\teval-auc:0.54291\n",
      "[2]\ttrain-auc:0.63716\teval-auc:0.54469\n",
      "[3]\ttrain-auc:0.65828\teval-auc:0.55159\n",
      "[4]\ttrain-auc:0.65983\teval-auc:0.55265\n",
      "[5]\ttrain-auc:0.66686\teval-auc:0.55545\n",
      "[6]\ttrain-auc:0.67065\teval-auc:0.55619\n",
      "[7]\ttrain-auc:0.67040\teval-auc:0.55705\n",
      "[8]\ttrain-auc:0.67587\teval-auc:0.55796\n",
      "[9]\ttrain-auc:0.67428\teval-auc:0.55730\n",
      "finish training & evaluation for P073\n",
      "start training & evaluation for P107\n"
     ]
    },
    {
     "name": "stderr",
     "output_type": "stream",
     "text": [
      "/home/panyu/miniconda3/envs/sci-data/lib/python3.9/site-packages/xgboost/core.py:122: UserWarning: ntree_limit is deprecated, use `iteration_range` or model slicing instead.\n",
      "  warnings.warn(\n",
      "/home/panyu/miniconda3/envs/sci-data/lib/python3.9/site-packages/xgboost/core.py:122: UserWarning: ntree_limit is deprecated, use `iteration_range` or model slicing instead.\n",
      "  warnings.warn(\n"
     ]
    },
    {
     "name": "stdout",
     "output_type": "stream",
     "text": [
      "[0]\ttrain-auc:0.63784\teval-auc:0.55290\n",
      "[1]\ttrain-auc:0.63908\teval-auc:0.55190\n",
      "[2]\ttrain-auc:0.66771\teval-auc:0.56520\n",
      "[3]\ttrain-auc:0.66387\teval-auc:0.56200\n",
      "[4]\ttrain-auc:0.67020\teval-auc:0.56673\n",
      "[5]\ttrain-auc:0.67028\teval-auc:0.56357\n",
      "[6]\ttrain-auc:0.67469\teval-auc:0.56296\n",
      "[7]\ttrain-auc:0.67496\teval-auc:0.56207\n",
      "[8]\ttrain-auc:0.68500\teval-auc:0.56592\n",
      "[9]\ttrain-auc:0.69251\teval-auc:0.56665\n",
      "finish training & evaluation for P107\n",
      "start training & evaluation for P125\n"
     ]
    },
    {
     "name": "stderr",
     "output_type": "stream",
     "text": [
      "/home/panyu/miniconda3/envs/sci-data/lib/python3.9/site-packages/xgboost/core.py:122: UserWarning: ntree_limit is deprecated, use `iteration_range` or model slicing instead.\n",
      "  warnings.warn(\n",
      "/home/panyu/miniconda3/envs/sci-data/lib/python3.9/site-packages/xgboost/core.py:122: UserWarning: ntree_limit is deprecated, use `iteration_range` or model slicing instead.\n",
      "  warnings.warn(\n"
     ]
    },
    {
     "name": "stdout",
     "output_type": "stream",
     "text": [
      "[0]\ttrain-auc:0.63065\teval-auc:0.55715\n",
      "[1]\ttrain-auc:0.63248\teval-auc:0.56420\n",
      "[2]\ttrain-auc:0.64616\teval-auc:0.56683\n",
      "[3]\ttrain-auc:0.64521\teval-auc:0.56799\n",
      "[4]\ttrain-auc:0.64952\teval-auc:0.57116\n",
      "[5]\ttrain-auc:0.65238\teval-auc:0.57102\n",
      "[6]\ttrain-auc:0.65373\teval-auc:0.57307\n",
      "[7]\ttrain-auc:0.65476\teval-auc:0.57225\n",
      "[8]\ttrain-auc:0.65661\teval-auc:0.57323\n",
      "[9]\ttrain-auc:0.66345\teval-auc:0.57597\n",
      "finish training & evaluation for P125\n",
      "start training & evaluation for P097\n"
     ]
    },
    {
     "name": "stderr",
     "output_type": "stream",
     "text": [
      "/home/panyu/miniconda3/envs/sci-data/lib/python3.9/site-packages/xgboost/core.py:122: UserWarning: ntree_limit is deprecated, use `iteration_range` or model slicing instead.\n",
      "  warnings.warn(\n",
      "/home/panyu/miniconda3/envs/sci-data/lib/python3.9/site-packages/xgboost/core.py:122: UserWarning: ntree_limit is deprecated, use `iteration_range` or model slicing instead.\n",
      "  warnings.warn(\n"
     ]
    },
    {
     "name": "stdout",
     "output_type": "stream",
     "text": [
      "[0]\ttrain-auc:0.63779\teval-auc:0.55797\n",
      "[1]\ttrain-auc:0.67824\teval-auc:0.57230\n",
      "[2]\ttrain-auc:0.67654\teval-auc:0.57159\n",
      "[3]\ttrain-auc:0.68120\teval-auc:0.57470\n",
      "[4]\ttrain-auc:0.68164\teval-auc:0.57221\n",
      "[5]\ttrain-auc:0.68280\teval-auc:0.57376\n",
      "[6]\ttrain-auc:0.68669\teval-auc:0.57381\n",
      "[7]\ttrain-auc:0.69363\teval-auc:0.57518\n",
      "[8]\ttrain-auc:0.69266\teval-auc:0.57485\n",
      "[9]\ttrain-auc:0.69536\teval-auc:0.57476\n",
      "finish training & evaluation for P097\n",
      "start training & evaluation for P041\n"
     ]
    },
    {
     "name": "stderr",
     "output_type": "stream",
     "text": [
      "/home/panyu/miniconda3/envs/sci-data/lib/python3.9/site-packages/xgboost/core.py:122: UserWarning: ntree_limit is deprecated, use `iteration_range` or model slicing instead.\n",
      "  warnings.warn(\n",
      "/home/panyu/miniconda3/envs/sci-data/lib/python3.9/site-packages/xgboost/core.py:122: UserWarning: ntree_limit is deprecated, use `iteration_range` or model slicing instead.\n",
      "  warnings.warn(\n"
     ]
    },
    {
     "name": "stdout",
     "output_type": "stream",
     "text": [
      "[0]\ttrain-auc:0.64595\teval-auc:0.55285\n",
      "[1]\ttrain-auc:0.64912\teval-auc:0.55995\n",
      "[2]\ttrain-auc:0.64968\teval-auc:0.55951\n",
      "[3]\ttrain-auc:0.65047\teval-auc:0.56012\n",
      "[4]\ttrain-auc:0.65072\teval-auc:0.55910\n",
      "[5]\ttrain-auc:0.65179\teval-auc:0.56002\n",
      "[6]\ttrain-auc:0.65360\teval-auc:0.56160\n",
      "[7]\ttrain-auc:0.66129\teval-auc:0.56388\n",
      "[8]\ttrain-auc:0.66353\teval-auc:0.56347\n",
      "[9]\ttrain-auc:0.66615\teval-auc:0.56434\n",
      "finish training & evaluation for P041\n",
      "start training & evaluation for P034\n"
     ]
    },
    {
     "name": "stderr",
     "output_type": "stream",
     "text": [
      "/home/panyu/miniconda3/envs/sci-data/lib/python3.9/site-packages/xgboost/core.py:122: UserWarning: ntree_limit is deprecated, use `iteration_range` or model slicing instead.\n",
      "  warnings.warn(\n",
      "/home/panyu/miniconda3/envs/sci-data/lib/python3.9/site-packages/xgboost/core.py:122: UserWarning: ntree_limit is deprecated, use `iteration_range` or model slicing instead.\n",
      "  warnings.warn(\n"
     ]
    },
    {
     "name": "stdout",
     "output_type": "stream",
     "text": [
      "[0]\ttrain-auc:0.63953\teval-auc:0.57112\n",
      "[1]\ttrain-auc:0.64271\teval-auc:0.56971\n",
      "[2]\ttrain-auc:0.64370\teval-auc:0.56987\n",
      "[3]\ttrain-auc:0.64651\teval-auc:0.57074\n",
      "[4]\ttrain-auc:0.64611\teval-auc:0.57252\n",
      "[5]\ttrain-auc:0.66200\teval-auc:0.57468\n",
      "[6]\ttrain-auc:0.66581\teval-auc:0.57733\n",
      "[7]\ttrain-auc:0.66472\teval-auc:0.57661\n",
      "[8]\ttrain-auc:0.66604\teval-auc:0.57853\n",
      "[9]\ttrain-auc:0.66595\teval-auc:0.57864\n",
      "finish training & evaluation for P034\n",
      "start training & evaluation for P135\n"
     ]
    },
    {
     "name": "stderr",
     "output_type": "stream",
     "text": [
      "/home/panyu/miniconda3/envs/sci-data/lib/python3.9/site-packages/xgboost/core.py:122: UserWarning: ntree_limit is deprecated, use `iteration_range` or model slicing instead.\n",
      "  warnings.warn(\n",
      "/home/panyu/miniconda3/envs/sci-data/lib/python3.9/site-packages/xgboost/core.py:122: UserWarning: ntree_limit is deprecated, use `iteration_range` or model slicing instead.\n",
      "  warnings.warn(\n"
     ]
    },
    {
     "name": "stdout",
     "output_type": "stream",
     "text": [
      "[0]\ttrain-auc:0.63464\teval-auc:0.55084\n",
      "[1]\ttrain-auc:0.63786\teval-auc:0.55197\n",
      "[2]\ttrain-auc:0.63860\teval-auc:0.55230\n",
      "[3]\ttrain-auc:0.64256\teval-auc:0.54932\n",
      "[4]\ttrain-auc:0.64330\teval-auc:0.55003\n",
      "[5]\ttrain-auc:0.64502\teval-auc:0.54867\n",
      "[6]\ttrain-auc:0.64601\teval-auc:0.54865\n",
      "[7]\ttrain-auc:0.64660\teval-auc:0.54851\n",
      "[8]\ttrain-auc:0.65569\teval-auc:0.55256\n",
      "[9]\ttrain-auc:0.65648\teval-auc:0.55419\n",
      "finish training & evaluation for P135\n",
      "start training & evaluation for P050\n"
     ]
    },
    {
     "name": "stderr",
     "output_type": "stream",
     "text": [
      "/home/panyu/miniconda3/envs/sci-data/lib/python3.9/site-packages/xgboost/core.py:122: UserWarning: ntree_limit is deprecated, use `iteration_range` or model slicing instead.\n",
      "  warnings.warn(\n",
      "/home/panyu/miniconda3/envs/sci-data/lib/python3.9/site-packages/xgboost/core.py:122: UserWarning: ntree_limit is deprecated, use `iteration_range` or model slicing instead.\n",
      "  warnings.warn(\n"
     ]
    },
    {
     "name": "stdout",
     "output_type": "stream",
     "text": [
      "[0]\ttrain-auc:0.63240\teval-auc:0.56118\n",
      "[1]\ttrain-auc:0.63369\teval-auc:0.56021\n",
      "[2]\ttrain-auc:0.63475\teval-auc:0.56092\n",
      "[3]\ttrain-auc:0.64011\teval-auc:0.56265\n",
      "[4]\ttrain-auc:0.64435\teval-auc:0.56390\n",
      "[5]\ttrain-auc:0.64511\teval-auc:0.56311\n",
      "[6]\ttrain-auc:0.64576\teval-auc:0.56289\n",
      "[7]\ttrain-auc:0.64934\teval-auc:0.56528\n",
      "[8]\ttrain-auc:0.65516\teval-auc:0.57011\n",
      "[9]\ttrain-auc:0.66394\teval-auc:0.57377\n",
      "finish training & evaluation for P050\n",
      "start training & evaluation for P101\n"
     ]
    },
    {
     "name": "stderr",
     "output_type": "stream",
     "text": [
      "/home/panyu/miniconda3/envs/sci-data/lib/python3.9/site-packages/xgboost/core.py:122: UserWarning: ntree_limit is deprecated, use `iteration_range` or model slicing instead.\n",
      "  warnings.warn(\n",
      "/home/panyu/miniconda3/envs/sci-data/lib/python3.9/site-packages/xgboost/core.py:122: UserWarning: ntree_limit is deprecated, use `iteration_range` or model slicing instead.\n",
      "  warnings.warn(\n"
     ]
    },
    {
     "name": "stdout",
     "output_type": "stream",
     "text": [
      "[0]\ttrain-auc:0.63739\teval-auc:0.54365\n",
      "[1]\ttrain-auc:0.63798\teval-auc:0.54258\n",
      "[2]\ttrain-auc:0.64480\teval-auc:0.54688\n",
      "[3]\ttrain-auc:0.64549\teval-auc:0.54729\n",
      "[4]\ttrain-auc:0.65594\teval-auc:0.55096\n",
      "[5]\ttrain-auc:0.65816\teval-auc:0.55158\n",
      "[6]\ttrain-auc:0.65949\teval-auc:0.55170\n",
      "[7]\ttrain-auc:0.66186\teval-auc:0.55167\n",
      "[8]\ttrain-auc:0.66270\teval-auc:0.55296\n",
      "[9]\ttrain-auc:0.67053\teval-auc:0.55720\n",
      "finish training & evaluation for P101\n",
      "start training & evaluation for P115\n"
     ]
    },
    {
     "name": "stderr",
     "output_type": "stream",
     "text": [
      "/home/panyu/miniconda3/envs/sci-data/lib/python3.9/site-packages/xgboost/core.py:122: UserWarning: ntree_limit is deprecated, use `iteration_range` or model slicing instead.\n",
      "  warnings.warn(\n",
      "/home/panyu/miniconda3/envs/sci-data/lib/python3.9/site-packages/xgboost/core.py:122: UserWarning: ntree_limit is deprecated, use `iteration_range` or model slicing instead.\n",
      "  warnings.warn(\n"
     ]
    },
    {
     "name": "stdout",
     "output_type": "stream",
     "text": [
      "[0]\ttrain-auc:0.61693\teval-auc:0.55463\n",
      "[1]\ttrain-auc:0.66739\teval-auc:0.57486\n",
      "[2]\ttrain-auc:0.66261\teval-auc:0.57223\n",
      "[3]\ttrain-auc:0.66943\teval-auc:0.57646\n",
      "[4]\ttrain-auc:0.66742\teval-auc:0.57499\n",
      "[5]\ttrain-auc:0.67044\teval-auc:0.57497\n",
      "[6]\ttrain-auc:0.67003\teval-auc:0.57489\n",
      "[7]\ttrain-auc:0.67261\teval-auc:0.57601\n",
      "[8]\ttrain-auc:0.67174\teval-auc:0.57501\n",
      "[9]\ttrain-auc:0.67370\teval-auc:0.57523\n",
      "finish training & evaluation for P115\n",
      "start training & evaluation for P044\n"
     ]
    },
    {
     "name": "stderr",
     "output_type": "stream",
     "text": [
      "/home/panyu/miniconda3/envs/sci-data/lib/python3.9/site-packages/xgboost/core.py:122: UserWarning: ntree_limit is deprecated, use `iteration_range` or model slicing instead.\n",
      "  warnings.warn(\n",
      "/home/panyu/miniconda3/envs/sci-data/lib/python3.9/site-packages/xgboost/core.py:122: UserWarning: ntree_limit is deprecated, use `iteration_range` or model slicing instead.\n",
      "  warnings.warn(\n"
     ]
    },
    {
     "name": "stdout",
     "output_type": "stream",
     "text": [
      "[0]\ttrain-auc:0.63502\teval-auc:0.55641\n",
      "[1]\ttrain-auc:0.63619\teval-auc:0.55531\n",
      "[2]\ttrain-auc:0.64120\teval-auc:0.55674\n",
      "[3]\ttrain-auc:0.66265\teval-auc:0.56088\n",
      "[4]\ttrain-auc:0.66071\teval-auc:0.56017\n",
      "[5]\ttrain-auc:0.66773\teval-auc:0.56572\n",
      "[6]\ttrain-auc:0.67699\teval-auc:0.56537\n",
      "[7]\ttrain-auc:0.67644\teval-auc:0.56540\n",
      "[8]\ttrain-auc:0.67982\teval-auc:0.56655\n",
      "[9]\ttrain-auc:0.68236\teval-auc:0.56757\n",
      "finish training & evaluation for P044\n",
      "start training & evaluation for P046\n"
     ]
    },
    {
     "name": "stderr",
     "output_type": "stream",
     "text": [
      "/home/panyu/miniconda3/envs/sci-data/lib/python3.9/site-packages/xgboost/core.py:122: UserWarning: ntree_limit is deprecated, use `iteration_range` or model slicing instead.\n",
      "  warnings.warn(\n",
      "/home/panyu/miniconda3/envs/sci-data/lib/python3.9/site-packages/xgboost/core.py:122: UserWarning: ntree_limit is deprecated, use `iteration_range` or model slicing instead.\n",
      "  warnings.warn(\n"
     ]
    },
    {
     "name": "stdout",
     "output_type": "stream",
     "text": [
      "[0]\ttrain-auc:0.62926\teval-auc:0.54742\n",
      "[1]\ttrain-auc:0.63005\teval-auc:0.54995\n",
      "[2]\ttrain-auc:0.63037\teval-auc:0.55044\n",
      "[3]\ttrain-auc:0.63215\teval-auc:0.55008\n",
      "[4]\ttrain-auc:0.63273\teval-auc:0.55051\n",
      "[5]\ttrain-auc:0.63572\teval-auc:0.55256\n",
      "[6]\ttrain-auc:0.64504\teval-auc:0.55608\n",
      "[7]\ttrain-auc:0.64476\teval-auc:0.55710\n",
      "[8]\ttrain-auc:0.65119\teval-auc:0.55889\n",
      "[9]\ttrain-auc:0.65213\teval-auc:0.55935\n",
      "finish training & evaluation for P046\n",
      "start training & evaluation for P014\n"
     ]
    },
    {
     "name": "stderr",
     "output_type": "stream",
     "text": [
      "/home/panyu/miniconda3/envs/sci-data/lib/python3.9/site-packages/xgboost/core.py:122: UserWarning: ntree_limit is deprecated, use `iteration_range` or model slicing instead.\n",
      "  warnings.warn(\n",
      "/home/panyu/miniconda3/envs/sci-data/lib/python3.9/site-packages/xgboost/core.py:122: UserWarning: ntree_limit is deprecated, use `iteration_range` or model slicing instead.\n",
      "  warnings.warn(\n"
     ]
    },
    {
     "name": "stdout",
     "output_type": "stream",
     "text": [
      "[0]\ttrain-auc:0.64157\teval-auc:0.55764\n",
      "[1]\ttrain-auc:0.65807\teval-auc:0.56595\n",
      "[2]\ttrain-auc:0.66395\teval-auc:0.56691\n",
      "[3]\ttrain-auc:0.66506\teval-auc:0.56483\n",
      "[4]\ttrain-auc:0.66630\teval-auc:0.56546\n",
      "[5]\ttrain-auc:0.66705\teval-auc:0.56450\n",
      "[6]\ttrain-auc:0.66765\teval-auc:0.56504\n",
      "[7]\ttrain-auc:0.66920\teval-auc:0.56582\n",
      "[8]\ttrain-auc:0.66987\teval-auc:0.56582\n",
      "[9]\ttrain-auc:0.67092\teval-auc:0.56654\n",
      "finish training & evaluation for P014\n",
      "start training & evaluation for P114\n"
     ]
    },
    {
     "name": "stderr",
     "output_type": "stream",
     "text": [
      "/home/panyu/miniconda3/envs/sci-data/lib/python3.9/site-packages/xgboost/core.py:122: UserWarning: ntree_limit is deprecated, use `iteration_range` or model slicing instead.\n",
      "  warnings.warn(\n",
      "/home/panyu/miniconda3/envs/sci-data/lib/python3.9/site-packages/xgboost/core.py:122: UserWarning: ntree_limit is deprecated, use `iteration_range` or model slicing instead.\n",
      "  warnings.warn(\n"
     ]
    },
    {
     "name": "stdout",
     "output_type": "stream",
     "text": [
      "[0]\ttrain-auc:0.63305\teval-auc:0.54879\n",
      "[1]\ttrain-auc:0.63411\teval-auc:0.55019\n",
      "[2]\ttrain-auc:0.63576\teval-auc:0.54907\n",
      "[3]\ttrain-auc:0.63756\teval-auc:0.54771\n",
      "[4]\ttrain-auc:0.64722\teval-auc:0.55042\n",
      "[5]\ttrain-auc:0.64977\teval-auc:0.55207\n",
      "[6]\ttrain-auc:0.65657\teval-auc:0.55213\n",
      "[7]\ttrain-auc:0.66124\teval-auc:0.55468\n",
      "[8]\ttrain-auc:0.66194\teval-auc:0.55414\n",
      "[9]\ttrain-auc:0.67356\teval-auc:0.55824\n",
      "finish training & evaluation for P114\n",
      "start training & evaluation for P009\n"
     ]
    },
    {
     "name": "stderr",
     "output_type": "stream",
     "text": [
      "/home/panyu/miniconda3/envs/sci-data/lib/python3.9/site-packages/xgboost/core.py:122: UserWarning: ntree_limit is deprecated, use `iteration_range` or model slicing instead.\n",
      "  warnings.warn(\n",
      "/home/panyu/miniconda3/envs/sci-data/lib/python3.9/site-packages/xgboost/core.py:122: UserWarning: ntree_limit is deprecated, use `iteration_range` or model slicing instead.\n",
      "  warnings.warn(\n"
     ]
    },
    {
     "name": "stdout",
     "output_type": "stream",
     "text": [
      "[0]\ttrain-auc:0.63755\teval-auc:0.54539\n",
      "[1]\ttrain-auc:0.64273\teval-auc:0.54824\n",
      "[2]\ttrain-auc:0.64734\teval-auc:0.55096\n",
      "[3]\ttrain-auc:0.64704\teval-auc:0.55163\n",
      "[4]\ttrain-auc:0.64901\teval-auc:0.55220\n",
      "[5]\ttrain-auc:0.65113\teval-auc:0.55370\n",
      "[6]\ttrain-auc:0.65116\teval-auc:0.55423\n",
      "[7]\ttrain-auc:0.65288\teval-auc:0.55692\n",
      "[8]\ttrain-auc:0.65791\teval-auc:0.56065\n",
      "[9]\ttrain-auc:0.65967\teval-auc:0.56121\n",
      "finish training & evaluation for P009\n",
      "start training & evaluation for P133\n"
     ]
    },
    {
     "name": "stderr",
     "output_type": "stream",
     "text": [
      "/home/panyu/miniconda3/envs/sci-data/lib/python3.9/site-packages/xgboost/core.py:122: UserWarning: ntree_limit is deprecated, use `iteration_range` or model slicing instead.\n",
      "  warnings.warn(\n",
      "/home/panyu/miniconda3/envs/sci-data/lib/python3.9/site-packages/xgboost/core.py:122: UserWarning: ntree_limit is deprecated, use `iteration_range` or model slicing instead.\n",
      "  warnings.warn(\n"
     ]
    },
    {
     "name": "stdout",
     "output_type": "stream",
     "text": [
      "[0]\ttrain-auc:0.63296\teval-auc:0.55917\n",
      "[1]\ttrain-auc:0.63693\teval-auc:0.55880\n",
      "[2]\ttrain-auc:0.63740\teval-auc:0.55930\n",
      "[3]\ttrain-auc:0.66073\teval-auc:0.56436\n",
      "[4]\ttrain-auc:0.66861\teval-auc:0.56638\n",
      "[5]\ttrain-auc:0.66712\teval-auc:0.56482\n",
      "[6]\ttrain-auc:0.67041\teval-auc:0.56551\n",
      "[7]\ttrain-auc:0.67133\teval-auc:0.56610\n",
      "[8]\ttrain-auc:0.67986\teval-auc:0.56945\n",
      "[9]\ttrain-auc:0.67981\teval-auc:0.56865\n",
      "finish training & evaluation for P133\n",
      "start training & evaluation for P069\n"
     ]
    },
    {
     "name": "stderr",
     "output_type": "stream",
     "text": [
      "/home/panyu/miniconda3/envs/sci-data/lib/python3.9/site-packages/xgboost/core.py:122: UserWarning: ntree_limit is deprecated, use `iteration_range` or model slicing instead.\n",
      "  warnings.warn(\n",
      "/home/panyu/miniconda3/envs/sci-data/lib/python3.9/site-packages/xgboost/core.py:122: UserWarning: ntree_limit is deprecated, use `iteration_range` or model slicing instead.\n",
      "  warnings.warn(\n"
     ]
    },
    {
     "name": "stdout",
     "output_type": "stream",
     "text": [
      "[0]\ttrain-auc:0.63658\teval-auc:0.55709\n",
      "[1]\ttrain-auc:0.64678\teval-auc:0.56240\n",
      "[2]\ttrain-auc:0.66228\teval-auc:0.56547\n",
      "[3]\ttrain-auc:0.66381\teval-auc:0.56703\n",
      "[4]\ttrain-auc:0.66514\teval-auc:0.56826\n",
      "[5]\ttrain-auc:0.66888\teval-auc:0.57042\n",
      "[6]\ttrain-auc:0.66877\teval-auc:0.56995\n",
      "[7]\ttrain-auc:0.67027\teval-auc:0.56963\n",
      "[8]\ttrain-auc:0.67234\teval-auc:0.56968\n",
      "[9]\ttrain-auc:0.67206\teval-auc:0.56908\n",
      "finish training & evaluation for P069\n",
      "start training & evaluation for P022\n"
     ]
    },
    {
     "name": "stderr",
     "output_type": "stream",
     "text": [
      "/home/panyu/miniconda3/envs/sci-data/lib/python3.9/site-packages/xgboost/core.py:122: UserWarning: ntree_limit is deprecated, use `iteration_range` or model slicing instead.\n",
      "  warnings.warn(\n",
      "/home/panyu/miniconda3/envs/sci-data/lib/python3.9/site-packages/xgboost/core.py:122: UserWarning: ntree_limit is deprecated, use `iteration_range` or model slicing instead.\n",
      "  warnings.warn(\n"
     ]
    },
    {
     "name": "stdout",
     "output_type": "stream",
     "text": [
      "[0]\ttrain-auc:0.62984\teval-auc:0.57021\n",
      "[1]\ttrain-auc:0.63535\teval-auc:0.57649\n",
      "[2]\ttrain-auc:0.63655\teval-auc:0.57492\n",
      "[3]\ttrain-auc:0.63844\teval-auc:0.57721\n",
      "[4]\ttrain-auc:0.63841\teval-auc:0.57701\n",
      "[5]\ttrain-auc:0.64089\teval-auc:0.57834\n",
      "[6]\ttrain-auc:0.64469\teval-auc:0.57663\n",
      "[7]\ttrain-auc:0.65320\teval-auc:0.57606\n",
      "[8]\ttrain-auc:0.65451\teval-auc:0.57466\n",
      "[9]\ttrain-auc:0.65736\teval-auc:0.57282\n",
      "finish training & evaluation for P022\n",
      "start training & evaluation for P048\n"
     ]
    },
    {
     "name": "stderr",
     "output_type": "stream",
     "text": [
      "/home/panyu/miniconda3/envs/sci-data/lib/python3.9/site-packages/xgboost/core.py:122: UserWarning: ntree_limit is deprecated, use `iteration_range` or model slicing instead.\n",
      "  warnings.warn(\n",
      "/home/panyu/miniconda3/envs/sci-data/lib/python3.9/site-packages/xgboost/core.py:122: UserWarning: ntree_limit is deprecated, use `iteration_range` or model slicing instead.\n",
      "  warnings.warn(\n"
     ]
    },
    {
     "name": "stdout",
     "output_type": "stream",
     "text": [
      "[0]\ttrain-auc:0.62673\teval-auc:0.55315\n",
      "[1]\ttrain-auc:0.62800\teval-auc:0.55476\n",
      "[2]\ttrain-auc:0.64113\teval-auc:0.55659\n",
      "[3]\ttrain-auc:0.63983\teval-auc:0.55443\n",
      "[4]\ttrain-auc:0.64309\teval-auc:0.55730\n",
      "[5]\ttrain-auc:0.64861\teval-auc:0.55818\n",
      "[6]\ttrain-auc:0.65378\teval-auc:0.56093\n",
      "[7]\ttrain-auc:0.65560\teval-auc:0.56090\n",
      "[8]\ttrain-auc:0.65636\teval-auc:0.56178\n",
      "[9]\ttrain-auc:0.65839\teval-auc:0.56199\n",
      "finish training & evaluation for P048\n",
      "start training & evaluation for P038\n"
     ]
    },
    {
     "name": "stderr",
     "output_type": "stream",
     "text": [
      "/home/panyu/miniconda3/envs/sci-data/lib/python3.9/site-packages/xgboost/core.py:122: UserWarning: ntree_limit is deprecated, use `iteration_range` or model slicing instead.\n",
      "  warnings.warn(\n",
      "/home/panyu/miniconda3/envs/sci-data/lib/python3.9/site-packages/xgboost/core.py:122: UserWarning: ntree_limit is deprecated, use `iteration_range` or model slicing instead.\n",
      "  warnings.warn(\n"
     ]
    },
    {
     "name": "stdout",
     "output_type": "stream",
     "text": [
      "[0]\ttrain-auc:0.63282\teval-auc:0.55600\n",
      "[1]\ttrain-auc:0.67610\teval-auc:0.58067\n",
      "[2]\ttrain-auc:0.67418\teval-auc:0.57299\n",
      "[3]\ttrain-auc:0.68252\teval-auc:0.58070\n",
      "[4]\ttrain-auc:0.67988\teval-auc:0.57675\n",
      "[5]\ttrain-auc:0.67838\teval-auc:0.57262\n",
      "[6]\ttrain-auc:0.68293\teval-auc:0.57607\n",
      "[7]\ttrain-auc:0.68237\teval-auc:0.57450\n",
      "[8]\ttrain-auc:0.68631\teval-auc:0.57755\n",
      "[9]\ttrain-auc:0.68662\teval-auc:0.57580\n",
      "finish training & evaluation for P038\n",
      "start training & evaluation for P102\n"
     ]
    },
    {
     "name": "stderr",
     "output_type": "stream",
     "text": [
      "/home/panyu/miniconda3/envs/sci-data/lib/python3.9/site-packages/xgboost/core.py:122: UserWarning: ntree_limit is deprecated, use `iteration_range` or model slicing instead.\n",
      "  warnings.warn(\n",
      "/home/panyu/miniconda3/envs/sci-data/lib/python3.9/site-packages/xgboost/core.py:122: UserWarning: ntree_limit is deprecated, use `iteration_range` or model slicing instead.\n",
      "  warnings.warn(\n"
     ]
    },
    {
     "name": "stdout",
     "output_type": "stream",
     "text": [
      "[0]\ttrain-auc:0.64187\teval-auc:0.56412\n",
      "[1]\ttrain-auc:0.66062\teval-auc:0.56752\n",
      "[2]\ttrain-auc:0.65750\teval-auc:0.56787\n",
      "[3]\ttrain-auc:0.66217\teval-auc:0.56756\n",
      "[4]\ttrain-auc:0.66188\teval-auc:0.56672\n",
      "[5]\ttrain-auc:0.66325\teval-auc:0.56621\n",
      "[6]\ttrain-auc:0.66406\teval-auc:0.56615\n",
      "[7]\ttrain-auc:0.66376\teval-auc:0.56628\n",
      "[8]\ttrain-auc:0.66952\teval-auc:0.56776\n",
      "[9]\ttrain-auc:0.67236\teval-auc:0.56916\n",
      "finish training & evaluation for P102\n",
      "start training & evaluation for P061\n"
     ]
    },
    {
     "name": "stderr",
     "output_type": "stream",
     "text": [
      "/home/panyu/miniconda3/envs/sci-data/lib/python3.9/site-packages/xgboost/core.py:122: UserWarning: ntree_limit is deprecated, use `iteration_range` or model slicing instead.\n",
      "  warnings.warn(\n",
      "/home/panyu/miniconda3/envs/sci-data/lib/python3.9/site-packages/xgboost/core.py:122: UserWarning: ntree_limit is deprecated, use `iteration_range` or model slicing instead.\n",
      "  warnings.warn(\n"
     ]
    },
    {
     "name": "stdout",
     "output_type": "stream",
     "text": [
      "[0]\ttrain-auc:0.62757\teval-auc:0.54398\n",
      "[1]\ttrain-auc:0.62889\teval-auc:0.54406\n",
      "[2]\ttrain-auc:0.63280\teval-auc:0.54655\n",
      "[3]\ttrain-auc:0.64355\teval-auc:0.55321\n",
      "[4]\ttrain-auc:0.65936\teval-auc:0.55339\n",
      "[5]\ttrain-auc:0.66277\teval-auc:0.55999\n",
      "[6]\ttrain-auc:0.66373\teval-auc:0.56143\n",
      "[7]\ttrain-auc:0.66437\teval-auc:0.56333\n",
      "[8]\ttrain-auc:0.66446\teval-auc:0.56437\n",
      "[9]\ttrain-auc:0.66810\teval-auc:0.56616\n",
      "finish training & evaluation for P061\n",
      "start training & evaluation for P033\n"
     ]
    },
    {
     "name": "stderr",
     "output_type": "stream",
     "text": [
      "/home/panyu/miniconda3/envs/sci-data/lib/python3.9/site-packages/xgboost/core.py:122: UserWarning: ntree_limit is deprecated, use `iteration_range` or model slicing instead.\n",
      "  warnings.warn(\n",
      "/home/panyu/miniconda3/envs/sci-data/lib/python3.9/site-packages/xgboost/core.py:122: UserWarning: ntree_limit is deprecated, use `iteration_range` or model slicing instead.\n",
      "  warnings.warn(\n"
     ]
    },
    {
     "name": "stdout",
     "output_type": "stream",
     "text": [
      "[0]\ttrain-auc:0.63702\teval-auc:0.55917\n",
      "[1]\ttrain-auc:0.64493\teval-auc:0.56252\n",
      "[2]\ttrain-auc:0.65390\teval-auc:0.56602\n",
      "[3]\ttrain-auc:0.65104\teval-auc:0.56520\n",
      "[4]\ttrain-auc:0.65198\teval-auc:0.56608\n",
      "[5]\ttrain-auc:0.65920\teval-auc:0.56981\n",
      "[6]\ttrain-auc:0.65904\teval-auc:0.57045\n",
      "[7]\ttrain-auc:0.66087\teval-auc:0.57234\n",
      "[8]\ttrain-auc:0.66321\teval-auc:0.57216\n",
      "[9]\ttrain-auc:0.66255\teval-auc:0.57227\n",
      "finish training & evaluation for P033\n",
      "start training & evaluation for P030\n"
     ]
    },
    {
     "name": "stderr",
     "output_type": "stream",
     "text": [
      "/home/panyu/miniconda3/envs/sci-data/lib/python3.9/site-packages/xgboost/core.py:122: UserWarning: ntree_limit is deprecated, use `iteration_range` or model slicing instead.\n",
      "  warnings.warn(\n",
      "/home/panyu/miniconda3/envs/sci-data/lib/python3.9/site-packages/xgboost/core.py:122: UserWarning: ntree_limit is deprecated, use `iteration_range` or model slicing instead.\n",
      "  warnings.warn(\n"
     ]
    },
    {
     "name": "stdout",
     "output_type": "stream",
     "text": [
      "[0]\ttrain-auc:0.63616\teval-auc:0.53978\n",
      "[1]\ttrain-auc:0.63799\teval-auc:0.53969\n",
      "[2]\ttrain-auc:0.63925\teval-auc:0.53926\n",
      "[3]\ttrain-auc:0.63920\teval-auc:0.53959\n",
      "[4]\ttrain-auc:0.64119\teval-auc:0.54180\n",
      "[5]\ttrain-auc:0.64120\teval-auc:0.54119\n",
      "[6]\ttrain-auc:0.64464\teval-auc:0.54261\n",
      "[7]\ttrain-auc:0.64402\teval-auc:0.54258\n",
      "[8]\ttrain-auc:0.64908\teval-auc:0.54565\n",
      "[9]\ttrain-auc:0.65297\teval-auc:0.54818\n",
      "finish training & evaluation for P030\n",
      "start training & evaluation for P026\n"
     ]
    },
    {
     "name": "stderr",
     "output_type": "stream",
     "text": [
      "/home/panyu/miniconda3/envs/sci-data/lib/python3.9/site-packages/xgboost/core.py:122: UserWarning: ntree_limit is deprecated, use `iteration_range` or model slicing instead.\n",
      "  warnings.warn(\n",
      "/home/panyu/miniconda3/envs/sci-data/lib/python3.9/site-packages/xgboost/core.py:122: UserWarning: ntree_limit is deprecated, use `iteration_range` or model slicing instead.\n",
      "  warnings.warn(\n"
     ]
    },
    {
     "name": "stdout",
     "output_type": "stream",
     "text": [
      "[0]\ttrain-auc:0.63048\teval-auc:0.55933\n",
      "[1]\ttrain-auc:0.63265\teval-auc:0.56061\n",
      "[2]\ttrain-auc:0.63314\teval-auc:0.56171\n",
      "[3]\ttrain-auc:0.63994\teval-auc:0.56336\n",
      "[4]\ttrain-auc:0.64295\teval-auc:0.56519\n",
      "[5]\ttrain-auc:0.65729\teval-auc:0.57137\n",
      "[6]\ttrain-auc:0.66476\teval-auc:0.57380\n",
      "[7]\ttrain-auc:0.66392\teval-auc:0.57345\n",
      "[8]\ttrain-auc:0.66831\teval-auc:0.57430\n",
      "[9]\ttrain-auc:0.67029\teval-auc:0.57535\n",
      "finish training & evaluation for P026\n",
      "start training & evaluation for P096\n"
     ]
    },
    {
     "name": "stderr",
     "output_type": "stream",
     "text": [
      "/home/panyu/miniconda3/envs/sci-data/lib/python3.9/site-packages/xgboost/core.py:122: UserWarning: ntree_limit is deprecated, use `iteration_range` or model slicing instead.\n",
      "  warnings.warn(\n",
      "/home/panyu/miniconda3/envs/sci-data/lib/python3.9/site-packages/xgboost/core.py:122: UserWarning: ntree_limit is deprecated, use `iteration_range` or model slicing instead.\n",
      "  warnings.warn(\n"
     ]
    },
    {
     "name": "stdout",
     "output_type": "stream",
     "text": [
      "[0]\ttrain-auc:0.63673\teval-auc:0.56223\n",
      "[1]\ttrain-auc:0.64085\teval-auc:0.56258\n",
      "[2]\ttrain-auc:0.64599\teval-auc:0.56401\n",
      "[3]\ttrain-auc:0.64572\teval-auc:0.56540\n",
      "[4]\ttrain-auc:0.65454\teval-auc:0.56686\n",
      "[5]\ttrain-auc:0.65916\teval-auc:0.56836\n",
      "[6]\ttrain-auc:0.66158\teval-auc:0.56919\n",
      "[7]\ttrain-auc:0.66352\teval-auc:0.57048\n",
      "[8]\ttrain-auc:0.66314\teval-auc:0.57021\n",
      "[9]\ttrain-auc:0.66330\teval-auc:0.56922\n",
      "finish training & evaluation for P096\n",
      "start training & evaluation for P016\n"
     ]
    },
    {
     "name": "stderr",
     "output_type": "stream",
     "text": [
      "/home/panyu/miniconda3/envs/sci-data/lib/python3.9/site-packages/xgboost/core.py:122: UserWarning: ntree_limit is deprecated, use `iteration_range` or model slicing instead.\n",
      "  warnings.warn(\n",
      "/home/panyu/miniconda3/envs/sci-data/lib/python3.9/site-packages/xgboost/core.py:122: UserWarning: ntree_limit is deprecated, use `iteration_range` or model slicing instead.\n",
      "  warnings.warn(\n"
     ]
    },
    {
     "name": "stdout",
     "output_type": "stream",
     "text": [
      "[0]\ttrain-auc:0.63316\teval-auc:0.56858\n",
      "[1]\ttrain-auc:0.63467\teval-auc:0.56920\n",
      "[2]\ttrain-auc:0.63977\teval-auc:0.57109\n",
      "[3]\ttrain-auc:0.63931\teval-auc:0.57057\n",
      "[4]\ttrain-auc:0.64154\teval-auc:0.57169\n",
      "[5]\ttrain-auc:0.64398\teval-auc:0.57170\n",
      "[6]\ttrain-auc:0.64551\teval-auc:0.57294\n",
      "[7]\ttrain-auc:0.65364\teval-auc:0.57930\n",
      "[8]\ttrain-auc:0.65618\teval-auc:0.58275\n",
      "[9]\ttrain-auc:0.65678\teval-auc:0.58287\n",
      "finish training & evaluation for P016\n",
      "start training & evaluation for P065\n"
     ]
    },
    {
     "name": "stderr",
     "output_type": "stream",
     "text": [
      "/home/panyu/miniconda3/envs/sci-data/lib/python3.9/site-packages/xgboost/core.py:122: UserWarning: ntree_limit is deprecated, use `iteration_range` or model slicing instead.\n",
      "  warnings.warn(\n",
      "/home/panyu/miniconda3/envs/sci-data/lib/python3.9/site-packages/xgboost/core.py:122: UserWarning: ntree_limit is deprecated, use `iteration_range` or model slicing instead.\n",
      "  warnings.warn(\n"
     ]
    },
    {
     "name": "stdout",
     "output_type": "stream",
     "text": [
      "[0]\ttrain-auc:0.63233\teval-auc:0.55382\n",
      "[1]\ttrain-auc:0.63240\teval-auc:0.55382\n",
      "[2]\ttrain-auc:0.63240\teval-auc:0.55382\n",
      "[3]\ttrain-auc:0.63757\teval-auc:0.55691\n",
      "[4]\ttrain-auc:0.63827\teval-auc:0.55725\n",
      "[5]\ttrain-auc:0.63970\teval-auc:0.55726\n",
      "[6]\ttrain-auc:0.63983\teval-auc:0.55721\n",
      "[7]\ttrain-auc:0.64181\teval-auc:0.55792\n",
      "[8]\ttrain-auc:0.64156\teval-auc:0.55807\n",
      "[9]\ttrain-auc:0.65775\teval-auc:0.56472\n",
      "finish training & evaluation for P065\n",
      "start training & evaluation for P127\n"
     ]
    },
    {
     "name": "stderr",
     "output_type": "stream",
     "text": [
      "/home/panyu/miniconda3/envs/sci-data/lib/python3.9/site-packages/xgboost/core.py:122: UserWarning: ntree_limit is deprecated, use `iteration_range` or model slicing instead.\n",
      "  warnings.warn(\n",
      "/home/panyu/miniconda3/envs/sci-data/lib/python3.9/site-packages/xgboost/core.py:122: UserWarning: ntree_limit is deprecated, use `iteration_range` or model slicing instead.\n",
      "  warnings.warn(\n"
     ]
    },
    {
     "name": "stdout",
     "output_type": "stream",
     "text": [
      "[0]\ttrain-auc:0.63853\teval-auc:0.54565\n",
      "[1]\ttrain-auc:0.65087\teval-auc:0.55400\n",
      "[2]\ttrain-auc:0.65240\teval-auc:0.55122\n",
      "[3]\ttrain-auc:0.65413\teval-auc:0.55386\n",
      "[4]\ttrain-auc:0.65504\teval-auc:0.55309\n",
      "[5]\ttrain-auc:0.65651\teval-auc:0.55278\n",
      "[6]\ttrain-auc:0.65723\teval-auc:0.55383\n",
      "[7]\ttrain-auc:0.66010\teval-auc:0.55589\n",
      "[8]\ttrain-auc:0.67096\teval-auc:0.55867\n",
      "[9]\ttrain-auc:0.67281\teval-auc:0.55927\n",
      "finish training & evaluation for P127\n",
      "start training & evaluation for P076\n"
     ]
    },
    {
     "name": "stderr",
     "output_type": "stream",
     "text": [
      "/home/panyu/miniconda3/envs/sci-data/lib/python3.9/site-packages/xgboost/core.py:122: UserWarning: ntree_limit is deprecated, use `iteration_range` or model slicing instead.\n",
      "  warnings.warn(\n",
      "/home/panyu/miniconda3/envs/sci-data/lib/python3.9/site-packages/xgboost/core.py:122: UserWarning: ntree_limit is deprecated, use `iteration_range` or model slicing instead.\n",
      "  warnings.warn(\n"
     ]
    },
    {
     "name": "stdout",
     "output_type": "stream",
     "text": [
      "[0]\ttrain-auc:0.63223\teval-auc:0.56744\n",
      "[1]\ttrain-auc:0.64716\teval-auc:0.56623\n",
      "[2]\ttrain-auc:0.64758\teval-auc:0.56720\n",
      "[3]\ttrain-auc:0.64924\teval-auc:0.56805\n",
      "[4]\ttrain-auc:0.66200\teval-auc:0.57016\n",
      "[5]\ttrain-auc:0.67918\teval-auc:0.57438\n",
      "[6]\ttrain-auc:0.67770\teval-auc:0.57316\n",
      "[7]\ttrain-auc:0.68433\teval-auc:0.57395\n",
      "[8]\ttrain-auc:0.68415\teval-auc:0.57344\n",
      "[9]\ttrain-auc:0.68737\teval-auc:0.57461\n",
      "finish training & evaluation for P076\n",
      "start training & evaluation for P079\n"
     ]
    },
    {
     "name": "stderr",
     "output_type": "stream",
     "text": [
      "/home/panyu/miniconda3/envs/sci-data/lib/python3.9/site-packages/xgboost/core.py:122: UserWarning: ntree_limit is deprecated, use `iteration_range` or model slicing instead.\n",
      "  warnings.warn(\n",
      "/home/panyu/miniconda3/envs/sci-data/lib/python3.9/site-packages/xgboost/core.py:122: UserWarning: ntree_limit is deprecated, use `iteration_range` or model slicing instead.\n",
      "  warnings.warn(\n"
     ]
    },
    {
     "name": "stdout",
     "output_type": "stream",
     "text": [
      "[0]\ttrain-auc:0.63494\teval-auc:0.54318\n",
      "[1]\ttrain-auc:0.63540\teval-auc:0.54285\n",
      "[2]\ttrain-auc:0.63562\teval-auc:0.54231\n",
      "[3]\ttrain-auc:0.65873\teval-auc:0.54684\n",
      "[4]\ttrain-auc:0.65723\teval-auc:0.54690\n",
      "[5]\ttrain-auc:0.66589\teval-auc:0.54775\n",
      "[6]\ttrain-auc:0.67045\teval-auc:0.54926\n",
      "[7]\ttrain-auc:0.67165\teval-auc:0.54909\n",
      "[8]\ttrain-auc:0.67185\teval-auc:0.54965\n",
      "[9]\ttrain-auc:0.67739\teval-auc:0.55200\n",
      "finish training & evaluation for P079\n",
      "start training & evaluation for P055\n"
     ]
    },
    {
     "name": "stderr",
     "output_type": "stream",
     "text": [
      "/home/panyu/miniconda3/envs/sci-data/lib/python3.9/site-packages/xgboost/core.py:122: UserWarning: ntree_limit is deprecated, use `iteration_range` or model slicing instead.\n",
      "  warnings.warn(\n",
      "/home/panyu/miniconda3/envs/sci-data/lib/python3.9/site-packages/xgboost/core.py:122: UserWarning: ntree_limit is deprecated, use `iteration_range` or model slicing instead.\n",
      "  warnings.warn(\n"
     ]
    },
    {
     "name": "stdout",
     "output_type": "stream",
     "text": [
      "[0]\ttrain-auc:0.63150\teval-auc:0.55939\n",
      "[1]\ttrain-auc:0.66742\teval-auc:0.57198\n",
      "[2]\ttrain-auc:0.66472\teval-auc:0.57166\n",
      "[3]\ttrain-auc:0.66844\teval-auc:0.57250\n",
      "[4]\ttrain-auc:0.66735\teval-auc:0.57302\n",
      "[5]\ttrain-auc:0.66965\teval-auc:0.57243\n",
      "[6]\ttrain-auc:0.66970\teval-auc:0.57270\n",
      "[7]\ttrain-auc:0.67325\teval-auc:0.57448\n",
      "[8]\ttrain-auc:0.67341\teval-auc:0.57658\n",
      "[9]\ttrain-auc:0.67478\teval-auc:0.57649\n",
      "finish training & evaluation for P055\n",
      "start training & evaluation for P094\n"
     ]
    },
    {
     "name": "stderr",
     "output_type": "stream",
     "text": [
      "/home/panyu/miniconda3/envs/sci-data/lib/python3.9/site-packages/xgboost/core.py:122: UserWarning: ntree_limit is deprecated, use `iteration_range` or model slicing instead.\n",
      "  warnings.warn(\n",
      "/home/panyu/miniconda3/envs/sci-data/lib/python3.9/site-packages/xgboost/core.py:122: UserWarning: ntree_limit is deprecated, use `iteration_range` or model slicing instead.\n",
      "  warnings.warn(\n"
     ]
    },
    {
     "name": "stdout",
     "output_type": "stream",
     "text": [
      "[0]\ttrain-auc:0.64029\teval-auc:0.55764\n",
      "[1]\ttrain-auc:0.64238\teval-auc:0.55764\n",
      "[2]\ttrain-auc:0.65088\teval-auc:0.56202\n",
      "[3]\ttrain-auc:0.65189\teval-auc:0.56246\n",
      "[4]\ttrain-auc:0.65329\teval-auc:0.56316\n",
      "[5]\ttrain-auc:0.65624\teval-auc:0.56433\n",
      "[6]\ttrain-auc:0.65698\teval-auc:0.56406\n",
      "[7]\ttrain-auc:0.65958\teval-auc:0.56515\n",
      "[8]\ttrain-auc:0.66068\teval-auc:0.56625\n",
      "[9]\ttrain-auc:0.66117\teval-auc:0.56582\n",
      "finish training & evaluation for P094\n",
      "start training & evaluation for P056\n"
     ]
    },
    {
     "name": "stderr",
     "output_type": "stream",
     "text": [
      "/home/panyu/miniconda3/envs/sci-data/lib/python3.9/site-packages/xgboost/core.py:122: UserWarning: ntree_limit is deprecated, use `iteration_range` or model slicing instead.\n",
      "  warnings.warn(\n",
      "/home/panyu/miniconda3/envs/sci-data/lib/python3.9/site-packages/xgboost/core.py:122: UserWarning: ntree_limit is deprecated, use `iteration_range` or model slicing instead.\n",
      "  warnings.warn(\n"
     ]
    },
    {
     "name": "stdout",
     "output_type": "stream",
     "text": [
      "[0]\ttrain-auc:0.61520\teval-auc:0.55151\n",
      "[1]\ttrain-auc:0.61789\teval-auc:0.55223\n",
      "[2]\ttrain-auc:0.62828\teval-auc:0.55707\n",
      "[3]\ttrain-auc:0.63040\teval-auc:0.55897\n",
      "[4]\ttrain-auc:0.66363\teval-auc:0.56953\n",
      "[5]\ttrain-auc:0.65984\teval-auc:0.56909\n",
      "[6]\ttrain-auc:0.67036\teval-auc:0.57210\n",
      "[7]\ttrain-auc:0.66757\teval-auc:0.57127\n",
      "[8]\ttrain-auc:0.67328\teval-auc:0.57208\n",
      "[9]\ttrain-auc:0.67247\teval-auc:0.57159\n",
      "finish training & evaluation for P056\n",
      "start training & evaluation for P008\n"
     ]
    },
    {
     "name": "stderr",
     "output_type": "stream",
     "text": [
      "/home/panyu/miniconda3/envs/sci-data/lib/python3.9/site-packages/xgboost/core.py:122: UserWarning: ntree_limit is deprecated, use `iteration_range` or model slicing instead.\n",
      "  warnings.warn(\n",
      "/home/panyu/miniconda3/envs/sci-data/lib/python3.9/site-packages/xgboost/core.py:122: UserWarning: ntree_limit is deprecated, use `iteration_range` or model slicing instead.\n",
      "  warnings.warn(\n"
     ]
    },
    {
     "name": "stdout",
     "output_type": "stream",
     "text": [
      "[0]\ttrain-auc:0.63464\teval-auc:0.55463\n",
      "[1]\ttrain-auc:0.64128\teval-auc:0.55008\n",
      "[2]\ttrain-auc:0.64251\teval-auc:0.55298\n",
      "[3]\ttrain-auc:0.64262\teval-auc:0.55096\n",
      "[4]\ttrain-auc:0.64430\teval-auc:0.55436\n",
      "[5]\ttrain-auc:0.64317\teval-auc:0.55186\n",
      "[6]\ttrain-auc:0.64580\teval-auc:0.55562\n",
      "[7]\ttrain-auc:0.64459\teval-auc:0.55406\n",
      "[8]\ttrain-auc:0.64724\teval-auc:0.55293\n",
      "[9]\ttrain-auc:0.65243\teval-auc:0.55422\n",
      "finish training & evaluation for P008\n",
      "start training & evaluation for P075\n",
      "[0]\ttrain-auc:0.62179\teval-auc:0.55441\n"
     ]
    },
    {
     "name": "stderr",
     "output_type": "stream",
     "text": [
      "/home/panyu/miniconda3/envs/sci-data/lib/python3.9/site-packages/xgboost/core.py:122: UserWarning: ntree_limit is deprecated, use `iteration_range` or model slicing instead.\n",
      "  warnings.warn(\n",
      "/home/panyu/miniconda3/envs/sci-data/lib/python3.9/site-packages/xgboost/core.py:122: UserWarning: ntree_limit is deprecated, use `iteration_range` or model slicing instead.\n",
      "  warnings.warn(\n"
     ]
    },
    {
     "name": "stdout",
     "output_type": "stream",
     "text": [
      "[1]\ttrain-auc:0.62354\teval-auc:0.55535\n",
      "[2]\ttrain-auc:0.64300\teval-auc:0.56159\n",
      "[3]\ttrain-auc:0.64466\teval-auc:0.56138\n",
      "[4]\ttrain-auc:0.64808\teval-auc:0.56237\n",
      "[5]\ttrain-auc:0.64940\teval-auc:0.56179\n",
      "[6]\ttrain-auc:0.65248\teval-auc:0.56101\n",
      "[7]\ttrain-auc:0.66577\teval-auc:0.56441\n",
      "[8]\ttrain-auc:0.67208\teval-auc:0.56566\n",
      "[9]\ttrain-auc:0.67100\teval-auc:0.56519\n",
      "finish training & evaluation for P075\n",
      "start training & evaluation for P047\n"
     ]
    },
    {
     "name": "stderr",
     "output_type": "stream",
     "text": [
      "/home/panyu/miniconda3/envs/sci-data/lib/python3.9/site-packages/xgboost/core.py:122: UserWarning: ntree_limit is deprecated, use `iteration_range` or model slicing instead.\n",
      "  warnings.warn(\n",
      "/home/panyu/miniconda3/envs/sci-data/lib/python3.9/site-packages/xgboost/core.py:122: UserWarning: ntree_limit is deprecated, use `iteration_range` or model slicing instead.\n",
      "  warnings.warn(\n"
     ]
    },
    {
     "name": "stdout",
     "output_type": "stream",
     "text": [
      "[0]\ttrain-auc:0.63290\teval-auc:0.56229\n",
      "[1]\ttrain-auc:0.63634\teval-auc:0.56511\n",
      "[2]\ttrain-auc:0.63737\teval-auc:0.56520\n",
      "[3]\ttrain-auc:0.63862\teval-auc:0.56476\n",
      "[4]\ttrain-auc:0.64467\teval-auc:0.57066\n",
      "[5]\ttrain-auc:0.64779\teval-auc:0.57293\n",
      "[6]\ttrain-auc:0.65301\teval-auc:0.57443\n",
      "[7]\ttrain-auc:0.65345\teval-auc:0.57437\n",
      "[8]\ttrain-auc:0.66302\teval-auc:0.58043\n",
      "[9]\ttrain-auc:0.66326\teval-auc:0.57997\n",
      "finish training & evaluation for P047\n",
      "start training & evaluation for P057\n"
     ]
    },
    {
     "name": "stderr",
     "output_type": "stream",
     "text": [
      "/home/panyu/miniconda3/envs/sci-data/lib/python3.9/site-packages/xgboost/core.py:122: UserWarning: ntree_limit is deprecated, use `iteration_range` or model slicing instead.\n",
      "  warnings.warn(\n",
      "/home/panyu/miniconda3/envs/sci-data/lib/python3.9/site-packages/xgboost/core.py:122: UserWarning: ntree_limit is deprecated, use `iteration_range` or model slicing instead.\n",
      "  warnings.warn(\n"
     ]
    },
    {
     "name": "stdout",
     "output_type": "stream",
     "text": [
      "[0]\ttrain-auc:0.63258\teval-auc:0.54246\n",
      "[1]\ttrain-auc:0.65643\teval-auc:0.55026\n",
      "[2]\ttrain-auc:0.65778\teval-auc:0.55286\n",
      "[3]\ttrain-auc:0.66308\teval-auc:0.55098\n",
      "[4]\ttrain-auc:0.66226\teval-auc:0.55206\n",
      "[5]\ttrain-auc:0.66435\teval-auc:0.55347\n",
      "[6]\ttrain-auc:0.66570\teval-auc:0.55601\n",
      "[7]\ttrain-auc:0.66713\teval-auc:0.55590\n",
      "[8]\ttrain-auc:0.67394\teval-auc:0.55818\n",
      "[9]\ttrain-auc:0.67465\teval-auc:0.55944\n",
      "finish training & evaluation for P057\n",
      "start training & evaluation for P015\n"
     ]
    },
    {
     "name": "stderr",
     "output_type": "stream",
     "text": [
      "/home/panyu/miniconda3/envs/sci-data/lib/python3.9/site-packages/xgboost/core.py:122: UserWarning: ntree_limit is deprecated, use `iteration_range` or model slicing instead.\n",
      "  warnings.warn(\n",
      "/home/panyu/miniconda3/envs/sci-data/lib/python3.9/site-packages/xgboost/core.py:122: UserWarning: ntree_limit is deprecated, use `iteration_range` or model slicing instead.\n",
      "  warnings.warn(\n"
     ]
    },
    {
     "name": "stdout",
     "output_type": "stream",
     "text": [
      "[0]\ttrain-auc:0.63779\teval-auc:0.55213\n",
      "[1]\ttrain-auc:0.63995\teval-auc:0.55281\n",
      "[2]\ttrain-auc:0.64171\teval-auc:0.55443\n",
      "[3]\ttrain-auc:0.64244\teval-auc:0.55608\n",
      "[4]\ttrain-auc:0.65126\teval-auc:0.55914\n",
      "[5]\ttrain-auc:0.65357\teval-auc:0.56137\n",
      "[6]\ttrain-auc:0.65467\teval-auc:0.56326\n",
      "[7]\ttrain-auc:0.65768\teval-auc:0.56319\n",
      "[8]\ttrain-auc:0.65780\teval-auc:0.56360\n",
      "[9]\ttrain-auc:0.66028\teval-auc:0.56304\n",
      "finish training & evaluation for P015\n",
      "start training & evaluation for P011\n"
     ]
    },
    {
     "name": "stderr",
     "output_type": "stream",
     "text": [
      "/home/panyu/miniconda3/envs/sci-data/lib/python3.9/site-packages/xgboost/core.py:122: UserWarning: ntree_limit is deprecated, use `iteration_range` or model slicing instead.\n",
      "  warnings.warn(\n",
      "/home/panyu/miniconda3/envs/sci-data/lib/python3.9/site-packages/xgboost/core.py:122: UserWarning: ntree_limit is deprecated, use `iteration_range` or model slicing instead.\n",
      "  warnings.warn(\n"
     ]
    },
    {
     "name": "stdout",
     "output_type": "stream",
     "text": [
      "[0]\ttrain-auc:0.63112\teval-auc:0.56687\n",
      "[1]\ttrain-auc:0.63322\teval-auc:0.56899\n",
      "[2]\ttrain-auc:0.64632\teval-auc:0.56657\n",
      "[3]\ttrain-auc:0.64567\teval-auc:0.56860\n",
      "[4]\ttrain-auc:0.64812\teval-auc:0.56687\n",
      "[5]\ttrain-auc:0.65113\teval-auc:0.56669\n",
      "[6]\ttrain-auc:0.65106\teval-auc:0.56640\n",
      "[7]\ttrain-auc:0.65707\teval-auc:0.56760\n",
      "[8]\ttrain-auc:0.65806\teval-auc:0.56737\n",
      "[9]\ttrain-auc:0.65906\teval-auc:0.56878\n",
      "finish training & evaluation for P011\n",
      "start training & evaluation for P131\n"
     ]
    },
    {
     "name": "stderr",
     "output_type": "stream",
     "text": [
      "/home/panyu/miniconda3/envs/sci-data/lib/python3.9/site-packages/xgboost/core.py:122: UserWarning: ntree_limit is deprecated, use `iteration_range` or model slicing instead.\n",
      "  warnings.warn(\n",
      "/home/panyu/miniconda3/envs/sci-data/lib/python3.9/site-packages/xgboost/core.py:122: UserWarning: ntree_limit is deprecated, use `iteration_range` or model slicing instead.\n",
      "  warnings.warn(\n"
     ]
    },
    {
     "name": "stdout",
     "output_type": "stream",
     "text": [
      "[0]\ttrain-auc:0.63600\teval-auc:0.55560\n",
      "[1]\ttrain-auc:0.63940\teval-auc:0.56085\n",
      "[2]\ttrain-auc:0.63976\teval-auc:0.55986\n",
      "[3]\ttrain-auc:0.65298\teval-auc:0.56682\n",
      "[4]\ttrain-auc:0.65474\teval-auc:0.56794\n",
      "[5]\ttrain-auc:0.65932\teval-auc:0.56994\n",
      "[6]\ttrain-auc:0.67239\teval-auc:0.57111\n",
      "[7]\ttrain-auc:0.67195\teval-auc:0.57186\n",
      "[8]\ttrain-auc:0.67496\teval-auc:0.57199\n",
      "[9]\ttrain-auc:0.67953\teval-auc:0.57091\n",
      "finish training & evaluation for P131\n",
      "start training & evaluation for P007\n"
     ]
    },
    {
     "name": "stderr",
     "output_type": "stream",
     "text": [
      "/home/panyu/miniconda3/envs/sci-data/lib/python3.9/site-packages/xgboost/core.py:122: UserWarning: ntree_limit is deprecated, use `iteration_range` or model slicing instead.\n",
      "  warnings.warn(\n",
      "/home/panyu/miniconda3/envs/sci-data/lib/python3.9/site-packages/xgboost/core.py:122: UserWarning: ntree_limit is deprecated, use `iteration_range` or model slicing instead.\n",
      "  warnings.warn(\n"
     ]
    },
    {
     "name": "stdout",
     "output_type": "stream",
     "text": [
      "[0]\ttrain-auc:0.61992\teval-auc:0.55850\n",
      "[1]\ttrain-auc:0.61993\teval-auc:0.55911\n",
      "[2]\ttrain-auc:0.62038\teval-auc:0.55959\n",
      "[3]\ttrain-auc:0.62074\teval-auc:0.55969\n",
      "[4]\ttrain-auc:0.62266\teval-auc:0.56008\n",
      "[5]\ttrain-auc:0.62282\teval-auc:0.55995\n",
      "[6]\ttrain-auc:0.62357\teval-auc:0.55939\n",
      "[7]\ttrain-auc:0.62390\teval-auc:0.55931\n",
      "[8]\ttrain-auc:0.62640\teval-auc:0.56067\n",
      "[9]\ttrain-auc:0.63749\teval-auc:0.56370\n",
      "finish training & evaluation for P007\n",
      "start training & evaluation for P120\n"
     ]
    },
    {
     "name": "stderr",
     "output_type": "stream",
     "text": [
      "/home/panyu/miniconda3/envs/sci-data/lib/python3.9/site-packages/xgboost/core.py:122: UserWarning: ntree_limit is deprecated, use `iteration_range` or model slicing instead.\n",
      "  warnings.warn(\n",
      "/home/panyu/miniconda3/envs/sci-data/lib/python3.9/site-packages/xgboost/core.py:122: UserWarning: ntree_limit is deprecated, use `iteration_range` or model slicing instead.\n",
      "  warnings.warn(\n"
     ]
    },
    {
     "name": "stdout",
     "output_type": "stream",
     "text": [
      "[0]\ttrain-auc:0.63114\teval-auc:0.56506\n",
      "[1]\ttrain-auc:0.63418\teval-auc:0.56449\n",
      "[2]\ttrain-auc:0.63544\teval-auc:0.56722\n",
      "[3]\ttrain-auc:0.64111\teval-auc:0.56755\n",
      "[4]\ttrain-auc:0.63926\teval-auc:0.56495\n",
      "[5]\ttrain-auc:0.64293\teval-auc:0.56690\n",
      "[6]\ttrain-auc:0.64639\teval-auc:0.56764\n",
      "[7]\ttrain-auc:0.65966\teval-auc:0.57169\n",
      "[8]\ttrain-auc:0.66502\teval-auc:0.57347\n",
      "[9]\ttrain-auc:0.66710\teval-auc:0.57468\n",
      "finish training & evaluation for P120\n",
      "start training & evaluation for P072\n"
     ]
    },
    {
     "name": "stderr",
     "output_type": "stream",
     "text": [
      "/home/panyu/miniconda3/envs/sci-data/lib/python3.9/site-packages/xgboost/core.py:122: UserWarning: ntree_limit is deprecated, use `iteration_range` or model slicing instead.\n",
      "  warnings.warn(\n",
      "/home/panyu/miniconda3/envs/sci-data/lib/python3.9/site-packages/xgboost/core.py:122: UserWarning: ntree_limit is deprecated, use `iteration_range` or model slicing instead.\n",
      "  warnings.warn(\n"
     ]
    },
    {
     "name": "stdout",
     "output_type": "stream",
     "text": [
      "[0]\ttrain-auc:0.62911\teval-auc:0.54868\n",
      "[1]\ttrain-auc:0.65168\teval-auc:0.56222\n",
      "[2]\ttrain-auc:0.65291\teval-auc:0.56169\n",
      "[3]\ttrain-auc:0.65609\teval-auc:0.56301\n",
      "[4]\ttrain-auc:0.66202\teval-auc:0.56067\n",
      "[5]\ttrain-auc:0.66037\teval-auc:0.56266\n",
      "[6]\ttrain-auc:0.66474\teval-auc:0.56404\n",
      "[7]\ttrain-auc:0.67157\teval-auc:0.56706\n",
      "[8]\ttrain-auc:0.67229\teval-auc:0.56836\n",
      "[9]\ttrain-auc:0.67193\teval-auc:0.56763\n",
      "finish training & evaluation for P072\n",
      "start training & evaluation for P103\n"
     ]
    },
    {
     "name": "stderr",
     "output_type": "stream",
     "text": [
      "/home/panyu/miniconda3/envs/sci-data/lib/python3.9/site-packages/xgboost/core.py:122: UserWarning: ntree_limit is deprecated, use `iteration_range` or model slicing instead.\n",
      "  warnings.warn(\n",
      "/home/panyu/miniconda3/envs/sci-data/lib/python3.9/site-packages/xgboost/core.py:122: UserWarning: ntree_limit is deprecated, use `iteration_range` or model slicing instead.\n",
      "  warnings.warn(\n"
     ]
    },
    {
     "name": "stdout",
     "output_type": "stream",
     "text": [
      "[0]\ttrain-auc:0.63669\teval-auc:0.55690\n",
      "[1]\ttrain-auc:0.64210\teval-auc:0.55754\n",
      "[2]\ttrain-auc:0.64429\teval-auc:0.56172\n",
      "[3]\ttrain-auc:0.64431\teval-auc:0.56151\n",
      "[4]\ttrain-auc:0.65618\teval-auc:0.56744\n",
      "[5]\ttrain-auc:0.65687\teval-auc:0.56826\n",
      "[6]\ttrain-auc:0.67013\teval-auc:0.57399\n",
      "[7]\ttrain-auc:0.67229\teval-auc:0.57559\n",
      "[8]\ttrain-auc:0.67462\teval-auc:0.57714\n",
      "[9]\ttrain-auc:0.67984\teval-auc:0.57809\n",
      "finish training & evaluation for P103\n",
      "start training & evaluation for P002\n"
     ]
    },
    {
     "name": "stderr",
     "output_type": "stream",
     "text": [
      "/home/panyu/miniconda3/envs/sci-data/lib/python3.9/site-packages/xgboost/core.py:122: UserWarning: ntree_limit is deprecated, use `iteration_range` or model slicing instead.\n",
      "  warnings.warn(\n",
      "/home/panyu/miniconda3/envs/sci-data/lib/python3.9/site-packages/xgboost/core.py:122: UserWarning: ntree_limit is deprecated, use `iteration_range` or model slicing instead.\n",
      "  warnings.warn(\n"
     ]
    },
    {
     "name": "stdout",
     "output_type": "stream",
     "text": [
      "[0]\ttrain-auc:0.63563\teval-auc:0.55311\n",
      "[1]\ttrain-auc:0.63798\teval-auc:0.55454\n",
      "[2]\ttrain-auc:0.63943\teval-auc:0.55520\n",
      "[3]\ttrain-auc:0.64282\teval-auc:0.55527\n",
      "[4]\ttrain-auc:0.64279\teval-auc:0.55602\n",
      "[5]\ttrain-auc:0.64442\teval-auc:0.55654\n",
      "[6]\ttrain-auc:0.66480\teval-auc:0.56538\n",
      "[7]\ttrain-auc:0.66816\teval-auc:0.56585\n",
      "[8]\ttrain-auc:0.67712\teval-auc:0.57001\n",
      "[9]\ttrain-auc:0.67802\teval-auc:0.56974\n",
      "finish training & evaluation for P002\n",
      "start training & evaluation for P092\n"
     ]
    },
    {
     "name": "stderr",
     "output_type": "stream",
     "text": [
      "/home/panyu/miniconda3/envs/sci-data/lib/python3.9/site-packages/xgboost/core.py:122: UserWarning: ntree_limit is deprecated, use `iteration_range` or model slicing instead.\n",
      "  warnings.warn(\n",
      "/home/panyu/miniconda3/envs/sci-data/lib/python3.9/site-packages/xgboost/core.py:122: UserWarning: ntree_limit is deprecated, use `iteration_range` or model slicing instead.\n",
      "  warnings.warn(\n"
     ]
    },
    {
     "name": "stdout",
     "output_type": "stream",
     "text": [
      "[0]\ttrain-auc:0.64150\teval-auc:0.54988\n",
      "[1]\ttrain-auc:0.64231\teval-auc:0.55127\n",
      "[2]\ttrain-auc:0.65679\teval-auc:0.55546\n",
      "[3]\ttrain-auc:0.65971\teval-auc:0.55598\n",
      "[4]\ttrain-auc:0.67023\teval-auc:0.55798\n",
      "[5]\ttrain-auc:0.67609\teval-auc:0.56022\n",
      "[6]\ttrain-auc:0.67811\teval-auc:0.56190\n",
      "[7]\ttrain-auc:0.68032\teval-auc:0.56188\n",
      "[8]\ttrain-auc:0.67997\teval-auc:0.56121\n",
      "[9]\ttrain-auc:0.68013\teval-auc:0.56161\n",
      "finish training & evaluation for P092\n",
      "start training & evaluation for P049\n"
     ]
    },
    {
     "name": "stderr",
     "output_type": "stream",
     "text": [
      "/home/panyu/miniconda3/envs/sci-data/lib/python3.9/site-packages/xgboost/core.py:122: UserWarning: ntree_limit is deprecated, use `iteration_range` or model slicing instead.\n",
      "  warnings.warn(\n",
      "/home/panyu/miniconda3/envs/sci-data/lib/python3.9/site-packages/xgboost/core.py:122: UserWarning: ntree_limit is deprecated, use `iteration_range` or model slicing instead.\n",
      "  warnings.warn(\n"
     ]
    },
    {
     "name": "stdout",
     "output_type": "stream",
     "text": [
      "[0]\ttrain-auc:0.62416\teval-auc:0.55498\n",
      "[1]\ttrain-auc:0.63905\teval-auc:0.56388\n",
      "[2]\ttrain-auc:0.64068\teval-auc:0.56210\n",
      "[3]\ttrain-auc:0.63984\teval-auc:0.56274\n",
      "[4]\ttrain-auc:0.64357\teval-auc:0.56476\n",
      "[5]\ttrain-auc:0.64541\teval-auc:0.56396\n",
      "[6]\ttrain-auc:0.64696\teval-auc:0.56391\n",
      "[7]\ttrain-auc:0.64803\teval-auc:0.56441\n",
      "[8]\ttrain-auc:0.65052\teval-auc:0.56767\n",
      "[9]\ttrain-auc:0.65181\teval-auc:0.56741\n",
      "finish training & evaluation for P049\n",
      "start training & evaluation for P126\n"
     ]
    },
    {
     "name": "stderr",
     "output_type": "stream",
     "text": [
      "/home/panyu/miniconda3/envs/sci-data/lib/python3.9/site-packages/xgboost/core.py:122: UserWarning: ntree_limit is deprecated, use `iteration_range` or model slicing instead.\n",
      "  warnings.warn(\n",
      "/home/panyu/miniconda3/envs/sci-data/lib/python3.9/site-packages/xgboost/core.py:122: UserWarning: ntree_limit is deprecated, use `iteration_range` or model slicing instead.\n",
      "  warnings.warn(\n"
     ]
    },
    {
     "name": "stdout",
     "output_type": "stream",
     "text": [
      "[0]\ttrain-auc:0.62575\teval-auc:0.55655\n",
      "[1]\ttrain-auc:0.62680\teval-auc:0.56016\n",
      "[2]\ttrain-auc:0.63498\teval-auc:0.55972\n",
      "[3]\ttrain-auc:0.63512\teval-auc:0.56030\n",
      "[4]\ttrain-auc:0.63748\teval-auc:0.55961\n",
      "[5]\ttrain-auc:0.64079\teval-auc:0.56034\n",
      "[6]\ttrain-auc:0.64189\teval-auc:0.56040\n",
      "[7]\ttrain-auc:0.64387\teval-auc:0.56349\n",
      "[8]\ttrain-auc:0.64511\teval-auc:0.56369\n",
      "[9]\ttrain-auc:0.65105\teval-auc:0.56529\n",
      "finish training & evaluation for P126\n",
      "start training & evaluation for P040\n"
     ]
    },
    {
     "name": "stderr",
     "output_type": "stream",
     "text": [
      "/home/panyu/miniconda3/envs/sci-data/lib/python3.9/site-packages/xgboost/core.py:122: UserWarning: ntree_limit is deprecated, use `iteration_range` or model slicing instead.\n",
      "  warnings.warn(\n",
      "/home/panyu/miniconda3/envs/sci-data/lib/python3.9/site-packages/xgboost/core.py:122: UserWarning: ntree_limit is deprecated, use `iteration_range` or model slicing instead.\n",
      "  warnings.warn(\n"
     ]
    },
    {
     "name": "stdout",
     "output_type": "stream",
     "text": [
      "[0]\ttrain-auc:0.63253\teval-auc:0.55038\n",
      "[1]\ttrain-auc:0.63689\teval-auc:0.55053\n",
      "[2]\ttrain-auc:0.63670\teval-auc:0.55058\n",
      "[3]\ttrain-auc:0.63837\teval-auc:0.55155\n",
      "[4]\ttrain-auc:0.64036\teval-auc:0.55107\n",
      "[5]\ttrain-auc:0.64204\teval-auc:0.55288\n",
      "[6]\ttrain-auc:0.64768\teval-auc:0.55341\n",
      "[7]\ttrain-auc:0.65025\teval-auc:0.55600\n",
      "[8]\ttrain-auc:0.64860\teval-auc:0.55698\n",
      "[9]\ttrain-auc:0.65053\teval-auc:0.55782\n",
      "finish training & evaluation for P040\n",
      "start training & evaluation for P098\n"
     ]
    },
    {
     "name": "stderr",
     "output_type": "stream",
     "text": [
      "/home/panyu/miniconda3/envs/sci-data/lib/python3.9/site-packages/xgboost/core.py:122: UserWarning: ntree_limit is deprecated, use `iteration_range` or model slicing instead.\n",
      "  warnings.warn(\n",
      "/home/panyu/miniconda3/envs/sci-data/lib/python3.9/site-packages/xgboost/core.py:122: UserWarning: ntree_limit is deprecated, use `iteration_range` or model slicing instead.\n",
      "  warnings.warn(\n"
     ]
    },
    {
     "name": "stdout",
     "output_type": "stream",
     "text": [
      "[0]\ttrain-auc:0.63162\teval-auc:0.55346\n",
      "[1]\ttrain-auc:0.63376\teval-auc:0.55305\n",
      "[2]\ttrain-auc:0.63663\teval-auc:0.55444\n",
      "[3]\ttrain-auc:0.63645\teval-auc:0.55372\n",
      "[4]\ttrain-auc:0.63695\teval-auc:0.55414\n",
      "[5]\ttrain-auc:0.64043\teval-auc:0.55514\n",
      "[6]\ttrain-auc:0.65924\teval-auc:0.56006\n",
      "[7]\ttrain-auc:0.66048\teval-auc:0.56066\n",
      "[8]\ttrain-auc:0.66959\teval-auc:0.56271\n",
      "[9]\ttrain-auc:0.67420\teval-auc:0.56374\n",
      "finish training & evaluation for P098\n",
      "start training & evaluation for P078\n"
     ]
    },
    {
     "name": "stderr",
     "output_type": "stream",
     "text": [
      "/home/panyu/miniconda3/envs/sci-data/lib/python3.9/site-packages/xgboost/core.py:122: UserWarning: ntree_limit is deprecated, use `iteration_range` or model slicing instead.\n",
      "  warnings.warn(\n",
      "/home/panyu/miniconda3/envs/sci-data/lib/python3.9/site-packages/xgboost/core.py:122: UserWarning: ntree_limit is deprecated, use `iteration_range` or model slicing instead.\n",
      "  warnings.warn(\n"
     ]
    },
    {
     "name": "stdout",
     "output_type": "stream",
     "text": [
      "[0]\ttrain-auc:0.63351\teval-auc:0.55158\n",
      "[1]\ttrain-auc:0.64653\teval-auc:0.55086\n",
      "[2]\ttrain-auc:0.64544\teval-auc:0.55002\n",
      "[3]\ttrain-auc:0.64903\teval-auc:0.55516\n",
      "[4]\ttrain-auc:0.65066\teval-auc:0.55502\n",
      "[5]\ttrain-auc:0.65186\teval-auc:0.55642\n",
      "[6]\ttrain-auc:0.65230\teval-auc:0.55696\n",
      "[7]\ttrain-auc:0.65247\teval-auc:0.55708\n",
      "[8]\ttrain-auc:0.65270\teval-auc:0.55656\n",
      "[9]\ttrain-auc:0.65347\teval-auc:0.55694\n",
      "finish training & evaluation for P078\n",
      "start training & evaluation for P087\n"
     ]
    },
    {
     "name": "stderr",
     "output_type": "stream",
     "text": [
      "/home/panyu/miniconda3/envs/sci-data/lib/python3.9/site-packages/xgboost/core.py:122: UserWarning: ntree_limit is deprecated, use `iteration_range` or model slicing instead.\n",
      "  warnings.warn(\n",
      "/home/panyu/miniconda3/envs/sci-data/lib/python3.9/site-packages/xgboost/core.py:122: UserWarning: ntree_limit is deprecated, use `iteration_range` or model slicing instead.\n",
      "  warnings.warn(\n"
     ]
    },
    {
     "name": "stdout",
     "output_type": "stream",
     "text": [
      "[0]\ttrain-auc:0.63250\teval-auc:0.55559\n",
      "[1]\ttrain-auc:0.65320\teval-auc:0.55497\n",
      "[2]\ttrain-auc:0.68311\teval-auc:0.57174\n",
      "[3]\ttrain-auc:0.67711\teval-auc:0.56819\n",
      "[4]\ttrain-auc:0.67952\teval-auc:0.57139\n",
      "[5]\ttrain-auc:0.67895\teval-auc:0.56866\n",
      "[6]\ttrain-auc:0.68748\teval-auc:0.57417\n",
      "[7]\ttrain-auc:0.68598\teval-auc:0.57401\n",
      "[8]\ttrain-auc:0.68335\teval-auc:0.57364\n",
      "[9]\ttrain-auc:0.68803\teval-auc:0.57581\n",
      "finish training & evaluation for P087\n",
      "start training & evaluation for P042\n"
     ]
    },
    {
     "name": "stderr",
     "output_type": "stream",
     "text": [
      "/home/panyu/miniconda3/envs/sci-data/lib/python3.9/site-packages/xgboost/core.py:122: UserWarning: ntree_limit is deprecated, use `iteration_range` or model slicing instead.\n",
      "  warnings.warn(\n",
      "/home/panyu/miniconda3/envs/sci-data/lib/python3.9/site-packages/xgboost/core.py:122: UserWarning: ntree_limit is deprecated, use `iteration_range` or model slicing instead.\n",
      "  warnings.warn(\n"
     ]
    },
    {
     "name": "stdout",
     "output_type": "stream",
     "text": [
      "[0]\ttrain-auc:0.62621\teval-auc:0.55181\n",
      "[1]\ttrain-auc:0.63302\teval-auc:0.55730\n",
      "[2]\ttrain-auc:0.63349\teval-auc:0.55622\n",
      "[3]\ttrain-auc:0.64168\teval-auc:0.56221\n",
      "[4]\ttrain-auc:0.64372\teval-auc:0.56238\n",
      "[5]\ttrain-auc:0.64548\teval-auc:0.56293\n",
      "[6]\ttrain-auc:0.65243\teval-auc:0.56519\n",
      "[7]\ttrain-auc:0.66405\teval-auc:0.56942\n",
      "[8]\ttrain-auc:0.66952\teval-auc:0.57091\n",
      "[9]\ttrain-auc:0.67125\teval-auc:0.57186\n",
      "finish training & evaluation for P042\n",
      "start training & evaluation for P037\n"
     ]
    },
    {
     "name": "stderr",
     "output_type": "stream",
     "text": [
      "/home/panyu/miniconda3/envs/sci-data/lib/python3.9/site-packages/xgboost/core.py:122: UserWarning: ntree_limit is deprecated, use `iteration_range` or model slicing instead.\n",
      "  warnings.warn(\n",
      "/home/panyu/miniconda3/envs/sci-data/lib/python3.9/site-packages/xgboost/core.py:122: UserWarning: ntree_limit is deprecated, use `iteration_range` or model slicing instead.\n",
      "  warnings.warn(\n"
     ]
    },
    {
     "name": "stdout",
     "output_type": "stream",
     "text": [
      "[0]\ttrain-auc:0.63603\teval-auc:0.55784\n",
      "[1]\ttrain-auc:0.65019\teval-auc:0.56191\n",
      "[2]\ttrain-auc:0.64961\teval-auc:0.56080\n",
      "[3]\ttrain-auc:0.65117\teval-auc:0.56043\n",
      "[4]\ttrain-auc:0.65186\teval-auc:0.56045\n",
      "[5]\ttrain-auc:0.65519\teval-auc:0.55962\n",
      "[6]\ttrain-auc:0.66007\teval-auc:0.56413\n",
      "[7]\ttrain-auc:0.66073\teval-auc:0.56306\n",
      "[8]\ttrain-auc:0.66390\teval-auc:0.56597\n",
      "[9]\ttrain-auc:0.66837\teval-auc:0.56743\n",
      "finish training & evaluation for P037\n",
      "start training & evaluation for P045\n"
     ]
    },
    {
     "name": "stderr",
     "output_type": "stream",
     "text": [
      "/home/panyu/miniconda3/envs/sci-data/lib/python3.9/site-packages/xgboost/core.py:122: UserWarning: ntree_limit is deprecated, use `iteration_range` or model slicing instead.\n",
      "  warnings.warn(\n",
      "/home/panyu/miniconda3/envs/sci-data/lib/python3.9/site-packages/xgboost/core.py:122: UserWarning: ntree_limit is deprecated, use `iteration_range` or model slicing instead.\n",
      "  warnings.warn(\n"
     ]
    },
    {
     "name": "stdout",
     "output_type": "stream",
     "text": [
      "[0]\ttrain-auc:0.63570\teval-auc:0.55518\n",
      "[1]\ttrain-auc:0.63605\teval-auc:0.55560\n",
      "[2]\ttrain-auc:0.63653\teval-auc:0.55671\n",
      "[3]\ttrain-auc:0.63675\teval-auc:0.55595\n",
      "[4]\ttrain-auc:0.63734\teval-auc:0.55706\n",
      "[5]\ttrain-auc:0.64111\teval-auc:0.56000\n",
      "[6]\ttrain-auc:0.64145\teval-auc:0.55983\n",
      "[7]\ttrain-auc:0.64436\teval-auc:0.55953\n",
      "[8]\ttrain-auc:0.65273\teval-auc:0.56282\n",
      "[9]\ttrain-auc:0.66279\teval-auc:0.56413\n",
      "finish training & evaluation for P045\n",
      "start training & evaluation for P083\n"
     ]
    },
    {
     "name": "stderr",
     "output_type": "stream",
     "text": [
      "/home/panyu/miniconda3/envs/sci-data/lib/python3.9/site-packages/xgboost/core.py:122: UserWarning: ntree_limit is deprecated, use `iteration_range` or model slicing instead.\n",
      "  warnings.warn(\n",
      "/home/panyu/miniconda3/envs/sci-data/lib/python3.9/site-packages/xgboost/core.py:122: UserWarning: ntree_limit is deprecated, use `iteration_range` or model slicing instead.\n",
      "  warnings.warn(\n"
     ]
    },
    {
     "name": "stdout",
     "output_type": "stream",
     "text": [
      "[0]\ttrain-auc:0.63171\teval-auc:0.55413\n",
      "[1]\ttrain-auc:0.63316\teval-auc:0.55590\n",
      "[2]\ttrain-auc:0.63269\teval-auc:0.55674\n",
      "[3]\ttrain-auc:0.63384\teval-auc:0.55600\n",
      "[4]\ttrain-auc:0.63933\teval-auc:0.55904\n",
      "[5]\ttrain-auc:0.64086\teval-auc:0.56135\n",
      "[6]\ttrain-auc:0.64477\teval-auc:0.56225\n",
      "[7]\ttrain-auc:0.64526\teval-auc:0.56142\n",
      "[8]\ttrain-auc:0.64655\teval-auc:0.56220\n",
      "[9]\ttrain-auc:0.64689\teval-auc:0.56279\n",
      "finish training & evaluation for P083\n",
      "start training & evaluation for P070\n"
     ]
    },
    {
     "name": "stderr",
     "output_type": "stream",
     "text": [
      "/home/panyu/miniconda3/envs/sci-data/lib/python3.9/site-packages/xgboost/core.py:122: UserWarning: ntree_limit is deprecated, use `iteration_range` or model slicing instead.\n",
      "  warnings.warn(\n",
      "/home/panyu/miniconda3/envs/sci-data/lib/python3.9/site-packages/xgboost/core.py:122: UserWarning: ntree_limit is deprecated, use `iteration_range` or model slicing instead.\n",
      "  warnings.warn(\n"
     ]
    },
    {
     "name": "stdout",
     "output_type": "stream",
     "text": [
      "[0]\ttrain-auc:0.61890\teval-auc:0.55076\n",
      "[1]\ttrain-auc:0.63671\teval-auc:0.55719\n",
      "[2]\ttrain-auc:0.63889\teval-auc:0.55808\n",
      "[3]\ttrain-auc:0.63775\teval-auc:0.55874\n",
      "[4]\ttrain-auc:0.63674\teval-auc:0.55885\n",
      "[5]\ttrain-auc:0.63610\teval-auc:0.55980\n",
      "[6]\ttrain-auc:0.63609\teval-auc:0.55904\n",
      "[7]\ttrain-auc:0.63640\teval-auc:0.55797\n",
      "[8]\ttrain-auc:0.63695\teval-auc:0.55838\n",
      "[9]\ttrain-auc:0.63679\teval-auc:0.55893\n",
      "finish training & evaluation for P070\n",
      "start training & evaluation for P118\n"
     ]
    },
    {
     "name": "stderr",
     "output_type": "stream",
     "text": [
      "/home/panyu/miniconda3/envs/sci-data/lib/python3.9/site-packages/xgboost/core.py:122: UserWarning: ntree_limit is deprecated, use `iteration_range` or model slicing instead.\n",
      "  warnings.warn(\n",
      "/home/panyu/miniconda3/envs/sci-data/lib/python3.9/site-packages/xgboost/core.py:122: UserWarning: ntree_limit is deprecated, use `iteration_range` or model slicing instead.\n",
      "  warnings.warn(\n"
     ]
    },
    {
     "name": "stdout",
     "output_type": "stream",
     "text": [
      "[0]\ttrain-auc:0.61823\teval-auc:0.54991\n",
      "[1]\ttrain-auc:0.63849\teval-auc:0.55646\n",
      "[2]\ttrain-auc:0.64430\teval-auc:0.55658\n",
      "[3]\ttrain-auc:0.64502\teval-auc:0.55948\n",
      "[4]\ttrain-auc:0.65478\teval-auc:0.55790\n",
      "[5]\ttrain-auc:0.65457\teval-auc:0.55955\n",
      "[6]\ttrain-auc:0.65776\teval-auc:0.55894\n",
      "[7]\ttrain-auc:0.65786\teval-auc:0.55943\n",
      "[8]\ttrain-auc:0.65928\teval-auc:0.55970\n",
      "[9]\ttrain-auc:0.67481\teval-auc:0.56491\n",
      "finish training & evaluation for P118\n",
      "start training & evaluation for P043\n"
     ]
    },
    {
     "name": "stderr",
     "output_type": "stream",
     "text": [
      "/home/panyu/miniconda3/envs/sci-data/lib/python3.9/site-packages/xgboost/core.py:122: UserWarning: ntree_limit is deprecated, use `iteration_range` or model slicing instead.\n",
      "  warnings.warn(\n",
      "/home/panyu/miniconda3/envs/sci-data/lib/python3.9/site-packages/xgboost/core.py:122: UserWarning: ntree_limit is deprecated, use `iteration_range` or model slicing instead.\n",
      "  warnings.warn(\n"
     ]
    },
    {
     "name": "stdout",
     "output_type": "stream",
     "text": [
      "[0]\ttrain-auc:0.62582\teval-auc:0.54359\n",
      "[1]\ttrain-auc:0.62631\teval-auc:0.54277\n",
      "[2]\ttrain-auc:0.62694\teval-auc:0.54510\n",
      "[3]\ttrain-auc:0.63713\teval-auc:0.54615\n",
      "[4]\ttrain-auc:0.64770\teval-auc:0.55507\n",
      "[5]\ttrain-auc:0.65166\teval-auc:0.55764\n",
      "[6]\ttrain-auc:0.65347\teval-auc:0.55757\n",
      "[7]\ttrain-auc:0.66263\teval-auc:0.56001\n",
      "[8]\ttrain-auc:0.66405\teval-auc:0.56014\n",
      "[9]\ttrain-auc:0.66504\teval-auc:0.55932\n",
      "finish training & evaluation for P043\n",
      "start training & evaluation for P122\n"
     ]
    },
    {
     "name": "stderr",
     "output_type": "stream",
     "text": [
      "/home/panyu/miniconda3/envs/sci-data/lib/python3.9/site-packages/xgboost/core.py:122: UserWarning: ntree_limit is deprecated, use `iteration_range` or model slicing instead.\n",
      "  warnings.warn(\n",
      "/home/panyu/miniconda3/envs/sci-data/lib/python3.9/site-packages/xgboost/core.py:122: UserWarning: ntree_limit is deprecated, use `iteration_range` or model slicing instead.\n",
      "  warnings.warn(\n"
     ]
    },
    {
     "name": "stdout",
     "output_type": "stream",
     "text": [
      "[0]\ttrain-auc:0.63464\teval-auc:0.55314\n",
      "[1]\ttrain-auc:0.64784\teval-auc:0.55797\n",
      "[2]\ttrain-auc:0.64704\teval-auc:0.56063\n",
      "[3]\ttrain-auc:0.64970\teval-auc:0.55897\n",
      "[4]\ttrain-auc:0.65028\teval-auc:0.55943\n",
      "[5]\ttrain-auc:0.65244\teval-auc:0.56391\n",
      "[6]\ttrain-auc:0.65456\teval-auc:0.56352\n",
      "[7]\ttrain-auc:0.65543\teval-auc:0.56587\n",
      "[8]\ttrain-auc:0.65543\teval-auc:0.56721\n",
      "[9]\ttrain-auc:0.66334\teval-auc:0.57151\n",
      "finish training & evaluation for P122\n",
      "start training & evaluation for P077\n"
     ]
    },
    {
     "name": "stderr",
     "output_type": "stream",
     "text": [
      "/home/panyu/miniconda3/envs/sci-data/lib/python3.9/site-packages/xgboost/core.py:122: UserWarning: ntree_limit is deprecated, use `iteration_range` or model slicing instead.\n",
      "  warnings.warn(\n",
      "/home/panyu/miniconda3/envs/sci-data/lib/python3.9/site-packages/xgboost/core.py:122: UserWarning: ntree_limit is deprecated, use `iteration_range` or model slicing instead.\n",
      "  warnings.warn(\n"
     ]
    },
    {
     "name": "stdout",
     "output_type": "stream",
     "text": [
      "[0]\ttrain-auc:0.63331\teval-auc:0.54146\n",
      "[1]\ttrain-auc:0.63372\teval-auc:0.54153\n",
      "[2]\ttrain-auc:0.63406\teval-auc:0.54228\n",
      "[3]\ttrain-auc:0.64368\teval-auc:0.54540\n",
      "[4]\ttrain-auc:0.64421\teval-auc:0.54550\n",
      "[5]\ttrain-auc:0.64714\teval-auc:0.54685\n",
      "[6]\ttrain-auc:0.64697\teval-auc:0.54741\n",
      "[7]\ttrain-auc:0.65125\teval-auc:0.54857\n",
      "[8]\ttrain-auc:0.65253\teval-auc:0.54941\n",
      "[9]\ttrain-auc:0.65319\teval-auc:0.55004\n",
      "finish training & evaluation for P077\n",
      "start training & evaluation for P121\n"
     ]
    },
    {
     "name": "stderr",
     "output_type": "stream",
     "text": [
      "/home/panyu/miniconda3/envs/sci-data/lib/python3.9/site-packages/xgboost/core.py:122: UserWarning: ntree_limit is deprecated, use `iteration_range` or model slicing instead.\n",
      "  warnings.warn(\n",
      "/home/panyu/miniconda3/envs/sci-data/lib/python3.9/site-packages/xgboost/core.py:122: UserWarning: ntree_limit is deprecated, use `iteration_range` or model slicing instead.\n",
      "  warnings.warn(\n"
     ]
    },
    {
     "name": "stdout",
     "output_type": "stream",
     "text": [
      "[0]\ttrain-auc:0.63150\teval-auc:0.55546\n",
      "[1]\ttrain-auc:0.63261\teval-auc:0.55800\n",
      "[2]\ttrain-auc:0.63359\teval-auc:0.55992\n",
      "[3]\ttrain-auc:0.63972\teval-auc:0.56279\n",
      "[4]\ttrain-auc:0.64026\teval-auc:0.56318\n",
      "[5]\ttrain-auc:0.64197\teval-auc:0.56541\n",
      "[6]\ttrain-auc:0.64476\teval-auc:0.56496\n",
      "[7]\ttrain-auc:0.64613\teval-auc:0.56481\n",
      "[8]\ttrain-auc:0.64658\teval-auc:0.56566\n",
      "[9]\ttrain-auc:0.64786\teval-auc:0.56587\n",
      "finish training & evaluation for P121\n",
      "start training & evaluation for P109\n"
     ]
    },
    {
     "name": "stderr",
     "output_type": "stream",
     "text": [
      "/home/panyu/miniconda3/envs/sci-data/lib/python3.9/site-packages/xgboost/core.py:122: UserWarning: ntree_limit is deprecated, use `iteration_range` or model slicing instead.\n",
      "  warnings.warn(\n",
      "/home/panyu/miniconda3/envs/sci-data/lib/python3.9/site-packages/xgboost/core.py:122: UserWarning: ntree_limit is deprecated, use `iteration_range` or model slicing instead.\n",
      "  warnings.warn(\n"
     ]
    },
    {
     "name": "stdout",
     "output_type": "stream",
     "text": [
      "[0]\ttrain-auc:0.63381\teval-auc:0.54338\n",
      "[1]\ttrain-auc:0.63380\teval-auc:0.54353\n",
      "[2]\ttrain-auc:0.63599\teval-auc:0.54525\n",
      "[3]\ttrain-auc:0.65862\teval-auc:0.55817\n",
      "[4]\ttrain-auc:0.65920\teval-auc:0.55669\n",
      "[5]\ttrain-auc:0.66336\teval-auc:0.56000\n",
      "[6]\ttrain-auc:0.66308\teval-auc:0.56023\n",
      "[7]\ttrain-auc:0.67132\teval-auc:0.56401\n",
      "[8]\ttrain-auc:0.67310\teval-auc:0.56524\n",
      "[9]\ttrain-auc:0.67644\teval-auc:0.56647\n",
      "finish training & evaluation for P109\n",
      "start training & evaluation for P123\n"
     ]
    },
    {
     "name": "stderr",
     "output_type": "stream",
     "text": [
      "/home/panyu/miniconda3/envs/sci-data/lib/python3.9/site-packages/xgboost/core.py:122: UserWarning: ntree_limit is deprecated, use `iteration_range` or model slicing instead.\n",
      "  warnings.warn(\n",
      "/home/panyu/miniconda3/envs/sci-data/lib/python3.9/site-packages/xgboost/core.py:122: UserWarning: ntree_limit is deprecated, use `iteration_range` or model slicing instead.\n",
      "  warnings.warn(\n"
     ]
    },
    {
     "name": "stdout",
     "output_type": "stream",
     "text": [
      "[0]\ttrain-auc:0.63499\teval-auc:0.55469\n",
      "[1]\ttrain-auc:0.63812\teval-auc:0.55886\n",
      "[2]\ttrain-auc:0.63833\teval-auc:0.56018\n",
      "[3]\ttrain-auc:0.63887\teval-auc:0.56193\n",
      "[4]\ttrain-auc:0.64128\teval-auc:0.56378\n",
      "[5]\ttrain-auc:0.66335\teval-auc:0.57213\n",
      "[6]\ttrain-auc:0.66034\teval-auc:0.57042\n",
      "[7]\ttrain-auc:0.66925\teval-auc:0.57378\n",
      "[8]\ttrain-auc:0.67415\teval-auc:0.57648\n",
      "[9]\ttrain-auc:0.67329\teval-auc:0.57616\n",
      "finish training & evaluation for P123\n",
      "start training & evaluation for P013\n"
     ]
    },
    {
     "name": "stderr",
     "output_type": "stream",
     "text": [
      "/home/panyu/miniconda3/envs/sci-data/lib/python3.9/site-packages/xgboost/core.py:122: UserWarning: ntree_limit is deprecated, use `iteration_range` or model slicing instead.\n",
      "  warnings.warn(\n",
      "/home/panyu/miniconda3/envs/sci-data/lib/python3.9/site-packages/xgboost/core.py:122: UserWarning: ntree_limit is deprecated, use `iteration_range` or model slicing instead.\n",
      "  warnings.warn(\n"
     ]
    },
    {
     "name": "stdout",
     "output_type": "stream",
     "text": [
      "[0]\ttrain-auc:0.63230\teval-auc:0.53907\n",
      "[1]\ttrain-auc:0.63354\teval-auc:0.54027\n",
      "[2]\ttrain-auc:0.63811\teval-auc:0.53969\n",
      "[3]\ttrain-auc:0.65049\teval-auc:0.54381\n",
      "[4]\ttrain-auc:0.65147\teval-auc:0.54451\n",
      "[5]\ttrain-auc:0.65540\teval-auc:0.54712\n",
      "[6]\ttrain-auc:0.65678\teval-auc:0.54552\n",
      "[7]\ttrain-auc:0.66653\teval-auc:0.55126\n",
      "[8]\ttrain-auc:0.66632\teval-auc:0.55051\n",
      "[9]\ttrain-auc:0.66808\teval-auc:0.55047\n",
      "finish training & evaluation for P013\n",
      "start training & evaluation for P064\n"
     ]
    },
    {
     "name": "stderr",
     "output_type": "stream",
     "text": [
      "/home/panyu/miniconda3/envs/sci-data/lib/python3.9/site-packages/xgboost/core.py:122: UserWarning: ntree_limit is deprecated, use `iteration_range` or model slicing instead.\n",
      "  warnings.warn(\n",
      "/home/panyu/miniconda3/envs/sci-data/lib/python3.9/site-packages/xgboost/core.py:122: UserWarning: ntree_limit is deprecated, use `iteration_range` or model slicing instead.\n",
      "  warnings.warn(\n"
     ]
    },
    {
     "name": "stdout",
     "output_type": "stream",
     "text": [
      "[0]\ttrain-auc:0.62578\teval-auc:0.54601\n",
      "[1]\ttrain-auc:0.62762\teval-auc:0.54642\n",
      "[2]\ttrain-auc:0.63539\teval-auc:0.54908\n",
      "[3]\ttrain-auc:0.63432\teval-auc:0.55023\n",
      "[4]\ttrain-auc:0.63899\teval-auc:0.54807\n",
      "[5]\ttrain-auc:0.64161\teval-auc:0.54913\n",
      "[6]\ttrain-auc:0.64381\teval-auc:0.54881\n",
      "[7]\ttrain-auc:0.64485\teval-auc:0.54666\n",
      "[8]\ttrain-auc:0.64924\teval-auc:0.55076\n",
      "[9]\ttrain-auc:0.65174\teval-auc:0.55121\n",
      "finish training & evaluation for P064\n",
      "start training & evaluation for P058\n"
     ]
    },
    {
     "name": "stderr",
     "output_type": "stream",
     "text": [
      "/home/panyu/miniconda3/envs/sci-data/lib/python3.9/site-packages/xgboost/core.py:122: UserWarning: ntree_limit is deprecated, use `iteration_range` or model slicing instead.\n",
      "  warnings.warn(\n",
      "/home/panyu/miniconda3/envs/sci-data/lib/python3.9/site-packages/xgboost/core.py:122: UserWarning: ntree_limit is deprecated, use `iteration_range` or model slicing instead.\n",
      "  warnings.warn(\n"
     ]
    },
    {
     "name": "stdout",
     "output_type": "stream",
     "text": [
      "[0]\ttrain-auc:0.62457\teval-auc:0.54647\n",
      "[1]\ttrain-auc:0.65130\teval-auc:0.56186\n",
      "[2]\ttrain-auc:0.66079\teval-auc:0.56337\n",
      "[3]\ttrain-auc:0.68074\teval-auc:0.57247\n",
      "[4]\ttrain-auc:0.68388\teval-auc:0.56956\n",
      "[5]\ttrain-auc:0.68623\teval-auc:0.57254\n",
      "[6]\ttrain-auc:0.68673\teval-auc:0.57144\n",
      "[7]\ttrain-auc:0.68786\teval-auc:0.57151\n",
      "[8]\ttrain-auc:0.68874\teval-auc:0.57166\n",
      "[9]\ttrain-auc:0.68853\teval-auc:0.57122\n",
      "finish training & evaluation for P058\n",
      "start training & evaluation for P095\n"
     ]
    },
    {
     "name": "stderr",
     "output_type": "stream",
     "text": [
      "/home/panyu/miniconda3/envs/sci-data/lib/python3.9/site-packages/xgboost/core.py:122: UserWarning: ntree_limit is deprecated, use `iteration_range` or model slicing instead.\n",
      "  warnings.warn(\n",
      "/home/panyu/miniconda3/envs/sci-data/lib/python3.9/site-packages/xgboost/core.py:122: UserWarning: ntree_limit is deprecated, use `iteration_range` or model slicing instead.\n",
      "  warnings.warn(\n"
     ]
    },
    {
     "name": "stdout",
     "output_type": "stream",
     "text": [
      "[0]\ttrain-auc:0.63721\teval-auc:0.55232\n",
      "[1]\ttrain-auc:0.63789\teval-auc:0.55681\n",
      "[2]\ttrain-auc:0.66994\teval-auc:0.56462\n",
      "[3]\ttrain-auc:0.66851\teval-auc:0.56163\n",
      "[4]\ttrain-auc:0.67619\teval-auc:0.56453\n",
      "[5]\ttrain-auc:0.67694\teval-auc:0.56455\n",
      "[6]\ttrain-auc:0.67968\teval-auc:0.56521\n",
      "[7]\ttrain-auc:0.68150\teval-auc:0.56632\n",
      "[8]\ttrain-auc:0.68434\teval-auc:0.56753\n",
      "[9]\ttrain-auc:0.68503\teval-auc:0.56661\n",
      "finish training & evaluation for P095\n",
      "start training & evaluation for P116\n"
     ]
    },
    {
     "name": "stderr",
     "output_type": "stream",
     "text": [
      "/home/panyu/miniconda3/envs/sci-data/lib/python3.9/site-packages/xgboost/core.py:122: UserWarning: ntree_limit is deprecated, use `iteration_range` or model slicing instead.\n",
      "  warnings.warn(\n",
      "/home/panyu/miniconda3/envs/sci-data/lib/python3.9/site-packages/xgboost/core.py:122: UserWarning: ntree_limit is deprecated, use `iteration_range` or model slicing instead.\n",
      "  warnings.warn(\n"
     ]
    },
    {
     "name": "stdout",
     "output_type": "stream",
     "text": [
      "[0]\ttrain-auc:0.63145\teval-auc:0.54944\n",
      "[1]\ttrain-auc:0.63199\teval-auc:0.54967\n",
      "[2]\ttrain-auc:0.63296\teval-auc:0.54999\n",
      "[3]\ttrain-auc:0.63462\teval-auc:0.55215\n",
      "[4]\ttrain-auc:0.63667\teval-auc:0.55252\n",
      "[5]\ttrain-auc:0.63838\teval-auc:0.55361\n",
      "[6]\ttrain-auc:0.64488\teval-auc:0.55548\n",
      "[7]\ttrain-auc:0.64693\teval-auc:0.55678\n",
      "[8]\ttrain-auc:0.64938\teval-auc:0.55899\n",
      "[9]\ttrain-auc:0.65124\teval-auc:0.56034\n",
      "finish training & evaluation for P116\n",
      "start training & evaluation for P099\n"
     ]
    },
    {
     "name": "stderr",
     "output_type": "stream",
     "text": [
      "/home/panyu/miniconda3/envs/sci-data/lib/python3.9/site-packages/xgboost/core.py:122: UserWarning: ntree_limit is deprecated, use `iteration_range` or model slicing instead.\n",
      "  warnings.warn(\n",
      "/home/panyu/miniconda3/envs/sci-data/lib/python3.9/site-packages/xgboost/core.py:122: UserWarning: ntree_limit is deprecated, use `iteration_range` or model slicing instead.\n",
      "  warnings.warn(\n"
     ]
    },
    {
     "name": "stdout",
     "output_type": "stream",
     "text": [
      "[0]\ttrain-auc:0.62886\teval-auc:0.55269\n",
      "[1]\ttrain-auc:0.63452\teval-auc:0.55674\n",
      "[2]\ttrain-auc:0.66343\teval-auc:0.56135\n",
      "[3]\ttrain-auc:0.66043\teval-auc:0.56035\n",
      "[4]\ttrain-auc:0.66775\teval-auc:0.56081\n",
      "[5]\ttrain-auc:0.67924\teval-auc:0.56564\n",
      "[6]\ttrain-auc:0.68222\teval-auc:0.56553\n",
      "[7]\ttrain-auc:0.68525\teval-auc:0.56536\n",
      "[8]\ttrain-auc:0.68877\teval-auc:0.56800\n",
      "[9]\ttrain-auc:0.69388\teval-auc:0.57169\n",
      "finish training & evaluation for P099\n",
      "start training & evaluation for P084\n"
     ]
    },
    {
     "name": "stderr",
     "output_type": "stream",
     "text": [
      "/home/panyu/miniconda3/envs/sci-data/lib/python3.9/site-packages/xgboost/core.py:122: UserWarning: ntree_limit is deprecated, use `iteration_range` or model slicing instead.\n",
      "  warnings.warn(\n",
      "/home/panyu/miniconda3/envs/sci-data/lib/python3.9/site-packages/xgboost/core.py:122: UserWarning: ntree_limit is deprecated, use `iteration_range` or model slicing instead.\n",
      "  warnings.warn(\n"
     ]
    },
    {
     "name": "stdout",
     "output_type": "stream",
     "text": [
      "[0]\ttrain-auc:0.62485\teval-auc:0.54796\n",
      "[1]\ttrain-auc:0.62665\teval-auc:0.55044\n",
      "[2]\ttrain-auc:0.64235\teval-auc:0.55647\n",
      "[3]\ttrain-auc:0.66092\teval-auc:0.56272\n",
      "[4]\ttrain-auc:0.65875\teval-auc:0.56081\n",
      "[5]\ttrain-auc:0.66665\teval-auc:0.56649\n",
      "[6]\ttrain-auc:0.66891\teval-auc:0.56923\n",
      "[7]\ttrain-auc:0.66793\teval-auc:0.56637\n",
      "[8]\ttrain-auc:0.67262\teval-auc:0.56840\n",
      "[9]\ttrain-auc:0.68168\teval-auc:0.56920\n",
      "finish training & evaluation for P084\n",
      "start training & evaluation for P010\n"
     ]
    },
    {
     "name": "stderr",
     "output_type": "stream",
     "text": [
      "/home/panyu/miniconda3/envs/sci-data/lib/python3.9/site-packages/xgboost/core.py:122: UserWarning: ntree_limit is deprecated, use `iteration_range` or model slicing instead.\n",
      "  warnings.warn(\n",
      "/home/panyu/miniconda3/envs/sci-data/lib/python3.9/site-packages/xgboost/core.py:122: UserWarning: ntree_limit is deprecated, use `iteration_range` or model slicing instead.\n",
      "  warnings.warn(\n"
     ]
    },
    {
     "name": "stdout",
     "output_type": "stream",
     "text": [
      "[0]\ttrain-auc:0.62925\teval-auc:0.54265\n",
      "[1]\ttrain-auc:0.63050\teval-auc:0.54386\n",
      "[2]\ttrain-auc:0.63668\teval-auc:0.54904\n",
      "[3]\ttrain-auc:0.64516\teval-auc:0.54989\n",
      "[4]\ttrain-auc:0.65584\teval-auc:0.55719\n",
      "[5]\ttrain-auc:0.65676\teval-auc:0.55760\n",
      "[6]\ttrain-auc:0.66163\teval-auc:0.56062\n",
      "[7]\ttrain-auc:0.66332\teval-auc:0.55917\n",
      "[8]\ttrain-auc:0.66591\teval-auc:0.56022\n",
      "[9]\ttrain-auc:0.66894\teval-auc:0.56247\n",
      "finish training & evaluation for P010\n",
      "start training & evaluation for P020\n"
     ]
    },
    {
     "name": "stderr",
     "output_type": "stream",
     "text": [
      "/home/panyu/miniconda3/envs/sci-data/lib/python3.9/site-packages/xgboost/core.py:122: UserWarning: ntree_limit is deprecated, use `iteration_range` or model slicing instead.\n",
      "  warnings.warn(\n",
      "/home/panyu/miniconda3/envs/sci-data/lib/python3.9/site-packages/xgboost/core.py:122: UserWarning: ntree_limit is deprecated, use `iteration_range` or model slicing instead.\n",
      "  warnings.warn(\n"
     ]
    },
    {
     "name": "stdout",
     "output_type": "stream",
     "text": [
      "[0]\ttrain-auc:0.62857\teval-auc:0.53842\n",
      "[1]\ttrain-auc:0.62925\teval-auc:0.54149\n",
      "[2]\ttrain-auc:0.63297\teval-auc:0.54258\n",
      "[3]\ttrain-auc:0.63415\teval-auc:0.54395\n",
      "[4]\ttrain-auc:0.63905\teval-auc:0.54308\n",
      "[5]\ttrain-auc:0.64180\teval-auc:0.54478\n",
      "[6]\ttrain-auc:0.64555\teval-auc:0.54780\n",
      "[7]\ttrain-auc:0.64585\teval-auc:0.54754\n",
      "[8]\ttrain-auc:0.64601\teval-auc:0.54783\n",
      "[9]\ttrain-auc:0.64677\teval-auc:0.54769\n",
      "finish training & evaluation for P020\n",
      "start training & evaluation for P067\n"
     ]
    },
    {
     "name": "stderr",
     "output_type": "stream",
     "text": [
      "/home/panyu/miniconda3/envs/sci-data/lib/python3.9/site-packages/xgboost/core.py:122: UserWarning: ntree_limit is deprecated, use `iteration_range` or model slicing instead.\n",
      "  warnings.warn(\n",
      "/home/panyu/miniconda3/envs/sci-data/lib/python3.9/site-packages/xgboost/core.py:122: UserWarning: ntree_limit is deprecated, use `iteration_range` or model slicing instead.\n",
      "  warnings.warn(\n"
     ]
    },
    {
     "name": "stdout",
     "output_type": "stream",
     "text": [
      "[0]\ttrain-auc:0.63188\teval-auc:0.55596\n",
      "[1]\ttrain-auc:0.63360\teval-auc:0.55667\n",
      "[2]\ttrain-auc:0.63778\teval-auc:0.55804\n",
      "[3]\ttrain-auc:0.63955\teval-auc:0.55733\n",
      "[4]\ttrain-auc:0.64219\teval-auc:0.56070\n",
      "[5]\ttrain-auc:0.64370\teval-auc:0.56249\n",
      "[6]\ttrain-auc:0.64604\teval-auc:0.56281\n",
      "[7]\ttrain-auc:0.64792\teval-auc:0.56409\n",
      "[8]\ttrain-auc:0.64825\teval-auc:0.56401\n",
      "[9]\ttrain-auc:0.65730\teval-auc:0.56783\n",
      "finish training & evaluation for P067\n",
      "start training & evaluation for P018\n"
     ]
    },
    {
     "name": "stderr",
     "output_type": "stream",
     "text": [
      "/home/panyu/miniconda3/envs/sci-data/lib/python3.9/site-packages/xgboost/core.py:122: UserWarning: ntree_limit is deprecated, use `iteration_range` or model slicing instead.\n",
      "  warnings.warn(\n",
      "/home/panyu/miniconda3/envs/sci-data/lib/python3.9/site-packages/xgboost/core.py:122: UserWarning: ntree_limit is deprecated, use `iteration_range` or model slicing instead.\n",
      "  warnings.warn(\n"
     ]
    },
    {
     "name": "stdout",
     "output_type": "stream",
     "text": [
      "[0]\ttrain-auc:0.63851\teval-auc:0.56446\n",
      "[1]\ttrain-auc:0.64231\teval-auc:0.56917\n",
      "[2]\ttrain-auc:0.65662\teval-auc:0.57855\n",
      "[3]\ttrain-auc:0.68149\teval-auc:0.58722\n",
      "[4]\ttrain-auc:0.69353\teval-auc:0.58598\n",
      "[5]\ttrain-auc:0.69369\teval-auc:0.58779\n",
      "[6]\ttrain-auc:0.69772\teval-auc:0.58917\n",
      "[7]\ttrain-auc:0.69580\teval-auc:0.58979\n",
      "[8]\ttrain-auc:0.70036\teval-auc:0.58878\n",
      "[9]\ttrain-auc:0.70211\teval-auc:0.58886\n",
      "finish training & evaluation for P018\n",
      "start training & evaluation for P110\n"
     ]
    },
    {
     "name": "stderr",
     "output_type": "stream",
     "text": [
      "/home/panyu/miniconda3/envs/sci-data/lib/python3.9/site-packages/xgboost/core.py:122: UserWarning: ntree_limit is deprecated, use `iteration_range` or model slicing instead.\n",
      "  warnings.warn(\n",
      "/home/panyu/miniconda3/envs/sci-data/lib/python3.9/site-packages/xgboost/core.py:122: UserWarning: ntree_limit is deprecated, use `iteration_range` or model slicing instead.\n",
      "  warnings.warn(\n"
     ]
    },
    {
     "name": "stdout",
     "output_type": "stream",
     "text": [
      "[0]\ttrain-auc:0.64958\teval-auc:0.56398\n",
      "[1]\ttrain-auc:0.65211\teval-auc:0.56375\n",
      "[2]\ttrain-auc:0.65566\teval-auc:0.56737\n",
      "[3]\ttrain-auc:0.65704\teval-auc:0.56619\n",
      "[4]\ttrain-auc:0.65723\teval-auc:0.56763\n",
      "[5]\ttrain-auc:0.65926\teval-auc:0.56744\n",
      "[6]\ttrain-auc:0.66169\teval-auc:0.56870\n",
      "[7]\ttrain-auc:0.66607\teval-auc:0.57086\n",
      "[8]\ttrain-auc:0.66975\teval-auc:0.57322\n",
      "[9]\ttrain-auc:0.67172\teval-auc:0.57258\n",
      "finish training & evaluation for P110\n",
      "start training & evaluation for P021\n"
     ]
    },
    {
     "name": "stderr",
     "output_type": "stream",
     "text": [
      "/home/panyu/miniconda3/envs/sci-data/lib/python3.9/site-packages/xgboost/core.py:122: UserWarning: ntree_limit is deprecated, use `iteration_range` or model slicing instead.\n",
      "  warnings.warn(\n",
      "/home/panyu/miniconda3/envs/sci-data/lib/python3.9/site-packages/xgboost/core.py:122: UserWarning: ntree_limit is deprecated, use `iteration_range` or model slicing instead.\n",
      "  warnings.warn(\n"
     ]
    },
    {
     "name": "stdout",
     "output_type": "stream",
     "text": [
      "[0]\ttrain-auc:0.63911\teval-auc:0.55672\n",
      "[1]\ttrain-auc:0.64078\teval-auc:0.55976\n",
      "[2]\ttrain-auc:0.64521\teval-auc:0.56203\n",
      "[3]\ttrain-auc:0.64749\teval-auc:0.56428\n",
      "[4]\ttrain-auc:0.65581\teval-auc:0.57014\n",
      "[5]\ttrain-auc:0.66213\teval-auc:0.57069\n",
      "[6]\ttrain-auc:0.68104\teval-auc:0.57891\n",
      "[7]\ttrain-auc:0.67937\teval-auc:0.57900\n",
      "[8]\ttrain-auc:0.67835\teval-auc:0.57828\n",
      "[9]\ttrain-auc:0.68542\teval-auc:0.57871\n",
      "finish training & evaluation for P021\n",
      "start training & evaluation for P091\n"
     ]
    },
    {
     "name": "stderr",
     "output_type": "stream",
     "text": [
      "/home/panyu/miniconda3/envs/sci-data/lib/python3.9/site-packages/xgboost/core.py:122: UserWarning: ntree_limit is deprecated, use `iteration_range` or model slicing instead.\n",
      "  warnings.warn(\n",
      "/home/panyu/miniconda3/envs/sci-data/lib/python3.9/site-packages/xgboost/core.py:122: UserWarning: ntree_limit is deprecated, use `iteration_range` or model slicing instead.\n",
      "  warnings.warn(\n"
     ]
    },
    {
     "name": "stdout",
     "output_type": "stream",
     "text": [
      "[0]\ttrain-auc:0.63568\teval-auc:0.54997\n",
      "[1]\ttrain-auc:0.64113\teval-auc:0.55313\n",
      "[2]\ttrain-auc:0.64161\teval-auc:0.55406\n",
      "[3]\ttrain-auc:0.64855\teval-auc:0.55585\n",
      "[4]\ttrain-auc:0.64845\teval-auc:0.55642\n",
      "[5]\ttrain-auc:0.65371\teval-auc:0.55754\n",
      "[6]\ttrain-auc:0.65481\teval-auc:0.55655\n",
      "[7]\ttrain-auc:0.65692\teval-auc:0.55732\n",
      "[8]\ttrain-auc:0.65634\teval-auc:0.55626\n",
      "[9]\ttrain-auc:0.65784\teval-auc:0.55729\n",
      "finish training & evaluation for P091\n",
      "start training & evaluation for P001\n"
     ]
    },
    {
     "name": "stderr",
     "output_type": "stream",
     "text": [
      "/home/panyu/miniconda3/envs/sci-data/lib/python3.9/site-packages/xgboost/core.py:122: UserWarning: ntree_limit is deprecated, use `iteration_range` or model slicing instead.\n",
      "  warnings.warn(\n",
      "/home/panyu/miniconda3/envs/sci-data/lib/python3.9/site-packages/xgboost/core.py:122: UserWarning: ntree_limit is deprecated, use `iteration_range` or model slicing instead.\n",
      "  warnings.warn(\n"
     ]
    },
    {
     "name": "stdout",
     "output_type": "stream",
     "text": [
      "[0]\ttrain-auc:0.63540\teval-auc:0.54026\n",
      "[1]\ttrain-auc:0.63670\teval-auc:0.54291\n",
      "[2]\ttrain-auc:0.63851\teval-auc:0.54519\n",
      "[3]\ttrain-auc:0.63989\teval-auc:0.54567\n",
      "[4]\ttrain-auc:0.64267\teval-auc:0.54660\n",
      "[5]\ttrain-auc:0.64623\teval-auc:0.55405\n",
      "[6]\ttrain-auc:0.66866\teval-auc:0.55888\n",
      "[7]\ttrain-auc:0.66967\teval-auc:0.55801\n",
      "[8]\ttrain-auc:0.68230\teval-auc:0.56217\n",
      "[9]\ttrain-auc:0.68082\teval-auc:0.56153\n",
      "finish training & evaluation for P001\n",
      "start training & evaluation for P086\n"
     ]
    },
    {
     "name": "stderr",
     "output_type": "stream",
     "text": [
      "/home/panyu/miniconda3/envs/sci-data/lib/python3.9/site-packages/xgboost/core.py:122: UserWarning: ntree_limit is deprecated, use `iteration_range` or model slicing instead.\n",
      "  warnings.warn(\n",
      "/home/panyu/miniconda3/envs/sci-data/lib/python3.9/site-packages/xgboost/core.py:122: UserWarning: ntree_limit is deprecated, use `iteration_range` or model slicing instead.\n",
      "  warnings.warn(\n"
     ]
    },
    {
     "name": "stdout",
     "output_type": "stream",
     "text": [
      "[0]\ttrain-auc:0.63796\teval-auc:0.55952\n",
      "[1]\ttrain-auc:0.63855\teval-auc:0.55927\n",
      "[2]\ttrain-auc:0.64076\teval-auc:0.55846\n",
      "[3]\ttrain-auc:0.66082\teval-auc:0.56278\n",
      "[4]\ttrain-auc:0.66054\teval-auc:0.56247\n",
      "[5]\ttrain-auc:0.66981\teval-auc:0.56649\n",
      "[6]\ttrain-auc:0.67297\teval-auc:0.56653\n",
      "[7]\ttrain-auc:0.67739\teval-auc:0.56922\n",
      "[8]\ttrain-auc:0.67832\teval-auc:0.56893\n",
      "[9]\ttrain-auc:0.68156\teval-auc:0.56942\n",
      "finish training & evaluation for P086\n",
      "start training & evaluation for P054\n"
     ]
    },
    {
     "name": "stderr",
     "output_type": "stream",
     "text": [
      "/home/panyu/miniconda3/envs/sci-data/lib/python3.9/site-packages/xgboost/core.py:122: UserWarning: ntree_limit is deprecated, use `iteration_range` or model slicing instead.\n",
      "  warnings.warn(\n",
      "/home/panyu/miniconda3/envs/sci-data/lib/python3.9/site-packages/xgboost/core.py:122: UserWarning: ntree_limit is deprecated, use `iteration_range` or model slicing instead.\n",
      "  warnings.warn(\n"
     ]
    },
    {
     "name": "stdout",
     "output_type": "stream",
     "text": [
      "[0]\ttrain-auc:0.64121\teval-auc:0.54702\n",
      "[1]\ttrain-auc:0.64808\teval-auc:0.55106\n",
      "[2]\ttrain-auc:0.64887\teval-auc:0.55030\n",
      "[3]\ttrain-auc:0.64784\teval-auc:0.54995\n",
      "[4]\ttrain-auc:0.64941\teval-auc:0.55022\n",
      "[5]\ttrain-auc:0.65033\teval-auc:0.55002\n",
      "[6]\ttrain-auc:0.65203\teval-auc:0.55107\n",
      "[7]\ttrain-auc:0.65486\teval-auc:0.55097\n",
      "[8]\ttrain-auc:0.65529\teval-auc:0.55183\n",
      "[9]\ttrain-auc:0.65608\teval-auc:0.55303\n",
      "finish training & evaluation for P054\n",
      "start training & evaluation for P035\n"
     ]
    },
    {
     "name": "stderr",
     "output_type": "stream",
     "text": [
      "/home/panyu/miniconda3/envs/sci-data/lib/python3.9/site-packages/xgboost/core.py:122: UserWarning: ntree_limit is deprecated, use `iteration_range` or model slicing instead.\n",
      "  warnings.warn(\n",
      "/home/panyu/miniconda3/envs/sci-data/lib/python3.9/site-packages/xgboost/core.py:122: UserWarning: ntree_limit is deprecated, use `iteration_range` or model slicing instead.\n",
      "  warnings.warn(\n"
     ]
    },
    {
     "name": "stdout",
     "output_type": "stream",
     "text": [
      "[0]\ttrain-auc:0.63819\teval-auc:0.53566\n",
      "[1]\ttrain-auc:0.63914\teval-auc:0.53613\n",
      "[2]\ttrain-auc:0.64336\teval-auc:0.53716\n",
      "[3]\ttrain-auc:0.64229\teval-auc:0.53837\n",
      "[4]\ttrain-auc:0.64216\teval-auc:0.53922\n",
      "[5]\ttrain-auc:0.64243\teval-auc:0.54062\n",
      "[6]\ttrain-auc:0.64415\teval-auc:0.54148\n",
      "[7]\ttrain-auc:0.64561\teval-auc:0.54029\n",
      "[8]\ttrain-auc:0.64836\teval-auc:0.54414\n",
      "[9]\ttrain-auc:0.64891\teval-auc:0.54216\n",
      "finish training & evaluation for P035\n",
      "start training & evaluation for P074\n"
     ]
    },
    {
     "name": "stderr",
     "output_type": "stream",
     "text": [
      "/home/panyu/miniconda3/envs/sci-data/lib/python3.9/site-packages/xgboost/core.py:122: UserWarning: ntree_limit is deprecated, use `iteration_range` or model slicing instead.\n",
      "  warnings.warn(\n",
      "/home/panyu/miniconda3/envs/sci-data/lib/python3.9/site-packages/xgboost/core.py:122: UserWarning: ntree_limit is deprecated, use `iteration_range` or model slicing instead.\n",
      "  warnings.warn(\n"
     ]
    },
    {
     "name": "stdout",
     "output_type": "stream",
     "text": [
      "[0]\ttrain-auc:0.63527\teval-auc:0.54925\n",
      "[1]\ttrain-auc:0.63955\teval-auc:0.55052\n",
      "[2]\ttrain-auc:0.64193\teval-auc:0.55257\n",
      "[3]\ttrain-auc:0.64413\teval-auc:0.55535\n",
      "[4]\ttrain-auc:0.65402\teval-auc:0.55658\n",
      "[5]\ttrain-auc:0.65485\teval-auc:0.55778\n",
      "[6]\ttrain-auc:0.65941\teval-auc:0.56071\n",
      "[7]\ttrain-auc:0.65996\teval-auc:0.55919\n",
      "[8]\ttrain-auc:0.66260\teval-auc:0.56081\n",
      "[9]\ttrain-auc:0.66149\teval-auc:0.55881\n",
      "finish training & evaluation for P074\n",
      "start training & evaluation for P027\n"
     ]
    },
    {
     "name": "stderr",
     "output_type": "stream",
     "text": [
      "/home/panyu/miniconda3/envs/sci-data/lib/python3.9/site-packages/xgboost/core.py:122: UserWarning: ntree_limit is deprecated, use `iteration_range` or model slicing instead.\n",
      "  warnings.warn(\n",
      "/home/panyu/miniconda3/envs/sci-data/lib/python3.9/site-packages/xgboost/core.py:122: UserWarning: ntree_limit is deprecated, use `iteration_range` or model slicing instead.\n",
      "  warnings.warn(\n"
     ]
    },
    {
     "name": "stdout",
     "output_type": "stream",
     "text": [
      "[0]\ttrain-auc:0.62411\teval-auc:0.55741\n",
      "[1]\ttrain-auc:0.62647\teval-auc:0.55621\n",
      "[2]\ttrain-auc:0.64582\teval-auc:0.56266\n",
      "[3]\ttrain-auc:0.64330\teval-auc:0.56255\n",
      "[4]\ttrain-auc:0.64668\teval-auc:0.56213\n",
      "[5]\ttrain-auc:0.65505\teval-auc:0.56510\n",
      "[6]\ttrain-auc:0.65283\teval-auc:0.56399\n",
      "[7]\ttrain-auc:0.65622\teval-auc:0.56380\n",
      "[8]\ttrain-auc:0.66115\teval-auc:0.56687\n",
      "[9]\ttrain-auc:0.66312\teval-auc:0.56666\n",
      "finish training & evaluation for P027\n",
      "start training & evaluation for P029\n"
     ]
    },
    {
     "name": "stderr",
     "output_type": "stream",
     "text": [
      "/home/panyu/miniconda3/envs/sci-data/lib/python3.9/site-packages/xgboost/core.py:122: UserWarning: ntree_limit is deprecated, use `iteration_range` or model slicing instead.\n",
      "  warnings.warn(\n",
      "/home/panyu/miniconda3/envs/sci-data/lib/python3.9/site-packages/xgboost/core.py:122: UserWarning: ntree_limit is deprecated, use `iteration_range` or model slicing instead.\n",
      "  warnings.warn(\n"
     ]
    },
    {
     "name": "stdout",
     "output_type": "stream",
     "text": [
      "[0]\ttrain-auc:0.63690\teval-auc:0.55813\n",
      "[1]\ttrain-auc:0.64070\teval-auc:0.56382\n",
      "[2]\ttrain-auc:0.64352\teval-auc:0.56042\n",
      "[3]\ttrain-auc:0.64489\teval-auc:0.55915\n",
      "[4]\ttrain-auc:0.65507\teval-auc:0.56608\n",
      "[5]\ttrain-auc:0.65915\teval-auc:0.56869\n",
      "[6]\ttrain-auc:0.65886\teval-auc:0.56942\n",
      "[7]\ttrain-auc:0.66103\teval-auc:0.57076\n",
      "[8]\ttrain-auc:0.66120\teval-auc:0.57092\n",
      "[9]\ttrain-auc:0.67189\teval-auc:0.57381\n",
      "finish training & evaluation for P029\n",
      "start training & evaluation for P119\n"
     ]
    },
    {
     "name": "stderr",
     "output_type": "stream",
     "text": [
      "/home/panyu/miniconda3/envs/sci-data/lib/python3.9/site-packages/xgboost/core.py:122: UserWarning: ntree_limit is deprecated, use `iteration_range` or model slicing instead.\n",
      "  warnings.warn(\n",
      "/home/panyu/miniconda3/envs/sci-data/lib/python3.9/site-packages/xgboost/core.py:122: UserWarning: ntree_limit is deprecated, use `iteration_range` or model slicing instead.\n",
      "  warnings.warn(\n"
     ]
    },
    {
     "name": "stdout",
     "output_type": "stream",
     "text": [
      "[0]\ttrain-auc:0.62511\teval-auc:0.56046\n",
      "[1]\ttrain-auc:0.62585\teval-auc:0.56078\n",
      "[2]\ttrain-auc:0.63511\teval-auc:0.56506\n",
      "[3]\ttrain-auc:0.63642\teval-auc:0.56429\n",
      "[4]\ttrain-auc:0.65753\teval-auc:0.56564\n",
      "[5]\ttrain-auc:0.66274\teval-auc:0.56970\n",
      "[6]\ttrain-auc:0.66945\teval-auc:0.56957\n",
      "[7]\ttrain-auc:0.67069\teval-auc:0.57273\n",
      "[8]\ttrain-auc:0.67336\teval-auc:0.57147\n",
      "[9]\ttrain-auc:0.67502\teval-auc:0.57055\n",
      "finish training & evaluation for P119\n",
      "start training & evaluation for P081\n"
     ]
    },
    {
     "name": "stderr",
     "output_type": "stream",
     "text": [
      "/home/panyu/miniconda3/envs/sci-data/lib/python3.9/site-packages/xgboost/core.py:122: UserWarning: ntree_limit is deprecated, use `iteration_range` or model slicing instead.\n",
      "  warnings.warn(\n",
      "/home/panyu/miniconda3/envs/sci-data/lib/python3.9/site-packages/xgboost/core.py:122: UserWarning: ntree_limit is deprecated, use `iteration_range` or model slicing instead.\n",
      "  warnings.warn(\n"
     ]
    },
    {
     "name": "stdout",
     "output_type": "stream",
     "text": [
      "[0]\ttrain-auc:0.63235\teval-auc:0.55244\n",
      "[1]\ttrain-auc:0.63491\teval-auc:0.55276\n",
      "[2]\ttrain-auc:0.63701\teval-auc:0.55565\n",
      "[3]\ttrain-auc:0.63914\teval-auc:0.55527\n",
      "[4]\ttrain-auc:0.64048\teval-auc:0.55506\n",
      "[5]\ttrain-auc:0.64004\teval-auc:0.55633\n",
      "[6]\ttrain-auc:0.64254\teval-auc:0.55515\n",
      "[7]\ttrain-auc:0.65054\teval-auc:0.55672\n",
      "[8]\ttrain-auc:0.65364\teval-auc:0.55587\n",
      "[9]\ttrain-auc:0.65780\teval-auc:0.55741\n",
      "finish training & evaluation for P081\n",
      "start training & evaluation for P028\n"
     ]
    },
    {
     "name": "stderr",
     "output_type": "stream",
     "text": [
      "/home/panyu/miniconda3/envs/sci-data/lib/python3.9/site-packages/xgboost/core.py:122: UserWarning: ntree_limit is deprecated, use `iteration_range` or model slicing instead.\n",
      "  warnings.warn(\n",
      "/home/panyu/miniconda3/envs/sci-data/lib/python3.9/site-packages/xgboost/core.py:122: UserWarning: ntree_limit is deprecated, use `iteration_range` or model slicing instead.\n",
      "  warnings.warn(\n"
     ]
    },
    {
     "name": "stdout",
     "output_type": "stream",
     "text": [
      "[0]\ttrain-auc:0.63903\teval-auc:0.56513\n",
      "[1]\ttrain-auc:0.64091\teval-auc:0.56407\n",
      "[2]\ttrain-auc:0.64400\teval-auc:0.56392\n",
      "[3]\ttrain-auc:0.66252\teval-auc:0.56751\n",
      "[4]\ttrain-auc:0.66094\teval-auc:0.56600\n",
      "[5]\ttrain-auc:0.67010\teval-auc:0.56828\n",
      "[6]\ttrain-auc:0.66893\teval-auc:0.56748\n",
      "[7]\ttrain-auc:0.66781\teval-auc:0.56467\n",
      "[8]\ttrain-auc:0.67386\teval-auc:0.56718\n",
      "[9]\ttrain-auc:0.67266\teval-auc:0.56702\n",
      "finish training & evaluation for P028\n",
      "start training & evaluation for P024\n"
     ]
    },
    {
     "name": "stderr",
     "output_type": "stream",
     "text": [
      "/home/panyu/miniconda3/envs/sci-data/lib/python3.9/site-packages/xgboost/core.py:122: UserWarning: ntree_limit is deprecated, use `iteration_range` or model slicing instead.\n",
      "  warnings.warn(\n",
      "/home/panyu/miniconda3/envs/sci-data/lib/python3.9/site-packages/xgboost/core.py:122: UserWarning: ntree_limit is deprecated, use `iteration_range` or model slicing instead.\n",
      "  warnings.warn(\n"
     ]
    },
    {
     "name": "stdout",
     "output_type": "stream",
     "text": [
      "[0]\ttrain-auc:0.62932\teval-auc:0.56630\n",
      "[1]\ttrain-auc:0.63550\teval-auc:0.56655\n",
      "[2]\ttrain-auc:0.63440\teval-auc:0.56728\n",
      "[3]\ttrain-auc:0.63694\teval-auc:0.56847\n",
      "[4]\ttrain-auc:0.63959\teval-auc:0.56783\n",
      "[5]\ttrain-auc:0.64009\teval-auc:0.56927\n",
      "[6]\ttrain-auc:0.63952\teval-auc:0.56706\n",
      "[7]\ttrain-auc:0.64058\teval-auc:0.56779\n",
      "[8]\ttrain-auc:0.64070\teval-auc:0.56795\n",
      "[9]\ttrain-auc:0.64129\teval-auc:0.56834\n",
      "finish training & evaluation for P024\n",
      "start training & evaluation for P071\n"
     ]
    },
    {
     "name": "stderr",
     "output_type": "stream",
     "text": [
      "/home/panyu/miniconda3/envs/sci-data/lib/python3.9/site-packages/xgboost/core.py:122: UserWarning: ntree_limit is deprecated, use `iteration_range` or model slicing instead.\n",
      "  warnings.warn(\n",
      "/home/panyu/miniconda3/envs/sci-data/lib/python3.9/site-packages/xgboost/core.py:122: UserWarning: ntree_limit is deprecated, use `iteration_range` or model slicing instead.\n",
      "  warnings.warn(\n"
     ]
    },
    {
     "name": "stdout",
     "output_type": "stream",
     "text": [
      "[0]\ttrain-auc:0.63690\teval-auc:0.54576\n",
      "[1]\ttrain-auc:0.63727\teval-auc:0.54576\n",
      "[2]\ttrain-auc:0.63937\teval-auc:0.54782\n",
      "[3]\ttrain-auc:0.64163\teval-auc:0.54793\n",
      "[4]\ttrain-auc:0.64312\teval-auc:0.54892\n",
      "[5]\ttrain-auc:0.64311\teval-auc:0.54890\n",
      "[6]\ttrain-auc:0.64417\teval-auc:0.54961\n",
      "[7]\ttrain-auc:0.65398\teval-auc:0.55353\n",
      "[8]\ttrain-auc:0.65547\teval-auc:0.55397\n",
      "[9]\ttrain-auc:0.65676\teval-auc:0.55382\n",
      "finish training & evaluation for P071\n",
      "start training & evaluation for P052\n"
     ]
    },
    {
     "name": "stderr",
     "output_type": "stream",
     "text": [
      "/home/panyu/miniconda3/envs/sci-data/lib/python3.9/site-packages/xgboost/core.py:122: UserWarning: ntree_limit is deprecated, use `iteration_range` or model slicing instead.\n",
      "  warnings.warn(\n",
      "/home/panyu/miniconda3/envs/sci-data/lib/python3.9/site-packages/xgboost/core.py:122: UserWarning: ntree_limit is deprecated, use `iteration_range` or model slicing instead.\n",
      "  warnings.warn(\n"
     ]
    },
    {
     "name": "stdout",
     "output_type": "stream",
     "text": [
      "[0]\ttrain-auc:0.63290\teval-auc:0.55547\n",
      "[1]\ttrain-auc:0.63747\teval-auc:0.56022\n",
      "[2]\ttrain-auc:0.63980\teval-auc:0.56150\n",
      "[3]\ttrain-auc:0.66324\teval-auc:0.57137\n",
      "[4]\ttrain-auc:0.66962\teval-auc:0.57119\n",
      "[5]\ttrain-auc:0.67304\teval-auc:0.57172\n",
      "[6]\ttrain-auc:0.67270\teval-auc:0.57065\n",
      "[7]\ttrain-auc:0.67548\teval-auc:0.57273\n",
      "[8]\ttrain-auc:0.67553\teval-auc:0.57218\n",
      "[9]\ttrain-auc:0.67533\teval-auc:0.57176\n",
      "finish training & evaluation for P052\n",
      "start training & evaluation for P025\n"
     ]
    },
    {
     "name": "stderr",
     "output_type": "stream",
     "text": [
      "/home/panyu/miniconda3/envs/sci-data/lib/python3.9/site-packages/xgboost/core.py:122: UserWarning: ntree_limit is deprecated, use `iteration_range` or model slicing instead.\n",
      "  warnings.warn(\n",
      "/home/panyu/miniconda3/envs/sci-data/lib/python3.9/site-packages/xgboost/core.py:122: UserWarning: ntree_limit is deprecated, use `iteration_range` or model slicing instead.\n",
      "  warnings.warn(\n"
     ]
    },
    {
     "name": "stdout",
     "output_type": "stream",
     "text": [
      "[0]\ttrain-auc:0.62525\teval-auc:0.54459\n",
      "[1]\ttrain-auc:0.66273\teval-auc:0.56770\n",
      "[2]\ttrain-auc:0.66200\teval-auc:0.56572\n",
      "[3]\ttrain-auc:0.66519\teval-auc:0.56866\n",
      "[4]\ttrain-auc:0.66336\teval-auc:0.57011\n",
      "[5]\ttrain-auc:0.66554\teval-auc:0.56796\n",
      "[6]\ttrain-auc:0.66508\teval-auc:0.56994\n",
      "[7]\ttrain-auc:0.66909\teval-auc:0.57165\n",
      "[8]\ttrain-auc:0.66855\teval-auc:0.57235\n",
      "[9]\ttrain-auc:0.66825\teval-auc:0.57256\n",
      "finish training & evaluation for P025\n",
      "start training & evaluation for P019\n"
     ]
    },
    {
     "name": "stderr",
     "output_type": "stream",
     "text": [
      "/home/panyu/miniconda3/envs/sci-data/lib/python3.9/site-packages/xgboost/core.py:122: UserWarning: ntree_limit is deprecated, use `iteration_range` or model slicing instead.\n",
      "  warnings.warn(\n",
      "/home/panyu/miniconda3/envs/sci-data/lib/python3.9/site-packages/xgboost/core.py:122: UserWarning: ntree_limit is deprecated, use `iteration_range` or model slicing instead.\n",
      "  warnings.warn(\n"
     ]
    },
    {
     "name": "stdout",
     "output_type": "stream",
     "text": [
      "[0]\ttrain-auc:0.62815\teval-auc:0.54471\n",
      "[1]\ttrain-auc:0.65305\teval-auc:0.55403\n",
      "[2]\ttrain-auc:0.65120\teval-auc:0.55637\n",
      "[3]\ttrain-auc:0.65581\teval-auc:0.55288\n",
      "[4]\ttrain-auc:0.65442\teval-auc:0.55471\n",
      "[5]\ttrain-auc:0.65832\teval-auc:0.55759\n",
      "[6]\ttrain-auc:0.66661\teval-auc:0.55928\n",
      "[7]\ttrain-auc:0.66750\teval-auc:0.55672\n",
      "[8]\ttrain-auc:0.66990\teval-auc:0.55827\n",
      "[9]\ttrain-auc:0.67236\teval-auc:0.55948\n",
      "finish training & evaluation for P019\n",
      "start training & evaluation for P090\n"
     ]
    },
    {
     "name": "stderr",
     "output_type": "stream",
     "text": [
      "/home/panyu/miniconda3/envs/sci-data/lib/python3.9/site-packages/xgboost/core.py:122: UserWarning: ntree_limit is deprecated, use `iteration_range` or model slicing instead.\n",
      "  warnings.warn(\n",
      "/home/panyu/miniconda3/envs/sci-data/lib/python3.9/site-packages/xgboost/core.py:122: UserWarning: ntree_limit is deprecated, use `iteration_range` or model slicing instead.\n",
      "  warnings.warn(\n"
     ]
    },
    {
     "name": "stdout",
     "output_type": "stream",
     "text": [
      "[0]\ttrain-auc:0.63163\teval-auc:0.54511\n",
      "[1]\ttrain-auc:0.63207\teval-auc:0.54458\n",
      "[2]\ttrain-auc:0.63515\teval-auc:0.54580\n",
      "[3]\ttrain-auc:0.63506\teval-auc:0.54590\n",
      "[4]\ttrain-auc:0.64440\teval-auc:0.54801\n",
      "[5]\ttrain-auc:0.64435\teval-auc:0.54748\n",
      "[6]\ttrain-auc:0.64928\teval-auc:0.54835\n",
      "[7]\ttrain-auc:0.65050\teval-auc:0.54936\n",
      "[8]\ttrain-auc:0.65897\teval-auc:0.55617\n",
      "[9]\ttrain-auc:0.65865\teval-auc:0.55705\n",
      "finish training & evaluation for P090\n",
      "start training & evaluation for P023\n"
     ]
    },
    {
     "name": "stderr",
     "output_type": "stream",
     "text": [
      "/home/panyu/miniconda3/envs/sci-data/lib/python3.9/site-packages/xgboost/core.py:122: UserWarning: ntree_limit is deprecated, use `iteration_range` or model slicing instead.\n",
      "  warnings.warn(\n",
      "/home/panyu/miniconda3/envs/sci-data/lib/python3.9/site-packages/xgboost/core.py:122: UserWarning: ntree_limit is deprecated, use `iteration_range` or model slicing instead.\n",
      "  warnings.warn(\n"
     ]
    },
    {
     "name": "stdout",
     "output_type": "stream",
     "text": [
      "[0]\ttrain-auc:0.63341\teval-auc:0.55615\n",
      "[1]\ttrain-auc:0.64147\teval-auc:0.55722\n",
      "[2]\ttrain-auc:0.67758\teval-auc:0.58012\n",
      "[3]\ttrain-auc:0.69155\teval-auc:0.58296\n",
      "[4]\ttrain-auc:0.68952\teval-auc:0.58366\n",
      "[5]\ttrain-auc:0.69564\teval-auc:0.58430\n",
      "[6]\ttrain-auc:0.69449\teval-auc:0.58513\n",
      "[7]\ttrain-auc:0.69786\teval-auc:0.58585\n",
      "[8]\ttrain-auc:0.69883\teval-auc:0.58589\n",
      "[9]\ttrain-auc:0.69985\teval-auc:0.58654\n",
      "finish training & evaluation for P023\n",
      "start training & evaluation for P059\n"
     ]
    },
    {
     "name": "stderr",
     "output_type": "stream",
     "text": [
      "/home/panyu/miniconda3/envs/sci-data/lib/python3.9/site-packages/xgboost/core.py:122: UserWarning: ntree_limit is deprecated, use `iteration_range` or model slicing instead.\n",
      "  warnings.warn(\n",
      "/home/panyu/miniconda3/envs/sci-data/lib/python3.9/site-packages/xgboost/core.py:122: UserWarning: ntree_limit is deprecated, use `iteration_range` or model slicing instead.\n",
      "  warnings.warn(\n"
     ]
    },
    {
     "name": "stdout",
     "output_type": "stream",
     "text": [
      "[0]\ttrain-auc:0.63385\teval-auc:0.56037\n",
      "[1]\ttrain-auc:0.63962\teval-auc:0.56134\n",
      "[2]\ttrain-auc:0.64664\teval-auc:0.56526\n",
      "[3]\ttrain-auc:0.65482\teval-auc:0.56372\n",
      "[4]\ttrain-auc:0.65441\teval-auc:0.56382\n",
      "[5]\ttrain-auc:0.65779\teval-auc:0.56302\n",
      "[6]\ttrain-auc:0.65848\teval-auc:0.56422\n",
      "[7]\ttrain-auc:0.65912\teval-auc:0.56406\n",
      "[8]\ttrain-auc:0.66161\teval-auc:0.56501\n",
      "[9]\ttrain-auc:0.66193\teval-auc:0.56489\n",
      "finish training & evaluation for P059\n",
      "start training & evaluation for P105\n"
     ]
    },
    {
     "name": "stderr",
     "output_type": "stream",
     "text": [
      "/home/panyu/miniconda3/envs/sci-data/lib/python3.9/site-packages/xgboost/core.py:122: UserWarning: ntree_limit is deprecated, use `iteration_range` or model slicing instead.\n",
      "  warnings.warn(\n",
      "/home/panyu/miniconda3/envs/sci-data/lib/python3.9/site-packages/xgboost/core.py:122: UserWarning: ntree_limit is deprecated, use `iteration_range` or model slicing instead.\n",
      "  warnings.warn(\n"
     ]
    },
    {
     "name": "stdout",
     "output_type": "stream",
     "text": [
      "[0]\ttrain-auc:0.63247\teval-auc:0.53837\n",
      "[1]\ttrain-auc:0.64268\teval-auc:0.54852\n",
      "[2]\ttrain-auc:0.64597\teval-auc:0.55084\n",
      "[3]\ttrain-auc:0.65542\teval-auc:0.55965\n",
      "[4]\ttrain-auc:0.65417\teval-auc:0.56190\n",
      "[5]\ttrain-auc:0.66014\teval-auc:0.56333\n",
      "[6]\ttrain-auc:0.65920\teval-auc:0.56487\n",
      "[7]\ttrain-auc:0.66104\teval-auc:0.56429\n",
      "[8]\ttrain-auc:0.66441\teval-auc:0.56581\n",
      "[9]\ttrain-auc:0.66770\teval-auc:0.56691\n",
      "finish training & evaluation for P105\n",
      "start training & evaluation for P066\n"
     ]
    },
    {
     "name": "stderr",
     "output_type": "stream",
     "text": [
      "/home/panyu/miniconda3/envs/sci-data/lib/python3.9/site-packages/xgboost/core.py:122: UserWarning: ntree_limit is deprecated, use `iteration_range` or model slicing instead.\n",
      "  warnings.warn(\n",
      "/home/panyu/miniconda3/envs/sci-data/lib/python3.9/site-packages/xgboost/core.py:122: UserWarning: ntree_limit is deprecated, use `iteration_range` or model slicing instead.\n",
      "  warnings.warn(\n"
     ]
    },
    {
     "name": "stdout",
     "output_type": "stream",
     "text": [
      "[0]\ttrain-auc:0.63872\teval-auc:0.54334\n",
      "[1]\ttrain-auc:0.66969\teval-auc:0.55850\n",
      "[2]\ttrain-auc:0.66745\teval-auc:0.55568\n",
      "[3]\ttrain-auc:0.67216\teval-auc:0.55876\n",
      "[4]\ttrain-auc:0.67874\teval-auc:0.56340\n",
      "[5]\ttrain-auc:0.68049\teval-auc:0.56580\n",
      "[6]\ttrain-auc:0.68871\teval-auc:0.56458\n",
      "[7]\ttrain-auc:0.68956\teval-auc:0.56327\n",
      "[8]\ttrain-auc:0.68848\teval-auc:0.56316\n",
      "[9]\ttrain-auc:0.69179\teval-auc:0.56663\n",
      "finish training & evaluation for P066\n",
      "start training & evaluation for P051\n"
     ]
    },
    {
     "name": "stderr",
     "output_type": "stream",
     "text": [
      "/home/panyu/miniconda3/envs/sci-data/lib/python3.9/site-packages/xgboost/core.py:122: UserWarning: ntree_limit is deprecated, use `iteration_range` or model slicing instead.\n",
      "  warnings.warn(\n",
      "/home/panyu/miniconda3/envs/sci-data/lib/python3.9/site-packages/xgboost/core.py:122: UserWarning: ntree_limit is deprecated, use `iteration_range` or model slicing instead.\n",
      "  warnings.warn(\n"
     ]
    },
    {
     "name": "stdout",
     "output_type": "stream",
     "text": [
      "[0]\ttrain-auc:0.63251\teval-auc:0.55778\n",
      "[1]\ttrain-auc:0.63522\teval-auc:0.56019\n",
      "[2]\ttrain-auc:0.63965\teval-auc:0.56095\n",
      "[3]\ttrain-auc:0.63881\teval-auc:0.56156\n",
      "[4]\ttrain-auc:0.64113\teval-auc:0.56228\n",
      "[5]\ttrain-auc:0.64326\teval-auc:0.56097\n",
      "[6]\ttrain-auc:0.64231\teval-auc:0.56128\n",
      "[7]\ttrain-auc:0.64386\teval-auc:0.56107\n",
      "[8]\ttrain-auc:0.64777\teval-auc:0.56411\n",
      "[9]\ttrain-auc:0.65460\teval-auc:0.56660\n",
      "finish training & evaluation for P051\n",
      "start training & evaluation for P124\n"
     ]
    },
    {
     "name": "stderr",
     "output_type": "stream",
     "text": [
      "/home/panyu/miniconda3/envs/sci-data/lib/python3.9/site-packages/xgboost/core.py:122: UserWarning: ntree_limit is deprecated, use `iteration_range` or model slicing instead.\n",
      "  warnings.warn(\n",
      "/home/panyu/miniconda3/envs/sci-data/lib/python3.9/site-packages/xgboost/core.py:122: UserWarning: ntree_limit is deprecated, use `iteration_range` or model slicing instead.\n",
      "  warnings.warn(\n"
     ]
    },
    {
     "name": "stdout",
     "output_type": "stream",
     "text": [
      "[0]\ttrain-auc:0.62969\teval-auc:0.55022\n",
      "[1]\ttrain-auc:0.63507\teval-auc:0.55968\n",
      "[2]\ttrain-auc:0.64107\teval-auc:0.56815\n",
      "[3]\ttrain-auc:0.64017\teval-auc:0.56732\n",
      "[4]\ttrain-auc:0.64555\teval-auc:0.56980\n",
      "[5]\ttrain-auc:0.64513\teval-auc:0.57043\n",
      "[6]\ttrain-auc:0.64723\teval-auc:0.56943\n",
      "[7]\ttrain-auc:0.64909\teval-auc:0.57037\n",
      "[8]\ttrain-auc:0.64999\teval-auc:0.57121\n",
      "[9]\ttrain-auc:0.65038\teval-auc:0.57206\n",
      "finish training & evaluation for P124\n",
      "start training & evaluation for P088\n"
     ]
    },
    {
     "name": "stderr",
     "output_type": "stream",
     "text": [
      "/home/panyu/miniconda3/envs/sci-data/lib/python3.9/site-packages/xgboost/core.py:122: UserWarning: ntree_limit is deprecated, use `iteration_range` or model slicing instead.\n",
      "  warnings.warn(\n",
      "/home/panyu/miniconda3/envs/sci-data/lib/python3.9/site-packages/xgboost/core.py:122: UserWarning: ntree_limit is deprecated, use `iteration_range` or model slicing instead.\n",
      "  warnings.warn(\n"
     ]
    },
    {
     "name": "stdout",
     "output_type": "stream",
     "text": [
      "[0]\ttrain-auc:0.64173\teval-auc:0.54663\n",
      "[1]\ttrain-auc:0.64726\teval-auc:0.54989\n",
      "[2]\ttrain-auc:0.65834\teval-auc:0.55686\n",
      "[3]\ttrain-auc:0.65781\teval-auc:0.55467\n",
      "[4]\ttrain-auc:0.66639\teval-auc:0.55557\n",
      "[5]\ttrain-auc:0.67162\teval-auc:0.55660\n",
      "[6]\ttrain-auc:0.68069\teval-auc:0.56175\n",
      "[7]\ttrain-auc:0.67898\teval-auc:0.55983\n",
      "[8]\ttrain-auc:0.67960\teval-auc:0.56053\n",
      "[9]\ttrain-auc:0.68024\teval-auc:0.55958\n",
      "finish training & evaluation for P088\n",
      "start training & evaluation for P003\n"
     ]
    },
    {
     "name": "stderr",
     "output_type": "stream",
     "text": [
      "/home/panyu/miniconda3/envs/sci-data/lib/python3.9/site-packages/xgboost/core.py:122: UserWarning: ntree_limit is deprecated, use `iteration_range` or model slicing instead.\n",
      "  warnings.warn(\n",
      "/home/panyu/miniconda3/envs/sci-data/lib/python3.9/site-packages/xgboost/core.py:122: UserWarning: ntree_limit is deprecated, use `iteration_range` or model slicing instead.\n",
      "  warnings.warn(\n"
     ]
    },
    {
     "name": "stdout",
     "output_type": "stream",
     "text": [
      "[0]\ttrain-auc:0.61870\teval-auc:0.56074\n",
      "[1]\ttrain-auc:0.62818\teval-auc:0.56498\n",
      "[2]\ttrain-auc:0.62870\teval-auc:0.56552\n",
      "[3]\ttrain-auc:0.62982\teval-auc:0.56520\n",
      "[4]\ttrain-auc:0.63098\teval-auc:0.56472\n",
      "[5]\ttrain-auc:0.63126\teval-auc:0.56442\n",
      "[6]\ttrain-auc:0.63396\teval-auc:0.56525\n",
      "[7]\ttrain-auc:0.63417\teval-auc:0.56573\n",
      "[8]\ttrain-auc:0.63921\teval-auc:0.57091\n",
      "[9]\ttrain-auc:0.64609\teval-auc:0.57235\n",
      "finish training & evaluation for P003\n",
      "start training & evaluation for P104\n"
     ]
    },
    {
     "name": "stderr",
     "output_type": "stream",
     "text": [
      "/home/panyu/miniconda3/envs/sci-data/lib/python3.9/site-packages/xgboost/core.py:122: UserWarning: ntree_limit is deprecated, use `iteration_range` or model slicing instead.\n",
      "  warnings.warn(\n",
      "/home/panyu/miniconda3/envs/sci-data/lib/python3.9/site-packages/xgboost/core.py:122: UserWarning: ntree_limit is deprecated, use `iteration_range` or model slicing instead.\n",
      "  warnings.warn(\n"
     ]
    },
    {
     "name": "stdout",
     "output_type": "stream",
     "text": [
      "[0]\ttrain-auc:0.63415\teval-auc:0.56557\n",
      "[1]\ttrain-auc:0.63536\teval-auc:0.56707\n",
      "[2]\ttrain-auc:0.63558\teval-auc:0.56642\n",
      "[3]\ttrain-auc:0.64919\teval-auc:0.56799\n",
      "[4]\ttrain-auc:0.65175\teval-auc:0.56804\n",
      "[5]\ttrain-auc:0.65478\teval-auc:0.56763\n",
      "[6]\ttrain-auc:0.66961\teval-auc:0.57069\n",
      "[7]\ttrain-auc:0.66883\teval-auc:0.57088\n",
      "[8]\ttrain-auc:0.66824\teval-auc:0.57023\n",
      "[9]\ttrain-auc:0.67456\teval-auc:0.57103\n",
      "finish training & evaluation for P104\n",
      "start training & evaluation for P108\n"
     ]
    },
    {
     "name": "stderr",
     "output_type": "stream",
     "text": [
      "/home/panyu/miniconda3/envs/sci-data/lib/python3.9/site-packages/xgboost/core.py:122: UserWarning: ntree_limit is deprecated, use `iteration_range` or model slicing instead.\n",
      "  warnings.warn(\n",
      "/home/panyu/miniconda3/envs/sci-data/lib/python3.9/site-packages/xgboost/core.py:122: UserWarning: ntree_limit is deprecated, use `iteration_range` or model slicing instead.\n",
      "  warnings.warn(\n"
     ]
    },
    {
     "name": "stdout",
     "output_type": "stream",
     "text": [
      "[0]\ttrain-auc:0.63159\teval-auc:0.55769\n",
      "[1]\ttrain-auc:0.63364\teval-auc:0.55639\n",
      "[2]\ttrain-auc:0.63354\teval-auc:0.55585\n",
      "[3]\ttrain-auc:0.63391\teval-auc:0.55640\n",
      "[4]\ttrain-auc:0.63395\teval-auc:0.55600\n",
      "[5]\ttrain-auc:0.63489\teval-auc:0.55593\n",
      "[6]\ttrain-auc:0.63674\teval-auc:0.55757\n",
      "[7]\ttrain-auc:0.63844\teval-auc:0.55719\n",
      "[8]\ttrain-auc:0.63872\teval-auc:0.55830\n",
      "[9]\ttrain-auc:0.64522\teval-auc:0.55874\n",
      "finish training & evaluation for P108\n",
      "TOTAL All round, ROCAUC0.5298690199083902, LOGLOSS0.6924448124822133, ACCURACY0.5192454048549788, PRECISION0.5203498585174297, RECALL0.5226383726928049, F1 MACRO0.4920740996107844, F1 POSITIVE LABEL0.46737852120721485,\n",
      "\n"
     ]
    },
    {
     "name": "stderr",
     "output_type": "stream",
     "text": [
      "/home/panyu/miniconda3/envs/sci-data/lib/python3.9/site-packages/xgboost/core.py:122: UserWarning: ntree_limit is deprecated, use `iteration_range` or model slicing instead.\n",
      "  warnings.warn(\n",
      "/home/panyu/miniconda3/envs/sci-data/lib/python3.9/site-packages/xgboost/core.py:122: UserWarning: ntree_limit is deprecated, use `iteration_range` or model slicing instead.\n",
      "  warnings.warn(\n"
     ]
    }
   ],
   "source": [
    "import xgboost as xgb\n",
    "import random\n",
    "from sklearn.metrics import (roc_auc_score, precision_recall_fscore_support,\n",
    "                             log_loss, accuracy_score, f1_score, precision_score,\n",
    "                             recall_score, roc_curve, auc)\n",
    "import numpy as np\n",
    "import os\n",
    "import pickle\n",
    "import ray\n",
    "import pandas as pd\n",
    "from sklearn.datasets import load_svmlight_file\n",
    "from xgboost import DMatrix\n",
    "\n",
    "\n",
    "def mkdir(path):\n",
    "    path = path.strip()\n",
    "    isExists = os.path.exists(path)\n",
    "    if not isExists:\n",
    "        os.makedirs(path)\n",
    "        return True\n",
    "    else:\n",
    "        return False\n",
    "\n",
    "def find_best_threshold(y_true, y_probs):\n",
    "    best_threshold = 0\n",
    "    best_f1 = 0\n",
    "    thresholds = np.arange(0, 1.01, 0.01)\n",
    "    for threshold in thresholds:\n",
    "        y_pred = (y_probs > threshold).astype(int)\n",
    "        current_f1 = f1_score(y_true, y_pred)\n",
    "        if current_f1 > best_f1:\n",
    "            best_f1 = current_f1\n",
    "            best_threshold = threshold\n",
    "    return best_threshold\n",
    "\n",
    "random.seed(seed)\n",
    "\n",
    "folder = PATH_RESULTS\n",
    "mkdir(folder)\n",
    "data_folder = PATH_SAVE\n",
    "\n",
    "final_total_auc = np.empty(0)\n",
    "final_total_logloss = np.empty(0)\n",
    "final_total_f1_macro = np.empty(0)\n",
    "final_total_f1_pos_label = np.empty(0)\n",
    "final_total_accuracy = np.empty(0)\n",
    "final_total_precision = np.empty(0)\n",
    "final_total_recall = np.empty(0)\n",
    "train_aucs = []\n",
    "test_aucs = []\n",
    "\n",
    "\n",
    "\n",
    "# @ray.remote\n",
    "def train_and_evaluate(subject, param, data_folder):\n",
    "\n",
    "    print(\"start training & evaluation for {}\".format(subject))\n",
    "\n",
    "\n",
    "    # Convert data to DMatrix format for XGBoost\n",
    "    dtrain = xgb.DMatrix(data_folder + '{}_train.data'.format(subject))\n",
    "    dtest = xgb.DMatrix(data_folder + '{}_val.data'.format(subject))\n",
    "    deval = xgb.DMatrix(data_folder + '{}_eval.data'.format(subject))\n",
    "    \n",
    "\n",
    "    evallist = [(dtrain, 'train'), (deval, 'eval')]\n",
    "\n",
    "    # Train the model using standard xgboost\n",
    "    bst = xgb.train(param, dtrain, evals=evallist, early_stopping_rounds=10)\n",
    "    \n",
    "    y_real = dtest.get_label()  # Use the labels directly\n",
    "    y_score = bst.predict(dtest,ntree_limit=bst.best_ntree_limit)\n",
    "#     y_score = bst.predict(dtest)\n",
    "#     best_threshold = find_best_threshold(y_real, y_score)\n",
    "#     y_pred = [1 if score >= best_threshold else 0 for score in y_score]\n",
    "    y_pred = [1 if score >= 0.5 else 0 for score in y_score]\n",
    "\n",
    "    all_roc_auc = roc_auc_score(y_true=y_real, y_score=y_score, average=None)\n",
    "    all_logloss = log_loss(y_real, y_score)\n",
    "    accuracy = accuracy_score(y_real, y_pred)\n",
    "\n",
    "    pre, rec, f1, _ = precision_recall_fscore_support(y_true=y_real, y_pred=y_pred, pos_label=1, average='macro', zero_division=0)\n",
    "    precision = pre\n",
    "    recall = rec\n",
    "    f1_macro = f1\n",
    "\n",
    "    _, _, f1_pos, _ = precision_recall_fscore_support(y_true=y_real, y_pred=y_pred, pos_label=1, average='binary', zero_division=0)\n",
    "    f1_pos_label = f1_pos\n",
    "    print(\"finish training & evaluation for {}\".format(subject))\n",
    "\n",
    "#     return subject, all_roc_auc, all_logloss, accuracy, precision, recall, f1_macro, f1_pos_label\n",
    "\n",
    "    ###############################\n",
    "    # Compute training AUC\n",
    "    y_train_real = dtrain.get_label()\n",
    "    y_train_score = bst.predict(dtrain, ntree_limit=bst.best_ntree_limit)\n",
    "    train_auc = roc_auc_score(y_true=y_train_real, y_score=y_train_score)\n",
    "    \n",
    "    test_auc = all_roc_auc\n",
    "\n",
    "    return subject, train_auc, test_auc, all_logloss, accuracy, precision, recall, f1_macro, f1_pos_label\n",
    " \n",
    "with on_ray():\n",
    "    results = [train_and_evaluate(subject, param, data_folder) for subject in set(all_groups)]\n",
    "#     futures = [train_and_evaluate.remote(subject, param, data_folder) for subject in combined_similarity['pcode'].unique()]\n",
    "#     results = ray.get(futures)\n",
    "\n",
    "    for result in results:\n",
    "         #Retrieving training AUC\n",
    "        subject, train_auc, test_auc, all_logloss, accuracy, precision, recall, f1_macro, f1_pos_label = result\n",
    "        train_aucs.append(train_auc)\n",
    "        test_aucs.append(test_auc)\n",
    "        \n",
    "#         subject, all_roc_auc, all_logloss, accuracy, precision, recall, f1_macro, f1_pos_label = result\n",
    "        # Append to final metric arrays\n",
    "#         final_total_auc = np.append(final_total_auc, all_roc_auc)\n",
    "\n",
    "        final_total_logloss = np.append(final_total_logloss, all_logloss)\n",
    "        final_total_accuracy = np.append(final_total_accuracy, accuracy)\n",
    "        final_total_precision = np.append(final_total_precision, precision)\n",
    "        final_total_recall = np.append(final_total_recall, recall)\n",
    "        final_total_f1_macro = np.append(final_total_f1_macro, f1_macro)\n",
    "        final_total_f1_pos_label = np.append(final_total_f1_pos_label, f1_pos_label)\n",
    "\n",
    "    print(\"TOTAL All round, ROCAUC{}, LOGLOSS{}, ACCURACY{}, PRECISION{}, RECALL{}, F1 MACRO{}, F1 POSITIVE LABEL{},\\n\".format(np.mean(test_aucs), np.mean(final_total_logloss), np.mean(final_total_accuracy), np.mean(final_total_precision), np.mean(final_total_recall), np.mean(final_total_f1_macro), np.mean(final_total_f1_pos_label)))"
   ]
  },
  {
   "cell_type": "code",
   "execution_count": 15,
   "id": "15f5f26a",
   "metadata": {},
   "outputs": [
    {
     "data": {
      "image/png": "[encoded data removed]",
      "text/plain": [
       "<Figure size 1000x600 with 1 Axes>"
      ]
     },
     "metadata": {},
     "output_type": "display_data"
    }
   ],
   "source": [
    "import seaborn as sns\n",
    "import matplotlib.pyplot as plt\n",
    "import numpy as np\n",
    "\n",
    "# Assuming 'train_aucs' and 'test_aucs' are lists of AUC scores\n",
    "splits = np.arange(len(train_aucs))  # Assuming splits are sequential and equal to the length of AUC lists\n",
    "\n",
    "# Prepare a DataFrame for Seaborn\n",
    "data = pd.DataFrame({\n",
    "    'Split': np.concatenate([splits, splits]),  # Double the splits for train and test\n",
    "    'AUC': np.concatenate([train_aucs, test_aucs]),  # Combine AUC scores\n",
    "    'Type': ['Train']*len(train_aucs) + ['Test']*len(test_aucs)  # Label types\n",
    "})\n",
    "\n",
    "# Calculate the average values for training and test AUCs\n",
    "avg_train_auc = sum(train_aucs) / len(train_aucs)\n",
    "avg_test_auc = sum(test_aucs) / len(test_aucs)\n",
    "\n",
    "# Set up the matplotlib figure\n",
    "plt.figure(figsize=(10, 6))\n",
    "\n",
    "# Set the color palette to black and white\n",
    "palette = sns.color_palette(\"gray\", n_colors=2)\n",
    "\n",
    "# Draw a line plot with Seaborn\n",
    "sns.lineplot(data=data, x='Split', y='AUC', hue='Type', style='Type', markers=True, dashes=False, palette=palette)\n",
    "\n",
    "# Add average lines for Train and Test AUCs\n",
    "plt.axhline(y=avg_train_auc, color='black', linestyle='--', label=f\"Average Train AUC: {avg_train_auc:.2f}\")\n",
    "plt.axhline(y=avg_test_auc, color='black', linestyle='--', label=f\"Average Test AUC: {avg_test_auc:.2f}\")\n",
    "\n",
    "# Line for random chance performance\n",
    "plt.axhline(y=0.5, color='gray', linestyle='--', label=\"Random\")\n",
    "\n",
    "# Customize the axes and title\n",
    "plt.xlabel('Split')\n",
    "plt.ylabel('AUC')\n",
    "plt.title('Training and Test AUC for All Splits')\n",
    "\n",
    "# Show the legend and customize it to not show the color guide\n",
    "plt.legend(title='Type')\n",
    "\n",
    "# Set the ylim to standardize the AUC view\n",
    "plt.ylim([0, 1])\n",
    "\n",
    "# Display the plot\n",
    "plt.show()\n"
   ]
  },
  {
   "cell_type": "code",
   "execution_count": 16,
   "id": "356b9b55",
   "metadata": {},
   "outputs": [
    {
     "data": {
      "image/png": "[encoded data removed]",
      "text/plain": [
       "<Figure size 1000x600 with 1 Axes>"
      ]
     },
     "metadata": {},
     "output_type": "display_data"
    }
   ],
   "source": [
    "import matplotlib.pyplot as plt\n",
    "\n",
    "# Calculate the average values for training and test AUCs\n",
    "avg_train_auc = sum(train_aucs) / len(train_aucs)\n",
    "avg_test_auc = sum(test_aucs) / len(test_aucs)\n",
    "\n",
    "plt.figure(figsize=(10, 6))\n",
    "plt.plot(train_aucs, label=\"Train AUC\", marker='o')\n",
    "plt.plot(test_aucs, label=\"Test AUC\", marker='x')\n",
    "\n",
    "# Add average lines for Train and Test AUCs\n",
    "plt.axhline(y=avg_train_auc, color='blue', linestyle='--', label=f\"Average Train AUC: {avg_train_auc:.2f}\")\n",
    "plt.axhline(y=avg_test_auc, color='orange', linestyle='--', label=f\"Average Test AUC: {avg_test_auc:.2f}\")\n",
    "\n",
    "# Line for random\n",
    "plt.axhline(y=0.5, color='gray', linestyle='--', label=\"Random\")\n",
    "\n",
    "plt.xlabel('Split')\n",
    "plt.ylabel('AUC')\n",
    "plt.title('Training and Test AUC for All Splits')\n",
    "plt.legend()\n",
    "plt.grid(True)\n",
    "plt.ylim([0, 1])\n",
    "plt.show()\n"
   ]
  },
  {
   "cell_type": "code",
   "execution_count": null,
   "id": "e3f7d628",
   "metadata": {},
   "outputs": [],
   "source": []
  },
  {
   "cell_type": "code",
   "execution_count": null,
   "id": "1f51f001",
   "metadata": {},
   "outputs": [],
   "source": []
  }
 ],
 "metadata": {
  "kernelspec": {
   "display_name": "Python 3 (ipykernel)",
   "language": "python",
   "name": "python3"
  },
  "language_info": {
   "codemirror_mode": {
    "name": "ipython",
    "version": 3
   },
   "file_extension": ".py",
   "mimetype": "text/x-python",
   "name": "python",
   "nbconvert_exporter": "python",
   "pygments_lexer": "ipython3",
   "version": "3.9.15"
  }
 },
 "nbformat": 4,
 "nbformat_minor": 5
}
