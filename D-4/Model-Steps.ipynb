{
 "cells": [
  {
   "cell_type": "code",
   "execution_count": 1,
   "id": "acf59c96",
   "metadata": {},
   "outputs": [],
   "source": [
    "from Funcs.Utility import *"
   ]
  },
  {
   "cell_type": "code",
   "execution_count": 2,
   "id": "0103d768",
   "metadata": {},
   "outputs": [],
   "source": [
    "p = os.path.join(PATH_INTERMEDIATE, 'calorie_count_binary_personal-15min.pkl')\n",
    "X, y, groups, t, datetimes = load(p)"
   ]
  },
  {
   "cell_type": "code",
   "execution_count": 3,
   "id": "44afc544",
   "metadata": {},
   "outputs": [
    {
     "data": {
      "text/html": [
       "<div>\n",
       "<style scoped>\n",
       "    .dataframe tbody tr th:only-of-type {\n",
       "        vertical-align: middle;\n",
       "    }\n",
       "\n",
       "    .dataframe tbody tr th {\n",
       "        vertical-align: top;\n",
       "    }\n",
       "\n",
       "    .dataframe thead th {\n",
       "        text-align: right;\n",
       "    }\n",
       "</style>\n",
       "<table border=\"1\" class=\"dataframe\">\n",
       "  <thead>\n",
       "    <tr style=\"text-align: right;\">\n",
       "      <th></th>\n",
       "      <th>PIF#participationStartTimestamp</th>\n",
       "      <th>PIF#age</th>\n",
       "      <th>PIF#openness</th>\n",
       "      <th>PIF#conscientiousness</th>\n",
       "      <th>PIF#neuroticism</th>\n",
       "      <th>PIF#extraversion</th>\n",
       "      <th>PIF#agreeableness</th>\n",
       "      <th>PIF#GHQ12</th>\n",
       "      <th>PIF#PSS10</th>\n",
       "      <th>PIF#CESD-R</th>\n",
       "      <th>...</th>\n",
       "      <th>PWR#RLV_SUP_TodayAfternoon</th>\n",
       "      <th>PWR#ETP#_TodayLateAfternoon</th>\n",
       "      <th>PWR#ASC#_TodayLateAfternoon</th>\n",
       "      <th>PWR#RLV_SUP_TodayLateAfternoon</th>\n",
       "      <th>PWR#ETP#_TodayEvening</th>\n",
       "      <th>PWR#ASC#_TodayEvening</th>\n",
       "      <th>PWR#RLV_SUP_TodayEvening</th>\n",
       "      <th>PWR#ETP#_TodayNight</th>\n",
       "      <th>PWR#ASC#_TodayNight</th>\n",
       "      <th>PWR#RLV_SUP_TodayNight</th>\n",
       "    </tr>\n",
       "  </thead>\n",
       "  <tbody>\n",
       "    <tr>\n",
       "      <th>0</th>\n",
       "      <td>1.637712e+12</td>\n",
       "      <td>23.0</td>\n",
       "      <td>11.0</td>\n",
       "      <td>12.0</td>\n",
       "      <td>3.0</td>\n",
       "      <td>10.0</td>\n",
       "      <td>9.0</td>\n",
       "      <td>9.0</td>\n",
       "      <td>11.0</td>\n",
       "      <td>0.0</td>\n",
       "      <td>...</td>\n",
       "      <td>0.0</td>\n",
       "      <td>0.0</td>\n",
       "      <td>0.0</td>\n",
       "      <td>0.0</td>\n",
       "      <td>0.0</td>\n",
       "      <td>0.0</td>\n",
       "      <td>0.0</td>\n",
       "      <td>0.0</td>\n",
       "      <td>0.0</td>\n",
       "      <td>0.0</td>\n",
       "    </tr>\n",
       "    <tr>\n",
       "      <th>1</th>\n",
       "      <td>1.637712e+12</td>\n",
       "      <td>23.0</td>\n",
       "      <td>11.0</td>\n",
       "      <td>12.0</td>\n",
       "      <td>3.0</td>\n",
       "      <td>10.0</td>\n",
       "      <td>9.0</td>\n",
       "      <td>9.0</td>\n",
       "      <td>11.0</td>\n",
       "      <td>0.0</td>\n",
       "      <td>...</td>\n",
       "      <td>0.0</td>\n",
       "      <td>0.0</td>\n",
       "      <td>0.0</td>\n",
       "      <td>0.0</td>\n",
       "      <td>0.0</td>\n",
       "      <td>0.0</td>\n",
       "      <td>0.0</td>\n",
       "      <td>0.0</td>\n",
       "      <td>0.0</td>\n",
       "      <td>0.0</td>\n",
       "    </tr>\n",
       "    <tr>\n",
       "      <th>2</th>\n",
       "      <td>1.637712e+12</td>\n",
       "      <td>23.0</td>\n",
       "      <td>11.0</td>\n",
       "      <td>12.0</td>\n",
       "      <td>3.0</td>\n",
       "      <td>10.0</td>\n",
       "      <td>9.0</td>\n",
       "      <td>9.0</td>\n",
       "      <td>11.0</td>\n",
       "      <td>0.0</td>\n",
       "      <td>...</td>\n",
       "      <td>0.0</td>\n",
       "      <td>0.0</td>\n",
       "      <td>0.0</td>\n",
       "      <td>0.0</td>\n",
       "      <td>0.0</td>\n",
       "      <td>0.0</td>\n",
       "      <td>0.0</td>\n",
       "      <td>0.0</td>\n",
       "      <td>0.0</td>\n",
       "      <td>0.0</td>\n",
       "    </tr>\n",
       "    <tr>\n",
       "      <th>3</th>\n",
       "      <td>1.637712e+12</td>\n",
       "      <td>23.0</td>\n",
       "      <td>11.0</td>\n",
       "      <td>12.0</td>\n",
       "      <td>3.0</td>\n",
       "      <td>10.0</td>\n",
       "      <td>9.0</td>\n",
       "      <td>9.0</td>\n",
       "      <td>11.0</td>\n",
       "      <td>0.0</td>\n",
       "      <td>...</td>\n",
       "      <td>0.0</td>\n",
       "      <td>0.0</td>\n",
       "      <td>0.0</td>\n",
       "      <td>0.0</td>\n",
       "      <td>0.0</td>\n",
       "      <td>0.0</td>\n",
       "      <td>0.0</td>\n",
       "      <td>0.0</td>\n",
       "      <td>0.0</td>\n",
       "      <td>0.0</td>\n",
       "    </tr>\n",
       "    <tr>\n",
       "      <th>4</th>\n",
       "      <td>1.637712e+12</td>\n",
       "      <td>23.0</td>\n",
       "      <td>11.0</td>\n",
       "      <td>12.0</td>\n",
       "      <td>3.0</td>\n",
       "      <td>10.0</td>\n",
       "      <td>9.0</td>\n",
       "      <td>9.0</td>\n",
       "      <td>11.0</td>\n",
       "      <td>0.0</td>\n",
       "      <td>...</td>\n",
       "      <td>0.0</td>\n",
       "      <td>0.0</td>\n",
       "      <td>0.0</td>\n",
       "      <td>0.0</td>\n",
       "      <td>0.0</td>\n",
       "      <td>0.0</td>\n",
       "      <td>0.0</td>\n",
       "      <td>0.0</td>\n",
       "      <td>0.0</td>\n",
       "      <td>0.0</td>\n",
       "    </tr>\n",
       "    <tr>\n",
       "      <th>...</th>\n",
       "      <td>...</td>\n",
       "      <td>...</td>\n",
       "      <td>...</td>\n",
       "      <td>...</td>\n",
       "      <td>...</td>\n",
       "      <td>...</td>\n",
       "      <td>...</td>\n",
       "      <td>...</td>\n",
       "      <td>...</td>\n",
       "      <td>...</td>\n",
       "      <td>...</td>\n",
       "      <td>...</td>\n",
       "      <td>...</td>\n",
       "      <td>...</td>\n",
       "      <td>...</td>\n",
       "      <td>...</td>\n",
       "      <td>...</td>\n",
       "      <td>...</td>\n",
       "      <td>...</td>\n",
       "      <td>...</td>\n",
       "      <td>...</td>\n",
       "    </tr>\n",
       "    <tr>\n",
       "      <th>21614</th>\n",
       "      <td>1.638922e+12</td>\n",
       "      <td>20.0</td>\n",
       "      <td>10.0</td>\n",
       "      <td>8.0</td>\n",
       "      <td>4.0</td>\n",
       "      <td>7.0</td>\n",
       "      <td>14.0</td>\n",
       "      <td>7.0</td>\n",
       "      <td>12.0</td>\n",
       "      <td>4.0</td>\n",
       "      <td>...</td>\n",
       "      <td>0.0</td>\n",
       "      <td>0.0</td>\n",
       "      <td>0.0</td>\n",
       "      <td>0.0</td>\n",
       "      <td>0.0</td>\n",
       "      <td>0.0</td>\n",
       "      <td>0.0</td>\n",
       "      <td>0.0</td>\n",
       "      <td>0.0</td>\n",
       "      <td>0.0</td>\n",
       "    </tr>\n",
       "    <tr>\n",
       "      <th>21615</th>\n",
       "      <td>1.638922e+12</td>\n",
       "      <td>20.0</td>\n",
       "      <td>10.0</td>\n",
       "      <td>8.0</td>\n",
       "      <td>4.0</td>\n",
       "      <td>7.0</td>\n",
       "      <td>14.0</td>\n",
       "      <td>7.0</td>\n",
       "      <td>12.0</td>\n",
       "      <td>4.0</td>\n",
       "      <td>...</td>\n",
       "      <td>0.0</td>\n",
       "      <td>0.0</td>\n",
       "      <td>0.0</td>\n",
       "      <td>0.0</td>\n",
       "      <td>0.0</td>\n",
       "      <td>0.0</td>\n",
       "      <td>0.0</td>\n",
       "      <td>0.0</td>\n",
       "      <td>0.0</td>\n",
       "      <td>0.0</td>\n",
       "    </tr>\n",
       "    <tr>\n",
       "      <th>21616</th>\n",
       "      <td>1.638922e+12</td>\n",
       "      <td>20.0</td>\n",
       "      <td>10.0</td>\n",
       "      <td>8.0</td>\n",
       "      <td>4.0</td>\n",
       "      <td>7.0</td>\n",
       "      <td>14.0</td>\n",
       "      <td>7.0</td>\n",
       "      <td>12.0</td>\n",
       "      <td>4.0</td>\n",
       "      <td>...</td>\n",
       "      <td>0.0</td>\n",
       "      <td>0.0</td>\n",
       "      <td>0.0</td>\n",
       "      <td>0.0</td>\n",
       "      <td>0.0</td>\n",
       "      <td>0.0</td>\n",
       "      <td>0.0</td>\n",
       "      <td>0.0</td>\n",
       "      <td>0.0</td>\n",
       "      <td>0.0</td>\n",
       "    </tr>\n",
       "    <tr>\n",
       "      <th>21617</th>\n",
       "      <td>1.638922e+12</td>\n",
       "      <td>20.0</td>\n",
       "      <td>10.0</td>\n",
       "      <td>8.0</td>\n",
       "      <td>4.0</td>\n",
       "      <td>7.0</td>\n",
       "      <td>14.0</td>\n",
       "      <td>7.0</td>\n",
       "      <td>12.0</td>\n",
       "      <td>4.0</td>\n",
       "      <td>...</td>\n",
       "      <td>0.0</td>\n",
       "      <td>0.0</td>\n",
       "      <td>0.0</td>\n",
       "      <td>0.0</td>\n",
       "      <td>0.0</td>\n",
       "      <td>0.0</td>\n",
       "      <td>0.0</td>\n",
       "      <td>0.0</td>\n",
       "      <td>0.0</td>\n",
       "      <td>0.0</td>\n",
       "    </tr>\n",
       "    <tr>\n",
       "      <th>21618</th>\n",
       "      <td>1.638922e+12</td>\n",
       "      <td>20.0</td>\n",
       "      <td>10.0</td>\n",
       "      <td>8.0</td>\n",
       "      <td>4.0</td>\n",
       "      <td>7.0</td>\n",
       "      <td>14.0</td>\n",
       "      <td>7.0</td>\n",
       "      <td>12.0</td>\n",
       "      <td>4.0</td>\n",
       "      <td>...</td>\n",
       "      <td>0.0</td>\n",
       "      <td>0.0</td>\n",
       "      <td>0.0</td>\n",
       "      <td>0.0</td>\n",
       "      <td>0.0</td>\n",
       "      <td>0.0</td>\n",
       "      <td>0.0</td>\n",
       "      <td>0.0</td>\n",
       "      <td>0.0</td>\n",
       "      <td>0.0</td>\n",
       "    </tr>\n",
       "  </tbody>\n",
       "</table>\n",
       "<p>21619 rows × 2063 columns</p>\n",
       "</div>"
      ],
      "text/plain": [
       "       PIF#participationStartTimestamp  PIF#age  PIF#openness  \\\n",
       "0                         1.637712e+12     23.0          11.0   \n",
       "1                         1.637712e+12     23.0          11.0   \n",
       "2                         1.637712e+12     23.0          11.0   \n",
       "3                         1.637712e+12     23.0          11.0   \n",
       "4                         1.637712e+12     23.0          11.0   \n",
       "...                                ...      ...           ...   \n",
       "21614                     1.638922e+12     20.0          10.0   \n",
       "21615                     1.638922e+12     20.0          10.0   \n",
       "21616                     1.638922e+12     20.0          10.0   \n",
       "21617                     1.638922e+12     20.0          10.0   \n",
       "21618                     1.638922e+12     20.0          10.0   \n",
       "\n",
       "       PIF#conscientiousness  PIF#neuroticism  PIF#extraversion  \\\n",
       "0                       12.0              3.0              10.0   \n",
       "1                       12.0              3.0              10.0   \n",
       "2                       12.0              3.0              10.0   \n",
       "3                       12.0              3.0              10.0   \n",
       "4                       12.0              3.0              10.0   \n",
       "...                      ...              ...               ...   \n",
       "21614                    8.0              4.0               7.0   \n",
       "21615                    8.0              4.0               7.0   \n",
       "21616                    8.0              4.0               7.0   \n",
       "21617                    8.0              4.0               7.0   \n",
       "21618                    8.0              4.0               7.0   \n",
       "\n",
       "       PIF#agreeableness  PIF#GHQ12  PIF#PSS10  PIF#CESD-R  ...  \\\n",
       "0                    9.0        9.0       11.0         0.0  ...   \n",
       "1                    9.0        9.0       11.0         0.0  ...   \n",
       "2                    9.0        9.0       11.0         0.0  ...   \n",
       "3                    9.0        9.0       11.0         0.0  ...   \n",
       "4                    9.0        9.0       11.0         0.0  ...   \n",
       "...                  ...        ...        ...         ...  ...   \n",
       "21614               14.0        7.0       12.0         4.0  ...   \n",
       "21615               14.0        7.0       12.0         4.0  ...   \n",
       "21616               14.0        7.0       12.0         4.0  ...   \n",
       "21617               14.0        7.0       12.0         4.0  ...   \n",
       "21618               14.0        7.0       12.0         4.0  ...   \n",
       "\n",
       "       PWR#RLV_SUP_TodayAfternoon  PWR#ETP#_TodayLateAfternoon  \\\n",
       "0                             0.0                          0.0   \n",
       "1                             0.0                          0.0   \n",
       "2                             0.0                          0.0   \n",
       "3                             0.0                          0.0   \n",
       "4                             0.0                          0.0   \n",
       "...                           ...                          ...   \n",
       "21614                         0.0                          0.0   \n",
       "21615                         0.0                          0.0   \n",
       "21616                         0.0                          0.0   \n",
       "21617                         0.0                          0.0   \n",
       "21618                         0.0                          0.0   \n",
       "\n",
       "       PWR#ASC#_TodayLateAfternoon  PWR#RLV_SUP_TodayLateAfternoon  \\\n",
       "0                              0.0                             0.0   \n",
       "1                              0.0                             0.0   \n",
       "2                              0.0                             0.0   \n",
       "3                              0.0                             0.0   \n",
       "4                              0.0                             0.0   \n",
       "...                            ...                             ...   \n",
       "21614                          0.0                             0.0   \n",
       "21615                          0.0                             0.0   \n",
       "21616                          0.0                             0.0   \n",
       "21617                          0.0                             0.0   \n",
       "21618                          0.0                             0.0   \n",
       "\n",
       "       PWR#ETP#_TodayEvening  PWR#ASC#_TodayEvening  PWR#RLV_SUP_TodayEvening  \\\n",
       "0                        0.0                    0.0                       0.0   \n",
       "1                        0.0                    0.0                       0.0   \n",
       "2                        0.0                    0.0                       0.0   \n",
       "3                        0.0                    0.0                       0.0   \n",
       "4                        0.0                    0.0                       0.0   \n",
       "...                      ...                    ...                       ...   \n",
       "21614                    0.0                    0.0                       0.0   \n",
       "21615                    0.0                    0.0                       0.0   \n",
       "21616                    0.0                    0.0                       0.0   \n",
       "21617                    0.0                    0.0                       0.0   \n",
       "21618                    0.0                    0.0                       0.0   \n",
       "\n",
       "       PWR#ETP#_TodayNight  PWR#ASC#_TodayNight  PWR#RLV_SUP_TodayNight  \n",
       "0                      0.0                  0.0                     0.0  \n",
       "1                      0.0                  0.0                     0.0  \n",
       "2                      0.0                  0.0                     0.0  \n",
       "3                      0.0                  0.0                     0.0  \n",
       "4                      0.0                  0.0                     0.0  \n",
       "...                    ...                  ...                     ...  \n",
       "21614                  0.0                  0.0                     0.0  \n",
       "21615                  0.0                  0.0                     0.0  \n",
       "21616                  0.0                  0.0                     0.0  \n",
       "21617                  0.0                  0.0                     0.0  \n",
       "21618                  0.0                  0.0                     0.0  \n",
       "\n",
       "[21619 rows x 2063 columns]"
      ]
     },
     "execution_count": 3,
     "metadata": {},
     "output_type": "execute_result"
    }
   ],
   "source": [
    "X"
   ]
  },
  {
   "cell_type": "code",
   "execution_count": 4,
   "id": "deb6e277",
   "metadata": {},
   "outputs": [],
   "source": [
    "#Divide the features into different categories\n",
    "feat_current = X.loc[:,[('#VAL' in str(x)) or ('ESM#LastLabel' in str(x)) for x in X.keys()]]  \n",
    "feat_dsc = X.loc[:,[('#DSC' in str(x))  for x in X.keys()]]  \n",
    "feat_yesterday = X.loc[:,[('Yesterday' in str(x))  for x in X.keys()]]  \n",
    "feat_today = X.loc[:,[('Today' in str(x))  for x in X.keys()]]  \n",
    "feat_sleep = X.loc[:,[('Sleep' in str(x))  for x in X.keys()]]  \n",
    "feat_time = X.loc[:,[('Time' in str(x))  for x in X.keys()]]  \n",
    "feat_pif = X.loc[:,[('PIF' in str(x))  for x in X.keys()]]  \n",
    "feat_ImmediatePast = X.loc[:,[('ImmediatePast_15' in str(x))  for x in X.keys()]]\n",
    "#Divide the time window features into sensor/past stress label\n",
    "feat_current_sensor = X.loc[:,[('#VAL' in str(x))  for x in X.keys()]]  \n",
    "feat_current_ESM = X.loc[:,[('ESM#LastLabel' in str(x)) for x in X.keys()]]  \n",
    "feat_ImmediatePast_sensor = feat_ImmediatePast.loc[:,[('ESM' not in str(x)) for x in feat_ImmediatePast.keys()]]  \n",
    "feat_ImmediatePast_ESM = feat_ImmediatePast.loc[:,[('ESM'  in str(x)) for x in feat_ImmediatePast.keys()]]  \n",
    "feat_today_sensor = feat_today.loc[:,[('ESM' not in str(x))  for x in feat_today.keys()]]  \n",
    "feat_today_ESM = feat_today.loc[:,[('ESM'  in str(x)) for x in feat_today.keys()]]  \n",
    "feat_yesterday_sensor = feat_yesterday.loc[:,[('ESM' not in str(x)) for x in feat_yesterday.keys()]]  \n",
    "feat_yesterday_ESM = feat_yesterday.loc[:,[('ESM'  in str(x)) for x in feat_yesterday.keys()]]"
   ]
  },
  {
   "cell_type": "code",
   "execution_count": 5,
   "id": "a3f12f04",
   "metadata": {},
   "outputs": [],
   "source": [
    "feat_baseline = pd.concat([ feat_time,feat_dsc,feat_current_sensor, feat_ImmediatePast_sensor],axis=1)\n",
    "feat_final = pd.concat([feat_baseline  ], axis=1)\n",
    "# # Fill NaN values with zeros\n",
    "feat_final = feat_final.fillna(0)\n",
    "X = feat_final\n",
    "cats = X.columns[X.dtypes == bool]"
   ]
  },
  {
   "cell_type": "code",
   "execution_count": 6,
   "id": "2d503860",
   "metadata": {},
   "outputs": [],
   "source": [
    "X = X.loc[:, ~X.columns.str.startswith(('SCR', 'PWR', 'CHG', 'BAT','LOC'))]"
   ]
  },
  {
   "cell_type": "code",
   "execution_count": 7,
   "id": "3e195e17",
   "metadata": {},
   "outputs": [
    {
     "name": "stdout",
     "output_type": "stream",
     "text": [
      "['PIF#participationStartTimestamp', 'Time#DOW=MON', 'Time#DOW=TUE', 'Time#DOW=WED', 'Time#DOW=THU', 'Time#DOW=FRI', 'Time#DOW=SAT', 'Time#DOW=SUN', 'Time#WKD=Y', 'Time#WKD=N', 'Time#HRN=DAWN', 'Time#HRN=MORNING', 'Time#HRN=AFTERNOON', 'Time#HRN=LATE_AFTERNOON', 'Time#HRN=EVENING', 'Time#HRN=NIGHT', 'Time#HRN=MIDNIGHT', 'APP_CAT#DSC', 'APP_CAT#DSC=UNKNOWNSYSTEMENTERSOCIALHEALTHWORKINFO', 'CALL_CNT#DSC', 'CALL_CNT#DSC=UNKNOWNMOBILEOTHERWORKHOMEUNDEFINEDMAIN', 'RING#DSC', 'RING#DSC=VIBRATESILENTNORMAL', 'BT_BondState#DSC', 'BT_BondState#DSC=NONEBONDEDBONDING', 'BT_DeviceType#DSC', 'BT_DeviceType#DSC=LECLASSICUNDEFINEDDUAL', 'BT_classType#DSC', 'BT_classType#DSC=UNDEFINEDPHONE_SMARTWEARABLE_WRIST_WATCHCOMPUTER_LAPTOPAUDIO_VIDEO_SET_TOP_BOXAUDIO_VIDEO_HANDSFREEAUDIO_VIDEO_VIDEO_DISPLAY_AND_LOUDSPEAKERAUDIO_VIDEO_WEARABLE_HEADSETPHONE_CELLULARCOMPUTER_DESKTOPCOMPUTER_HANDHELD_PC_PDAAUDIO_VIDEO_UNCATEGORIZEDAUDIO_VIDEO_LOUDSPEAKERAUDIO_VIDEO_HEADPHONESAUDIO_VIDEO_HIFI_AUDIOAUDIO_VIDEO_CAR_AUDIOHEALTH_PULSE_OXIMETERHEALTH_UNCATEGORIZEDCOMPUTER_UNCATEGORIZEDWEARABLE_JACKETHEALTH_PULSE_RATEAUDIO_VIDEO_PORTABLE_AUDIOPHONE_MODEM_OR_GATEWAYHEALTH_BLOOD_PRESSURECOMPUTER_WEARABLEHEALTH_DATA_DISPLAYTOY_ROBOTCOMPUTER_PALM_SIZE_PC_PDACOMPUTER_SERVER', 'Dozemode#DSC', 'Dozemode#DSC=ACTIVATE', 'Dozemode#DSC=DEACTIVATE', 'Notification_VIS#DSC', 'Notification_VIS#DSC=PRIVATESECRETPUBLIC', 'Notification_CAT#DSC', 'Notification_CAT#DSC=UNDEFINEDSTATUSMESSAGESERVICEPROGRESSSYSTEMREMINDERALARMTRANSPORTEMAILCALLEVENTPROMOERRORRECOMMENDATIONSOCIALNAVIGATION', 'APP_DUR_UNKNOWN#VAL', 'APP_CAT#VAL=UNKNOWNSYSTEMENTERSOCIALHEALTHWORKINFO', 'CALL_DUR#VAL', 'CALL_CNT#VAL=UNKNOWNMOBILEOTHERWORKHOMEUNDEFINEDMAIN', 'DATA_RCV#VAL', 'DATA_SNT#VAL', 'DATA_MRCV#VAL', 'DATA_MSNT#VAL', 'INST_JAC#VAL', 'MSG_SNT#VAL', 'MSG_RCV#VAL', 'MSG_ALL#VAL', 'RING#VAL=VIBRATESILENTNORMAL', 'BT_BondState#VAL=NONEBONDEDBONDING', 'BT_DeviceType#VAL=LECLASSICUNDEFINEDDUAL', 'BT_classType#VAL=UNDEFINEDPHONE_SMARTWEARABLE_WRIST_WATCHCOMPUTER_LAPTOPAUDIO_VIDEO_SET_TOP_BOXAUDIO_VIDEO_HANDSFREEAUDIO_VIDEO_VIDEO_DISPLAY_AND_LOUDSPEAKERAUDIO_VIDEO_WEARABLE_HEADSETPHONE_CELLULARCOMPUTER_DESKTOPCOMPUTER_HANDHELD_PC_PDAAUDIO_VIDEO_UNCATEGORIZEDAUDIO_VIDEO_LOUDSPEAKERAUDIO_VIDEO_HEADPHONESAUDIO_VIDEO_HIFI_AUDIOAUDIO_VIDEO_CAR_AUDIOHEALTH_PULSE_OXIMETERHEALTH_UNCATEGORIZEDCOMPUTER_UNCATEGORIZEDWEARABLE_JACKETHEALTH_PULSE_RATEAUDIO_VIDEO_PORTABLE_AUDIOPHONE_MODEM_OR_GATEWAYHEALTH_BLOOD_PRESSURECOMPUTER_WEARABLEHEALTH_DATA_DISPLAYTOY_ROBOTCOMPUTER_PALM_SIZE_PC_PDACOMPUTER_SERVER', 'Dozemode#VAL=ACTIVATE', 'Dozemode#VAL=DEACTIVATE', 'Notification_VIS#VAL=PRIVATESECRETPUBLIC', 'Notification_CAT#VAL=UNDEFINEDSTATUSMESSAGESERVICEPROGRESSSYSTEMREMINDERALARMTRANSPORTEMAILCALLEVENTPROMOERRORRECOMMENDATIONSOCIALNAVIGATION', 'APP_DUR_UNKNOWN#AVG#ImmediatePast_15', 'APP_DUR_UNKNOWN#STD#ImmediatePast_15', 'APP_DUR_UNKNOWN#SKW#ImmediatePast_15', 'APP_DUR_UNKNOWN#KUR#ImmediatePast_15', 'APP_DUR_UNKNOWN#ASC#ImmediatePast_15', 'APP_DUR_UNKNOWN#BEP#ImmediatePast_15', 'APP_DUR_UNKNOWN#MED#ImmediatePast_15', 'APP_DUR_UNKNOWN#TSC#ImmediatePast_15', 'APP_CAT#ETP##ImmediatePast_15', 'APP_CAT#ASC##ImmediatePast_15', 'APP_CAT#RLV_SUP=UNKNOWNSYSTEMENTERSOCIALHEALTHWORKINFO#ImmediatePast_15', 'CALL_DUR#AVG#ImmediatePast_15', 'CALL_DUR#STD#ImmediatePast_15', 'CALL_DUR#SKW#ImmediatePast_15', 'CALL_DUR#KUR#ImmediatePast_15', 'CALL_DUR#ASC#ImmediatePast_15', 'CALL_DUR#BEP#ImmediatePast_15', 'CALL_DUR#MED#ImmediatePast_15', 'CALL_DUR#TSC#ImmediatePast_15', 'CALL_CNT#ETP##ImmediatePast_15', 'CALL_CNT#ASC##ImmediatePast_15', 'CALL_CNT#RLV_SUP=UNKNOWNMOBILEOTHERWORKHOMEUNDEFINEDMAIN#ImmediatePast_15', 'DATA_RCV#AVG#ImmediatePast_15', 'DATA_RCV#STD#ImmediatePast_15', 'DATA_RCV#SKW#ImmediatePast_15', 'DATA_RCV#KUR#ImmediatePast_15', 'DATA_RCV#ASC#ImmediatePast_15', 'DATA_RCV#BEP#ImmediatePast_15', 'DATA_RCV#MED#ImmediatePast_15', 'DATA_RCV#TSC#ImmediatePast_15', 'DATA_SNT#AVG#ImmediatePast_15', 'DATA_SNT#STD#ImmediatePast_15', 'DATA_SNT#SKW#ImmediatePast_15', 'DATA_SNT#KUR#ImmediatePast_15', 'DATA_SNT#ASC#ImmediatePast_15', 'DATA_SNT#BEP#ImmediatePast_15', 'DATA_SNT#MED#ImmediatePast_15', 'DATA_SNT#TSC#ImmediatePast_15', 'DATA_MRCV#AVG#ImmediatePast_15', 'DATA_MRCV#STD#ImmediatePast_15', 'DATA_MRCV#SKW#ImmediatePast_15', 'DATA_MRCV#KUR#ImmediatePast_15', 'DATA_MRCV#ASC#ImmediatePast_15', 'DATA_MRCV#BEP#ImmediatePast_15', 'DATA_MRCV#MED#ImmediatePast_15', 'DATA_MRCV#TSC#ImmediatePast_15', 'DATA_MSNT#AVG#ImmediatePast_15', 'DATA_MSNT#STD#ImmediatePast_15', 'DATA_MSNT#SKW#ImmediatePast_15', 'DATA_MSNT#KUR#ImmediatePast_15', 'DATA_MSNT#ASC#ImmediatePast_15', 'DATA_MSNT#BEP#ImmediatePast_15', 'DATA_MSNT#MED#ImmediatePast_15', 'DATA_MSNT#TSC#ImmediatePast_15', 'INST_JAC#AVG#ImmediatePast_15', 'INST_JAC#STD#ImmediatePast_15', 'INST_JAC#SKW#ImmediatePast_15', 'INST_JAC#KUR#ImmediatePast_15', 'INST_JAC#ASC#ImmediatePast_15', 'INST_JAC#BEP#ImmediatePast_15', 'INST_JAC#MED#ImmediatePast_15', 'INST_JAC#TSC#ImmediatePast_15', 'MSG_SNT#AVG#ImmediatePast_15', 'MSG_SNT#STD#ImmediatePast_15', 'MSG_SNT#SKW#ImmediatePast_15', 'MSG_SNT#KUR#ImmediatePast_15', 'MSG_SNT#ASC#ImmediatePast_15', 'MSG_SNT#BEP#ImmediatePast_15', 'MSG_SNT#MED#ImmediatePast_15', 'MSG_SNT#TSC#ImmediatePast_15', 'MSG_RCV#AVG#ImmediatePast_15', 'MSG_RCV#STD#ImmediatePast_15', 'MSG_RCV#SKW#ImmediatePast_15', 'MSG_RCV#KUR#ImmediatePast_15', 'MSG_RCV#ASC#ImmediatePast_15', 'MSG_RCV#BEP#ImmediatePast_15', 'MSG_RCV#MED#ImmediatePast_15', 'MSG_RCV#TSC#ImmediatePast_15', 'MSG_ALL#AVG#ImmediatePast_15', 'MSG_ALL#STD#ImmediatePast_15', 'MSG_ALL#SKW#ImmediatePast_15', 'MSG_ALL#KUR#ImmediatePast_15', 'MSG_ALL#ASC#ImmediatePast_15', 'MSG_ALL#BEP#ImmediatePast_15', 'MSG_ALL#MED#ImmediatePast_15', 'MSG_ALL#TSC#ImmediatePast_15', 'Sleep#Duration#ImmediatePast_15', 'Sleep#Onset#ImmediatePast_15', 'Sleep#Midpoint#ImmediatePast_15', 'RING#ETP##ImmediatePast_15', 'RING#ASC##ImmediatePast_15', 'RING#RLV_SUP=VIBRATESILENTNORMAL#ImmediatePast_15', 'BT_BondState#ETP##ImmediatePast_15', 'BT_BondState#ASC##ImmediatePast_15', 'BT_BondState#RLV_SUP=NONEBONDEDBONDING#ImmediatePast_15', 'BT_DeviceType#ETP##ImmediatePast_15', 'BT_DeviceType#ASC##ImmediatePast_15', 'BT_DeviceType#RLV_SUP=LECLASSICUNDEFINEDDUAL#ImmediatePast_15', 'BT_classType#ETP##ImmediatePast_15', 'BT_classType#ASC##ImmediatePast_15', 'BT_classType#RLV_SUP=UNDEFINEDPHONE_SMARTWEARABLE_WRIST_WATCHCOMPUTER_LAPTOPAUDIO_VIDEO_SET_TOP_BOXAUDIO_VIDEO_HANDSFREEAUDIO_VIDEO_VIDEO_DISPLAY_AND_LOUDSPEAKERAUDIO_VIDEO_WEARABLE_HEADSETPHONE_CELLULARCOMPUTER_DESKTOPCOMPUTER_HANDHELD_PC_PDAAUDIO_VIDEO_UNCATEGORIZEDAUDIO_VIDEO_LOUDSPEAKERAUDIO_VIDEO_HEADPHONESAUDIO_VIDEO_HIFI_AUDIOAUDIO_VIDEO_CAR_AUDIOHEALTH_PULSE_OXIMETERHEALTH_UNCATEGORIZEDCOMPUTER_UNCATEGORIZEDWEARABLE_JACKETHEALTH_PULSE_RATEAUDIO_VIDEO_PORTABLE_AUDIOPHONE_MODEM_OR_GATEWAYHEALTH_BLOOD_PRESSURECOMPUTER_WEARABLEHEALTH_DATA_DISPLAYTOY_ROBOTCOMPUTER_PALM_SIZE_PC_PDACOMPUTER_SERVER#ImmediatePast_15', 'Dozemode#ETP##ImmediatePast_15', 'Dozemode#ASC##ImmediatePast_15', 'Dozemode#RLV_SUP#ImmediatePast_15', 'Notification_VIS#ETP##ImmediatePast_15', 'Notification_VIS#ASC##ImmediatePast_15', 'Notification_VIS#RLV_SUP=PRIVATESECRETPUBLIC#ImmediatePast_15', 'Notification_CAT#ETP##ImmediatePast_15', 'Notification_CAT#ASC##ImmediatePast_15', 'Notification_CAT#RLV_SUP=UNDEFINEDSTATUSMESSAGESERVICEPROGRESSSYSTEMREMINDERALARMTRANSPORTEMAILCALLEVENTPROMOERRORRECOMMENDATIONSOCIALNAVIGATION#ImmediatePast_15']\n"
     ]
    }
   ],
   "source": [
    "cn = X.columns.tolist()\n",
    "print(cn)"
   ]
  },
  {
   "cell_type": "code",
   "execution_count": 8,
   "id": "a7440513",
   "metadata": {},
   "outputs": [
    {
     "name": "stdout",
     "output_type": "stream",
     "text": [
      "{'Notification_VIS', 'BT_BondState', 'MSG_SNT', 'DATA_SNT', 'CALL_DUR', 'Time', 'BT_classType', 'Dozemode', 'MSG_RCV', 'Notification_CAT', 'MSG_ALL', 'APP_CAT', 'CALL_CNT', 'DATA_RCV', 'INST_JAC', 'BT_DeviceType', 'APP_DUR_UNKNOWN', 'Sleep', 'DATA_MRCV', 'PIF', 'DATA_MSNT', 'RING'}\n"
     ]
    }
   ],
   "source": [
    "unique_parts = set()\n",
    "for col in cn:\n",
    "    part = col.split('#')[0]  # Get the part before the first '#'\n",
    "    unique_parts.add(part)\n",
    "\n",
    "# Print the unique parts\n",
    "print(unique_parts)"
   ]
  },
  {
   "cell_type": "code",
   "execution_count": 9,
   "id": "3e8347b2",
   "metadata": {},
   "outputs": [],
   "source": [
    "columns_with_loc = [col for col in cn if 'LOC' in col]"
   ]
  },
  {
   "cell_type": "code",
   "execution_count": 10,
   "id": "49c23f98",
   "metadata": {
    "scrolled": true
   },
   "outputs": [
    {
     "data": {
      "text/plain": [
       "[]"
      ]
     },
     "execution_count": 10,
     "metadata": {},
     "output_type": "execute_result"
    }
   ],
   "source": [
    "columns_with_loc"
   ]
  },
  {
   "cell_type": "code",
   "execution_count": 11,
   "id": "52df0dce",
   "metadata": {},
   "outputs": [],
   "source": [
    "from sklearn.feature_selection import SelectFromModel\n",
    "from sklearn.linear_model import LogisticRegression\n",
    "from sklearn.base import clone\n",
    "\n",
    "normalize =True\n",
    "# Feature selection method\n",
    "selector = SelectFromModel(\n",
    "        estimator=LogisticRegression(penalty='l1', solver='liblinear', C=1, random_state=seed, max_iter=4000),\n",
    "        threshold=0.005\n",
    "#         estimator=LinearSVC(\n",
    "#         penalty='l1',\n",
    "#         loss='squared_hinge',\n",
    "#         dual=False,\n",
    "#         tol=1e-3,\n",
    "#         C=1e-2,\n",
    "#         max_iter=5000,\n",
    "#         random_state=RANDOM_STATE\n",
    "#     )  \n",
    "    )\n",
    "select = [clone(selector)]\n",
    "oversample = True"
   ]
  },
  {
   "cell_type": "code",
   "execution_count": 12,
   "id": "fda5c5d0",
   "metadata": {},
   "outputs": [],
   "source": [
    "import os\n",
    "import pandas as pd\n",
    "import numpy as np\n",
    "import ray\n",
    "from sklearn.model_selection import LeaveOneGroupOut\n",
    "from sklearn.feature_selection import SelectFromModel\n",
    "from sklearn.linear_model import LogisticRegression\n",
    "from sklearn.svm import LinearSVC\n",
    "from imblearn.over_sampling import SMOTENC, SMOTE\n",
    "from tqdm import tqdm\n",
    "from sklearn.model_selection import StratifiedGroupKFold, GroupKFold, KFold, TimeSeriesSplit, LeavePGroupsOut, train_test_split, GroupShuffleSplit\n",
    "from sklearn.preprocessing import StandardScaler, OrdinalEncoder, OneHotEncoder\n",
    "\n",
    "\n",
    "\n",
    "def get_cv_splits(cv_strategy, data, labels, groups=None):\n",
    "    \"\"\"\n",
    "    Returns the train-test splits based on the chosen cross-validation strategy.\n",
    "    \"\"\"\n",
    "    if cv_strategy == 'loso':\n",
    "        cv = LeaveOneGroupOut()\n",
    "        return cv.split(data, labels, groups)\n",
    "    elif cv_strategy == 'group_k_fold':\n",
    "        cv = GroupKFold(n_splits=5)  # You can adjust the number of splits\n",
    "        return cv.split(data, labels, groups)\n",
    "    elif cv_strategy == 'k_fold':\n",
    "        cv = KFold(n_splits=5)  # You can adjust the number of splits\n",
    "        return cv.split(data)\n",
    "    elif cv_strategy == 'time_series':\n",
    "        cv = TimeSeriesSplit(n_splits=5)  # You can adjust the number of splits\n",
    "        return cv.split(data)\n",
    "    else:\n",
    "        raise ValueError(f\"Unknown CV strategy: {cv_strategy}\")\n",
    "\n",
    "\n",
    "def get_categorical_features_indices(df):\n",
    "    return [i for i, col in enumerate(df.columns) if df[col].nunique() <= 10]\n",
    "\n",
    "def exclude_low_variance(agg_feature, threshold=.0000001):\n",
    "    agg_feature_non_zero_var = agg_feature.loc[:,agg_feature.var()>threshold]\n",
    "    num_removed = agg_feature.shape[1]-agg_feature_non_zero_var.shape[1]\n",
    "    print(f'{num_removed}/{agg_feature.shape[1]} features with variance < {threshold} removed')\n",
    "    return agg_feature_non_zero_var\n",
    "\n",
    "def remove_pairwise_corr(agg_feature_percent_missing, PAIRWISE_CORR_THRESHOLD=0.8, outcome_variable=None):\n",
    "    if outcome_variable is not None:\n",
    "        outcome_variable = pd.Series(outcome_variable, index=agg_feature_percent_missing.index, name=\"outcome\")\n",
    "        corr_with_outcome = pd.merge(outcome_variable, agg_feature_percent_missing, left_index=True, right_index=True).corr()[outcome_variable.name].abs().sort_values(ascending=False)\n",
    "        importance_order = corr_with_outcome.index[1:].tolist()\n",
    "        agg_feature_percent_missing = agg_feature_percent_missing[importance_order]\n",
    "\n",
    "    Matrix = agg_feature_percent_missing.corr().abs()\n",
    "    \n",
    "    upper_triangle = Matrix.where(np.triu(np.ones(Matrix.shape), k=1).astype(bool))\n",
    "\n",
    "    correlated_features = set()\n",
    "    for feature in upper_triangle.columns:\n",
    "        highly_correlated = upper_triangle[feature][upper_triangle[feature] > PAIRWISE_CORR_THRESHOLD].index\n",
    "        correlated_features.update(highly_correlated)\n",
    "\n",
    "    kept_features = list(set(agg_feature_percent_missing.columns) - correlated_features)\n",
    "    print(f\"Pairwise Corr: kept only {len(kept_features)}/{len(agg_feature_percent_missing.columns)} features\")\n",
    "    return agg_feature_percent_missing[kept_features]\n",
    "\n",
    "\n",
    "\n",
    "# Feature selection method\n",
    "def feature_selector(X_train, y_train):\n",
    "    selector = SelectFromModel(\n",
    "        estimator=LogisticRegression(penalty='l1', solver='liblinear', C=1, random_state=seed, max_iter=4000),\n",
    "        threshold=0.005\n",
    "#         estimator=LinearSVC(\n",
    "#         penalty='l1',\n",
    "#         loss='squared_hinge',\n",
    "#         dual=False,\n",
    "#         tol=1e-3,\n",
    "#         C=1e-2,\n",
    "#         max_iter=5000,\n",
    "#         random_state=RANDOM_STATE\n",
    "#     )\n",
    "    \n",
    "    )\n",
    "    selector.fit(X_train, y_train)\n",
    "    return selector\n",
    "\n",
    "def split_train_test(df, labels, train_idx, test_idx):\n",
    "    X_train = df.iloc[train_idx]\n",
    "    y_train = labels[train_idx]\n",
    "    X_test = df.iloc[test_idx]\n",
    "    y_test = labels[test_idx]\n",
    "    return X_train, y_train, X_test, y_test\n",
    "\n",
    "def process_dataframe(X):\n",
    "    \"\"\"\n",
    "    Process the input DataFrame 'X':\n",
    "    1. Set column names as a range from 0 to the number of columns.\n",
    "    2. Replace boolean values with 1 for True and 0 for False.\n",
    "\n",
    "    Parameters:\n",
    "        X (pandas.DataFrame): The input DataFrame.\n",
    "\n",
    "    Returns:\n",
    "        pandas.DataFrame: The processed DataFrame.\n",
    "    \"\"\"\n",
    "    # Set column names as a range from 0 to the number of columns\n",
    "    X.columns = range(X.shape[1])\n",
    "\n",
    "    # Replace boolean values with 1 for True and 0 for False\n",
    "#     X = X * 1\n",
    "\n",
    "    return X\n",
    "\n",
    "def save_data_to_data_file(X, y, filename):\n",
    "    if not os.path.exists(PATH_SAVE_CALORIES):\n",
    "        os.makedirs(PATH_SAVE_CALORIES)\n",
    "\n",
    "    file_path = os.path.join(PATH_SAVE_CALORIES, filename)\n",
    "\n",
    "    with open(file_path, 'w') as f:\n",
    "        for i in range(len(X)):\n",
    "            # Check if y is a numpy array or dataframe\n",
    "            label = y[i] if isinstance(y, np.ndarray) else y.iloc[i].values[0]\n",
    "            \n",
    "            # Start building the line with the label\n",
    "            line = str(label)\n",
    "            \n",
    "            # Iterate through columns of X\n",
    "            for col_idx, value in enumerate(X[i] if isinstance(X, np.ndarray) else X.iloc[i]):\n",
    "                line += \" {}:{}\".format(col_idx, value)\n",
    "            \n",
    "            f.write(line + '\\n')"
   ]
  },
  {
   "cell_type": "code",
   "execution_count": 13,
   "id": "ee08aea0",
   "metadata": {},
   "outputs": [],
   "source": [
    "import os\n",
    "import pandas as pd\n",
    "import numpy as np\n",
    "import ray\n",
    "from sklearn.model_selection import LeaveOneGroupOut\n",
    "from sklearn.feature_selection import SelectFromModel\n",
    "from sklearn.linear_model import LogisticRegression\n",
    "from sklearn.svm import LinearSVC\n",
    "from imblearn.over_sampling import SMOTENC, SMOTE\n",
    "from tqdm import tqdm\n",
    "from sklearn.model_selection import StratifiedGroupKFold, GroupKFold, KFold, TimeSeriesSplit, LeavePGroupsOut, train_test_split, GroupShuffleSplit\n",
    "from sklearn.preprocessing import StandardScaler, OrdinalEncoder, OneHotEncoder\n",
    "\n",
    "\n",
    "\n",
    "def get_cv_splits(cv_strategy, data, labels, groups=None):\n",
    "    \"\"\"\n",
    "    Returns the train-test splits based on the chosen cross-validation strategy.\n",
    "    \"\"\"\n",
    "    if cv_strategy == 'loso':\n",
    "        cv = LeaveOneGroupOut()\n",
    "        return cv.split(data, labels, groups)\n",
    "    elif cv_strategy == 'group_k_fold':\n",
    "        cv = GroupKFold(n_splits=5)  # You can adjust the number of splits\n",
    "        return cv.split(data, labels, groups)\n",
    "    elif cv_strategy == 'k_fold':\n",
    "        cv = KFold(n_splits=5)  # You can adjust the number of splits\n",
    "        return cv.split(data)\n",
    "    elif cv_strategy == 'time_series':\n",
    "        cv = TimeSeriesSplit(n_splits=5)  # You can adjust the number of splits\n",
    "        return cv.split(data)\n",
    "    else:\n",
    "        raise ValueError(f\"Unknown CV strategy: {cv_strategy}\")\n",
    "\n",
    "\n",
    "def get_categorical_features_indices(df):\n",
    "    return [i for i, col in enumerate(df.columns) if df[col].nunique() <= 10]\n",
    "\n",
    "def exclude_low_variance(agg_feature, threshold=.0000001):\n",
    "    agg_feature_non_zero_var = agg_feature.loc[:,agg_feature.var()>threshold]\n",
    "    num_removed = agg_feature.shape[1]-agg_feature_non_zero_var.shape[1]\n",
    "    print(f'{num_removed}/{agg_feature.shape[1]} features with variance < {threshold} removed')\n",
    "    return agg_feature_non_zero_var\n",
    "\n",
    "def remove_pairwise_corr(agg_feature_percent_missing, PAIRWISE_CORR_THRESHOLD=0.8, outcome_variable=None):\n",
    "    if outcome_variable is not None:\n",
    "        outcome_variable = pd.Series(outcome_variable, index=agg_feature_percent_missing.index, name=\"outcome\")\n",
    "        corr_with_outcome = pd.merge(outcome_variable, agg_feature_percent_missing, left_index=True, right_index=True).corr()[outcome_variable.name].abs().sort_values(ascending=False)\n",
    "        importance_order = corr_with_outcome.index[1:].tolist()\n",
    "        agg_feature_percent_missing = agg_feature_percent_missing[importance_order]\n",
    "\n",
    "    Matrix = agg_feature_percent_missing.corr().abs()\n",
    "    \n",
    "    upper_triangle = Matrix.where(np.triu(np.ones(Matrix.shape), k=1).astype(bool))\n",
    "\n",
    "    correlated_features = set()\n",
    "    for feature in upper_triangle.columns:\n",
    "        highly_correlated = upper_triangle[feature][upper_triangle[feature] > PAIRWISE_CORR_THRESHOLD].index\n",
    "        correlated_features.update(highly_correlated)\n",
    "\n",
    "    kept_features = list(set(agg_feature_percent_missing.columns) - correlated_features)\n",
    "    print(f\"Pairwise Corr: kept only {len(kept_features)}/{len(agg_feature_percent_missing.columns)} features\")\n",
    "    return agg_feature_percent_missing[kept_features]\n",
    "\n",
    "\n",
    "\n",
    "# Feature selection method\n",
    "def feature_selector(X_train, y_train):\n",
    "    selector = SelectFromModel(\n",
    "        estimator=LogisticRegression(penalty='l1', solver='liblinear', C=1, random_state=seed, max_iter=4000),\n",
    "        threshold=0.005\n",
    "#         estimator=LinearSVC(\n",
    "#         penalty='l1',\n",
    "#         loss='squared_hinge',\n",
    "#         dual=False,\n",
    "#         tol=1e-3,\n",
    "#         C=1e-2,\n",
    "#         max_iter=5000,\n",
    "#         random_state=RANDOM_STATE\n",
    "#     )\n",
    "    \n",
    "    )\n",
    "    selector.fit(X_train, y_train)\n",
    "    return selector\n",
    "\n",
    "def split_train_test(df, labels, train_idx, test_idx):\n",
    "    X_train = df.iloc[train_idx]\n",
    "    y_train = labels[train_idx]\n",
    "    X_test = df.iloc[test_idx]\n",
    "    y_test = labels[test_idx]\n",
    "    return X_train, y_train, X_test, y_test\n",
    "\n",
    "\n",
    "\n",
    "# @ray.remote\n",
    "# # def process_and_save_split(train_idx, test_idx, all_data, all_labels, all_groups, process_dataframe, save_data_to_data_file, C_cat, C_num, select):\n",
    "# def process_and_save_split(train_idx, test_idx, all_data, all_labels, all_groups, process_dataframe, save_data_to_data_file):\n",
    "#     X_train, y_train, X_test, y_test = split_train_test(all_data, all_labels, train_idx, test_idx)\n",
    "    \n",
    "# #     # Use LOSO to split the training set further into training and evaluation sets\n",
    "# #     loso = LeaveOneGroupOut()\n",
    "# #     train_indices, eval_indices = next(loso.split(X_train, y_train, groups=all_groups[train_idx]))    \n",
    "# #     X_eval, y_eval = X_train.iloc[eval_indices], y_train[eval_indices]\n",
    "# #     X_train, y_train = X_train.iloc[train_indices], y_train[train_indices]\n",
    "    \n",
    "#     # Split 20% of training set as eval set\n",
    "#     X_train, X_eval, y_train, y_eval = train_test_split(X_train, y_train, test_size=0.2, random_state=RANDOM_STATE)\n",
    "\n",
    "# #     # Split 20% of training set as eval set based on groups\n",
    "# #     gss = GroupShuffleSplit(test_size=0.2, random_state=RANDOM_STATE)\n",
    "# #     train_inds, eval_inds = next(gss.split(X_train, y_train, groups=all_groups[train_idx]))\n",
    "# #     X_eval, y_eval = X_train.iloc[eval_inds], y_train[eval_inds]\n",
    "# #     X_train, y_train = X_train.iloc[train_inds], y_train[train_inds]\n",
    "    \n",
    "#     # Apply SMOTENC\n",
    "#     smote_nc = SMOTENC(categorical_features=get_categorical_features_indices(X_train), random_state=RANDOM_STATE)\n",
    "#     X_train, y_train = smote_nc.fit_resample(X_train, y_train)\n",
    "    \n",
    "# #     #Removing low variance features\n",
    "# #     X_train = exclude_low_variance(X_train)\n",
    "# #     X_test = X_test[X_train.columns]  # Keep only the selected features in the test set\n",
    "\n",
    "# #     #Removing highly correlated features\n",
    "# #     X_train = remove_pairwise_corr(X_train, outcome_variable= y_train)\n",
    "# #     X_test = X_test[X_train.columns]  # Keep only the selected features in the test set\n",
    "    \n",
    "#     # Capture indices \n",
    "#     train_indices = X_train.index\n",
    "#     eval_indices = X_eval.index\n",
    "#     test_indices = X_test.index\n",
    "    \n",
    "#     # Before feature selection, capture the columns\n",
    "#     current_columns = X_train.columns\n",
    "    \n",
    "#     # Feature selection\n",
    "#     selector = feature_selector(X_train, y_train)\n",
    "#     X_train = selector.transform(X_train)\n",
    "#     X_eval = selector.transform(X_eval)\n",
    "#     X_test = selector.transform(X_test)\n",
    "\n",
    "#     # Use the captured columns to get the selected columns\n",
    "#     selected_columns = current_columns[selector.get_support()]\n",
    "    \n",
    "#     X_train = pd.DataFrame(X_train, columns=selected_columns, index=train_indices)\n",
    "#     X_eval = pd.DataFrame(X_eval, columns=selected_columns, index=eval_indices)\n",
    "#     X_test = pd.DataFrame(X_test, columns=selected_columns, index=test_indices)\n",
    "\n",
    "    \n",
    "#     # Process dataframes\n",
    "#     X_train = process_dataframe(X_train)\n",
    "#     X_eval = process_dataframe(X_eval)\n",
    "#     X_test = process_dataframe(X_test)\n",
    "\n",
    "#     subject = all_groups[test_idx[0]]\n",
    "\n",
    "#     save_data_to_data_file(X_train, y_train, f'{subject}_train.data')\n",
    "#     save_data_to_data_file(X_eval, y_eval, f'{subject}_eval.data')\n",
    "#     save_data_to_data_file(X_test, y_test, f'{subject}_val.data')\n",
    "\n",
    "@ray.remote\n",
    "def process_and_save_split(train_idx, test_idx, all_data, all_labels, all_groups, process_dataframe, save_data_to_data_file, C_cat, C_num, select):\n",
    "    X_train, y_train, X_test, y_test = split_train_test(all_data, all_labels, train_idx, test_idx)\n",
    "    \n",
    "\n",
    "#     #Leave n subject out\n",
    "#     n = 4  # Number of groups to leave out\n",
    "#     # Use LNGO to split the training set further into training and evaluation sets\n",
    "#     lngo = LeavePGroupsOut(n_groups=n)\n",
    "#     train_indices, eval_indices = next(lngo.split(X_train, y_train, groups=all_groups[train_idx]))    \n",
    "#     X_eval, y_eval = X_train.iloc[eval_indices].copy(), y_train[eval_indices].copy()\n",
    "#     X_train, y_train = X_train.iloc[train_indices].copy(), y_train[train_indices].copy()\n",
    "\n",
    "    \n",
    "#     # Use LOSO to split the training set further into training and evaluation sets\n",
    "#     loso = LeaveOneGroupOut()\n",
    "#     train_indices, eval_indices = next(loso.split(X_train, y_train, groups=all_groups[train_idx]))    \n",
    "#     X_eval, y_eval = X_train.iloc[eval_indices].copy(), y_train[eval_indices].copy()\n",
    "#     X_train, y_train = X_train.iloc[train_indices].copy(), y_train[train_indices].copy()\n",
    "\n",
    "\n",
    "#     # Initialize the stratified group k-fold splitter\n",
    "#     sgkf = StratifiedGroupKFold(n_splits=5, random_state=RANDOM_STATE, shuffle=True)\n",
    "#     # Get the train and eval indices\n",
    "#     train_inds, eval_inds = next(sgkf.split(X_train, y_train, groups=all_groups[train_idx]))\n",
    "#     X_eval, y_eval = X_train.iloc[eval_inds], y_train[eval_inds]\n",
    "#     X_train, y_train = X_train.iloc[train_inds], y_train[train_inds]\n",
    "\n",
    "    \n",
    "    # Split 20% of training set as eval set\n",
    "    X_train, X_eval, y_train, y_eval = train_test_split(X_train, y_train, test_size=0.2, random_state=RANDOM_STATE,  stratify=y_train)\n",
    "\n",
    "#     # Split 20% of training set as eval set based on groups\n",
    "#     gss = GroupShuffleSplit(test_size=0.2, random_state=RANDOM_STATE)\n",
    "#     train_inds, eval_inds = next(gss.split(X_train, y_train, groups=all_groups[train_idx]))\n",
    "#     X_eval, y_eval = X_train.iloc[eval_inds], y_train[eval_inds]\n",
    "#     X_train, y_train = X_train.iloc[train_inds], y_train[train_inds]\n",
    "\n",
    "    if normalize:\n",
    "        # Normalize numeric features\n",
    "        scaler = StandardScaler().fit(X_train[C_num])\n",
    "        X_train[C_num] = scaler.transform(X_train[C_num].copy())\n",
    "        X_eval[C_num] = scaler.transform(X_eval[C_num].copy())\n",
    "        X_test[C_num] = scaler.transform(X_test[C_num].copy())\n",
    "\n",
    "    if select:\n",
    "        if isinstance(select, SelectFromModel):\n",
    "            select = [select]\n",
    "            \n",
    "        for i, s in enumerate(select):\n",
    "            # Fit feature selector only on training data\n",
    "            s.fit(X_train, y_train)\n",
    "            selected_features = X_train.columns[s.get_support()]\n",
    "            \n",
    "            # Apply feature selection to train, eval, and test\n",
    "            X_train = X_train[selected_features].copy()\n",
    "            X_eval = X_eval[selected_features].copy()\n",
    "            X_test = X_test[selected_features].copy()\n",
    "\n",
    "    if oversample:\n",
    "        # Determine categorical features for SMOTENC\n",
    "        if len(C_cat):\n",
    "            M = np.isin(X_train.columns, C_cat)\n",
    "            sampler = SMOTENC(categorical_features=M, random_state=seed)\n",
    "        else:\n",
    "            sampler = SMOTE(random_state=seed)\n",
    "        # Only oversample training data\n",
    "        X_train, y_train = sampler.fit_resample(X_train, y_train)\n",
    "    \n",
    "    # Apply consistent processing to train, eval, and test dataframes\n",
    "    X_train = process_dataframe(X_train)\n",
    "    X_eval = process_dataframe(X_eval)\n",
    "    X_test = process_dataframe(X_test)\n",
    "\n",
    "    subject = all_groups[test_idx[0]]\n",
    "\n",
    "    # Save processed data to files\n",
    "    save_data_to_data_file(X_train, y_train, f'{subject}_train.data')\n",
    "    save_data_to_data_file(X_eval, y_eval, f'{subject}_eval.data')\n",
    "    save_data_to_data_file(X_test, y_test, f'{subject}_val.data')\n"
   ]
  },
  {
   "cell_type": "code",
   "execution_count": 14,
   "id": "d4e53875",
   "metadata": {},
   "outputs": [],
   "source": [
    "# Create a full dataset and corresponding labels and groups\n",
    "all_data = X\n",
    "all_labels = y\n",
    "all_groups = groups"
   ]
  },
  {
   "cell_type": "code",
   "execution_count": 15,
   "id": "7f376cb9",
   "metadata": {
    "scrolled": true
   },
   "outputs": [
    {
     "name": "stderr",
     "output_type": "stream",
     "text": [
      "2024-08-28 12:26:21,417\tINFO worker.py:1612 -- Started a local Ray instance. View the dashboard at \u001b[1m\u001b[32m127.0.0.1:8265 \u001b[39m\u001b[22m\n",
      "\u001b[2m\u001b[36m(process_and_save_split pid=76518)\u001b[0m /tmp/ipykernel_76235/632661198.py:203: SettingWithCopyWarning: \n",
      "\u001b[2m\u001b[36m(process_and_save_split pid=76518)\u001b[0m A value is trying to be set on a copy of a slice from a DataFrame.\n",
      "\u001b[2m\u001b[36m(process_and_save_split pid=76518)\u001b[0m Try using .loc[row_indexer,col_indexer] = value instead\n",
      "\u001b[2m\u001b[36m(process_and_save_split pid=76518)\u001b[0m \n",
      "\u001b[2m\u001b[36m(process_and_save_split pid=76518)\u001b[0m See the caveats in the documentation: https://pandas.pydata.org/pandas-docs/stable/user_guide/indexing.html#returning-a-view-versus-a-copy\n",
      "\u001b[2m\u001b[36m(process_and_save_split pid=76519)\u001b[0m /tmp/ipykernel_76235/632661198.py:203: SettingWithCopyWarning: \u001b[32m [repeated 16x across cluster] (Ray deduplicates logs by default. Set RAY_DEDUP_LOGS=0 to disable log deduplication, or see https://docs.ray.io/en/master/ray-observability/ray-logging.html#log-deduplication for more options.)\u001b[0m\n",
      "\u001b[2m\u001b[36m(process_and_save_split pid=76519)\u001b[0m A value is trying to be set on a copy of a slice from a DataFrame.\u001b[32m [repeated 16x across cluster]\u001b[0m\n",
      "\u001b[2m\u001b[36m(process_and_save_split pid=76519)\u001b[0m Try using .loc[row_indexer,col_indexer] = value instead\u001b[32m [repeated 16x across cluster]\u001b[0m\n",
      "\u001b[2m\u001b[36m(process_and_save_split pid=76519)\u001b[0m \u001b[32m [repeated 16x across cluster]\u001b[0m\n",
      "\u001b[2m\u001b[36m(process_and_save_split pid=76519)\u001b[0m See the caveats in the documentation: https://pandas.pydata.org/pandas-docs/stable/user_guide/indexing.html#returning-a-view-versus-a-copy\u001b[32m [repeated 16x across cluster]\u001b[0m\n",
      "\u001b[2m\u001b[36m(process_and_save_split pid=76520)\u001b[0m /tmp/ipykernel_76235/632661198.py:203: SettingWithCopyWarning: \n",
      "\u001b[2m\u001b[36m(process_and_save_split pid=76520)\u001b[0m A value is trying to be set on a copy of a slice from a DataFrame.\n",
      "\u001b[2m\u001b[36m(process_and_save_split pid=76520)\u001b[0m Try using .loc[row_indexer,col_indexer] = value instead\n",
      "\u001b[2m\u001b[36m(process_and_save_split pid=76520)\u001b[0m \n",
      "\u001b[2m\u001b[36m(process_and_save_split pid=76520)\u001b[0m See the caveats in the documentation: https://pandas.pydata.org/pandas-docs/stable/user_guide/indexing.html#returning-a-view-versus-a-copy\n",
      "\u001b[2m\u001b[36m(process_and_save_split pid=76512)\u001b[0m /tmp/ipykernel_76235/632661198.py:203: SettingWithCopyWarning: \n",
      "\u001b[2m\u001b[36m(process_and_save_split pid=76512)\u001b[0m A value is trying to be set on a copy of a slice from a DataFrame.\n",
      "\u001b[2m\u001b[36m(process_and_save_split pid=76512)\u001b[0m Try using .loc[row_indexer,col_indexer] = value instead\n",
      "\u001b[2m\u001b[36m(process_and_save_split pid=76512)\u001b[0m \n",
      "\u001b[2m\u001b[36m(process_and_save_split pid=76512)\u001b[0m See the caveats in the documentation: https://pandas.pydata.org/pandas-docs/stable/user_guide/indexing.html#returning-a-view-versus-a-copy\n",
      "\u001b[2m\u001b[36m(process_and_save_split pid=76514)\u001b[0m /tmp/ipykernel_76235/632661198.py:203: SettingWithCopyWarning: \u001b[32m [repeated 3x across cluster]\u001b[0m\n",
      "\u001b[2m\u001b[36m(process_and_save_split pid=76514)\u001b[0m A value is trying to be set on a copy of a slice from a DataFrame.\u001b[32m [repeated 3x across cluster]\u001b[0m\n",
      "\u001b[2m\u001b[36m(process_and_save_split pid=76514)\u001b[0m Try using .loc[row_indexer,col_indexer] = value instead\u001b[32m [repeated 3x across cluster]\u001b[0m\n",
      "\u001b[2m\u001b[36m(process_and_save_split pid=76514)\u001b[0m \u001b[32m [repeated 3x across cluster]\u001b[0m\n",
      "\u001b[2m\u001b[36m(process_and_save_split pid=76514)\u001b[0m See the caveats in the documentation: https://pandas.pydata.org/pandas-docs/stable/user_guide/indexing.html#returning-a-view-versus-a-copy\u001b[32m [repeated 3x across cluster]\u001b[0m\n",
      "\u001b[2m\u001b[36m(process_and_save_split pid=76524)\u001b[0m /tmp/ipykernel_76235/632661198.py:203: SettingWithCopyWarning: \u001b[32m [repeated 7x across cluster]\u001b[0m\n",
      "\u001b[2m\u001b[36m(process_and_save_split pid=76524)\u001b[0m A value is trying to be set on a copy of a slice from a DataFrame.\u001b[32m [repeated 7x across cluster]\u001b[0m\n",
      "\u001b[2m\u001b[36m(process_and_save_split pid=76524)\u001b[0m Try using .loc[row_indexer,col_indexer] = value instead\u001b[32m [repeated 7x across cluster]\u001b[0m\n",
      "\u001b[2m\u001b[36m(process_and_save_split pid=76524)\u001b[0m \u001b[32m [repeated 7x across cluster]\u001b[0m\n",
      "\u001b[2m\u001b[36m(process_and_save_split pid=76524)\u001b[0m See the caveats in the documentation: https://pandas.pydata.org/pandas-docs/stable/user_guide/indexing.html#returning-a-view-versus-a-copy\u001b[32m [repeated 7x across cluster]\u001b[0m\n",
      "\u001b[2m\u001b[36m(process_and_save_split pid=76519)\u001b[0m /tmp/ipykernel_76235/632661198.py:203: SettingWithCopyWarning: \u001b[32m [repeated 4x across cluster]\u001b[0m\n",
      "\u001b[2m\u001b[36m(process_and_save_split pid=76519)\u001b[0m A value is trying to be set on a copy of a slice from a DataFrame.\u001b[32m [repeated 4x across cluster]\u001b[0m\n",
      "\u001b[2m\u001b[36m(process_and_save_split pid=76519)\u001b[0m Try using .loc[row_indexer,col_indexer] = value instead\u001b[32m [repeated 4x across cluster]\u001b[0m\n",
      "\u001b[2m\u001b[36m(process_and_save_split pid=76519)\u001b[0m \u001b[32m [repeated 4x across cluster]\u001b[0m\n",
      "\u001b[2m\u001b[36m(process_and_save_split pid=76519)\u001b[0m See the caveats in the documentation: https://pandas.pydata.org/pandas-docs/stable/user_guide/indexing.html#returning-a-view-versus-a-copy\u001b[32m [repeated 4x across cluster]\u001b[0m\n",
      "\u001b[2m\u001b[36m(process_and_save_split pid=76520)\u001b[0m /tmp/ipykernel_76235/632661198.py:203: SettingWithCopyWarning: \n",
      "\u001b[2m\u001b[36m(process_and_save_split pid=76520)\u001b[0m A value is trying to be set on a copy of a slice from a DataFrame.\n",
      "\u001b[2m\u001b[36m(process_and_save_split pid=76520)\u001b[0m Try using .loc[row_indexer,col_indexer] = value instead\n",
      "\u001b[2m\u001b[36m(process_and_save_split pid=76520)\u001b[0m \n",
      "\u001b[2m\u001b[36m(process_and_save_split pid=76520)\u001b[0m See the caveats in the documentation: https://pandas.pydata.org/pandas-docs/stable/user_guide/indexing.html#returning-a-view-versus-a-copy\n",
      "\u001b[2m\u001b[36m(process_and_save_split pid=76515)\u001b[0m /tmp/ipykernel_76235/632661198.py:203: SettingWithCopyWarning: \n",
      "\u001b[2m\u001b[36m(process_and_save_split pid=76515)\u001b[0m A value is trying to be set on a copy of a slice from a DataFrame.\n",
      "\u001b[2m\u001b[36m(process_and_save_split pid=76515)\u001b[0m Try using .loc[row_indexer,col_indexer] = value instead\n",
      "\u001b[2m\u001b[36m(process_and_save_split pid=76515)\u001b[0m \n",
      "\u001b[2m\u001b[36m(process_and_save_split pid=76515)\u001b[0m See the caveats in the documentation: https://pandas.pydata.org/pandas-docs/stable/user_guide/indexing.html#returning-a-view-versus-a-copy\n",
      "\u001b[2m\u001b[36m(process_and_save_split pid=76516)\u001b[0m /tmp/ipykernel_76235/632661198.py:203: SettingWithCopyWarning: \u001b[32m [repeated 3x across cluster]\u001b[0m\n",
      "\u001b[2m\u001b[36m(process_and_save_split pid=76516)\u001b[0m A value is trying to be set on a copy of a slice from a DataFrame.\u001b[32m [repeated 3x across cluster]\u001b[0m\n",
      "\u001b[2m\u001b[36m(process_and_save_split pid=76516)\u001b[0m Try using .loc[row_indexer,col_indexer] = value instead\u001b[32m [repeated 3x across cluster]\u001b[0m\n",
      "\u001b[2m\u001b[36m(process_and_save_split pid=76516)\u001b[0m \u001b[32m [repeated 3x across cluster]\u001b[0m\n",
      "\u001b[2m\u001b[36m(process_and_save_split pid=76516)\u001b[0m See the caveats in the documentation: https://pandas.pydata.org/pandas-docs/stable/user_guide/indexing.html#returning-a-view-versus-a-copy\u001b[32m [repeated 3x across cluster]\u001b[0m\n",
      "\u001b[2m\u001b[36m(process_and_save_split pid=76519)\u001b[0m /tmp/ipykernel_76235/632661198.py:203: SettingWithCopyWarning: \u001b[32m [repeated 7x across cluster]\u001b[0m\n",
      "\u001b[2m\u001b[36m(process_and_save_split pid=76519)\u001b[0m A value is trying to be set on a copy of a slice from a DataFrame.\u001b[32m [repeated 7x across cluster]\u001b[0m\n",
      "\u001b[2m\u001b[36m(process_and_save_split pid=76519)\u001b[0m Try using .loc[row_indexer,col_indexer] = value instead\u001b[32m [repeated 7x across cluster]\u001b[0m\n",
      "\u001b[2m\u001b[36m(process_and_save_split pid=76519)\u001b[0m \u001b[32m [repeated 7x across cluster]\u001b[0m\n",
      "\u001b[2m\u001b[36m(process_and_save_split pid=76519)\u001b[0m See the caveats in the documentation: https://pandas.pydata.org/pandas-docs/stable/user_guide/indexing.html#returning-a-view-versus-a-copy\u001b[32m [repeated 7x across cluster]\u001b[0m\n",
      "\u001b[2m\u001b[36m(process_and_save_split pid=76520)\u001b[0m /tmp/ipykernel_76235/632661198.py:203: SettingWithCopyWarning: \u001b[32m [repeated 5x across cluster]\u001b[0m\n",
      "\u001b[2m\u001b[36m(process_and_save_split pid=76520)\u001b[0m A value is trying to be set on a copy of a slice from a DataFrame.\u001b[32m [repeated 5x across cluster]\u001b[0m\n",
      "\u001b[2m\u001b[36m(process_and_save_split pid=76520)\u001b[0m Try using .loc[row_indexer,col_indexer] = value instead\u001b[32m [repeated 5x across cluster]\u001b[0m\n",
      "\u001b[2m\u001b[36m(process_and_save_split pid=76520)\u001b[0m \u001b[32m [repeated 5x across cluster]\u001b[0m\n",
      "\u001b[2m\u001b[36m(process_and_save_split pid=76520)\u001b[0m See the caveats in the documentation: https://pandas.pydata.org/pandas-docs/stable/user_guide/indexing.html#returning-a-view-versus-a-copy\u001b[32m [repeated 5x across cluster]\u001b[0m\n"
     ]
    },
    {
     "name": "stderr",
     "output_type": "stream",
     "text": [
      "\u001b[2m\u001b[36m(process_and_save_split pid=76523)\u001b[0m /tmp/ipykernel_76235/632661198.py:203: SettingWithCopyWarning: \u001b[32m [repeated 2x across cluster]\u001b[0m\n",
      "\u001b[2m\u001b[36m(process_and_save_split pid=76523)\u001b[0m A value is trying to be set on a copy of a slice from a DataFrame.\u001b[32m [repeated 2x across cluster]\u001b[0m\n",
      "\u001b[2m\u001b[36m(process_and_save_split pid=76523)\u001b[0m Try using .loc[row_indexer,col_indexer] = value instead\u001b[32m [repeated 2x across cluster]\u001b[0m\n",
      "\u001b[2m\u001b[36m(process_and_save_split pid=76523)\u001b[0m \u001b[32m [repeated 2x across cluster]\u001b[0m\n",
      "\u001b[2m\u001b[36m(process_and_save_split pid=76523)\u001b[0m See the caveats in the documentation: https://pandas.pydata.org/pandas-docs/stable/user_guide/indexing.html#returning-a-view-versus-a-copy\u001b[32m [repeated 2x across cluster]\u001b[0m\n",
      "\u001b[2m\u001b[36m(process_and_save_split pid=76515)\u001b[0m /tmp/ipykernel_76235/632661198.py:203: SettingWithCopyWarning: \n",
      "\u001b[2m\u001b[36m(process_and_save_split pid=76515)\u001b[0m A value is trying to be set on a copy of a slice from a DataFrame.\n",
      "\u001b[2m\u001b[36m(process_and_save_split pid=76515)\u001b[0m Try using .loc[row_indexer,col_indexer] = value instead\n",
      "\u001b[2m\u001b[36m(process_and_save_split pid=76515)\u001b[0m \n",
      "\u001b[2m\u001b[36m(process_and_save_split pid=76515)\u001b[0m See the caveats in the documentation: https://pandas.pydata.org/pandas-docs/stable/user_guide/indexing.html#returning-a-view-versus-a-copy\n",
      "\u001b[2m\u001b[36m(process_and_save_split pid=76516)\u001b[0m /tmp/ipykernel_76235/632661198.py:203: SettingWithCopyWarning: \n",
      "\u001b[2m\u001b[36m(process_and_save_split pid=76516)\u001b[0m A value is trying to be set on a copy of a slice from a DataFrame.\n",
      "\u001b[2m\u001b[36m(process_and_save_split pid=76516)\u001b[0m Try using .loc[row_indexer,col_indexer] = value instead\n",
      "\u001b[2m\u001b[36m(process_and_save_split pid=76516)\u001b[0m \n",
      "\u001b[2m\u001b[36m(process_and_save_split pid=76516)\u001b[0m See the caveats in the documentation: https://pandas.pydata.org/pandas-docs/stable/user_guide/indexing.html#returning-a-view-versus-a-copy\n",
      "\u001b[2m\u001b[36m(process_and_save_split pid=76525)\u001b[0m /tmp/ipykernel_76235/632661198.py:203: SettingWithCopyWarning: \n",
      "\u001b[2m\u001b[36m(process_and_save_split pid=76525)\u001b[0m A value is trying to be set on a copy of a slice from a DataFrame.\n",
      "\u001b[2m\u001b[36m(process_and_save_split pid=76525)\u001b[0m Try using .loc[row_indexer,col_indexer] = value instead\n",
      "\u001b[2m\u001b[36m(process_and_save_split pid=76525)\u001b[0m \n",
      "\u001b[2m\u001b[36m(process_and_save_split pid=76525)\u001b[0m See the caveats in the documentation: https://pandas.pydata.org/pandas-docs/stable/user_guide/indexing.html#returning-a-view-versus-a-copy\n",
      "\u001b[2m\u001b[36m(process_and_save_split pid=76517)\u001b[0m /tmp/ipykernel_76235/632661198.py:203: SettingWithCopyWarning: \n",
      "\u001b[2m\u001b[36m(process_and_save_split pid=76517)\u001b[0m A value is trying to be set on a copy of a slice from a DataFrame.\n",
      "\u001b[2m\u001b[36m(process_and_save_split pid=76517)\u001b[0m Try using .loc[row_indexer,col_indexer] = value instead\n",
      "\u001b[2m\u001b[36m(process_and_save_split pid=76517)\u001b[0m \n",
      "\u001b[2m\u001b[36m(process_and_save_split pid=76517)\u001b[0m See the caveats in the documentation: https://pandas.pydata.org/pandas-docs/stable/user_guide/indexing.html#returning-a-view-versus-a-copy\n",
      "\u001b[2m\u001b[36m(process_and_save_split pid=76521)\u001b[0m /tmp/ipykernel_76235/632661198.py:203: SettingWithCopyWarning: \u001b[32m [repeated 4x across cluster]\u001b[0m\n",
      "\u001b[2m\u001b[36m(process_and_save_split pid=76521)\u001b[0m A value is trying to be set on a copy of a slice from a DataFrame.\u001b[32m [repeated 4x across cluster]\u001b[0m\n",
      "\u001b[2m\u001b[36m(process_and_save_split pid=76521)\u001b[0m Try using .loc[row_indexer,col_indexer] = value instead\u001b[32m [repeated 4x across cluster]\u001b[0m\n",
      "\u001b[2m\u001b[36m(process_and_save_split pid=76521)\u001b[0m \u001b[32m [repeated 4x across cluster]\u001b[0m\n",
      "\u001b[2m\u001b[36m(process_and_save_split pid=76521)\u001b[0m See the caveats in the documentation: https://pandas.pydata.org/pandas-docs/stable/user_guide/indexing.html#returning-a-view-versus-a-copy\u001b[32m [repeated 4x across cluster]\u001b[0m\n",
      "\u001b[2m\u001b[36m(process_and_save_split pid=76522)\u001b[0m /tmp/ipykernel_76235/632661198.py:203: SettingWithCopyWarning: \u001b[32m [repeated 5x across cluster]\u001b[0m\n",
      "\u001b[2m\u001b[36m(process_and_save_split pid=76522)\u001b[0m A value is trying to be set on a copy of a slice from a DataFrame.\u001b[32m [repeated 5x across cluster]\u001b[0m\n",
      "\u001b[2m\u001b[36m(process_and_save_split pid=76522)\u001b[0m Try using .loc[row_indexer,col_indexer] = value instead\u001b[32m [repeated 5x across cluster]\u001b[0m\n",
      "\u001b[2m\u001b[36m(process_and_save_split pid=76522)\u001b[0m \u001b[32m [repeated 5x across cluster]\u001b[0m\n",
      "\u001b[2m\u001b[36m(process_and_save_split pid=76522)\u001b[0m See the caveats in the documentation: https://pandas.pydata.org/pandas-docs/stable/user_guide/indexing.html#returning-a-view-versus-a-copy\u001b[32m [repeated 5x across cluster]\u001b[0m\n",
      "\u001b[2m\u001b[36m(process_and_save_split pid=76512)\u001b[0m /tmp/ipykernel_76235/632661198.py:203: SettingWithCopyWarning: \n",
      "\u001b[2m\u001b[36m(process_and_save_split pid=76512)\u001b[0m A value is trying to be set on a copy of a slice from a DataFrame.\n",
      "\u001b[2m\u001b[36m(process_and_save_split pid=76512)\u001b[0m Try using .loc[row_indexer,col_indexer] = value instead\n",
      "\u001b[2m\u001b[36m(process_and_save_split pid=76512)\u001b[0m \n",
      "\u001b[2m\u001b[36m(process_and_save_split pid=76512)\u001b[0m See the caveats in the documentation: https://pandas.pydata.org/pandas-docs/stable/user_guide/indexing.html#returning-a-view-versus-a-copy\n",
      "\u001b[2m\u001b[36m(process_and_save_split pid=76520)\u001b[0m /tmp/ipykernel_76235/632661198.py:203: SettingWithCopyWarning: \n",
      "\u001b[2m\u001b[36m(process_and_save_split pid=76520)\u001b[0m A value is trying to be set on a copy of a slice from a DataFrame.\n",
      "\u001b[2m\u001b[36m(process_and_save_split pid=76520)\u001b[0m Try using .loc[row_indexer,col_indexer] = value instead\n",
      "\u001b[2m\u001b[36m(process_and_save_split pid=76520)\u001b[0m \n",
      "\u001b[2m\u001b[36m(process_and_save_split pid=76520)\u001b[0m See the caveats in the documentation: https://pandas.pydata.org/pandas-docs/stable/user_guide/indexing.html#returning-a-view-versus-a-copy\n",
      "\u001b[2m\u001b[36m(process_and_save_split pid=76517)\u001b[0m /tmp/ipykernel_76235/632661198.py:203: SettingWithCopyWarning: \u001b[32m [repeated 3x across cluster]\u001b[0m\n",
      "\u001b[2m\u001b[36m(process_and_save_split pid=76517)\u001b[0m A value is trying to be set on a copy of a slice from a DataFrame.\u001b[32m [repeated 3x across cluster]\u001b[0m\n",
      "\u001b[2m\u001b[36m(process_and_save_split pid=76517)\u001b[0m Try using .loc[row_indexer,col_indexer] = value instead\u001b[32m [repeated 3x across cluster]\u001b[0m\n",
      "\u001b[2m\u001b[36m(process_and_save_split pid=76517)\u001b[0m \u001b[32m [repeated 3x across cluster]\u001b[0m\n",
      "\u001b[2m\u001b[36m(process_and_save_split pid=76517)\u001b[0m See the caveats in the documentation: https://pandas.pydata.org/pandas-docs/stable/user_guide/indexing.html#returning-a-view-versus-a-copy\u001b[32m [repeated 3x across cluster]\u001b[0m\n",
      "\u001b[2m\u001b[36m(process_and_save_split pid=76514)\u001b[0m /tmp/ipykernel_76235/632661198.py:203: SettingWithCopyWarning: \u001b[32m [repeated 3x across cluster]\u001b[0m\n",
      "\u001b[2m\u001b[36m(process_and_save_split pid=76514)\u001b[0m A value is trying to be set on a copy of a slice from a DataFrame.\u001b[32m [repeated 3x across cluster]\u001b[0m\n",
      "\u001b[2m\u001b[36m(process_and_save_split pid=76514)\u001b[0m Try using .loc[row_indexer,col_indexer] = value instead\u001b[32m [repeated 3x across cluster]\u001b[0m\n",
      "\u001b[2m\u001b[36m(process_and_save_split pid=76514)\u001b[0m \u001b[32m [repeated 3x across cluster]\u001b[0m\n",
      "\u001b[2m\u001b[36m(process_and_save_split pid=76514)\u001b[0m See the caveats in the documentation: https://pandas.pydata.org/pandas-docs/stable/user_guide/indexing.html#returning-a-view-versus-a-copy\u001b[32m [repeated 3x across cluster]\u001b[0m\n",
      "\u001b[2m\u001b[36m(process_and_save_split pid=76524)\u001b[0m /tmp/ipykernel_76235/632661198.py:203: SettingWithCopyWarning: \u001b[32m [repeated 5x across cluster]\u001b[0m\n",
      "\u001b[2m\u001b[36m(process_and_save_split pid=76524)\u001b[0m A value is trying to be set on a copy of a slice from a DataFrame.\u001b[32m [repeated 5x across cluster]\u001b[0m\n",
      "\u001b[2m\u001b[36m(process_and_save_split pid=76524)\u001b[0m Try using .loc[row_indexer,col_indexer] = value instead\u001b[32m [repeated 5x across cluster]\u001b[0m\n",
      "\u001b[2m\u001b[36m(process_and_save_split pid=76524)\u001b[0m \u001b[32m [repeated 5x across cluster]\u001b[0m\n",
      "\u001b[2m\u001b[36m(process_and_save_split pid=76524)\u001b[0m See the caveats in the documentation: https://pandas.pydata.org/pandas-docs/stable/user_guide/indexing.html#returning-a-view-versus-a-copy\u001b[32m [repeated 5x across cluster]\u001b[0m\n",
      "\u001b[2m\u001b[36m(process_and_save_split pid=76522)\u001b[0m /tmp/ipykernel_76235/632661198.py:203: SettingWithCopyWarning: \u001b[32m [repeated 2x across cluster]\u001b[0m\n",
      "\u001b[2m\u001b[36m(process_and_save_split pid=76522)\u001b[0m A value is trying to be set on a copy of a slice from a DataFrame.\u001b[32m [repeated 2x across cluster]\u001b[0m\n",
      "\u001b[2m\u001b[36m(process_and_save_split pid=76522)\u001b[0m Try using .loc[row_indexer,col_indexer] = value instead\u001b[32m [repeated 2x across cluster]\u001b[0m\n",
      "\u001b[2m\u001b[36m(process_and_save_split pid=76522)\u001b[0m \u001b[32m [repeated 2x across cluster]\u001b[0m\n",
      "\u001b[2m\u001b[36m(process_and_save_split pid=76522)\u001b[0m See the caveats in the documentation: https://pandas.pydata.org/pandas-docs/stable/user_guide/indexing.html#returning-a-view-versus-a-copy\u001b[32m [repeated 2x across cluster]\u001b[0m\n"
     ]
    },
    {
     "name": "stderr",
     "output_type": "stream",
     "text": [
      "\u001b[2m\u001b[36m(process_and_save_split pid=76516)\u001b[0m /tmp/ipykernel_76235/632661198.py:203: SettingWithCopyWarning: \u001b[32m [repeated 8x across cluster]\u001b[0m\n",
      "\u001b[2m\u001b[36m(process_and_save_split pid=76516)\u001b[0m A value is trying to be set on a copy of a slice from a DataFrame.\u001b[32m [repeated 8x across cluster]\u001b[0m\n",
      "\u001b[2m\u001b[36m(process_and_save_split pid=76516)\u001b[0m Try using .loc[row_indexer,col_indexer] = value instead\u001b[32m [repeated 8x across cluster]\u001b[0m\n",
      "\u001b[2m\u001b[36m(process_and_save_split pid=76516)\u001b[0m \u001b[32m [repeated 8x across cluster]\u001b[0m\n",
      "\u001b[2m\u001b[36m(process_and_save_split pid=76516)\u001b[0m See the caveats in the documentation: https://pandas.pydata.org/pandas-docs/stable/user_guide/indexing.html#returning-a-view-versus-a-copy\u001b[32m [repeated 8x across cluster]\u001b[0m\n",
      "\u001b[2m\u001b[36m(process_and_save_split pid=76514)\u001b[0m /tmp/ipykernel_76235/632661198.py:203: SettingWithCopyWarning: \n",
      "\u001b[2m\u001b[36m(process_and_save_split pid=76514)\u001b[0m A value is trying to be set on a copy of a slice from a DataFrame.\n",
      "\u001b[2m\u001b[36m(process_and_save_split pid=76514)\u001b[0m Try using .loc[row_indexer,col_indexer] = value instead\n",
      "\u001b[2m\u001b[36m(process_and_save_split pid=76514)\u001b[0m \n",
      "\u001b[2m\u001b[36m(process_and_save_split pid=76514)\u001b[0m See the caveats in the documentation: https://pandas.pydata.org/pandas-docs/stable/user_guide/indexing.html#returning-a-view-versus-a-copy\n",
      "\u001b[2m\u001b[36m(process_and_save_split pid=76521)\u001b[0m /tmp/ipykernel_76235/632661198.py:203: SettingWithCopyWarning: \n",
      "\u001b[2m\u001b[36m(process_and_save_split pid=76521)\u001b[0m A value is trying to be set on a copy of a slice from a DataFrame.\n",
      "\u001b[2m\u001b[36m(process_and_save_split pid=76521)\u001b[0m Try using .loc[row_indexer,col_indexer] = value instead\n",
      "\u001b[2m\u001b[36m(process_and_save_split pid=76521)\u001b[0m \n",
      "\u001b[2m\u001b[36m(process_and_save_split pid=76521)\u001b[0m See the caveats in the documentation: https://pandas.pydata.org/pandas-docs/stable/user_guide/indexing.html#returning-a-view-versus-a-copy\n",
      "\u001b[2m\u001b[36m(process_and_save_split pid=76511)\u001b[0m /tmp/ipykernel_76235/632661198.py:203: SettingWithCopyWarning: \u001b[32m [repeated 2x across cluster]\u001b[0m\n",
      "\u001b[2m\u001b[36m(process_and_save_split pid=76511)\u001b[0m A value is trying to be set on a copy of a slice from a DataFrame.\u001b[32m [repeated 2x across cluster]\u001b[0m\n",
      "\u001b[2m\u001b[36m(process_and_save_split pid=76511)\u001b[0m Try using .loc[row_indexer,col_indexer] = value instead\u001b[32m [repeated 2x across cluster]\u001b[0m\n",
      "\u001b[2m\u001b[36m(process_and_save_split pid=76511)\u001b[0m \u001b[32m [repeated 2x across cluster]\u001b[0m\n",
      "\u001b[2m\u001b[36m(process_and_save_split pid=76511)\u001b[0m See the caveats in the documentation: https://pandas.pydata.org/pandas-docs/stable/user_guide/indexing.html#returning-a-view-versus-a-copy\u001b[32m [repeated 2x across cluster]\u001b[0m\n",
      "\u001b[2m\u001b[36m(process_and_save_split pid=76524)\u001b[0m /tmp/ipykernel_76235/632661198.py:203: SettingWithCopyWarning: \u001b[32m [repeated 2x across cluster]\u001b[0m\n",
      "\u001b[2m\u001b[36m(process_and_save_split pid=76524)\u001b[0m A value is trying to be set on a copy of a slice from a DataFrame.\u001b[32m [repeated 2x across cluster]\u001b[0m\n",
      "\u001b[2m\u001b[36m(process_and_save_split pid=76524)\u001b[0m Try using .loc[row_indexer,col_indexer] = value instead\u001b[32m [repeated 2x across cluster]\u001b[0m\n",
      "\u001b[2m\u001b[36m(process_and_save_split pid=76524)\u001b[0m \u001b[32m [repeated 2x across cluster]\u001b[0m\n",
      "\u001b[2m\u001b[36m(process_and_save_split pid=76524)\u001b[0m See the caveats in the documentation: https://pandas.pydata.org/pandas-docs/stable/user_guide/indexing.html#returning-a-view-versus-a-copy\u001b[32m [repeated 2x across cluster]\u001b[0m\n",
      "\u001b[2m\u001b[36m(process_and_save_split pid=76515)\u001b[0m /tmp/ipykernel_76235/632661198.py:203: SettingWithCopyWarning: \u001b[32m [repeated 2x across cluster]\u001b[0m\n",
      "\u001b[2m\u001b[36m(process_and_save_split pid=76515)\u001b[0m A value is trying to be set on a copy of a slice from a DataFrame.\u001b[32m [repeated 2x across cluster]\u001b[0m\n",
      "\u001b[2m\u001b[36m(process_and_save_split pid=76515)\u001b[0m Try using .loc[row_indexer,col_indexer] = value instead\u001b[32m [repeated 2x across cluster]\u001b[0m\n",
      "\u001b[2m\u001b[36m(process_and_save_split pid=76515)\u001b[0m \u001b[32m [repeated 2x across cluster]\u001b[0m\n",
      "\u001b[2m\u001b[36m(process_and_save_split pid=76515)\u001b[0m See the caveats in the documentation: https://pandas.pydata.org/pandas-docs/stable/user_guide/indexing.html#returning-a-view-versus-a-copy\u001b[32m [repeated 2x across cluster]\u001b[0m\n",
      "\u001b[2m\u001b[36m(process_and_save_split pid=76519)\u001b[0m /tmp/ipykernel_76235/632661198.py:203: SettingWithCopyWarning: \u001b[32m [repeated 2x across cluster]\u001b[0m\n",
      "\u001b[2m\u001b[36m(process_and_save_split pid=76519)\u001b[0m A value is trying to be set on a copy of a slice from a DataFrame.\u001b[32m [repeated 2x across cluster]\u001b[0m\n",
      "\u001b[2m\u001b[36m(process_and_save_split pid=76519)\u001b[0m Try using .loc[row_indexer,col_indexer] = value instead\u001b[32m [repeated 2x across cluster]\u001b[0m\n",
      "\u001b[2m\u001b[36m(process_and_save_split pid=76519)\u001b[0m \u001b[32m [repeated 2x across cluster]\u001b[0m\n",
      "\u001b[2m\u001b[36m(process_and_save_split pid=76519)\u001b[0m See the caveats in the documentation: https://pandas.pydata.org/pandas-docs/stable/user_guide/indexing.html#returning-a-view-versus-a-copy\u001b[32m [repeated 2x across cluster]\u001b[0m\n",
      "\u001b[2m\u001b[36m(process_and_save_split pid=76513)\u001b[0m /tmp/ipykernel_76235/632661198.py:203: SettingWithCopyWarning: \u001b[32m [repeated 8x across cluster]\u001b[0m\n",
      "\u001b[2m\u001b[36m(process_and_save_split pid=76513)\u001b[0m A value is trying to be set on a copy of a slice from a DataFrame.\u001b[32m [repeated 8x across cluster]\u001b[0m\n",
      "\u001b[2m\u001b[36m(process_and_save_split pid=76513)\u001b[0m Try using .loc[row_indexer,col_indexer] = value instead\u001b[32m [repeated 8x across cluster]\u001b[0m\n",
      "\u001b[2m\u001b[36m(process_and_save_split pid=76513)\u001b[0m \u001b[32m [repeated 8x across cluster]\u001b[0m\n",
      "\u001b[2m\u001b[36m(process_and_save_split pid=76513)\u001b[0m See the caveats in the documentation: https://pandas.pydata.org/pandas-docs/stable/user_guide/indexing.html#returning-a-view-versus-a-copy\u001b[32m [repeated 8x across cluster]\u001b[0m\n"
     ]
    }
   ],
   "source": [
    "cv_strategy = 'loso'  # Choose from: 'loso', 'group_k_fold', 'k_fold', 'time_series'\n",
    "\n",
    "with on_ray():\n",
    "    # Get the relevant train-test splits based on the chosen CV strategy\n",
    "    splits = get_cv_splits(cv_strategy, all_data, all_labels, all_groups)\n",
    "    \n",
    "    C_cat = np.asarray(sorted(cats))\n",
    "    C_num = np.asarray(sorted(X.columns[~X.columns.isin(C_cat)]))\n",
    "#    Iterate over train-test splits\n",
    "    futures = [process_and_save_split.remote(train_idx, test_idx, all_data, all_labels, all_groups, process_dataframe, save_data_to_data_file, C_cat, C_num, select) \n",
    "#    futures = [process_and_save_split.remote(train_idx, test_idx, all_data, all_labels, all_groups, process_dataframe, save_data_to_data_file)\n",
    "                                         for train_idx, test_idx in splits]\n",
    "\n",
    "    ray.get(futures)"
   ]
  },
  {
   "cell_type": "markdown",
   "id": "9719c77f",
   "metadata": {},
   "source": [
    "Training"
   ]
  },
  {
   "cell_type": "code",
   "execution_count": 16,
   "id": "f57a608c",
   "metadata": {},
   "outputs": [],
   "source": [
    "param = {\n",
    "    \"learning_rate\": 0.01,\n",
    "    \"seed\": RANDOM_STATE,\n",
    "    \"objective\": 'binary:logistic',\n",
    "    'eval_metric': 'auc',\n",
    "    'verbosity': 0,\n",
    "}"
   ]
  },
  {
   "cell_type": "code",
   "execution_count": 17,
   "id": "c7a942bc",
   "metadata": {
    "scrolled": true
   },
   "outputs": [
    {
     "name": "stderr",
     "output_type": "stream",
     "text": [
      "2024-08-28 12:32:30,278\tINFO worker.py:1612 -- Started a local Ray instance. View the dashboard at \u001b[1m\u001b[32m127.0.0.1:8265 \u001b[39m\u001b[22m\n"
     ]
    },
    {
     "name": "stdout",
     "output_type": "stream",
     "text": [
      "start training & evaluation for P107\n",
      "[0]\ttrain-auc:0.75258\teval-auc:0.67519\n",
      "[1]\ttrain-auc:0.75701\teval-auc:0.67959\n",
      "[2]\ttrain-auc:0.75786\teval-auc:0.68017\n",
      "[3]\ttrain-auc:0.76011\teval-auc:0.68052\n",
      "[4]\ttrain-auc:0.76056\teval-auc:0.68180\n",
      "[5]\ttrain-auc:0.76176\teval-auc:0.68237\n",
      "[6]\ttrain-auc:0.76225\teval-auc:0.68185\n",
      "[7]\ttrain-auc:0.76599\teval-auc:0.68430\n",
      "[8]\ttrain-auc:0.76676\teval-auc:0.68489\n",
      "[9]\ttrain-auc:0.76771\teval-auc:0.68516\n",
      "finish training & evaluation for P107\n",
      "start training & evaluation for P099\n",
      "[0]\ttrain-auc:0.75100\teval-auc:0.66797\n"
     ]
    },
    {
     "name": "stderr",
     "output_type": "stream",
     "text": [
      "/home/panyu/miniconda3/envs/sci-data/lib/python3.9/site-packages/xgboost/core.py:122: UserWarning: ntree_limit is deprecated, use `iteration_range` or model slicing instead.\n",
      "  warnings.warn(\n",
      "/home/panyu/miniconda3/envs/sci-data/lib/python3.9/site-packages/xgboost/core.py:122: UserWarning: ntree_limit is deprecated, use `iteration_range` or model slicing instead.\n",
      "  warnings.warn(\n"
     ]
    },
    {
     "name": "stdout",
     "output_type": "stream",
     "text": [
      "[1]\ttrain-auc:0.75151\teval-auc:0.66860\n",
      "[2]\ttrain-auc:0.75303\teval-auc:0.66978\n",
      "[3]\ttrain-auc:0.75825\teval-auc:0.66960\n",
      "[4]\ttrain-auc:0.75868\teval-auc:0.67053\n",
      "[5]\ttrain-auc:0.75867\teval-auc:0.67014\n",
      "[6]\ttrain-auc:0.76058\teval-auc:0.67094\n",
      "[7]\ttrain-auc:0.76100\teval-auc:0.67140\n",
      "[8]\ttrain-auc:0.76745\teval-auc:0.67572\n",
      "[9]\ttrain-auc:0.76904\teval-auc:0.67725\n",
      "finish training & evaluation for P099\n",
      "start training & evaluation for P009\n",
      "[0]\ttrain-auc:0.75859\teval-auc:0.66500\n"
     ]
    },
    {
     "name": "stderr",
     "output_type": "stream",
     "text": [
      "/home/panyu/miniconda3/envs/sci-data/lib/python3.9/site-packages/xgboost/core.py:122: UserWarning: ntree_limit is deprecated, use `iteration_range` or model slicing instead.\n",
      "  warnings.warn(\n",
      "/home/panyu/miniconda3/envs/sci-data/lib/python3.9/site-packages/xgboost/core.py:122: UserWarning: ntree_limit is deprecated, use `iteration_range` or model slicing instead.\n",
      "  warnings.warn(\n"
     ]
    },
    {
     "name": "stdout",
     "output_type": "stream",
     "text": [
      "[1]\ttrain-auc:0.75881\teval-auc:0.66701\n",
      "[2]\ttrain-auc:0.76200\teval-auc:0.66967\n",
      "[3]\ttrain-auc:0.76148\teval-auc:0.67043\n",
      "[4]\ttrain-auc:0.76182\teval-auc:0.67209\n",
      "[5]\ttrain-auc:0.76357\teval-auc:0.67288\n",
      "[6]\ttrain-auc:0.76377\teval-auc:0.67367\n",
      "[7]\ttrain-auc:0.76636\teval-auc:0.67586\n",
      "[8]\ttrain-auc:0.76765\teval-auc:0.67679\n",
      "[9]\ttrain-auc:0.76923\teval-auc:0.67733\n",
      "finish training & evaluation for P009\n",
      "start training & evaluation for P109\n",
      "[0]\ttrain-auc:0.75576\teval-auc:0.66450\n"
     ]
    },
    {
     "name": "stderr",
     "output_type": "stream",
     "text": [
      "/home/panyu/miniconda3/envs/sci-data/lib/python3.9/site-packages/xgboost/core.py:122: UserWarning: ntree_limit is deprecated, use `iteration_range` or model slicing instead.\n",
      "  warnings.warn(\n",
      "/home/panyu/miniconda3/envs/sci-data/lib/python3.9/site-packages/xgboost/core.py:122: UserWarning: ntree_limit is deprecated, use `iteration_range` or model slicing instead.\n",
      "  warnings.warn(\n"
     ]
    },
    {
     "name": "stdout",
     "output_type": "stream",
     "text": [
      "[1]\ttrain-auc:0.75659\teval-auc:0.66482\n",
      "[2]\ttrain-auc:0.76152\teval-auc:0.66928\n",
      "[3]\ttrain-auc:0.76405\teval-auc:0.67027\n",
      "[4]\ttrain-auc:0.76650\teval-auc:0.67279\n",
      "[5]\ttrain-auc:0.76711\teval-auc:0.67278\n",
      "[6]\ttrain-auc:0.76842\teval-auc:0.67475\n",
      "[7]\ttrain-auc:0.76942\teval-auc:0.67577\n",
      "[8]\ttrain-auc:0.77001\teval-auc:0.67652\n",
      "[9]\ttrain-auc:0.77003\teval-auc:0.67621\n",
      "finish training & evaluation for P109\n",
      "start training & evaluation for P115\n",
      "[0]\ttrain-auc:0.75930\teval-auc:0.67550\n"
     ]
    },
    {
     "name": "stderr",
     "output_type": "stream",
     "text": [
      "/home/panyu/miniconda3/envs/sci-data/lib/python3.9/site-packages/xgboost/core.py:122: UserWarning: ntree_limit is deprecated, use `iteration_range` or model slicing instead.\n",
      "  warnings.warn(\n",
      "/home/panyu/miniconda3/envs/sci-data/lib/python3.9/site-packages/xgboost/core.py:122: UserWarning: ntree_limit is deprecated, use `iteration_range` or model slicing instead.\n",
      "  warnings.warn(\n"
     ]
    },
    {
     "name": "stdout",
     "output_type": "stream",
     "text": [
      "[1]\ttrain-auc:0.75992\teval-auc:0.67553\n",
      "[2]\ttrain-auc:0.76615\teval-auc:0.67993\n",
      "[3]\ttrain-auc:0.76790\teval-auc:0.67946\n",
      "[4]\ttrain-auc:0.76809\teval-auc:0.68048\n",
      "[5]\ttrain-auc:0.76998\teval-auc:0.67937\n",
      "[6]\ttrain-auc:0.76998\teval-auc:0.68046\n",
      "[7]\ttrain-auc:0.77185\teval-auc:0.68052\n",
      "[8]\ttrain-auc:0.77191\teval-auc:0.68167\n",
      "[9]\ttrain-auc:0.77515\teval-auc:0.68249\n",
      "finish training & evaluation for P115\n",
      "start training & evaluation for P090\n",
      "[0]\ttrain-auc:0.75274\teval-auc:0.67413\n"
     ]
    },
    {
     "name": "stderr",
     "output_type": "stream",
     "text": [
      "/home/panyu/miniconda3/envs/sci-data/lib/python3.9/site-packages/xgboost/core.py:122: UserWarning: ntree_limit is deprecated, use `iteration_range` or model slicing instead.\n",
      "  warnings.warn(\n",
      "/home/panyu/miniconda3/envs/sci-data/lib/python3.9/site-packages/xgboost/core.py:122: UserWarning: ntree_limit is deprecated, use `iteration_range` or model slicing instead.\n",
      "  warnings.warn(\n"
     ]
    },
    {
     "name": "stdout",
     "output_type": "stream",
     "text": [
      "[1]\ttrain-auc:0.75294\teval-auc:0.67397\n",
      "[2]\ttrain-auc:0.75735\teval-auc:0.67924\n",
      "[3]\ttrain-auc:0.76033\teval-auc:0.68071\n",
      "[4]\ttrain-auc:0.76105\teval-auc:0.68087\n",
      "[5]\ttrain-auc:0.76096\teval-auc:0.68033\n",
      "[6]\ttrain-auc:0.76293\teval-auc:0.68189\n",
      "[7]\ttrain-auc:0.76361\teval-auc:0.68266\n",
      "[8]\ttrain-auc:0.76421\teval-auc:0.68365\n",
      "[9]\ttrain-auc:0.76467\teval-auc:0.68327\n",
      "finish training & evaluation for P090\n",
      "start training & evaluation for P026\n"
     ]
    },
    {
     "name": "stderr",
     "output_type": "stream",
     "text": [
      "/home/panyu/miniconda3/envs/sci-data/lib/python3.9/site-packages/xgboost/core.py:122: UserWarning: ntree_limit is deprecated, use `iteration_range` or model slicing instead.\n",
      "  warnings.warn(\n",
      "/home/panyu/miniconda3/envs/sci-data/lib/python3.9/site-packages/xgboost/core.py:122: UserWarning: ntree_limit is deprecated, use `iteration_range` or model slicing instead.\n",
      "  warnings.warn(\n"
     ]
    },
    {
     "name": "stdout",
     "output_type": "stream",
     "text": [
      "[0]\ttrain-auc:0.75635\teval-auc:0.64796\n",
      "[1]\ttrain-auc:0.75670\teval-auc:0.64789\n",
      "[2]\ttrain-auc:0.76233\teval-auc:0.65346\n",
      "[3]\ttrain-auc:0.76377\teval-auc:0.65241\n",
      "[4]\ttrain-auc:0.76561\teval-auc:0.65371\n",
      "[5]\ttrain-auc:0.76701\teval-auc:0.65439\n",
      "[6]\ttrain-auc:0.76766\teval-auc:0.65535\n",
      "[7]\ttrain-auc:0.76856\teval-auc:0.65590\n",
      "[8]\ttrain-auc:0.76823\teval-auc:0.65593\n",
      "[9]\ttrain-auc:0.77062\teval-auc:0.65635\n",
      "finish training & evaluation for P026\n",
      "start training & evaluation for P079\n"
     ]
    },
    {
     "name": "stderr",
     "output_type": "stream",
     "text": [
      "/home/panyu/miniconda3/envs/sci-data/lib/python3.9/site-packages/xgboost/core.py:122: UserWarning: ntree_limit is deprecated, use `iteration_range` or model slicing instead.\n",
      "  warnings.warn(\n",
      "/home/panyu/miniconda3/envs/sci-data/lib/python3.9/site-packages/xgboost/core.py:122: UserWarning: ntree_limit is deprecated, use `iteration_range` or model slicing instead.\n",
      "  warnings.warn(\n"
     ]
    },
    {
     "name": "stdout",
     "output_type": "stream",
     "text": [
      "[0]\ttrain-auc:0.75259\teval-auc:0.68517\n",
      "[1]\ttrain-auc:0.75477\teval-auc:0.68907\n",
      "[2]\ttrain-auc:0.75627\teval-auc:0.68967\n",
      "[3]\ttrain-auc:0.76195\teval-auc:0.69381\n",
      "[4]\ttrain-auc:0.76178\teval-auc:0.69396\n",
      "[5]\ttrain-auc:0.76488\teval-auc:0.69611\n",
      "[6]\ttrain-auc:0.76433\teval-auc:0.69585\n",
      "[7]\ttrain-auc:0.76568\teval-auc:0.69761\n",
      "[8]\ttrain-auc:0.76836\teval-auc:0.69835\n",
      "[9]\ttrain-auc:0.76993\teval-auc:0.69882\n",
      "finish training & evaluation for P079\n",
      "start training & evaluation for P123\n",
      "[0]\ttrain-auc:0.75356\teval-auc:0.67205\n"
     ]
    },
    {
     "name": "stderr",
     "output_type": "stream",
     "text": [
      "/home/panyu/miniconda3/envs/sci-data/lib/python3.9/site-packages/xgboost/core.py:122: UserWarning: ntree_limit is deprecated, use `iteration_range` or model slicing instead.\n",
      "  warnings.warn(\n",
      "/home/panyu/miniconda3/envs/sci-data/lib/python3.9/site-packages/xgboost/core.py:122: UserWarning: ntree_limit is deprecated, use `iteration_range` or model slicing instead.\n",
      "  warnings.warn(\n"
     ]
    },
    {
     "name": "stdout",
     "output_type": "stream",
     "text": [
      "[1]\ttrain-auc:0.76187\teval-auc:0.67795\n",
      "[2]\ttrain-auc:0.76891\teval-auc:0.68179\n",
      "[3]\ttrain-auc:0.76946\teval-auc:0.68313\n",
      "[4]\ttrain-auc:0.76805\teval-auc:0.68291\n",
      "[5]\ttrain-auc:0.77097\teval-auc:0.68471\n",
      "[6]\ttrain-auc:0.77076\teval-auc:0.68574\n",
      "[7]\ttrain-auc:0.77093\teval-auc:0.68567\n",
      "[8]\ttrain-auc:0.77236\teval-auc:0.68606\n",
      "[9]\ttrain-auc:0.77346\teval-auc:0.68723\n",
      "finish training & evaluation for P123\n",
      "start training & evaluation for P102\n",
      "[0]\ttrain-auc:0.75706\teval-auc:0.67258\n"
     ]
    },
    {
     "name": "stderr",
     "output_type": "stream",
     "text": [
      "/home/panyu/miniconda3/envs/sci-data/lib/python3.9/site-packages/xgboost/core.py:122: UserWarning: ntree_limit is deprecated, use `iteration_range` or model slicing instead.\n",
      "  warnings.warn(\n",
      "/home/panyu/miniconda3/envs/sci-data/lib/python3.9/site-packages/xgboost/core.py:122: UserWarning: ntree_limit is deprecated, use `iteration_range` or model slicing instead.\n",
      "  warnings.warn(\n"
     ]
    },
    {
     "name": "stdout",
     "output_type": "stream",
     "text": [
      "[1]\ttrain-auc:0.76737\teval-auc:0.68207\n",
      "[2]\ttrain-auc:0.77340\teval-auc:0.68772\n",
      "[3]\ttrain-auc:0.77339\teval-auc:0.68589\n",
      "[4]\ttrain-auc:0.77349\teval-auc:0.68790\n",
      "[5]\ttrain-auc:0.77366\teval-auc:0.68745\n",
      "[6]\ttrain-auc:0.77488\teval-auc:0.68891\n",
      "[7]\ttrain-auc:0.77557\teval-auc:0.68810\n",
      "[8]\ttrain-auc:0.77824\teval-auc:0.68962\n",
      "[9]\ttrain-auc:0.77911\teval-auc:0.68919\n",
      "finish training & evaluation for P102\n",
      "start training & evaluation for P020\n"
     ]
    },
    {
     "name": "stderr",
     "output_type": "stream",
     "text": [
      "/home/panyu/miniconda3/envs/sci-data/lib/python3.9/site-packages/xgboost/core.py:122: UserWarning: ntree_limit is deprecated, use `iteration_range` or model slicing instead.\n",
      "  warnings.warn(\n",
      "/home/panyu/miniconda3/envs/sci-data/lib/python3.9/site-packages/xgboost/core.py:122: UserWarning: ntree_limit is deprecated, use `iteration_range` or model slicing instead.\n",
      "  warnings.warn(\n"
     ]
    },
    {
     "name": "stdout",
     "output_type": "stream",
     "text": [
      "[0]\ttrain-auc:0.75245\teval-auc:0.67710\n",
      "[1]\ttrain-auc:0.75447\teval-auc:0.67556\n",
      "[2]\ttrain-auc:0.75930\teval-auc:0.67844\n",
      "[3]\ttrain-auc:0.76029\teval-auc:0.67927\n",
      "[4]\ttrain-auc:0.75984\teval-auc:0.67864\n",
      "[5]\ttrain-auc:0.76923\teval-auc:0.68332\n",
      "[6]\ttrain-auc:0.76948\teval-auc:0.68323\n",
      "[7]\ttrain-auc:0.77081\teval-auc:0.68535\n",
      "[8]\ttrain-auc:0.77157\teval-auc:0.68554\n",
      "[9]\ttrain-auc:0.77252\teval-auc:0.68564\n",
      "finish training & evaluation for P020\n",
      "start training & evaluation for P097\n",
      "[0]\ttrain-auc:0.75431\teval-auc:0.67550\n"
     ]
    },
    {
     "name": "stderr",
     "output_type": "stream",
     "text": [
      "/home/panyu/miniconda3/envs/sci-data/lib/python3.9/site-packages/xgboost/core.py:122: UserWarning: ntree_limit is deprecated, use `iteration_range` or model slicing instead.\n",
      "  warnings.warn(\n",
      "/home/panyu/miniconda3/envs/sci-data/lib/python3.9/site-packages/xgboost/core.py:122: UserWarning: ntree_limit is deprecated, use `iteration_range` or model slicing instead.\n",
      "  warnings.warn(\n"
     ]
    },
    {
     "name": "stdout",
     "output_type": "stream",
     "text": [
      "[1]\ttrain-auc:0.75458\teval-auc:0.67600\n",
      "[2]\ttrain-auc:0.75604\teval-auc:0.67751\n",
      "[3]\ttrain-auc:0.75636\teval-auc:0.67787\n",
      "[4]\ttrain-auc:0.75645\teval-auc:0.67773\n",
      "[5]\ttrain-auc:0.75726\teval-auc:0.67849\n",
      "[6]\ttrain-auc:0.76860\teval-auc:0.68317\n",
      "[7]\ttrain-auc:0.76889\teval-auc:0.68267\n",
      "[8]\ttrain-auc:0.77084\teval-auc:0.68556\n",
      "[9]\ttrain-auc:0.77335\teval-auc:0.68688\n",
      "finish training & evaluation for P097\n",
      "start training & evaluation for P120\n",
      "[0]\ttrain-auc:0.75373\teval-auc:0.67292\n"
     ]
    },
    {
     "name": "stderr",
     "output_type": "stream",
     "text": [
      "/home/panyu/miniconda3/envs/sci-data/lib/python3.9/site-packages/xgboost/core.py:122: UserWarning: ntree_limit is deprecated, use `iteration_range` or model slicing instead.\n",
      "  warnings.warn(\n",
      "/home/panyu/miniconda3/envs/sci-data/lib/python3.9/site-packages/xgboost/core.py:122: UserWarning: ntree_limit is deprecated, use `iteration_range` or model slicing instead.\n",
      "  warnings.warn(\n"
     ]
    },
    {
     "name": "stdout",
     "output_type": "stream",
     "text": [
      "[1]\ttrain-auc:0.75486\teval-auc:0.67395\n",
      "[2]\ttrain-auc:0.75477\teval-auc:0.67347\n",
      "[3]\ttrain-auc:0.75646\teval-auc:0.67501\n",
      "[4]\ttrain-auc:0.75686\teval-auc:0.67520\n",
      "[5]\ttrain-auc:0.75747\teval-auc:0.67573\n",
      "[6]\ttrain-auc:0.76034\teval-auc:0.67642\n",
      "[7]\ttrain-auc:0.76055\teval-auc:0.67679\n",
      "[8]\ttrain-auc:0.76380\teval-auc:0.67792\n",
      "[9]\ttrain-auc:0.76545\teval-auc:0.67898\n",
      "finish training & evaluation for P120\n",
      "start training & evaluation for P101\n",
      "[0]\ttrain-auc:0.75608\teval-auc:0.67428\n",
      "[1]\ttrain-auc:0.75759\teval-auc:0.67676\n"
     ]
    },
    {
     "name": "stderr",
     "output_type": "stream",
     "text": [
      "/home/panyu/miniconda3/envs/sci-data/lib/python3.9/site-packages/xgboost/core.py:122: UserWarning: ntree_limit is deprecated, use `iteration_range` or model slicing instead.\n",
      "  warnings.warn(\n",
      "/home/panyu/miniconda3/envs/sci-data/lib/python3.9/site-packages/xgboost/core.py:122: UserWarning: ntree_limit is deprecated, use `iteration_range` or model slicing instead.\n",
      "  warnings.warn(\n"
     ]
    },
    {
     "name": "stdout",
     "output_type": "stream",
     "text": [
      "[2]\ttrain-auc:0.75827\teval-auc:0.67697\n",
      "[3]\ttrain-auc:0.75860\teval-auc:0.67708\n",
      "[4]\ttrain-auc:0.76090\teval-auc:0.67991\n",
      "[5]\ttrain-auc:0.76297\teval-auc:0.67975\n",
      "[6]\ttrain-auc:0.76603\teval-auc:0.68341\n",
      "[7]\ttrain-auc:0.76642\teval-auc:0.68426\n",
      "[8]\ttrain-auc:0.76862\teval-auc:0.68550\n",
      "[9]\ttrain-auc:0.76953\teval-auc:0.68763\n",
      "finish training & evaluation for P101\n",
      "start training & evaluation for P051\n",
      "[0]\ttrain-auc:0.75951\teval-auc:0.66344\n"
     ]
    },
    {
     "name": "stderr",
     "output_type": "stream",
     "text": [
      "/home/panyu/miniconda3/envs/sci-data/lib/python3.9/site-packages/xgboost/core.py:122: UserWarning: ntree_limit is deprecated, use `iteration_range` or model slicing instead.\n",
      "  warnings.warn(\n",
      "/home/panyu/miniconda3/envs/sci-data/lib/python3.9/site-packages/xgboost/core.py:122: UserWarning: ntree_limit is deprecated, use `iteration_range` or model slicing instead.\n",
      "  warnings.warn(\n"
     ]
    },
    {
     "name": "stdout",
     "output_type": "stream",
     "text": [
      "[1]\ttrain-auc:0.76270\teval-auc:0.66934\n",
      "[2]\ttrain-auc:0.76421\teval-auc:0.67073\n",
      "[3]\ttrain-auc:0.76469\teval-auc:0.67143\n",
      "[4]\ttrain-auc:0.76842\teval-auc:0.67670\n",
      "[5]\ttrain-auc:0.76967\teval-auc:0.67733\n",
      "[6]\ttrain-auc:0.76972\teval-auc:0.67866\n",
      "[7]\ttrain-auc:0.77339\teval-auc:0.67991\n",
      "[8]\ttrain-auc:0.77360\teval-auc:0.68081\n",
      "[9]\ttrain-auc:0.77529\teval-auc:0.68152\n",
      "finish training & evaluation for P051\n",
      "start training & evaluation for P105\n"
     ]
    },
    {
     "name": "stderr",
     "output_type": "stream",
     "text": [
      "/home/panyu/miniconda3/envs/sci-data/lib/python3.9/site-packages/xgboost/core.py:122: UserWarning: ntree_limit is deprecated, use `iteration_range` or model slicing instead.\n",
      "  warnings.warn(\n",
      "/home/panyu/miniconda3/envs/sci-data/lib/python3.9/site-packages/xgboost/core.py:122: UserWarning: ntree_limit is deprecated, use `iteration_range` or model slicing instead.\n",
      "  warnings.warn(\n"
     ]
    },
    {
     "name": "stdout",
     "output_type": "stream",
     "text": [
      "[0]\ttrain-auc:0.75820\teval-auc:0.66472\n",
      "[1]\ttrain-auc:0.75820\teval-auc:0.66486\n",
      "[2]\ttrain-auc:0.76167\teval-auc:0.66881\n",
      "[3]\ttrain-auc:0.76444\teval-auc:0.67138\n",
      "[4]\ttrain-auc:0.76478\teval-auc:0.67125\n",
      "[5]\ttrain-auc:0.76549\teval-auc:0.67135\n",
      "[6]\ttrain-auc:0.76652\teval-auc:0.67235\n",
      "[7]\ttrain-auc:0.76630\teval-auc:0.67277\n",
      "[8]\ttrain-auc:0.76663\teval-auc:0.67264\n",
      "[9]\ttrain-auc:0.77005\teval-auc:0.67551\n",
      "finish training & evaluation for P105\n",
      "start training & evaluation for P086\n",
      "[0]\ttrain-auc:0.75165\teval-auc:0.66700\n"
     ]
    },
    {
     "name": "stderr",
     "output_type": "stream",
     "text": [
      "/home/panyu/miniconda3/envs/sci-data/lib/python3.9/site-packages/xgboost/core.py:122: UserWarning: ntree_limit is deprecated, use `iteration_range` or model slicing instead.\n",
      "  warnings.warn(\n",
      "/home/panyu/miniconda3/envs/sci-data/lib/python3.9/site-packages/xgboost/core.py:122: UserWarning: ntree_limit is deprecated, use `iteration_range` or model slicing instead.\n",
      "  warnings.warn(\n"
     ]
    },
    {
     "name": "stdout",
     "output_type": "stream",
     "text": [
      "[1]\ttrain-auc:0.75164\teval-auc:0.66713\n",
      "[2]\ttrain-auc:0.75581\teval-auc:0.66954\n",
      "[3]\ttrain-auc:0.75629\teval-auc:0.67132\n",
      "[4]\ttrain-auc:0.75733\teval-auc:0.67155\n",
      "[5]\ttrain-auc:0.76031\teval-auc:0.67318\n",
      "[6]\ttrain-auc:0.76113\teval-auc:0.67419\n",
      "[7]\ttrain-auc:0.76153\teval-auc:0.67385\n",
      "[8]\ttrain-auc:0.76752\teval-auc:0.67531\n",
      "[9]\ttrain-auc:0.76942\teval-auc:0.67551\n",
      "finish training & evaluation for P086\n",
      "start training & evaluation for P014\n"
     ]
    },
    {
     "name": "stderr",
     "output_type": "stream",
     "text": [
      "/home/panyu/miniconda3/envs/sci-data/lib/python3.9/site-packages/xgboost/core.py:122: UserWarning: ntree_limit is deprecated, use `iteration_range` or model slicing instead.\n",
      "  warnings.warn(\n",
      "/home/panyu/miniconda3/envs/sci-data/lib/python3.9/site-packages/xgboost/core.py:122: UserWarning: ntree_limit is deprecated, use `iteration_range` or model slicing instead.\n",
      "  warnings.warn(\n"
     ]
    },
    {
     "name": "stdout",
     "output_type": "stream",
     "text": [
      "[0]\ttrain-auc:0.76039\teval-auc:0.66528\n",
      "[1]\ttrain-auc:0.76216\teval-auc:0.66791\n",
      "[2]\ttrain-auc:0.76383\teval-auc:0.66868\n",
      "[3]\ttrain-auc:0.76410\teval-auc:0.66822\n",
      "[4]\ttrain-auc:0.76988\teval-auc:0.67371\n",
      "[5]\ttrain-auc:0.77054\teval-auc:0.67423\n",
      "[6]\ttrain-auc:0.77089\teval-auc:0.67420\n",
      "[7]\ttrain-auc:0.77268\teval-auc:0.67600\n",
      "[8]\ttrain-auc:0.77451\teval-auc:0.67744\n",
      "[9]\ttrain-auc:0.77550\teval-auc:0.67812\n",
      "finish training & evaluation for P014\n",
      "start training & evaluation for P070\n"
     ]
    },
    {
     "name": "stderr",
     "output_type": "stream",
     "text": [
      "/home/panyu/miniconda3/envs/sci-data/lib/python3.9/site-packages/xgboost/core.py:122: UserWarning: ntree_limit is deprecated, use `iteration_range` or model slicing instead.\n",
      "  warnings.warn(\n",
      "/home/panyu/miniconda3/envs/sci-data/lib/python3.9/site-packages/xgboost/core.py:122: UserWarning: ntree_limit is deprecated, use `iteration_range` or model slicing instead.\n",
      "  warnings.warn(\n"
     ]
    },
    {
     "name": "stdout",
     "output_type": "stream",
     "text": [
      "[0]\ttrain-auc:0.75558\teval-auc:0.68023\n",
      "[1]\ttrain-auc:0.76186\teval-auc:0.68013\n",
      "[2]\ttrain-auc:0.76738\teval-auc:0.68165\n",
      "[3]\ttrain-auc:0.76819\teval-auc:0.68057\n",
      "[4]\ttrain-auc:0.76876\teval-auc:0.68123\n",
      "[5]\ttrain-auc:0.76863\teval-auc:0.68170\n",
      "[6]\ttrain-auc:0.77059\teval-auc:0.68162\n",
      "[7]\ttrain-auc:0.77176\teval-auc:0.68184\n",
      "[8]\ttrain-auc:0.77219\teval-auc:0.68190\n",
      "[9]\ttrain-auc:0.77475\teval-auc:0.68293\n",
      "finish training & evaluation for P070\n",
      "start training & evaluation for P008\n",
      "[0]\ttrain-auc:0.76131\teval-auc:0.66301\n"
     ]
    },
    {
     "name": "stderr",
     "output_type": "stream",
     "text": [
      "/home/panyu/miniconda3/envs/sci-data/lib/python3.9/site-packages/xgboost/core.py:122: UserWarning: ntree_limit is deprecated, use `iteration_range` or model slicing instead.\n",
      "  warnings.warn(\n",
      "/home/panyu/miniconda3/envs/sci-data/lib/python3.9/site-packages/xgboost/core.py:122: UserWarning: ntree_limit is deprecated, use `iteration_range` or model slicing instead.\n",
      "  warnings.warn(\n"
     ]
    },
    {
     "name": "stdout",
     "output_type": "stream",
     "text": [
      "[1]\ttrain-auc:0.76155\teval-auc:0.66212\n",
      "[2]\ttrain-auc:0.76415\teval-auc:0.66195\n",
      "[3]\ttrain-auc:0.76440\teval-auc:0.66192\n",
      "[4]\ttrain-auc:0.76599\teval-auc:0.66439\n",
      "[5]\ttrain-auc:0.76671\teval-auc:0.66401\n",
      "[6]\ttrain-auc:0.76697\teval-auc:0.66419\n",
      "[7]\ttrain-auc:0.76752\teval-auc:0.66475\n",
      "[8]\ttrain-auc:0.76801\teval-auc:0.66495\n",
      "[9]\ttrain-auc:0.76837\teval-auc:0.66561\n",
      "finish training & evaluation for P008\n",
      "start training & evaluation for P122\n",
      "[0]\ttrain-auc:0.75296\teval-auc:0.67591\n"
     ]
    },
    {
     "name": "stderr",
     "output_type": "stream",
     "text": [
      "/home/panyu/miniconda3/envs/sci-data/lib/python3.9/site-packages/xgboost/core.py:122: UserWarning: ntree_limit is deprecated, use `iteration_range` or model slicing instead.\n",
      "  warnings.warn(\n",
      "/home/panyu/miniconda3/envs/sci-data/lib/python3.9/site-packages/xgboost/core.py:122: UserWarning: ntree_limit is deprecated, use `iteration_range` or model slicing instead.\n",
      "  warnings.warn(\n"
     ]
    },
    {
     "name": "stdout",
     "output_type": "stream",
     "text": [
      "[1]\ttrain-auc:0.75332\teval-auc:0.67660\n",
      "[2]\ttrain-auc:0.75573\teval-auc:0.68007\n",
      "[3]\ttrain-auc:0.75760\teval-auc:0.68078\n",
      "[4]\ttrain-auc:0.75766\teval-auc:0.67985\n",
      "[5]\ttrain-auc:0.76031\teval-auc:0.68195\n",
      "[6]\ttrain-auc:0.76361\teval-auc:0.68504\n",
      "[7]\ttrain-auc:0.76466\teval-auc:0.68618\n",
      "[8]\ttrain-auc:0.76910\teval-auc:0.68683\n",
      "[9]\ttrain-auc:0.76932\teval-auc:0.68681\n",
      "finish training & evaluation for P122\n",
      "start training & evaluation for P056\n",
      "[0]\ttrain-auc:0.75120\teval-auc:0.67510\n"
     ]
    },
    {
     "name": "stderr",
     "output_type": "stream",
     "text": [
      "/home/panyu/miniconda3/envs/sci-data/lib/python3.9/site-packages/xgboost/core.py:122: UserWarning: ntree_limit is deprecated, use `iteration_range` or model slicing instead.\n",
      "  warnings.warn(\n",
      "/home/panyu/miniconda3/envs/sci-data/lib/python3.9/site-packages/xgboost/core.py:122: UserWarning: ntree_limit is deprecated, use `iteration_range` or model slicing instead.\n",
      "  warnings.warn(\n"
     ]
    },
    {
     "name": "stdout",
     "output_type": "stream",
     "text": [
      "[1]\ttrain-auc:0.75446\teval-auc:0.67792\n",
      "[2]\ttrain-auc:0.75644\teval-auc:0.67800\n",
      "[3]\ttrain-auc:0.75648\teval-auc:0.67840\n",
      "[4]\ttrain-auc:0.75615\teval-auc:0.67785\n",
      "[5]\ttrain-auc:0.75598\teval-auc:0.67834\n",
      "[6]\ttrain-auc:0.75836\teval-auc:0.68079\n",
      "[7]\ttrain-auc:0.76101\teval-auc:0.68209\n",
      "[8]\ttrain-auc:0.76163\teval-auc:0.68308\n",
      "[9]\ttrain-auc:0.76290\teval-auc:0.68384\n",
      "finish training & evaluation for P056\n",
      "start training & evaluation for P027\n",
      "[0]\ttrain-auc:0.75589\teval-auc:0.66322\n"
     ]
    },
    {
     "name": "stderr",
     "output_type": "stream",
     "text": [
      "/home/panyu/miniconda3/envs/sci-data/lib/python3.9/site-packages/xgboost/core.py:122: UserWarning: ntree_limit is deprecated, use `iteration_range` or model slicing instead.\n",
      "  warnings.warn(\n",
      "/home/panyu/miniconda3/envs/sci-data/lib/python3.9/site-packages/xgboost/core.py:122: UserWarning: ntree_limit is deprecated, use `iteration_range` or model slicing instead.\n",
      "  warnings.warn(\n"
     ]
    },
    {
     "name": "stdout",
     "output_type": "stream",
     "text": [
      "[1]\ttrain-auc:0.75798\teval-auc:0.66116\n",
      "[2]\ttrain-auc:0.76488\teval-auc:0.66513\n",
      "[3]\ttrain-auc:0.76470\teval-auc:0.66517\n",
      "[4]\ttrain-auc:0.76511\teval-auc:0.66626\n",
      "[5]\ttrain-auc:0.76589\teval-auc:0.66642\n",
      "[6]\ttrain-auc:0.76590\teval-auc:0.66646\n",
      "[7]\ttrain-auc:0.76800\teval-auc:0.66742\n",
      "[8]\ttrain-auc:0.76886\teval-auc:0.66791\n",
      "[9]\ttrain-auc:0.77226\teval-auc:0.67234\n",
      "finish training & evaluation for P027\n",
      "start training & evaluation for P013\n",
      "[0]\ttrain-auc:0.75193\teval-auc:0.68427\n",
      "[1]\ttrain-auc:0.75190\teval-auc:0.68429\n"
     ]
    },
    {
     "name": "stderr",
     "output_type": "stream",
     "text": [
      "/home/panyu/miniconda3/envs/sci-data/lib/python3.9/site-packages/xgboost/core.py:122: UserWarning: ntree_limit is deprecated, use `iteration_range` or model slicing instead.\n",
      "  warnings.warn(\n",
      "/home/panyu/miniconda3/envs/sci-data/lib/python3.9/site-packages/xgboost/core.py:122: UserWarning: ntree_limit is deprecated, use `iteration_range` or model slicing instead.\n",
      "  warnings.warn(\n"
     ]
    },
    {
     "name": "stdout",
     "output_type": "stream",
     "text": [
      "[2]\ttrain-auc:0.75193\teval-auc:0.68384\n",
      "[3]\ttrain-auc:0.75299\teval-auc:0.68487\n",
      "[4]\ttrain-auc:0.75294\teval-auc:0.68423\n",
      "[5]\ttrain-auc:0.75414\teval-auc:0.68432\n",
      "[6]\ttrain-auc:0.75386\teval-auc:0.68458\n",
      "[7]\ttrain-auc:0.75519\teval-auc:0.68474\n",
      "[8]\ttrain-auc:0.75689\teval-auc:0.68483\n",
      "[9]\ttrain-auc:0.75739\teval-auc:0.68521\n",
      "finish training & evaluation for P013\n",
      "start training & evaluation for P121\n",
      "[0]\ttrain-auc:0.75638\teval-auc:0.66121\n",
      "[1]\ttrain-auc:0.75870\teval-auc:0.66624\n"
     ]
    },
    {
     "name": "stderr",
     "output_type": "stream",
     "text": [
      "/home/panyu/miniconda3/envs/sci-data/lib/python3.9/site-packages/xgboost/core.py:122: UserWarning: ntree_limit is deprecated, use `iteration_range` or model slicing instead.\n",
      "  warnings.warn(\n",
      "/home/panyu/miniconda3/envs/sci-data/lib/python3.9/site-packages/xgboost/core.py:122: UserWarning: ntree_limit is deprecated, use `iteration_range` or model slicing instead.\n",
      "  warnings.warn(\n"
     ]
    },
    {
     "name": "stdout",
     "output_type": "stream",
     "text": [
      "[2]\ttrain-auc:0.76078\teval-auc:0.66631\n",
      "[3]\ttrain-auc:0.76291\teval-auc:0.67112\n",
      "[4]\ttrain-auc:0.76572\teval-auc:0.67134\n",
      "[5]\ttrain-auc:0.77388\teval-auc:0.67725\n",
      "[6]\ttrain-auc:0.77382\teval-auc:0.67970\n",
      "[7]\ttrain-auc:0.77608\teval-auc:0.68180\n",
      "[8]\ttrain-auc:0.77716\teval-auc:0.68346\n",
      "[9]\ttrain-auc:0.77834\teval-auc:0.68495\n",
      "finish training & evaluation for P121\n",
      "start training & evaluation for P098\n"
     ]
    },
    {
     "name": "stderr",
     "output_type": "stream",
     "text": [
      "/home/panyu/miniconda3/envs/sci-data/lib/python3.9/site-packages/xgboost/core.py:122: UserWarning: ntree_limit is deprecated, use `iteration_range` or model slicing instead.\n",
      "  warnings.warn(\n",
      "/home/panyu/miniconda3/envs/sci-data/lib/python3.9/site-packages/xgboost/core.py:122: UserWarning: ntree_limit is deprecated, use `iteration_range` or model slicing instead.\n",
      "  warnings.warn(\n"
     ]
    },
    {
     "name": "stdout",
     "output_type": "stream",
     "text": [
      "[0]\ttrain-auc:0.75330\teval-auc:0.67043\n",
      "[1]\ttrain-auc:0.75435\teval-auc:0.67233\n",
      "[2]\ttrain-auc:0.75639\teval-auc:0.67479\n",
      "[3]\ttrain-auc:0.75702\teval-auc:0.67577\n",
      "[4]\ttrain-auc:0.75792\teval-auc:0.67646\n",
      "[5]\ttrain-auc:0.76170\teval-auc:0.67764\n",
      "[6]\ttrain-auc:0.76422\teval-auc:0.67932\n",
      "[7]\ttrain-auc:0.76808\teval-auc:0.68306\n",
      "[8]\ttrain-auc:0.76920\teval-auc:0.68324\n",
      "[9]\ttrain-auc:0.77113\teval-auc:0.68447\n",
      "finish training & evaluation for P098\n",
      "start training & evaluation for P081\n",
      "[0]\ttrain-auc:0.75926\teval-auc:0.67256\n",
      "[1]\ttrain-auc:0.76233\teval-auc:0.67238\n"
     ]
    },
    {
     "name": "stderr",
     "output_type": "stream",
     "text": [
      "/home/panyu/miniconda3/envs/sci-data/lib/python3.9/site-packages/xgboost/core.py:122: UserWarning: ntree_limit is deprecated, use `iteration_range` or model slicing instead.\n",
      "  warnings.warn(\n",
      "/home/panyu/miniconda3/envs/sci-data/lib/python3.9/site-packages/xgboost/core.py:122: UserWarning: ntree_limit is deprecated, use `iteration_range` or model slicing instead.\n",
      "  warnings.warn(\n"
     ]
    },
    {
     "name": "stdout",
     "output_type": "stream",
     "text": [
      "[2]\ttrain-auc:0.76380\teval-auc:0.67346\n",
      "[3]\ttrain-auc:0.76344\teval-auc:0.67251\n",
      "[4]\ttrain-auc:0.76511\teval-auc:0.67406\n",
      "[5]\ttrain-auc:0.76506\teval-auc:0.67312\n",
      "[6]\ttrain-auc:0.76623\teval-auc:0.67591\n",
      "[7]\ttrain-auc:0.77052\teval-auc:0.67794\n",
      "[8]\ttrain-auc:0.77089\teval-auc:0.67984\n",
      "[9]\ttrain-auc:0.77271\teval-auc:0.68157\n",
      "finish training & evaluation for P081\n",
      "start training & evaluation for P055\n",
      "[0]\ttrain-auc:0.75357\teval-auc:0.66825\n"
     ]
    },
    {
     "name": "stderr",
     "output_type": "stream",
     "text": [
      "/home/panyu/miniconda3/envs/sci-data/lib/python3.9/site-packages/xgboost/core.py:122: UserWarning: ntree_limit is deprecated, use `iteration_range` or model slicing instead.\n",
      "  warnings.warn(\n",
      "/home/panyu/miniconda3/envs/sci-data/lib/python3.9/site-packages/xgboost/core.py:122: UserWarning: ntree_limit is deprecated, use `iteration_range` or model slicing instead.\n",
      "  warnings.warn(\n"
     ]
    },
    {
     "name": "stdout",
     "output_type": "stream",
     "text": [
      "[1]\ttrain-auc:0.75506\teval-auc:0.67184\n",
      "[2]\ttrain-auc:0.76168\teval-auc:0.67233\n",
      "[3]\ttrain-auc:0.76147\teval-auc:0.67166\n",
      "[4]\ttrain-auc:0.76713\teval-auc:0.67603\n",
      "[5]\ttrain-auc:0.76818\teval-auc:0.67593\n",
      "[6]\ttrain-auc:0.76948\teval-auc:0.67604\n",
      "[7]\ttrain-auc:0.76999\teval-auc:0.67594\n",
      "[8]\ttrain-auc:0.77151\teval-auc:0.67812\n",
      "[9]\ttrain-auc:0.77196\teval-auc:0.67780\n",
      "finish training & evaluation for P055\n",
      "start training & evaluation for P050\n"
     ]
    },
    {
     "name": "stderr",
     "output_type": "stream",
     "text": [
      "/home/panyu/miniconda3/envs/sci-data/lib/python3.9/site-packages/xgboost/core.py:122: UserWarning: ntree_limit is deprecated, use `iteration_range` or model slicing instead.\n",
      "  warnings.warn(\n",
      "/home/panyu/miniconda3/envs/sci-data/lib/python3.9/site-packages/xgboost/core.py:122: UserWarning: ntree_limit is deprecated, use `iteration_range` or model slicing instead.\n",
      "  warnings.warn(\n"
     ]
    },
    {
     "name": "stdout",
     "output_type": "stream",
     "text": [
      "[0]\ttrain-auc:0.75566\teval-auc:0.67255\n",
      "[1]\ttrain-auc:0.76142\teval-auc:0.67706\n",
      "[2]\ttrain-auc:0.76168\teval-auc:0.67692\n",
      "[3]\ttrain-auc:0.76470\teval-auc:0.67773\n",
      "[4]\ttrain-auc:0.76732\teval-auc:0.68063\n",
      "[5]\ttrain-auc:0.76725\teval-auc:0.68212\n",
      "[6]\ttrain-auc:0.76941\teval-auc:0.68233\n",
      "[7]\ttrain-auc:0.76937\teval-auc:0.68307\n",
      "[8]\ttrain-auc:0.77076\teval-auc:0.68408\n",
      "[9]\ttrain-auc:0.77037\teval-auc:0.68448\n",
      "finish training & evaluation for P050\n",
      "start training & evaluation for P037\n",
      "[0]\ttrain-auc:0.75233\teval-auc:0.66534\n"
     ]
    },
    {
     "name": "stderr",
     "output_type": "stream",
     "text": [
      "/home/panyu/miniconda3/envs/sci-data/lib/python3.9/site-packages/xgboost/core.py:122: UserWarning: ntree_limit is deprecated, use `iteration_range` or model slicing instead.\n",
      "  warnings.warn(\n",
      "/home/panyu/miniconda3/envs/sci-data/lib/python3.9/site-packages/xgboost/core.py:122: UserWarning: ntree_limit is deprecated, use `iteration_range` or model slicing instead.\n",
      "  warnings.warn(\n"
     ]
    },
    {
     "name": "stdout",
     "output_type": "stream",
     "text": [
      "[1]\ttrain-auc:0.75390\teval-auc:0.66683\n",
      "[2]\ttrain-auc:0.76113\teval-auc:0.67357\n",
      "[3]\ttrain-auc:0.76031\teval-auc:0.67361\n",
      "[4]\ttrain-auc:0.76432\teval-auc:0.67538\n",
      "[5]\ttrain-auc:0.76741\teval-auc:0.67714\n",
      "[6]\ttrain-auc:0.76755\teval-auc:0.67745\n",
      "[7]\ttrain-auc:0.76807\teval-auc:0.67771\n",
      "[8]\ttrain-auc:0.76920\teval-auc:0.67782\n",
      "[9]\ttrain-auc:0.76938\teval-auc:0.67801\n",
      "finish training & evaluation for P037\n",
      "start training & evaluation for P042\n"
     ]
    },
    {
     "name": "stderr",
     "output_type": "stream",
     "text": [
      "/home/panyu/miniconda3/envs/sci-data/lib/python3.9/site-packages/xgboost/core.py:122: UserWarning: ntree_limit is deprecated, use `iteration_range` or model slicing instead.\n",
      "  warnings.warn(\n",
      "/home/panyu/miniconda3/envs/sci-data/lib/python3.9/site-packages/xgboost/core.py:122: UserWarning: ntree_limit is deprecated, use `iteration_range` or model slicing instead.\n",
      "  warnings.warn(\n"
     ]
    },
    {
     "name": "stdout",
     "output_type": "stream",
     "text": [
      "[0]\ttrain-auc:0.75665\teval-auc:0.68675\n",
      "[1]\ttrain-auc:0.75693\teval-auc:0.68795\n",
      "[2]\ttrain-auc:0.75989\teval-auc:0.68919\n",
      "[3]\ttrain-auc:0.76390\teval-auc:0.69233\n",
      "[4]\ttrain-auc:0.76362\teval-auc:0.69253\n",
      "[5]\ttrain-auc:0.76458\teval-auc:0.69338\n",
      "[6]\ttrain-auc:0.76738\teval-auc:0.69442\n",
      "[7]\ttrain-auc:0.76925\teval-auc:0.69559\n",
      "[8]\ttrain-auc:0.76866\teval-auc:0.69528\n",
      "[9]\ttrain-auc:0.76889\teval-auc:0.69539\n",
      "finish training & evaluation for P042\n",
      "start training & evaluation for P044\n",
      "[0]\ttrain-auc:0.75281\teval-auc:0.68002\n"
     ]
    },
    {
     "name": "stderr",
     "output_type": "stream",
     "text": [
      "/home/panyu/miniconda3/envs/sci-data/lib/python3.9/site-packages/xgboost/core.py:122: UserWarning: ntree_limit is deprecated, use `iteration_range` or model slicing instead.\n",
      "  warnings.warn(\n",
      "/home/panyu/miniconda3/envs/sci-data/lib/python3.9/site-packages/xgboost/core.py:122: UserWarning: ntree_limit is deprecated, use `iteration_range` or model slicing instead.\n",
      "  warnings.warn(\n"
     ]
    },
    {
     "name": "stdout",
     "output_type": "stream",
     "text": [
      "[1]\ttrain-auc:0.75765\teval-auc:0.68616\n",
      "[2]\ttrain-auc:0.76454\teval-auc:0.68713\n",
      "[3]\ttrain-auc:0.76560\teval-auc:0.68727\n",
      "[4]\ttrain-auc:0.76570\teval-auc:0.68850\n",
      "[5]\ttrain-auc:0.76759\teval-auc:0.69014\n",
      "[6]\ttrain-auc:0.76808\teval-auc:0.69061\n",
      "[7]\ttrain-auc:0.77005\teval-auc:0.69119\n",
      "[8]\ttrain-auc:0.77447\teval-auc:0.69282\n",
      "[9]\ttrain-auc:0.77446\teval-auc:0.69304\n",
      "finish training & evaluation for P044\n",
      "start training & evaluation for P071\n"
     ]
    },
    {
     "name": "stderr",
     "output_type": "stream",
     "text": [
      "/home/panyu/miniconda3/envs/sci-data/lib/python3.9/site-packages/xgboost/core.py:122: UserWarning: ntree_limit is deprecated, use `iteration_range` or model slicing instead.\n",
      "  warnings.warn(\n",
      "/home/panyu/miniconda3/envs/sci-data/lib/python3.9/site-packages/xgboost/core.py:122: UserWarning: ntree_limit is deprecated, use `iteration_range` or model slicing instead.\n",
      "  warnings.warn(\n"
     ]
    },
    {
     "name": "stdout",
     "output_type": "stream",
     "text": [
      "[0]\ttrain-auc:0.75561\teval-auc:0.67681\n",
      "[1]\ttrain-auc:0.75685\teval-auc:0.67783\n",
      "[2]\ttrain-auc:0.76213\teval-auc:0.68258\n",
      "[3]\ttrain-auc:0.76384\teval-auc:0.68473\n",
      "[4]\ttrain-auc:0.76415\teval-auc:0.68574\n",
      "[5]\ttrain-auc:0.76434\teval-auc:0.68738\n",
      "[6]\ttrain-auc:0.76662\teval-auc:0.68810\n",
      "[7]\ttrain-auc:0.76633\teval-auc:0.68926\n",
      "[8]\ttrain-auc:0.76762\teval-auc:0.69116\n",
      "[9]\ttrain-auc:0.77030\teval-auc:0.69182\n",
      "finish training & evaluation for P071\n",
      "start training & evaluation for P108\n"
     ]
    },
    {
     "name": "stderr",
     "output_type": "stream",
     "text": [
      "/home/panyu/miniconda3/envs/sci-data/lib/python3.9/site-packages/xgboost/core.py:122: UserWarning: ntree_limit is deprecated, use `iteration_range` or model slicing instead.\n",
      "  warnings.warn(\n",
      "/home/panyu/miniconda3/envs/sci-data/lib/python3.9/site-packages/xgboost/core.py:122: UserWarning: ntree_limit is deprecated, use `iteration_range` or model slicing instead.\n",
      "  warnings.warn(\n"
     ]
    },
    {
     "name": "stdout",
     "output_type": "stream",
     "text": [
      "[0]\ttrain-auc:0.75088\teval-auc:0.67451\n",
      "[1]\ttrain-auc:0.75142\teval-auc:0.67529\n",
      "[2]\ttrain-auc:0.75912\teval-auc:0.67992\n",
      "[3]\ttrain-auc:0.76401\teval-auc:0.68154\n",
      "[4]\ttrain-auc:0.76442\teval-auc:0.68155\n",
      "[5]\ttrain-auc:0.76515\teval-auc:0.68180\n",
      "[6]\ttrain-auc:0.76517\teval-auc:0.68203\n",
      "[7]\ttrain-auc:0.76689\teval-auc:0.68201\n",
      "[8]\ttrain-auc:0.76686\teval-auc:0.68309\n",
      "[9]\ttrain-auc:0.76860\teval-auc:0.68278\n",
      "finish training & evaluation for P108\n",
      "start training & evaluation for P024\n",
      "[0]\ttrain-auc:0.75453\teval-auc:0.66250\n"
     ]
    },
    {
     "name": "stderr",
     "output_type": "stream",
     "text": [
      "/home/panyu/miniconda3/envs/sci-data/lib/python3.9/site-packages/xgboost/core.py:122: UserWarning: ntree_limit is deprecated, use `iteration_range` or model slicing instead.\n",
      "  warnings.warn(\n",
      "/home/panyu/miniconda3/envs/sci-data/lib/python3.9/site-packages/xgboost/core.py:122: UserWarning: ntree_limit is deprecated, use `iteration_range` or model slicing instead.\n",
      "  warnings.warn(\n"
     ]
    },
    {
     "name": "stdout",
     "output_type": "stream",
     "text": [
      "[1]\ttrain-auc:0.76276\teval-auc:0.66798\n",
      "[2]\ttrain-auc:0.76308\teval-auc:0.66721\n",
      "[3]\ttrain-auc:0.76482\teval-auc:0.66965\n",
      "[4]\ttrain-auc:0.76987\teval-auc:0.67285\n",
      "[5]\ttrain-auc:0.76960\teval-auc:0.67367\n",
      "[6]\ttrain-auc:0.77097\teval-auc:0.67488\n",
      "[7]\ttrain-auc:0.77149\teval-auc:0.67489\n",
      "[8]\ttrain-auc:0.77242\teval-auc:0.67536\n",
      "[9]\ttrain-auc:0.77227\teval-auc:0.67527\n",
      "finish training & evaluation for P024\n",
      "start training & evaluation for P015\n",
      "[0]\ttrain-auc:0.75601\teval-auc:0.67884\n"
     ]
    },
    {
     "name": "stderr",
     "output_type": "stream",
     "text": [
      "/home/panyu/miniconda3/envs/sci-data/lib/python3.9/site-packages/xgboost/core.py:122: UserWarning: ntree_limit is deprecated, use `iteration_range` or model slicing instead.\n",
      "  warnings.warn(\n",
      "/home/panyu/miniconda3/envs/sci-data/lib/python3.9/site-packages/xgboost/core.py:122: UserWarning: ntree_limit is deprecated, use `iteration_range` or model slicing instead.\n",
      "  warnings.warn(\n"
     ]
    },
    {
     "name": "stdout",
     "output_type": "stream",
     "text": [
      "[1]\ttrain-auc:0.75678\teval-auc:0.67990\n",
      "[2]\ttrain-auc:0.76152\teval-auc:0.68331\n",
      "[3]\ttrain-auc:0.76091\teval-auc:0.68349\n",
      "[4]\ttrain-auc:0.76229\teval-auc:0.68337\n",
      "[5]\ttrain-auc:0.76199\teval-auc:0.68400\n",
      "[6]\ttrain-auc:0.76273\teval-auc:0.68448\n",
      "[7]\ttrain-auc:0.76335\teval-auc:0.68330\n",
      "[8]\ttrain-auc:0.76839\teval-auc:0.68746\n",
      "[9]\ttrain-auc:0.76984\teval-auc:0.68875\n",
      "finish training & evaluation for P015\n",
      "start training & evaluation for P133\n",
      "[0]\ttrain-auc:0.74952\teval-auc:0.68044\n"
     ]
    },
    {
     "name": "stderr",
     "output_type": "stream",
     "text": [
      "/home/panyu/miniconda3/envs/sci-data/lib/python3.9/site-packages/xgboost/core.py:122: UserWarning: ntree_limit is deprecated, use `iteration_range` or model slicing instead.\n",
      "  warnings.warn(\n",
      "/home/panyu/miniconda3/envs/sci-data/lib/python3.9/site-packages/xgboost/core.py:122: UserWarning: ntree_limit is deprecated, use `iteration_range` or model slicing instead.\n",
      "  warnings.warn(\n"
     ]
    },
    {
     "name": "stdout",
     "output_type": "stream",
     "text": [
      "[1]\ttrain-auc:0.75520\teval-auc:0.68438\n",
      "[2]\ttrain-auc:0.75637\teval-auc:0.68483\n",
      "[3]\ttrain-auc:0.75680\teval-auc:0.68512\n",
      "[4]\ttrain-auc:0.76390\teval-auc:0.68751\n",
      "[5]\ttrain-auc:0.76336\teval-auc:0.68781\n",
      "[6]\ttrain-auc:0.76497\teval-auc:0.69016\n",
      "[7]\ttrain-auc:0.76537\teval-auc:0.69039\n",
      "[8]\ttrain-auc:0.76656\teval-auc:0.69111\n",
      "[9]\ttrain-auc:0.76819\teval-auc:0.69219\n",
      "finish training & evaluation for P133\n",
      "start training & evaluation for P058\n",
      "[0]\ttrain-auc:0.75567\teval-auc:0.66909\n"
     ]
    },
    {
     "name": "stderr",
     "output_type": "stream",
     "text": [
      "/home/panyu/miniconda3/envs/sci-data/lib/python3.9/site-packages/xgboost/core.py:122: UserWarning: ntree_limit is deprecated, use `iteration_range` or model slicing instead.\n",
      "  warnings.warn(\n",
      "/home/panyu/miniconda3/envs/sci-data/lib/python3.9/site-packages/xgboost/core.py:122: UserWarning: ntree_limit is deprecated, use `iteration_range` or model slicing instead.\n",
      "  warnings.warn(\n"
     ]
    },
    {
     "name": "stdout",
     "output_type": "stream",
     "text": [
      "[1]\ttrain-auc:0.75916\teval-auc:0.67871\n",
      "[2]\ttrain-auc:0.75920\teval-auc:0.67683\n",
      "[3]\ttrain-auc:0.75916\teval-auc:0.67852\n",
      "[4]\ttrain-auc:0.76066\teval-auc:0.67861\n",
      "[5]\ttrain-auc:0.76533\teval-auc:0.68130\n",
      "[6]\ttrain-auc:0.76710\teval-auc:0.68232\n",
      "[7]\ttrain-auc:0.76851\teval-auc:0.68268\n",
      "[8]\ttrain-auc:0.76815\teval-auc:0.68234\n",
      "[9]\ttrain-auc:0.76858\teval-auc:0.68299\n",
      "finish training & evaluation for P058\n",
      "start training & evaluation for P096\n"
     ]
    },
    {
     "name": "stderr",
     "output_type": "stream",
     "text": [
      "/home/panyu/miniconda3/envs/sci-data/lib/python3.9/site-packages/xgboost/core.py:122: UserWarning: ntree_limit is deprecated, use `iteration_range` or model slicing instead.\n",
      "  warnings.warn(\n",
      "/home/panyu/miniconda3/envs/sci-data/lib/python3.9/site-packages/xgboost/core.py:122: UserWarning: ntree_limit is deprecated, use `iteration_range` or model slicing instead.\n",
      "  warnings.warn(\n"
     ]
    },
    {
     "name": "stdout",
     "output_type": "stream",
     "text": [
      "[0]\ttrain-auc:0.75636\teval-auc:0.66937\n",
      "[1]\ttrain-auc:0.75976\teval-auc:0.67469\n",
      "[2]\ttrain-auc:0.75929\teval-auc:0.67328\n",
      "[3]\ttrain-auc:0.76069\teval-auc:0.67563\n",
      "[4]\ttrain-auc:0.76098\teval-auc:0.67572\n",
      "[5]\ttrain-auc:0.76161\teval-auc:0.67614\n",
      "[6]\ttrain-auc:0.76361\teval-auc:0.67528\n",
      "[7]\ttrain-auc:0.76591\teval-auc:0.67580\n",
      "[8]\ttrain-auc:0.76991\teval-auc:0.67913\n",
      "[9]\ttrain-auc:0.77227\teval-auc:0.67880\n",
      "finish training & evaluation for P096\n",
      "start training & evaluation for P078\n",
      "[0]\ttrain-auc:0.75296\teval-auc:0.67172\n"
     ]
    },
    {
     "name": "stderr",
     "output_type": "stream",
     "text": [
      "/home/panyu/miniconda3/envs/sci-data/lib/python3.9/site-packages/xgboost/core.py:122: UserWarning: ntree_limit is deprecated, use `iteration_range` or model slicing instead.\n",
      "  warnings.warn(\n",
      "/home/panyu/miniconda3/envs/sci-data/lib/python3.9/site-packages/xgboost/core.py:122: UserWarning: ntree_limit is deprecated, use `iteration_range` or model slicing instead.\n",
      "  warnings.warn(\n"
     ]
    },
    {
     "name": "stdout",
     "output_type": "stream",
     "text": [
      "[1]\ttrain-auc:0.75587\teval-auc:0.67618\n",
      "[2]\ttrain-auc:0.75695\teval-auc:0.67691\n",
      "[3]\ttrain-auc:0.75686\teval-auc:0.67724\n",
      "[4]\ttrain-auc:0.75698\teval-auc:0.67704\n",
      "[5]\ttrain-auc:0.75741\teval-auc:0.67846\n",
      "[6]\ttrain-auc:0.76419\teval-auc:0.68152\n",
      "[7]\ttrain-auc:0.76398\teval-auc:0.68180\n",
      "[8]\ttrain-auc:0.76433\teval-auc:0.68196\n",
      "[9]\ttrain-auc:0.76733\teval-auc:0.68409\n",
      "finish training & evaluation for P078\n",
      "start training & evaluation for P118\n",
      "[0]\ttrain-auc:0.75023\teval-auc:0.67370\n"
     ]
    },
    {
     "name": "stderr",
     "output_type": "stream",
     "text": [
      "/home/panyu/miniconda3/envs/sci-data/lib/python3.9/site-packages/xgboost/core.py:122: UserWarning: ntree_limit is deprecated, use `iteration_range` or model slicing instead.\n",
      "  warnings.warn(\n",
      "/home/panyu/miniconda3/envs/sci-data/lib/python3.9/site-packages/xgboost/core.py:122: UserWarning: ntree_limit is deprecated, use `iteration_range` or model slicing instead.\n",
      "  warnings.warn(\n"
     ]
    },
    {
     "name": "stdout",
     "output_type": "stream",
     "text": [
      "[1]\ttrain-auc:0.75073\teval-auc:0.67435\n",
      "[2]\ttrain-auc:0.76185\teval-auc:0.67825\n",
      "[3]\ttrain-auc:0.76293\teval-auc:0.67786\n",
      "[4]\ttrain-auc:0.76653\teval-auc:0.67926\n",
      "[5]\ttrain-auc:0.76777\teval-auc:0.67931\n",
      "[6]\ttrain-auc:0.77160\teval-auc:0.68277\n",
      "[7]\ttrain-auc:0.77196\teval-auc:0.68411\n",
      "[8]\ttrain-auc:0.77309\teval-auc:0.68410\n",
      "[9]\ttrain-auc:0.77274\teval-auc:0.68415\n",
      "finish training & evaluation for P118\n",
      "start training & evaluation for P066\n",
      "[0]\ttrain-auc:0.75079\teval-auc:0.67371\n"
     ]
    },
    {
     "name": "stderr",
     "output_type": "stream",
     "text": [
      "/home/panyu/miniconda3/envs/sci-data/lib/python3.9/site-packages/xgboost/core.py:122: UserWarning: ntree_limit is deprecated, use `iteration_range` or model slicing instead.\n",
      "  warnings.warn(\n",
      "/home/panyu/miniconda3/envs/sci-data/lib/python3.9/site-packages/xgboost/core.py:122: UserWarning: ntree_limit is deprecated, use `iteration_range` or model slicing instead.\n",
      "  warnings.warn(\n"
     ]
    },
    {
     "name": "stdout",
     "output_type": "stream",
     "text": [
      "[1]\ttrain-auc:0.75380\teval-auc:0.67636\n",
      "[2]\ttrain-auc:0.75853\teval-auc:0.67835\n",
      "[3]\ttrain-auc:0.75830\teval-auc:0.67873\n",
      "[4]\ttrain-auc:0.76013\teval-auc:0.67860\n",
      "[5]\ttrain-auc:0.76105\teval-auc:0.67914\n",
      "[6]\ttrain-auc:0.76146\teval-auc:0.67951\n",
      "[7]\ttrain-auc:0.76208\teval-auc:0.67974\n",
      "[8]\ttrain-auc:0.76243\teval-auc:0.68020\n",
      "[9]\ttrain-auc:0.76679\teval-auc:0.68091\n",
      "finish training & evaluation for P066\n",
      "start training & evaluation for P034\n"
     ]
    },
    {
     "name": "stderr",
     "output_type": "stream",
     "text": [
      "/home/panyu/miniconda3/envs/sci-data/lib/python3.9/site-packages/xgboost/core.py:122: UserWarning: ntree_limit is deprecated, use `iteration_range` or model slicing instead.\n",
      "  warnings.warn(\n",
      "/home/panyu/miniconda3/envs/sci-data/lib/python3.9/site-packages/xgboost/core.py:122: UserWarning: ntree_limit is deprecated, use `iteration_range` or model slicing instead.\n",
      "  warnings.warn(\n"
     ]
    },
    {
     "name": "stdout",
     "output_type": "stream",
     "text": [
      "[0]\ttrain-auc:0.75558\teval-auc:0.65770\n",
      "[1]\ttrain-auc:0.75720\teval-auc:0.65775\n",
      "[2]\ttrain-auc:0.76070\teval-auc:0.65731\n",
      "[3]\ttrain-auc:0.76151\teval-auc:0.65627\n",
      "[4]\ttrain-auc:0.76264\teval-auc:0.65859\n",
      "[5]\ttrain-auc:0.76295\teval-auc:0.65893\n",
      "[6]\ttrain-auc:0.76349\teval-auc:0.65944\n",
      "[7]\ttrain-auc:0.76471\teval-auc:0.66008\n",
      "[8]\ttrain-auc:0.76511\teval-auc:0.66063\n",
      "[9]\ttrain-auc:0.76561\teval-auc:0.66037\n",
      "finish training & evaluation for P034\n",
      "start training & evaluation for P087\n",
      "[0]\ttrain-auc:0.75435\teval-auc:0.68281\n",
      "[1]\ttrain-auc:0.75517\teval-auc:0.68340\n"
     ]
    },
    {
     "name": "stderr",
     "output_type": "stream",
     "text": [
      "/home/panyu/miniconda3/envs/sci-data/lib/python3.9/site-packages/xgboost/core.py:122: UserWarning: ntree_limit is deprecated, use `iteration_range` or model slicing instead.\n",
      "  warnings.warn(\n",
      "/home/panyu/miniconda3/envs/sci-data/lib/python3.9/site-packages/xgboost/core.py:122: UserWarning: ntree_limit is deprecated, use `iteration_range` or model slicing instead.\n",
      "  warnings.warn(\n"
     ]
    },
    {
     "name": "stdout",
     "output_type": "stream",
     "text": [
      "[2]\ttrain-auc:0.75928\teval-auc:0.68501\n",
      "[3]\ttrain-auc:0.76043\teval-auc:0.68702\n",
      "[4]\ttrain-auc:0.76402\teval-auc:0.68940\n",
      "[5]\ttrain-auc:0.76568\teval-auc:0.69164\n",
      "[6]\ttrain-auc:0.76726\teval-auc:0.69312\n",
      "[7]\ttrain-auc:0.76793\teval-auc:0.69418\n",
      "[8]\ttrain-auc:0.76797\teval-auc:0.69471\n",
      "[9]\ttrain-auc:0.76844\teval-auc:0.69533\n",
      "finish training & evaluation for P087\n",
      "start training & evaluation for P021\n",
      "[0]\ttrain-auc:0.75808\teval-auc:0.68365\n",
      "[1]\ttrain-auc:0.75787\teval-auc:0.68368\n"
     ]
    },
    {
     "name": "stderr",
     "output_type": "stream",
     "text": [
      "/home/panyu/miniconda3/envs/sci-data/lib/python3.9/site-packages/xgboost/core.py:122: UserWarning: ntree_limit is deprecated, use `iteration_range` or model slicing instead.\n",
      "  warnings.warn(\n",
      "/home/panyu/miniconda3/envs/sci-data/lib/python3.9/site-packages/xgboost/core.py:122: UserWarning: ntree_limit is deprecated, use `iteration_range` or model slicing instead.\n",
      "  warnings.warn(\n"
     ]
    },
    {
     "name": "stdout",
     "output_type": "stream",
     "text": [
      "[2]\ttrain-auc:0.76020\teval-auc:0.68337\n",
      "[3]\ttrain-auc:0.76229\teval-auc:0.68531\n",
      "[4]\ttrain-auc:0.76829\teval-auc:0.68937\n",
      "[5]\ttrain-auc:0.76813\teval-auc:0.68934\n",
      "[6]\ttrain-auc:0.77333\teval-auc:0.69187\n",
      "[7]\ttrain-auc:0.77508\teval-auc:0.69194\n",
      "[8]\ttrain-auc:0.77766\teval-auc:0.69385\n",
      "[9]\ttrain-auc:0.77836\teval-auc:0.69330\n",
      "finish training & evaluation for P021\n",
      "start training & evaluation for P124\n",
      "[0]\ttrain-auc:0.75226\teval-auc:0.67289\n"
     ]
    },
    {
     "name": "stderr",
     "output_type": "stream",
     "text": [
      "/home/panyu/miniconda3/envs/sci-data/lib/python3.9/site-packages/xgboost/core.py:122: UserWarning: ntree_limit is deprecated, use `iteration_range` or model slicing instead.\n",
      "  warnings.warn(\n",
      "/home/panyu/miniconda3/envs/sci-data/lib/python3.9/site-packages/xgboost/core.py:122: UserWarning: ntree_limit is deprecated, use `iteration_range` or model slicing instead.\n",
      "  warnings.warn(\n"
     ]
    },
    {
     "name": "stdout",
     "output_type": "stream",
     "text": [
      "[1]\ttrain-auc:0.75494\teval-auc:0.67457\n",
      "[2]\ttrain-auc:0.75744\teval-auc:0.67940\n",
      "[3]\ttrain-auc:0.76010\teval-auc:0.68102\n",
      "[4]\ttrain-auc:0.76042\teval-auc:0.68142\n",
      "[5]\ttrain-auc:0.76164\teval-auc:0.68115\n",
      "[6]\ttrain-auc:0.76873\teval-auc:0.68438\n",
      "[7]\ttrain-auc:0.77215\teval-auc:0.68653\n",
      "[8]\ttrain-auc:0.77406\teval-auc:0.68751\n",
      "[9]\ttrain-auc:0.77522\teval-auc:0.68942\n",
      "finish training & evaluation for P124\n",
      "start training & evaluation for P018\n"
     ]
    },
    {
     "name": "stderr",
     "output_type": "stream",
     "text": [
      "/home/panyu/miniconda3/envs/sci-data/lib/python3.9/site-packages/xgboost/core.py:122: UserWarning: ntree_limit is deprecated, use `iteration_range` or model slicing instead.\n",
      "  warnings.warn(\n",
      "/home/panyu/miniconda3/envs/sci-data/lib/python3.9/site-packages/xgboost/core.py:122: UserWarning: ntree_limit is deprecated, use `iteration_range` or model slicing instead.\n",
      "  warnings.warn(\n"
     ]
    },
    {
     "name": "stdout",
     "output_type": "stream",
     "text": [
      "[0]\ttrain-auc:0.75514\teval-auc:0.66387\n",
      "[1]\ttrain-auc:0.75698\teval-auc:0.66545\n",
      "[2]\ttrain-auc:0.76074\teval-auc:0.66870\n",
      "[3]\ttrain-auc:0.76075\teval-auc:0.66884\n",
      "[4]\ttrain-auc:0.76222\teval-auc:0.67025\n",
      "[5]\ttrain-auc:0.76607\teval-auc:0.67398\n",
      "[6]\ttrain-auc:0.76677\teval-auc:0.67503\n",
      "[7]\ttrain-auc:0.76873\teval-auc:0.67708\n",
      "[8]\ttrain-auc:0.77064\teval-auc:0.67650\n",
      "[9]\ttrain-auc:0.77233\teval-auc:0.67709\n",
      "finish training & evaluation for P018\n",
      "start training & evaluation for P025\n"
     ]
    },
    {
     "name": "stderr",
     "output_type": "stream",
     "text": [
      "/home/panyu/miniconda3/envs/sci-data/lib/python3.9/site-packages/xgboost/core.py:122: UserWarning: ntree_limit is deprecated, use `iteration_range` or model slicing instead.\n",
      "  warnings.warn(\n",
      "/home/panyu/miniconda3/envs/sci-data/lib/python3.9/site-packages/xgboost/core.py:122: UserWarning: ntree_limit is deprecated, use `iteration_range` or model slicing instead.\n",
      "  warnings.warn(\n"
     ]
    },
    {
     "name": "stdout",
     "output_type": "stream",
     "text": [
      "[0]\ttrain-auc:0.75475\teval-auc:0.67065\n",
      "[1]\ttrain-auc:0.75587\teval-auc:0.67190\n",
      "[2]\ttrain-auc:0.75758\teval-auc:0.67433\n",
      "[3]\ttrain-auc:0.75729\teval-auc:0.67360\n",
      "[4]\ttrain-auc:0.76113\teval-auc:0.67505\n",
      "[5]\ttrain-auc:0.76139\teval-auc:0.67548\n",
      "[6]\ttrain-auc:0.76126\teval-auc:0.67572\n",
      "[7]\ttrain-auc:0.76409\teval-auc:0.67665\n",
      "[8]\ttrain-auc:0.76705\teval-auc:0.67830\n",
      "[9]\ttrain-auc:0.76752\teval-auc:0.67817\n",
      "finish training & evaluation for P025\n",
      "start training & evaluation for P126\n",
      "[0]\ttrain-auc:0.74981\teval-auc:0.67888\n"
     ]
    },
    {
     "name": "stderr",
     "output_type": "stream",
     "text": [
      "/home/panyu/miniconda3/envs/sci-data/lib/python3.9/site-packages/xgboost/core.py:122: UserWarning: ntree_limit is deprecated, use `iteration_range` or model slicing instead.\n",
      "  warnings.warn(\n",
      "/home/panyu/miniconda3/envs/sci-data/lib/python3.9/site-packages/xgboost/core.py:122: UserWarning: ntree_limit is deprecated, use `iteration_range` or model slicing instead.\n",
      "  warnings.warn(\n"
     ]
    },
    {
     "name": "stdout",
     "output_type": "stream",
     "text": [
      "[1]\ttrain-auc:0.75740\teval-auc:0.68155\n",
      "[2]\ttrain-auc:0.75682\teval-auc:0.68155\n",
      "[3]\ttrain-auc:0.75626\teval-auc:0.68161\n",
      "[4]\ttrain-auc:0.75858\teval-auc:0.68380\n",
      "[5]\ttrain-auc:0.75798\teval-auc:0.68369\n",
      "[6]\ttrain-auc:0.75932\teval-auc:0.68574\n",
      "[7]\ttrain-auc:0.76242\teval-auc:0.68764\n",
      "[8]\ttrain-auc:0.76358\teval-auc:0.68868\n",
      "[9]\ttrain-auc:0.76866\teval-auc:0.68860\n",
      "finish training & evaluation for P126\n",
      "start training & evaluation for P003\n",
      "[0]\ttrain-auc:0.75470\teval-auc:0.68407\n"
     ]
    },
    {
     "name": "stderr",
     "output_type": "stream",
     "text": [
      "/home/panyu/miniconda3/envs/sci-data/lib/python3.9/site-packages/xgboost/core.py:122: UserWarning: ntree_limit is deprecated, use `iteration_range` or model slicing instead.\n",
      "  warnings.warn(\n",
      "/home/panyu/miniconda3/envs/sci-data/lib/python3.9/site-packages/xgboost/core.py:122: UserWarning: ntree_limit is deprecated, use `iteration_range` or model slicing instead.\n",
      "  warnings.warn(\n"
     ]
    },
    {
     "name": "stdout",
     "output_type": "stream",
     "text": [
      "[1]\ttrain-auc:0.75875\teval-auc:0.68704\n",
      "[2]\ttrain-auc:0.75922\teval-auc:0.68785\n",
      "[3]\ttrain-auc:0.76180\teval-auc:0.68992\n",
      "[4]\ttrain-auc:0.76156\teval-auc:0.68991\n",
      "[5]\ttrain-auc:0.76246\teval-auc:0.69091\n",
      "[6]\ttrain-auc:0.76451\teval-auc:0.69203\n",
      "[7]\ttrain-auc:0.76387\teval-auc:0.69165\n",
      "[8]\ttrain-auc:0.76404\teval-auc:0.69188\n",
      "[9]\ttrain-auc:0.76436\teval-auc:0.69212\n",
      "finish training & evaluation for P003\n",
      "start training & evaluation for P041\n",
      "[0]\ttrain-auc:0.75148\teval-auc:0.66564\n"
     ]
    },
    {
     "name": "stderr",
     "output_type": "stream",
     "text": [
      "/home/panyu/miniconda3/envs/sci-data/lib/python3.9/site-packages/xgboost/core.py:122: UserWarning: ntree_limit is deprecated, use `iteration_range` or model slicing instead.\n",
      "  warnings.warn(\n",
      "/home/panyu/miniconda3/envs/sci-data/lib/python3.9/site-packages/xgboost/core.py:122: UserWarning: ntree_limit is deprecated, use `iteration_range` or model slicing instead.\n",
      "  warnings.warn(\n"
     ]
    },
    {
     "name": "stdout",
     "output_type": "stream",
     "text": [
      "[1]\ttrain-auc:0.75721\teval-auc:0.67137\n",
      "[2]\ttrain-auc:0.75647\teval-auc:0.67069\n",
      "[3]\ttrain-auc:0.75836\teval-auc:0.67227\n",
      "[4]\ttrain-auc:0.75873\teval-auc:0.67256\n",
      "[5]\ttrain-auc:0.76166\teval-auc:0.67448\n",
      "[6]\ttrain-auc:0.76536\teval-auc:0.67739\n",
      "[7]\ttrain-auc:0.76569\teval-auc:0.67855\n",
      "[8]\ttrain-auc:0.76791\teval-auc:0.67998\n",
      "[9]\ttrain-auc:0.76808\teval-auc:0.68003\n",
      "finish training & evaluation for P041\n",
      "start training & evaluation for P016\n",
      "[0]\ttrain-auc:0.75390\teval-auc:0.66025\n"
     ]
    },
    {
     "name": "stderr",
     "output_type": "stream",
     "text": [
      "/home/panyu/miniconda3/envs/sci-data/lib/python3.9/site-packages/xgboost/core.py:122: UserWarning: ntree_limit is deprecated, use `iteration_range` or model slicing instead.\n",
      "  warnings.warn(\n",
      "/home/panyu/miniconda3/envs/sci-data/lib/python3.9/site-packages/xgboost/core.py:122: UserWarning: ntree_limit is deprecated, use `iteration_range` or model slicing instead.\n",
      "  warnings.warn(\n"
     ]
    },
    {
     "name": "stdout",
     "output_type": "stream",
     "text": [
      "[1]\ttrain-auc:0.75842\teval-auc:0.66567\n",
      "[2]\ttrain-auc:0.76045\teval-auc:0.66548\n",
      "[3]\ttrain-auc:0.76770\teval-auc:0.66820\n",
      "[4]\ttrain-auc:0.76997\teval-auc:0.66842\n",
      "[5]\ttrain-auc:0.77072\teval-auc:0.66854\n",
      "[6]\ttrain-auc:0.77235\teval-auc:0.66871\n",
      "[7]\ttrain-auc:0.77198\teval-auc:0.66913\n",
      "[8]\ttrain-auc:0.77466\teval-auc:0.67015\n",
      "[9]\ttrain-auc:0.77543\teval-auc:0.67035\n",
      "finish training & evaluation for P016\n",
      "start training & evaluation for P022\n"
     ]
    },
    {
     "name": "stderr",
     "output_type": "stream",
     "text": [
      "/home/panyu/miniconda3/envs/sci-data/lib/python3.9/site-packages/xgboost/core.py:122: UserWarning: ntree_limit is deprecated, use `iteration_range` or model slicing instead.\n",
      "  warnings.warn(\n",
      "/home/panyu/miniconda3/envs/sci-data/lib/python3.9/site-packages/xgboost/core.py:122: UserWarning: ntree_limit is deprecated, use `iteration_range` or model slicing instead.\n",
      "  warnings.warn(\n"
     ]
    },
    {
     "name": "stdout",
     "output_type": "stream",
     "text": [
      "[0]\ttrain-auc:0.75888\teval-auc:0.65854\n",
      "[1]\ttrain-auc:0.75914\teval-auc:0.65838\n",
      "[2]\ttrain-auc:0.75961\teval-auc:0.65870\n",
      "[3]\ttrain-auc:0.76102\teval-auc:0.66018\n",
      "[4]\ttrain-auc:0.76194\teval-auc:0.66074\n",
      "[5]\ttrain-auc:0.76538\teval-auc:0.66220\n",
      "[6]\ttrain-auc:0.76699\teval-auc:0.66253\n",
      "[7]\ttrain-auc:0.76590\teval-auc:0.66273\n",
      "[8]\ttrain-auc:0.77069\teval-auc:0.66485\n",
      "[9]\ttrain-auc:0.77359\teval-auc:0.66601\n",
      "finish training & evaluation for P022\n",
      "start training & evaluation for P059\n",
      "[0]\ttrain-auc:0.75555\teval-auc:0.68466\n"
     ]
    },
    {
     "name": "stderr",
     "output_type": "stream",
     "text": [
      "/home/panyu/miniconda3/envs/sci-data/lib/python3.9/site-packages/xgboost/core.py:122: UserWarning: ntree_limit is deprecated, use `iteration_range` or model slicing instead.\n",
      "  warnings.warn(\n",
      "/home/panyu/miniconda3/envs/sci-data/lib/python3.9/site-packages/xgboost/core.py:122: UserWarning: ntree_limit is deprecated, use `iteration_range` or model slicing instead.\n",
      "  warnings.warn(\n"
     ]
    },
    {
     "name": "stdout",
     "output_type": "stream",
     "text": [
      "[1]\ttrain-auc:0.75696\teval-auc:0.68453\n",
      "[2]\ttrain-auc:0.75732\teval-auc:0.68530\n",
      "[3]\ttrain-auc:0.75850\teval-auc:0.68534\n",
      "[4]\ttrain-auc:0.75900\teval-auc:0.68475\n",
      "[5]\ttrain-auc:0.75884\teval-auc:0.68516\n",
      "[6]\ttrain-auc:0.76209\teval-auc:0.68699\n",
      "[7]\ttrain-auc:0.76246\teval-auc:0.68726\n",
      "[8]\ttrain-auc:0.76566\teval-auc:0.68829\n",
      "[9]\ttrain-auc:0.76634\teval-auc:0.68901\n",
      "finish training & evaluation for P059\n",
      "start training & evaluation for P116\n",
      "[0]\ttrain-auc:0.75897\teval-auc:0.66777\n"
     ]
    },
    {
     "name": "stderr",
     "output_type": "stream",
     "text": [
      "/home/panyu/miniconda3/envs/sci-data/lib/python3.9/site-packages/xgboost/core.py:122: UserWarning: ntree_limit is deprecated, use `iteration_range` or model slicing instead.\n",
      "  warnings.warn(\n",
      "/home/panyu/miniconda3/envs/sci-data/lib/python3.9/site-packages/xgboost/core.py:122: UserWarning: ntree_limit is deprecated, use `iteration_range` or model slicing instead.\n",
      "  warnings.warn(\n"
     ]
    },
    {
     "name": "stdout",
     "output_type": "stream",
     "text": [
      "[1]\ttrain-auc:0.76022\teval-auc:0.66796\n",
      "[2]\ttrain-auc:0.76315\teval-auc:0.67228\n",
      "[3]\ttrain-auc:0.76342\teval-auc:0.67172\n",
      "[4]\ttrain-auc:0.76647\teval-auc:0.67519\n",
      "[5]\ttrain-auc:0.76593\teval-auc:0.67499\n",
      "[6]\ttrain-auc:0.77074\teval-auc:0.67818\n",
      "[7]\ttrain-auc:0.77296\teval-auc:0.68003\n",
      "[8]\ttrain-auc:0.77400\teval-auc:0.68075\n",
      "[9]\ttrain-auc:0.77465\teval-auc:0.68203\n",
      "finish training & evaluation for P116\n",
      "start training & evaluation for P094\n",
      "[0]\ttrain-auc:0.75157\teval-auc:0.66632\n"
     ]
    },
    {
     "name": "stderr",
     "output_type": "stream",
     "text": [
      "/home/panyu/miniconda3/envs/sci-data/lib/python3.9/site-packages/xgboost/core.py:122: UserWarning: ntree_limit is deprecated, use `iteration_range` or model slicing instead.\n",
      "  warnings.warn(\n",
      "/home/panyu/miniconda3/envs/sci-data/lib/python3.9/site-packages/xgboost/core.py:122: UserWarning: ntree_limit is deprecated, use `iteration_range` or model slicing instead.\n",
      "  warnings.warn(\n"
     ]
    },
    {
     "name": "stdout",
     "output_type": "stream",
     "text": [
      "[1]\ttrain-auc:0.75224\teval-auc:0.66618\n",
      "[2]\ttrain-auc:0.75842\teval-auc:0.67199\n",
      "[3]\ttrain-auc:0.75778\teval-auc:0.67197\n",
      "[4]\ttrain-auc:0.75882\teval-auc:0.67326\n",
      "[5]\ttrain-auc:0.75928\teval-auc:0.67285\n",
      "[6]\ttrain-auc:0.75975\teval-auc:0.67311\n",
      "[7]\ttrain-auc:0.76099\teval-auc:0.67484\n",
      "[8]\ttrain-auc:0.76114\teval-auc:0.67535\n",
      "[9]\ttrain-auc:0.76330\teval-auc:0.67638\n",
      "finish training & evaluation for P094\n",
      "start training & evaluation for P084\n",
      "[0]\ttrain-auc:0.75201\teval-auc:0.68153\n"
     ]
    },
    {
     "name": "stderr",
     "output_type": "stream",
     "text": [
      "/home/panyu/miniconda3/envs/sci-data/lib/python3.9/site-packages/xgboost/core.py:122: UserWarning: ntree_limit is deprecated, use `iteration_range` or model slicing instead.\n",
      "  warnings.warn(\n",
      "/home/panyu/miniconda3/envs/sci-data/lib/python3.9/site-packages/xgboost/core.py:122: UserWarning: ntree_limit is deprecated, use `iteration_range` or model slicing instead.\n",
      "  warnings.warn(\n"
     ]
    },
    {
     "name": "stdout",
     "output_type": "stream",
     "text": [
      "[1]\ttrain-auc:0.76075\teval-auc:0.68547\n",
      "[2]\ttrain-auc:0.76255\teval-auc:0.68676\n",
      "[3]\ttrain-auc:0.76477\teval-auc:0.68806\n",
      "[4]\ttrain-auc:0.76445\teval-auc:0.68827\n",
      "[5]\ttrain-auc:0.76522\teval-auc:0.68737\n",
      "[6]\ttrain-auc:0.76495\teval-auc:0.68837\n",
      "[7]\ttrain-auc:0.76585\teval-auc:0.68790\n",
      "[8]\ttrain-auc:0.77225\teval-auc:0.68887\n",
      "[9]\ttrain-auc:0.77188\teval-auc:0.68932\n",
      "finish training & evaluation for P084\n",
      "start training & evaluation for P131\n",
      "[0]\ttrain-auc:0.75020\teval-auc:0.67815\n"
     ]
    },
    {
     "name": "stderr",
     "output_type": "stream",
     "text": [
      "/home/panyu/miniconda3/envs/sci-data/lib/python3.9/site-packages/xgboost/core.py:122: UserWarning: ntree_limit is deprecated, use `iteration_range` or model slicing instead.\n",
      "  warnings.warn(\n",
      "/home/panyu/miniconda3/envs/sci-data/lib/python3.9/site-packages/xgboost/core.py:122: UserWarning: ntree_limit is deprecated, use `iteration_range` or model slicing instead.\n",
      "  warnings.warn(\n"
     ]
    },
    {
     "name": "stdout",
     "output_type": "stream",
     "text": [
      "[1]\ttrain-auc:0.75222\teval-auc:0.68002\n",
      "[2]\ttrain-auc:0.75350\teval-auc:0.68196\n",
      "[3]\ttrain-auc:0.75804\teval-auc:0.68559\n",
      "[4]\ttrain-auc:0.75824\teval-auc:0.68561\n",
      "[5]\ttrain-auc:0.76214\teval-auc:0.68874\n",
      "[6]\ttrain-auc:0.76296\teval-auc:0.68936\n",
      "[7]\ttrain-auc:0.76691\teval-auc:0.69103\n",
      "[8]\ttrain-auc:0.76887\teval-auc:0.69149\n",
      "[9]\ttrain-auc:0.76953\teval-auc:0.69222\n",
      "finish training & evaluation for P131\n",
      "start training & evaluation for P046\n"
     ]
    },
    {
     "name": "stderr",
     "output_type": "stream",
     "text": [
      "/home/panyu/miniconda3/envs/sci-data/lib/python3.9/site-packages/xgboost/core.py:122: UserWarning: ntree_limit is deprecated, use `iteration_range` or model slicing instead.\n",
      "  warnings.warn(\n",
      "/home/panyu/miniconda3/envs/sci-data/lib/python3.9/site-packages/xgboost/core.py:122: UserWarning: ntree_limit is deprecated, use `iteration_range` or model slicing instead.\n",
      "  warnings.warn(\n"
     ]
    },
    {
     "name": "stdout",
     "output_type": "stream",
     "text": [
      "[0]\ttrain-auc:0.75435\teval-auc:0.66949\n",
      "[1]\ttrain-auc:0.75503\teval-auc:0.67040\n",
      "[2]\ttrain-auc:0.76237\teval-auc:0.67466\n",
      "[3]\ttrain-auc:0.76138\teval-auc:0.67459\n",
      "[4]\ttrain-auc:0.76448\teval-auc:0.67660\n",
      "[5]\ttrain-auc:0.76709\teval-auc:0.67866\n",
      "[6]\ttrain-auc:0.76985\teval-auc:0.67928\n",
      "[7]\ttrain-auc:0.77185\teval-auc:0.68014\n",
      "[8]\ttrain-auc:0.77310\teval-auc:0.68156\n",
      "[9]\ttrain-auc:0.77344\teval-auc:0.68218\n",
      "finish training & evaluation for P046\n",
      "start training & evaluation for P077\n",
      "[0]\ttrain-auc:0.75189\teval-auc:0.67363\n"
     ]
    },
    {
     "name": "stderr",
     "output_type": "stream",
     "text": [
      "/home/panyu/miniconda3/envs/sci-data/lib/python3.9/site-packages/xgboost/core.py:122: UserWarning: ntree_limit is deprecated, use `iteration_range` or model slicing instead.\n",
      "  warnings.warn(\n",
      "/home/panyu/miniconda3/envs/sci-data/lib/python3.9/site-packages/xgboost/core.py:122: UserWarning: ntree_limit is deprecated, use `iteration_range` or model slicing instead.\n",
      "  warnings.warn(\n"
     ]
    },
    {
     "name": "stdout",
     "output_type": "stream",
     "text": [
      "[1]\ttrain-auc:0.75487\teval-auc:0.67750\n",
      "[2]\ttrain-auc:0.75732\teval-auc:0.67766\n",
      "[3]\ttrain-auc:0.75918\teval-auc:0.67987\n",
      "[4]\ttrain-auc:0.76031\teval-auc:0.68144\n",
      "[5]\ttrain-auc:0.76098\teval-auc:0.68119\n",
      "[6]\ttrain-auc:0.76215\teval-auc:0.68285\n",
      "[7]\ttrain-auc:0.76530\teval-auc:0.68436\n",
      "[8]\ttrain-auc:0.76847\teval-auc:0.68559\n",
      "[9]\ttrain-auc:0.77028\teval-auc:0.68617\n",
      "finish training & evaluation for P077\n",
      "start training & evaluation for P110\n",
      "[0]\ttrain-auc:0.75457\teval-auc:0.67074\n",
      "[1]\ttrain-auc:0.75537\teval-auc:0.67026\n"
     ]
    },
    {
     "name": "stderr",
     "output_type": "stream",
     "text": [
      "/home/panyu/miniconda3/envs/sci-data/lib/python3.9/site-packages/xgboost/core.py:122: UserWarning: ntree_limit is deprecated, use `iteration_range` or model slicing instead.\n",
      "  warnings.warn(\n",
      "/home/panyu/miniconda3/envs/sci-data/lib/python3.9/site-packages/xgboost/core.py:122: UserWarning: ntree_limit is deprecated, use `iteration_range` or model slicing instead.\n",
      "  warnings.warn(\n"
     ]
    },
    {
     "name": "stdout",
     "output_type": "stream",
     "text": [
      "[2]\ttrain-auc:0.75611\teval-auc:0.67073\n",
      "[3]\ttrain-auc:0.75609\teval-auc:0.67063\n",
      "[4]\ttrain-auc:0.76338\teval-auc:0.67471\n",
      "[5]\ttrain-auc:0.76722\teval-auc:0.67564\n",
      "[6]\ttrain-auc:0.76842\teval-auc:0.67636\n",
      "[7]\ttrain-auc:0.77000\teval-auc:0.67630\n",
      "[8]\ttrain-auc:0.77088\teval-auc:0.67759\n",
      "[9]\ttrain-auc:0.77130\teval-auc:0.67753\n",
      "finish training & evaluation for P110\n",
      "start training & evaluation for P065\n",
      "[0]\ttrain-auc:0.75269\teval-auc:0.68165\n"
     ]
    },
    {
     "name": "stderr",
     "output_type": "stream",
     "text": [
      "/home/panyu/miniconda3/envs/sci-data/lib/python3.9/site-packages/xgboost/core.py:122: UserWarning: ntree_limit is deprecated, use `iteration_range` or model slicing instead.\n",
      "  warnings.warn(\n",
      "/home/panyu/miniconda3/envs/sci-data/lib/python3.9/site-packages/xgboost/core.py:122: UserWarning: ntree_limit is deprecated, use `iteration_range` or model slicing instead.\n",
      "  warnings.warn(\n"
     ]
    },
    {
     "name": "stdout",
     "output_type": "stream",
     "text": [
      "[1]\ttrain-auc:0.75615\teval-auc:0.68410\n",
      "[2]\ttrain-auc:0.75739\teval-auc:0.68186\n",
      "[3]\ttrain-auc:0.76229\teval-auc:0.68389\n",
      "[4]\ttrain-auc:0.76727\teval-auc:0.68618\n",
      "[5]\ttrain-auc:0.76693\teval-auc:0.68608\n",
      "[6]\ttrain-auc:0.77150\teval-auc:0.68927\n",
      "[7]\ttrain-auc:0.77334\teval-auc:0.69107\n",
      "[8]\ttrain-auc:0.77484\teval-auc:0.69179\n",
      "[9]\ttrain-auc:0.77521\teval-auc:0.69165\n",
      "finish training & evaluation for P065\n",
      "start training & evaluation for P048\n"
     ]
    },
    {
     "name": "stderr",
     "output_type": "stream",
     "text": [
      "/home/panyu/miniconda3/envs/sci-data/lib/python3.9/site-packages/xgboost/core.py:122: UserWarning: ntree_limit is deprecated, use `iteration_range` or model slicing instead.\n",
      "  warnings.warn(\n",
      "/home/panyu/miniconda3/envs/sci-data/lib/python3.9/site-packages/xgboost/core.py:122: UserWarning: ntree_limit is deprecated, use `iteration_range` or model slicing instead.\n",
      "  warnings.warn(\n"
     ]
    },
    {
     "name": "stdout",
     "output_type": "stream",
     "text": [
      "[0]\ttrain-auc:0.76046\teval-auc:0.66669\n",
      "[1]\ttrain-auc:0.76271\teval-auc:0.66830\n",
      "[2]\ttrain-auc:0.76276\teval-auc:0.66805\n",
      "[3]\ttrain-auc:0.76971\teval-auc:0.67331\n",
      "[4]\ttrain-auc:0.77068\teval-auc:0.67396\n",
      "[5]\ttrain-auc:0.77185\teval-auc:0.67467\n",
      "[6]\ttrain-auc:0.77677\teval-auc:0.67958\n",
      "[7]\ttrain-auc:0.77667\teval-auc:0.67919\n",
      "[8]\ttrain-auc:0.77856\teval-auc:0.68180\n",
      "[9]\ttrain-auc:0.78011\teval-auc:0.68280\n",
      "finish training & evaluation for P048\n",
      "start training & evaluation for P088\n"
     ]
    },
    {
     "name": "stderr",
     "output_type": "stream",
     "text": [
      "/home/panyu/miniconda3/envs/sci-data/lib/python3.9/site-packages/xgboost/core.py:122: UserWarning: ntree_limit is deprecated, use `iteration_range` or model slicing instead.\n",
      "  warnings.warn(\n",
      "/home/panyu/miniconda3/envs/sci-data/lib/python3.9/site-packages/xgboost/core.py:122: UserWarning: ntree_limit is deprecated, use `iteration_range` or model slicing instead.\n",
      "  warnings.warn(\n"
     ]
    },
    {
     "name": "stdout",
     "output_type": "stream",
     "text": [
      "[0]\ttrain-auc:0.74992\teval-auc:0.68594\n",
      "[1]\ttrain-auc:0.75102\teval-auc:0.68609\n",
      "[2]\ttrain-auc:0.75713\teval-auc:0.68859\n",
      "[3]\ttrain-auc:0.75643\teval-auc:0.68933\n",
      "[4]\ttrain-auc:0.76182\teval-auc:0.68930\n",
      "[5]\ttrain-auc:0.76210\teval-auc:0.68981\n",
      "[6]\ttrain-auc:0.76425\teval-auc:0.69089\n",
      "[7]\ttrain-auc:0.76429\teval-auc:0.68990\n",
      "[8]\ttrain-auc:0.76532\teval-auc:0.69025\n",
      "[9]\ttrain-auc:0.76508\teval-auc:0.68915\n",
      "finish training & evaluation for P088\n",
      "start training & evaluation for P119\n",
      "[0]\ttrain-auc:0.75372\teval-auc:0.67089\n",
      "[1]\ttrain-auc:0.76165\teval-auc:0.67688\n"
     ]
    },
    {
     "name": "stderr",
     "output_type": "stream",
     "text": [
      "/home/panyu/miniconda3/envs/sci-data/lib/python3.9/site-packages/xgboost/core.py:122: UserWarning: ntree_limit is deprecated, use `iteration_range` or model slicing instead.\n",
      "  warnings.warn(\n",
      "/home/panyu/miniconda3/envs/sci-data/lib/python3.9/site-packages/xgboost/core.py:122: UserWarning: ntree_limit is deprecated, use `iteration_range` or model slicing instead.\n",
      "  warnings.warn(\n"
     ]
    },
    {
     "name": "stdout",
     "output_type": "stream",
     "text": [
      "[2]\ttrain-auc:0.75973\teval-auc:0.67665\n",
      "[3]\ttrain-auc:0.76034\teval-auc:0.67638\n",
      "[4]\ttrain-auc:0.76145\teval-auc:0.67701\n",
      "[5]\ttrain-auc:0.76126\teval-auc:0.67761\n",
      "[6]\ttrain-auc:0.76186\teval-auc:0.67797\n",
      "[7]\ttrain-auc:0.76208\teval-auc:0.67841\n",
      "[8]\ttrain-auc:0.76702\teval-auc:0.67935\n",
      "[9]\ttrain-auc:0.76942\teval-auc:0.68043\n",
      "finish training & evaluation for P119\n",
      "start training & evaluation for P019\n"
     ]
    },
    {
     "name": "stderr",
     "output_type": "stream",
     "text": [
      "/home/panyu/miniconda3/envs/sci-data/lib/python3.9/site-packages/xgboost/core.py:122: UserWarning: ntree_limit is deprecated, use `iteration_range` or model slicing instead.\n",
      "  warnings.warn(\n",
      "/home/panyu/miniconda3/envs/sci-data/lib/python3.9/site-packages/xgboost/core.py:122: UserWarning: ntree_limit is deprecated, use `iteration_range` or model slicing instead.\n",
      "  warnings.warn(\n"
     ]
    },
    {
     "name": "stdout",
     "output_type": "stream",
     "text": [
      "[0]\ttrain-auc:0.75451\teval-auc:0.66092\n",
      "[1]\ttrain-auc:0.75677\teval-auc:0.66301\n",
      "[2]\ttrain-auc:0.75680\teval-auc:0.66350\n",
      "[3]\ttrain-auc:0.75836\teval-auc:0.66481\n",
      "[4]\ttrain-auc:0.76394\teval-auc:0.66918\n",
      "[5]\ttrain-auc:0.76524\teval-auc:0.67050\n",
      "[6]\ttrain-auc:0.76741\teval-auc:0.67231\n",
      "[7]\ttrain-auc:0.76773\teval-auc:0.67321\n",
      "[8]\ttrain-auc:0.76935\teval-auc:0.67474\n",
      "[9]\ttrain-auc:0.77019\teval-auc:0.67544\n",
      "finish training & evaluation for P019\n",
      "start training & evaluation for P033\n",
      "[0]\ttrain-auc:0.75457\teval-auc:0.67635\n"
     ]
    },
    {
     "name": "stderr",
     "output_type": "stream",
     "text": [
      "/home/panyu/miniconda3/envs/sci-data/lib/python3.9/site-packages/xgboost/core.py:122: UserWarning: ntree_limit is deprecated, use `iteration_range` or model slicing instead.\n",
      "  warnings.warn(\n",
      "/home/panyu/miniconda3/envs/sci-data/lib/python3.9/site-packages/xgboost/core.py:122: UserWarning: ntree_limit is deprecated, use `iteration_range` or model slicing instead.\n",
      "  warnings.warn(\n"
     ]
    },
    {
     "name": "stdout",
     "output_type": "stream",
     "text": [
      "[1]\ttrain-auc:0.75970\teval-auc:0.68120\n",
      "[2]\ttrain-auc:0.76487\teval-auc:0.68413\n",
      "[3]\ttrain-auc:0.77252\teval-auc:0.68753\n",
      "[4]\ttrain-auc:0.77236\teval-auc:0.68795\n",
      "[5]\ttrain-auc:0.77380\teval-auc:0.68848\n",
      "[6]\ttrain-auc:0.77467\teval-auc:0.68813\n",
      "[7]\ttrain-auc:0.77736\teval-auc:0.68906\n",
      "[8]\ttrain-auc:0.77705\teval-auc:0.68939\n",
      "[9]\ttrain-auc:0.77870\teval-auc:0.68956\n",
      "finish training & evaluation for P033\n",
      "start training & evaluation for P010\n"
     ]
    },
    {
     "name": "stderr",
     "output_type": "stream",
     "text": [
      "/home/panyu/miniconda3/envs/sci-data/lib/python3.9/site-packages/xgboost/core.py:122: UserWarning: ntree_limit is deprecated, use `iteration_range` or model slicing instead.\n",
      "  warnings.warn(\n",
      "/home/panyu/miniconda3/envs/sci-data/lib/python3.9/site-packages/xgboost/core.py:122: UserWarning: ntree_limit is deprecated, use `iteration_range` or model slicing instead.\n",
      "  warnings.warn(\n"
     ]
    },
    {
     "name": "stdout",
     "output_type": "stream",
     "text": [
      "[0]\ttrain-auc:0.75090\teval-auc:0.65872\n",
      "[1]\ttrain-auc:0.76126\teval-auc:0.67064\n",
      "[2]\ttrain-auc:0.76063\teval-auc:0.67130\n",
      "[3]\ttrain-auc:0.76264\teval-auc:0.67241\n",
      "[4]\ttrain-auc:0.76292\teval-auc:0.67367\n",
      "[5]\ttrain-auc:0.76257\teval-auc:0.67368\n",
      "[6]\ttrain-auc:0.76355\teval-auc:0.67364\n",
      "[7]\ttrain-auc:0.76382\teval-auc:0.67483\n",
      "[8]\ttrain-auc:0.76457\teval-auc:0.67547\n",
      "[9]\ttrain-auc:0.76534\teval-auc:0.67538\n",
      "finish training & evaluation for P010\n",
      "start training & evaluation for P011\n",
      "[0]\ttrain-auc:0.75556\teval-auc:0.66613\n"
     ]
    },
    {
     "name": "stderr",
     "output_type": "stream",
     "text": [
      "/home/panyu/miniconda3/envs/sci-data/lib/python3.9/site-packages/xgboost/core.py:122: UserWarning: ntree_limit is deprecated, use `iteration_range` or model slicing instead.\n",
      "  warnings.warn(\n",
      "/home/panyu/miniconda3/envs/sci-data/lib/python3.9/site-packages/xgboost/core.py:122: UserWarning: ntree_limit is deprecated, use `iteration_range` or model slicing instead.\n",
      "  warnings.warn(\n"
     ]
    },
    {
     "name": "stdout",
     "output_type": "stream",
     "text": [
      "[1]\ttrain-auc:0.75824\teval-auc:0.66754\n",
      "[2]\ttrain-auc:0.75840\teval-auc:0.66777\n",
      "[3]\ttrain-auc:0.76039\teval-auc:0.67026\n",
      "[4]\ttrain-auc:0.76089\teval-auc:0.67136\n",
      "[5]\ttrain-auc:0.76558\teval-auc:0.67423\n",
      "[6]\ttrain-auc:0.76553\teval-auc:0.67450\n",
      "[7]\ttrain-auc:0.76848\teval-auc:0.67515\n",
      "[8]\ttrain-auc:0.77110\teval-auc:0.67603\n",
      "[9]\ttrain-auc:0.77290\teval-auc:0.67719\n",
      "finish training & evaluation for P011\n",
      "start training & evaluation for P127\n",
      "[0]\ttrain-auc:0.75012\teval-auc:0.67765\n"
     ]
    },
    {
     "name": "stderr",
     "output_type": "stream",
     "text": [
      "/home/panyu/miniconda3/envs/sci-data/lib/python3.9/site-packages/xgboost/core.py:122: UserWarning: ntree_limit is deprecated, use `iteration_range` or model slicing instead.\n",
      "  warnings.warn(\n",
      "/home/panyu/miniconda3/envs/sci-data/lib/python3.9/site-packages/xgboost/core.py:122: UserWarning: ntree_limit is deprecated, use `iteration_range` or model slicing instead.\n",
      "  warnings.warn(\n"
     ]
    },
    {
     "name": "stdout",
     "output_type": "stream",
     "text": [
      "[1]\ttrain-auc:0.75289\teval-auc:0.68022\n",
      "[2]\ttrain-auc:0.75361\teval-auc:0.68110\n",
      "[3]\ttrain-auc:0.75980\teval-auc:0.68455\n",
      "[4]\ttrain-auc:0.76347\teval-auc:0.68741\n",
      "[5]\ttrain-auc:0.76385\teval-auc:0.68829\n",
      "[6]\ttrain-auc:0.76447\teval-auc:0.68919\n",
      "[7]\ttrain-auc:0.76718\teval-auc:0.69062\n",
      "[8]\ttrain-auc:0.76673\teval-auc:0.69049\n",
      "[9]\ttrain-auc:0.76700\teval-auc:0.69091\n",
      "finish training & evaluation for P127\n",
      "start training & evaluation for P075\n",
      "[0]\ttrain-auc:0.74710\teval-auc:0.67266\n"
     ]
    },
    {
     "name": "stderr",
     "output_type": "stream",
     "text": [
      "/home/panyu/miniconda3/envs/sci-data/lib/python3.9/site-packages/xgboost/core.py:122: UserWarning: ntree_limit is deprecated, use `iteration_range` or model slicing instead.\n",
      "  warnings.warn(\n",
      "/home/panyu/miniconda3/envs/sci-data/lib/python3.9/site-packages/xgboost/core.py:122: UserWarning: ntree_limit is deprecated, use `iteration_range` or model slicing instead.\n",
      "  warnings.warn(\n"
     ]
    },
    {
     "name": "stdout",
     "output_type": "stream",
     "text": [
      "[1]\ttrain-auc:0.75174\teval-auc:0.67416\n",
      "[2]\ttrain-auc:0.75173\teval-auc:0.67323\n",
      "[3]\ttrain-auc:0.75383\teval-auc:0.67635\n",
      "[4]\ttrain-auc:0.75369\teval-auc:0.67444\n",
      "[5]\ttrain-auc:0.76164\teval-auc:0.67693\n",
      "[6]\ttrain-auc:0.76398\teval-auc:0.67973\n",
      "[7]\ttrain-auc:0.76932\teval-auc:0.68102\n",
      "[8]\ttrain-auc:0.77076\teval-auc:0.68311\n",
      "[9]\ttrain-auc:0.77256\teval-auc:0.68468\n",
      "finish training & evaluation for P075\n",
      "start training & evaluation for P040\n"
     ]
    },
    {
     "name": "stderr",
     "output_type": "stream",
     "text": [
      "/home/panyu/miniconda3/envs/sci-data/lib/python3.9/site-packages/xgboost/core.py:122: UserWarning: ntree_limit is deprecated, use `iteration_range` or model slicing instead.\n",
      "  warnings.warn(\n",
      "/home/panyu/miniconda3/envs/sci-data/lib/python3.9/site-packages/xgboost/core.py:122: UserWarning: ntree_limit is deprecated, use `iteration_range` or model slicing instead.\n",
      "  warnings.warn(\n"
     ]
    },
    {
     "name": "stdout",
     "output_type": "stream",
     "text": [
      "[0]\ttrain-auc:0.75464\teval-auc:0.68661\n",
      "[1]\ttrain-auc:0.76483\teval-auc:0.69119\n",
      "[2]\ttrain-auc:0.76636\teval-auc:0.68971\n",
      "[3]\ttrain-auc:0.76848\teval-auc:0.69182\n",
      "[4]\ttrain-auc:0.76755\teval-auc:0.69109\n",
      "[5]\ttrain-auc:0.76719\teval-auc:0.69099\n",
      "[6]\ttrain-auc:0.76711\teval-auc:0.69112\n",
      "[7]\ttrain-auc:0.76855\teval-auc:0.69205\n",
      "[8]\ttrain-auc:0.76902\teval-auc:0.69254\n",
      "[9]\ttrain-auc:0.76982\teval-auc:0.69208\n",
      "finish training & evaluation for P040\n",
      "start training & evaluation for P104\n"
     ]
    },
    {
     "name": "stderr",
     "output_type": "stream",
     "text": [
      "/home/panyu/miniconda3/envs/sci-data/lib/python3.9/site-packages/xgboost/core.py:122: UserWarning: ntree_limit is deprecated, use `iteration_range` or model slicing instead.\n",
      "  warnings.warn(\n",
      "/home/panyu/miniconda3/envs/sci-data/lib/python3.9/site-packages/xgboost/core.py:122: UserWarning: ntree_limit is deprecated, use `iteration_range` or model slicing instead.\n",
      "  warnings.warn(\n"
     ]
    },
    {
     "name": "stdout",
     "output_type": "stream",
     "text": [
      "[0]\ttrain-auc:0.74900\teval-auc:0.68200\n",
      "[1]\ttrain-auc:0.75113\teval-auc:0.68727\n",
      "[2]\ttrain-auc:0.75383\teval-auc:0.68683\n",
      "[3]\ttrain-auc:0.76016\teval-auc:0.68891\n",
      "[4]\ttrain-auc:0.76213\teval-auc:0.68911\n",
      "[5]\ttrain-auc:0.76701\teval-auc:0.69183\n",
      "[6]\ttrain-auc:0.76930\teval-auc:0.69267\n",
      "[7]\ttrain-auc:0.77129\teval-auc:0.69328\n",
      "[8]\ttrain-auc:0.77194\teval-auc:0.69373\n",
      "[9]\ttrain-auc:0.77314\teval-auc:0.69379\n",
      "finish training & evaluation for P104\n",
      "start training & evaluation for P072\n",
      "[0]\ttrain-auc:0.75999\teval-auc:0.67714\n"
     ]
    },
    {
     "name": "stderr",
     "output_type": "stream",
     "text": [
      "/home/panyu/miniconda3/envs/sci-data/lib/python3.9/site-packages/xgboost/core.py:122: UserWarning: ntree_limit is deprecated, use `iteration_range` or model slicing instead.\n",
      "  warnings.warn(\n",
      "/home/panyu/miniconda3/envs/sci-data/lib/python3.9/site-packages/xgboost/core.py:122: UserWarning: ntree_limit is deprecated, use `iteration_range` or model slicing instead.\n",
      "  warnings.warn(\n"
     ]
    },
    {
     "name": "stdout",
     "output_type": "stream",
     "text": [
      "[1]\ttrain-auc:0.76028\teval-auc:0.67720\n",
      "[2]\ttrain-auc:0.76430\teval-auc:0.67877\n",
      "[3]\ttrain-auc:0.76516\teval-auc:0.67850\n",
      "[4]\ttrain-auc:0.76915\teval-auc:0.67999\n",
      "[5]\ttrain-auc:0.77174\teval-auc:0.68114\n",
      "[6]\ttrain-auc:0.77108\teval-auc:0.68150\n",
      "[7]\ttrain-auc:0.77204\teval-auc:0.68320\n",
      "[8]\ttrain-auc:0.77434\teval-auc:0.68547\n",
      "[9]\ttrain-auc:0.77351\teval-auc:0.68551\n",
      "finish training & evaluation for P072\n",
      "start training & evaluation for P091\n"
     ]
    },
    {
     "name": "stderr",
     "output_type": "stream",
     "text": [
      "/home/panyu/miniconda3/envs/sci-data/lib/python3.9/site-packages/xgboost/core.py:122: UserWarning: ntree_limit is deprecated, use `iteration_range` or model slicing instead.\n",
      "  warnings.warn(\n",
      "/home/panyu/miniconda3/envs/sci-data/lib/python3.9/site-packages/xgboost/core.py:122: UserWarning: ntree_limit is deprecated, use `iteration_range` or model slicing instead.\n",
      "  warnings.warn(\n"
     ]
    },
    {
     "name": "stdout",
     "output_type": "stream",
     "text": [
      "[0]\ttrain-auc:0.75043\teval-auc:0.68323\n",
      "[1]\ttrain-auc:0.75344\teval-auc:0.68178\n",
      "[2]\ttrain-auc:0.75436\teval-auc:0.68226\n",
      "[3]\ttrain-auc:0.75512\teval-auc:0.68282\n",
      "[4]\ttrain-auc:0.75558\teval-auc:0.68344\n",
      "[5]\ttrain-auc:0.75640\teval-auc:0.68295\n",
      "[6]\ttrain-auc:0.76071\teval-auc:0.68570\n",
      "[7]\ttrain-auc:0.76434\teval-auc:0.68723\n",
      "[8]\ttrain-auc:0.76548\teval-auc:0.68794\n",
      "[9]\ttrain-auc:0.76552\teval-auc:0.68825\n",
      "finish training & evaluation for P091\n",
      "start training & evaluation for P002\n"
     ]
    },
    {
     "name": "stderr",
     "output_type": "stream",
     "text": [
      "/home/panyu/miniconda3/envs/sci-data/lib/python3.9/site-packages/xgboost/core.py:122: UserWarning: ntree_limit is deprecated, use `iteration_range` or model slicing instead.\n",
      "  warnings.warn(\n",
      "/home/panyu/miniconda3/envs/sci-data/lib/python3.9/site-packages/xgboost/core.py:122: UserWarning: ntree_limit is deprecated, use `iteration_range` or model slicing instead.\n",
      "  warnings.warn(\n"
     ]
    },
    {
     "name": "stdout",
     "output_type": "stream",
     "text": [
      "[0]\ttrain-auc:0.75396\teval-auc:0.67398\n",
      "[1]\ttrain-auc:0.75992\teval-auc:0.67685\n",
      "[2]\ttrain-auc:0.76142\teval-auc:0.67680\n",
      "[3]\ttrain-auc:0.76357\teval-auc:0.67867\n",
      "[4]\ttrain-auc:0.76495\teval-auc:0.68051\n",
      "[5]\ttrain-auc:0.76561\teval-auc:0.68008\n",
      "[6]\ttrain-auc:0.76991\teval-auc:0.68146\n",
      "[7]\ttrain-auc:0.76982\teval-auc:0.68205\n",
      "[8]\ttrain-auc:0.77170\teval-auc:0.68273\n",
      "[9]\ttrain-auc:0.77166\teval-auc:0.68306\n",
      "finish training & evaluation for P002\n",
      "start training & evaluation for P069\n"
     ]
    },
    {
     "name": "stderr",
     "output_type": "stream",
     "text": [
      "/home/panyu/miniconda3/envs/sci-data/lib/python3.9/site-packages/xgboost/core.py:122: UserWarning: ntree_limit is deprecated, use `iteration_range` or model slicing instead.\n",
      "  warnings.warn(\n",
      "/home/panyu/miniconda3/envs/sci-data/lib/python3.9/site-packages/xgboost/core.py:122: UserWarning: ntree_limit is deprecated, use `iteration_range` or model slicing instead.\n",
      "  warnings.warn(\n"
     ]
    },
    {
     "name": "stdout",
     "output_type": "stream",
     "text": [
      "[0]\ttrain-auc:0.75691\teval-auc:0.66817\n",
      "[1]\ttrain-auc:0.76228\teval-auc:0.67116\n",
      "[2]\ttrain-auc:0.76405\teval-auc:0.67314\n",
      "[3]\ttrain-auc:0.76827\teval-auc:0.67410\n",
      "[4]\ttrain-auc:0.76957\teval-auc:0.67464\n",
      "[5]\ttrain-auc:0.76954\teval-auc:0.67469\n",
      "[6]\ttrain-auc:0.76980\teval-auc:0.67525\n",
      "[7]\ttrain-auc:0.77017\teval-auc:0.67614\n",
      "[8]\ttrain-auc:0.77053\teval-auc:0.67591\n",
      "[9]\ttrain-auc:0.77084\teval-auc:0.67630\n",
      "finish training & evaluation for P069\n",
      "start training & evaluation for P028\n",
      "[0]\ttrain-auc:0.75883\teval-auc:0.66515\n"
     ]
    },
    {
     "name": "stderr",
     "output_type": "stream",
     "text": [
      "/home/panyu/miniconda3/envs/sci-data/lib/python3.9/site-packages/xgboost/core.py:122: UserWarning: ntree_limit is deprecated, use `iteration_range` or model slicing instead.\n",
      "  warnings.warn(\n",
      "/home/panyu/miniconda3/envs/sci-data/lib/python3.9/site-packages/xgboost/core.py:122: UserWarning: ntree_limit is deprecated, use `iteration_range` or model slicing instead.\n",
      "  warnings.warn(\n"
     ]
    },
    {
     "name": "stdout",
     "output_type": "stream",
     "text": [
      "[1]\ttrain-auc:0.76113\teval-auc:0.66727\n",
      "[2]\ttrain-auc:0.76146\teval-auc:0.66776\n",
      "[3]\ttrain-auc:0.76350\teval-auc:0.66823\n",
      "[4]\ttrain-auc:0.76324\teval-auc:0.66821\n",
      "[5]\ttrain-auc:0.76402\teval-auc:0.66905\n",
      "[6]\ttrain-auc:0.76414\teval-auc:0.67012\n",
      "[7]\ttrain-auc:0.76515\teval-auc:0.67073\n",
      "[8]\ttrain-auc:0.76791\teval-auc:0.67258\n",
      "[9]\ttrain-auc:0.76929\teval-auc:0.67377\n",
      "finish training & evaluation for P028\n",
      "start training & evaluation for P049\n"
     ]
    },
    {
     "name": "stderr",
     "output_type": "stream",
     "text": [
      "/home/panyu/miniconda3/envs/sci-data/lib/python3.9/site-packages/xgboost/core.py:122: UserWarning: ntree_limit is deprecated, use `iteration_range` or model slicing instead.\n",
      "  warnings.warn(\n",
      "/home/panyu/miniconda3/envs/sci-data/lib/python3.9/site-packages/xgboost/core.py:122: UserWarning: ntree_limit is deprecated, use `iteration_range` or model slicing instead.\n",
      "  warnings.warn(\n"
     ]
    },
    {
     "name": "stdout",
     "output_type": "stream",
     "text": [
      "[0]\ttrain-auc:0.75272\teval-auc:0.67966\n",
      "[1]\ttrain-auc:0.75335\teval-auc:0.68030\n",
      "[2]\ttrain-auc:0.75324\teval-auc:0.68025\n",
      "[3]\ttrain-auc:0.75569\teval-auc:0.68231\n",
      "[4]\ttrain-auc:0.75498\teval-auc:0.68188\n",
      "[5]\ttrain-auc:0.76056\teval-auc:0.68682\n",
      "[6]\ttrain-auc:0.76071\teval-auc:0.68655\n",
      "[7]\ttrain-auc:0.76293\teval-auc:0.68818\n",
      "[8]\ttrain-auc:0.76801\teval-auc:0.69158\n",
      "[9]\ttrain-auc:0.76909\teval-auc:0.69251\n",
      "finish training & evaluation for P049\n",
      "start training & evaluation for P023\n",
      "[0]\ttrain-auc:0.76062\teval-auc:0.66390\n"
     ]
    },
    {
     "name": "stderr",
     "output_type": "stream",
     "text": [
      "/home/panyu/miniconda3/envs/sci-data/lib/python3.9/site-packages/xgboost/core.py:122: UserWarning: ntree_limit is deprecated, use `iteration_range` or model slicing instead.\n",
      "  warnings.warn(\n",
      "/home/panyu/miniconda3/envs/sci-data/lib/python3.9/site-packages/xgboost/core.py:122: UserWarning: ntree_limit is deprecated, use `iteration_range` or model slicing instead.\n",
      "  warnings.warn(\n"
     ]
    },
    {
     "name": "stdout",
     "output_type": "stream",
     "text": [
      "[1]\ttrain-auc:0.76095\teval-auc:0.66435\n",
      "[2]\ttrain-auc:0.76109\teval-auc:0.66420\n",
      "[3]\ttrain-auc:0.76323\teval-auc:0.66712\n",
      "[4]\ttrain-auc:0.76298\teval-auc:0.66655\n",
      "[5]\ttrain-auc:0.76412\teval-auc:0.66910\n",
      "[6]\ttrain-auc:0.76463\teval-auc:0.66798\n",
      "[7]\ttrain-auc:0.76533\teval-auc:0.67001\n",
      "[8]\ttrain-auc:0.76587\teval-auc:0.67044\n",
      "[9]\ttrain-auc:0.76746\teval-auc:0.67196\n",
      "finish training & evaluation for P023\n",
      "start training & evaluation for P095\n"
     ]
    },
    {
     "name": "stderr",
     "output_type": "stream",
     "text": [
      "/home/panyu/miniconda3/envs/sci-data/lib/python3.9/site-packages/xgboost/core.py:122: UserWarning: ntree_limit is deprecated, use `iteration_range` or model slicing instead.\n",
      "  warnings.warn(\n",
      "/home/panyu/miniconda3/envs/sci-data/lib/python3.9/site-packages/xgboost/core.py:122: UserWarning: ntree_limit is deprecated, use `iteration_range` or model slicing instead.\n",
      "  warnings.warn(\n"
     ]
    },
    {
     "name": "stdout",
     "output_type": "stream",
     "text": [
      "[0]\ttrain-auc:0.75499\teval-auc:0.67014\n",
      "[1]\ttrain-auc:0.75639\teval-auc:0.67100\n",
      "[2]\ttrain-auc:0.75897\teval-auc:0.67122\n",
      "[3]\ttrain-auc:0.76754\teval-auc:0.67734\n",
      "[4]\ttrain-auc:0.77142\teval-auc:0.68001\n",
      "[5]\ttrain-auc:0.77263\teval-auc:0.67989\n",
      "[6]\ttrain-auc:0.77381\teval-auc:0.68082\n",
      "[7]\ttrain-auc:0.77391\teval-auc:0.68095\n",
      "[8]\ttrain-auc:0.77567\teval-auc:0.68132\n",
      "[9]\ttrain-auc:0.77579\teval-auc:0.68163\n",
      "finish training & evaluation for P095\n",
      "start training & evaluation for P074\n"
     ]
    },
    {
     "name": "stderr",
     "output_type": "stream",
     "text": [
      "/home/panyu/miniconda3/envs/sci-data/lib/python3.9/site-packages/xgboost/core.py:122: UserWarning: ntree_limit is deprecated, use `iteration_range` or model slicing instead.\n",
      "  warnings.warn(\n",
      "/home/panyu/miniconda3/envs/sci-data/lib/python3.9/site-packages/xgboost/core.py:122: UserWarning: ntree_limit is deprecated, use `iteration_range` or model slicing instead.\n",
      "  warnings.warn(\n"
     ]
    },
    {
     "name": "stdout",
     "output_type": "stream",
     "text": [
      "[0]\ttrain-auc:0.75465\teval-auc:0.68370\n",
      "[1]\ttrain-auc:0.75781\teval-auc:0.68675\n",
      "[2]\ttrain-auc:0.75861\teval-auc:0.68749\n",
      "[3]\ttrain-auc:0.76291\teval-auc:0.68837\n",
      "[4]\ttrain-auc:0.76262\teval-auc:0.68835\n",
      "[5]\ttrain-auc:0.76370\teval-auc:0.68901\n",
      "[6]\ttrain-auc:0.76408\teval-auc:0.68942\n",
      "[7]\ttrain-auc:0.76537\teval-auc:0.69005\n",
      "[8]\ttrain-auc:0.76610\teval-auc:0.68939\n",
      "[9]\ttrain-auc:0.76726\teval-auc:0.68929\n",
      "finish training & evaluation for P074\n",
      "start training & evaluation for P054\n"
     ]
    },
    {
     "name": "stderr",
     "output_type": "stream",
     "text": [
      "/home/panyu/miniconda3/envs/sci-data/lib/python3.9/site-packages/xgboost/core.py:122: UserWarning: ntree_limit is deprecated, use `iteration_range` or model slicing instead.\n",
      "  warnings.warn(\n",
      "/home/panyu/miniconda3/envs/sci-data/lib/python3.9/site-packages/xgboost/core.py:122: UserWarning: ntree_limit is deprecated, use `iteration_range` or model slicing instead.\n",
      "  warnings.warn(\n"
     ]
    },
    {
     "name": "stdout",
     "output_type": "stream",
     "text": [
      "[0]\ttrain-auc:0.75082\teval-auc:0.67415\n",
      "[1]\ttrain-auc:0.76193\teval-auc:0.67644\n",
      "[2]\ttrain-auc:0.76173\teval-auc:0.67673\n",
      "[3]\ttrain-auc:0.76030\teval-auc:0.67685\n",
      "[4]\ttrain-auc:0.76215\teval-auc:0.67734\n",
      "[5]\ttrain-auc:0.76197\teval-auc:0.67687\n",
      "[6]\ttrain-auc:0.76289\teval-auc:0.67831\n",
      "[7]\ttrain-auc:0.76523\teval-auc:0.67854\n",
      "[8]\ttrain-auc:0.76575\teval-auc:0.67932\n",
      "[9]\ttrain-auc:0.76975\teval-auc:0.67986\n",
      "finish training & evaluation for P054\n",
      "start training & evaluation for P083\n",
      "[0]\ttrain-auc:0.74752\teval-auc:0.66799\n"
     ]
    },
    {
     "name": "stderr",
     "output_type": "stream",
     "text": [
      "/home/panyu/miniconda3/envs/sci-data/lib/python3.9/site-packages/xgboost/core.py:122: UserWarning: ntree_limit is deprecated, use `iteration_range` or model slicing instead.\n",
      "  warnings.warn(\n",
      "/home/panyu/miniconda3/envs/sci-data/lib/python3.9/site-packages/xgboost/core.py:122: UserWarning: ntree_limit is deprecated, use `iteration_range` or model slicing instead.\n",
      "  warnings.warn(\n"
     ]
    },
    {
     "name": "stdout",
     "output_type": "stream",
     "text": [
      "[1]\ttrain-auc:0.74923\teval-auc:0.66988\n",
      "[2]\ttrain-auc:0.75308\teval-auc:0.67172\n",
      "[3]\ttrain-auc:0.75850\teval-auc:0.67459\n",
      "[4]\ttrain-auc:0.75804\teval-auc:0.67366\n",
      "[5]\ttrain-auc:0.75770\teval-auc:0.67434\n",
      "[6]\ttrain-auc:0.75929\teval-auc:0.67517\n",
      "[7]\ttrain-auc:0.76252\teval-auc:0.67569\n",
      "[8]\ttrain-auc:0.76489\teval-auc:0.67923\n",
      "[9]\ttrain-auc:0.76967\teval-auc:0.68036\n",
      "finish training & evaluation for P083\n",
      "start training & evaluation for P052\n",
      "[0]\ttrain-auc:0.75050\teval-auc:0.67347\n",
      "[1]\ttrain-auc:0.75234\teval-auc:0.67486\n"
     ]
    },
    {
     "name": "stderr",
     "output_type": "stream",
     "text": [
      "/home/panyu/miniconda3/envs/sci-data/lib/python3.9/site-packages/xgboost/core.py:122: UserWarning: ntree_limit is deprecated, use `iteration_range` or model slicing instead.\n",
      "  warnings.warn(\n",
      "/home/panyu/miniconda3/envs/sci-data/lib/python3.9/site-packages/xgboost/core.py:122: UserWarning: ntree_limit is deprecated, use `iteration_range` or model slicing instead.\n",
      "  warnings.warn(\n"
     ]
    },
    {
     "name": "stdout",
     "output_type": "stream",
     "text": [
      "[2]\ttrain-auc:0.75278\teval-auc:0.67496\n",
      "[3]\ttrain-auc:0.75577\teval-auc:0.67609\n",
      "[4]\ttrain-auc:0.75779\teval-auc:0.67591\n",
      "[5]\ttrain-auc:0.75764\teval-auc:0.67663\n",
      "[6]\ttrain-auc:0.75865\teval-auc:0.67670\n",
      "[7]\ttrain-auc:0.75887\teval-auc:0.67689\n",
      "[8]\ttrain-auc:0.76163\teval-auc:0.67899\n",
      "[9]\ttrain-auc:0.76375\teval-auc:0.67964\n",
      "finish training & evaluation for P052\n",
      "start training & evaluation for P035\n",
      "[0]\ttrain-auc:0.75357\teval-auc:0.67556\n"
     ]
    },
    {
     "name": "stderr",
     "output_type": "stream",
     "text": [
      "/home/panyu/miniconda3/envs/sci-data/lib/python3.9/site-packages/xgboost/core.py:122: UserWarning: ntree_limit is deprecated, use `iteration_range` or model slicing instead.\n",
      "  warnings.warn(\n",
      "/home/panyu/miniconda3/envs/sci-data/lib/python3.9/site-packages/xgboost/core.py:122: UserWarning: ntree_limit is deprecated, use `iteration_range` or model slicing instead.\n",
      "  warnings.warn(\n"
     ]
    },
    {
     "name": "stdout",
     "output_type": "stream",
     "text": [
      "[1]\ttrain-auc:0.75414\teval-auc:0.67510\n",
      "[2]\ttrain-auc:0.75449\teval-auc:0.67594\n",
      "[3]\ttrain-auc:0.75735\teval-auc:0.68008\n",
      "[4]\ttrain-auc:0.75875\teval-auc:0.68128\n",
      "[5]\ttrain-auc:0.76510\teval-auc:0.68277\n",
      "[6]\ttrain-auc:0.76566\teval-auc:0.68306\n",
      "[7]\ttrain-auc:0.76772\teval-auc:0.68431\n",
      "[8]\ttrain-auc:0.76781\teval-auc:0.68480\n",
      "[9]\ttrain-auc:0.77170\teval-auc:0.68525\n",
      "finish training & evaluation for P035\n",
      "start training & evaluation for P073\n"
     ]
    },
    {
     "name": "stderr",
     "output_type": "stream",
     "text": [
      "/home/panyu/miniconda3/envs/sci-data/lib/python3.9/site-packages/xgboost/core.py:122: UserWarning: ntree_limit is deprecated, use `iteration_range` or model slicing instead.\n",
      "  warnings.warn(\n",
      "/home/panyu/miniconda3/envs/sci-data/lib/python3.9/site-packages/xgboost/core.py:122: UserWarning: ntree_limit is deprecated, use `iteration_range` or model slicing instead.\n",
      "  warnings.warn(\n"
     ]
    },
    {
     "name": "stdout",
     "output_type": "stream",
     "text": [
      "[0]\ttrain-auc:0.75588\teval-auc:0.67422\n",
      "[1]\ttrain-auc:0.75795\teval-auc:0.67769\n",
      "[2]\ttrain-auc:0.75825\teval-auc:0.67617\n",
      "[3]\ttrain-auc:0.76263\teval-auc:0.67817\n",
      "[4]\ttrain-auc:0.76806\teval-auc:0.68192\n",
      "[5]\ttrain-auc:0.76838\teval-auc:0.68250\n",
      "[6]\ttrain-auc:0.76977\teval-auc:0.68343\n",
      "[7]\ttrain-auc:0.77086\teval-auc:0.68433\n",
      "[8]\ttrain-auc:0.77080\teval-auc:0.68562\n",
      "[9]\ttrain-auc:0.77125\teval-auc:0.68534\n",
      "finish training & evaluation for P073\n",
      "start training & evaluation for P047\n"
     ]
    },
    {
     "name": "stderr",
     "output_type": "stream",
     "text": [
      "/home/panyu/miniconda3/envs/sci-data/lib/python3.9/site-packages/xgboost/core.py:122: UserWarning: ntree_limit is deprecated, use `iteration_range` or model slicing instead.\n",
      "  warnings.warn(\n",
      "/home/panyu/miniconda3/envs/sci-data/lib/python3.9/site-packages/xgboost/core.py:122: UserWarning: ntree_limit is deprecated, use `iteration_range` or model slicing instead.\n",
      "  warnings.warn(\n"
     ]
    },
    {
     "name": "stdout",
     "output_type": "stream",
     "text": [
      "[0]\ttrain-auc:0.74938\teval-auc:0.66709\n",
      "[1]\ttrain-auc:0.75171\teval-auc:0.67004\n",
      "[2]\ttrain-auc:0.75235\teval-auc:0.66998\n",
      "[3]\ttrain-auc:0.76162\teval-auc:0.67407\n",
      "[4]\ttrain-auc:0.76030\teval-auc:0.67337\n",
      "[5]\ttrain-auc:0.76531\teval-auc:0.67516\n",
      "[6]\ttrain-auc:0.76677\teval-auc:0.67578\n",
      "[7]\ttrain-auc:0.76857\teval-auc:0.67538\n",
      "[8]\ttrain-auc:0.76821\teval-auc:0.67560\n",
      "[9]\ttrain-auc:0.77060\teval-auc:0.67611\n",
      "finish training & evaluation for P047\n",
      "start training & evaluation for P043\n",
      "[0]\ttrain-auc:0.75718\teval-auc:0.67597\n"
     ]
    },
    {
     "name": "stderr",
     "output_type": "stream",
     "text": [
      "/home/panyu/miniconda3/envs/sci-data/lib/python3.9/site-packages/xgboost/core.py:122: UserWarning: ntree_limit is deprecated, use `iteration_range` or model slicing instead.\n",
      "  warnings.warn(\n",
      "/home/panyu/miniconda3/envs/sci-data/lib/python3.9/site-packages/xgboost/core.py:122: UserWarning: ntree_limit is deprecated, use `iteration_range` or model slicing instead.\n",
      "  warnings.warn(\n"
     ]
    },
    {
     "name": "stdout",
     "output_type": "stream",
     "text": [
      "[1]\ttrain-auc:0.76446\teval-auc:0.68333\n",
      "[2]\ttrain-auc:0.76401\teval-auc:0.68326\n",
      "[3]\ttrain-auc:0.76780\teval-auc:0.68526\n",
      "[4]\ttrain-auc:0.76810\teval-auc:0.68460\n",
      "[5]\ttrain-auc:0.77246\teval-auc:0.68674\n",
      "[6]\ttrain-auc:0.77446\teval-auc:0.68774\n",
      "[7]\ttrain-auc:0.77538\teval-auc:0.68710\n",
      "[8]\ttrain-auc:0.77513\teval-auc:0.68797\n",
      "[9]\ttrain-auc:0.77708\teval-auc:0.68954\n",
      "finish training & evaluation for P043\n",
      "start training & evaluation for P045\n"
     ]
    },
    {
     "name": "stderr",
     "output_type": "stream",
     "text": [
      "/home/panyu/miniconda3/envs/sci-data/lib/python3.9/site-packages/xgboost/core.py:122: UserWarning: ntree_limit is deprecated, use `iteration_range` or model slicing instead.\n",
      "  warnings.warn(\n",
      "/home/panyu/miniconda3/envs/sci-data/lib/python3.9/site-packages/xgboost/core.py:122: UserWarning: ntree_limit is deprecated, use `iteration_range` or model slicing instead.\n",
      "  warnings.warn(\n"
     ]
    },
    {
     "name": "stdout",
     "output_type": "stream",
     "text": [
      "[0]\ttrain-auc:0.75984\teval-auc:0.66777\n",
      "[1]\ttrain-auc:0.76441\teval-auc:0.67014\n",
      "[2]\ttrain-auc:0.76551\teval-auc:0.67122\n",
      "[3]\ttrain-auc:0.76670\teval-auc:0.67065\n",
      "[4]\ttrain-auc:0.76988\teval-auc:0.67197\n",
      "[5]\ttrain-auc:0.77006\teval-auc:0.67197\n",
      "[6]\ttrain-auc:0.77274\teval-auc:0.67447\n",
      "[7]\ttrain-auc:0.77387\teval-auc:0.67531\n",
      "[8]\ttrain-auc:0.77440\teval-auc:0.67550\n",
      "[9]\ttrain-auc:0.77532\teval-auc:0.67626\n",
      "finish training & evaluation for P045\n",
      "start training & evaluation for P076\n",
      "[0]\ttrain-auc:0.75755\teval-auc:0.66712\n"
     ]
    },
    {
     "name": "stderr",
     "output_type": "stream",
     "text": [
      "/home/panyu/miniconda3/envs/sci-data/lib/python3.9/site-packages/xgboost/core.py:122: UserWarning: ntree_limit is deprecated, use `iteration_range` or model slicing instead.\n",
      "  warnings.warn(\n",
      "/home/panyu/miniconda3/envs/sci-data/lib/python3.9/site-packages/xgboost/core.py:122: UserWarning: ntree_limit is deprecated, use `iteration_range` or model slicing instead.\n",
      "  warnings.warn(\n"
     ]
    },
    {
     "name": "stdout",
     "output_type": "stream",
     "text": [
      "[1]\ttrain-auc:0.76001\teval-auc:0.67328\n",
      "[2]\ttrain-auc:0.76025\teval-auc:0.67288\n",
      "[3]\ttrain-auc:0.76092\teval-auc:0.67422\n",
      "[4]\ttrain-auc:0.76128\teval-auc:0.67424\n",
      "[5]\ttrain-auc:0.76593\teval-auc:0.67709\n",
      "[6]\ttrain-auc:0.76565\teval-auc:0.67732\n",
      "[7]\ttrain-auc:0.76600\teval-auc:0.67777\n",
      "[8]\ttrain-auc:0.76710\teval-auc:0.67861\n",
      "[9]\ttrain-auc:0.76989\teval-auc:0.68084\n",
      "finish training & evaluation for P076\n",
      "start training & evaluation for P038\n",
      "[0]\ttrain-auc:0.75229\teval-auc:0.67574\n"
     ]
    },
    {
     "name": "stderr",
     "output_type": "stream",
     "text": [
      "/home/panyu/miniconda3/envs/sci-data/lib/python3.9/site-packages/xgboost/core.py:122: UserWarning: ntree_limit is deprecated, use `iteration_range` or model slicing instead.\n",
      "  warnings.warn(\n",
      "/home/panyu/miniconda3/envs/sci-data/lib/python3.9/site-packages/xgboost/core.py:122: UserWarning: ntree_limit is deprecated, use `iteration_range` or model slicing instead.\n",
      "  warnings.warn(\n"
     ]
    },
    {
     "name": "stdout",
     "output_type": "stream",
     "text": [
      "[1]\ttrain-auc:0.76182\teval-auc:0.67711\n",
      "[2]\ttrain-auc:0.76394\teval-auc:0.67936\n",
      "[3]\ttrain-auc:0.76456\teval-auc:0.67813\n",
      "[4]\ttrain-auc:0.76477\teval-auc:0.68009\n",
      "[5]\ttrain-auc:0.76986\teval-auc:0.68214\n",
      "[6]\ttrain-auc:0.76987\teval-auc:0.68063\n",
      "[7]\ttrain-auc:0.77325\teval-auc:0.68215\n",
      "[8]\ttrain-auc:0.77383\teval-auc:0.68222\n",
      "[9]\ttrain-auc:0.77598\teval-auc:0.68353\n",
      "finish training & evaluation for P038\n",
      "start training & evaluation for P001\n",
      "[0]\ttrain-auc:0.75539\teval-auc:0.67184\n"
     ]
    },
    {
     "name": "stderr",
     "output_type": "stream",
     "text": [
      "/home/panyu/miniconda3/envs/sci-data/lib/python3.9/site-packages/xgboost/core.py:122: UserWarning: ntree_limit is deprecated, use `iteration_range` or model slicing instead.\n",
      "  warnings.warn(\n",
      "/home/panyu/miniconda3/envs/sci-data/lib/python3.9/site-packages/xgboost/core.py:122: UserWarning: ntree_limit is deprecated, use `iteration_range` or model slicing instead.\n",
      "  warnings.warn(\n"
     ]
    },
    {
     "name": "stdout",
     "output_type": "stream",
     "text": [
      "[1]\ttrain-auc:0.75582\teval-auc:0.67229\n",
      "[2]\ttrain-auc:0.75618\teval-auc:0.67326\n",
      "[3]\ttrain-auc:0.75746\teval-auc:0.67507\n",
      "[4]\ttrain-auc:0.76333\teval-auc:0.67874\n",
      "[5]\ttrain-auc:0.76377\teval-auc:0.67813\n",
      "[6]\ttrain-auc:0.76529\teval-auc:0.67976\n",
      "[7]\ttrain-auc:0.76726\teval-auc:0.68104\n",
      "[8]\ttrain-auc:0.76765\teval-auc:0.68166\n",
      "[9]\ttrain-auc:0.76933\teval-auc:0.68332\n",
      "finish training & evaluation for P001\n",
      "start training & evaluation for P057\n",
      "[0]\ttrain-auc:0.75273\teval-auc:0.67633\n"
     ]
    },
    {
     "name": "stderr",
     "output_type": "stream",
     "text": [
      "/home/panyu/miniconda3/envs/sci-data/lib/python3.9/site-packages/xgboost/core.py:122: UserWarning: ntree_limit is deprecated, use `iteration_range` or model slicing instead.\n",
      "  warnings.warn(\n",
      "/home/panyu/miniconda3/envs/sci-data/lib/python3.9/site-packages/xgboost/core.py:122: UserWarning: ntree_limit is deprecated, use `iteration_range` or model slicing instead.\n",
      "  warnings.warn(\n"
     ]
    },
    {
     "name": "stdout",
     "output_type": "stream",
     "text": [
      "[1]\ttrain-auc:0.75537\teval-auc:0.67862\n",
      "[2]\ttrain-auc:0.75537\teval-auc:0.67848\n",
      "[3]\ttrain-auc:0.75750\teval-auc:0.67952\n",
      "[4]\ttrain-auc:0.75858\teval-auc:0.68056\n",
      "[5]\ttrain-auc:0.76316\teval-auc:0.68441\n",
      "[6]\ttrain-auc:0.76512\teval-auc:0.68574\n",
      "[7]\ttrain-auc:0.76913\teval-auc:0.68605\n",
      "[8]\ttrain-auc:0.77052\teval-auc:0.68691\n",
      "[9]\ttrain-auc:0.77200\teval-auc:0.68682\n",
      "finish training & evaluation for P057\n",
      "start training & evaluation for P061\n"
     ]
    },
    {
     "name": "stderr",
     "output_type": "stream",
     "text": [
      "/home/panyu/miniconda3/envs/sci-data/lib/python3.9/site-packages/xgboost/core.py:122: UserWarning: ntree_limit is deprecated, use `iteration_range` or model slicing instead.\n",
      "  warnings.warn(\n",
      "/home/panyu/miniconda3/envs/sci-data/lib/python3.9/site-packages/xgboost/core.py:122: UserWarning: ntree_limit is deprecated, use `iteration_range` or model slicing instead.\n",
      "  warnings.warn(\n"
     ]
    },
    {
     "name": "stdout",
     "output_type": "stream",
     "text": [
      "[0]\ttrain-auc:0.75487\teval-auc:0.66969\n",
      "[1]\ttrain-auc:0.76375\teval-auc:0.67716\n",
      "[2]\ttrain-auc:0.76372\teval-auc:0.67772\n",
      "[3]\ttrain-auc:0.76507\teval-auc:0.67798\n",
      "[4]\ttrain-auc:0.76710\teval-auc:0.67896\n",
      "[5]\ttrain-auc:0.76749\teval-auc:0.67895\n",
      "[6]\ttrain-auc:0.76927\teval-auc:0.68022\n",
      "[7]\ttrain-auc:0.76924\teval-auc:0.68012\n",
      "[8]\ttrain-auc:0.77081\teval-auc:0.68080\n",
      "[9]\ttrain-auc:0.77327\teval-auc:0.68290\n",
      "finish training & evaluation for P061\n",
      "start training & evaluation for P092\n"
     ]
    },
    {
     "name": "stderr",
     "output_type": "stream",
     "text": [
      "/home/panyu/miniconda3/envs/sci-data/lib/python3.9/site-packages/xgboost/core.py:122: UserWarning: ntree_limit is deprecated, use `iteration_range` or model slicing instead.\n",
      "  warnings.warn(\n",
      "/home/panyu/miniconda3/envs/sci-data/lib/python3.9/site-packages/xgboost/core.py:122: UserWarning: ntree_limit is deprecated, use `iteration_range` or model slicing instead.\n",
      "  warnings.warn(\n"
     ]
    },
    {
     "name": "stdout",
     "output_type": "stream",
     "text": [
      "[0]\ttrain-auc:0.75191\teval-auc:0.67666\n",
      "[1]\ttrain-auc:0.75530\teval-auc:0.67706\n",
      "[2]\ttrain-auc:0.75603\teval-auc:0.67823\n",
      "[3]\ttrain-auc:0.75586\teval-auc:0.67776\n",
      "[4]\ttrain-auc:0.75584\teval-auc:0.67815\n",
      "[5]\ttrain-auc:0.75762\teval-auc:0.67855\n",
      "[6]\ttrain-auc:0.75829\teval-auc:0.67948\n",
      "[7]\ttrain-auc:0.76159\teval-auc:0.68054\n",
      "[8]\ttrain-auc:0.76425\teval-auc:0.68195\n",
      "[9]\ttrain-auc:0.76463\teval-auc:0.68240\n",
      "finish training & evaluation for P092\n",
      "start training & evaluation for P125\n",
      "[0]\ttrain-auc:0.75098\teval-auc:0.66894\n"
     ]
    },
    {
     "name": "stderr",
     "output_type": "stream",
     "text": [
      "/home/panyu/miniconda3/envs/sci-data/lib/python3.9/site-packages/xgboost/core.py:122: UserWarning: ntree_limit is deprecated, use `iteration_range` or model slicing instead.\n",
      "  warnings.warn(\n",
      "/home/panyu/miniconda3/envs/sci-data/lib/python3.9/site-packages/xgboost/core.py:122: UserWarning: ntree_limit is deprecated, use `iteration_range` or model slicing instead.\n",
      "  warnings.warn(\n"
     ]
    },
    {
     "name": "stdout",
     "output_type": "stream",
     "text": [
      "[1]\ttrain-auc:0.75660\teval-auc:0.67780\n",
      "[2]\ttrain-auc:0.75962\teval-auc:0.67939\n",
      "[3]\ttrain-auc:0.76061\teval-auc:0.68014\n",
      "[4]\ttrain-auc:0.76086\teval-auc:0.68074\n",
      "[5]\ttrain-auc:0.76084\teval-auc:0.68167\n",
      "[6]\ttrain-auc:0.76187\teval-auc:0.68295\n",
      "[7]\ttrain-auc:0.76193\teval-auc:0.68251\n",
      "[8]\ttrain-auc:0.76179\teval-auc:0.68257\n",
      "[9]\ttrain-auc:0.76385\teval-auc:0.68366\n",
      "finish training & evaluation for P125\n",
      "start training & evaluation for P114\n",
      "[0]\ttrain-auc:0.75876\teval-auc:0.67193\n"
     ]
    },
    {
     "name": "stderr",
     "output_type": "stream",
     "text": [
      "/home/panyu/miniconda3/envs/sci-data/lib/python3.9/site-packages/xgboost/core.py:122: UserWarning: ntree_limit is deprecated, use `iteration_range` or model slicing instead.\n",
      "  warnings.warn(\n",
      "/home/panyu/miniconda3/envs/sci-data/lib/python3.9/site-packages/xgboost/core.py:122: UserWarning: ntree_limit is deprecated, use `iteration_range` or model slicing instead.\n",
      "  warnings.warn(\n"
     ]
    },
    {
     "name": "stdout",
     "output_type": "stream",
     "text": [
      "[1]\ttrain-auc:0.75954\teval-auc:0.67230\n",
      "[2]\ttrain-auc:0.76233\teval-auc:0.67344\n",
      "[3]\ttrain-auc:0.76472\teval-auc:0.67466\n",
      "[4]\ttrain-auc:0.76785\teval-auc:0.67469\n",
      "[5]\ttrain-auc:0.76862\teval-auc:0.67376\n",
      "[6]\ttrain-auc:0.76911\teval-auc:0.67419\n",
      "[7]\ttrain-auc:0.77001\teval-auc:0.67475\n",
      "[8]\ttrain-auc:0.77255\teval-auc:0.67637\n",
      "[9]\ttrain-auc:0.77319\teval-auc:0.67771\n",
      "finish training & evaluation for P114\n",
      "start training & evaluation for P103\n",
      "[0]\ttrain-auc:0.75030\teval-auc:0.67239\n",
      "[1]\ttrain-auc:0.75857\teval-auc:0.68018\n"
     ]
    },
    {
     "name": "stderr",
     "output_type": "stream",
     "text": [
      "/home/panyu/miniconda3/envs/sci-data/lib/python3.9/site-packages/xgboost/core.py:122: UserWarning: ntree_limit is deprecated, use `iteration_range` or model slicing instead.\n",
      "  warnings.warn(\n",
      "/home/panyu/miniconda3/envs/sci-data/lib/python3.9/site-packages/xgboost/core.py:122: UserWarning: ntree_limit is deprecated, use `iteration_range` or model slicing instead.\n",
      "  warnings.warn(\n"
     ]
    },
    {
     "name": "stdout",
     "output_type": "stream",
     "text": [
      "[2]\ttrain-auc:0.76890\teval-auc:0.68364\n",
      "[3]\ttrain-auc:0.76854\teval-auc:0.68435\n",
      "[4]\ttrain-auc:0.77079\teval-auc:0.68552\n",
      "[5]\ttrain-auc:0.77217\teval-auc:0.68679\n",
      "[6]\ttrain-auc:0.77354\teval-auc:0.68850\n",
      "[7]\ttrain-auc:0.77613\teval-auc:0.68901\n",
      "[8]\ttrain-auc:0.77480\teval-auc:0.68879\n",
      "[9]\ttrain-auc:0.77701\teval-auc:0.69086\n",
      "finish training & evaluation for P103\n",
      "start training & evaluation for P064\n",
      "[0]\ttrain-auc:0.75590\teval-auc:0.66759\n",
      "[1]\ttrain-auc:0.76470\teval-auc:0.67269\n"
     ]
    },
    {
     "name": "stderr",
     "output_type": "stream",
     "text": [
      "/home/panyu/miniconda3/envs/sci-data/lib/python3.9/site-packages/xgboost/core.py:122: UserWarning: ntree_limit is deprecated, use `iteration_range` or model slicing instead.\n",
      "  warnings.warn(\n",
      "/home/panyu/miniconda3/envs/sci-data/lib/python3.9/site-packages/xgboost/core.py:122: UserWarning: ntree_limit is deprecated, use `iteration_range` or model slicing instead.\n",
      "  warnings.warn(\n"
     ]
    },
    {
     "name": "stdout",
     "output_type": "stream",
     "text": [
      "[2]\ttrain-auc:0.76643\teval-auc:0.67432\n",
      "[3]\ttrain-auc:0.76663\teval-auc:0.67511\n",
      "[4]\ttrain-auc:0.76943\teval-auc:0.67737\n",
      "[5]\ttrain-auc:0.77046\teval-auc:0.67963\n",
      "[6]\ttrain-auc:0.77069\teval-auc:0.67965\n",
      "[7]\ttrain-auc:0.77105\teval-auc:0.68014\n",
      "[8]\ttrain-auc:0.77113\teval-auc:0.68064\n",
      "[9]\ttrain-auc:0.77156\teval-auc:0.68172\n",
      "finish training & evaluation for P064\n",
      "start training & evaluation for P007\n"
     ]
    },
    {
     "name": "stderr",
     "output_type": "stream",
     "text": [
      "/home/panyu/miniconda3/envs/sci-data/lib/python3.9/site-packages/xgboost/core.py:122: UserWarning: ntree_limit is deprecated, use `iteration_range` or model slicing instead.\n",
      "  warnings.warn(\n",
      "/home/panyu/miniconda3/envs/sci-data/lib/python3.9/site-packages/xgboost/core.py:122: UserWarning: ntree_limit is deprecated, use `iteration_range` or model slicing instead.\n",
      "  warnings.warn(\n"
     ]
    },
    {
     "name": "stdout",
     "output_type": "stream",
     "text": [
      "[0]\ttrain-auc:0.75711\teval-auc:0.66722\n",
      "[1]\ttrain-auc:0.75960\teval-auc:0.66970\n",
      "[2]\ttrain-auc:0.76157\teval-auc:0.67251\n",
      "[3]\ttrain-auc:0.76115\teval-auc:0.67222\n",
      "[4]\ttrain-auc:0.76323\teval-auc:0.67258\n",
      "[5]\ttrain-auc:0.76290\teval-auc:0.67250\n",
      "[6]\ttrain-auc:0.76358\teval-auc:0.67317\n",
      "[7]\ttrain-auc:0.76562\teval-auc:0.67291\n",
      "[8]\ttrain-auc:0.76743\teval-auc:0.67556\n",
      "[9]\ttrain-auc:0.76836\teval-auc:0.67550\n",
      "finish training & evaluation for P007\n",
      "start training & evaluation for P117\n"
     ]
    },
    {
     "name": "stderr",
     "output_type": "stream",
     "text": [
      "/home/panyu/miniconda3/envs/sci-data/lib/python3.9/site-packages/xgboost/core.py:122: UserWarning: ntree_limit is deprecated, use `iteration_range` or model slicing instead.\n",
      "  warnings.warn(\n",
      "/home/panyu/miniconda3/envs/sci-data/lib/python3.9/site-packages/xgboost/core.py:122: UserWarning: ntree_limit is deprecated, use `iteration_range` or model slicing instead.\n",
      "  warnings.warn(\n"
     ]
    },
    {
     "name": "stdout",
     "output_type": "stream",
     "text": [
      "[0]\ttrain-auc:0.75367\teval-auc:0.66631\n",
      "[1]\ttrain-auc:0.75812\teval-auc:0.66704\n",
      "[2]\ttrain-auc:0.75774\teval-auc:0.66939\n",
      "[3]\ttrain-auc:0.76509\teval-auc:0.67075\n",
      "[4]\ttrain-auc:0.76496\teval-auc:0.67051\n",
      "[5]\ttrain-auc:0.76764\teval-auc:0.67166\n",
      "[6]\ttrain-auc:0.76791\teval-auc:0.67217\n",
      "[7]\ttrain-auc:0.76971\teval-auc:0.67254\n",
      "[8]\ttrain-auc:0.76829\teval-auc:0.67331\n",
      "[9]\ttrain-auc:0.77070\teval-auc:0.67322\n",
      "finish training & evaluation for P117\n",
      "start training & evaluation for P135\n",
      "[0]\ttrain-auc:0.75291\teval-auc:0.67644\n"
     ]
    },
    {
     "name": "stderr",
     "output_type": "stream",
     "text": [
      "/home/panyu/miniconda3/envs/sci-data/lib/python3.9/site-packages/xgboost/core.py:122: UserWarning: ntree_limit is deprecated, use `iteration_range` or model slicing instead.\n",
      "  warnings.warn(\n",
      "/home/panyu/miniconda3/envs/sci-data/lib/python3.9/site-packages/xgboost/core.py:122: UserWarning: ntree_limit is deprecated, use `iteration_range` or model slicing instead.\n",
      "  warnings.warn(\n"
     ]
    },
    {
     "name": "stdout",
     "output_type": "stream",
     "text": [
      "[1]\ttrain-auc:0.75638\teval-auc:0.67875\n",
      "[2]\ttrain-auc:0.75756\teval-auc:0.67997\n",
      "[3]\ttrain-auc:0.76300\teval-auc:0.68206\n",
      "[4]\ttrain-auc:0.76648\teval-auc:0.68398\n",
      "[5]\ttrain-auc:0.77212\teval-auc:0.68577\n",
      "[6]\ttrain-auc:0.77299\teval-auc:0.68609\n",
      "[7]\ttrain-auc:0.77379\teval-auc:0.68696\n",
      "[8]\ttrain-auc:0.77378\teval-auc:0.68804\n",
      "[9]\ttrain-auc:0.77484\teval-auc:0.68905\n",
      "finish training & evaluation for P135\n",
      "start training & evaluation for P030\n"
     ]
    },
    {
     "name": "stderr",
     "output_type": "stream",
     "text": [
      "/home/panyu/miniconda3/envs/sci-data/lib/python3.9/site-packages/xgboost/core.py:122: UserWarning: ntree_limit is deprecated, use `iteration_range` or model slicing instead.\n",
      "  warnings.warn(\n",
      "/home/panyu/miniconda3/envs/sci-data/lib/python3.9/site-packages/xgboost/core.py:122: UserWarning: ntree_limit is deprecated, use `iteration_range` or model slicing instead.\n",
      "  warnings.warn(\n"
     ]
    },
    {
     "name": "stdout",
     "output_type": "stream",
     "text": [
      "[0]\ttrain-auc:0.75791\teval-auc:0.66375\n",
      "[1]\ttrain-auc:0.75842\teval-auc:0.66431\n",
      "[2]\ttrain-auc:0.76079\teval-auc:0.66526\n",
      "[3]\ttrain-auc:0.76131\teval-auc:0.66569\n",
      "[4]\ttrain-auc:0.76134\teval-auc:0.66491\n",
      "[5]\ttrain-auc:0.76199\teval-auc:0.66570\n",
      "[6]\ttrain-auc:0.76233\teval-auc:0.66542\n",
      "[7]\ttrain-auc:0.76526\teval-auc:0.66805\n",
      "[8]\ttrain-auc:0.76915\teval-auc:0.67104\n",
      "[9]\ttrain-auc:0.77036\teval-auc:0.67160\n",
      "finish training & evaluation for P030\n",
      "start training & evaluation for P067\n"
     ]
    },
    {
     "name": "stderr",
     "output_type": "stream",
     "text": [
      "/home/panyu/miniconda3/envs/sci-data/lib/python3.9/site-packages/xgboost/core.py:122: UserWarning: ntree_limit is deprecated, use `iteration_range` or model slicing instead.\n",
      "  warnings.warn(\n",
      "/home/panyu/miniconda3/envs/sci-data/lib/python3.9/site-packages/xgboost/core.py:122: UserWarning: ntree_limit is deprecated, use `iteration_range` or model slicing instead.\n",
      "  warnings.warn(\n"
     ]
    },
    {
     "name": "stdout",
     "output_type": "stream",
     "text": [
      "[0]\ttrain-auc:0.75386\teval-auc:0.68078\n",
      "[1]\ttrain-auc:0.75719\teval-auc:0.68056\n",
      "[2]\ttrain-auc:0.75854\teval-auc:0.68286\n",
      "[3]\ttrain-auc:0.76363\teval-auc:0.68745\n",
      "[4]\ttrain-auc:0.76334\teval-auc:0.68698\n",
      "[5]\ttrain-auc:0.76460\teval-auc:0.68876\n",
      "[6]\ttrain-auc:0.76510\teval-auc:0.68731\n",
      "[7]\ttrain-auc:0.76646\teval-auc:0.68898\n",
      "[8]\ttrain-auc:0.77020\teval-auc:0.68996\n",
      "[9]\ttrain-auc:0.77061\teval-auc:0.68988\n",
      "finish training & evaluation for P067\n",
      "start training & evaluation for P029\n"
     ]
    },
    {
     "name": "stderr",
     "output_type": "stream",
     "text": [
      "/home/panyu/miniconda3/envs/sci-data/lib/python3.9/site-packages/xgboost/core.py:122: UserWarning: ntree_limit is deprecated, use `iteration_range` or model slicing instead.\n",
      "  warnings.warn(\n",
      "/home/panyu/miniconda3/envs/sci-data/lib/python3.9/site-packages/xgboost/core.py:122: UserWarning: ntree_limit is deprecated, use `iteration_range` or model slicing instead.\n",
      "  warnings.warn(\n"
     ]
    },
    {
     "name": "stdout",
     "output_type": "stream",
     "text": [
      "[0]\ttrain-auc:0.75568\teval-auc:0.67723\n",
      "[1]\ttrain-auc:0.75731\teval-auc:0.67910\n",
      "[2]\ttrain-auc:0.75749\teval-auc:0.68005\n",
      "[3]\ttrain-auc:0.75779\teval-auc:0.67884\n",
      "[4]\ttrain-auc:0.75855\teval-auc:0.68044\n",
      "[5]\ttrain-auc:0.76346\teval-auc:0.68243\n",
      "[6]\ttrain-auc:0.76765\teval-auc:0.68707\n",
      "[7]\ttrain-auc:0.76920\teval-auc:0.68771\n",
      "[8]\ttrain-auc:0.77075\teval-auc:0.68790\n",
      "[9]\ttrain-auc:0.77094\teval-auc:0.68810\n",
      "finish training & evaluation for P029\n",
      "TOTAL All round, ROCAUC0.6756874822445427, LOGLOSS0.6813021360019726, ACCURACY0.6550063983640352, PRECISION0.656661036624538, RECALL0.6430741724118587, F1 MACRO0.6275555344986629, F1 POSITIVE LABEL0.5698889547013403,\n",
      "\n"
     ]
    },
    {
     "name": "stderr",
     "output_type": "stream",
     "text": [
      "/home/panyu/miniconda3/envs/sci-data/lib/python3.9/site-packages/xgboost/core.py:122: UserWarning: ntree_limit is deprecated, use `iteration_range` or model slicing instead.\n",
      "  warnings.warn(\n",
      "/home/panyu/miniconda3/envs/sci-data/lib/python3.9/site-packages/xgboost/core.py:122: UserWarning: ntree_limit is deprecated, use `iteration_range` or model slicing instead.\n",
      "  warnings.warn(\n"
     ]
    }
   ],
   "source": [
    "import xgboost as xgb\n",
    "import random\n",
    "from sklearn.metrics import (roc_auc_score, precision_recall_fscore_support,\n",
    "                             log_loss, accuracy_score, f1_score, precision_score,\n",
    "                             recall_score, roc_curve, auc)\n",
    "import numpy as np\n",
    "import os\n",
    "import pickle\n",
    "import ray\n",
    "import pandas as pd\n",
    "from sklearn.datasets import load_svmlight_file\n",
    "from xgboost import DMatrix\n",
    "\n",
    "\n",
    "def mkdir(path):\n",
    "    path = path.strip()\n",
    "    isExists = os.path.exists(path)\n",
    "    if not isExists:\n",
    "        os.makedirs(path)\n",
    "        return True\n",
    "    else:\n",
    "        return False\n",
    "\n",
    "def find_best_threshold(y_true, y_probs):\n",
    "    best_threshold = 0\n",
    "    best_f1 = 0\n",
    "    thresholds = np.arange(0, 1.01, 0.01)\n",
    "    for threshold in thresholds:\n",
    "        y_pred = (y_probs > threshold).astype(int)\n",
    "        current_f1 = f1_score(y_true, y_pred)\n",
    "        if current_f1 > best_f1:\n",
    "            best_f1 = current_f1\n",
    "            best_threshold = threshold\n",
    "    return best_threshold\n",
    "\n",
    "random.seed(seed)\n",
    "\n",
    "folder = PATH_RESULTS\n",
    "mkdir(folder)\n",
    "data_folder = PATH_SAVE_CALORIES\n",
    "\n",
    "final_total_auc = np.empty(0)\n",
    "final_total_logloss = np.empty(0)\n",
    "final_total_f1_macro = np.empty(0)\n",
    "final_total_f1_pos_label = np.empty(0)\n",
    "final_total_accuracy = np.empty(0)\n",
    "final_total_precision = np.empty(0)\n",
    "final_total_recall = np.empty(0)\n",
    "train_aucs = []\n",
    "test_aucs = []\n",
    "\n",
    "\n",
    "\n",
    "# @ray.remote\n",
    "def train_and_evaluate(subject, param, data_folder):\n",
    "\n",
    "    print(\"start training & evaluation for {}\".format(subject))\n",
    "\n",
    "\n",
    "    # Convert data to DMatrix format for XGBoost\n",
    "    dtrain = xgb.DMatrix(data_folder + '{}_train.data'.format(subject))\n",
    "    dtest = xgb.DMatrix(data_folder + '{}_val.data'.format(subject))\n",
    "    deval = xgb.DMatrix(data_folder + '{}_eval.data'.format(subject))\n",
    "    \n",
    "\n",
    "    evallist = [(dtrain, 'train'), (deval, 'eval')]\n",
    "\n",
    "    # Train the model using standard xgboost\n",
    "    bst = xgb.train(param, dtrain, evals=evallist, early_stopping_rounds=10)\n",
    "    \n",
    "    y_real = dtest.get_label()  # Use the labels directly\n",
    "    y_score = bst.predict(dtest,ntree_limit=bst.best_ntree_limit)\n",
    "#     y_score = bst.predict(dtest)\n",
    "#     best_threshold = find_best_threshold(y_real, y_score)\n",
    "#     y_pred = [1 if score >= best_threshold else 0 for score in y_score]\n",
    "    y_pred = [1 if score >= 0.5 else 0 for score in y_score]\n",
    "\n",
    "    all_roc_auc = roc_auc_score(y_true=y_real, y_score=y_score, average=None)\n",
    "    all_logloss = log_loss(y_real, y_score)\n",
    "    accuracy = accuracy_score(y_real, y_pred)\n",
    "\n",
    "    pre, rec, f1, _ = precision_recall_fscore_support(y_true=y_real, y_pred=y_pred, pos_label=1, average='macro', zero_division=0)\n",
    "    precision = pre\n",
    "    recall = rec\n",
    "    f1_macro = f1\n",
    "\n",
    "    _, _, f1_pos, _ = precision_recall_fscore_support(y_true=y_real, y_pred=y_pred, pos_label=1, average='binary', zero_division=0)\n",
    "    f1_pos_label = f1_pos\n",
    "    print(\"finish training & evaluation for {}\".format(subject))\n",
    "\n",
    "#     return subject, all_roc_auc, all_logloss, accuracy, precision, recall, f1_macro, f1_pos_label\n",
    "\n",
    "    ###############################\n",
    "    # Compute training AUC\n",
    "    y_train_real = dtrain.get_label()\n",
    "    y_train_score = bst.predict(dtrain, ntree_limit=bst.best_ntree_limit)\n",
    "    train_auc = roc_auc_score(y_true=y_train_real, y_score=y_train_score)\n",
    "    \n",
    "    test_auc = all_roc_auc\n",
    "\n",
    "    return subject, train_auc, test_auc, all_logloss, accuracy, precision, recall, f1_macro, f1_pos_label\n",
    " \n",
    "with on_ray():\n",
    "    results = [train_and_evaluate(subject, param, data_folder) for subject in set(all_groups)]\n",
    "#     futures = [train_and_evaluate.remote(subject, param, data_folder) for subject in combined_similarity['pcode'].unique()]\n",
    "#     results = ray.get(futures)\n",
    "\n",
    "    for result in results:\n",
    "         #Retrieving training AUC\n",
    "        subject, train_auc, test_auc, all_logloss, accuracy, precision, recall, f1_macro, f1_pos_label = result\n",
    "        train_aucs.append(train_auc)\n",
    "        test_aucs.append(test_auc)\n",
    "        \n",
    "#         subject, all_roc_auc, all_logloss, accuracy, precision, recall, f1_macro, f1_pos_label = result\n",
    "        # Append to final metric arrays\n",
    "#         final_total_auc = np.append(final_total_auc, all_roc_auc)\n",
    "\n",
    "        final_total_logloss = np.append(final_total_logloss, all_logloss)\n",
    "        final_total_accuracy = np.append(final_total_accuracy, accuracy)\n",
    "        final_total_precision = np.append(final_total_precision, precision)\n",
    "        final_total_recall = np.append(final_total_recall, recall)\n",
    "        final_total_f1_macro = np.append(final_total_f1_macro, f1_macro)\n",
    "        final_total_f1_pos_label = np.append(final_total_f1_pos_label, f1_pos_label)\n",
    "\n",
    "    print(\"TOTAL All round, ROCAUC{}, LOGLOSS{}, ACCURACY{}, PRECISION{}, RECALL{}, F1 MACRO{}, F1 POSITIVE LABEL{},\\n\".format(np.mean(test_aucs), np.mean(final_total_logloss), np.mean(final_total_accuracy), np.mean(final_total_precision), np.mean(final_total_recall), np.mean(final_total_f1_macro), np.mean(final_total_f1_pos_label)))"
   ]
  },
  {
   "cell_type": "code",
   "execution_count": 18,
   "id": "55e1abba",
   "metadata": {},
   "outputs": [
    {
     "data": {
      "image/png": "[encoded data removed]",
      "text/plain": [
       "<Figure size 1000x600 with 1 Axes>"
      ]
     },
     "metadata": {},
     "output_type": "display_data"
    }
   ],
   "source": [
    "import seaborn as sns\n",
    "import matplotlib.pyplot as plt\n",
    "import numpy as np\n",
    "\n",
    "# Assuming 'train_aucs' and 'test_aucs' are lists of AUC scores\n",
    "splits = np.arange(len(train_aucs))  # Assuming splits are sequential and equal to the length of AUC lists\n",
    "\n",
    "# Prepare a DataFrame for Seaborn\n",
    "data = pd.DataFrame({\n",
    "    'Split': np.concatenate([splits, splits]),  # Double the splits for train and test\n",
    "    'AUC': np.concatenate([train_aucs, test_aucs]),  # Combine AUC scores\n",
    "    'Type': ['Train']*len(train_aucs) + ['Test']*len(test_aucs)  # Label types\n",
    "})\n",
    "\n",
    "# Calculate the average values for training and test AUCs\n",
    "avg_train_auc = sum(train_aucs) / len(train_aucs)\n",
    "avg_test_auc = sum(test_aucs) / len(test_aucs)\n",
    "\n",
    "# Set up the matplotlib figure\n",
    "plt.figure(figsize=(10, 6))\n",
    "\n",
    "# Set the color palette to black and white\n",
    "palette = sns.color_palette(\"gray\", n_colors=2)\n",
    "\n",
    "# Draw a line plot with Seaborn\n",
    "sns.lineplot(data=data, x='Split', y='AUC', hue='Type', style='Type', markers=True, dashes=False, palette=palette)\n",
    "\n",
    "# Add average lines for Train and Test AUCs\n",
    "plt.axhline(y=avg_train_auc, color='black', linestyle='--', label=f\"Average Train AUC: {avg_train_auc:.2f}\")\n",
    "plt.axhline(y=avg_test_auc, color='black', linestyle='--', label=f\"Average Test AUC: {avg_test_auc:.2f}\")\n",
    "\n",
    "# Line for random chance performance\n",
    "plt.axhline(y=0.5, color='gray', linestyle='--', label=\"Random\")\n",
    "\n",
    "# Customize the axes and title\n",
    "plt.xlabel('Split')\n",
    "plt.ylabel('AUC')\n",
    "plt.title('Training and Test AUC for All Splits')\n",
    "\n",
    "# Show the legend and customize it to not show the color guide\n",
    "plt.legend(title='Type')\n",
    "\n",
    "# Set the ylim to standardize the AUC view\n",
    "plt.ylim([0, 1])\n",
    "\n",
    "# Display the plot\n",
    "plt.show()\n"
   ]
  },
  {
   "cell_type": "code",
   "execution_count": 19,
   "id": "6a165d24",
   "metadata": {},
   "outputs": [
    {
     "data": {
      "image/png": "[encoded data removed]",
      "text/plain": [
       "<Figure size 1000x600 with 1 Axes>"
      ]
     },
     "metadata": {},
     "output_type": "display_data"
    }
   ],
   "source": [
    "import matplotlib.pyplot as plt\n",
    "\n",
    "# Calculate the average values for training and test AUCs\n",
    "avg_train_auc = sum(train_aucs) / len(train_aucs)\n",
    "avg_test_auc = sum(test_aucs) / len(test_aucs)\n",
    "\n",
    "plt.figure(figsize=(10, 6))\n",
    "plt.plot(train_aucs, label=\"Train AUC\", marker='o')\n",
    "plt.plot(test_aucs, label=\"Test AUC\", marker='x')\n",
    "\n",
    "# Add average lines for Train and Test AUCs\n",
    "plt.axhline(y=avg_train_auc, color='blue', linestyle='--', label=f\"Average Train AUC: {avg_train_auc:.2f}\")\n",
    "plt.axhline(y=avg_test_auc, color='orange', linestyle='--', label=f\"Average Test AUC: {avg_test_auc:.2f}\")\n",
    "\n",
    "# Line for random\n",
    "plt.axhline(y=0.5, color='gray', linestyle='--', label=\"Random\")\n",
    "\n",
    "plt.xlabel('Split')\n",
    "plt.ylabel('AUC')\n",
    "plt.title('Training and Test AUC for All Splits')\n",
    "plt.legend()\n",
    "plt.grid(True)\n",
    "plt.ylim([0, 1])\n",
    "plt.show()\n"
   ]
  },
  {
   "cell_type": "code",
   "execution_count": null,
   "id": "c3352afc",
   "metadata": {},
   "outputs": [],
   "source": []
  },
  {
   "cell_type": "code",
   "execution_count": null,
   "id": "e9824212",
   "metadata": {},
   "outputs": [],
   "source": []
  }
 ],
 "metadata": {
  "kernelspec": {
   "display_name": "sci-data",
   "language": "python",
   "name": "python3"
  },
  "language_info": {
   "codemirror_mode": {
    "name": "ipython",
    "version": 3
   },
   "file_extension": ".py",
   "mimetype": "text/x-python",
   "name": "python",
   "nbconvert_exporter": "python",
   "pygments_lexer": "ipython3",
   "version": "3.9.15"
  }
 },
 "nbformat": 4,
 "nbformat_minor": 5
}
