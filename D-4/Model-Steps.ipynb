{
 "cells": [
  {
   "cell_type": "code",
   "execution_count": 1,
   "id": "acf59c96",
   "metadata": {},
   "outputs": [],
   "source": [
    "from Funcs.Utility import *"
   ]
  },
  {
   "cell_type": "code",
   "execution_count": 2,
   "id": "4f3d137b",
   "metadata": {},
   "outputs": [],
   "source": [
    "LABELS_PROC = pd.read_csv(os.path.join(PATH_INTERMEDIATE, 'labels_1h_esmsyn.csv'), index_col=['pcode','timestamp'],parse_dates=True)\n",
    "PARTICIPANTS = pd.read_csv(os.path.join(PATH_INTERMEDIATE, 'UserInfo.csv'),index_col = 'pcode')"
   ]
  },
  {
   "cell_type": "code",
   "execution_count": 3,
   "id": "0103d768",
   "metadata": {},
   "outputs": [],
   "source": [
    "p = os.path.join(PATH_INTERMEDIATE, 'step_count_binary_personal-15min.pkl')\n",
    "X, y, groups, t, datetimes = load(p)"
   ]
  },
  {
   "cell_type": "code",
   "execution_count": 4,
   "id": "44afc544",
   "metadata": {},
   "outputs": [
    {
     "data": {
      "text/html": [
       "<div>\n",
       "<style scoped>\n",
       "    .dataframe tbody tr th:only-of-type {\n",
       "        vertical-align: middle;\n",
       "    }\n",
       "\n",
       "    .dataframe tbody tr th {\n",
       "        vertical-align: top;\n",
       "    }\n",
       "\n",
       "    .dataframe thead th {\n",
       "        text-align: right;\n",
       "    }\n",
       "</style>\n",
       "<table border=\"1\" class=\"dataframe\">\n",
       "  <thead>\n",
       "    <tr style=\"text-align: right;\">\n",
       "      <th></th>\n",
       "      <th>PIF#participationStartTimestamp</th>\n",
       "      <th>PIF#age</th>\n",
       "      <th>PIF#openness</th>\n",
       "      <th>PIF#conscientiousness</th>\n",
       "      <th>PIF#neuroticism</th>\n",
       "      <th>PIF#extraversion</th>\n",
       "      <th>PIF#agreeableness</th>\n",
       "      <th>PIF#GHQ12</th>\n",
       "      <th>PIF#PSS10</th>\n",
       "      <th>PIF#CESD-R</th>\n",
       "      <th>...</th>\n",
       "      <th>PWR#RLV_SUP_TodayAfternoon</th>\n",
       "      <th>PWR#ETP#_TodayLateAfternoon</th>\n",
       "      <th>PWR#ASC#_TodayLateAfternoon</th>\n",
       "      <th>PWR#RLV_SUP_TodayLateAfternoon</th>\n",
       "      <th>PWR#ETP#_TodayEvening</th>\n",
       "      <th>PWR#ASC#_TodayEvening</th>\n",
       "      <th>PWR#RLV_SUP_TodayEvening</th>\n",
       "      <th>PWR#ETP#_TodayNight</th>\n",
       "      <th>PWR#ASC#_TodayNight</th>\n",
       "      <th>PWR#RLV_SUP_TodayNight</th>\n",
       "    </tr>\n",
       "  </thead>\n",
       "  <tbody>\n",
       "    <tr>\n",
       "      <th>0</th>\n",
       "      <td>1.637712e+12</td>\n",
       "      <td>23.0</td>\n",
       "      <td>11.0</td>\n",
       "      <td>12.0</td>\n",
       "      <td>3.0</td>\n",
       "      <td>10.0</td>\n",
       "      <td>9.0</td>\n",
       "      <td>9.0</td>\n",
       "      <td>11.0</td>\n",
       "      <td>0.0</td>\n",
       "      <td>...</td>\n",
       "      <td>0.0</td>\n",
       "      <td>0.0</td>\n",
       "      <td>0.0</td>\n",
       "      <td>0.0</td>\n",
       "      <td>0.0</td>\n",
       "      <td>0.0</td>\n",
       "      <td>0.0</td>\n",
       "      <td>0.0</td>\n",
       "      <td>0.0</td>\n",
       "      <td>0.0</td>\n",
       "    </tr>\n",
       "    <tr>\n",
       "      <th>1</th>\n",
       "      <td>1.637712e+12</td>\n",
       "      <td>23.0</td>\n",
       "      <td>11.0</td>\n",
       "      <td>12.0</td>\n",
       "      <td>3.0</td>\n",
       "      <td>10.0</td>\n",
       "      <td>9.0</td>\n",
       "      <td>9.0</td>\n",
       "      <td>11.0</td>\n",
       "      <td>0.0</td>\n",
       "      <td>...</td>\n",
       "      <td>0.0</td>\n",
       "      <td>0.0</td>\n",
       "      <td>0.0</td>\n",
       "      <td>0.0</td>\n",
       "      <td>0.0</td>\n",
       "      <td>0.0</td>\n",
       "      <td>0.0</td>\n",
       "      <td>0.0</td>\n",
       "      <td>0.0</td>\n",
       "      <td>0.0</td>\n",
       "    </tr>\n",
       "    <tr>\n",
       "      <th>2</th>\n",
       "      <td>1.637712e+12</td>\n",
       "      <td>23.0</td>\n",
       "      <td>11.0</td>\n",
       "      <td>12.0</td>\n",
       "      <td>3.0</td>\n",
       "      <td>10.0</td>\n",
       "      <td>9.0</td>\n",
       "      <td>9.0</td>\n",
       "      <td>11.0</td>\n",
       "      <td>0.0</td>\n",
       "      <td>...</td>\n",
       "      <td>0.0</td>\n",
       "      <td>0.0</td>\n",
       "      <td>0.0</td>\n",
       "      <td>0.0</td>\n",
       "      <td>0.0</td>\n",
       "      <td>0.0</td>\n",
       "      <td>0.0</td>\n",
       "      <td>0.0</td>\n",
       "      <td>0.0</td>\n",
       "      <td>0.0</td>\n",
       "    </tr>\n",
       "    <tr>\n",
       "      <th>3</th>\n",
       "      <td>1.637712e+12</td>\n",
       "      <td>23.0</td>\n",
       "      <td>11.0</td>\n",
       "      <td>12.0</td>\n",
       "      <td>3.0</td>\n",
       "      <td>10.0</td>\n",
       "      <td>9.0</td>\n",
       "      <td>9.0</td>\n",
       "      <td>11.0</td>\n",
       "      <td>0.0</td>\n",
       "      <td>...</td>\n",
       "      <td>0.0</td>\n",
       "      <td>0.0</td>\n",
       "      <td>0.0</td>\n",
       "      <td>0.0</td>\n",
       "      <td>0.0</td>\n",
       "      <td>0.0</td>\n",
       "      <td>0.0</td>\n",
       "      <td>0.0</td>\n",
       "      <td>0.0</td>\n",
       "      <td>0.0</td>\n",
       "    </tr>\n",
       "    <tr>\n",
       "      <th>4</th>\n",
       "      <td>1.637712e+12</td>\n",
       "      <td>23.0</td>\n",
       "      <td>11.0</td>\n",
       "      <td>12.0</td>\n",
       "      <td>3.0</td>\n",
       "      <td>10.0</td>\n",
       "      <td>9.0</td>\n",
       "      <td>9.0</td>\n",
       "      <td>11.0</td>\n",
       "      <td>0.0</td>\n",
       "      <td>...</td>\n",
       "      <td>0.0</td>\n",
       "      <td>0.0</td>\n",
       "      <td>0.0</td>\n",
       "      <td>0.0</td>\n",
       "      <td>0.0</td>\n",
       "      <td>0.0</td>\n",
       "      <td>0.0</td>\n",
       "      <td>0.0</td>\n",
       "      <td>0.0</td>\n",
       "      <td>0.0</td>\n",
       "    </tr>\n",
       "    <tr>\n",
       "      <th>...</th>\n",
       "      <td>...</td>\n",
       "      <td>...</td>\n",
       "      <td>...</td>\n",
       "      <td>...</td>\n",
       "      <td>...</td>\n",
       "      <td>...</td>\n",
       "      <td>...</td>\n",
       "      <td>...</td>\n",
       "      <td>...</td>\n",
       "      <td>...</td>\n",
       "      <td>...</td>\n",
       "      <td>...</td>\n",
       "      <td>...</td>\n",
       "      <td>...</td>\n",
       "      <td>...</td>\n",
       "      <td>...</td>\n",
       "      <td>...</td>\n",
       "      <td>...</td>\n",
       "      <td>...</td>\n",
       "      <td>...</td>\n",
       "      <td>...</td>\n",
       "    </tr>\n",
       "    <tr>\n",
       "      <th>21614</th>\n",
       "      <td>1.638922e+12</td>\n",
       "      <td>20.0</td>\n",
       "      <td>10.0</td>\n",
       "      <td>8.0</td>\n",
       "      <td>4.0</td>\n",
       "      <td>7.0</td>\n",
       "      <td>14.0</td>\n",
       "      <td>7.0</td>\n",
       "      <td>12.0</td>\n",
       "      <td>4.0</td>\n",
       "      <td>...</td>\n",
       "      <td>0.0</td>\n",
       "      <td>0.0</td>\n",
       "      <td>0.0</td>\n",
       "      <td>0.0</td>\n",
       "      <td>0.0</td>\n",
       "      <td>0.0</td>\n",
       "      <td>0.0</td>\n",
       "      <td>0.0</td>\n",
       "      <td>0.0</td>\n",
       "      <td>0.0</td>\n",
       "    </tr>\n",
       "    <tr>\n",
       "      <th>21615</th>\n",
       "      <td>1.638922e+12</td>\n",
       "      <td>20.0</td>\n",
       "      <td>10.0</td>\n",
       "      <td>8.0</td>\n",
       "      <td>4.0</td>\n",
       "      <td>7.0</td>\n",
       "      <td>14.0</td>\n",
       "      <td>7.0</td>\n",
       "      <td>12.0</td>\n",
       "      <td>4.0</td>\n",
       "      <td>...</td>\n",
       "      <td>0.0</td>\n",
       "      <td>0.0</td>\n",
       "      <td>0.0</td>\n",
       "      <td>0.0</td>\n",
       "      <td>0.0</td>\n",
       "      <td>0.0</td>\n",
       "      <td>0.0</td>\n",
       "      <td>0.0</td>\n",
       "      <td>0.0</td>\n",
       "      <td>0.0</td>\n",
       "    </tr>\n",
       "    <tr>\n",
       "      <th>21616</th>\n",
       "      <td>1.638922e+12</td>\n",
       "      <td>20.0</td>\n",
       "      <td>10.0</td>\n",
       "      <td>8.0</td>\n",
       "      <td>4.0</td>\n",
       "      <td>7.0</td>\n",
       "      <td>14.0</td>\n",
       "      <td>7.0</td>\n",
       "      <td>12.0</td>\n",
       "      <td>4.0</td>\n",
       "      <td>...</td>\n",
       "      <td>0.0</td>\n",
       "      <td>0.0</td>\n",
       "      <td>0.0</td>\n",
       "      <td>0.0</td>\n",
       "      <td>0.0</td>\n",
       "      <td>0.0</td>\n",
       "      <td>0.0</td>\n",
       "      <td>0.0</td>\n",
       "      <td>0.0</td>\n",
       "      <td>0.0</td>\n",
       "    </tr>\n",
       "    <tr>\n",
       "      <th>21617</th>\n",
       "      <td>1.638922e+12</td>\n",
       "      <td>20.0</td>\n",
       "      <td>10.0</td>\n",
       "      <td>8.0</td>\n",
       "      <td>4.0</td>\n",
       "      <td>7.0</td>\n",
       "      <td>14.0</td>\n",
       "      <td>7.0</td>\n",
       "      <td>12.0</td>\n",
       "      <td>4.0</td>\n",
       "      <td>...</td>\n",
       "      <td>0.0</td>\n",
       "      <td>0.0</td>\n",
       "      <td>0.0</td>\n",
       "      <td>0.0</td>\n",
       "      <td>0.0</td>\n",
       "      <td>0.0</td>\n",
       "      <td>0.0</td>\n",
       "      <td>0.0</td>\n",
       "      <td>0.0</td>\n",
       "      <td>0.0</td>\n",
       "    </tr>\n",
       "    <tr>\n",
       "      <th>21618</th>\n",
       "      <td>1.638922e+12</td>\n",
       "      <td>20.0</td>\n",
       "      <td>10.0</td>\n",
       "      <td>8.0</td>\n",
       "      <td>4.0</td>\n",
       "      <td>7.0</td>\n",
       "      <td>14.0</td>\n",
       "      <td>7.0</td>\n",
       "      <td>12.0</td>\n",
       "      <td>4.0</td>\n",
       "      <td>...</td>\n",
       "      <td>0.0</td>\n",
       "      <td>0.0</td>\n",
       "      <td>0.0</td>\n",
       "      <td>0.0</td>\n",
       "      <td>0.0</td>\n",
       "      <td>0.0</td>\n",
       "      <td>0.0</td>\n",
       "      <td>0.0</td>\n",
       "      <td>0.0</td>\n",
       "      <td>0.0</td>\n",
       "    </tr>\n",
       "  </tbody>\n",
       "</table>\n",
       "<p>21619 rows × 2378 columns</p>\n",
       "</div>"
      ],
      "text/plain": [
       "       PIF#participationStartTimestamp  PIF#age  PIF#openness  \\\n",
       "0                         1.637712e+12     23.0          11.0   \n",
       "1                         1.637712e+12     23.0          11.0   \n",
       "2                         1.637712e+12     23.0          11.0   \n",
       "3                         1.637712e+12     23.0          11.0   \n",
       "4                         1.637712e+12     23.0          11.0   \n",
       "...                                ...      ...           ...   \n",
       "21614                     1.638922e+12     20.0          10.0   \n",
       "21615                     1.638922e+12     20.0          10.0   \n",
       "21616                     1.638922e+12     20.0          10.0   \n",
       "21617                     1.638922e+12     20.0          10.0   \n",
       "21618                     1.638922e+12     20.0          10.0   \n",
       "\n",
       "       PIF#conscientiousness  PIF#neuroticism  PIF#extraversion  \\\n",
       "0                       12.0              3.0              10.0   \n",
       "1                       12.0              3.0              10.0   \n",
       "2                       12.0              3.0              10.0   \n",
       "3                       12.0              3.0              10.0   \n",
       "4                       12.0              3.0              10.0   \n",
       "...                      ...              ...               ...   \n",
       "21614                    8.0              4.0               7.0   \n",
       "21615                    8.0              4.0               7.0   \n",
       "21616                    8.0              4.0               7.0   \n",
       "21617                    8.0              4.0               7.0   \n",
       "21618                    8.0              4.0               7.0   \n",
       "\n",
       "       PIF#agreeableness  PIF#GHQ12  PIF#PSS10  PIF#CESD-R  ...  \\\n",
       "0                    9.0        9.0       11.0         0.0  ...   \n",
       "1                    9.0        9.0       11.0         0.0  ...   \n",
       "2                    9.0        9.0       11.0         0.0  ...   \n",
       "3                    9.0        9.0       11.0         0.0  ...   \n",
       "4                    9.0        9.0       11.0         0.0  ...   \n",
       "...                  ...        ...        ...         ...  ...   \n",
       "21614               14.0        7.0       12.0         4.0  ...   \n",
       "21615               14.0        7.0       12.0         4.0  ...   \n",
       "21616               14.0        7.0       12.0         4.0  ...   \n",
       "21617               14.0        7.0       12.0         4.0  ...   \n",
       "21618               14.0        7.0       12.0         4.0  ...   \n",
       "\n",
       "       PWR#RLV_SUP_TodayAfternoon  PWR#ETP#_TodayLateAfternoon  \\\n",
       "0                             0.0                          0.0   \n",
       "1                             0.0                          0.0   \n",
       "2                             0.0                          0.0   \n",
       "3                             0.0                          0.0   \n",
       "4                             0.0                          0.0   \n",
       "...                           ...                          ...   \n",
       "21614                         0.0                          0.0   \n",
       "21615                         0.0                          0.0   \n",
       "21616                         0.0                          0.0   \n",
       "21617                         0.0                          0.0   \n",
       "21618                         0.0                          0.0   \n",
       "\n",
       "       PWR#ASC#_TodayLateAfternoon  PWR#RLV_SUP_TodayLateAfternoon  \\\n",
       "0                              0.0                             0.0   \n",
       "1                              0.0                             0.0   \n",
       "2                              0.0                             0.0   \n",
       "3                              0.0                             0.0   \n",
       "4                              0.0                             0.0   \n",
       "...                            ...                             ...   \n",
       "21614                          0.0                             0.0   \n",
       "21615                          0.0                             0.0   \n",
       "21616                          0.0                             0.0   \n",
       "21617                          0.0                             0.0   \n",
       "21618                          0.0                             0.0   \n",
       "\n",
       "       PWR#ETP#_TodayEvening  PWR#ASC#_TodayEvening  PWR#RLV_SUP_TodayEvening  \\\n",
       "0                        0.0                    0.0                       0.0   \n",
       "1                        0.0                    0.0                       0.0   \n",
       "2                        0.0                    0.0                       0.0   \n",
       "3                        0.0                    0.0                       0.0   \n",
       "4                        0.0                    0.0                       0.0   \n",
       "...                      ...                    ...                       ...   \n",
       "21614                    0.0                    0.0                       0.0   \n",
       "21615                    0.0                    0.0                       0.0   \n",
       "21616                    0.0                    0.0                       0.0   \n",
       "21617                    0.0                    0.0                       0.0   \n",
       "21618                    0.0                    0.0                       0.0   \n",
       "\n",
       "       PWR#ETP#_TodayNight  PWR#ASC#_TodayNight  PWR#RLV_SUP_TodayNight  \n",
       "0                      0.0                  0.0                     0.0  \n",
       "1                      0.0                  0.0                     0.0  \n",
       "2                      0.0                  0.0                     0.0  \n",
       "3                      0.0                  0.0                     0.0  \n",
       "4                      0.0                  0.0                     0.0  \n",
       "...                    ...                  ...                     ...  \n",
       "21614                  0.0                  0.0                     0.0  \n",
       "21615                  0.0                  0.0                     0.0  \n",
       "21616                  0.0                  0.0                     0.0  \n",
       "21617                  0.0                  0.0                     0.0  \n",
       "21618                  0.0                  0.0                     0.0  \n",
       "\n",
       "[21619 rows x 2378 columns]"
      ]
     },
     "execution_count": 4,
     "metadata": {},
     "output_type": "execute_result"
    }
   ],
   "source": [
    "X"
   ]
  },
  {
   "cell_type": "code",
   "execution_count": 5,
   "id": "deb6e277",
   "metadata": {},
   "outputs": [],
   "source": [
    "#Divide the features into different categories\n",
    "feat_current = X.loc[:,[('#VAL' in str(x)) or ('ESM#LastLabel' in str(x)) for x in X.keys()]]  \n",
    "feat_dsc = X.loc[:,[('#DSC' in str(x))  for x in X.keys()]]  \n",
    "feat_yesterday = X.loc[:,[('Yesterday' in str(x))  for x in X.keys()]]  \n",
    "feat_today = X.loc[:,[('Today' in str(x))  for x in X.keys()]]  \n",
    "feat_sleep = X.loc[:,[('Sleep' in str(x))  for x in X.keys()]]  \n",
    "feat_time = X.loc[:,[('Time' in str(x))  for x in X.keys()]]  \n",
    "feat_pif = X.loc[:,[('PIF' in str(x))  for x in X.keys()]]  \n",
    "feat_ImmediatePast = X.loc[:,[('ImmediatePast_15' in str(x))  for x in X.keys()]]\n",
    "#Divide the time window features into sensor/past stress label\n",
    "feat_current_sensor = X.loc[:,[('#VAL' in str(x))  for x in X.keys()]]  \n",
    "feat_current_ESM = X.loc[:,[('ESM#LastLabel' in str(x)) for x in X.keys()]]  \n",
    "feat_ImmediatePast_sensor = feat_ImmediatePast.loc[:,[('ESM' not in str(x)) for x in feat_ImmediatePast.keys()]]  \n",
    "feat_ImmediatePast_ESM = feat_ImmediatePast.loc[:,[('ESM'  in str(x)) for x in feat_ImmediatePast.keys()]]  \n",
    "feat_today_sensor = feat_today.loc[:,[('ESM' not in str(x))  for x in feat_today.keys()]]  \n",
    "feat_today_ESM = feat_today.loc[:,[('ESM'  in str(x)) for x in feat_today.keys()]]  \n",
    "feat_yesterday_sensor = feat_yesterday.loc[:,[('ESM' not in str(x)) for x in feat_yesterday.keys()]]  \n",
    "feat_yesterday_ESM = feat_yesterday.loc[:,[('ESM'  in str(x)) for x in feat_yesterday.keys()]]"
   ]
  },
  {
   "cell_type": "code",
   "execution_count": 6,
   "id": "a3f12f04",
   "metadata": {},
   "outputs": [],
   "source": [
    "feat_baseline = pd.concat([ feat_time,feat_dsc,feat_current_sensor, feat_ImmediatePast_sensor],axis=1)\n",
    "feat_final = pd.concat([feat_baseline  ], axis=1)\n",
    "# # Fill NaN values with zeros\n",
    "feat_final = feat_final.fillna(0)\n",
    "X = feat_final\n",
    "cats = X.columns[X.dtypes == bool]"
   ]
  },
  {
   "cell_type": "code",
   "execution_count": 7,
   "id": "52df0dce",
   "metadata": {},
   "outputs": [],
   "source": [
    "from sklearn.feature_selection import SelectFromModel\n",
    "from sklearn.linear_model import LogisticRegression\n",
    "from sklearn.base import clone\n",
    "\n",
    "normalize =True\n",
    "# Feature selection method\n",
    "selector = SelectFromModel(\n",
    "        estimator=LogisticRegression(penalty='l1', solver='liblinear', C=1, random_state=seed, max_iter=4000),\n",
    "        threshold=0.005\n",
    "#         estimator=LinearSVC(\n",
    "#         penalty='l1',\n",
    "#         loss='squared_hinge',\n",
    "#         dual=False,\n",
    "#         tol=1e-3,\n",
    "#         C=1e-2,\n",
    "#         max_iter=5000,\n",
    "#         random_state=RANDOM_STATE\n",
    "#     )  \n",
    "    )\n",
    "select = [clone(selector)]\n",
    "oversample = True"
   ]
  },
  {
   "cell_type": "code",
   "execution_count": 8,
   "id": "fda5c5d0",
   "metadata": {},
   "outputs": [],
   "source": [
    "import os\n",
    "import pandas as pd\n",
    "import numpy as np\n",
    "import ray\n",
    "from sklearn.model_selection import LeaveOneGroupOut\n",
    "from sklearn.feature_selection import SelectFromModel\n",
    "from sklearn.linear_model import LogisticRegression\n",
    "from sklearn.svm import LinearSVC\n",
    "from imblearn.over_sampling import SMOTENC, SMOTE\n",
    "from tqdm import tqdm\n",
    "from sklearn.model_selection import StratifiedGroupKFold, GroupKFold, KFold, TimeSeriesSplit, LeavePGroupsOut, train_test_split, GroupShuffleSplit\n",
    "from sklearn.preprocessing import StandardScaler, OrdinalEncoder, OneHotEncoder\n",
    "\n",
    "\n",
    "\n",
    "def get_cv_splits(cv_strategy, data, labels, groups=None):\n",
    "    \"\"\"\n",
    "    Returns the train-test splits based on the chosen cross-validation strategy.\n",
    "    \"\"\"\n",
    "    if cv_strategy == 'loso':\n",
    "        cv = LeaveOneGroupOut()\n",
    "        return cv.split(data, labels, groups)\n",
    "    elif cv_strategy == 'group_k_fold':\n",
    "        cv = GroupKFold(n_splits=5)  # You can adjust the number of splits\n",
    "        return cv.split(data, labels, groups)\n",
    "    elif cv_strategy == 'k_fold':\n",
    "        cv = KFold(n_splits=5)  # You can adjust the number of splits\n",
    "        return cv.split(data)\n",
    "    elif cv_strategy == 'time_series':\n",
    "        cv = TimeSeriesSplit(n_splits=5)  # You can adjust the number of splits\n",
    "        return cv.split(data)\n",
    "    else:\n",
    "        raise ValueError(f\"Unknown CV strategy: {cv_strategy}\")\n",
    "\n",
    "\n",
    "def get_categorical_features_indices(df):\n",
    "    return [i for i, col in enumerate(df.columns) if df[col].nunique() <= 10]\n",
    "\n",
    "def exclude_low_variance(agg_feature, threshold=.0000001):\n",
    "    agg_feature_non_zero_var = agg_feature.loc[:,agg_feature.var()>threshold]\n",
    "    num_removed = agg_feature.shape[1]-agg_feature_non_zero_var.shape[1]\n",
    "    print(f'{num_removed}/{agg_feature.shape[1]} features with variance < {threshold} removed')\n",
    "    return agg_feature_non_zero_var\n",
    "\n",
    "def remove_pairwise_corr(agg_feature_percent_missing, PAIRWISE_CORR_THRESHOLD=0.8, outcome_variable=None):\n",
    "    if outcome_variable is not None:\n",
    "        outcome_variable = pd.Series(outcome_variable, index=agg_feature_percent_missing.index, name=\"outcome\")\n",
    "        corr_with_outcome = pd.merge(outcome_variable, agg_feature_percent_missing, left_index=True, right_index=True).corr()[outcome_variable.name].abs().sort_values(ascending=False)\n",
    "        importance_order = corr_with_outcome.index[1:].tolist()\n",
    "        agg_feature_percent_missing = agg_feature_percent_missing[importance_order]\n",
    "\n",
    "    Matrix = agg_feature_percent_missing.corr().abs()\n",
    "    \n",
    "    upper_triangle = Matrix.where(np.triu(np.ones(Matrix.shape), k=1).astype(bool))\n",
    "\n",
    "    correlated_features = set()\n",
    "    for feature in upper_triangle.columns:\n",
    "        highly_correlated = upper_triangle[feature][upper_triangle[feature] > PAIRWISE_CORR_THRESHOLD].index\n",
    "        correlated_features.update(highly_correlated)\n",
    "\n",
    "    kept_features = list(set(agg_feature_percent_missing.columns) - correlated_features)\n",
    "    print(f\"Pairwise Corr: kept only {len(kept_features)}/{len(agg_feature_percent_missing.columns)} features\")\n",
    "    return agg_feature_percent_missing[kept_features]\n",
    "\n",
    "\n",
    "\n",
    "# Feature selection method\n",
    "def feature_selector(X_train, y_train):\n",
    "    selector = SelectFromModel(\n",
    "        estimator=LogisticRegression(penalty='l1', solver='liblinear', C=1, random_state=seed, max_iter=4000),\n",
    "        threshold=0.005\n",
    "#         estimator=LinearSVC(\n",
    "#         penalty='l1',\n",
    "#         loss='squared_hinge',\n",
    "#         dual=False,\n",
    "#         tol=1e-3,\n",
    "#         C=1e-2,\n",
    "#         max_iter=5000,\n",
    "#         random_state=RANDOM_STATE\n",
    "#     )\n",
    "    \n",
    "    )\n",
    "    selector.fit(X_train, y_train)\n",
    "    return selector\n",
    "\n",
    "def split_train_test(df, labels, train_idx, test_idx):\n",
    "    X_train = df.iloc[train_idx]\n",
    "    y_train = labels[train_idx]\n",
    "    X_test = df.iloc[test_idx]\n",
    "    y_test = labels[test_idx]\n",
    "    return X_train, y_train, X_test, y_test\n",
    "\n",
    "def process_dataframe(X):\n",
    "    \"\"\"\n",
    "    Process the input DataFrame 'X':\n",
    "    1. Set column names as a range from 0 to the number of columns.\n",
    "    2. Replace boolean values with 1 for True and 0 for False.\n",
    "\n",
    "    Parameters:\n",
    "        X (pandas.DataFrame): The input DataFrame.\n",
    "\n",
    "    Returns:\n",
    "        pandas.DataFrame: The processed DataFrame.\n",
    "    \"\"\"\n",
    "    # Set column names as a range from 0 to the number of columns\n",
    "    X.columns = range(X.shape[1])\n",
    "\n",
    "    # Replace boolean values with 1 for True and 0 for False\n",
    "#     X = X * 1\n",
    "\n",
    "    return X\n",
    "\n",
    "def save_data_to_data_file(X, y, filename):\n",
    "    if not os.path.exists(PATH_SAVE_STEPS):\n",
    "        os.makedirs(PATH_SAVE_STEPS)\n",
    "\n",
    "    file_path = os.path.join(PATH_SAVE_STEPS, filename)\n",
    "\n",
    "    with open(file_path, 'w') as f:\n",
    "        for i in range(len(X)):\n",
    "            # Check if y is a numpy array or dataframe\n",
    "            label = y[i] if isinstance(y, np.ndarray) else y.iloc[i].values[0]\n",
    "            \n",
    "            # Start building the line with the label\n",
    "            line = str(label)\n",
    "            \n",
    "            # Iterate through columns of X\n",
    "            for col_idx, value in enumerate(X[i] if isinstance(X, np.ndarray) else X.iloc[i]):\n",
    "                line += \" {}:{}\".format(col_idx, value)\n",
    "            \n",
    "            f.write(line + '\\n')"
   ]
  },
  {
   "cell_type": "code",
   "execution_count": 9,
   "id": "ee08aea0",
   "metadata": {},
   "outputs": [],
   "source": [
    "import os\n",
    "import pandas as pd\n",
    "import numpy as np\n",
    "import ray\n",
    "from sklearn.model_selection import LeaveOneGroupOut\n",
    "from sklearn.feature_selection import SelectFromModel\n",
    "from sklearn.linear_model import LogisticRegression\n",
    "from sklearn.svm import LinearSVC\n",
    "from imblearn.over_sampling import SMOTENC, SMOTE\n",
    "from tqdm import tqdm\n",
    "from sklearn.model_selection import StratifiedGroupKFold, GroupKFold, KFold, TimeSeriesSplit, LeavePGroupsOut, train_test_split, GroupShuffleSplit\n",
    "from sklearn.preprocessing import StandardScaler, OrdinalEncoder, OneHotEncoder\n",
    "\n",
    "\n",
    "\n",
    "def get_cv_splits(cv_strategy, data, labels, groups=None):\n",
    "    \"\"\"\n",
    "    Returns the train-test splits based on the chosen cross-validation strategy.\n",
    "    \"\"\"\n",
    "    if cv_strategy == 'loso':\n",
    "        cv = LeaveOneGroupOut()\n",
    "        return cv.split(data, labels, groups)\n",
    "    elif cv_strategy == 'group_k_fold':\n",
    "        cv = GroupKFold(n_splits=5)  # You can adjust the number of splits\n",
    "        return cv.split(data, labels, groups)\n",
    "    elif cv_strategy == 'k_fold':\n",
    "        cv = KFold(n_splits=5)  # You can adjust the number of splits\n",
    "        return cv.split(data)\n",
    "    elif cv_strategy == 'time_series':\n",
    "        cv = TimeSeriesSplit(n_splits=5)  # You can adjust the number of splits\n",
    "        return cv.split(data)\n",
    "    else:\n",
    "        raise ValueError(f\"Unknown CV strategy: {cv_strategy}\")\n",
    "\n",
    "\n",
    "def get_categorical_features_indices(df):\n",
    "    return [i for i, col in enumerate(df.columns) if df[col].nunique() <= 10]\n",
    "\n",
    "def exclude_low_variance(agg_feature, threshold=.0000001):\n",
    "    agg_feature_non_zero_var = agg_feature.loc[:,agg_feature.var()>threshold]\n",
    "    num_removed = agg_feature.shape[1]-agg_feature_non_zero_var.shape[1]\n",
    "    print(f'{num_removed}/{agg_feature.shape[1]} features with variance < {threshold} removed')\n",
    "    return agg_feature_non_zero_var\n",
    "\n",
    "def remove_pairwise_corr(agg_feature_percent_missing, PAIRWISE_CORR_THRESHOLD=0.8, outcome_variable=None):\n",
    "    if outcome_variable is not None:\n",
    "        outcome_variable = pd.Series(outcome_variable, index=agg_feature_percent_missing.index, name=\"outcome\")\n",
    "        corr_with_outcome = pd.merge(outcome_variable, agg_feature_percent_missing, left_index=True, right_index=True).corr()[outcome_variable.name].abs().sort_values(ascending=False)\n",
    "        importance_order = corr_with_outcome.index[1:].tolist()\n",
    "        agg_feature_percent_missing = agg_feature_percent_missing[importance_order]\n",
    "\n",
    "    Matrix = agg_feature_percent_missing.corr().abs()\n",
    "    \n",
    "    upper_triangle = Matrix.where(np.triu(np.ones(Matrix.shape), k=1).astype(bool))\n",
    "\n",
    "    correlated_features = set()\n",
    "    for feature in upper_triangle.columns:\n",
    "        highly_correlated = upper_triangle[feature][upper_triangle[feature] > PAIRWISE_CORR_THRESHOLD].index\n",
    "        correlated_features.update(highly_correlated)\n",
    "\n",
    "    kept_features = list(set(agg_feature_percent_missing.columns) - correlated_features)\n",
    "    print(f\"Pairwise Corr: kept only {len(kept_features)}/{len(agg_feature_percent_missing.columns)} features\")\n",
    "    return agg_feature_percent_missing[kept_features]\n",
    "\n",
    "\n",
    "\n",
    "# Feature selection method\n",
    "def feature_selector(X_train, y_train):\n",
    "    selector = SelectFromModel(\n",
    "        estimator=LogisticRegression(penalty='l1', solver='liblinear', C=1, random_state=seed, max_iter=4000),\n",
    "        threshold=0.005\n",
    "#         estimator=LinearSVC(\n",
    "#         penalty='l1',\n",
    "#         loss='squared_hinge',\n",
    "#         dual=False,\n",
    "#         tol=1e-3,\n",
    "#         C=1e-2,\n",
    "#         max_iter=5000,\n",
    "#         random_state=RANDOM_STATE\n",
    "#     )\n",
    "    \n",
    "    )\n",
    "    selector.fit(X_train, y_train)\n",
    "    return selector\n",
    "\n",
    "def split_train_test(df, labels, train_idx, test_idx):\n",
    "    X_train = df.iloc[train_idx]\n",
    "    y_train = labels[train_idx]\n",
    "    X_test = df.iloc[test_idx]\n",
    "    y_test = labels[test_idx]\n",
    "    return X_train, y_train, X_test, y_test\n",
    "\n",
    "\n",
    "\n",
    "# @ray.remote\n",
    "# # def process_and_save_split(train_idx, test_idx, all_data, all_labels, all_groups, process_dataframe, save_data_to_data_file, C_cat, C_num, select):\n",
    "# def process_and_save_split(train_idx, test_idx, all_data, all_labels, all_groups, process_dataframe, save_data_to_data_file):\n",
    "#     X_train, y_train, X_test, y_test = split_train_test(all_data, all_labels, train_idx, test_idx)\n",
    "    \n",
    "# #     # Use LOSO to split the training set further into training and evaluation sets\n",
    "# #     loso = LeaveOneGroupOut()\n",
    "# #     train_indices, eval_indices = next(loso.split(X_train, y_train, groups=all_groups[train_idx]))    \n",
    "# #     X_eval, y_eval = X_train.iloc[eval_indices], y_train[eval_indices]\n",
    "# #     X_train, y_train = X_train.iloc[train_indices], y_train[train_indices]\n",
    "    \n",
    "#     # Split 20% of training set as eval set\n",
    "#     X_train, X_eval, y_train, y_eval = train_test_split(X_train, y_train, test_size=0.2, random_state=RANDOM_STATE)\n",
    "\n",
    "# #     # Split 20% of training set as eval set based on groups\n",
    "# #     gss = GroupShuffleSplit(test_size=0.2, random_state=RANDOM_STATE)\n",
    "# #     train_inds, eval_inds = next(gss.split(X_train, y_train, groups=all_groups[train_idx]))\n",
    "# #     X_eval, y_eval = X_train.iloc[eval_inds], y_train[eval_inds]\n",
    "# #     X_train, y_train = X_train.iloc[train_inds], y_train[train_inds]\n",
    "    \n",
    "#     # Apply SMOTENC\n",
    "#     smote_nc = SMOTENC(categorical_features=get_categorical_features_indices(X_train), random_state=RANDOM_STATE)\n",
    "#     X_train, y_train = smote_nc.fit_resample(X_train, y_train)\n",
    "    \n",
    "# #     #Removing low variance features\n",
    "# #     X_train = exclude_low_variance(X_train)\n",
    "# #     X_test = X_test[X_train.columns]  # Keep only the selected features in the test set\n",
    "\n",
    "# #     #Removing highly correlated features\n",
    "# #     X_train = remove_pairwise_corr(X_train, outcome_variable= y_train)\n",
    "# #     X_test = X_test[X_train.columns]  # Keep only the selected features in the test set\n",
    "    \n",
    "#     # Capture indices \n",
    "#     train_indices = X_train.index\n",
    "#     eval_indices = X_eval.index\n",
    "#     test_indices = X_test.index\n",
    "    \n",
    "#     # Before feature selection, capture the columns\n",
    "#     current_columns = X_train.columns\n",
    "    \n",
    "#     # Feature selection\n",
    "#     selector = feature_selector(X_train, y_train)\n",
    "#     X_train = selector.transform(X_train)\n",
    "#     X_eval = selector.transform(X_eval)\n",
    "#     X_test = selector.transform(X_test)\n",
    "\n",
    "#     # Use the captured columns to get the selected columns\n",
    "#     selected_columns = current_columns[selector.get_support()]\n",
    "    \n",
    "#     X_train = pd.DataFrame(X_train, columns=selected_columns, index=train_indices)\n",
    "#     X_eval = pd.DataFrame(X_eval, columns=selected_columns, index=eval_indices)\n",
    "#     X_test = pd.DataFrame(X_test, columns=selected_columns, index=test_indices)\n",
    "\n",
    "    \n",
    "#     # Process dataframes\n",
    "#     X_train = process_dataframe(X_train)\n",
    "#     X_eval = process_dataframe(X_eval)\n",
    "#     X_test = process_dataframe(X_test)\n",
    "\n",
    "#     subject = all_groups[test_idx[0]]\n",
    "\n",
    "#     save_data_to_data_file(X_train, y_train, f'{subject}_train.data')\n",
    "#     save_data_to_data_file(X_eval, y_eval, f'{subject}_eval.data')\n",
    "#     save_data_to_data_file(X_test, y_test, f'{subject}_val.data')\n",
    "\n",
    "@ray.remote\n",
    "def process_and_save_split(train_idx, test_idx, all_data, all_labels, all_groups, process_dataframe, save_data_to_data_file, C_cat, C_num, select):\n",
    "    X_train, y_train, X_test, y_test = split_train_test(all_data, all_labels, train_idx, test_idx)\n",
    "    \n",
    "\n",
    "#     #Leave n subject out\n",
    "#     n = 4  # Number of groups to leave out\n",
    "#     # Use LNGO to split the training set further into training and evaluation sets\n",
    "#     lngo = LeavePGroupsOut(n_groups=n)\n",
    "#     train_indices, eval_indices = next(lngo.split(X_train, y_train, groups=all_groups[train_idx]))    \n",
    "#     X_eval, y_eval = X_train.iloc[eval_indices].copy(), y_train[eval_indices].copy()\n",
    "#     X_train, y_train = X_train.iloc[train_indices].copy(), y_train[train_indices].copy()\n",
    "\n",
    "    \n",
    "#     # Use LOSO to split the training set further into training and evaluation sets\n",
    "#     loso = LeaveOneGroupOut()\n",
    "#     train_indices, eval_indices = next(loso.split(X_train, y_train, groups=all_groups[train_idx]))    \n",
    "#     X_eval, y_eval = X_train.iloc[eval_indices].copy(), y_train[eval_indices].copy()\n",
    "#     X_train, y_train = X_train.iloc[train_indices].copy(), y_train[train_indices].copy()\n",
    "\n",
    "\n",
    "#     # Initialize the stratified group k-fold splitter\n",
    "#     sgkf = StratifiedGroupKFold(n_splits=5, random_state=RANDOM_STATE, shuffle=True)\n",
    "#     # Get the train and eval indices\n",
    "#     train_inds, eval_inds = next(sgkf.split(X_train, y_train, groups=all_groups[train_idx]))\n",
    "#     X_eval, y_eval = X_train.iloc[eval_inds], y_train[eval_inds]\n",
    "#     X_train, y_train = X_train.iloc[train_inds], y_train[train_inds]\n",
    "\n",
    "    \n",
    "    # Split 20% of training set as eval set\n",
    "    X_train, X_eval, y_train, y_eval = train_test_split(X_train, y_train, test_size=0.2, random_state=RANDOM_STATE,  stratify=y_train)\n",
    "\n",
    "#     # Split 20% of training set as eval set based on groups\n",
    "#     gss = GroupShuffleSplit(test_size=0.2, random_state=RANDOM_STATE)\n",
    "#     train_inds, eval_inds = next(gss.split(X_train, y_train, groups=all_groups[train_idx]))\n",
    "#     X_eval, y_eval = X_train.iloc[eval_inds], y_train[eval_inds]\n",
    "#     X_train, y_train = X_train.iloc[train_inds], y_train[train_inds]\n",
    "\n",
    "    if normalize:\n",
    "        # Normalize numeric features\n",
    "        scaler = StandardScaler().fit(X_train[C_num])\n",
    "        X_train[C_num] = scaler.transform(X_train[C_num].copy())\n",
    "        X_eval[C_num] = scaler.transform(X_eval[C_num].copy())\n",
    "        X_test[C_num] = scaler.transform(X_test[C_num].copy())\n",
    "\n",
    "    if select:\n",
    "        if isinstance(select, SelectFromModel):\n",
    "            select = [select]\n",
    "            \n",
    "        for i, s in enumerate(select):\n",
    "            # Fit feature selector only on training data\n",
    "            s.fit(X_train, y_train)\n",
    "            selected_features = X_train.columns[s.get_support()]\n",
    "            \n",
    "            # Apply feature selection to train, eval, and test\n",
    "            X_train = X_train[selected_features].copy()\n",
    "            X_eval = X_eval[selected_features].copy()\n",
    "            X_test = X_test[selected_features].copy()\n",
    "\n",
    "    if oversample:\n",
    "        # Determine categorical features for SMOTENC\n",
    "        if len(C_cat):\n",
    "            M = np.isin(X_train.columns, C_cat)\n",
    "            sampler = SMOTENC(categorical_features=M, random_state=seed)\n",
    "        else:\n",
    "            sampler = SMOTE(random_state=seed)\n",
    "        # Only oversample training data\n",
    "        X_train, y_train = sampler.fit_resample(X_train, y_train)\n",
    "    \n",
    "    # Apply consistent processing to train, eval, and test dataframes\n",
    "    X_train = process_dataframe(X_train)\n",
    "    X_eval = process_dataframe(X_eval)\n",
    "    X_test = process_dataframe(X_test)\n",
    "\n",
    "    subject = all_groups[test_idx[0]]\n",
    "\n",
    "    # Save processed data to files\n",
    "    save_data_to_data_file(X_train, y_train, f'{subject}_train.data')\n",
    "    save_data_to_data_file(X_eval, y_eval, f'{subject}_eval.data')\n",
    "    save_data_to_data_file(X_test, y_test, f'{subject}_val.data')\n"
   ]
  },
  {
   "cell_type": "code",
   "execution_count": 10,
   "id": "d4e53875",
   "metadata": {},
   "outputs": [],
   "source": [
    "# Create a full dataset and corresponding labels and groups\n",
    "all_data = X\n",
    "all_labels = y\n",
    "all_groups = groups"
   ]
  },
  {
   "cell_type": "code",
   "execution_count": 11,
   "id": "7f376cb9",
   "metadata": {
    "scrolled": true
   },
   "outputs": [
    {
     "name": "stderr",
     "output_type": "stream",
     "text": [
      "2024-07-25 18:19:45,407\tINFO worker.py:1612 -- Started a local Ray instance. View the dashboard at \u001b[1m\u001b[32m127.0.0.1:8265 \u001b[39m\u001b[22m\n",
      "\u001b[2m\u001b[36m(process_and_save_split pid=2314141)\u001b[0m /tmp/ipykernel_2313902/632661198.py:203: SettingWithCopyWarning: \n",
      "\u001b[2m\u001b[36m(process_and_save_split pid=2314141)\u001b[0m A value is trying to be set on a copy of a slice from a DataFrame.\n",
      "\u001b[2m\u001b[36m(process_and_save_split pid=2314141)\u001b[0m Try using .loc[row_indexer,col_indexer] = value instead\n",
      "\u001b[2m\u001b[36m(process_and_save_split pid=2314141)\u001b[0m \n",
      "\u001b[2m\u001b[36m(process_and_save_split pid=2314141)\u001b[0m See the caveats in the documentation: https://pandas.pydata.org/pandas-docs/stable/user_guide/indexing.html#returning-a-view-versus-a-copy\n",
      "\u001b[2m\u001b[36m(process_and_save_split pid=2314143)\u001b[0m /tmp/ipykernel_2313902/632661198.py:203: SettingWithCopyWarning: \u001b[32m [repeated 16x across cluster] (Ray deduplicates logs by default. Set RAY_DEDUP_LOGS=0 to disable log deduplication, or see https://docs.ray.io/en/master/ray-observability/ray-logging.html#log-deduplication for more options.)\u001b[0m\n",
      "\u001b[2m\u001b[36m(process_and_save_split pid=2314143)\u001b[0m A value is trying to be set on a copy of a slice from a DataFrame.\u001b[32m [repeated 16x across cluster]\u001b[0m\n",
      "\u001b[2m\u001b[36m(process_and_save_split pid=2314143)\u001b[0m Try using .loc[row_indexer,col_indexer] = value instead\u001b[32m [repeated 16x across cluster]\u001b[0m\n",
      "\u001b[2m\u001b[36m(process_and_save_split pid=2314143)\u001b[0m \u001b[32m [repeated 16x across cluster]\u001b[0m\n",
      "\u001b[2m\u001b[36m(process_and_save_split pid=2314143)\u001b[0m See the caveats in the documentation: https://pandas.pydata.org/pandas-docs/stable/user_guide/indexing.html#returning-a-view-versus-a-copy\u001b[32m [repeated 16x across cluster]\u001b[0m\n",
      "\u001b[2m\u001b[36m(process_and_save_split pid=2314148)\u001b[0m /tmp/ipykernel_2313902/632661198.py:203: SettingWithCopyWarning: \u001b[32m [repeated 4x across cluster]\u001b[0m\n",
      "\u001b[2m\u001b[36m(process_and_save_split pid=2314148)\u001b[0m A value is trying to be set on a copy of a slice from a DataFrame.\u001b[32m [repeated 4x across cluster]\u001b[0m\n",
      "\u001b[2m\u001b[36m(process_and_save_split pid=2314148)\u001b[0m Try using .loc[row_indexer,col_indexer] = value instead\u001b[32m [repeated 4x across cluster]\u001b[0m\n",
      "\u001b[2m\u001b[36m(process_and_save_split pid=2314148)\u001b[0m \u001b[32m [repeated 4x across cluster]\u001b[0m\n",
      "\u001b[2m\u001b[36m(process_and_save_split pid=2314148)\u001b[0m See the caveats in the documentation: https://pandas.pydata.org/pandas-docs/stable/user_guide/indexing.html#returning-a-view-versus-a-copy\u001b[32m [repeated 4x across cluster]\u001b[0m\n",
      "\u001b[2m\u001b[36m(process_and_save_split pid=2314141)\u001b[0m /tmp/ipykernel_2313902/632661198.py:203: SettingWithCopyWarning: \u001b[32m [repeated 3x across cluster]\u001b[0m\n",
      "\u001b[2m\u001b[36m(process_and_save_split pid=2314141)\u001b[0m A value is trying to be set on a copy of a slice from a DataFrame.\u001b[32m [repeated 3x across cluster]\u001b[0m\n",
      "\u001b[2m\u001b[36m(process_and_save_split pid=2314141)\u001b[0m Try using .loc[row_indexer,col_indexer] = value instead\u001b[32m [repeated 3x across cluster]\u001b[0m\n",
      "\u001b[2m\u001b[36m(process_and_save_split pid=2314141)\u001b[0m \u001b[32m [repeated 3x across cluster]\u001b[0m\n",
      "\u001b[2m\u001b[36m(process_and_save_split pid=2314141)\u001b[0m See the caveats in the documentation: https://pandas.pydata.org/pandas-docs/stable/user_guide/indexing.html#returning-a-view-versus-a-copy\u001b[32m [repeated 3x across cluster]\u001b[0m\n",
      "\u001b[2m\u001b[36m(process_and_save_split pid=2314138)\u001b[0m /tmp/ipykernel_2313902/632661198.py:203: SettingWithCopyWarning: \u001b[32m [repeated 2x across cluster]\u001b[0m\n",
      "\u001b[2m\u001b[36m(process_and_save_split pid=2314138)\u001b[0m A value is trying to be set on a copy of a slice from a DataFrame.\u001b[32m [repeated 2x across cluster]\u001b[0m\n",
      "\u001b[2m\u001b[36m(process_and_save_split pid=2314138)\u001b[0m Try using .loc[row_indexer,col_indexer] = value instead\u001b[32m [repeated 2x across cluster]\u001b[0m\n",
      "\u001b[2m\u001b[36m(process_and_save_split pid=2314138)\u001b[0m \u001b[32m [repeated 2x across cluster]\u001b[0m\n",
      "\u001b[2m\u001b[36m(process_and_save_split pid=2314138)\u001b[0m See the caveats in the documentation: https://pandas.pydata.org/pandas-docs/stable/user_guide/indexing.html#returning-a-view-versus-a-copy\u001b[32m [repeated 2x across cluster]\u001b[0m\n",
      "\u001b[2m\u001b[36m(process_and_save_split pid=2314149)\u001b[0m /tmp/ipykernel_2313902/632661198.py:203: SettingWithCopyWarning: \u001b[32m [repeated 5x across cluster]\u001b[0m\n",
      "\u001b[2m\u001b[36m(process_and_save_split pid=2314149)\u001b[0m A value is trying to be set on a copy of a slice from a DataFrame.\u001b[32m [repeated 5x across cluster]\u001b[0m\n",
      "\u001b[2m\u001b[36m(process_and_save_split pid=2314149)\u001b[0m Try using .loc[row_indexer,col_indexer] = value instead\u001b[32m [repeated 5x across cluster]\u001b[0m\n",
      "\u001b[2m\u001b[36m(process_and_save_split pid=2314149)\u001b[0m \u001b[32m [repeated 5x across cluster]\u001b[0m\n",
      "\u001b[2m\u001b[36m(process_and_save_split pid=2314149)\u001b[0m See the caveats in the documentation: https://pandas.pydata.org/pandas-docs/stable/user_guide/indexing.html#returning-a-view-versus-a-copy\u001b[32m [repeated 5x across cluster]\u001b[0m\n",
      "\u001b[2m\u001b[36m(process_and_save_split pid=2314146)\u001b[0m /tmp/ipykernel_2313902/632661198.py:203: SettingWithCopyWarning: \u001b[32m [repeated 2x across cluster]\u001b[0m\n",
      "\u001b[2m\u001b[36m(process_and_save_split pid=2314146)\u001b[0m A value is trying to be set on a copy of a slice from a DataFrame.\u001b[32m [repeated 2x across cluster]\u001b[0m\n",
      "\u001b[2m\u001b[36m(process_and_save_split pid=2314146)\u001b[0m Try using .loc[row_indexer,col_indexer] = value instead\u001b[32m [repeated 2x across cluster]\u001b[0m\n",
      "\u001b[2m\u001b[36m(process_and_save_split pid=2314146)\u001b[0m \u001b[32m [repeated 2x across cluster]\u001b[0m\n",
      "\u001b[2m\u001b[36m(process_and_save_split pid=2314146)\u001b[0m See the caveats in the documentation: https://pandas.pydata.org/pandas-docs/stable/user_guide/indexing.html#returning-a-view-versus-a-copy\u001b[32m [repeated 2x across cluster]\u001b[0m\n",
      "\u001b[2m\u001b[36m(process_and_save_split pid=2314142)\u001b[0m /tmp/ipykernel_2313902/632661198.py:203: SettingWithCopyWarning: \u001b[32m [repeated 3x across cluster]\u001b[0m\n",
      "\u001b[2m\u001b[36m(process_and_save_split pid=2314142)\u001b[0m A value is trying to be set on a copy of a slice from a DataFrame.\u001b[32m [repeated 3x across cluster]\u001b[0m\n",
      "\u001b[2m\u001b[36m(process_and_save_split pid=2314142)\u001b[0m Try using .loc[row_indexer,col_indexer] = value instead\u001b[32m [repeated 3x across cluster]\u001b[0m\n",
      "\u001b[2m\u001b[36m(process_and_save_split pid=2314142)\u001b[0m \u001b[32m [repeated 3x across cluster]\u001b[0m\n",
      "\u001b[2m\u001b[36m(process_and_save_split pid=2314142)\u001b[0m See the caveats in the documentation: https://pandas.pydata.org/pandas-docs/stable/user_guide/indexing.html#returning-a-view-versus-a-copy\u001b[32m [repeated 3x across cluster]\u001b[0m\n",
      "\u001b[2m\u001b[36m(process_and_save_split pid=2314136)\u001b[0m /tmp/ipykernel_2313902/632661198.py:203: SettingWithCopyWarning: \u001b[32m [repeated 2x across cluster]\u001b[0m\n",
      "\u001b[2m\u001b[36m(process_and_save_split pid=2314136)\u001b[0m A value is trying to be set on a copy of a slice from a DataFrame.\u001b[32m [repeated 2x across cluster]\u001b[0m\n",
      "\u001b[2m\u001b[36m(process_and_save_split pid=2314136)\u001b[0m Try using .loc[row_indexer,col_indexer] = value instead\u001b[32m [repeated 2x across cluster]\u001b[0m\n",
      "\u001b[2m\u001b[36m(process_and_save_split pid=2314136)\u001b[0m \u001b[32m [repeated 2x across cluster]\u001b[0m\n",
      "\u001b[2m\u001b[36m(process_and_save_split pid=2314136)\u001b[0m See the caveats in the documentation: https://pandas.pydata.org/pandas-docs/stable/user_guide/indexing.html#returning-a-view-versus-a-copy\u001b[32m [repeated 2x across cluster]\u001b[0m\n",
      "\u001b[2m\u001b[36m(process_and_save_split pid=2314137)\u001b[0m /tmp/ipykernel_2313902/632661198.py:203: SettingWithCopyWarning: \u001b[32m [repeated 2x across cluster]\u001b[0m\n",
      "\u001b[2m\u001b[36m(process_and_save_split pid=2314137)\u001b[0m A value is trying to be set on a copy of a slice from a DataFrame.\u001b[32m [repeated 2x across cluster]\u001b[0m\n",
      "\u001b[2m\u001b[36m(process_and_save_split pid=2314137)\u001b[0m Try using .loc[row_indexer,col_indexer] = value instead\u001b[32m [repeated 2x across cluster]\u001b[0m\n",
      "\u001b[2m\u001b[36m(process_and_save_split pid=2314137)\u001b[0m \u001b[32m [repeated 2x across cluster]\u001b[0m\n",
      "\u001b[2m\u001b[36m(process_and_save_split pid=2314137)\u001b[0m See the caveats in the documentation: https://pandas.pydata.org/pandas-docs/stable/user_guide/indexing.html#returning-a-view-versus-a-copy\u001b[32m [repeated 2x across cluster]\u001b[0m\n",
      "\u001b[2m\u001b[36m(process_and_save_split pid=2314139)\u001b[0m /tmp/ipykernel_2313902/632661198.py:203: SettingWithCopyWarning: \u001b[32m [repeated 2x across cluster]\u001b[0m\n",
      "\u001b[2m\u001b[36m(process_and_save_split pid=2314139)\u001b[0m A value is trying to be set on a copy of a slice from a DataFrame.\u001b[32m [repeated 2x across cluster]\u001b[0m\n",
      "\u001b[2m\u001b[36m(process_and_save_split pid=2314139)\u001b[0m Try using .loc[row_indexer,col_indexer] = value instead\u001b[32m [repeated 2x across cluster]\u001b[0m\n",
      "\u001b[2m\u001b[36m(process_and_save_split pid=2314139)\u001b[0m \u001b[32m [repeated 2x across cluster]\u001b[0m\n",
      "\u001b[2m\u001b[36m(process_and_save_split pid=2314139)\u001b[0m See the caveats in the documentation: https://pandas.pydata.org/pandas-docs/stable/user_guide/indexing.html#returning-a-view-versus-a-copy\u001b[32m [repeated 2x across cluster]\u001b[0m\n"
     ]
    },
    {
     "name": "stderr",
     "output_type": "stream",
     "text": [
      "\u001b[2m\u001b[36m(process_and_save_split pid=2314135)\u001b[0m /tmp/ipykernel_2313902/632661198.py:203: SettingWithCopyWarning: \u001b[32m [repeated 2x across cluster]\u001b[0m\n",
      "\u001b[2m\u001b[36m(process_and_save_split pid=2314135)\u001b[0m A value is trying to be set on a copy of a slice from a DataFrame.\u001b[32m [repeated 2x across cluster]\u001b[0m\n",
      "\u001b[2m\u001b[36m(process_and_save_split pid=2314135)\u001b[0m Try using .loc[row_indexer,col_indexer] = value instead\u001b[32m [repeated 2x across cluster]\u001b[0m\n",
      "\u001b[2m\u001b[36m(process_and_save_split pid=2314135)\u001b[0m \u001b[32m [repeated 2x across cluster]\u001b[0m\n",
      "\u001b[2m\u001b[36m(process_and_save_split pid=2314135)\u001b[0m See the caveats in the documentation: https://pandas.pydata.org/pandas-docs/stable/user_guide/indexing.html#returning-a-view-versus-a-copy\u001b[32m [repeated 2x across cluster]\u001b[0m\n",
      "\u001b[2m\u001b[36m(process_and_save_split pid=2314149)\u001b[0m /tmp/ipykernel_2313902/632661198.py:203: SettingWithCopyWarning: \u001b[32m [repeated 2x across cluster]\u001b[0m\n",
      "\u001b[2m\u001b[36m(process_and_save_split pid=2314149)\u001b[0m A value is trying to be set on a copy of a slice from a DataFrame.\u001b[32m [repeated 2x across cluster]\u001b[0m\n",
      "\u001b[2m\u001b[36m(process_and_save_split pid=2314149)\u001b[0m Try using .loc[row_indexer,col_indexer] = value instead\u001b[32m [repeated 2x across cluster]\u001b[0m\n",
      "\u001b[2m\u001b[36m(process_and_save_split pid=2314149)\u001b[0m \u001b[32m [repeated 2x across cluster]\u001b[0m\n",
      "\u001b[2m\u001b[36m(process_and_save_split pid=2314149)\u001b[0m See the caveats in the documentation: https://pandas.pydata.org/pandas-docs/stable/user_guide/indexing.html#returning-a-view-versus-a-copy\u001b[32m [repeated 2x across cluster]\u001b[0m\n",
      "\u001b[2m\u001b[36m(process_and_save_split pid=2314140)\u001b[0m /tmp/ipykernel_2313902/632661198.py:203: SettingWithCopyWarning: \u001b[32m [repeated 2x across cluster]\u001b[0m\n",
      "\u001b[2m\u001b[36m(process_and_save_split pid=2314140)\u001b[0m A value is trying to be set on a copy of a slice from a DataFrame.\u001b[32m [repeated 2x across cluster]\u001b[0m\n",
      "\u001b[2m\u001b[36m(process_and_save_split pid=2314140)\u001b[0m Try using .loc[row_indexer,col_indexer] = value instead\u001b[32m [repeated 2x across cluster]\u001b[0m\n",
      "\u001b[2m\u001b[36m(process_and_save_split pid=2314140)\u001b[0m \u001b[32m [repeated 2x across cluster]\u001b[0m\n",
      "\u001b[2m\u001b[36m(process_and_save_split pid=2314140)\u001b[0m See the caveats in the documentation: https://pandas.pydata.org/pandas-docs/stable/user_guide/indexing.html#returning-a-view-versus-a-copy\u001b[32m [repeated 2x across cluster]\u001b[0m\n",
      "\u001b[2m\u001b[36m(process_and_save_split pid=2314143)\u001b[0m /tmp/ipykernel_2313902/632661198.py:203: SettingWithCopyWarning: \n",
      "\u001b[2m\u001b[36m(process_and_save_split pid=2314143)\u001b[0m A value is trying to be set on a copy of a slice from a DataFrame.\n",
      "\u001b[2m\u001b[36m(process_and_save_split pid=2314143)\u001b[0m Try using .loc[row_indexer,col_indexer] = value instead\n",
      "\u001b[2m\u001b[36m(process_and_save_split pid=2314143)\u001b[0m \n",
      "\u001b[2m\u001b[36m(process_and_save_split pid=2314143)\u001b[0m See the caveats in the documentation: https://pandas.pydata.org/pandas-docs/stable/user_guide/indexing.html#returning-a-view-versus-a-copy\n",
      "\u001b[2m\u001b[36m(process_and_save_split pid=2314146)\u001b[0m /tmp/ipykernel_2313902/632661198.py:203: SettingWithCopyWarning: \n",
      "\u001b[2m\u001b[36m(process_and_save_split pid=2314146)\u001b[0m A value is trying to be set on a copy of a slice from a DataFrame.\n",
      "\u001b[2m\u001b[36m(process_and_save_split pid=2314146)\u001b[0m Try using .loc[row_indexer,col_indexer] = value instead\n",
      "\u001b[2m\u001b[36m(process_and_save_split pid=2314146)\u001b[0m \n",
      "\u001b[2m\u001b[36m(process_and_save_split pid=2314146)\u001b[0m See the caveats in the documentation: https://pandas.pydata.org/pandas-docs/stable/user_guide/indexing.html#returning-a-view-versus-a-copy\n",
      "\u001b[2m\u001b[36m(process_and_save_split pid=2314136)\u001b[0m /tmp/ipykernel_2313902/632661198.py:203: SettingWithCopyWarning: \u001b[32m [repeated 2x across cluster]\u001b[0m\n",
      "\u001b[2m\u001b[36m(process_and_save_split pid=2314136)\u001b[0m A value is trying to be set on a copy of a slice from a DataFrame.\u001b[32m [repeated 2x across cluster]\u001b[0m\n",
      "\u001b[2m\u001b[36m(process_and_save_split pid=2314136)\u001b[0m Try using .loc[row_indexer,col_indexer] = value instead\u001b[32m [repeated 2x across cluster]\u001b[0m\n",
      "\u001b[2m\u001b[36m(process_and_save_split pid=2314136)\u001b[0m \u001b[32m [repeated 2x across cluster]\u001b[0m\n",
      "\u001b[2m\u001b[36m(process_and_save_split pid=2314136)\u001b[0m See the caveats in the documentation: https://pandas.pydata.org/pandas-docs/stable/user_guide/indexing.html#returning-a-view-versus-a-copy\u001b[32m [repeated 2x across cluster]\u001b[0m\n",
      "\u001b[2m\u001b[36m(process_and_save_split pid=2314134)\u001b[0m /tmp/ipykernel_2313902/632661198.py:203: SettingWithCopyWarning: \u001b[32m [repeated 2x across cluster]\u001b[0m\n",
      "\u001b[2m\u001b[36m(process_and_save_split pid=2314134)\u001b[0m A value is trying to be set on a copy of a slice from a DataFrame.\u001b[32m [repeated 2x across cluster]\u001b[0m\n",
      "\u001b[2m\u001b[36m(process_and_save_split pid=2314134)\u001b[0m Try using .loc[row_indexer,col_indexer] = value instead\u001b[32m [repeated 2x across cluster]\u001b[0m\n",
      "\u001b[2m\u001b[36m(process_and_save_split pid=2314134)\u001b[0m \u001b[32m [repeated 2x across cluster]\u001b[0m\n",
      "\u001b[2m\u001b[36m(process_and_save_split pid=2314134)\u001b[0m See the caveats in the documentation: https://pandas.pydata.org/pandas-docs/stable/user_guide/indexing.html#returning-a-view-versus-a-copy\u001b[32m [repeated 2x across cluster]\u001b[0m\n",
      "\u001b[2m\u001b[36m(process_and_save_split pid=2314142)\u001b[0m /tmp/ipykernel_2313902/632661198.py:203: SettingWithCopyWarning: \u001b[32m [repeated 2x across cluster]\u001b[0m\n",
      "\u001b[2m\u001b[36m(process_and_save_split pid=2314142)\u001b[0m A value is trying to be set on a copy of a slice from a DataFrame.\u001b[32m [repeated 2x across cluster]\u001b[0m\n",
      "\u001b[2m\u001b[36m(process_and_save_split pid=2314142)\u001b[0m Try using .loc[row_indexer,col_indexer] = value instead\u001b[32m [repeated 2x across cluster]\u001b[0m\n",
      "\u001b[2m\u001b[36m(process_and_save_split pid=2314142)\u001b[0m \u001b[32m [repeated 2x across cluster]\u001b[0m\n",
      "\u001b[2m\u001b[36m(process_and_save_split pid=2314142)\u001b[0m See the caveats in the documentation: https://pandas.pydata.org/pandas-docs/stable/user_guide/indexing.html#returning-a-view-versus-a-copy\u001b[32m [repeated 2x across cluster]\u001b[0m\n",
      "\u001b[2m\u001b[36m(process_and_save_split pid=2314135)\u001b[0m /tmp/ipykernel_2313902/632661198.py:203: SettingWithCopyWarning: \u001b[32m [repeated 2x across cluster]\u001b[0m\n",
      "\u001b[2m\u001b[36m(process_and_save_split pid=2314135)\u001b[0m A value is trying to be set on a copy of a slice from a DataFrame.\u001b[32m [repeated 2x across cluster]\u001b[0m\n",
      "\u001b[2m\u001b[36m(process_and_save_split pid=2314135)\u001b[0m Try using .loc[row_indexer,col_indexer] = value instead\u001b[32m [repeated 2x across cluster]\u001b[0m\n",
      "\u001b[2m\u001b[36m(process_and_save_split pid=2314135)\u001b[0m \u001b[32m [repeated 2x across cluster]\u001b[0m\n",
      "\u001b[2m\u001b[36m(process_and_save_split pid=2314135)\u001b[0m See the caveats in the documentation: https://pandas.pydata.org/pandas-docs/stable/user_guide/indexing.html#returning-a-view-versus-a-copy\u001b[32m [repeated 2x across cluster]\u001b[0m\n",
      "\u001b[2m\u001b[36m(process_and_save_split pid=2314144)\u001b[0m /tmp/ipykernel_2313902/632661198.py:203: SettingWithCopyWarning: \u001b[32m [repeated 3x across cluster]\u001b[0m\n",
      "\u001b[2m\u001b[36m(process_and_save_split pid=2314144)\u001b[0m A value is trying to be set on a copy of a slice from a DataFrame.\u001b[32m [repeated 3x across cluster]\u001b[0m\n",
      "\u001b[2m\u001b[36m(process_and_save_split pid=2314144)\u001b[0m Try using .loc[row_indexer,col_indexer] = value instead\u001b[32m [repeated 3x across cluster]\u001b[0m\n",
      "\u001b[2m\u001b[36m(process_and_save_split pid=2314144)\u001b[0m \u001b[32m [repeated 3x across cluster]\u001b[0m\n",
      "\u001b[2m\u001b[36m(process_and_save_split pid=2314144)\u001b[0m See the caveats in the documentation: https://pandas.pydata.org/pandas-docs/stable/user_guide/indexing.html#returning-a-view-versus-a-copy\u001b[32m [repeated 3x across cluster]\u001b[0m\n",
      "\u001b[2m\u001b[36m(process_and_save_split pid=2314140)\u001b[0m /tmp/ipykernel_2313902/632661198.py:203: SettingWithCopyWarning: \u001b[32m [repeated 2x across cluster]\u001b[0m\n",
      "\u001b[2m\u001b[36m(process_and_save_split pid=2314140)\u001b[0m A value is trying to be set on a copy of a slice from a DataFrame.\u001b[32m [repeated 2x across cluster]\u001b[0m\n",
      "\u001b[2m\u001b[36m(process_and_save_split pid=2314140)\u001b[0m Try using .loc[row_indexer,col_indexer] = value instead\u001b[32m [repeated 2x across cluster]\u001b[0m\n",
      "\u001b[2m\u001b[36m(process_and_save_split pid=2314140)\u001b[0m \u001b[32m [repeated 2x across cluster]\u001b[0m\n",
      "\u001b[2m\u001b[36m(process_and_save_split pid=2314140)\u001b[0m See the caveats in the documentation: https://pandas.pydata.org/pandas-docs/stable/user_guide/indexing.html#returning-a-view-versus-a-copy\u001b[32m [repeated 2x across cluster]\u001b[0m\n",
      "\u001b[2m\u001b[36m(process_and_save_split pid=2314138)\u001b[0m /tmp/ipykernel_2313902/632661198.py:203: SettingWithCopyWarning: \n",
      "\u001b[2m\u001b[36m(process_and_save_split pid=2314138)\u001b[0m A value is trying to be set on a copy of a slice from a DataFrame.\n",
      "\u001b[2m\u001b[36m(process_and_save_split pid=2314138)\u001b[0m Try using .loc[row_indexer,col_indexer] = value instead\n",
      "\u001b[2m\u001b[36m(process_and_save_split pid=2314138)\u001b[0m \n",
      "\u001b[2m\u001b[36m(process_and_save_split pid=2314138)\u001b[0m See the caveats in the documentation: https://pandas.pydata.org/pandas-docs/stable/user_guide/indexing.html#returning-a-view-versus-a-copy\n"
     ]
    },
    {
     "name": "stderr",
     "output_type": "stream",
     "text": [
      "\u001b[2m\u001b[36m(process_and_save_split pid=2314148)\u001b[0m /tmp/ipykernel_2313902/632661198.py:203: SettingWithCopyWarning: \n",
      "\u001b[2m\u001b[36m(process_and_save_split pid=2314148)\u001b[0m A value is trying to be set on a copy of a slice from a DataFrame.\n",
      "\u001b[2m\u001b[36m(process_and_save_split pid=2314148)\u001b[0m Try using .loc[row_indexer,col_indexer] = value instead\n",
      "\u001b[2m\u001b[36m(process_and_save_split pid=2314148)\u001b[0m \n",
      "\u001b[2m\u001b[36m(process_and_save_split pid=2314148)\u001b[0m See the caveats in the documentation: https://pandas.pydata.org/pandas-docs/stable/user_guide/indexing.html#returning-a-view-versus-a-copy\n",
      "\u001b[2m\u001b[36m(process_and_save_split pid=2314146)\u001b[0m /tmp/ipykernel_2313902/632661198.py:203: SettingWithCopyWarning: \n",
      "\u001b[2m\u001b[36m(process_and_save_split pid=2314146)\u001b[0m A value is trying to be set on a copy of a slice from a DataFrame.\n",
      "\u001b[2m\u001b[36m(process_and_save_split pid=2314146)\u001b[0m Try using .loc[row_indexer,col_indexer] = value instead\n",
      "\u001b[2m\u001b[36m(process_and_save_split pid=2314146)\u001b[0m \n",
      "\u001b[2m\u001b[36m(process_and_save_split pid=2314146)\u001b[0m See the caveats in the documentation: https://pandas.pydata.org/pandas-docs/stable/user_guide/indexing.html#returning-a-view-versus-a-copy\n",
      "\u001b[2m\u001b[36m(process_and_save_split pid=2314143)\u001b[0m /tmp/ipykernel_2313902/632661198.py:203: SettingWithCopyWarning: \n",
      "\u001b[2m\u001b[36m(process_and_save_split pid=2314143)\u001b[0m A value is trying to be set on a copy of a slice from a DataFrame.\n",
      "\u001b[2m\u001b[36m(process_and_save_split pid=2314143)\u001b[0m Try using .loc[row_indexer,col_indexer] = value instead\n",
      "\u001b[2m\u001b[36m(process_and_save_split pid=2314143)\u001b[0m \n",
      "\u001b[2m\u001b[36m(process_and_save_split pid=2314143)\u001b[0m See the caveats in the documentation: https://pandas.pydata.org/pandas-docs/stable/user_guide/indexing.html#returning-a-view-versus-a-copy\n",
      "\u001b[2m\u001b[36m(process_and_save_split pid=2314142)\u001b[0m /tmp/ipykernel_2313902/632661198.py:203: SettingWithCopyWarning: \n",
      "\u001b[2m\u001b[36m(process_and_save_split pid=2314142)\u001b[0m A value is trying to be set on a copy of a slice from a DataFrame.\n",
      "\u001b[2m\u001b[36m(process_and_save_split pid=2314142)\u001b[0m Try using .loc[row_indexer,col_indexer] = value instead\n",
      "\u001b[2m\u001b[36m(process_and_save_split pid=2314142)\u001b[0m \n",
      "\u001b[2m\u001b[36m(process_and_save_split pid=2314142)\u001b[0m See the caveats in the documentation: https://pandas.pydata.org/pandas-docs/stable/user_guide/indexing.html#returning-a-view-versus-a-copy\n",
      "\u001b[2m\u001b[36m(process_and_save_split pid=2314145)\u001b[0m /tmp/ipykernel_2313902/632661198.py:203: SettingWithCopyWarning: \n",
      "\u001b[2m\u001b[36m(process_and_save_split pid=2314145)\u001b[0m A value is trying to be set on a copy of a slice from a DataFrame.\n",
      "\u001b[2m\u001b[36m(process_and_save_split pid=2314145)\u001b[0m Try using .loc[row_indexer,col_indexer] = value instead\n",
      "\u001b[2m\u001b[36m(process_and_save_split pid=2314145)\u001b[0m \n",
      "\u001b[2m\u001b[36m(process_and_save_split pid=2314145)\u001b[0m See the caveats in the documentation: https://pandas.pydata.org/pandas-docs/stable/user_guide/indexing.html#returning-a-view-versus-a-copy\n",
      "\u001b[2m\u001b[36m(process_and_save_split pid=2314134)\u001b[0m /tmp/ipykernel_2313902/632661198.py:203: SettingWithCopyWarning: \u001b[32m [repeated 3x across cluster]\u001b[0m\n",
      "\u001b[2m\u001b[36m(process_and_save_split pid=2314134)\u001b[0m A value is trying to be set on a copy of a slice from a DataFrame.\u001b[32m [repeated 3x across cluster]\u001b[0m\n",
      "\u001b[2m\u001b[36m(process_and_save_split pid=2314134)\u001b[0m Try using .loc[row_indexer,col_indexer] = value instead\u001b[32m [repeated 3x across cluster]\u001b[0m\n",
      "\u001b[2m\u001b[36m(process_and_save_split pid=2314134)\u001b[0m \u001b[32m [repeated 3x across cluster]\u001b[0m\n",
      "\u001b[2m\u001b[36m(process_and_save_split pid=2314134)\u001b[0m See the caveats in the documentation: https://pandas.pydata.org/pandas-docs/stable/user_guide/indexing.html#returning-a-view-versus-a-copy\u001b[32m [repeated 3x across cluster]\u001b[0m\n",
      "\u001b[2m\u001b[36m(process_and_save_split pid=2314141)\u001b[0m /tmp/ipykernel_2313902/632661198.py:203: SettingWithCopyWarning: \n",
      "\u001b[2m\u001b[36m(process_and_save_split pid=2314141)\u001b[0m A value is trying to be set on a copy of a slice from a DataFrame.\n",
      "\u001b[2m\u001b[36m(process_and_save_split pid=2314141)\u001b[0m Try using .loc[row_indexer,col_indexer] = value instead\n",
      "\u001b[2m\u001b[36m(process_and_save_split pid=2314141)\u001b[0m \n",
      "\u001b[2m\u001b[36m(process_and_save_split pid=2314141)\u001b[0m See the caveats in the documentation: https://pandas.pydata.org/pandas-docs/stable/user_guide/indexing.html#returning-a-view-versus-a-copy\n",
      "\u001b[2m\u001b[36m(process_and_save_split pid=2314147)\u001b[0m /tmp/ipykernel_2313902/632661198.py:203: SettingWithCopyWarning: \n",
      "\u001b[2m\u001b[36m(process_and_save_split pid=2314147)\u001b[0m A value is trying to be set on a copy of a slice from a DataFrame.\n",
      "\u001b[2m\u001b[36m(process_and_save_split pid=2314147)\u001b[0m Try using .loc[row_indexer,col_indexer] = value instead\n",
      "\u001b[2m\u001b[36m(process_and_save_split pid=2314147)\u001b[0m \n",
      "\u001b[2m\u001b[36m(process_and_save_split pid=2314147)\u001b[0m See the caveats in the documentation: https://pandas.pydata.org/pandas-docs/stable/user_guide/indexing.html#returning-a-view-versus-a-copy\n",
      "\u001b[2m\u001b[36m(process_and_save_split pid=2314135)\u001b[0m /tmp/ipykernel_2313902/632661198.py:203: SettingWithCopyWarning: \n",
      "\u001b[2m\u001b[36m(process_and_save_split pid=2314135)\u001b[0m A value is trying to be set on a copy of a slice from a DataFrame.\n",
      "\u001b[2m\u001b[36m(process_and_save_split pid=2314135)\u001b[0m Try using .loc[row_indexer,col_indexer] = value instead\n",
      "\u001b[2m\u001b[36m(process_and_save_split pid=2314135)\u001b[0m \n",
      "\u001b[2m\u001b[36m(process_and_save_split pid=2314135)\u001b[0m See the caveats in the documentation: https://pandas.pydata.org/pandas-docs/stable/user_guide/indexing.html#returning-a-view-versus-a-copy\n",
      "\u001b[2m\u001b[36m(process_and_save_split pid=2314144)\u001b[0m /tmp/ipykernel_2313902/632661198.py:203: SettingWithCopyWarning: \n",
      "\u001b[2m\u001b[36m(process_and_save_split pid=2314144)\u001b[0m A value is trying to be set on a copy of a slice from a DataFrame.\n",
      "\u001b[2m\u001b[36m(process_and_save_split pid=2314144)\u001b[0m Try using .loc[row_indexer,col_indexer] = value instead\n",
      "\u001b[2m\u001b[36m(process_and_save_split pid=2314144)\u001b[0m \n",
      "\u001b[2m\u001b[36m(process_and_save_split pid=2314144)\u001b[0m See the caveats in the documentation: https://pandas.pydata.org/pandas-docs/stable/user_guide/indexing.html#returning-a-view-versus-a-copy\n",
      "\u001b[2m\u001b[36m(process_and_save_split pid=2314139)\u001b[0m /tmp/ipykernel_2313902/632661198.py:203: SettingWithCopyWarning: \u001b[32m [repeated 2x across cluster]\u001b[0m\n",
      "\u001b[2m\u001b[36m(process_and_save_split pid=2314139)\u001b[0m A value is trying to be set on a copy of a slice from a DataFrame.\u001b[32m [repeated 2x across cluster]\u001b[0m\n",
      "\u001b[2m\u001b[36m(process_and_save_split pid=2314139)\u001b[0m Try using .loc[row_indexer,col_indexer] = value instead\u001b[32m [repeated 2x across cluster]\u001b[0m\n",
      "\u001b[2m\u001b[36m(process_and_save_split pid=2314139)\u001b[0m \u001b[32m [repeated 2x across cluster]\u001b[0m\n",
      "\u001b[2m\u001b[36m(process_and_save_split pid=2314139)\u001b[0m See the caveats in the documentation: https://pandas.pydata.org/pandas-docs/stable/user_guide/indexing.html#returning-a-view-versus-a-copy\u001b[32m [repeated 2x across cluster]\u001b[0m\n",
      "\u001b[2m\u001b[36m(process_and_save_split pid=2314138)\u001b[0m /tmp/ipykernel_2313902/632661198.py:203: SettingWithCopyWarning: \u001b[32m [repeated 2x across cluster]\u001b[0m\n",
      "\u001b[2m\u001b[36m(process_and_save_split pid=2314138)\u001b[0m A value is trying to be set on a copy of a slice from a DataFrame.\u001b[32m [repeated 2x across cluster]\u001b[0m\n",
      "\u001b[2m\u001b[36m(process_and_save_split pid=2314138)\u001b[0m Try using .loc[row_indexer,col_indexer] = value instead\u001b[32m [repeated 2x across cluster]\u001b[0m\n",
      "\u001b[2m\u001b[36m(process_and_save_split pid=2314138)\u001b[0m \u001b[32m [repeated 2x across cluster]\u001b[0m\n",
      "\u001b[2m\u001b[36m(process_and_save_split pid=2314138)\u001b[0m See the caveats in the documentation: https://pandas.pydata.org/pandas-docs/stable/user_guide/indexing.html#returning-a-view-versus-a-copy\u001b[32m [repeated 2x across cluster]\u001b[0m\n",
      "\u001b[2m\u001b[36m(process_and_save_split pid=2314148)\u001b[0m /tmp/ipykernel_2313902/632661198.py:203: SettingWithCopyWarning: \n",
      "\u001b[2m\u001b[36m(process_and_save_split pid=2314148)\u001b[0m A value is trying to be set on a copy of a slice from a DataFrame.\n",
      "\u001b[2m\u001b[36m(process_and_save_split pid=2314148)\u001b[0m Try using .loc[row_indexer,col_indexer] = value instead\n",
      "\u001b[2m\u001b[36m(process_and_save_split pid=2314148)\u001b[0m \n",
      "\u001b[2m\u001b[36m(process_and_save_split pid=2314148)\u001b[0m See the caveats in the documentation: https://pandas.pydata.org/pandas-docs/stable/user_guide/indexing.html#returning-a-view-versus-a-copy\n",
      "\u001b[2m\u001b[36m(process_and_save_split pid=2314146)\u001b[0m /tmp/ipykernel_2313902/632661198.py:203: SettingWithCopyWarning: \n",
      "\u001b[2m\u001b[36m(process_and_save_split pid=2314146)\u001b[0m A value is trying to be set on a copy of a slice from a DataFrame.\n",
      "\u001b[2m\u001b[36m(process_and_save_split pid=2314146)\u001b[0m Try using .loc[row_indexer,col_indexer] = value instead\n",
      "\u001b[2m\u001b[36m(process_and_save_split pid=2314146)\u001b[0m \n",
      "\u001b[2m\u001b[36m(process_and_save_split pid=2314146)\u001b[0m See the caveats in the documentation: https://pandas.pydata.org/pandas-docs/stable/user_guide/indexing.html#returning-a-view-versus-a-copy\n"
     ]
    },
    {
     "name": "stderr",
     "output_type": "stream",
     "text": [
      "\u001b[2m\u001b[36m(process_and_save_split pid=2314143)\u001b[0m /tmp/ipykernel_2313902/632661198.py:203: SettingWithCopyWarning: \u001b[32m [repeated 2x across cluster]\u001b[0m\n",
      "\u001b[2m\u001b[36m(process_and_save_split pid=2314143)\u001b[0m A value is trying to be set on a copy of a slice from a DataFrame.\u001b[32m [repeated 2x across cluster]\u001b[0m\n",
      "\u001b[2m\u001b[36m(process_and_save_split pid=2314143)\u001b[0m Try using .loc[row_indexer,col_indexer] = value instead\u001b[32m [repeated 2x across cluster]\u001b[0m\n",
      "\u001b[2m\u001b[36m(process_and_save_split pid=2314143)\u001b[0m \u001b[32m [repeated 2x across cluster]\u001b[0m\n",
      "\u001b[2m\u001b[36m(process_and_save_split pid=2314143)\u001b[0m See the caveats in the documentation: https://pandas.pydata.org/pandas-docs/stable/user_guide/indexing.html#returning-a-view-versus-a-copy\u001b[32m [repeated 2x across cluster]\u001b[0m\n",
      "\u001b[2m\u001b[36m(process_and_save_split pid=2314145)\u001b[0m /tmp/ipykernel_2313902/632661198.py:203: SettingWithCopyWarning: \n",
      "\u001b[2m\u001b[36m(process_and_save_split pid=2314145)\u001b[0m A value is trying to be set on a copy of a slice from a DataFrame.\n",
      "\u001b[2m\u001b[36m(process_and_save_split pid=2314145)\u001b[0m Try using .loc[row_indexer,col_indexer] = value instead\n",
      "\u001b[2m\u001b[36m(process_and_save_split pid=2314145)\u001b[0m \n",
      "\u001b[2m\u001b[36m(process_and_save_split pid=2314145)\u001b[0m See the caveats in the documentation: https://pandas.pydata.org/pandas-docs/stable/user_guide/indexing.html#returning-a-view-versus-a-copy\n",
      "\u001b[2m\u001b[36m(process_and_save_split pid=2314136)\u001b[0m /tmp/ipykernel_2313902/632661198.py:203: SettingWithCopyWarning: \n",
      "\u001b[2m\u001b[36m(process_and_save_split pid=2314136)\u001b[0m A value is trying to be set on a copy of a slice from a DataFrame.\n",
      "\u001b[2m\u001b[36m(process_and_save_split pid=2314136)\u001b[0m Try using .loc[row_indexer,col_indexer] = value instead\n",
      "\u001b[2m\u001b[36m(process_and_save_split pid=2314136)\u001b[0m \n",
      "\u001b[2m\u001b[36m(process_and_save_split pid=2314136)\u001b[0m See the caveats in the documentation: https://pandas.pydata.org/pandas-docs/stable/user_guide/indexing.html#returning-a-view-versus-a-copy\n",
      "\u001b[2m\u001b[36m(process_and_save_split pid=2314144)\u001b[0m /tmp/ipykernel_2313902/632661198.py:203: SettingWithCopyWarning: \n",
      "\u001b[2m\u001b[36m(process_and_save_split pid=2314144)\u001b[0m A value is trying to be set on a copy of a slice from a DataFrame.\n",
      "\u001b[2m\u001b[36m(process_and_save_split pid=2314144)\u001b[0m Try using .loc[row_indexer,col_indexer] = value instead\n",
      "\u001b[2m\u001b[36m(process_and_save_split pid=2314144)\u001b[0m \n",
      "\u001b[2m\u001b[36m(process_and_save_split pid=2314144)\u001b[0m See the caveats in the documentation: https://pandas.pydata.org/pandas-docs/stable/user_guide/indexing.html#returning-a-view-versus-a-copy\n",
      "\u001b[2m\u001b[36m(process_and_save_split pid=2314137)\u001b[0m /tmp/ipykernel_2313902/632661198.py:203: SettingWithCopyWarning: \n",
      "\u001b[2m\u001b[36m(process_and_save_split pid=2314137)\u001b[0m A value is trying to be set on a copy of a slice from a DataFrame.\n",
      "\u001b[2m\u001b[36m(process_and_save_split pid=2314137)\u001b[0m Try using .loc[row_indexer,col_indexer] = value instead\n",
      "\u001b[2m\u001b[36m(process_and_save_split pid=2314137)\u001b[0m \n",
      "\u001b[2m\u001b[36m(process_and_save_split pid=2314137)\u001b[0m See the caveats in the documentation: https://pandas.pydata.org/pandas-docs/stable/user_guide/indexing.html#returning-a-view-versus-a-copy\n",
      "\u001b[2m\u001b[36m(process_and_save_split pid=2314135)\u001b[0m /tmp/ipykernel_2313902/632661198.py:203: SettingWithCopyWarning: \u001b[32m [repeated 3x across cluster]\u001b[0m\n",
      "\u001b[2m\u001b[36m(process_and_save_split pid=2314135)\u001b[0m A value is trying to be set on a copy of a slice from a DataFrame.\u001b[32m [repeated 3x across cluster]\u001b[0m\n",
      "\u001b[2m\u001b[36m(process_and_save_split pid=2314135)\u001b[0m Try using .loc[row_indexer,col_indexer] = value instead\u001b[32m [repeated 3x across cluster]\u001b[0m\n",
      "\u001b[2m\u001b[36m(process_and_save_split pid=2314135)\u001b[0m \u001b[32m [repeated 3x across cluster]\u001b[0m\n",
      "\u001b[2m\u001b[36m(process_and_save_split pid=2314135)\u001b[0m See the caveats in the documentation: https://pandas.pydata.org/pandas-docs/stable/user_guide/indexing.html#returning-a-view-versus-a-copy\u001b[32m [repeated 3x across cluster]\u001b[0m\n",
      "\u001b[2m\u001b[36m(process_and_save_split pid=2314149)\u001b[0m /tmp/ipykernel_2313902/632661198.py:203: SettingWithCopyWarning: \u001b[32m [repeated 2x across cluster]\u001b[0m\n",
      "\u001b[2m\u001b[36m(process_and_save_split pid=2314149)\u001b[0m A value is trying to be set on a copy of a slice from a DataFrame.\u001b[32m [repeated 2x across cluster]\u001b[0m\n",
      "\u001b[2m\u001b[36m(process_and_save_split pid=2314149)\u001b[0m Try using .loc[row_indexer,col_indexer] = value instead\u001b[32m [repeated 2x across cluster]\u001b[0m\n",
      "\u001b[2m\u001b[36m(process_and_save_split pid=2314149)\u001b[0m \u001b[32m [repeated 2x across cluster]\u001b[0m\n",
      "\u001b[2m\u001b[36m(process_and_save_split pid=2314149)\u001b[0m See the caveats in the documentation: https://pandas.pydata.org/pandas-docs/stable/user_guide/indexing.html#returning-a-view-versus-a-copy\u001b[32m [repeated 2x across cluster]\u001b[0m\n",
      "\u001b[2m\u001b[36m(process_and_save_split pid=2314140)\u001b[0m /tmp/ipykernel_2313902/632661198.py:203: SettingWithCopyWarning: \u001b[32m [repeated 2x across cluster]\u001b[0m\n",
      "\u001b[2m\u001b[36m(process_and_save_split pid=2314140)\u001b[0m A value is trying to be set on a copy of a slice from a DataFrame.\u001b[32m [repeated 2x across cluster]\u001b[0m\n",
      "\u001b[2m\u001b[36m(process_and_save_split pid=2314140)\u001b[0m Try using .loc[row_indexer,col_indexer] = value instead\u001b[32m [repeated 2x across cluster]\u001b[0m\n",
      "\u001b[2m\u001b[36m(process_and_save_split pid=2314140)\u001b[0m \u001b[32m [repeated 2x across cluster]\u001b[0m\n",
      "\u001b[2m\u001b[36m(process_and_save_split pid=2314140)\u001b[0m See the caveats in the documentation: https://pandas.pydata.org/pandas-docs/stable/user_guide/indexing.html#returning-a-view-versus-a-copy\u001b[32m [repeated 2x across cluster]\u001b[0m\n",
      "\u001b[2m\u001b[36m(process_and_save_split pid=2314146)\u001b[0m /tmp/ipykernel_2313902/632661198.py:203: SettingWithCopyWarning: \u001b[32m [repeated 2x across cluster]\u001b[0m\n",
      "\u001b[2m\u001b[36m(process_and_save_split pid=2314146)\u001b[0m A value is trying to be set on a copy of a slice from a DataFrame.\u001b[32m [repeated 2x across cluster]\u001b[0m\n",
      "\u001b[2m\u001b[36m(process_and_save_split pid=2314146)\u001b[0m Try using .loc[row_indexer,col_indexer] = value instead\u001b[32m [repeated 2x across cluster]\u001b[0m\n",
      "\u001b[2m\u001b[36m(process_and_save_split pid=2314146)\u001b[0m \u001b[32m [repeated 2x across cluster]\u001b[0m\n",
      "\u001b[2m\u001b[36m(process_and_save_split pid=2314146)\u001b[0m See the caveats in the documentation: https://pandas.pydata.org/pandas-docs/stable/user_guide/indexing.html#returning-a-view-versus-a-copy\u001b[32m [repeated 2x across cluster]\u001b[0m\n",
      "\u001b[2m\u001b[36m(process_and_save_split pid=2314148)\u001b[0m /tmp/ipykernel_2313902/632661198.py:203: SettingWithCopyWarning: \n",
      "\u001b[2m\u001b[36m(process_and_save_split pid=2314148)\u001b[0m A value is trying to be set on a copy of a slice from a DataFrame.\n",
      "\u001b[2m\u001b[36m(process_and_save_split pid=2314148)\u001b[0m Try using .loc[row_indexer,col_indexer] = value instead\n",
      "\u001b[2m\u001b[36m(process_and_save_split pid=2314148)\u001b[0m \n",
      "\u001b[2m\u001b[36m(process_and_save_split pid=2314148)\u001b[0m See the caveats in the documentation: https://pandas.pydata.org/pandas-docs/stable/user_guide/indexing.html#returning-a-view-versus-a-copy\n",
      "\u001b[2m\u001b[36m(process_and_save_split pid=2314134)\u001b[0m /tmp/ipykernel_2313902/632661198.py:203: SettingWithCopyWarning: \n",
      "\u001b[2m\u001b[36m(process_and_save_split pid=2314134)\u001b[0m A value is trying to be set on a copy of a slice from a DataFrame.\n",
      "\u001b[2m\u001b[36m(process_and_save_split pid=2314134)\u001b[0m Try using .loc[row_indexer,col_indexer] = value instead\n",
      "\u001b[2m\u001b[36m(process_and_save_split pid=2314134)\u001b[0m \n",
      "\u001b[2m\u001b[36m(process_and_save_split pid=2314134)\u001b[0m See the caveats in the documentation: https://pandas.pydata.org/pandas-docs/stable/user_guide/indexing.html#returning-a-view-versus-a-copy\n",
      "\u001b[2m\u001b[36m(process_and_save_split pid=2314145)\u001b[0m /tmp/ipykernel_2313902/632661198.py:203: SettingWithCopyWarning: \n",
      "\u001b[2m\u001b[36m(process_and_save_split pid=2314145)\u001b[0m A value is trying to be set on a copy of a slice from a DataFrame.\n",
      "\u001b[2m\u001b[36m(process_and_save_split pid=2314145)\u001b[0m Try using .loc[row_indexer,col_indexer] = value instead\n",
      "\u001b[2m\u001b[36m(process_and_save_split pid=2314145)\u001b[0m \n",
      "\u001b[2m\u001b[36m(process_and_save_split pid=2314145)\u001b[0m See the caveats in the documentation: https://pandas.pydata.org/pandas-docs/stable/user_guide/indexing.html#returning-a-view-versus-a-copy\n",
      "\u001b[2m\u001b[36m(process_and_save_split pid=2314143)\u001b[0m /tmp/ipykernel_2313902/632661198.py:203: SettingWithCopyWarning: \n",
      "\u001b[2m\u001b[36m(process_and_save_split pid=2314143)\u001b[0m A value is trying to be set on a copy of a slice from a DataFrame.\n",
      "\u001b[2m\u001b[36m(process_and_save_split pid=2314143)\u001b[0m Try using .loc[row_indexer,col_indexer] = value instead\n",
      "\u001b[2m\u001b[36m(process_and_save_split pid=2314143)\u001b[0m \n",
      "\u001b[2m\u001b[36m(process_and_save_split pid=2314143)\u001b[0m See the caveats in the documentation: https://pandas.pydata.org/pandas-docs/stable/user_guide/indexing.html#returning-a-view-versus-a-copy\n"
     ]
    },
    {
     "name": "stderr",
     "output_type": "stream",
     "text": [
      "\u001b[2m\u001b[36m(process_and_save_split pid=2314142)\u001b[0m /tmp/ipykernel_2313902/632661198.py:203: SettingWithCopyWarning: \u001b[32m [repeated 2x across cluster]\u001b[0m\n",
      "\u001b[2m\u001b[36m(process_and_save_split pid=2314142)\u001b[0m A value is trying to be set on a copy of a slice from a DataFrame.\u001b[32m [repeated 2x across cluster]\u001b[0m\n",
      "\u001b[2m\u001b[36m(process_and_save_split pid=2314142)\u001b[0m Try using .loc[row_indexer,col_indexer] = value instead\u001b[32m [repeated 2x across cluster]\u001b[0m\n",
      "\u001b[2m\u001b[36m(process_and_save_split pid=2314142)\u001b[0m \u001b[32m [repeated 2x across cluster]\u001b[0m\n",
      "\u001b[2m\u001b[36m(process_and_save_split pid=2314142)\u001b[0m See the caveats in the documentation: https://pandas.pydata.org/pandas-docs/stable/user_guide/indexing.html#returning-a-view-versus-a-copy\u001b[32m [repeated 2x across cluster]\u001b[0m\n",
      "\u001b[2m\u001b[36m(process_and_save_split pid=2314141)\u001b[0m /tmp/ipykernel_2313902/632661198.py:203: SettingWithCopyWarning: \u001b[32m [repeated 3x across cluster]\u001b[0m\n",
      "\u001b[2m\u001b[36m(process_and_save_split pid=2314141)\u001b[0m A value is trying to be set on a copy of a slice from a DataFrame.\u001b[32m [repeated 3x across cluster]\u001b[0m\n",
      "\u001b[2m\u001b[36m(process_and_save_split pid=2314141)\u001b[0m Try using .loc[row_indexer,col_indexer] = value instead\u001b[32m [repeated 3x across cluster]\u001b[0m\n",
      "\u001b[2m\u001b[36m(process_and_save_split pid=2314141)\u001b[0m \u001b[32m [repeated 3x across cluster]\u001b[0m\n",
      "\u001b[2m\u001b[36m(process_and_save_split pid=2314141)\u001b[0m See the caveats in the documentation: https://pandas.pydata.org/pandas-docs/stable/user_guide/indexing.html#returning-a-view-versus-a-copy\u001b[32m [repeated 3x across cluster]\u001b[0m\n"
     ]
    }
   ],
   "source": [
    "cv_strategy = 'loso'  # Choose from: 'loso', 'group_k_fold', 'k_fold', 'time_series'\n",
    "\n",
    "with on_ray():\n",
    "    # Get the relevant train-test splits based on the chosen CV strategy\n",
    "    splits = get_cv_splits(cv_strategy, all_data, all_labels, all_groups)\n",
    "    \n",
    "    C_cat = np.asarray(sorted(cats))\n",
    "    C_num = np.asarray(sorted(X.columns[~X.columns.isin(C_cat)]))\n",
    "#    Iterate over train-test splits\n",
    "    futures = [process_and_save_split.remote(train_idx, test_idx, all_data, all_labels, all_groups, process_dataframe, save_data_to_data_file, C_cat, C_num, select) \n",
    "#    futures = [process_and_save_split.remote(train_idx, test_idx, all_data, all_labels, all_groups, process_dataframe, save_data_to_data_file)\n",
    "                                         for train_idx, test_idx in splits]\n",
    "\n",
    "    ray.get(futures)"
   ]
  },
  {
   "cell_type": "markdown",
   "id": "9719c77f",
   "metadata": {},
   "source": [
    "Training"
   ]
  },
  {
   "cell_type": "code",
   "execution_count": 12,
   "id": "f57a608c",
   "metadata": {},
   "outputs": [],
   "source": [
    "param = {\n",
    "    \"learning_rate\": 0.01,\n",
    "    \"seed\": RANDOM_STATE,\n",
    "    \"objective\": 'binary:logistic',\n",
    "    'eval_metric': 'auc',\n",
    "    'verbosity': 0,\n",
    "}"
   ]
  },
  {
   "cell_type": "code",
   "execution_count": 13,
   "id": "c7a942bc",
   "metadata": {
    "scrolled": true
   },
   "outputs": [
    {
     "name": "stderr",
     "output_type": "stream",
     "text": [
      "2024-07-25 18:30:15,809\tINFO worker.py:1612 -- Started a local Ray instance. View the dashboard at \u001b[1m\u001b[32m127.0.0.1:8265 \u001b[39m\u001b[22m\n"
     ]
    },
    {
     "name": "stdout",
     "output_type": "stream",
     "text": [
      "start training & evaluation for P074\n",
      "[0]\ttrain-auc:0.86633\teval-auc:0.81336\n",
      "[1]\ttrain-auc:0.86911\teval-auc:0.81505\n",
      "[2]\ttrain-auc:0.86934\teval-auc:0.81490\n",
      "[3]\ttrain-auc:0.86997\teval-auc:0.81493\n",
      "[4]\ttrain-auc:0.87114\teval-auc:0.81511\n",
      "[5]\ttrain-auc:0.87272\teval-auc:0.81638\n",
      "[6]\ttrain-auc:0.87293\teval-auc:0.81576\n",
      "[7]\ttrain-auc:0.87348\teval-auc:0.81651\n",
      "[8]\ttrain-auc:0.87370\teval-auc:0.81687\n",
      "[9]\ttrain-auc:0.87405\teval-auc:0.81686\n",
      "finish training & evaluation for P074\n",
      "start training & evaluation for P109\n"
     ]
    },
    {
     "name": "stderr",
     "output_type": "stream",
     "text": [
      "/home/panyu/miniconda3/envs/sci-data/lib/python3.9/site-packages/xgboost/core.py:122: UserWarning: ntree_limit is deprecated, use `iteration_range` or model slicing instead.\n",
      "  warnings.warn(\n",
      "/home/panyu/miniconda3/envs/sci-data/lib/python3.9/site-packages/xgboost/core.py:122: UserWarning: ntree_limit is deprecated, use `iteration_range` or model slicing instead.\n",
      "  warnings.warn(\n"
     ]
    },
    {
     "name": "stdout",
     "output_type": "stream",
     "text": [
      "[0]\ttrain-auc:0.86417\teval-auc:0.79931\n",
      "[1]\ttrain-auc:0.86570\teval-auc:0.80006\n",
      "[2]\ttrain-auc:0.87373\teval-auc:0.81048\n",
      "[3]\ttrain-auc:0.87459\teval-auc:0.81280\n",
      "[4]\ttrain-auc:0.87468\teval-auc:0.81213\n",
      "[5]\ttrain-auc:0.87562\teval-auc:0.81488\n",
      "[6]\ttrain-auc:0.87698\teval-auc:0.81710\n",
      "[7]\ttrain-auc:0.87791\teval-auc:0.81832\n",
      "[8]\ttrain-auc:0.87831\teval-auc:0.81728\n",
      "[9]\ttrain-auc:0.87893\teval-auc:0.81766\n",
      "finish training & evaluation for P109\n",
      "start training & evaluation for P114\n"
     ]
    },
    {
     "name": "stderr",
     "output_type": "stream",
     "text": [
      "/home/panyu/miniconda3/envs/sci-data/lib/python3.9/site-packages/xgboost/core.py:122: UserWarning: ntree_limit is deprecated, use `iteration_range` or model slicing instead.\n",
      "  warnings.warn(\n",
      "/home/panyu/miniconda3/envs/sci-data/lib/python3.9/site-packages/xgboost/core.py:122: UserWarning: ntree_limit is deprecated, use `iteration_range` or model slicing instead.\n",
      "  warnings.warn(\n"
     ]
    },
    {
     "name": "stdout",
     "output_type": "stream",
     "text": [
      "[0]\ttrain-auc:0.86627\teval-auc:0.81365\n",
      "[1]\ttrain-auc:0.86783\teval-auc:0.81575\n",
      "[2]\ttrain-auc:0.86893\teval-auc:0.81529\n",
      "[3]\ttrain-auc:0.87229\teval-auc:0.81869\n",
      "[4]\ttrain-auc:0.87323\teval-auc:0.81967\n",
      "[5]\ttrain-auc:0.87397\teval-auc:0.82013\n",
      "[6]\ttrain-auc:0.87450\teval-auc:0.82086\n",
      "[7]\ttrain-auc:0.87543\teval-auc:0.82174\n",
      "[8]\ttrain-auc:0.87679\teval-auc:0.82364\n",
      "[9]\ttrain-auc:0.87740\teval-auc:0.82437\n",
      "finish training & evaluation for P114\n",
      "start training & evaluation for P042\n"
     ]
    },
    {
     "name": "stderr",
     "output_type": "stream",
     "text": [
      "/home/panyu/miniconda3/envs/sci-data/lib/python3.9/site-packages/xgboost/core.py:122: UserWarning: ntree_limit is deprecated, use `iteration_range` or model slicing instead.\n",
      "  warnings.warn(\n",
      "/home/panyu/miniconda3/envs/sci-data/lib/python3.9/site-packages/xgboost/core.py:122: UserWarning: ntree_limit is deprecated, use `iteration_range` or model slicing instead.\n",
      "  warnings.warn(\n"
     ]
    },
    {
     "name": "stdout",
     "output_type": "stream",
     "text": [
      "[0]\ttrain-auc:0.86279\teval-auc:0.82294\n",
      "[1]\ttrain-auc:0.86428\teval-auc:0.82334\n",
      "[2]\ttrain-auc:0.87047\teval-auc:0.83056\n",
      "[3]\ttrain-auc:0.86996\teval-auc:0.82995\n",
      "[4]\ttrain-auc:0.87112\teval-auc:0.83196\n",
      "[5]\ttrain-auc:0.87173\teval-auc:0.83176\n",
      "[6]\ttrain-auc:0.87261\teval-auc:0.83272\n",
      "[7]\ttrain-auc:0.87316\teval-auc:0.83273\n",
      "[8]\ttrain-auc:0.87365\teval-auc:0.83324\n",
      "[9]\ttrain-auc:0.87366\teval-auc:0.83344\n",
      "finish training & evaluation for P042\n",
      "start training & evaluation for P067\n"
     ]
    },
    {
     "name": "stderr",
     "output_type": "stream",
     "text": [
      "/home/panyu/miniconda3/envs/sci-data/lib/python3.9/site-packages/xgboost/core.py:122: UserWarning: ntree_limit is deprecated, use `iteration_range` or model slicing instead.\n",
      "  warnings.warn(\n",
      "/home/panyu/miniconda3/envs/sci-data/lib/python3.9/site-packages/xgboost/core.py:122: UserWarning: ntree_limit is deprecated, use `iteration_range` or model slicing instead.\n",
      "  warnings.warn(\n"
     ]
    },
    {
     "name": "stdout",
     "output_type": "stream",
     "text": [
      "[0]\ttrain-auc:0.86378\teval-auc:0.80384\n",
      "[1]\ttrain-auc:0.86447\teval-auc:0.80535\n",
      "[2]\ttrain-auc:0.86568\teval-auc:0.80593\n",
      "[3]\ttrain-auc:0.86648\teval-auc:0.80767\n",
      "[4]\ttrain-auc:0.86788\teval-auc:0.80867\n",
      "[5]\ttrain-auc:0.86871\teval-auc:0.81015\n",
      "[6]\ttrain-auc:0.86923\teval-auc:0.81028\n",
      "[7]\ttrain-auc:0.86931\teval-auc:0.81107\n",
      "[8]\ttrain-auc:0.87069\teval-auc:0.81232\n",
      "[9]\ttrain-auc:0.87104\teval-auc:0.81261\n",
      "finish training & evaluation for P067\n",
      "start training & evaluation for P007\n"
     ]
    },
    {
     "name": "stderr",
     "output_type": "stream",
     "text": [
      "/home/panyu/miniconda3/envs/sci-data/lib/python3.9/site-packages/xgboost/core.py:122: UserWarning: ntree_limit is deprecated, use `iteration_range` or model slicing instead.\n",
      "  warnings.warn(\n",
      "/home/panyu/miniconda3/envs/sci-data/lib/python3.9/site-packages/xgboost/core.py:122: UserWarning: ntree_limit is deprecated, use `iteration_range` or model slicing instead.\n",
      "  warnings.warn(\n"
     ]
    },
    {
     "name": "stdout",
     "output_type": "stream",
     "text": [
      "[0]\ttrain-auc:0.86163\teval-auc:0.81054\n",
      "[1]\ttrain-auc:0.86365\teval-auc:0.81319\n",
      "[2]\ttrain-auc:0.86566\teval-auc:0.81334\n",
      "[3]\ttrain-auc:0.86581\teval-auc:0.81354\n",
      "[4]\ttrain-auc:0.86743\teval-auc:0.81482\n",
      "[5]\ttrain-auc:0.86815\teval-auc:0.81510\n",
      "[6]\ttrain-auc:0.86822\teval-auc:0.81540\n",
      "[7]\ttrain-auc:0.86883\teval-auc:0.81607\n",
      "[8]\ttrain-auc:0.87103\teval-auc:0.81791\n",
      "[9]\ttrain-auc:0.87153\teval-auc:0.81780\n",
      "finish training & evaluation for P007\n",
      "start training & evaluation for P099\n"
     ]
    },
    {
     "name": "stderr",
     "output_type": "stream",
     "text": [
      "/home/panyu/miniconda3/envs/sci-data/lib/python3.9/site-packages/xgboost/core.py:122: UserWarning: ntree_limit is deprecated, use `iteration_range` or model slicing instead.\n",
      "  warnings.warn(\n",
      "/home/panyu/miniconda3/envs/sci-data/lib/python3.9/site-packages/xgboost/core.py:122: UserWarning: ntree_limit is deprecated, use `iteration_range` or model slicing instead.\n",
      "  warnings.warn(\n"
     ]
    },
    {
     "name": "stdout",
     "output_type": "stream",
     "text": [
      "[0]\ttrain-auc:0.86471\teval-auc:0.80810\n",
      "[1]\ttrain-auc:0.86716\teval-auc:0.81121\n",
      "[2]\ttrain-auc:0.86805\teval-auc:0.81169\n",
      "[3]\ttrain-auc:0.86887\teval-auc:0.81238\n",
      "[4]\ttrain-auc:0.86911\teval-auc:0.81225\n",
      "[5]\ttrain-auc:0.87071\teval-auc:0.81283\n",
      "[6]\ttrain-auc:0.87140\teval-auc:0.81339\n",
      "[7]\ttrain-auc:0.87202\teval-auc:0.81431\n",
      "[8]\ttrain-auc:0.87281\teval-auc:0.81531\n",
      "[9]\ttrain-auc:0.87329\teval-auc:0.81547\n",
      "finish training & evaluation for P099\n",
      "start training & evaluation for P077\n"
     ]
    },
    {
     "name": "stderr",
     "output_type": "stream",
     "text": [
      "/home/panyu/miniconda3/envs/sci-data/lib/python3.9/site-packages/xgboost/core.py:122: UserWarning: ntree_limit is deprecated, use `iteration_range` or model slicing instead.\n",
      "  warnings.warn(\n",
      "/home/panyu/miniconda3/envs/sci-data/lib/python3.9/site-packages/xgboost/core.py:122: UserWarning: ntree_limit is deprecated, use `iteration_range` or model slicing instead.\n",
      "  warnings.warn(\n"
     ]
    },
    {
     "name": "stdout",
     "output_type": "stream",
     "text": [
      "[0]\ttrain-auc:0.86364\teval-auc:0.80926\n",
      "[1]\ttrain-auc:0.86696\teval-auc:0.81173\n",
      "[2]\ttrain-auc:0.86795\teval-auc:0.81278\n",
      "[3]\ttrain-auc:0.86941\teval-auc:0.81297\n",
      "[4]\ttrain-auc:0.86969\teval-auc:0.81341\n",
      "[5]\ttrain-auc:0.86988\teval-auc:0.81356\n",
      "[6]\ttrain-auc:0.87133\teval-auc:0.81526\n",
      "[7]\ttrain-auc:0.87132\teval-auc:0.81515\n",
      "[8]\ttrain-auc:0.87181\teval-auc:0.81526\n",
      "[9]\ttrain-auc:0.87230\teval-auc:0.81612\n",
      "finish training & evaluation for P077\n",
      "start training & evaluation for P092\n"
     ]
    },
    {
     "name": "stderr",
     "output_type": "stream",
     "text": [
      "/home/panyu/miniconda3/envs/sci-data/lib/python3.9/site-packages/xgboost/core.py:122: UserWarning: ntree_limit is deprecated, use `iteration_range` or model slicing instead.\n",
      "  warnings.warn(\n",
      "/home/panyu/miniconda3/envs/sci-data/lib/python3.9/site-packages/xgboost/core.py:122: UserWarning: ntree_limit is deprecated, use `iteration_range` or model slicing instead.\n",
      "  warnings.warn(\n"
     ]
    },
    {
     "name": "stdout",
     "output_type": "stream",
     "text": [
      "[0]\ttrain-auc:0.86451\teval-auc:0.81063\n",
      "[1]\ttrain-auc:0.86498\teval-auc:0.81202\n",
      "[2]\ttrain-auc:0.86902\teval-auc:0.81620\n",
      "[3]\ttrain-auc:0.86889\teval-auc:0.81658\n",
      "[4]\ttrain-auc:0.86931\teval-auc:0.81749\n",
      "[5]\ttrain-auc:0.86988\teval-auc:0.81801\n",
      "[6]\ttrain-auc:0.87006\teval-auc:0.81823\n",
      "[7]\ttrain-auc:0.87091\teval-auc:0.81794\n",
      "[8]\ttrain-auc:0.87124\teval-auc:0.81831\n",
      "[9]\ttrain-auc:0.87253\teval-auc:0.82002\n",
      "finish training & evaluation for P092\n",
      "start training & evaluation for P009\n"
     ]
    },
    {
     "name": "stderr",
     "output_type": "stream",
     "text": [
      "/home/panyu/miniconda3/envs/sci-data/lib/python3.9/site-packages/xgboost/core.py:122: UserWarning: ntree_limit is deprecated, use `iteration_range` or model slicing instead.\n",
      "  warnings.warn(\n",
      "/home/panyu/miniconda3/envs/sci-data/lib/python3.9/site-packages/xgboost/core.py:122: UserWarning: ntree_limit is deprecated, use `iteration_range` or model slicing instead.\n",
      "  warnings.warn(\n"
     ]
    },
    {
     "name": "stdout",
     "output_type": "stream",
     "text": [
      "[0]\ttrain-auc:0.86376\teval-auc:0.82416\n",
      "[1]\ttrain-auc:0.86592\teval-auc:0.82581\n",
      "[2]\ttrain-auc:0.86595\teval-auc:0.82579\n",
      "[3]\ttrain-auc:0.86797\teval-auc:0.82606\n",
      "[4]\ttrain-auc:0.86966\teval-auc:0.82966\n",
      "[5]\ttrain-auc:0.87062\teval-auc:0.83135\n",
      "[6]\ttrain-auc:0.87116\teval-auc:0.83162\n",
      "[7]\ttrain-auc:0.87127\teval-auc:0.83143\n",
      "[8]\ttrain-auc:0.87370\teval-auc:0.83265\n",
      "[9]\ttrain-auc:0.87416\teval-auc:0.83279\n",
      "finish training & evaluation for P009\n",
      "start training & evaluation for P044\n"
     ]
    },
    {
     "name": "stderr",
     "output_type": "stream",
     "text": [
      "/home/panyu/miniconda3/envs/sci-data/lib/python3.9/site-packages/xgboost/core.py:122: UserWarning: ntree_limit is deprecated, use `iteration_range` or model slicing instead.\n",
      "  warnings.warn(\n",
      "/home/panyu/miniconda3/envs/sci-data/lib/python3.9/site-packages/xgboost/core.py:122: UserWarning: ntree_limit is deprecated, use `iteration_range` or model slicing instead.\n",
      "  warnings.warn(\n"
     ]
    },
    {
     "name": "stdout",
     "output_type": "stream",
     "text": [
      "[0]\ttrain-auc:0.86284\teval-auc:0.81621\n",
      "[1]\ttrain-auc:0.86655\teval-auc:0.81826\n",
      "[2]\ttrain-auc:0.86713\teval-auc:0.81858\n",
      "[3]\ttrain-auc:0.86874\teval-auc:0.82086\n",
      "[4]\ttrain-auc:0.86966\teval-auc:0.82280\n",
      "[5]\ttrain-auc:0.86991\teval-auc:0.82405\n",
      "[6]\ttrain-auc:0.87196\teval-auc:0.82544\n",
      "[7]\ttrain-auc:0.87209\teval-auc:0.82607\n",
      "[8]\ttrain-auc:0.87330\teval-auc:0.82696\n",
      "[9]\ttrain-auc:0.87354\teval-auc:0.82666\n",
      "finish training & evaluation for P044\n",
      "start training & evaluation for P126\n"
     ]
    },
    {
     "name": "stderr",
     "output_type": "stream",
     "text": [
      "/home/panyu/miniconda3/envs/sci-data/lib/python3.9/site-packages/xgboost/core.py:122: UserWarning: ntree_limit is deprecated, use `iteration_range` or model slicing instead.\n",
      "  warnings.warn(\n",
      "/home/panyu/miniconda3/envs/sci-data/lib/python3.9/site-packages/xgboost/core.py:122: UserWarning: ntree_limit is deprecated, use `iteration_range` or model slicing instead.\n",
      "  warnings.warn(\n"
     ]
    },
    {
     "name": "stdout",
     "output_type": "stream",
     "text": [
      "[0]\ttrain-auc:0.86401\teval-auc:0.80826\n",
      "[1]\ttrain-auc:0.86464\teval-auc:0.80994\n",
      "[2]\ttrain-auc:0.86660\teval-auc:0.81054\n",
      "[3]\ttrain-auc:0.86823\teval-auc:0.81130\n",
      "[4]\ttrain-auc:0.87100\teval-auc:0.81362\n",
      "[5]\ttrain-auc:0.87261\teval-auc:0.81326\n",
      "[6]\ttrain-auc:0.87422\teval-auc:0.81454\n",
      "[7]\ttrain-auc:0.87530\teval-auc:0.81545\n",
      "[8]\ttrain-auc:0.87621\teval-auc:0.81562\n",
      "[9]\ttrain-auc:0.87674\teval-auc:0.81570\n",
      "finish training & evaluation for P126\n",
      "start training & evaluation for P098\n"
     ]
    },
    {
     "name": "stderr",
     "output_type": "stream",
     "text": [
      "/home/panyu/miniconda3/envs/sci-data/lib/python3.9/site-packages/xgboost/core.py:122: UserWarning: ntree_limit is deprecated, use `iteration_range` or model slicing instead.\n",
      "  warnings.warn(\n",
      "/home/panyu/miniconda3/envs/sci-data/lib/python3.9/site-packages/xgboost/core.py:122: UserWarning: ntree_limit is deprecated, use `iteration_range` or model slicing instead.\n",
      "  warnings.warn(\n"
     ]
    },
    {
     "name": "stdout",
     "output_type": "stream",
     "text": [
      "[0]\ttrain-auc:0.86369\teval-auc:0.80684\n",
      "[1]\ttrain-auc:0.86684\teval-auc:0.80976\n",
      "[2]\ttrain-auc:0.87002\teval-auc:0.81435\n",
      "[3]\ttrain-auc:0.87156\teval-auc:0.81641\n",
      "[4]\ttrain-auc:0.87203\teval-auc:0.81558\n",
      "[5]\ttrain-auc:0.87264\teval-auc:0.81620\n",
      "[6]\ttrain-auc:0.87326\teval-auc:0.81651\n",
      "[7]\ttrain-auc:0.87403\teval-auc:0.81806\n",
      "[8]\ttrain-auc:0.87465\teval-auc:0.81801\n",
      "[9]\ttrain-auc:0.87551\teval-auc:0.81945\n",
      "finish training & evaluation for P098\n",
      "start training & evaluation for P028\n"
     ]
    },
    {
     "name": "stderr",
     "output_type": "stream",
     "text": [
      "/home/panyu/miniconda3/envs/sci-data/lib/python3.9/site-packages/xgboost/core.py:122: UserWarning: ntree_limit is deprecated, use `iteration_range` or model slicing instead.\n",
      "  warnings.warn(\n",
      "/home/panyu/miniconda3/envs/sci-data/lib/python3.9/site-packages/xgboost/core.py:122: UserWarning: ntree_limit is deprecated, use `iteration_range` or model slicing instead.\n",
      "  warnings.warn(\n"
     ]
    },
    {
     "name": "stdout",
     "output_type": "stream",
     "text": [
      "[0]\ttrain-auc:0.86614\teval-auc:0.81875\n",
      "[1]\ttrain-auc:0.87104\teval-auc:0.82321\n",
      "[2]\ttrain-auc:0.87255\teval-auc:0.82465\n",
      "[3]\ttrain-auc:0.87345\teval-auc:0.82604\n",
      "[4]\ttrain-auc:0.87420\teval-auc:0.82771\n",
      "[5]\ttrain-auc:0.87399\teval-auc:0.82719\n",
      "[6]\ttrain-auc:0.87397\teval-auc:0.82810\n",
      "[7]\ttrain-auc:0.87475\teval-auc:0.82835\n",
      "[8]\ttrain-auc:0.87505\teval-auc:0.82864\n",
      "[9]\ttrain-auc:0.87531\teval-auc:0.82885\n",
      "finish training & evaluation for P028\n",
      "start training & evaluation for P095\n"
     ]
    },
    {
     "name": "stderr",
     "output_type": "stream",
     "text": [
      "/home/panyu/miniconda3/envs/sci-data/lib/python3.9/site-packages/xgboost/core.py:122: UserWarning: ntree_limit is deprecated, use `iteration_range` or model slicing instead.\n",
      "  warnings.warn(\n",
      "/home/panyu/miniconda3/envs/sci-data/lib/python3.9/site-packages/xgboost/core.py:122: UserWarning: ntree_limit is deprecated, use `iteration_range` or model slicing instead.\n",
      "  warnings.warn(\n"
     ]
    },
    {
     "name": "stdout",
     "output_type": "stream",
     "text": [
      "[0]\ttrain-auc:0.86326\teval-auc:0.80769\n",
      "[1]\ttrain-auc:0.86366\teval-auc:0.80691\n",
      "[2]\ttrain-auc:0.86549\teval-auc:0.80833\n",
      "[3]\ttrain-auc:0.86566\teval-auc:0.80932\n",
      "[4]\ttrain-auc:0.86591\teval-auc:0.80994\n",
      "[5]\ttrain-auc:0.87020\teval-auc:0.81335\n",
      "[6]\ttrain-auc:0.87023\teval-auc:0.81269\n",
      "[7]\ttrain-auc:0.87092\teval-auc:0.81403\n",
      "[8]\ttrain-auc:0.87289\teval-auc:0.81468\n",
      "[9]\ttrain-auc:0.87367\teval-auc:0.81593\n",
      "finish training & evaluation for P095\n",
      "start training & evaluation for P131\n"
     ]
    },
    {
     "name": "stderr",
     "output_type": "stream",
     "text": [
      "/home/panyu/miniconda3/envs/sci-data/lib/python3.9/site-packages/xgboost/core.py:122: UserWarning: ntree_limit is deprecated, use `iteration_range` or model slicing instead.\n",
      "  warnings.warn(\n",
      "/home/panyu/miniconda3/envs/sci-data/lib/python3.9/site-packages/xgboost/core.py:122: UserWarning: ntree_limit is deprecated, use `iteration_range` or model slicing instead.\n",
      "  warnings.warn(\n"
     ]
    },
    {
     "name": "stdout",
     "output_type": "stream",
     "text": [
      "[0]\ttrain-auc:0.86375\teval-auc:0.80514\n",
      "[1]\ttrain-auc:0.86646\teval-auc:0.80676\n",
      "[2]\ttrain-auc:0.86798\teval-auc:0.81036\n",
      "[3]\ttrain-auc:0.86869\teval-auc:0.81167\n",
      "[4]\ttrain-auc:0.86911\teval-auc:0.81060\n",
      "[5]\ttrain-auc:0.86919\teval-auc:0.81226\n",
      "[6]\ttrain-auc:0.86953\teval-auc:0.81244\n",
      "[7]\ttrain-auc:0.86957\teval-auc:0.81277\n",
      "[8]\ttrain-auc:0.87175\teval-auc:0.81360\n",
      "[9]\ttrain-auc:0.87276\teval-auc:0.81467\n",
      "finish training & evaluation for P131\n",
      "start training & evaluation for P034\n"
     ]
    },
    {
     "name": "stderr",
     "output_type": "stream",
     "text": [
      "/home/panyu/miniconda3/envs/sci-data/lib/python3.9/site-packages/xgboost/core.py:122: UserWarning: ntree_limit is deprecated, use `iteration_range` or model slicing instead.\n",
      "  warnings.warn(\n",
      "/home/panyu/miniconda3/envs/sci-data/lib/python3.9/site-packages/xgboost/core.py:122: UserWarning: ntree_limit is deprecated, use `iteration_range` or model slicing instead.\n",
      "  warnings.warn(\n"
     ]
    },
    {
     "name": "stdout",
     "output_type": "stream",
     "text": [
      "[0]\ttrain-auc:0.86729\teval-auc:0.80377\n",
      "[1]\ttrain-auc:0.86873\teval-auc:0.80488\n",
      "[2]\ttrain-auc:0.86970\teval-auc:0.80881\n",
      "[3]\ttrain-auc:0.87239\teval-auc:0.81124\n",
      "[4]\ttrain-auc:0.87350\teval-auc:0.81262\n",
      "[5]\ttrain-auc:0.87453\teval-auc:0.81351\n",
      "[6]\ttrain-auc:0.87686\teval-auc:0.81379\n",
      "[7]\ttrain-auc:0.87739\teval-auc:0.81494\n",
      "[8]\ttrain-auc:0.87782\teval-auc:0.81452\n",
      "[9]\ttrain-auc:0.87955\teval-auc:0.81582\n",
      "finish training & evaluation for P034\n",
      "start training & evaluation for P023\n"
     ]
    },
    {
     "name": "stderr",
     "output_type": "stream",
     "text": [
      "/home/panyu/miniconda3/envs/sci-data/lib/python3.9/site-packages/xgboost/core.py:122: UserWarning: ntree_limit is deprecated, use `iteration_range` or model slicing instead.\n",
      "  warnings.warn(\n",
      "/home/panyu/miniconda3/envs/sci-data/lib/python3.9/site-packages/xgboost/core.py:122: UserWarning: ntree_limit is deprecated, use `iteration_range` or model slicing instead.\n",
      "  warnings.warn(\n"
     ]
    },
    {
     "name": "stdout",
     "output_type": "stream",
     "text": [
      "[0]\ttrain-auc:0.86471\teval-auc:0.81917\n",
      "[1]\ttrain-auc:0.86557\teval-auc:0.81901\n",
      "[2]\ttrain-auc:0.86580\teval-auc:0.81920\n",
      "[3]\ttrain-auc:0.86737\teval-auc:0.81977\n",
      "[4]\ttrain-auc:0.86741\teval-auc:0.81976\n",
      "[5]\ttrain-auc:0.86786\teval-auc:0.81967\n",
      "[6]\ttrain-auc:0.87048\teval-auc:0.82258\n",
      "[7]\ttrain-auc:0.87148\teval-auc:0.82357\n",
      "[8]\ttrain-auc:0.87191\teval-auc:0.82409\n",
      "[9]\ttrain-auc:0.87272\teval-auc:0.82488\n",
      "finish training & evaluation for P023\n",
      "start training & evaluation for P043\n"
     ]
    },
    {
     "name": "stderr",
     "output_type": "stream",
     "text": [
      "/home/panyu/miniconda3/envs/sci-data/lib/python3.9/site-packages/xgboost/core.py:122: UserWarning: ntree_limit is deprecated, use `iteration_range` or model slicing instead.\n",
      "  warnings.warn(\n",
      "/home/panyu/miniconda3/envs/sci-data/lib/python3.9/site-packages/xgboost/core.py:122: UserWarning: ntree_limit is deprecated, use `iteration_range` or model slicing instead.\n",
      "  warnings.warn(\n"
     ]
    },
    {
     "name": "stdout",
     "output_type": "stream",
     "text": [
      "[0]\ttrain-auc:0.86099\teval-auc:0.81731\n",
      "[1]\ttrain-auc:0.86146\teval-auc:0.81828\n",
      "[2]\ttrain-auc:0.86159\teval-auc:0.81880\n",
      "[3]\ttrain-auc:0.86195\teval-auc:0.81895\n",
      "[4]\ttrain-auc:0.86616\teval-auc:0.82410\n",
      "[5]\ttrain-auc:0.86594\teval-auc:0.82333\n",
      "[6]\ttrain-auc:0.86777\teval-auc:0.82590\n",
      "[7]\ttrain-auc:0.86774\teval-auc:0.82537\n",
      "[8]\ttrain-auc:0.86858\teval-auc:0.82694\n",
      "[9]\ttrain-auc:0.86853\teval-auc:0.82643\n",
      "finish training & evaluation for P043\n",
      "start training & evaluation for P101\n"
     ]
    },
    {
     "name": "stderr",
     "output_type": "stream",
     "text": [
      "/home/panyu/miniconda3/envs/sci-data/lib/python3.9/site-packages/xgboost/core.py:122: UserWarning: ntree_limit is deprecated, use `iteration_range` or model slicing instead.\n",
      "  warnings.warn(\n",
      "/home/panyu/miniconda3/envs/sci-data/lib/python3.9/site-packages/xgboost/core.py:122: UserWarning: ntree_limit is deprecated, use `iteration_range` or model slicing instead.\n",
      "  warnings.warn(\n"
     ]
    },
    {
     "name": "stdout",
     "output_type": "stream",
     "text": [
      "[0]\ttrain-auc:0.86618\teval-auc:0.80572\n",
      "[1]\ttrain-auc:0.86822\teval-auc:0.80872\n",
      "[2]\ttrain-auc:0.86919\teval-auc:0.80926\n",
      "[3]\ttrain-auc:0.87196\teval-auc:0.81150\n",
      "[4]\ttrain-auc:0.87302\teval-auc:0.81298\n",
      "[5]\ttrain-auc:0.87325\teval-auc:0.81314\n",
      "[6]\ttrain-auc:0.87371\teval-auc:0.81382\n",
      "[7]\ttrain-auc:0.87371\teval-auc:0.81468\n",
      "[8]\ttrain-auc:0.87414\teval-auc:0.81440\n",
      "[9]\ttrain-auc:0.87470\teval-auc:0.81557\n",
      "finish training & evaluation for P101\n",
      "start training & evaluation for P047\n"
     ]
    },
    {
     "name": "stderr",
     "output_type": "stream",
     "text": [
      "/home/panyu/miniconda3/envs/sci-data/lib/python3.9/site-packages/xgboost/core.py:122: UserWarning: ntree_limit is deprecated, use `iteration_range` or model slicing instead.\n",
      "  warnings.warn(\n",
      "/home/panyu/miniconda3/envs/sci-data/lib/python3.9/site-packages/xgboost/core.py:122: UserWarning: ntree_limit is deprecated, use `iteration_range` or model slicing instead.\n",
      "  warnings.warn(\n"
     ]
    },
    {
     "name": "stdout",
     "output_type": "stream",
     "text": [
      "[0]\ttrain-auc:0.86381\teval-auc:0.82191\n",
      "[1]\ttrain-auc:0.86474\teval-auc:0.82216\n",
      "[2]\ttrain-auc:0.86476\teval-auc:0.82220\n",
      "[3]\ttrain-auc:0.86554\teval-auc:0.82244\n",
      "[4]\ttrain-auc:0.86757\teval-auc:0.82376\n",
      "[5]\ttrain-auc:0.86810\teval-auc:0.82465\n",
      "[6]\ttrain-auc:0.86869\teval-auc:0.82593\n",
      "[7]\ttrain-auc:0.86913\teval-auc:0.82673\n",
      "[8]\ttrain-auc:0.86952\teval-auc:0.82775\n",
      "[9]\ttrain-auc:0.87027\teval-auc:0.82819\n",
      "finish training & evaluation for P047\n",
      "start training & evaluation for P096\n"
     ]
    },
    {
     "name": "stderr",
     "output_type": "stream",
     "text": [
      "/home/panyu/miniconda3/envs/sci-data/lib/python3.9/site-packages/xgboost/core.py:122: UserWarning: ntree_limit is deprecated, use `iteration_range` or model slicing instead.\n",
      "  warnings.warn(\n",
      "/home/panyu/miniconda3/envs/sci-data/lib/python3.9/site-packages/xgboost/core.py:122: UserWarning: ntree_limit is deprecated, use `iteration_range` or model slicing instead.\n",
      "  warnings.warn(\n"
     ]
    },
    {
     "name": "stdout",
     "output_type": "stream",
     "text": [
      "[0]\ttrain-auc:0.86593\teval-auc:0.81772\n",
      "[1]\ttrain-auc:0.86771\teval-auc:0.81975\n",
      "[2]\ttrain-auc:0.86873\teval-auc:0.82026\n",
      "[3]\ttrain-auc:0.86933\teval-auc:0.82204\n",
      "[4]\ttrain-auc:0.87026\teval-auc:0.82229\n",
      "[5]\ttrain-auc:0.87080\teval-auc:0.82224\n",
      "[6]\ttrain-auc:0.87198\teval-auc:0.82315\n",
      "[7]\ttrain-auc:0.87328\teval-auc:0.82356\n",
      "[8]\ttrain-auc:0.87356\teval-auc:0.82349\n",
      "[9]\ttrain-auc:0.87385\teval-auc:0.82367\n",
      "finish training & evaluation for P096\n",
      "start training & evaluation for P025\n"
     ]
    },
    {
     "name": "stderr",
     "output_type": "stream",
     "text": [
      "/home/panyu/miniconda3/envs/sci-data/lib/python3.9/site-packages/xgboost/core.py:122: UserWarning: ntree_limit is deprecated, use `iteration_range` or model slicing instead.\n",
      "  warnings.warn(\n",
      "/home/panyu/miniconda3/envs/sci-data/lib/python3.9/site-packages/xgboost/core.py:122: UserWarning: ntree_limit is deprecated, use `iteration_range` or model slicing instead.\n",
      "  warnings.warn(\n"
     ]
    },
    {
     "name": "stdout",
     "output_type": "stream",
     "text": [
      "[0]\ttrain-auc:0.86487\teval-auc:0.79770\n",
      "[1]\ttrain-auc:0.86799\teval-auc:0.79736\n",
      "[2]\ttrain-auc:0.86981\teval-auc:0.80132\n",
      "[3]\ttrain-auc:0.87108\teval-auc:0.80320\n",
      "[4]\ttrain-auc:0.87243\teval-auc:0.80389\n",
      "[5]\ttrain-auc:0.87328\teval-auc:0.80531\n",
      "[6]\ttrain-auc:0.87363\teval-auc:0.80506\n",
      "[7]\ttrain-auc:0.87390\teval-auc:0.80463\n",
      "[8]\ttrain-auc:0.87418\teval-auc:0.80599\n",
      "[9]\ttrain-auc:0.87454\teval-auc:0.80565\n",
      "finish training & evaluation for P025\n",
      "start training & evaluation for P048\n"
     ]
    },
    {
     "name": "stderr",
     "output_type": "stream",
     "text": [
      "/home/panyu/miniconda3/envs/sci-data/lib/python3.9/site-packages/xgboost/core.py:122: UserWarning: ntree_limit is deprecated, use `iteration_range` or model slicing instead.\n",
      "  warnings.warn(\n",
      "/home/panyu/miniconda3/envs/sci-data/lib/python3.9/site-packages/xgboost/core.py:122: UserWarning: ntree_limit is deprecated, use `iteration_range` or model slicing instead.\n",
      "  warnings.warn(\n"
     ]
    },
    {
     "name": "stdout",
     "output_type": "stream",
     "text": [
      "[0]\ttrain-auc:0.86227\teval-auc:0.81412\n",
      "[1]\ttrain-auc:0.86231\teval-auc:0.81414\n",
      "[2]\ttrain-auc:0.86412\teval-auc:0.81785\n",
      "[3]\ttrain-auc:0.86584\teval-auc:0.81928\n",
      "[4]\ttrain-auc:0.86668\teval-auc:0.82163\n",
      "[5]\ttrain-auc:0.86838\teval-auc:0.82267\n",
      "[6]\ttrain-auc:0.87027\teval-auc:0.82479\n",
      "[7]\ttrain-auc:0.87126\teval-auc:0.82612\n",
      "[8]\ttrain-auc:0.87137\teval-auc:0.82610\n",
      "[9]\ttrain-auc:0.87183\teval-auc:0.82630\n",
      "finish training & evaluation for P048\n",
      "start training & evaluation for P010\n"
     ]
    },
    {
     "name": "stderr",
     "output_type": "stream",
     "text": [
      "/home/panyu/miniconda3/envs/sci-data/lib/python3.9/site-packages/xgboost/core.py:122: UserWarning: ntree_limit is deprecated, use `iteration_range` or model slicing instead.\n",
      "  warnings.warn(\n",
      "/home/panyu/miniconda3/envs/sci-data/lib/python3.9/site-packages/xgboost/core.py:122: UserWarning: ntree_limit is deprecated, use `iteration_range` or model slicing instead.\n",
      "  warnings.warn(\n"
     ]
    },
    {
     "name": "stdout",
     "output_type": "stream",
     "text": [
      "[0]\ttrain-auc:0.86507\teval-auc:0.80706\n",
      "[1]\ttrain-auc:0.86829\teval-auc:0.81147\n",
      "[2]\ttrain-auc:0.86824\teval-auc:0.81092\n",
      "[3]\ttrain-auc:0.86954\teval-auc:0.81236\n",
      "[4]\ttrain-auc:0.87024\teval-auc:0.81353\n",
      "[5]\ttrain-auc:0.87055\teval-auc:0.81405\n",
      "[6]\ttrain-auc:0.87118\teval-auc:0.81487\n",
      "[7]\ttrain-auc:0.87207\teval-auc:0.81589\n",
      "[8]\ttrain-auc:0.87342\teval-auc:0.81720\n",
      "[9]\ttrain-auc:0.87401\teval-auc:0.81809\n",
      "finish training & evaluation for P010\n",
      "start training & evaluation for P002\n"
     ]
    },
    {
     "name": "stderr",
     "output_type": "stream",
     "text": [
      "/home/panyu/miniconda3/envs/sci-data/lib/python3.9/site-packages/xgboost/core.py:122: UserWarning: ntree_limit is deprecated, use `iteration_range` or model slicing instead.\n",
      "  warnings.warn(\n",
      "/home/panyu/miniconda3/envs/sci-data/lib/python3.9/site-packages/xgboost/core.py:122: UserWarning: ntree_limit is deprecated, use `iteration_range` or model slicing instead.\n",
      "  warnings.warn(\n"
     ]
    },
    {
     "name": "stdout",
     "output_type": "stream",
     "text": [
      "[0]\ttrain-auc:0.86516\teval-auc:0.80835\n",
      "[1]\ttrain-auc:0.86551\teval-auc:0.80820\n",
      "[2]\ttrain-auc:0.86593\teval-auc:0.80840\n",
      "[3]\ttrain-auc:0.86753\teval-auc:0.80837\n",
      "[4]\ttrain-auc:0.86823\teval-auc:0.81029\n",
      "[5]\ttrain-auc:0.86928\teval-auc:0.81130\n",
      "[6]\ttrain-auc:0.86938\teval-auc:0.81081\n",
      "[7]\ttrain-auc:0.86971\teval-auc:0.81159\n",
      "[8]\ttrain-auc:0.87071\teval-auc:0.81386\n",
      "[9]\ttrain-auc:0.87127\teval-auc:0.81339\n",
      "finish training & evaluation for P002\n",
      "start training & evaluation for P011\n"
     ]
    },
    {
     "name": "stderr",
     "output_type": "stream",
     "text": [
      "/home/panyu/miniconda3/envs/sci-data/lib/python3.9/site-packages/xgboost/core.py:122: UserWarning: ntree_limit is deprecated, use `iteration_range` or model slicing instead.\n",
      "  warnings.warn(\n",
      "/home/panyu/miniconda3/envs/sci-data/lib/python3.9/site-packages/xgboost/core.py:122: UserWarning: ntree_limit is deprecated, use `iteration_range` or model slicing instead.\n",
      "  warnings.warn(\n"
     ]
    },
    {
     "name": "stdout",
     "output_type": "stream",
     "text": [
      "[0]\ttrain-auc:0.86133\teval-auc:0.82294\n",
      "[1]\ttrain-auc:0.86279\teval-auc:0.82440\n",
      "[2]\ttrain-auc:0.86288\teval-auc:0.82440\n",
      "[3]\ttrain-auc:0.86489\teval-auc:0.82467\n",
      "[4]\ttrain-auc:0.86686\teval-auc:0.82517\n",
      "[5]\ttrain-auc:0.86746\teval-auc:0.82592\n",
      "[6]\ttrain-auc:0.86743\teval-auc:0.82591\n",
      "[7]\ttrain-auc:0.86768\teval-auc:0.82568\n",
      "[8]\ttrain-auc:0.86840\teval-auc:0.82643\n",
      "[9]\ttrain-auc:0.86897\teval-auc:0.82666\n",
      "finish training & evaluation for P011\n",
      "start training & evaluation for P083\n"
     ]
    },
    {
     "name": "stderr",
     "output_type": "stream",
     "text": [
      "/home/panyu/miniconda3/envs/sci-data/lib/python3.9/site-packages/xgboost/core.py:122: UserWarning: ntree_limit is deprecated, use `iteration_range` or model slicing instead.\n",
      "  warnings.warn(\n",
      "/home/panyu/miniconda3/envs/sci-data/lib/python3.9/site-packages/xgboost/core.py:122: UserWarning: ntree_limit is deprecated, use `iteration_range` or model slicing instead.\n",
      "  warnings.warn(\n"
     ]
    },
    {
     "name": "stdout",
     "output_type": "stream",
     "text": [
      "[0]\ttrain-auc:0.86466\teval-auc:0.80730\n",
      "[1]\ttrain-auc:0.86564\teval-auc:0.80699\n",
      "[2]\ttrain-auc:0.86578\teval-auc:0.80731\n",
      "[3]\ttrain-auc:0.86931\teval-auc:0.80837\n",
      "[4]\ttrain-auc:0.86984\teval-auc:0.80902\n",
      "[5]\ttrain-auc:0.87043\teval-auc:0.80902\n",
      "[6]\ttrain-auc:0.87177\teval-auc:0.81069\n",
      "[7]\ttrain-auc:0.87264\teval-auc:0.81177\n",
      "[8]\ttrain-auc:0.87332\teval-auc:0.81237\n",
      "[9]\ttrain-auc:0.87363\teval-auc:0.81247\n",
      "finish training & evaluation for P083\n",
      "start training & evaluation for P118\n"
     ]
    },
    {
     "name": "stderr",
     "output_type": "stream",
     "text": [
      "/home/panyu/miniconda3/envs/sci-data/lib/python3.9/site-packages/xgboost/core.py:122: UserWarning: ntree_limit is deprecated, use `iteration_range` or model slicing instead.\n",
      "  warnings.warn(\n",
      "/home/panyu/miniconda3/envs/sci-data/lib/python3.9/site-packages/xgboost/core.py:122: UserWarning: ntree_limit is deprecated, use `iteration_range` or model slicing instead.\n",
      "  warnings.warn(\n"
     ]
    },
    {
     "name": "stdout",
     "output_type": "stream",
     "text": [
      "[0]\ttrain-auc:0.86672\teval-auc:0.79541\n",
      "[1]\ttrain-auc:0.86944\teval-auc:0.80123\n",
      "[2]\ttrain-auc:0.86899\teval-auc:0.79980\n",
      "[3]\ttrain-auc:0.87248\teval-auc:0.80437\n",
      "[4]\ttrain-auc:0.87263\teval-auc:0.80547\n",
      "[5]\ttrain-auc:0.87355\teval-auc:0.80694\n",
      "[6]\ttrain-auc:0.87498\teval-auc:0.80891\n",
      "[7]\ttrain-auc:0.87507\teval-auc:0.80904\n",
      "[8]\ttrain-auc:0.87558\teval-auc:0.80929\n",
      "[9]\ttrain-auc:0.87563\teval-auc:0.80952\n",
      "finish training & evaluation for P118\n",
      "start training & evaluation for P040\n"
     ]
    },
    {
     "name": "stderr",
     "output_type": "stream",
     "text": [
      "/home/panyu/miniconda3/envs/sci-data/lib/python3.9/site-packages/xgboost/core.py:122: UserWarning: ntree_limit is deprecated, use `iteration_range` or model slicing instead.\n",
      "  warnings.warn(\n",
      "/home/panyu/miniconda3/envs/sci-data/lib/python3.9/site-packages/xgboost/core.py:122: UserWarning: ntree_limit is deprecated, use `iteration_range` or model slicing instead.\n",
      "  warnings.warn(\n"
     ]
    },
    {
     "name": "stdout",
     "output_type": "stream",
     "text": [
      "[0]\ttrain-auc:0.86473\teval-auc:0.81012\n",
      "[1]\ttrain-auc:0.86495\teval-auc:0.81061\n",
      "[2]\ttrain-auc:0.86511\teval-auc:0.80970\n",
      "[3]\ttrain-auc:0.86550\teval-auc:0.81081\n",
      "[4]\ttrain-auc:0.86582\teval-auc:0.81126\n",
      "[5]\ttrain-auc:0.86577\teval-auc:0.81079\n",
      "[6]\ttrain-auc:0.86634\teval-auc:0.81103\n",
      "[7]\ttrain-auc:0.86787\teval-auc:0.81254\n",
      "[8]\ttrain-auc:0.86876\teval-auc:0.81284\n",
      "[9]\ttrain-auc:0.86991\teval-auc:0.81338\n",
      "finish training & evaluation for P040\n",
      "start training & evaluation for P072\n"
     ]
    },
    {
     "name": "stderr",
     "output_type": "stream",
     "text": [
      "/home/panyu/miniconda3/envs/sci-data/lib/python3.9/site-packages/xgboost/core.py:122: UserWarning: ntree_limit is deprecated, use `iteration_range` or model slicing instead.\n",
      "  warnings.warn(\n",
      "/home/panyu/miniconda3/envs/sci-data/lib/python3.9/site-packages/xgboost/core.py:122: UserWarning: ntree_limit is deprecated, use `iteration_range` or model slicing instead.\n",
      "  warnings.warn(\n"
     ]
    },
    {
     "name": "stdout",
     "output_type": "stream",
     "text": [
      "[0]\ttrain-auc:0.86482\teval-auc:0.81358\n",
      "[1]\ttrain-auc:0.86577\teval-auc:0.81481\n",
      "[2]\ttrain-auc:0.86897\teval-auc:0.81719\n",
      "[3]\ttrain-auc:0.86930\teval-auc:0.81800\n",
      "[4]\ttrain-auc:0.86957\teval-auc:0.81758\n",
      "[5]\ttrain-auc:0.86982\teval-auc:0.81802\n",
      "[6]\ttrain-auc:0.87296\teval-auc:0.82153\n",
      "[7]\ttrain-auc:0.87343\teval-auc:0.82227\n",
      "[8]\ttrain-auc:0.87500\teval-auc:0.82375\n",
      "[9]\ttrain-auc:0.87530\teval-auc:0.82397\n",
      "finish training & evaluation for P072\n",
      "start training & evaluation for P051\n"
     ]
    },
    {
     "name": "stderr",
     "output_type": "stream",
     "text": [
      "/home/panyu/miniconda3/envs/sci-data/lib/python3.9/site-packages/xgboost/core.py:122: UserWarning: ntree_limit is deprecated, use `iteration_range` or model slicing instead.\n",
      "  warnings.warn(\n",
      "/home/panyu/miniconda3/envs/sci-data/lib/python3.9/site-packages/xgboost/core.py:122: UserWarning: ntree_limit is deprecated, use `iteration_range` or model slicing instead.\n",
      "  warnings.warn(\n"
     ]
    },
    {
     "name": "stdout",
     "output_type": "stream",
     "text": [
      "[0]\ttrain-auc:0.86339\teval-auc:0.82056\n",
      "[1]\ttrain-auc:0.86621\teval-auc:0.82359\n",
      "[2]\ttrain-auc:0.86690\teval-auc:0.82479\n",
      "[3]\ttrain-auc:0.86735\teval-auc:0.82532\n",
      "[4]\ttrain-auc:0.86802\teval-auc:0.82687\n",
      "[5]\ttrain-auc:0.86957\teval-auc:0.82882\n",
      "[6]\ttrain-auc:0.87014\teval-auc:0.82839\n",
      "[7]\ttrain-auc:0.87173\teval-auc:0.82911\n",
      "[8]\ttrain-auc:0.87336\teval-auc:0.83026\n",
      "[9]\ttrain-auc:0.87430\teval-auc:0.83032\n",
      "finish training & evaluation for P051\n",
      "start training & evaluation for P015\n"
     ]
    },
    {
     "name": "stderr",
     "output_type": "stream",
     "text": [
      "/home/panyu/miniconda3/envs/sci-data/lib/python3.9/site-packages/xgboost/core.py:122: UserWarning: ntree_limit is deprecated, use `iteration_range` or model slicing instead.\n",
      "  warnings.warn(\n",
      "/home/panyu/miniconda3/envs/sci-data/lib/python3.9/site-packages/xgboost/core.py:122: UserWarning: ntree_limit is deprecated, use `iteration_range` or model slicing instead.\n",
      "  warnings.warn(\n"
     ]
    },
    {
     "name": "stdout",
     "output_type": "stream",
     "text": [
      "[0]\ttrain-auc:0.86471\teval-auc:0.81573\n",
      "[1]\ttrain-auc:0.86624\teval-auc:0.82055\n",
      "[2]\ttrain-auc:0.86625\teval-auc:0.82055\n",
      "[3]\ttrain-auc:0.86702\teval-auc:0.82147\n",
      "[4]\ttrain-auc:0.86822\teval-auc:0.82254\n",
      "[5]\ttrain-auc:0.86864\teval-auc:0.82308\n",
      "[6]\ttrain-auc:0.87372\teval-auc:0.82744\n",
      "[7]\ttrain-auc:0.87513\teval-auc:0.82951\n",
      "[8]\ttrain-auc:0.87642\teval-auc:0.83027\n",
      "[9]\ttrain-auc:0.87690\teval-auc:0.83020\n",
      "finish training & evaluation for P015\n",
      "start training & evaluation for P116\n"
     ]
    },
    {
     "name": "stderr",
     "output_type": "stream",
     "text": [
      "/home/panyu/miniconda3/envs/sci-data/lib/python3.9/site-packages/xgboost/core.py:122: UserWarning: ntree_limit is deprecated, use `iteration_range` or model slicing instead.\n",
      "  warnings.warn(\n",
      "/home/panyu/miniconda3/envs/sci-data/lib/python3.9/site-packages/xgboost/core.py:122: UserWarning: ntree_limit is deprecated, use `iteration_range` or model slicing instead.\n",
      "  warnings.warn(\n"
     ]
    },
    {
     "name": "stdout",
     "output_type": "stream",
     "text": [
      "[0]\ttrain-auc:0.86596\teval-auc:0.80268\n",
      "[1]\ttrain-auc:0.86917\teval-auc:0.80628\n",
      "[2]\ttrain-auc:0.87233\teval-auc:0.80885\n",
      "[3]\ttrain-auc:0.87309\teval-auc:0.80961\n",
      "[4]\ttrain-auc:0.87331\teval-auc:0.80954\n",
      "[5]\ttrain-auc:0.87375\teval-auc:0.81060\n",
      "[6]\ttrain-auc:0.87400\teval-auc:0.81116\n",
      "[7]\ttrain-auc:0.87512\teval-auc:0.81225\n",
      "[8]\ttrain-auc:0.87520\teval-auc:0.81281\n",
      "[9]\ttrain-auc:0.87609\teval-auc:0.81341\n",
      "finish training & evaluation for P116\n",
      "start training & evaluation for P121\n"
     ]
    },
    {
     "name": "stderr",
     "output_type": "stream",
     "text": [
      "/home/panyu/miniconda3/envs/sci-data/lib/python3.9/site-packages/xgboost/core.py:122: UserWarning: ntree_limit is deprecated, use `iteration_range` or model slicing instead.\n",
      "  warnings.warn(\n",
      "/home/panyu/miniconda3/envs/sci-data/lib/python3.9/site-packages/xgboost/core.py:122: UserWarning: ntree_limit is deprecated, use `iteration_range` or model slicing instead.\n",
      "  warnings.warn(\n"
     ]
    },
    {
     "name": "stdout",
     "output_type": "stream",
     "text": [
      "[0]\ttrain-auc:0.86589\teval-auc:0.80545\n",
      "[1]\ttrain-auc:0.86678\teval-auc:0.80661\n",
      "[2]\ttrain-auc:0.86972\teval-auc:0.80717\n",
      "[3]\ttrain-auc:0.87120\teval-auc:0.80881\n",
      "[4]\ttrain-auc:0.87217\teval-auc:0.80964\n",
      "[5]\ttrain-auc:0.87351\teval-auc:0.81186\n",
      "[6]\ttrain-auc:0.87572\teval-auc:0.81176\n",
      "[7]\ttrain-auc:0.87687\teval-auc:0.81285\n",
      "[8]\ttrain-auc:0.87731\teval-auc:0.81291\n",
      "[9]\ttrain-auc:0.87765\teval-auc:0.81362\n",
      "finish training & evaluation for P121\n",
      "start training & evaluation for P061\n"
     ]
    },
    {
     "name": "stderr",
     "output_type": "stream",
     "text": [
      "/home/panyu/miniconda3/envs/sci-data/lib/python3.9/site-packages/xgboost/core.py:122: UserWarning: ntree_limit is deprecated, use `iteration_range` or model slicing instead.\n",
      "  warnings.warn(\n",
      "/home/panyu/miniconda3/envs/sci-data/lib/python3.9/site-packages/xgboost/core.py:122: UserWarning: ntree_limit is deprecated, use `iteration_range` or model slicing instead.\n",
      "  warnings.warn(\n"
     ]
    },
    {
     "name": "stdout",
     "output_type": "stream",
     "text": [
      "[0]\ttrain-auc:0.86677\teval-auc:0.80975\n",
      "[1]\ttrain-auc:0.86786\teval-auc:0.81069\n",
      "[2]\ttrain-auc:0.87052\teval-auc:0.81398\n",
      "[3]\ttrain-auc:0.87128\teval-auc:0.81415\n",
      "[4]\ttrain-auc:0.87228\teval-auc:0.81449\n",
      "[5]\ttrain-auc:0.87290\teval-auc:0.81468\n",
      "[6]\ttrain-auc:0.87337\teval-auc:0.81478\n",
      "[7]\ttrain-auc:0.87424\teval-auc:0.81548\n",
      "[8]\ttrain-auc:0.87540\teval-auc:0.81582\n",
      "[9]\ttrain-auc:0.87603\teval-auc:0.81693\n",
      "finish training & evaluation for P061\n",
      "start training & evaluation for P127\n"
     ]
    },
    {
     "name": "stderr",
     "output_type": "stream",
     "text": [
      "/home/panyu/miniconda3/envs/sci-data/lib/python3.9/site-packages/xgboost/core.py:122: UserWarning: ntree_limit is deprecated, use `iteration_range` or model slicing instead.\n",
      "  warnings.warn(\n",
      "/home/panyu/miniconda3/envs/sci-data/lib/python3.9/site-packages/xgboost/core.py:122: UserWarning: ntree_limit is deprecated, use `iteration_range` or model slicing instead.\n",
      "  warnings.warn(\n"
     ]
    },
    {
     "name": "stdout",
     "output_type": "stream",
     "text": [
      "[0]\ttrain-auc:0.86939\teval-auc:0.80252\n",
      "[1]\ttrain-auc:0.86939\teval-auc:0.80252\n",
      "[2]\ttrain-auc:0.87266\teval-auc:0.80602\n",
      "[3]\ttrain-auc:0.87272\teval-auc:0.80545\n",
      "[4]\ttrain-auc:0.87502\teval-auc:0.80547\n",
      "[5]\ttrain-auc:0.87610\teval-auc:0.80777\n",
      "[6]\ttrain-auc:0.87659\teval-auc:0.80848\n",
      "[7]\ttrain-auc:0.87702\teval-auc:0.80804\n",
      "[8]\ttrain-auc:0.87782\teval-auc:0.80863\n",
      "[9]\ttrain-auc:0.87863\teval-auc:0.80888\n",
      "finish training & evaluation for P127\n",
      "start training & evaluation for P056\n"
     ]
    },
    {
     "name": "stderr",
     "output_type": "stream",
     "text": [
      "/home/panyu/miniconda3/envs/sci-data/lib/python3.9/site-packages/xgboost/core.py:122: UserWarning: ntree_limit is deprecated, use `iteration_range` or model slicing instead.\n",
      "  warnings.warn(\n",
      "/home/panyu/miniconda3/envs/sci-data/lib/python3.9/site-packages/xgboost/core.py:122: UserWarning: ntree_limit is deprecated, use `iteration_range` or model slicing instead.\n",
      "  warnings.warn(\n"
     ]
    },
    {
     "name": "stdout",
     "output_type": "stream",
     "text": [
      "[0]\ttrain-auc:0.86471\teval-auc:0.81440\n",
      "[1]\ttrain-auc:0.87312\teval-auc:0.82449\n",
      "[2]\ttrain-auc:0.87290\teval-auc:0.82477\n",
      "[3]\ttrain-auc:0.87265\teval-auc:0.82517\n",
      "[4]\ttrain-auc:0.87569\teval-auc:0.82838\n",
      "[5]\ttrain-auc:0.87615\teval-auc:0.82808\n",
      "[6]\ttrain-auc:0.87695\teval-auc:0.82930\n",
      "[7]\ttrain-auc:0.87708\teval-auc:0.82925\n",
      "[8]\ttrain-auc:0.87738\teval-auc:0.82965\n",
      "[9]\ttrain-auc:0.87755\teval-auc:0.83031\n",
      "finish training & evaluation for P056\n",
      "start training & evaluation for P046\n"
     ]
    },
    {
     "name": "stderr",
     "output_type": "stream",
     "text": [
      "/home/panyu/miniconda3/envs/sci-data/lib/python3.9/site-packages/xgboost/core.py:122: UserWarning: ntree_limit is deprecated, use `iteration_range` or model slicing instead.\n",
      "  warnings.warn(\n",
      "/home/panyu/miniconda3/envs/sci-data/lib/python3.9/site-packages/xgboost/core.py:122: UserWarning: ntree_limit is deprecated, use `iteration_range` or model slicing instead.\n",
      "  warnings.warn(\n"
     ]
    },
    {
     "name": "stdout",
     "output_type": "stream",
     "text": [
      "[0]\ttrain-auc:0.86258\teval-auc:0.81543\n",
      "[1]\ttrain-auc:0.86406\teval-auc:0.81750\n",
      "[2]\ttrain-auc:0.86459\teval-auc:0.81826\n",
      "[3]\ttrain-auc:0.86573\teval-auc:0.81851\n",
      "[4]\ttrain-auc:0.86734\teval-auc:0.81974\n",
      "[5]\ttrain-auc:0.86778\teval-auc:0.81964\n",
      "[6]\ttrain-auc:0.87097\teval-auc:0.82232\n",
      "[7]\ttrain-auc:0.87234\teval-auc:0.82416\n",
      "[8]\ttrain-auc:0.87480\teval-auc:0.82532\n",
      "[9]\ttrain-auc:0.87661\teval-auc:0.82665\n",
      "finish training & evaluation for P046\n",
      "start training & evaluation for P088\n"
     ]
    },
    {
     "name": "stderr",
     "output_type": "stream",
     "text": [
      "/home/panyu/miniconda3/envs/sci-data/lib/python3.9/site-packages/xgboost/core.py:122: UserWarning: ntree_limit is deprecated, use `iteration_range` or model slicing instead.\n",
      "  warnings.warn(\n",
      "/home/panyu/miniconda3/envs/sci-data/lib/python3.9/site-packages/xgboost/core.py:122: UserWarning: ntree_limit is deprecated, use `iteration_range` or model slicing instead.\n",
      "  warnings.warn(\n"
     ]
    },
    {
     "name": "stdout",
     "output_type": "stream",
     "text": [
      "[0]\ttrain-auc:0.86435\teval-auc:0.81363\n",
      "[1]\ttrain-auc:0.86471\teval-auc:0.81475\n",
      "[2]\ttrain-auc:0.86637\teval-auc:0.81589\n",
      "[3]\ttrain-auc:0.86760\teval-auc:0.81690\n",
      "[4]\ttrain-auc:0.86903\teval-auc:0.81942\n",
      "[5]\ttrain-auc:0.86927\teval-auc:0.81975\n",
      "[6]\ttrain-auc:0.87007\teval-auc:0.82087\n",
      "[7]\ttrain-auc:0.87007\teval-auc:0.82097\n",
      "[8]\ttrain-auc:0.87088\teval-auc:0.82171\n",
      "[9]\ttrain-auc:0.87105\teval-auc:0.82149\n",
      "finish training & evaluation for P088\n",
      "start training & evaluation for P027\n"
     ]
    },
    {
     "name": "stderr",
     "output_type": "stream",
     "text": [
      "/home/panyu/miniconda3/envs/sci-data/lib/python3.9/site-packages/xgboost/core.py:122: UserWarning: ntree_limit is deprecated, use `iteration_range` or model slicing instead.\n",
      "  warnings.warn(\n",
      "/home/panyu/miniconda3/envs/sci-data/lib/python3.9/site-packages/xgboost/core.py:122: UserWarning: ntree_limit is deprecated, use `iteration_range` or model slicing instead.\n",
      "  warnings.warn(\n"
     ]
    },
    {
     "name": "stdout",
     "output_type": "stream",
     "text": [
      "[0]\ttrain-auc:0.86303\teval-auc:0.82401\n",
      "[1]\ttrain-auc:0.86361\teval-auc:0.82436\n",
      "[2]\ttrain-auc:0.86491\teval-auc:0.82357\n",
      "[3]\ttrain-auc:0.86600\teval-auc:0.82465\n",
      "[4]\ttrain-auc:0.86725\teval-auc:0.82550\n",
      "[5]\ttrain-auc:0.86758\teval-auc:0.82489\n",
      "[6]\ttrain-auc:0.86796\teval-auc:0.82483\n",
      "[7]\ttrain-auc:0.86855\teval-auc:0.82540\n",
      "[8]\ttrain-auc:0.86912\teval-auc:0.82642\n",
      "[9]\ttrain-auc:0.86946\teval-auc:0.82622\n",
      "finish training & evaluation for P027\n",
      "start training & evaluation for P001\n"
     ]
    },
    {
     "name": "stderr",
     "output_type": "stream",
     "text": [
      "/home/panyu/miniconda3/envs/sci-data/lib/python3.9/site-packages/xgboost/core.py:122: UserWarning: ntree_limit is deprecated, use `iteration_range` or model slicing instead.\n",
      "  warnings.warn(\n",
      "/home/panyu/miniconda3/envs/sci-data/lib/python3.9/site-packages/xgboost/core.py:122: UserWarning: ntree_limit is deprecated, use `iteration_range` or model slicing instead.\n",
      "  warnings.warn(\n"
     ]
    },
    {
     "name": "stdout",
     "output_type": "stream",
     "text": [
      "[0]\ttrain-auc:0.86328\teval-auc:0.82002\n",
      "[1]\ttrain-auc:0.86474\teval-auc:0.82007\n",
      "[2]\ttrain-auc:0.86516\teval-auc:0.82056\n",
      "[3]\ttrain-auc:0.86530\teval-auc:0.82072\n",
      "[4]\ttrain-auc:0.86695\teval-auc:0.82164\n",
      "[5]\ttrain-auc:0.86746\teval-auc:0.82216\n",
      "[6]\ttrain-auc:0.86881\teval-auc:0.82355\n",
      "[7]\ttrain-auc:0.87041\teval-auc:0.82420\n",
      "[8]\ttrain-auc:0.87090\teval-auc:0.82380\n",
      "[9]\ttrain-auc:0.87125\teval-auc:0.82457\n",
      "finish training & evaluation for P001\n",
      "start training & evaluation for P018\n"
     ]
    },
    {
     "name": "stderr",
     "output_type": "stream",
     "text": [
      "/home/panyu/miniconda3/envs/sci-data/lib/python3.9/site-packages/xgboost/core.py:122: UserWarning: ntree_limit is deprecated, use `iteration_range` or model slicing instead.\n",
      "  warnings.warn(\n",
      "/home/panyu/miniconda3/envs/sci-data/lib/python3.9/site-packages/xgboost/core.py:122: UserWarning: ntree_limit is deprecated, use `iteration_range` or model slicing instead.\n",
      "  warnings.warn(\n"
     ]
    },
    {
     "name": "stdout",
     "output_type": "stream",
     "text": [
      "[0]\ttrain-auc:0.86500\teval-auc:0.81237\n",
      "[1]\ttrain-auc:0.86703\teval-auc:0.81500\n",
      "[2]\ttrain-auc:0.86843\teval-auc:0.81587\n",
      "[3]\ttrain-auc:0.87023\teval-auc:0.81844\n",
      "[4]\ttrain-auc:0.87058\teval-auc:0.81882\n",
      "[5]\ttrain-auc:0.87293\teval-auc:0.82058\n",
      "[6]\ttrain-auc:0.87284\teval-auc:0.81991\n",
      "[7]\ttrain-auc:0.87505\teval-auc:0.82131\n",
      "[8]\ttrain-auc:0.87609\teval-auc:0.82187\n",
      "[9]\ttrain-auc:0.87591\teval-auc:0.82182\n",
      "finish training & evaluation for P018\n",
      "start training & evaluation for P079\n"
     ]
    },
    {
     "name": "stderr",
     "output_type": "stream",
     "text": [
      "/home/panyu/miniconda3/envs/sci-data/lib/python3.9/site-packages/xgboost/core.py:122: UserWarning: ntree_limit is deprecated, use `iteration_range` or model slicing instead.\n",
      "  warnings.warn(\n",
      "/home/panyu/miniconda3/envs/sci-data/lib/python3.9/site-packages/xgboost/core.py:122: UserWarning: ntree_limit is deprecated, use `iteration_range` or model slicing instead.\n",
      "  warnings.warn(\n"
     ]
    },
    {
     "name": "stdout",
     "output_type": "stream",
     "text": [
      "[0]\ttrain-auc:0.86446\teval-auc:0.80887\n",
      "[1]\ttrain-auc:0.86540\teval-auc:0.81000\n",
      "[2]\ttrain-auc:0.86693\teval-auc:0.81093\n",
      "[3]\ttrain-auc:0.86894\teval-auc:0.81188\n",
      "[4]\ttrain-auc:0.86938\teval-auc:0.81210\n",
      "[5]\ttrain-auc:0.86995\teval-auc:0.81303\n",
      "[6]\ttrain-auc:0.87024\teval-auc:0.81294\n",
      "[7]\ttrain-auc:0.87332\teval-auc:0.81462\n",
      "[8]\ttrain-auc:0.87445\teval-auc:0.81520\n",
      "[9]\ttrain-auc:0.87446\teval-auc:0.81527\n",
      "finish training & evaluation for P079\n",
      "start training & evaluation for P073\n"
     ]
    },
    {
     "name": "stderr",
     "output_type": "stream",
     "text": [
      "/home/panyu/miniconda3/envs/sci-data/lib/python3.9/site-packages/xgboost/core.py:122: UserWarning: ntree_limit is deprecated, use `iteration_range` or model slicing instead.\n",
      "  warnings.warn(\n",
      "/home/panyu/miniconda3/envs/sci-data/lib/python3.9/site-packages/xgboost/core.py:122: UserWarning: ntree_limit is deprecated, use `iteration_range` or model slicing instead.\n",
      "  warnings.warn(\n"
     ]
    },
    {
     "name": "stdout",
     "output_type": "stream",
     "text": [
      "[0]\ttrain-auc:0.86427\teval-auc:0.80978\n",
      "[1]\ttrain-auc:0.86429\teval-auc:0.80975\n",
      "[2]\ttrain-auc:0.86536\teval-auc:0.80884\n",
      "[3]\ttrain-auc:0.86578\teval-auc:0.81064\n",
      "[4]\ttrain-auc:0.87049\teval-auc:0.81435\n",
      "[5]\ttrain-auc:0.87143\teval-auc:0.81502\n",
      "[6]\ttrain-auc:0.87251\teval-auc:0.81669\n",
      "[7]\ttrain-auc:0.87275\teval-auc:0.81718\n",
      "[8]\ttrain-auc:0.87430\teval-auc:0.81892\n",
      "[9]\ttrain-auc:0.87460\teval-auc:0.81975\n",
      "finish training & evaluation for P073\n",
      "start training & evaluation for P065\n"
     ]
    },
    {
     "name": "stderr",
     "output_type": "stream",
     "text": [
      "/home/panyu/miniconda3/envs/sci-data/lib/python3.9/site-packages/xgboost/core.py:122: UserWarning: ntree_limit is deprecated, use `iteration_range` or model slicing instead.\n",
      "  warnings.warn(\n",
      "/home/panyu/miniconda3/envs/sci-data/lib/python3.9/site-packages/xgboost/core.py:122: UserWarning: ntree_limit is deprecated, use `iteration_range` or model slicing instead.\n",
      "  warnings.warn(\n"
     ]
    },
    {
     "name": "stdout",
     "output_type": "stream",
     "text": [
      "[0]\ttrain-auc:0.86553\teval-auc:0.81355\n",
      "[1]\ttrain-auc:0.86710\teval-auc:0.81352\n",
      "[2]\ttrain-auc:0.86780\teval-auc:0.81495\n",
      "[3]\ttrain-auc:0.87146\teval-auc:0.82057\n",
      "[4]\ttrain-auc:0.87254\teval-auc:0.82265\n",
      "[5]\ttrain-auc:0.87237\teval-auc:0.82221\n",
      "[6]\ttrain-auc:0.87266\teval-auc:0.82310\n",
      "[7]\ttrain-auc:0.87299\teval-auc:0.82328\n",
      "[8]\ttrain-auc:0.87302\teval-auc:0.82397\n",
      "[9]\ttrain-auc:0.87339\teval-auc:0.82433\n",
      "finish training & evaluation for P065\n",
      "start training & evaluation for P115\n"
     ]
    },
    {
     "name": "stderr",
     "output_type": "stream",
     "text": [
      "/home/panyu/miniconda3/envs/sci-data/lib/python3.9/site-packages/xgboost/core.py:122: UserWarning: ntree_limit is deprecated, use `iteration_range` or model slicing instead.\n",
      "  warnings.warn(\n",
      "/home/panyu/miniconda3/envs/sci-data/lib/python3.9/site-packages/xgboost/core.py:122: UserWarning: ntree_limit is deprecated, use `iteration_range` or model slicing instead.\n",
      "  warnings.warn(\n"
     ]
    },
    {
     "name": "stdout",
     "output_type": "stream",
     "text": [
      "[0]\ttrain-auc:0.86417\teval-auc:0.80890\n",
      "[1]\ttrain-auc:0.86544\teval-auc:0.80961\n",
      "[2]\ttrain-auc:0.86627\teval-auc:0.81158\n",
      "[3]\ttrain-auc:0.86706\teval-auc:0.81257\n",
      "[4]\ttrain-auc:0.86679\teval-auc:0.81247\n",
      "[5]\ttrain-auc:0.86749\teval-auc:0.81305\n",
      "[6]\ttrain-auc:0.86777\teval-auc:0.81339\n",
      "[7]\ttrain-auc:0.86853\teval-auc:0.81372\n",
      "[8]\ttrain-auc:0.86915\teval-auc:0.81359\n",
      "[9]\ttrain-auc:0.86985\teval-auc:0.81480\n",
      "finish training & evaluation for P115\n",
      "start training & evaluation for P019\n"
     ]
    },
    {
     "name": "stderr",
     "output_type": "stream",
     "text": [
      "/home/panyu/miniconda3/envs/sci-data/lib/python3.9/site-packages/xgboost/core.py:122: UserWarning: ntree_limit is deprecated, use `iteration_range` or model slicing instead.\n",
      "  warnings.warn(\n",
      "/home/panyu/miniconda3/envs/sci-data/lib/python3.9/site-packages/xgboost/core.py:122: UserWarning: ntree_limit is deprecated, use `iteration_range` or model slicing instead.\n",
      "  warnings.warn(\n"
     ]
    },
    {
     "name": "stdout",
     "output_type": "stream",
     "text": [
      "[0]\ttrain-auc:0.86344\teval-auc:0.81937\n",
      "[1]\ttrain-auc:0.86574\teval-auc:0.81994\n",
      "[2]\ttrain-auc:0.86621\teval-auc:0.82166\n",
      "[3]\ttrain-auc:0.86971\teval-auc:0.82444\n",
      "[4]\ttrain-auc:0.87055\teval-auc:0.82511\n",
      "[5]\ttrain-auc:0.87236\teval-auc:0.82697\n",
      "[6]\ttrain-auc:0.87262\teval-auc:0.82689\n",
      "[7]\ttrain-auc:0.87415\teval-auc:0.82792\n",
      "[8]\ttrain-auc:0.87506\teval-auc:0.82933\n",
      "[9]\ttrain-auc:0.87604\teval-auc:0.83022\n",
      "finish training & evaluation for P019\n",
      "start training & evaluation for P076\n"
     ]
    },
    {
     "name": "stderr",
     "output_type": "stream",
     "text": [
      "/home/panyu/miniconda3/envs/sci-data/lib/python3.9/site-packages/xgboost/core.py:122: UserWarning: ntree_limit is deprecated, use `iteration_range` or model slicing instead.\n",
      "  warnings.warn(\n",
      "/home/panyu/miniconda3/envs/sci-data/lib/python3.9/site-packages/xgboost/core.py:122: UserWarning: ntree_limit is deprecated, use `iteration_range` or model slicing instead.\n",
      "  warnings.warn(\n"
     ]
    },
    {
     "name": "stdout",
     "output_type": "stream",
     "text": [
      "[0]\ttrain-auc:0.86331\teval-auc:0.80930\n",
      "[1]\ttrain-auc:0.86671\teval-auc:0.81297\n",
      "[2]\ttrain-auc:0.86879\teval-auc:0.81513\n",
      "[3]\ttrain-auc:0.87031\teval-auc:0.81623\n",
      "[4]\ttrain-auc:0.87048\teval-auc:0.81705\n",
      "[5]\ttrain-auc:0.87146\teval-auc:0.81823\n",
      "[6]\ttrain-auc:0.87162\teval-auc:0.81857\n",
      "[7]\ttrain-auc:0.87273\teval-auc:0.82060\n",
      "[8]\ttrain-auc:0.87259\teval-auc:0.82028\n",
      "[9]\ttrain-auc:0.87356\teval-auc:0.82143\n",
      "finish training & evaluation for P076\n",
      "start training & evaluation for P078\n"
     ]
    },
    {
     "name": "stderr",
     "output_type": "stream",
     "text": [
      "/home/panyu/miniconda3/envs/sci-data/lib/python3.9/site-packages/xgboost/core.py:122: UserWarning: ntree_limit is deprecated, use `iteration_range` or model slicing instead.\n",
      "  warnings.warn(\n",
      "/home/panyu/miniconda3/envs/sci-data/lib/python3.9/site-packages/xgboost/core.py:122: UserWarning: ntree_limit is deprecated, use `iteration_range` or model slicing instead.\n",
      "  warnings.warn(\n"
     ]
    },
    {
     "name": "stdout",
     "output_type": "stream",
     "text": [
      "[0]\ttrain-auc:0.86457\teval-auc:0.81200\n",
      "[1]\ttrain-auc:0.86611\teval-auc:0.81427\n",
      "[2]\ttrain-auc:0.86629\teval-auc:0.81452\n",
      "[3]\ttrain-auc:0.86822\teval-auc:0.81631\n",
      "[4]\ttrain-auc:0.86868\teval-auc:0.81679\n",
      "[5]\ttrain-auc:0.86988\teval-auc:0.81767\n",
      "[6]\ttrain-auc:0.87116\teval-auc:0.81796\n",
      "[7]\ttrain-auc:0.87130\teval-auc:0.81773\n",
      "[8]\ttrain-auc:0.87163\teval-auc:0.81807\n",
      "[9]\ttrain-auc:0.87167\teval-auc:0.81803\n",
      "finish training & evaluation for P078\n",
      "start training & evaluation for P013\n"
     ]
    },
    {
     "name": "stderr",
     "output_type": "stream",
     "text": [
      "/home/panyu/miniconda3/envs/sci-data/lib/python3.9/site-packages/xgboost/core.py:122: UserWarning: ntree_limit is deprecated, use `iteration_range` or model slicing instead.\n",
      "  warnings.warn(\n",
      "/home/panyu/miniconda3/envs/sci-data/lib/python3.9/site-packages/xgboost/core.py:122: UserWarning: ntree_limit is deprecated, use `iteration_range` or model slicing instead.\n",
      "  warnings.warn(\n"
     ]
    },
    {
     "name": "stdout",
     "output_type": "stream",
     "text": [
      "[0]\ttrain-auc:0.86709\teval-auc:0.81186\n",
      "[1]\ttrain-auc:0.86913\teval-auc:0.80961\n",
      "[2]\ttrain-auc:0.86899\teval-auc:0.80907\n",
      "[3]\ttrain-auc:0.87277\teval-auc:0.81309\n",
      "[4]\ttrain-auc:0.87452\teval-auc:0.81407\n",
      "[5]\ttrain-auc:0.87500\teval-auc:0.81494\n",
      "[6]\ttrain-auc:0.87582\teval-auc:0.81511\n",
      "[7]\ttrain-auc:0.87821\teval-auc:0.81721\n",
      "[8]\ttrain-auc:0.87819\teval-auc:0.81758\n",
      "[9]\ttrain-auc:0.87935\teval-auc:0.81818\n",
      "finish training & evaluation for P013\n",
      "start training & evaluation for P133\n"
     ]
    },
    {
     "name": "stderr",
     "output_type": "stream",
     "text": [
      "/home/panyu/miniconda3/envs/sci-data/lib/python3.9/site-packages/xgboost/core.py:122: UserWarning: ntree_limit is deprecated, use `iteration_range` or model slicing instead.\n",
      "  warnings.warn(\n",
      "/home/panyu/miniconda3/envs/sci-data/lib/python3.9/site-packages/xgboost/core.py:122: UserWarning: ntree_limit is deprecated, use `iteration_range` or model slicing instead.\n",
      "  warnings.warn(\n"
     ]
    },
    {
     "name": "stdout",
     "output_type": "stream",
     "text": [
      "[0]\ttrain-auc:0.86485\teval-auc:0.80197\n",
      "[1]\ttrain-auc:0.86670\teval-auc:0.80745\n",
      "[2]\ttrain-auc:0.86852\teval-auc:0.80835\n",
      "[3]\ttrain-auc:0.86834\teval-auc:0.80879\n",
      "[4]\ttrain-auc:0.87087\teval-auc:0.81082\n",
      "[5]\ttrain-auc:0.87136\teval-auc:0.81089\n",
      "[6]\ttrain-auc:0.87151\teval-auc:0.81110\n",
      "[7]\ttrain-auc:0.87238\teval-auc:0.81166\n",
      "[8]\ttrain-auc:0.87329\teval-auc:0.81261\n",
      "[9]\ttrain-auc:0.87372\teval-auc:0.81275\n",
      "finish training & evaluation for P133\n",
      "start training & evaluation for P086\n"
     ]
    },
    {
     "name": "stderr",
     "output_type": "stream",
     "text": [
      "/home/panyu/miniconda3/envs/sci-data/lib/python3.9/site-packages/xgboost/core.py:122: UserWarning: ntree_limit is deprecated, use `iteration_range` or model slicing instead.\n",
      "  warnings.warn(\n",
      "/home/panyu/miniconda3/envs/sci-data/lib/python3.9/site-packages/xgboost/core.py:122: UserWarning: ntree_limit is deprecated, use `iteration_range` or model slicing instead.\n",
      "  warnings.warn(\n"
     ]
    },
    {
     "name": "stdout",
     "output_type": "stream",
     "text": [
      "[0]\ttrain-auc:0.86314\teval-auc:0.80601\n",
      "[1]\ttrain-auc:0.86390\teval-auc:0.80489\n",
      "[2]\ttrain-auc:0.86436\teval-auc:0.80568\n",
      "[3]\ttrain-auc:0.86528\teval-auc:0.80636\n",
      "[4]\ttrain-auc:0.86627\teval-auc:0.80769\n",
      "[5]\ttrain-auc:0.86680\teval-auc:0.80770\n",
      "[6]\ttrain-auc:0.86786\teval-auc:0.80812\n",
      "[7]\ttrain-auc:0.86870\teval-auc:0.80939\n",
      "[8]\ttrain-auc:0.86953\teval-auc:0.81005\n",
      "[9]\ttrain-auc:0.86991\teval-auc:0.81029\n",
      "finish training & evaluation for P086\n",
      "start training & evaluation for P029\n"
     ]
    },
    {
     "name": "stderr",
     "output_type": "stream",
     "text": [
      "/home/panyu/miniconda3/envs/sci-data/lib/python3.9/site-packages/xgboost/core.py:122: UserWarning: ntree_limit is deprecated, use `iteration_range` or model slicing instead.\n",
      "  warnings.warn(\n",
      "/home/panyu/miniconda3/envs/sci-data/lib/python3.9/site-packages/xgboost/core.py:122: UserWarning: ntree_limit is deprecated, use `iteration_range` or model slicing instead.\n",
      "  warnings.warn(\n"
     ]
    },
    {
     "name": "stdout",
     "output_type": "stream",
     "text": [
      "[0]\ttrain-auc:0.86364\teval-auc:0.81171\n",
      "[1]\ttrain-auc:0.86448\teval-auc:0.81215\n",
      "[2]\ttrain-auc:0.86514\teval-auc:0.81317\n",
      "[3]\ttrain-auc:0.86551\teval-auc:0.81249\n",
      "[4]\ttrain-auc:0.86582\teval-auc:0.81366\n",
      "[5]\ttrain-auc:0.86597\teval-auc:0.81304\n",
      "[6]\ttrain-auc:0.86755\teval-auc:0.81474\n",
      "[7]\ttrain-auc:0.86865\teval-auc:0.81663\n",
      "[8]\ttrain-auc:0.86983\teval-auc:0.81593\n",
      "[9]\ttrain-auc:0.87149\teval-auc:0.81768\n",
      "finish training & evaluation for P029\n",
      "start training & evaluation for P087\n"
     ]
    },
    {
     "name": "stderr",
     "output_type": "stream",
     "text": [
      "/home/panyu/miniconda3/envs/sci-data/lib/python3.9/site-packages/xgboost/core.py:122: UserWarning: ntree_limit is deprecated, use `iteration_range` or model slicing instead.\n",
      "  warnings.warn(\n",
      "/home/panyu/miniconda3/envs/sci-data/lib/python3.9/site-packages/xgboost/core.py:122: UserWarning: ntree_limit is deprecated, use `iteration_range` or model slicing instead.\n",
      "  warnings.warn(\n"
     ]
    },
    {
     "name": "stdout",
     "output_type": "stream",
     "text": [
      "[0]\ttrain-auc:0.86675\teval-auc:0.80685\n",
      "[1]\ttrain-auc:0.87155\teval-auc:0.81464\n",
      "[2]\ttrain-auc:0.87193\teval-auc:0.81537\n",
      "[3]\ttrain-auc:0.87440\teval-auc:0.81661\n",
      "[4]\ttrain-auc:0.87492\teval-auc:0.81645\n",
      "[5]\ttrain-auc:0.87564\teval-auc:0.81725\n",
      "[6]\ttrain-auc:0.87522\teval-auc:0.81675\n",
      "[7]\ttrain-auc:0.87567\teval-auc:0.81714\n",
      "[8]\ttrain-auc:0.87605\teval-auc:0.81719\n",
      "[9]\ttrain-auc:0.87624\teval-auc:0.81676\n",
      "finish training & evaluation for P087\n",
      "start training & evaluation for P122\n"
     ]
    },
    {
     "name": "stderr",
     "output_type": "stream",
     "text": [
      "/home/panyu/miniconda3/envs/sci-data/lib/python3.9/site-packages/xgboost/core.py:122: UserWarning: ntree_limit is deprecated, use `iteration_range` or model slicing instead.\n",
      "  warnings.warn(\n",
      "/home/panyu/miniconda3/envs/sci-data/lib/python3.9/site-packages/xgboost/core.py:122: UserWarning: ntree_limit is deprecated, use `iteration_range` or model slicing instead.\n",
      "  warnings.warn(\n"
     ]
    },
    {
     "name": "stdout",
     "output_type": "stream",
     "text": [
      "[0]\ttrain-auc:0.86423\teval-auc:0.80385\n",
      "[1]\ttrain-auc:0.86782\teval-auc:0.80846\n",
      "[2]\ttrain-auc:0.86846\teval-auc:0.80754\n",
      "[3]\ttrain-auc:0.87045\teval-auc:0.81090\n",
      "[4]\ttrain-auc:0.87251\teval-auc:0.81021\n",
      "[5]\ttrain-auc:0.87323\teval-auc:0.81097\n",
      "[6]\ttrain-auc:0.87459\teval-auc:0.81054\n",
      "[7]\ttrain-auc:0.87525\teval-auc:0.81167\n",
      "[8]\ttrain-auc:0.87673\teval-auc:0.81302\n",
      "[9]\ttrain-auc:0.87759\teval-auc:0.81325\n",
      "finish training & evaluation for P122\n",
      "start training & evaluation for P026\n"
     ]
    },
    {
     "name": "stderr",
     "output_type": "stream",
     "text": [
      "/home/panyu/miniconda3/envs/sci-data/lib/python3.9/site-packages/xgboost/core.py:122: UserWarning: ntree_limit is deprecated, use `iteration_range` or model slicing instead.\n",
      "  warnings.warn(\n",
      "/home/panyu/miniconda3/envs/sci-data/lib/python3.9/site-packages/xgboost/core.py:122: UserWarning: ntree_limit is deprecated, use `iteration_range` or model slicing instead.\n",
      "  warnings.warn(\n"
     ]
    },
    {
     "name": "stdout",
     "output_type": "stream",
     "text": [
      "[0]\ttrain-auc:0.86748\teval-auc:0.80994\n",
      "[1]\ttrain-auc:0.86917\teval-auc:0.80994\n",
      "[2]\ttrain-auc:0.86983\teval-auc:0.81205\n",
      "[3]\ttrain-auc:0.87140\teval-auc:0.81140\n",
      "[4]\ttrain-auc:0.87323\teval-auc:0.81206\n",
      "[5]\ttrain-auc:0.87619\teval-auc:0.81392\n",
      "[6]\ttrain-auc:0.87636\teval-auc:0.81464\n",
      "[7]\ttrain-auc:0.87734\teval-auc:0.81484\n",
      "[8]\ttrain-auc:0.87731\teval-auc:0.81565\n",
      "[9]\ttrain-auc:0.87804\teval-auc:0.81536\n",
      "finish training & evaluation for P026\n",
      "start training & evaluation for P059\n"
     ]
    },
    {
     "name": "stderr",
     "output_type": "stream",
     "text": [
      "/home/panyu/miniconda3/envs/sci-data/lib/python3.9/site-packages/xgboost/core.py:122: UserWarning: ntree_limit is deprecated, use `iteration_range` or model slicing instead.\n",
      "  warnings.warn(\n",
      "/home/panyu/miniconda3/envs/sci-data/lib/python3.9/site-packages/xgboost/core.py:122: UserWarning: ntree_limit is deprecated, use `iteration_range` or model slicing instead.\n",
      "  warnings.warn(\n"
     ]
    },
    {
     "name": "stdout",
     "output_type": "stream",
     "text": [
      "[0]\ttrain-auc:0.86353\teval-auc:0.81856\n",
      "[1]\ttrain-auc:0.86502\teval-auc:0.82145\n",
      "[2]\ttrain-auc:0.86589\teval-auc:0.82049\n",
      "[3]\ttrain-auc:0.86628\teval-auc:0.81988\n",
      "[4]\ttrain-auc:0.86853\teval-auc:0.82223\n",
      "[5]\ttrain-auc:0.87001\teval-auc:0.82477\n",
      "[6]\ttrain-auc:0.87093\teval-auc:0.82558\n",
      "[7]\ttrain-auc:0.87137\teval-auc:0.82638\n",
      "[8]\ttrain-auc:0.87266\teval-auc:0.82782\n",
      "[9]\ttrain-auc:0.87270\teval-auc:0.82758\n",
      "finish training & evaluation for P059\n",
      "start training & evaluation for P104\n"
     ]
    },
    {
     "name": "stderr",
     "output_type": "stream",
     "text": [
      "/home/panyu/miniconda3/envs/sci-data/lib/python3.9/site-packages/xgboost/core.py:122: UserWarning: ntree_limit is deprecated, use `iteration_range` or model slicing instead.\n",
      "  warnings.warn(\n",
      "/home/panyu/miniconda3/envs/sci-data/lib/python3.9/site-packages/xgboost/core.py:122: UserWarning: ntree_limit is deprecated, use `iteration_range` or model slicing instead.\n",
      "  warnings.warn(\n"
     ]
    },
    {
     "name": "stdout",
     "output_type": "stream",
     "text": [
      "[0]\ttrain-auc:0.86309\teval-auc:0.81235\n",
      "[1]\ttrain-auc:0.86516\teval-auc:0.81358\n",
      "[2]\ttrain-auc:0.86760\teval-auc:0.81595\n",
      "[3]\ttrain-auc:0.86776\teval-auc:0.81528\n",
      "[4]\ttrain-auc:0.86759\teval-auc:0.81505\n",
      "[5]\ttrain-auc:0.86843\teval-auc:0.81510\n",
      "[6]\ttrain-auc:0.86961\teval-auc:0.81563\n",
      "[7]\ttrain-auc:0.87002\teval-auc:0.81607\n",
      "[8]\ttrain-auc:0.87037\teval-auc:0.81643\n",
      "[9]\ttrain-auc:0.87116\teval-auc:0.81702\n",
      "finish training & evaluation for P104\n",
      "start training & evaluation for P008\n"
     ]
    },
    {
     "name": "stderr",
     "output_type": "stream",
     "text": [
      "/home/panyu/miniconda3/envs/sci-data/lib/python3.9/site-packages/xgboost/core.py:122: UserWarning: ntree_limit is deprecated, use `iteration_range` or model slicing instead.\n",
      "  warnings.warn(\n",
      "/home/panyu/miniconda3/envs/sci-data/lib/python3.9/site-packages/xgboost/core.py:122: UserWarning: ntree_limit is deprecated, use `iteration_range` or model slicing instead.\n",
      "  warnings.warn(\n"
     ]
    },
    {
     "name": "stdout",
     "output_type": "stream",
     "text": [
      "[0]\ttrain-auc:0.86421\teval-auc:0.81503\n",
      "[1]\ttrain-auc:0.86583\teval-auc:0.81706\n",
      "[2]\ttrain-auc:0.86603\teval-auc:0.81706\n",
      "[3]\ttrain-auc:0.86745\teval-auc:0.81886\n",
      "[4]\ttrain-auc:0.86801\teval-auc:0.81904\n",
      "[5]\ttrain-auc:0.86816\teval-auc:0.81912\n",
      "[6]\ttrain-auc:0.86913\teval-auc:0.81923\n",
      "[7]\ttrain-auc:0.87081\teval-auc:0.81994\n",
      "[8]\ttrain-auc:0.87064\teval-auc:0.81975\n",
      "[9]\ttrain-auc:0.87184\teval-auc:0.82083\n",
      "finish training & evaluation for P008\n",
      "start training & evaluation for P069\n"
     ]
    },
    {
     "name": "stderr",
     "output_type": "stream",
     "text": [
      "/home/panyu/miniconda3/envs/sci-data/lib/python3.9/site-packages/xgboost/core.py:122: UserWarning: ntree_limit is deprecated, use `iteration_range` or model slicing instead.\n",
      "  warnings.warn(\n",
      "/home/panyu/miniconda3/envs/sci-data/lib/python3.9/site-packages/xgboost/core.py:122: UserWarning: ntree_limit is deprecated, use `iteration_range` or model slicing instead.\n",
      "  warnings.warn(\n"
     ]
    },
    {
     "name": "stdout",
     "output_type": "stream",
     "text": [
      "[0]\ttrain-auc:0.86624\teval-auc:0.80904\n",
      "[1]\ttrain-auc:0.87193\teval-auc:0.81474\n",
      "[2]\ttrain-auc:0.87271\teval-auc:0.81576\n",
      "[3]\ttrain-auc:0.87491\teval-auc:0.81805\n",
      "[4]\ttrain-auc:0.87471\teval-auc:0.81865\n",
      "[5]\ttrain-auc:0.87624\teval-auc:0.82013\n",
      "[6]\ttrain-auc:0.87655\teval-auc:0.82081\n",
      "[7]\ttrain-auc:0.87689\teval-auc:0.82129\n",
      "[8]\ttrain-auc:0.87735\teval-auc:0.82204\n",
      "[9]\ttrain-auc:0.87937\teval-auc:0.82403\n",
      "finish training & evaluation for P069\n",
      "start training & evaluation for P117\n"
     ]
    },
    {
     "name": "stderr",
     "output_type": "stream",
     "text": [
      "/home/panyu/miniconda3/envs/sci-data/lib/python3.9/site-packages/xgboost/core.py:122: UserWarning: ntree_limit is deprecated, use `iteration_range` or model slicing instead.\n",
      "  warnings.warn(\n",
      "/home/panyu/miniconda3/envs/sci-data/lib/python3.9/site-packages/xgboost/core.py:122: UserWarning: ntree_limit is deprecated, use `iteration_range` or model slicing instead.\n",
      "  warnings.warn(\n"
     ]
    },
    {
     "name": "stdout",
     "output_type": "stream",
     "text": [
      "[0]\ttrain-auc:0.86471\teval-auc:0.80753\n",
      "[1]\ttrain-auc:0.86826\teval-auc:0.80792\n",
      "[2]\ttrain-auc:0.87004\teval-auc:0.80940\n",
      "[3]\ttrain-auc:0.87058\teval-auc:0.80898\n",
      "[4]\ttrain-auc:0.87080\teval-auc:0.80925\n",
      "[5]\ttrain-auc:0.87097\teval-auc:0.80952\n",
      "[6]\ttrain-auc:0.87158\teval-auc:0.81027\n",
      "[7]\ttrain-auc:0.87253\teval-auc:0.81078\n",
      "[8]\ttrain-auc:0.87316\teval-auc:0.81223\n",
      "[9]\ttrain-auc:0.87379\teval-auc:0.81300\n",
      "finish training & evaluation for P117\n",
      "start training & evaluation for P094\n"
     ]
    },
    {
     "name": "stderr",
     "output_type": "stream",
     "text": [
      "/home/panyu/miniconda3/envs/sci-data/lib/python3.9/site-packages/xgboost/core.py:122: UserWarning: ntree_limit is deprecated, use `iteration_range` or model slicing instead.\n",
      "  warnings.warn(\n",
      "/home/panyu/miniconda3/envs/sci-data/lib/python3.9/site-packages/xgboost/core.py:122: UserWarning: ntree_limit is deprecated, use `iteration_range` or model slicing instead.\n",
      "  warnings.warn(\n"
     ]
    },
    {
     "name": "stdout",
     "output_type": "stream",
     "text": [
      "[0]\ttrain-auc:0.86349\teval-auc:0.80346\n",
      "[1]\ttrain-auc:0.86557\teval-auc:0.80376\n",
      "[2]\ttrain-auc:0.86639\teval-auc:0.80454\n",
      "[3]\ttrain-auc:0.86745\teval-auc:0.80752\n",
      "[4]\ttrain-auc:0.87037\teval-auc:0.81015\n",
      "[5]\ttrain-auc:0.87039\teval-auc:0.81231\n",
      "[6]\ttrain-auc:0.87118\teval-auc:0.81199\n",
      "[7]\ttrain-auc:0.87171\teval-auc:0.81373\n",
      "[8]\ttrain-auc:0.87269\teval-auc:0.81347\n",
      "[9]\ttrain-auc:0.87382\teval-auc:0.81395\n",
      "finish training & evaluation for P094\n",
      "start training & evaluation for P020\n"
     ]
    },
    {
     "name": "stderr",
     "output_type": "stream",
     "text": [
      "/home/panyu/miniconda3/envs/sci-data/lib/python3.9/site-packages/xgboost/core.py:122: UserWarning: ntree_limit is deprecated, use `iteration_range` or model slicing instead.\n",
      "  warnings.warn(\n",
      "/home/panyu/miniconda3/envs/sci-data/lib/python3.9/site-packages/xgboost/core.py:122: UserWarning: ntree_limit is deprecated, use `iteration_range` or model slicing instead.\n",
      "  warnings.warn(\n"
     ]
    },
    {
     "name": "stdout",
     "output_type": "stream",
     "text": [
      "[0]\ttrain-auc:0.86455\teval-auc:0.80336\n",
      "[1]\ttrain-auc:0.87607\teval-auc:0.81436\n",
      "[2]\ttrain-auc:0.87528\teval-auc:0.81380\n",
      "[3]\ttrain-auc:0.87656\teval-auc:0.81497\n",
      "[4]\ttrain-auc:0.87642\teval-auc:0.81455\n",
      "[5]\ttrain-auc:0.87834\teval-auc:0.81538\n",
      "[6]\ttrain-auc:0.87798\teval-auc:0.81520\n",
      "[7]\ttrain-auc:0.87871\teval-auc:0.81530\n",
      "[8]\ttrain-auc:0.87877\teval-auc:0.81531\n",
      "[9]\ttrain-auc:0.87927\teval-auc:0.81499\n",
      "finish training & evaluation for P020\n",
      "start training & evaluation for P057\n"
     ]
    },
    {
     "name": "stderr",
     "output_type": "stream",
     "text": [
      "/home/panyu/miniconda3/envs/sci-data/lib/python3.9/site-packages/xgboost/core.py:122: UserWarning: ntree_limit is deprecated, use `iteration_range` or model slicing instead.\n",
      "  warnings.warn(\n",
      "/home/panyu/miniconda3/envs/sci-data/lib/python3.9/site-packages/xgboost/core.py:122: UserWarning: ntree_limit is deprecated, use `iteration_range` or model slicing instead.\n",
      "  warnings.warn(\n"
     ]
    },
    {
     "name": "stdout",
     "output_type": "stream",
     "text": [
      "[0]\ttrain-auc:0.86464\teval-auc:0.81583\n",
      "[1]\ttrain-auc:0.86566\teval-auc:0.81781\n",
      "[2]\ttrain-auc:0.86700\teval-auc:0.81950\n",
      "[3]\ttrain-auc:0.86741\teval-auc:0.82147\n",
      "[4]\ttrain-auc:0.87000\teval-auc:0.82401\n",
      "[5]\ttrain-auc:0.87028\teval-auc:0.82490\n",
      "[6]\ttrain-auc:0.87114\teval-auc:0.82502\n",
      "[7]\ttrain-auc:0.87184\teval-auc:0.82531\n",
      "[8]\ttrain-auc:0.87374\teval-auc:0.82794\n",
      "[9]\ttrain-auc:0.87411\teval-auc:0.82811\n",
      "finish training & evaluation for P057\n",
      "start training & evaluation for P105\n"
     ]
    },
    {
     "name": "stderr",
     "output_type": "stream",
     "text": [
      "/home/panyu/miniconda3/envs/sci-data/lib/python3.9/site-packages/xgboost/core.py:122: UserWarning: ntree_limit is deprecated, use `iteration_range` or model slicing instead.\n",
      "  warnings.warn(\n",
      "/home/panyu/miniconda3/envs/sci-data/lib/python3.9/site-packages/xgboost/core.py:122: UserWarning: ntree_limit is deprecated, use `iteration_range` or model slicing instead.\n",
      "  warnings.warn(\n"
     ]
    },
    {
     "name": "stdout",
     "output_type": "stream",
     "text": [
      "[0]\ttrain-auc:0.86744\teval-auc:0.79980\n",
      "[1]\ttrain-auc:0.87404\teval-auc:0.80629\n",
      "[2]\ttrain-auc:0.87603\teval-auc:0.81065\n",
      "[3]\ttrain-auc:0.87648\teval-auc:0.80937\n",
      "[4]\ttrain-auc:0.87646\teval-auc:0.80995\n",
      "[5]\ttrain-auc:0.87662\teval-auc:0.80911\n",
      "[6]\ttrain-auc:0.87753\teval-auc:0.81045\n",
      "[7]\ttrain-auc:0.87791\teval-auc:0.81161\n",
      "[8]\ttrain-auc:0.87872\teval-auc:0.81178\n",
      "[9]\ttrain-auc:0.87898\teval-auc:0.81221\n",
      "finish training & evaluation for P105\n",
      "start training & evaluation for P103\n"
     ]
    },
    {
     "name": "stderr",
     "output_type": "stream",
     "text": [
      "/home/panyu/miniconda3/envs/sci-data/lib/python3.9/site-packages/xgboost/core.py:122: UserWarning: ntree_limit is deprecated, use `iteration_range` or model slicing instead.\n",
      "  warnings.warn(\n",
      "/home/panyu/miniconda3/envs/sci-data/lib/python3.9/site-packages/xgboost/core.py:122: UserWarning: ntree_limit is deprecated, use `iteration_range` or model slicing instead.\n",
      "  warnings.warn(\n"
     ]
    },
    {
     "name": "stdout",
     "output_type": "stream",
     "text": [
      "[0]\ttrain-auc:0.86444\teval-auc:0.81078\n",
      "[1]\ttrain-auc:0.86711\teval-auc:0.81271\n",
      "[2]\ttrain-auc:0.86830\teval-auc:0.81400\n",
      "[3]\ttrain-auc:0.87229\teval-auc:0.81692\n",
      "[4]\ttrain-auc:0.87268\teval-auc:0.81769\n",
      "[5]\ttrain-auc:0.87368\teval-auc:0.81857\n",
      "[6]\ttrain-auc:0.87405\teval-auc:0.81876\n",
      "[7]\ttrain-auc:0.87510\teval-auc:0.81923\n",
      "[8]\ttrain-auc:0.87603\teval-auc:0.81988\n",
      "[9]\ttrain-auc:0.87663\teval-auc:0.82005\n",
      "finish training & evaluation for P103\n",
      "start training & evaluation for P058\n"
     ]
    },
    {
     "name": "stderr",
     "output_type": "stream",
     "text": [
      "/home/panyu/miniconda3/envs/sci-data/lib/python3.9/site-packages/xgboost/core.py:122: UserWarning: ntree_limit is deprecated, use `iteration_range` or model slicing instead.\n",
      "  warnings.warn(\n",
      "/home/panyu/miniconda3/envs/sci-data/lib/python3.9/site-packages/xgboost/core.py:122: UserWarning: ntree_limit is deprecated, use `iteration_range` or model slicing instead.\n",
      "  warnings.warn(\n"
     ]
    },
    {
     "name": "stdout",
     "output_type": "stream",
     "text": [
      "[0]\ttrain-auc:0.86581\teval-auc:0.81313\n",
      "[1]\ttrain-auc:0.87366\teval-auc:0.82144\n",
      "[2]\ttrain-auc:0.87346\teval-auc:0.82129\n",
      "[3]\ttrain-auc:0.87507\teval-auc:0.82364\n",
      "[4]\ttrain-auc:0.87472\teval-auc:0.82306\n",
      "[5]\ttrain-auc:0.87538\teval-auc:0.82377\n",
      "[6]\ttrain-auc:0.87549\teval-auc:0.82410\n",
      "[7]\ttrain-auc:0.87577\teval-auc:0.82461\n",
      "[8]\ttrain-auc:0.87585\teval-auc:0.82471\n",
      "[9]\ttrain-auc:0.87610\teval-auc:0.82536\n",
      "finish training & evaluation for P058\n",
      "start training & evaluation for P090\n"
     ]
    },
    {
     "name": "stderr",
     "output_type": "stream",
     "text": [
      "/home/panyu/miniconda3/envs/sci-data/lib/python3.9/site-packages/xgboost/core.py:122: UserWarning: ntree_limit is deprecated, use `iteration_range` or model slicing instead.\n",
      "  warnings.warn(\n",
      "/home/panyu/miniconda3/envs/sci-data/lib/python3.9/site-packages/xgboost/core.py:122: UserWarning: ntree_limit is deprecated, use `iteration_range` or model slicing instead.\n",
      "  warnings.warn(\n"
     ]
    },
    {
     "name": "stdout",
     "output_type": "stream",
     "text": [
      "[0]\ttrain-auc:0.86151\teval-auc:0.81360\n",
      "[1]\ttrain-auc:0.86150\teval-auc:0.81329\n",
      "[2]\ttrain-auc:0.86223\teval-auc:0.81476\n",
      "[3]\ttrain-auc:0.86349\teval-auc:0.81550\n",
      "[4]\ttrain-auc:0.86500\teval-auc:0.81700\n",
      "[5]\ttrain-auc:0.86587\teval-auc:0.81762\n",
      "[6]\ttrain-auc:0.86741\teval-auc:0.81782\n",
      "[7]\ttrain-auc:0.86798\teval-auc:0.81835\n",
      "[8]\ttrain-auc:0.86889\teval-auc:0.81911\n",
      "[9]\ttrain-auc:0.86923\teval-auc:0.81885\n",
      "finish training & evaluation for P090\n",
      "start training & evaluation for P038\n"
     ]
    },
    {
     "name": "stderr",
     "output_type": "stream",
     "text": [
      "/home/panyu/miniconda3/envs/sci-data/lib/python3.9/site-packages/xgboost/core.py:122: UserWarning: ntree_limit is deprecated, use `iteration_range` or model slicing instead.\n",
      "  warnings.warn(\n",
      "/home/panyu/miniconda3/envs/sci-data/lib/python3.9/site-packages/xgboost/core.py:122: UserWarning: ntree_limit is deprecated, use `iteration_range` or model slicing instead.\n",
      "  warnings.warn(\n"
     ]
    },
    {
     "name": "stdout",
     "output_type": "stream",
     "text": [
      "[0]\ttrain-auc:0.86418\teval-auc:0.82004\n",
      "[1]\ttrain-auc:0.86753\teval-auc:0.81983\n",
      "[2]\ttrain-auc:0.86813\teval-auc:0.82176\n",
      "[3]\ttrain-auc:0.86895\teval-auc:0.82245\n",
      "[4]\ttrain-auc:0.87092\teval-auc:0.82424\n",
      "[5]\ttrain-auc:0.87216\teval-auc:0.82555\n",
      "[6]\ttrain-auc:0.87326\teval-auc:0.82653\n",
      "[7]\ttrain-auc:0.87550\teval-auc:0.82739\n",
      "[8]\ttrain-auc:0.87598\teval-auc:0.82743\n",
      "[9]\ttrain-auc:0.87744\teval-auc:0.82760\n",
      "finish training & evaluation for P038\n",
      "start training & evaluation for P091\n"
     ]
    },
    {
     "name": "stderr",
     "output_type": "stream",
     "text": [
      "/home/panyu/miniconda3/envs/sci-data/lib/python3.9/site-packages/xgboost/core.py:122: UserWarning: ntree_limit is deprecated, use `iteration_range` or model slicing instead.\n",
      "  warnings.warn(\n",
      "/home/panyu/miniconda3/envs/sci-data/lib/python3.9/site-packages/xgboost/core.py:122: UserWarning: ntree_limit is deprecated, use `iteration_range` or model slicing instead.\n",
      "  warnings.warn(\n"
     ]
    },
    {
     "name": "stdout",
     "output_type": "stream",
     "text": [
      "[0]\ttrain-auc:0.86066\teval-auc:0.80704\n",
      "[1]\ttrain-auc:0.86176\teval-auc:0.80667\n",
      "[2]\ttrain-auc:0.86373\teval-auc:0.80779\n",
      "[3]\ttrain-auc:0.86355\teval-auc:0.80831\n",
      "[4]\ttrain-auc:0.86461\teval-auc:0.80910\n",
      "[5]\ttrain-auc:0.86515\teval-auc:0.80974\n",
      "[6]\ttrain-auc:0.86635\teval-auc:0.81045\n",
      "[7]\ttrain-auc:0.86705\teval-auc:0.81044\n",
      "[8]\ttrain-auc:0.86774\teval-auc:0.81145\n",
      "[9]\ttrain-auc:0.86845\teval-auc:0.81142\n",
      "finish training & evaluation for P091\n",
      "start training & evaluation for P054\n"
     ]
    },
    {
     "name": "stderr",
     "output_type": "stream",
     "text": [
      "/home/panyu/miniconda3/envs/sci-data/lib/python3.9/site-packages/xgboost/core.py:122: UserWarning: ntree_limit is deprecated, use `iteration_range` or model slicing instead.\n",
      "  warnings.warn(\n",
      "/home/panyu/miniconda3/envs/sci-data/lib/python3.9/site-packages/xgboost/core.py:122: UserWarning: ntree_limit is deprecated, use `iteration_range` or model slicing instead.\n",
      "  warnings.warn(\n"
     ]
    },
    {
     "name": "stdout",
     "output_type": "stream",
     "text": [
      "[0]\ttrain-auc:0.86282\teval-auc:0.81197\n",
      "[1]\ttrain-auc:0.86433\teval-auc:0.81305\n",
      "[2]\ttrain-auc:0.86564\teval-auc:0.81306\n",
      "[3]\ttrain-auc:0.86673\teval-auc:0.81436\n",
      "[4]\ttrain-auc:0.86690\teval-auc:0.81339\n",
      "[5]\ttrain-auc:0.86725\teval-auc:0.81373\n",
      "[6]\ttrain-auc:0.86743\teval-auc:0.81436\n",
      "[7]\ttrain-auc:0.86835\teval-auc:0.81530\n",
      "[8]\ttrain-auc:0.87078\teval-auc:0.81712\n",
      "[9]\ttrain-auc:0.87090\teval-auc:0.81711\n",
      "finish training & evaluation for P054\n",
      "start training & evaluation for P052\n"
     ]
    },
    {
     "name": "stderr",
     "output_type": "stream",
     "text": [
      "/home/panyu/miniconda3/envs/sci-data/lib/python3.9/site-packages/xgboost/core.py:122: UserWarning: ntree_limit is deprecated, use `iteration_range` or model slicing instead.\n",
      "  warnings.warn(\n",
      "/home/panyu/miniconda3/envs/sci-data/lib/python3.9/site-packages/xgboost/core.py:122: UserWarning: ntree_limit is deprecated, use `iteration_range` or model slicing instead.\n",
      "  warnings.warn(\n"
     ]
    },
    {
     "name": "stdout",
     "output_type": "stream",
     "text": [
      "[0]\ttrain-auc:0.86106\teval-auc:0.81854\n",
      "[1]\ttrain-auc:0.86150\teval-auc:0.82010\n",
      "[2]\ttrain-auc:0.86652\teval-auc:0.82397\n",
      "[3]\ttrain-auc:0.86607\teval-auc:0.82363\n",
      "[4]\ttrain-auc:0.86718\teval-auc:0.82500\n",
      "[5]\ttrain-auc:0.86776\teval-auc:0.82556\n",
      "[6]\ttrain-auc:0.86913\teval-auc:0.82617\n",
      "[7]\ttrain-auc:0.86947\teval-auc:0.82683\n",
      "[8]\ttrain-auc:0.87035\teval-auc:0.82767\n",
      "[9]\ttrain-auc:0.87073\teval-auc:0.82721\n",
      "finish training & evaluation for P052\n",
      "start training & evaluation for P081\n"
     ]
    },
    {
     "name": "stderr",
     "output_type": "stream",
     "text": [
      "/home/panyu/miniconda3/envs/sci-data/lib/python3.9/site-packages/xgboost/core.py:122: UserWarning: ntree_limit is deprecated, use `iteration_range` or model slicing instead.\n",
      "  warnings.warn(\n",
      "/home/panyu/miniconda3/envs/sci-data/lib/python3.9/site-packages/xgboost/core.py:122: UserWarning: ntree_limit is deprecated, use `iteration_range` or model slicing instead.\n",
      "  warnings.warn(\n"
     ]
    },
    {
     "name": "stdout",
     "output_type": "stream",
     "text": [
      "[0]\ttrain-auc:0.86418\teval-auc:0.80772\n",
      "[1]\ttrain-auc:0.86552\teval-auc:0.80925\n",
      "[2]\ttrain-auc:0.87011\teval-auc:0.81338\n",
      "[3]\ttrain-auc:0.87116\teval-auc:0.81352\n",
      "[4]\ttrain-auc:0.87168\teval-auc:0.81433\n",
      "[5]\ttrain-auc:0.87236\teval-auc:0.81491\n",
      "[6]\ttrain-auc:0.87223\teval-auc:0.81485\n",
      "[7]\ttrain-auc:0.87309\teval-auc:0.81591\n",
      "[8]\ttrain-auc:0.87301\teval-auc:0.81582\n",
      "[9]\ttrain-auc:0.87368\teval-auc:0.81630\n",
      "finish training & evaluation for P081\n",
      "start training & evaluation for P050\n"
     ]
    },
    {
     "name": "stderr",
     "output_type": "stream",
     "text": [
      "/home/panyu/miniconda3/envs/sci-data/lib/python3.9/site-packages/xgboost/core.py:122: UserWarning: ntree_limit is deprecated, use `iteration_range` or model slicing instead.\n",
      "  warnings.warn(\n",
      "/home/panyu/miniconda3/envs/sci-data/lib/python3.9/site-packages/xgboost/core.py:122: UserWarning: ntree_limit is deprecated, use `iteration_range` or model slicing instead.\n",
      "  warnings.warn(\n"
     ]
    },
    {
     "name": "stdout",
     "output_type": "stream",
     "text": [
      "[0]\ttrain-auc:0.86355\teval-auc:0.80993\n",
      "[1]\ttrain-auc:0.86693\teval-auc:0.81325\n",
      "[2]\ttrain-auc:0.87083\teval-auc:0.81738\n",
      "[3]\ttrain-auc:0.87124\teval-auc:0.81707\n",
      "[4]\ttrain-auc:0.87235\teval-auc:0.81902\n",
      "[5]\ttrain-auc:0.87285\teval-auc:0.81960\n",
      "[6]\ttrain-auc:0.87315\teval-auc:0.82012\n",
      "[7]\ttrain-auc:0.87350\teval-auc:0.82075\n",
      "[8]\ttrain-auc:0.87511\teval-auc:0.82134\n",
      "[9]\ttrain-auc:0.87549\teval-auc:0.82186\n",
      "finish training & evaluation for P050\n",
      "start training & evaluation for P041\n"
     ]
    },
    {
     "name": "stderr",
     "output_type": "stream",
     "text": [
      "/home/panyu/miniconda3/envs/sci-data/lib/python3.9/site-packages/xgboost/core.py:122: UserWarning: ntree_limit is deprecated, use `iteration_range` or model slicing instead.\n",
      "  warnings.warn(\n",
      "/home/panyu/miniconda3/envs/sci-data/lib/python3.9/site-packages/xgboost/core.py:122: UserWarning: ntree_limit is deprecated, use `iteration_range` or model slicing instead.\n",
      "  warnings.warn(\n"
     ]
    },
    {
     "name": "stdout",
     "output_type": "stream",
     "text": [
      "[0]\ttrain-auc:0.86363\teval-auc:0.79802\n",
      "[1]\ttrain-auc:0.86627\teval-auc:0.80132\n",
      "[2]\ttrain-auc:0.86574\teval-auc:0.80080\n",
      "[3]\ttrain-auc:0.86837\teval-auc:0.80397\n",
      "[4]\ttrain-auc:0.86853\teval-auc:0.80323\n",
      "[5]\ttrain-auc:0.86960\teval-auc:0.80410\n",
      "[6]\ttrain-auc:0.87009\teval-auc:0.80466\n",
      "[7]\ttrain-auc:0.87076\teval-auc:0.80466\n",
      "[8]\ttrain-auc:0.87255\teval-auc:0.80671\n",
      "[9]\ttrain-auc:0.87310\teval-auc:0.80745\n",
      "finish training & evaluation for P041\n",
      "start training & evaluation for P035\n"
     ]
    },
    {
     "name": "stderr",
     "output_type": "stream",
     "text": [
      "/home/panyu/miniconda3/envs/sci-data/lib/python3.9/site-packages/xgboost/core.py:122: UserWarning: ntree_limit is deprecated, use `iteration_range` or model slicing instead.\n",
      "  warnings.warn(\n",
      "/home/panyu/miniconda3/envs/sci-data/lib/python3.9/site-packages/xgboost/core.py:122: UserWarning: ntree_limit is deprecated, use `iteration_range` or model slicing instead.\n",
      "  warnings.warn(\n"
     ]
    },
    {
     "name": "stdout",
     "output_type": "stream",
     "text": [
      "[0]\ttrain-auc:0.86469\teval-auc:0.81220\n",
      "[1]\ttrain-auc:0.86596\teval-auc:0.81345\n",
      "[2]\ttrain-auc:0.86756\teval-auc:0.81346\n",
      "[3]\ttrain-auc:0.86842\teval-auc:0.81527\n",
      "[4]\ttrain-auc:0.86877\teval-auc:0.81556\n",
      "[5]\ttrain-auc:0.87007\teval-auc:0.81577\n",
      "[6]\ttrain-auc:0.87053\teval-auc:0.81623\n",
      "[7]\ttrain-auc:0.87086\teval-auc:0.81623\n",
      "[8]\ttrain-auc:0.87326\teval-auc:0.81831\n",
      "[9]\ttrain-auc:0.87318\teval-auc:0.81841\n",
      "finish training & evaluation for P035\n",
      "start training & evaluation for P125\n"
     ]
    },
    {
     "name": "stderr",
     "output_type": "stream",
     "text": [
      "/home/panyu/miniconda3/envs/sci-data/lib/python3.9/site-packages/xgboost/core.py:122: UserWarning: ntree_limit is deprecated, use `iteration_range` or model slicing instead.\n",
      "  warnings.warn(\n",
      "/home/panyu/miniconda3/envs/sci-data/lib/python3.9/site-packages/xgboost/core.py:122: UserWarning: ntree_limit is deprecated, use `iteration_range` or model slicing instead.\n",
      "  warnings.warn(\n"
     ]
    },
    {
     "name": "stdout",
     "output_type": "stream",
     "text": [
      "[0]\ttrain-auc:0.86311\teval-auc:0.80803\n",
      "[1]\ttrain-auc:0.86466\teval-auc:0.80864\n",
      "[2]\ttrain-auc:0.86518\teval-auc:0.80975\n",
      "[3]\ttrain-auc:0.86570\teval-auc:0.81072\n",
      "[4]\ttrain-auc:0.86690\teval-auc:0.81173\n",
      "[5]\ttrain-auc:0.86836\teval-auc:0.81262\n",
      "[6]\ttrain-auc:0.87000\teval-auc:0.81367\n",
      "[7]\ttrain-auc:0.87065\teval-auc:0.81423\n",
      "[8]\ttrain-auc:0.87202\teval-auc:0.81531\n",
      "[9]\ttrain-auc:0.87246\teval-auc:0.81630\n",
      "finish training & evaluation for P125\n",
      "start training & evaluation for P055\n"
     ]
    },
    {
     "name": "stderr",
     "output_type": "stream",
     "text": [
      "/home/panyu/miniconda3/envs/sci-data/lib/python3.9/site-packages/xgboost/core.py:122: UserWarning: ntree_limit is deprecated, use `iteration_range` or model slicing instead.\n",
      "  warnings.warn(\n",
      "/home/panyu/miniconda3/envs/sci-data/lib/python3.9/site-packages/xgboost/core.py:122: UserWarning: ntree_limit is deprecated, use `iteration_range` or model slicing instead.\n",
      "  warnings.warn(\n"
     ]
    },
    {
     "name": "stdout",
     "output_type": "stream",
     "text": [
      "[0]\ttrain-auc:0.86557\teval-auc:0.81532\n",
      "[1]\ttrain-auc:0.86655\teval-auc:0.81629\n",
      "[2]\ttrain-auc:0.86725\teval-auc:0.81709\n",
      "[3]\ttrain-auc:0.86862\teval-auc:0.81884\n",
      "[4]\ttrain-auc:0.86977\teval-auc:0.81956\n",
      "[5]\ttrain-auc:0.87176\teval-auc:0.82082\n",
      "[6]\ttrain-auc:0.87301\teval-auc:0.82137\n",
      "[7]\ttrain-auc:0.87375\teval-auc:0.82295\n",
      "[8]\ttrain-auc:0.87447\teval-auc:0.82322\n",
      "[9]\ttrain-auc:0.87498\teval-auc:0.82291\n",
      "finish training & evaluation for P055\n",
      "start training & evaluation for P071\n"
     ]
    },
    {
     "name": "stderr",
     "output_type": "stream",
     "text": [
      "/home/panyu/miniconda3/envs/sci-data/lib/python3.9/site-packages/xgboost/core.py:122: UserWarning: ntree_limit is deprecated, use `iteration_range` or model slicing instead.\n",
      "  warnings.warn(\n",
      "/home/panyu/miniconda3/envs/sci-data/lib/python3.9/site-packages/xgboost/core.py:122: UserWarning: ntree_limit is deprecated, use `iteration_range` or model slicing instead.\n",
      "  warnings.warn(\n"
     ]
    },
    {
     "name": "stdout",
     "output_type": "stream",
     "text": [
      "[0]\ttrain-auc:0.86190\teval-auc:0.81393\n",
      "[1]\ttrain-auc:0.86436\teval-auc:0.81674\n",
      "[2]\ttrain-auc:0.86629\teval-auc:0.81864\n",
      "[3]\ttrain-auc:0.86671\teval-auc:0.81830\n",
      "[4]\ttrain-auc:0.87106\teval-auc:0.81993\n",
      "[5]\ttrain-auc:0.87099\teval-auc:0.82027\n",
      "[6]\ttrain-auc:0.87080\teval-auc:0.82037\n",
      "[7]\ttrain-auc:0.87218\teval-auc:0.82081\n",
      "[8]\ttrain-auc:0.87407\teval-auc:0.82237\n",
      "[9]\ttrain-auc:0.87452\teval-auc:0.82249\n",
      "finish training & evaluation for P071\n",
      "start training & evaluation for P021\n"
     ]
    },
    {
     "name": "stderr",
     "output_type": "stream",
     "text": [
      "/home/panyu/miniconda3/envs/sci-data/lib/python3.9/site-packages/xgboost/core.py:122: UserWarning: ntree_limit is deprecated, use `iteration_range` or model slicing instead.\n",
      "  warnings.warn(\n",
      "/home/panyu/miniconda3/envs/sci-data/lib/python3.9/site-packages/xgboost/core.py:122: UserWarning: ntree_limit is deprecated, use `iteration_range` or model slicing instead.\n",
      "  warnings.warn(\n"
     ]
    },
    {
     "name": "stdout",
     "output_type": "stream",
     "text": [
      "[0]\ttrain-auc:0.86190\teval-auc:0.82402\n",
      "[1]\ttrain-auc:0.86327\teval-auc:0.82465\n",
      "[2]\ttrain-auc:0.86466\teval-auc:0.82528\n",
      "[3]\ttrain-auc:0.86459\teval-auc:0.82557\n",
      "[4]\ttrain-auc:0.86506\teval-auc:0.82512\n",
      "[5]\ttrain-auc:0.86661\teval-auc:0.82688\n",
      "[6]\ttrain-auc:0.87003\teval-auc:0.82905\n",
      "[7]\ttrain-auc:0.87074\teval-auc:0.82986\n",
      "[8]\ttrain-auc:0.87209\teval-auc:0.83059\n",
      "[9]\ttrain-auc:0.87240\teval-auc:0.83064\n",
      "finish training & evaluation for P021\n",
      "start training & evaluation for P037\n"
     ]
    },
    {
     "name": "stderr",
     "output_type": "stream",
     "text": [
      "/home/panyu/miniconda3/envs/sci-data/lib/python3.9/site-packages/xgboost/core.py:122: UserWarning: ntree_limit is deprecated, use `iteration_range` or model slicing instead.\n",
      "  warnings.warn(\n",
      "/home/panyu/miniconda3/envs/sci-data/lib/python3.9/site-packages/xgboost/core.py:122: UserWarning: ntree_limit is deprecated, use `iteration_range` or model slicing instead.\n",
      "  warnings.warn(\n"
     ]
    },
    {
     "name": "stdout",
     "output_type": "stream",
     "text": [
      "[0]\ttrain-auc:0.86714\teval-auc:0.80879\n",
      "[1]\ttrain-auc:0.86876\teval-auc:0.81073\n",
      "[2]\ttrain-auc:0.87653\teval-auc:0.81763\n",
      "[3]\ttrain-auc:0.87755\teval-auc:0.81797\n",
      "[4]\ttrain-auc:0.87742\teval-auc:0.81778\n",
      "[5]\ttrain-auc:0.88025\teval-auc:0.81888\n",
      "[6]\ttrain-auc:0.87980\teval-auc:0.81844\n",
      "[7]\ttrain-auc:0.88076\teval-auc:0.81937\n",
      "[8]\ttrain-auc:0.88138\teval-auc:0.81990\n",
      "[9]\ttrain-auc:0.88162\teval-auc:0.82009\n",
      "finish training & evaluation for P037\n",
      "start training & evaluation for P003\n"
     ]
    },
    {
     "name": "stderr",
     "output_type": "stream",
     "text": [
      "/home/panyu/miniconda3/envs/sci-data/lib/python3.9/site-packages/xgboost/core.py:122: UserWarning: ntree_limit is deprecated, use `iteration_range` or model slicing instead.\n",
      "  warnings.warn(\n",
      "/home/panyu/miniconda3/envs/sci-data/lib/python3.9/site-packages/xgboost/core.py:122: UserWarning: ntree_limit is deprecated, use `iteration_range` or model slicing instead.\n",
      "  warnings.warn(\n"
     ]
    },
    {
     "name": "stdout",
     "output_type": "stream",
     "text": [
      "[0]\ttrain-auc:0.86477\teval-auc:0.81968\n",
      "[1]\ttrain-auc:0.86804\teval-auc:0.82149\n",
      "[2]\ttrain-auc:0.86871\teval-auc:0.82238\n",
      "[3]\ttrain-auc:0.86965\teval-auc:0.82398\n",
      "[4]\ttrain-auc:0.86975\teval-auc:0.82406\n",
      "[5]\ttrain-auc:0.87091\teval-auc:0.82559\n",
      "[6]\ttrain-auc:0.87147\teval-auc:0.82553\n",
      "[7]\ttrain-auc:0.87133\teval-auc:0.82519\n",
      "[8]\ttrain-auc:0.87213\teval-auc:0.82624\n",
      "[9]\ttrain-auc:0.87376\teval-auc:0.82749\n",
      "finish training & evaluation for P003\n",
      "start training & evaluation for P033\n"
     ]
    },
    {
     "name": "stderr",
     "output_type": "stream",
     "text": [
      "/home/panyu/miniconda3/envs/sci-data/lib/python3.9/site-packages/xgboost/core.py:122: UserWarning: ntree_limit is deprecated, use `iteration_range` or model slicing instead.\n",
      "  warnings.warn(\n",
      "/home/panyu/miniconda3/envs/sci-data/lib/python3.9/site-packages/xgboost/core.py:122: UserWarning: ntree_limit is deprecated, use `iteration_range` or model slicing instead.\n",
      "  warnings.warn(\n"
     ]
    },
    {
     "name": "stdout",
     "output_type": "stream",
     "text": [
      "[0]\ttrain-auc:0.86390\teval-auc:0.81271\n",
      "[1]\ttrain-auc:0.86544\teval-auc:0.81491\n",
      "[2]\ttrain-auc:0.87074\teval-auc:0.81902\n",
      "[3]\ttrain-auc:0.87068\teval-auc:0.82029\n",
      "[4]\ttrain-auc:0.87271\teval-auc:0.82196\n",
      "[5]\ttrain-auc:0.87393\teval-auc:0.82319\n",
      "[6]\ttrain-auc:0.87519\teval-auc:0.82483\n",
      "[7]\ttrain-auc:0.87560\teval-auc:0.82467\n",
      "[8]\ttrain-auc:0.87557\teval-auc:0.82413\n",
      "[9]\ttrain-auc:0.87652\teval-auc:0.82496\n",
      "finish training & evaluation for P033\n",
      "start training & evaluation for P108\n"
     ]
    },
    {
     "name": "stderr",
     "output_type": "stream",
     "text": [
      "/home/panyu/miniconda3/envs/sci-data/lib/python3.9/site-packages/xgboost/core.py:122: UserWarning: ntree_limit is deprecated, use `iteration_range` or model slicing instead.\n",
      "  warnings.warn(\n",
      "/home/panyu/miniconda3/envs/sci-data/lib/python3.9/site-packages/xgboost/core.py:122: UserWarning: ntree_limit is deprecated, use `iteration_range` or model slicing instead.\n",
      "  warnings.warn(\n"
     ]
    },
    {
     "name": "stdout",
     "output_type": "stream",
     "text": [
      "[0]\ttrain-auc:0.86648\teval-auc:0.80377\n",
      "[1]\ttrain-auc:0.86708\teval-auc:0.80367\n",
      "[2]\ttrain-auc:0.86902\teval-auc:0.80515\n",
      "[3]\ttrain-auc:0.86884\teval-auc:0.80460\n",
      "[4]\ttrain-auc:0.86920\teval-auc:0.80543\n",
      "[5]\ttrain-auc:0.87070\teval-auc:0.80697\n",
      "[6]\ttrain-auc:0.87322\teval-auc:0.81003\n",
      "[7]\ttrain-auc:0.87296\teval-auc:0.80923\n",
      "[8]\ttrain-auc:0.87497\teval-auc:0.81120\n",
      "[9]\ttrain-auc:0.87468\teval-auc:0.81123\n",
      "finish training & evaluation for P108\n",
      "start training & evaluation for P084\n"
     ]
    },
    {
     "name": "stderr",
     "output_type": "stream",
     "text": [
      "/home/panyu/miniconda3/envs/sci-data/lib/python3.9/site-packages/xgboost/core.py:122: UserWarning: ntree_limit is deprecated, use `iteration_range` or model slicing instead.\n",
      "  warnings.warn(\n",
      "/home/panyu/miniconda3/envs/sci-data/lib/python3.9/site-packages/xgboost/core.py:122: UserWarning: ntree_limit is deprecated, use `iteration_range` or model slicing instead.\n",
      "  warnings.warn(\n"
     ]
    },
    {
     "name": "stdout",
     "output_type": "stream",
     "text": [
      "[0]\ttrain-auc:0.86207\teval-auc:0.80346\n",
      "[1]\ttrain-auc:0.86316\teval-auc:0.80344\n",
      "[2]\ttrain-auc:0.86320\teval-auc:0.80326\n",
      "[3]\ttrain-auc:0.86429\teval-auc:0.80369\n",
      "[4]\ttrain-auc:0.86754\teval-auc:0.80683\n",
      "[5]\ttrain-auc:0.86765\teval-auc:0.80678\n",
      "[6]\ttrain-auc:0.86949\teval-auc:0.80869\n",
      "[7]\ttrain-auc:0.87031\teval-auc:0.80989\n",
      "[8]\ttrain-auc:0.87151\teval-auc:0.81025\n",
      "[9]\ttrain-auc:0.87395\teval-auc:0.81385\n",
      "finish training & evaluation for P084\n",
      "start training & evaluation for P045\n"
     ]
    },
    {
     "name": "stderr",
     "output_type": "stream",
     "text": [
      "/home/panyu/miniconda3/envs/sci-data/lib/python3.9/site-packages/xgboost/core.py:122: UserWarning: ntree_limit is deprecated, use `iteration_range` or model slicing instead.\n",
      "  warnings.warn(\n",
      "/home/panyu/miniconda3/envs/sci-data/lib/python3.9/site-packages/xgboost/core.py:122: UserWarning: ntree_limit is deprecated, use `iteration_range` or model slicing instead.\n",
      "  warnings.warn(\n"
     ]
    },
    {
     "name": "stdout",
     "output_type": "stream",
     "text": [
      "[0]\ttrain-auc:0.86627\teval-auc:0.81461\n",
      "[1]\ttrain-auc:0.87244\teval-auc:0.82091\n",
      "[2]\ttrain-auc:0.87492\teval-auc:0.82412\n",
      "[3]\ttrain-auc:0.87517\teval-auc:0.82409\n",
      "[4]\ttrain-auc:0.87601\teval-auc:0.82477\n",
      "[5]\ttrain-auc:0.87622\teval-auc:0.82546\n",
      "[6]\ttrain-auc:0.87627\teval-auc:0.82554\n",
      "[7]\ttrain-auc:0.87692\teval-auc:0.82645\n",
      "[8]\ttrain-auc:0.87726\teval-auc:0.82700\n",
      "[9]\ttrain-auc:0.87726\teval-auc:0.82688\n",
      "finish training & evaluation for P045\n",
      "start training & evaluation for P124\n"
     ]
    },
    {
     "name": "stderr",
     "output_type": "stream",
     "text": [
      "/home/panyu/miniconda3/envs/sci-data/lib/python3.9/site-packages/xgboost/core.py:122: UserWarning: ntree_limit is deprecated, use `iteration_range` or model slicing instead.\n",
      "  warnings.warn(\n",
      "/home/panyu/miniconda3/envs/sci-data/lib/python3.9/site-packages/xgboost/core.py:122: UserWarning: ntree_limit is deprecated, use `iteration_range` or model slicing instead.\n",
      "  warnings.warn(\n"
     ]
    },
    {
     "name": "stdout",
     "output_type": "stream",
     "text": [
      "[0]\ttrain-auc:0.86301\teval-auc:0.80455\n",
      "[1]\ttrain-auc:0.86411\teval-auc:0.80548\n",
      "[2]\ttrain-auc:0.86613\teval-auc:0.80928\n",
      "[3]\ttrain-auc:0.86952\teval-auc:0.81175\n",
      "[4]\ttrain-auc:0.87029\teval-auc:0.81220\n",
      "[5]\ttrain-auc:0.87095\teval-auc:0.81378\n",
      "[6]\ttrain-auc:0.87157\teval-auc:0.81443\n",
      "[7]\ttrain-auc:0.87186\teval-auc:0.81521\n",
      "[8]\ttrain-auc:0.87230\teval-auc:0.81585\n",
      "[9]\ttrain-auc:0.87276\teval-auc:0.81598\n",
      "finish training & evaluation for P124\n",
      "start training & evaluation for P070\n"
     ]
    },
    {
     "name": "stderr",
     "output_type": "stream",
     "text": [
      "/home/panyu/miniconda3/envs/sci-data/lib/python3.9/site-packages/xgboost/core.py:122: UserWarning: ntree_limit is deprecated, use `iteration_range` or model slicing instead.\n",
      "  warnings.warn(\n",
      "/home/panyu/miniconda3/envs/sci-data/lib/python3.9/site-packages/xgboost/core.py:122: UserWarning: ntree_limit is deprecated, use `iteration_range` or model slicing instead.\n",
      "  warnings.warn(\n"
     ]
    },
    {
     "name": "stdout",
     "output_type": "stream",
     "text": [
      "[0]\ttrain-auc:0.86123\teval-auc:0.81183\n",
      "[1]\ttrain-auc:0.86256\teval-auc:0.81343\n",
      "[2]\ttrain-auc:0.86268\teval-auc:0.81402\n",
      "[3]\ttrain-auc:0.86609\teval-auc:0.81698\n",
      "[4]\ttrain-auc:0.86928\teval-auc:0.81880\n",
      "[5]\ttrain-auc:0.87039\teval-auc:0.81915\n",
      "[6]\ttrain-auc:0.87114\teval-auc:0.81981\n",
      "[7]\ttrain-auc:0.87325\teval-auc:0.82165\n",
      "[8]\ttrain-auc:0.87396\teval-auc:0.82120\n",
      "[9]\ttrain-auc:0.87561\teval-auc:0.82252\n",
      "finish training & evaluation for P070\n",
      "start training & evaluation for P119\n"
     ]
    },
    {
     "name": "stderr",
     "output_type": "stream",
     "text": [
      "/home/panyu/miniconda3/envs/sci-data/lib/python3.9/site-packages/xgboost/core.py:122: UserWarning: ntree_limit is deprecated, use `iteration_range` or model slicing instead.\n",
      "  warnings.warn(\n",
      "/home/panyu/miniconda3/envs/sci-data/lib/python3.9/site-packages/xgboost/core.py:122: UserWarning: ntree_limit is deprecated, use `iteration_range` or model slicing instead.\n",
      "  warnings.warn(\n"
     ]
    },
    {
     "name": "stdout",
     "output_type": "stream",
     "text": [
      "[0]\ttrain-auc:0.86599\teval-auc:0.80738\n",
      "[1]\ttrain-auc:0.86703\teval-auc:0.80811\n",
      "[2]\ttrain-auc:0.86876\teval-auc:0.81131\n",
      "[3]\ttrain-auc:0.86952\teval-auc:0.81181\n",
      "[4]\ttrain-auc:0.87038\teval-auc:0.81269\n",
      "[5]\ttrain-auc:0.87050\teval-auc:0.81291\n",
      "[6]\ttrain-auc:0.87226\teval-auc:0.81289\n",
      "[7]\ttrain-auc:0.87240\teval-auc:0.81289\n",
      "[8]\ttrain-auc:0.87388\teval-auc:0.81470\n",
      "[9]\ttrain-auc:0.87452\teval-auc:0.81586\n",
      "finish training & evaluation for P119\n",
      "start training & evaluation for P135\n"
     ]
    },
    {
     "name": "stderr",
     "output_type": "stream",
     "text": [
      "/home/panyu/miniconda3/envs/sci-data/lib/python3.9/site-packages/xgboost/core.py:122: UserWarning: ntree_limit is deprecated, use `iteration_range` or model slicing instead.\n",
      "  warnings.warn(\n",
      "/home/panyu/miniconda3/envs/sci-data/lib/python3.9/site-packages/xgboost/core.py:122: UserWarning: ntree_limit is deprecated, use `iteration_range` or model slicing instead.\n",
      "  warnings.warn(\n"
     ]
    },
    {
     "name": "stdout",
     "output_type": "stream",
     "text": [
      "[0]\ttrain-auc:0.86451\teval-auc:0.81028\n",
      "[1]\ttrain-auc:0.86532\teval-auc:0.81018\n",
      "[2]\ttrain-auc:0.86859\teval-auc:0.81151\n",
      "[3]\ttrain-auc:0.86839\teval-auc:0.81228\n",
      "[4]\ttrain-auc:0.86907\teval-auc:0.81216\n",
      "[5]\ttrain-auc:0.86964\teval-auc:0.81236\n",
      "[6]\ttrain-auc:0.87018\teval-auc:0.81431\n",
      "[7]\ttrain-auc:0.87086\teval-auc:0.81553\n",
      "[8]\ttrain-auc:0.87125\teval-auc:0.81521\n",
      "[9]\ttrain-auc:0.87168\teval-auc:0.81529\n",
      "finish training & evaluation for P135\n",
      "start training & evaluation for P107\n"
     ]
    },
    {
     "name": "stderr",
     "output_type": "stream",
     "text": [
      "/home/panyu/miniconda3/envs/sci-data/lib/python3.9/site-packages/xgboost/core.py:122: UserWarning: ntree_limit is deprecated, use `iteration_range` or model slicing instead.\n",
      "  warnings.warn(\n",
      "/home/panyu/miniconda3/envs/sci-data/lib/python3.9/site-packages/xgboost/core.py:122: UserWarning: ntree_limit is deprecated, use `iteration_range` or model slicing instead.\n",
      "  warnings.warn(\n"
     ]
    },
    {
     "name": "stdout",
     "output_type": "stream",
     "text": [
      "[0]\ttrain-auc:0.86554\teval-auc:0.80705\n",
      "[1]\ttrain-auc:0.86681\teval-auc:0.80624\n",
      "[2]\ttrain-auc:0.86732\teval-auc:0.80758\n",
      "[3]\ttrain-auc:0.86909\teval-auc:0.80939\n",
      "[4]\ttrain-auc:0.87100\teval-auc:0.81131\n",
      "[5]\ttrain-auc:0.87264\teval-auc:0.81227\n",
      "[6]\ttrain-auc:0.87289\teval-auc:0.81366\n",
      "[7]\ttrain-auc:0.87432\teval-auc:0.81460\n",
      "[8]\ttrain-auc:0.87430\teval-auc:0.81476\n",
      "[9]\ttrain-auc:0.87529\teval-auc:0.81536\n",
      "finish training & evaluation for P107\n",
      "start training & evaluation for P016\n"
     ]
    },
    {
     "name": "stderr",
     "output_type": "stream",
     "text": [
      "/home/panyu/miniconda3/envs/sci-data/lib/python3.9/site-packages/xgboost/core.py:122: UserWarning: ntree_limit is deprecated, use `iteration_range` or model slicing instead.\n",
      "  warnings.warn(\n",
      "/home/panyu/miniconda3/envs/sci-data/lib/python3.9/site-packages/xgboost/core.py:122: UserWarning: ntree_limit is deprecated, use `iteration_range` or model slicing instead.\n",
      "  warnings.warn(\n"
     ]
    },
    {
     "name": "stdout",
     "output_type": "stream",
     "text": [
      "[0]\ttrain-auc:0.86588\teval-auc:0.81311\n",
      "[1]\ttrain-auc:0.86667\teval-auc:0.81495\n",
      "[2]\ttrain-auc:0.86820\teval-auc:0.81638\n",
      "[3]\ttrain-auc:0.87007\teval-auc:0.81723\n",
      "[4]\ttrain-auc:0.87112\teval-auc:0.81779\n",
      "[5]\ttrain-auc:0.87179\teval-auc:0.81829\n",
      "[6]\ttrain-auc:0.87287\teval-auc:0.81842\n",
      "[7]\ttrain-auc:0.87319\teval-auc:0.81798\n",
      "[8]\ttrain-auc:0.87359\teval-auc:0.81887\n",
      "[9]\ttrain-auc:0.87379\teval-auc:0.81843\n",
      "finish training & evaluation for P016\n",
      "start training & evaluation for P049\n"
     ]
    },
    {
     "name": "stderr",
     "output_type": "stream",
     "text": [
      "/home/panyu/miniconda3/envs/sci-data/lib/python3.9/site-packages/xgboost/core.py:122: UserWarning: ntree_limit is deprecated, use `iteration_range` or model slicing instead.\n",
      "  warnings.warn(\n",
      "/home/panyu/miniconda3/envs/sci-data/lib/python3.9/site-packages/xgboost/core.py:122: UserWarning: ntree_limit is deprecated, use `iteration_range` or model slicing instead.\n",
      "  warnings.warn(\n"
     ]
    },
    {
     "name": "stdout",
     "output_type": "stream",
     "text": [
      "[0]\ttrain-auc:0.86801\teval-auc:0.81235\n",
      "[1]\ttrain-auc:0.87192\teval-auc:0.81746\n",
      "[2]\ttrain-auc:0.87162\teval-auc:0.81659\n",
      "[3]\ttrain-auc:0.87225\teval-auc:0.81739\n",
      "[4]\ttrain-auc:0.87311\teval-auc:0.81587\n",
      "[5]\ttrain-auc:0.87407\teval-auc:0.81774\n",
      "[6]\ttrain-auc:0.87494\teval-auc:0.81713\n",
      "[7]\ttrain-auc:0.87597\teval-auc:0.81748\n",
      "[8]\ttrain-auc:0.87628\teval-auc:0.81731\n",
      "[9]\ttrain-auc:0.87719\teval-auc:0.81759\n",
      "finish training & evaluation for P049\n",
      "start training & evaluation for P066\n"
     ]
    },
    {
     "name": "stderr",
     "output_type": "stream",
     "text": [
      "/home/panyu/miniconda3/envs/sci-data/lib/python3.9/site-packages/xgboost/core.py:122: UserWarning: ntree_limit is deprecated, use `iteration_range` or model slicing instead.\n",
      "  warnings.warn(\n",
      "/home/panyu/miniconda3/envs/sci-data/lib/python3.9/site-packages/xgboost/core.py:122: UserWarning: ntree_limit is deprecated, use `iteration_range` or model slicing instead.\n",
      "  warnings.warn(\n"
     ]
    },
    {
     "name": "stdout",
     "output_type": "stream",
     "text": [
      "[0]\ttrain-auc:0.86373\teval-auc:0.81107\n",
      "[1]\ttrain-auc:0.86833\teval-auc:0.81660\n",
      "[2]\ttrain-auc:0.87033\teval-auc:0.81859\n",
      "[3]\ttrain-auc:0.87123\teval-auc:0.81923\n",
      "[4]\ttrain-auc:0.87248\teval-auc:0.82084\n",
      "[5]\ttrain-auc:0.87491\teval-auc:0.82299\n",
      "[6]\ttrain-auc:0.87518\teval-auc:0.82297\n",
      "[7]\ttrain-auc:0.87596\teval-auc:0.82371\n",
      "[8]\ttrain-auc:0.87736\teval-auc:0.82420\n",
      "[9]\ttrain-auc:0.87767\teval-auc:0.82439\n",
      "finish training & evaluation for P066\n",
      "start training & evaluation for P075\n"
     ]
    },
    {
     "name": "stderr",
     "output_type": "stream",
     "text": [
      "/home/panyu/miniconda3/envs/sci-data/lib/python3.9/site-packages/xgboost/core.py:122: UserWarning: ntree_limit is deprecated, use `iteration_range` or model slicing instead.\n",
      "  warnings.warn(\n",
      "/home/panyu/miniconda3/envs/sci-data/lib/python3.9/site-packages/xgboost/core.py:122: UserWarning: ntree_limit is deprecated, use `iteration_range` or model slicing instead.\n",
      "  warnings.warn(\n"
     ]
    },
    {
     "name": "stdout",
     "output_type": "stream",
     "text": [
      "[0]\ttrain-auc:0.86100\teval-auc:0.80551\n",
      "[1]\ttrain-auc:0.86281\teval-auc:0.80863\n",
      "[2]\ttrain-auc:0.86312\teval-auc:0.80914\n",
      "[3]\ttrain-auc:0.86492\teval-auc:0.81159\n",
      "[4]\ttrain-auc:0.86518\teval-auc:0.81170\n",
      "[5]\ttrain-auc:0.86638\teval-auc:0.81234\n",
      "[6]\ttrain-auc:0.86676\teval-auc:0.81303\n",
      "[7]\ttrain-auc:0.86903\teval-auc:0.81519\n",
      "[8]\ttrain-auc:0.87115\teval-auc:0.81697\n",
      "[9]\ttrain-auc:0.87158\teval-auc:0.81827\n",
      "finish training & evaluation for P075\n",
      "start training & evaluation for P097\n"
     ]
    },
    {
     "name": "stderr",
     "output_type": "stream",
     "text": [
      "/home/panyu/miniconda3/envs/sci-data/lib/python3.9/site-packages/xgboost/core.py:122: UserWarning: ntree_limit is deprecated, use `iteration_range` or model slicing instead.\n",
      "  warnings.warn(\n",
      "/home/panyu/miniconda3/envs/sci-data/lib/python3.9/site-packages/xgboost/core.py:122: UserWarning: ntree_limit is deprecated, use `iteration_range` or model slicing instead.\n",
      "  warnings.warn(\n"
     ]
    },
    {
     "name": "stdout",
     "output_type": "stream",
     "text": [
      "[0]\ttrain-auc:0.86800\teval-auc:0.80739\n",
      "[1]\ttrain-auc:0.86911\teval-auc:0.81004\n",
      "[2]\ttrain-auc:0.87098\teval-auc:0.81186\n",
      "[3]\ttrain-auc:0.87439\teval-auc:0.81587\n",
      "[4]\ttrain-auc:0.87440\teval-auc:0.81595\n",
      "[5]\ttrain-auc:0.87566\teval-auc:0.81671\n",
      "[6]\ttrain-auc:0.87670\teval-auc:0.81775\n",
      "[7]\ttrain-auc:0.87672\teval-auc:0.81826\n",
      "[8]\ttrain-auc:0.87711\teval-auc:0.81843\n",
      "[9]\ttrain-auc:0.87745\teval-auc:0.81925\n",
      "finish training & evaluation for P097\n",
      "start training & evaluation for P022\n"
     ]
    },
    {
     "name": "stderr",
     "output_type": "stream",
     "text": [
      "/home/panyu/miniconda3/envs/sci-data/lib/python3.9/site-packages/xgboost/core.py:122: UserWarning: ntree_limit is deprecated, use `iteration_range` or model slicing instead.\n",
      "  warnings.warn(\n",
      "/home/panyu/miniconda3/envs/sci-data/lib/python3.9/site-packages/xgboost/core.py:122: UserWarning: ntree_limit is deprecated, use `iteration_range` or model slicing instead.\n",
      "  warnings.warn(\n"
     ]
    },
    {
     "name": "stdout",
     "output_type": "stream",
     "text": [
      "[0]\ttrain-auc:0.86490\teval-auc:0.82160\n",
      "[1]\ttrain-auc:0.86856\teval-auc:0.82589\n",
      "[2]\ttrain-auc:0.86911\teval-auc:0.82525\n",
      "[3]\ttrain-auc:0.86861\teval-auc:0.82655\n",
      "[4]\ttrain-auc:0.86935\teval-auc:0.82564\n",
      "[5]\ttrain-auc:0.86999\teval-auc:0.82598\n",
      "[6]\ttrain-auc:0.87018\teval-auc:0.82584\n",
      "[7]\ttrain-auc:0.87073\teval-auc:0.82725\n",
      "[8]\ttrain-auc:0.87113\teval-auc:0.82700\n",
      "[9]\ttrain-auc:0.87169\teval-auc:0.82760\n",
      "finish training & evaluation for P022\n",
      "start training & evaluation for P024\n"
     ]
    },
    {
     "name": "stderr",
     "output_type": "stream",
     "text": [
      "/home/panyu/miniconda3/envs/sci-data/lib/python3.9/site-packages/xgboost/core.py:122: UserWarning: ntree_limit is deprecated, use `iteration_range` or model slicing instead.\n",
      "  warnings.warn(\n",
      "/home/panyu/miniconda3/envs/sci-data/lib/python3.9/site-packages/xgboost/core.py:122: UserWarning: ntree_limit is deprecated, use `iteration_range` or model slicing instead.\n",
      "  warnings.warn(\n"
     ]
    },
    {
     "name": "stdout",
     "output_type": "stream",
     "text": [
      "[0]\ttrain-auc:0.86369\teval-auc:0.80684\n",
      "[1]\ttrain-auc:0.86585\teval-auc:0.81002\n",
      "[2]\ttrain-auc:0.86643\teval-auc:0.80973\n",
      "[3]\ttrain-auc:0.86840\teval-auc:0.81127\n",
      "[4]\ttrain-auc:0.86926\teval-auc:0.81146\n",
      "[5]\ttrain-auc:0.86974\teval-auc:0.81144\n",
      "[6]\ttrain-auc:0.87055\teval-auc:0.81188\n",
      "[7]\ttrain-auc:0.87094\teval-auc:0.81221\n",
      "[8]\ttrain-auc:0.87141\teval-auc:0.81209\n",
      "[9]\ttrain-auc:0.87174\teval-auc:0.81256\n",
      "finish training & evaluation for P024\n",
      "start training & evaluation for P110\n"
     ]
    },
    {
     "name": "stderr",
     "output_type": "stream",
     "text": [
      "/home/panyu/miniconda3/envs/sci-data/lib/python3.9/site-packages/xgboost/core.py:122: UserWarning: ntree_limit is deprecated, use `iteration_range` or model slicing instead.\n",
      "  warnings.warn(\n",
      "/home/panyu/miniconda3/envs/sci-data/lib/python3.9/site-packages/xgboost/core.py:122: UserWarning: ntree_limit is deprecated, use `iteration_range` or model slicing instead.\n",
      "  warnings.warn(\n"
     ]
    },
    {
     "name": "stdout",
     "output_type": "stream",
     "text": [
      "[0]\ttrain-auc:0.86606\teval-auc:0.80323\n",
      "[1]\ttrain-auc:0.86618\teval-auc:0.80371\n",
      "[2]\ttrain-auc:0.86639\teval-auc:0.80334\n",
      "[3]\ttrain-auc:0.86833\teval-auc:0.80700\n",
      "[4]\ttrain-auc:0.86953\teval-auc:0.80850\n",
      "[5]\ttrain-auc:0.87030\teval-auc:0.80703\n",
      "[6]\ttrain-auc:0.87045\teval-auc:0.80897\n",
      "[7]\ttrain-auc:0.87132\teval-auc:0.80891\n",
      "[8]\ttrain-auc:0.87185\teval-auc:0.80840\n",
      "[9]\ttrain-auc:0.87232\teval-auc:0.80919\n",
      "finish training & evaluation for P110\n",
      "start training & evaluation for P120\n"
     ]
    },
    {
     "name": "stderr",
     "output_type": "stream",
     "text": [
      "/home/panyu/miniconda3/envs/sci-data/lib/python3.9/site-packages/xgboost/core.py:122: UserWarning: ntree_limit is deprecated, use `iteration_range` or model slicing instead.\n",
      "  warnings.warn(\n",
      "/home/panyu/miniconda3/envs/sci-data/lib/python3.9/site-packages/xgboost/core.py:122: UserWarning: ntree_limit is deprecated, use `iteration_range` or model slicing instead.\n",
      "  warnings.warn(\n"
     ]
    },
    {
     "name": "stdout",
     "output_type": "stream",
     "text": [
      "[0]\ttrain-auc:0.86749\teval-auc:0.80573\n",
      "[1]\ttrain-auc:0.86894\teval-auc:0.80813\n",
      "[2]\ttrain-auc:0.87168\teval-auc:0.81147\n",
      "[3]\ttrain-auc:0.87130\teval-auc:0.81110\n",
      "[4]\ttrain-auc:0.87204\teval-auc:0.81138\n",
      "[5]\ttrain-auc:0.87288\teval-auc:0.81238\n",
      "[6]\ttrain-auc:0.87307\teval-auc:0.81247\n",
      "[7]\ttrain-auc:0.87456\teval-auc:0.81321\n",
      "[8]\ttrain-auc:0.87465\teval-auc:0.81352\n",
      "[9]\ttrain-auc:0.87529\teval-auc:0.81329\n",
      "finish training & evaluation for P120\n",
      "start training & evaluation for P030\n"
     ]
    },
    {
     "name": "stderr",
     "output_type": "stream",
     "text": [
      "/home/panyu/miniconda3/envs/sci-data/lib/python3.9/site-packages/xgboost/core.py:122: UserWarning: ntree_limit is deprecated, use `iteration_range` or model slicing instead.\n",
      "  warnings.warn(\n",
      "/home/panyu/miniconda3/envs/sci-data/lib/python3.9/site-packages/xgboost/core.py:122: UserWarning: ntree_limit is deprecated, use `iteration_range` or model slicing instead.\n",
      "  warnings.warn(\n"
     ]
    },
    {
     "name": "stdout",
     "output_type": "stream",
     "text": [
      "[0]\ttrain-auc:0.86763\teval-auc:0.81148\n",
      "[1]\ttrain-auc:0.86783\teval-auc:0.81252\n",
      "[2]\ttrain-auc:0.86930\teval-auc:0.81428\n",
      "[3]\ttrain-auc:0.86923\teval-auc:0.81399\n",
      "[4]\ttrain-auc:0.87068\teval-auc:0.81616\n",
      "[5]\ttrain-auc:0.87158\teval-auc:0.81628\n",
      "[6]\ttrain-auc:0.87157\teval-auc:0.81663\n",
      "[7]\ttrain-auc:0.87220\teval-auc:0.81669\n",
      "[8]\ttrain-auc:0.87259\teval-auc:0.81682\n",
      "[9]\ttrain-auc:0.87372\teval-auc:0.81766\n",
      "finish training & evaluation for P030\n",
      "start training & evaluation for P064\n"
     ]
    },
    {
     "name": "stderr",
     "output_type": "stream",
     "text": [
      "/home/panyu/miniconda3/envs/sci-data/lib/python3.9/site-packages/xgboost/core.py:122: UserWarning: ntree_limit is deprecated, use `iteration_range` or model slicing instead.\n",
      "  warnings.warn(\n",
      "/home/panyu/miniconda3/envs/sci-data/lib/python3.9/site-packages/xgboost/core.py:122: UserWarning: ntree_limit is deprecated, use `iteration_range` or model slicing instead.\n",
      "  warnings.warn(\n"
     ]
    },
    {
     "name": "stdout",
     "output_type": "stream",
     "text": [
      "[0]\ttrain-auc:0.86690\teval-auc:0.79918\n",
      "[1]\ttrain-auc:0.86748\teval-auc:0.80028\n",
      "[2]\ttrain-auc:0.87129\teval-auc:0.80443\n",
      "[3]\ttrain-auc:0.87210\teval-auc:0.80519\n",
      "[4]\ttrain-auc:0.87247\teval-auc:0.80560\n",
      "[5]\ttrain-auc:0.87279\teval-auc:0.80778\n",
      "[6]\ttrain-auc:0.87324\teval-auc:0.80721\n",
      "[7]\ttrain-auc:0.87326\teval-auc:0.80814\n",
      "[8]\ttrain-auc:0.87456\teval-auc:0.80904\n",
      "[9]\ttrain-auc:0.87490\teval-auc:0.80936\n",
      "finish training & evaluation for P064\n",
      "start training & evaluation for P123\n"
     ]
    },
    {
     "name": "stderr",
     "output_type": "stream",
     "text": [
      "/home/panyu/miniconda3/envs/sci-data/lib/python3.9/site-packages/xgboost/core.py:122: UserWarning: ntree_limit is deprecated, use `iteration_range` or model slicing instead.\n",
      "  warnings.warn(\n",
      "/home/panyu/miniconda3/envs/sci-data/lib/python3.9/site-packages/xgboost/core.py:122: UserWarning: ntree_limit is deprecated, use `iteration_range` or model slicing instead.\n",
      "  warnings.warn(\n"
     ]
    },
    {
     "name": "stdout",
     "output_type": "stream",
     "text": [
      "[0]\ttrain-auc:0.86770\teval-auc:0.80757\n",
      "[1]\ttrain-auc:0.87518\teval-auc:0.81667\n",
      "[2]\ttrain-auc:0.87579\teval-auc:0.81643\n",
      "[3]\ttrain-auc:0.87514\teval-auc:0.81549\n",
      "[4]\ttrain-auc:0.87740\teval-auc:0.81935\n",
      "[5]\ttrain-auc:0.87735\teval-auc:0.81945\n",
      "[6]\ttrain-auc:0.87872\teval-auc:0.82061\n",
      "[7]\ttrain-auc:0.87898\teval-auc:0.82070\n",
      "[8]\ttrain-auc:0.87884\teval-auc:0.82090\n",
      "[9]\ttrain-auc:0.87959\teval-auc:0.82157\n",
      "finish training & evaluation for P123\n",
      "start training & evaluation for P102\n"
     ]
    },
    {
     "name": "stderr",
     "output_type": "stream",
     "text": [
      "/home/panyu/miniconda3/envs/sci-data/lib/python3.9/site-packages/xgboost/core.py:122: UserWarning: ntree_limit is deprecated, use `iteration_range` or model slicing instead.\n",
      "  warnings.warn(\n",
      "/home/panyu/miniconda3/envs/sci-data/lib/python3.9/site-packages/xgboost/core.py:122: UserWarning: ntree_limit is deprecated, use `iteration_range` or model slicing instead.\n",
      "  warnings.warn(\n"
     ]
    },
    {
     "name": "stdout",
     "output_type": "stream",
     "text": [
      "[0]\ttrain-auc:0.86531\teval-auc:0.80419\n",
      "[1]\ttrain-auc:0.86951\teval-auc:0.80649\n",
      "[2]\ttrain-auc:0.87093\teval-auc:0.80613\n",
      "[3]\ttrain-auc:0.87257\teval-auc:0.80827\n",
      "[4]\ttrain-auc:0.87264\teval-auc:0.80880\n",
      "[5]\ttrain-auc:0.87234\teval-auc:0.80914\n",
      "[6]\ttrain-auc:0.87470\teval-auc:0.81110\n",
      "[7]\ttrain-auc:0.87601\teval-auc:0.81208\n",
      "[8]\ttrain-auc:0.87591\teval-auc:0.81233\n",
      "[9]\ttrain-auc:0.87684\teval-auc:0.81294\n",
      "finish training & evaluation for P102\n",
      "start training & evaluation for P014\n"
     ]
    },
    {
     "name": "stderr",
     "output_type": "stream",
     "text": [
      "/home/panyu/miniconda3/envs/sci-data/lib/python3.9/site-packages/xgboost/core.py:122: UserWarning: ntree_limit is deprecated, use `iteration_range` or model slicing instead.\n",
      "  warnings.warn(\n",
      "/home/panyu/miniconda3/envs/sci-data/lib/python3.9/site-packages/xgboost/core.py:122: UserWarning: ntree_limit is deprecated, use `iteration_range` or model slicing instead.\n",
      "  warnings.warn(\n"
     ]
    },
    {
     "name": "stdout",
     "output_type": "stream",
     "text": [
      "[0]\ttrain-auc:0.86526\teval-auc:0.80771\n",
      "[1]\ttrain-auc:0.86982\teval-auc:0.81115\n",
      "[2]\ttrain-auc:0.86950\teval-auc:0.81108\n",
      "[3]\ttrain-auc:0.87025\teval-auc:0.81281\n",
      "[4]\ttrain-auc:0.87164\teval-auc:0.81344\n",
      "[5]\ttrain-auc:0.87229\teval-auc:0.81339\n",
      "[6]\ttrain-auc:0.87363\teval-auc:0.81472\n",
      "[7]\ttrain-auc:0.87365\teval-auc:0.81425\n",
      "[8]\ttrain-auc:0.87403\teval-auc:0.81486\n",
      "[9]\ttrain-auc:0.87486\teval-auc:0.81514\n",
      "finish training & evaluation for P014\n",
      "TOTAL All round, ROCAUC0.825916831180945, LOGLOSS0.661527247162228, ACCURACY0.771644666375924, PRECISION0.7516603121867664, RECALL0.7489299423638569, F1 MACRO0.7406744663970295, F1 POSITIVE LABEL0.659799175224743,\n",
      "\n"
     ]
    },
    {
     "name": "stderr",
     "output_type": "stream",
     "text": [
      "/home/panyu/miniconda3/envs/sci-data/lib/python3.9/site-packages/xgboost/core.py:122: UserWarning: ntree_limit is deprecated, use `iteration_range` or model slicing instead.\n",
      "  warnings.warn(\n",
      "/home/panyu/miniconda3/envs/sci-data/lib/python3.9/site-packages/xgboost/core.py:122: UserWarning: ntree_limit is deprecated, use `iteration_range` or model slicing instead.\n",
      "  warnings.warn(\n"
     ]
    }
   ],
   "source": [
    "import xgboost as xgb\n",
    "import random\n",
    "from sklearn.metrics import (roc_auc_score, precision_recall_fscore_support,\n",
    "                             log_loss, accuracy_score, f1_score, precision_score,\n",
    "                             recall_score, roc_curve, auc)\n",
    "import numpy as np\n",
    "import os\n",
    "import pickle\n",
    "import ray\n",
    "import pandas as pd\n",
    "from sklearn.datasets import load_svmlight_file\n",
    "from xgboost import DMatrix\n",
    "\n",
    "\n",
    "def mkdir(path):\n",
    "    path = path.strip()\n",
    "    isExists = os.path.exists(path)\n",
    "    if not isExists:\n",
    "        os.makedirs(path)\n",
    "        return True\n",
    "    else:\n",
    "        return False\n",
    "\n",
    "def find_best_threshold(y_true, y_probs):\n",
    "    best_threshold = 0\n",
    "    best_f1 = 0\n",
    "    thresholds = np.arange(0, 1.01, 0.01)\n",
    "    for threshold in thresholds:\n",
    "        y_pred = (y_probs > threshold).astype(int)\n",
    "        current_f1 = f1_score(y_true, y_pred)\n",
    "        if current_f1 > best_f1:\n",
    "            best_f1 = current_f1\n",
    "            best_threshold = threshold\n",
    "    return best_threshold\n",
    "\n",
    "random.seed(seed)\n",
    "\n",
    "folder = PATH_RESULTS\n",
    "mkdir(folder)\n",
    "data_folder = PATH_SAVE_STEPS\n",
    "\n",
    "final_total_auc = np.empty(0)\n",
    "final_total_logloss = np.empty(0)\n",
    "final_total_f1_macro = np.empty(0)\n",
    "final_total_f1_pos_label = np.empty(0)\n",
    "final_total_accuracy = np.empty(0)\n",
    "final_total_precision = np.empty(0)\n",
    "final_total_recall = np.empty(0)\n",
    "train_aucs = []\n",
    "test_aucs = []\n",
    "\n",
    "\n",
    "\n",
    "# @ray.remote\n",
    "def train_and_evaluate(subject, param, data_folder):\n",
    "\n",
    "    print(\"start training & evaluation for {}\".format(subject))\n",
    "\n",
    "\n",
    "    # Convert data to DMatrix format for XGBoost\n",
    "    dtrain = xgb.DMatrix(data_folder + '{}_train.data'.format(subject))\n",
    "    dtest = xgb.DMatrix(data_folder + '{}_val.data'.format(subject))\n",
    "    deval = xgb.DMatrix(data_folder + '{}_eval.data'.format(subject))\n",
    "    \n",
    "\n",
    "    evallist = [(dtrain, 'train'), (deval, 'eval')]\n",
    "\n",
    "    # Train the model using standard xgboost\n",
    "    bst = xgb.train(param, dtrain, evals=evallist, early_stopping_rounds=10)\n",
    "    \n",
    "    y_real = dtest.get_label()  # Use the labels directly\n",
    "    y_score = bst.predict(dtest,ntree_limit=bst.best_ntree_limit)\n",
    "#     y_score = bst.predict(dtest)\n",
    "#     best_threshold = find_best_threshold(y_real, y_score)\n",
    "#     y_pred = [1 if score >= best_threshold else 0 for score in y_score]\n",
    "    y_pred = [1 if score >= 0.5 else 0 for score in y_score]\n",
    "\n",
    "    all_roc_auc = roc_auc_score(y_true=y_real, y_score=y_score, average=None)\n",
    "    all_logloss = log_loss(y_real, y_score)\n",
    "    accuracy = accuracy_score(y_real, y_pred)\n",
    "\n",
    "    pre, rec, f1, _ = precision_recall_fscore_support(y_true=y_real, y_pred=y_pred, pos_label=1, average='macro', zero_division=0)\n",
    "    precision = pre\n",
    "    recall = rec\n",
    "    f1_macro = f1\n",
    "\n",
    "    _, _, f1_pos, _ = precision_recall_fscore_support(y_true=y_real, y_pred=y_pred, pos_label=1, average='binary', zero_division=0)\n",
    "    f1_pos_label = f1_pos\n",
    "    print(\"finish training & evaluation for {}\".format(subject))\n",
    "\n",
    "#     return subject, all_roc_auc, all_logloss, accuracy, precision, recall, f1_macro, f1_pos_label\n",
    "\n",
    "    ###############################\n",
    "    # Compute training AUC\n",
    "    y_train_real = dtrain.get_label()\n",
    "    y_train_score = bst.predict(dtrain, ntree_limit=bst.best_ntree_limit)\n",
    "    train_auc = roc_auc_score(y_true=y_train_real, y_score=y_train_score)\n",
    "    \n",
    "    test_auc = all_roc_auc\n",
    "\n",
    "    return subject, train_auc, test_auc, all_logloss, accuracy, precision, recall, f1_macro, f1_pos_label\n",
    " \n",
    "with on_ray():\n",
    "    results = [train_and_evaluate(subject, param, data_folder) for subject in set(all_groups)]\n",
    "#     futures = [train_and_evaluate.remote(subject, param, data_folder) for subject in combined_similarity['pcode'].unique()]\n",
    "#     results = ray.get(futures)\n",
    "\n",
    "    for result in results:\n",
    "         #Retrieving training AUC\n",
    "        subject, train_auc, test_auc, all_logloss, accuracy, precision, recall, f1_macro, f1_pos_label = result\n",
    "        train_aucs.append(train_auc)\n",
    "        test_aucs.append(test_auc)\n",
    "        \n",
    "#         subject, all_roc_auc, all_logloss, accuracy, precision, recall, f1_macro, f1_pos_label = result\n",
    "        # Append to final metric arrays\n",
    "#         final_total_auc = np.append(final_total_auc, all_roc_auc)\n",
    "\n",
    "        final_total_logloss = np.append(final_total_logloss, all_logloss)\n",
    "        final_total_accuracy = np.append(final_total_accuracy, accuracy)\n",
    "        final_total_precision = np.append(final_total_precision, precision)\n",
    "        final_total_recall = np.append(final_total_recall, recall)\n",
    "        final_total_f1_macro = np.append(final_total_f1_macro, f1_macro)\n",
    "        final_total_f1_pos_label = np.append(final_total_f1_pos_label, f1_pos_label)\n",
    "\n",
    "    print(\"TOTAL All round, ROCAUC{}, LOGLOSS{}, ACCURACY{}, PRECISION{}, RECALL{}, F1 MACRO{}, F1 POSITIVE LABEL{},\\n\".format(np.mean(test_aucs), np.mean(final_total_logloss), np.mean(final_total_accuracy), np.mean(final_total_precision), np.mean(final_total_recall), np.mean(final_total_f1_macro), np.mean(final_total_f1_pos_label)))"
   ]
  },
  {
   "cell_type": "code",
   "execution_count": 14,
   "id": "55e1abba",
   "metadata": {},
   "outputs": [
    {
     "data": {
      "image/png": "[encoded data removed]",
      "text/plain": [
       "<Figure size 1000x600 with 1 Axes>"
      ]
     },
     "metadata": {},
     "output_type": "display_data"
    }
   ],
   "source": [
    "import seaborn as sns\n",
    "import matplotlib.pyplot as plt\n",
    "import numpy as np\n",
    "\n",
    "# Assuming 'train_aucs' and 'test_aucs' are lists of AUC scores\n",
    "splits = np.arange(len(train_aucs))  # Assuming splits are sequential and equal to the length of AUC lists\n",
    "\n",
    "# Prepare a DataFrame for Seaborn\n",
    "data = pd.DataFrame({\n",
    "    'Split': np.concatenate([splits, splits]),  # Double the splits for train and test\n",
    "    'AUC': np.concatenate([train_aucs, test_aucs]),  # Combine AUC scores\n",
    "    'Type': ['Train']*len(train_aucs) + ['Test']*len(test_aucs)  # Label types\n",
    "})\n",
    "\n",
    "# Calculate the average values for training and test AUCs\n",
    "avg_train_auc = sum(train_aucs) / len(train_aucs)\n",
    "avg_test_auc = sum(test_aucs) / len(test_aucs)\n",
    "\n",
    "# Set up the matplotlib figure\n",
    "plt.figure(figsize=(10, 6))\n",
    "\n",
    "# Set the color palette to black and white\n",
    "palette = sns.color_palette(\"gray\", n_colors=2)\n",
    "\n",
    "# Draw a line plot with Seaborn\n",
    "sns.lineplot(data=data, x='Split', y='AUC', hue='Type', style='Type', markers=True, dashes=False, palette=palette)\n",
    "\n",
    "# Add average lines for Train and Test AUCs\n",
    "plt.axhline(y=avg_train_auc, color='black', linestyle='--', label=f\"Average Train AUC: {avg_train_auc:.2f}\")\n",
    "plt.axhline(y=avg_test_auc, color='black', linestyle='--', label=f\"Average Test AUC: {avg_test_auc:.2f}\")\n",
    "\n",
    "# Line for random chance performance\n",
    "plt.axhline(y=0.5, color='gray', linestyle='--', label=\"Random\")\n",
    "\n",
    "# Customize the axes and title\n",
    "plt.xlabel('Split')\n",
    "plt.ylabel('AUC')\n",
    "plt.title('Training and Test AUC for All Splits')\n",
    "\n",
    "# Show the legend and customize it to not show the color guide\n",
    "plt.legend(title='Type')\n",
    "\n",
    "# Set the ylim to standardize the AUC view\n",
    "plt.ylim([0, 1])\n",
    "\n",
    "# Display the plot\n",
    "plt.show()\n"
   ]
  },
  {
   "cell_type": "code",
   "execution_count": 15,
   "id": "6a165d24",
   "metadata": {},
   "outputs": [
    {
     "data": {
      "image/png": "[encoded data removed]",
      "text/plain": [
       "<Figure size 1000x600 with 1 Axes>"
      ]
     },
     "metadata": {},
     "output_type": "display_data"
    }
   ],
   "source": [
    "import matplotlib.pyplot as plt\n",
    "\n",
    "# Calculate the average values for training and test AUCs\n",
    "avg_train_auc = sum(train_aucs) / len(train_aucs)\n",
    "avg_test_auc = sum(test_aucs) / len(test_aucs)\n",
    "\n",
    "plt.figure(figsize=(10, 6))\n",
    "plt.plot(train_aucs, label=\"Train AUC\", marker='o')\n",
    "plt.plot(test_aucs, label=\"Test AUC\", marker='x')\n",
    "\n",
    "# Add average lines for Train and Test AUCs\n",
    "plt.axhline(y=avg_train_auc, color='blue', linestyle='--', label=f\"Average Train AUC: {avg_train_auc:.2f}\")\n",
    "plt.axhline(y=avg_test_auc, color='orange', linestyle='--', label=f\"Average Test AUC: {avg_test_auc:.2f}\")\n",
    "\n",
    "# Line for random\n",
    "plt.axhline(y=0.5, color='gray', linestyle='--', label=\"Random\")\n",
    "\n",
    "plt.xlabel('Split')\n",
    "plt.ylabel('AUC')\n",
    "plt.title('Training and Test AUC for All Splits')\n",
    "plt.legend()\n",
    "plt.grid(True)\n",
    "plt.ylim([0, 1])\n",
    "plt.show()\n"
   ]
  },
  {
   "cell_type": "code",
   "execution_count": null,
   "id": "c3352afc",
   "metadata": {},
   "outputs": [],
   "source": []
  },
  {
   "cell_type": "code",
   "execution_count": null,
   "id": "e9824212",
   "metadata": {},
   "outputs": [],
   "source": []
  }
 ],
 "metadata": {
  "kernelspec": {
   "display_name": "Python 3 (ipykernel)",
   "language": "python",
   "name": "python3"
  },
  "language_info": {
   "codemirror_mode": {
    "name": "ipython",
    "version": 3
   },
   "file_extension": ".py",
   "mimetype": "text/x-python",
   "name": "python",
   "nbconvert_exporter": "python",
   "pygments_lexer": "ipython3",
   "version": "3.9.15"
  }
 },
 "nbformat": 4,
 "nbformat_minor": 5
}
